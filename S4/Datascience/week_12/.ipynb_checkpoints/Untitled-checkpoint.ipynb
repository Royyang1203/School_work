{
 "cells": [
  {
   "cell_type": "code",
   "execution_count": 1,
   "id": "87d44a32",
   "metadata": {},
   "outputs": [
    {
     "data": {
      "text/plain": [
       "'C:\\\\ProgramData\\\\Anaconda3\\\\Lib\\\\site-packages\\\\matplotlib\\\\mpl-data\\\\fonts\\\\ttf\\\\DejaVuSans.ttf'"
      ]
     },
     "execution_count": 1,
     "metadata": {},
     "output_type": "execute_result"
    }
   ],
   "source": [
    "from matplotlib.font_manager import findfont, FontProperties\n",
    "findfont(FontProperties(family=FontProperties().get_family()))"
   ]
  },
  {
   "cell_type": "code",
   "execution_count": null,
   "id": "f505d811",
   "metadata": {},
   "outputs": [],
   "source": [
    "import matplotlib.pyplot as plt\n",
    "import pandas as pd\n",
    "import numpy as np\n",
    "\n",
    "\n",
    "plt.rcParams['font.sans-serif']=['Microsoft JhengHei'] # 自訂字體\n",
    "plt.rcParams['axes.unicode_minus']=False # 為了正常顯示正負號\n",
    "\n",
    "df = pd.read_csv(\"data.csv\", encoding= 'ANSI')\n",
    "\n",
    "# print(df.columns[1:])\n",
    "# print(df.iloc[0, 1:])\n",
    "\n",
    "fig = plt.figure(figsize = (16, 16), facecolor = \"lightblue\")  \n",
    "\n",
    "ax1 = fig.add_subplot(221)\n",
    "ax1.plot(df.iloc[0, 1:], \"b-\")\n",
    "plt.xticks(rotation = 90)\n",
    "plt.xlabel(df.columns[0])\n",
    "plt.ylabel(df.iloc[0, 0])\n",
    "\n",
    "ax2 = fig.add_subplot(222)\n",
    "ax2.bar(df.columns[1:], df.iloc[0, 1:])\n",
    "plt.xticks(rotation = 90)\n",
    "plt.xlabel(df.columns[0])\n",
    "plt.ylabel(df.iloc[0, 0])\n",
    "\n",
    "ax3 = fig.add_subplot(223)\n",
    "ax3.barh(df.columns[1:], df.iloc[0, 1:])\n",
    "plt.ylabel(df.columns[0])\n",
    "plt.xlabel(df.iloc[0, 0])\n",
    "\n",
    "\n",
    "ax4 = fig.add_subplot(224)\n",
    "ax4.pie(df.iloc[0, 1:], labels=df.columns[1:], autopct = \"%1.1f%%\")\n",
    "fig.savefig(\"week12_hw1.png\")"
   ]
  }
 ],
 "metadata": {
  "kernelspec": {
   "display_name": "Python 3 (ipykernel)",
   "language": "python",
   "name": "python3"
  },
  "language_info": {
   "codemirror_mode": {
    "name": "ipython",
    "version": 3
   },
   "file_extension": ".py",
   "mimetype": "text/x-python",
   "name": "python",
   "nbconvert_exporter": "python",
   "pygments_lexer": "ipython3",
   "version": "3.9.7"
  }
 },
 "nbformat": 4,
 "nbformat_minor": 5
}
