{
 "cells": [
  {
   "cell_type": "markdown",
   "metadata": {},
   "source": [
    "<h1 style=\"color:blue;text-align:center\">Introduction to python </h1>\n",
    "<h3 style=\"color:blue;text-align:center\"> Chih-Hung Lai </h3>\n",
    "<h3 style=\"text-align:center\"> Created date: 2018   &emsp; Last modified date: 2022.03.03 </h3>"
   ]
  },
  {
   "cell_type": "markdown",
   "metadata": {},
   "source": [
    "<h2 style=\"color:blue\"> Content of Table </h2>\n",
    "\n",
    "1. Introduction   \n",
    " 1.1 Software installation  \n",
    " 1.2 Online resource  \n",
    " 1.3 Introduction to Jupyter Notebooks  \n",
    " 1.4 Markdown  \n",
    " 1.5 pip  \n",
    "2. Get started\n",
    "3. Basic I / O  \n",
    " 3.1 print( ) function  \n",
    " 3.2 Input( ) function  \n",
    "4. Chinese encoding problem\n",
    "5. Basic data types  \n",
    " 5.1 Number and Bool  \n",
    " 5.2 String  \n",
    " 5.3 Type conversion (Casting)  \n",
    "6. Control flow  \n",
    " 6.1 if else  \n",
    " 6.2 while loop \n",
    " 6.3 for loop  \n",
    "7. Advanced data types: list, tuple, dict, set  \n",
    " 7.1 List  \n",
    " 7.2 Tuple    \n",
    " 7.3 Dictionary\n",
    "8. Module\n",
    "9. Random  \n",
    "10. Function\n",
    "11. Comprehension  \n",
    " 11.1 List Comprehension  \n",
    " 11.2 Set Comprehension  \n",
    " 11.3 Dict Comprehension"
   ]
  },
  {
   "cell_type": "markdown",
   "metadata": {},
   "source": [
    "# 1. Introduction"
   ]
  },
  {
   "cell_type": "markdown",
   "metadata": {},
   "source": [
    "## 1.1 Software installation"
   ]
  },
  {
   "cell_type": "markdown",
   "metadata": {},
   "source": [
    "- The download URL for Anaconda is:  \n",
    "  https://www.continuum.io/downloads  \n",
    "  https://www.anaconda.com/distribution/\n",
    " \n",
    "- Remember: If there is an \"Advanced Options\" page in the Windows installation process\n",
    "     Mark both\n",
    "      ◉ Add Anaconda to my PATH environment variable\n",
    "      ◉ Register Anaconda as my default Python 3.x\n",
    "    - If unchecked, it should be added to the paht variable in the operating system: C: \\ Users \\ laich \\ Anaconda3 \\ Scripts, 'laich' should be changed to the real username\n",
    "  \n",
    "  "
   ]
  },
  {
   "cell_type": "markdown",
   "metadata": {},
   "source": [
    "## 1.2 Online resource\n"
   ]
  },
  {
   "cell_type": "markdown",
   "metadata": {},
   "source": [
    "- Multiple languages:\n",
    "    - http://ideone.com/\n",
    "    - http://www.tutorialspoint.com/codingground.htm\n",
    "    - https://repl.it/languages/ \n",
    "        - (recommended) Program files can be written in the left window, and single-line execution in the right window\n",
    "\n",
    "- python 3:\n",
    "    - http://pythonfiddle.com\n",
    "    - https://docs.python.org/3.6/tutorial/index.html\n",
    "    - https://www.tutorialspoint.com/python3/index.htm\n",
    "\n",
    "- Python online resources:\n",
    "    - Python w3schools: https://www.w3schools.com/python/default.asp\n",
    "    - Python Online Handbook: https://docs.python.org/\n",
    "    - python documentation: https://docs.python.org/3/tutorial/index.html\n",
    "    - python suite (packaged index): http://pypi.python.org/pypi\n",
    "- Community\n",
    "    - python community:\n",
    "        - http://www.python.org.tw\n",
    "    - Facebook's Python Taiwan Community\n",
    "        - https://www.facebook.com/groups/pythontw/\n",
    "\n"
   ]
  },
  {
   "cell_type": "markdown",
   "metadata": {},
   "source": [
    "## 1.3 Introduction to Jupyter Notebooks"
   ]
  },
  {
   "cell_type": "markdown",
   "metadata": {},
   "source": [
    "### Jupyter Notebook Users Manual\n",
    "\n",
    "- https://jupyter.brynmawr.edu/services/public/dblank/Jupyter%20Notebook%20Users%20Manual.ipynb#2.2-Markdown-Cells"
   ]
  },
  {
   "cell_type": "markdown",
   "metadata": {},
   "source": [
    "#### * Create jupyter.bat file \n",
    "1. Open a text editor\n",
    "2. Enter Jupiter Notebook and save it as Jupiter.bat\n",
    "3. Copy the file to the directory you want to program  \n",
    "\n",
    "\n",
    "- How to use:\n",
    "    - Double-click this file (jupyter.bat) in the file manager\n",
    "\n"
   ]
  },
  {
   "cell_type": "markdown",
   "metadata": {},
   "source": [
    "#### * Several useful keyboard shortcuts for Jupiter notebook (use ESC and then press H, a list of keyboard shortcuts will appear)\n",
    "\n",
    "* Ctrl + enter: execute the current\n",
    "* alt + enter: execute the current cell and add a new cell\n",
    "* shift + enter: execute the cell and go to the next cell (do not add)\n",
    "* esc + a: add a cell above\n",
    "* esc + b: add a cell below\n",
    "* esc + d + d (d press twice): remove cell"
   ]
  },
  {
   "cell_type": "markdown",
   "metadata": {},
   "source": [
    "## 1.4 Markdown Syntax\n",
    "* See another file for details"
   ]
  },
  {
   "cell_type": "markdown",
   "metadata": {},
   "source": [
    "### * Add links:"
   ]
  },
  {
   "cell_type": "markdown",
   "metadata": {},
   "source": [
    "[link](http://www.google.com)"
   ]
  },
  {
   "cell_type": "markdown",
   "metadata": {},
   "source": [
    "### * How to add pictures:"
   ]
  },
  {
   "cell_type": "markdown",
   "metadata": {},
   "source": [
    "![logo](https://www.ndhu.edu.tw/var/file/0/1000/img/8/LOGO_NDHU.png)\n",
    "![Donghua University logo](images/NDHU_logo.png)\n",
    "<img src = \"https://www.ndhu.edu.tw/var/file/0/1000/img/8/LOGO_NDHU.png\" height = \"150\" width = \"300\">"
   ]
  },
  {
   "cell_type": "markdown",
   "metadata": {},
   "source": [
    "### 1.5 pip"
   ]
  },
  {
   "cell_type": "code",
   "execution_count": 5,
   "metadata": {},
   "outputs": [
    {
     "name": "stdout",
     "output_type": "stream",
     "text": [
      "Requirement already satisfied: pytube in c:\\programdata\\anaconda3\\lib\\site-packages (12.0.0)\n"
     ]
    }
   ],
   "source": [
    "!pip install pytube"
   ]
  },
  {
   "cell_type": "markdown",
   "metadata": {},
   "source": [
    "If the program of a certain cell is executed, an asterisk always appears in In [*], and the execution can not be completed. You can run the Kernel again.\n",
    "i.e. press the button on the toolbar"
   ]
  },
  {
   "cell_type": "code",
   "execution_count": 6,
   "metadata": {},
   "outputs": [
    {
     "name": "stdout",
     "output_type": "stream",
     "text": [
      "Python 3.9.7\n"
     ]
    }
   ],
   "source": [
    "! python -V # see python version"
   ]
  },
  {
   "cell_type": "markdown",
   "metadata": {},
   "source": [
    "## 2. Get started"
   ]
  },
  {
   "cell_type": "markdown",
   "metadata": {},
   "source": [
    "* website for python written specification\n",
    "  https://www.python.org/dev/peps/pep-0008/\n",
    "  \n",
    "* Immediate documentation:\n",
    "  - help(xxx)\n",
    "      - help(print)"
   ]
  },
  {
   "cell_type": "code",
   "execution_count": 7,
   "metadata": {},
   "outputs": [
    {
     "name": "stdout",
     "output_type": "stream",
     "text": [
      "Help on built-in function round in module builtins:\n",
      "\n",
      "round(number, ndigits=None)\n",
      "    Round a number to a given precision in decimal digits.\n",
      "    \n",
      "    The return value is an integer if ndigits is omitted or None.  Otherwise\n",
      "    the return value has the same type as the number.  ndigits may be negative.\n",
      "\n"
     ]
    }
   ],
   "source": [
    "help(round)"
   ]
  },
  {
   "cell_type": "markdown",
   "metadata": {},
   "source": [
    "* Identation:\n",
    " * means section instead of { },\n",
    " * use tab or 4 spaces\n",
    " * : means beginning of section \n",
    "\t  \n",
    "* Comment  \n",
    "   - a single line comment\n",
    "       - use a pound sign # before the docstring\n",
    "  \n",
    "   - multiple lines\n",
    "       - Use three single quotes for multiple lines, or three double quotes\n",
    "           - ''' \n",
    "           - docstring\n",
    "           - '''\n",
    "\n",
    "* Idendifiers are case sensitive\n",
    "   \n",
    "* line ends are not required;\n",
    "    - But you can use a semicolon ; to separate two statements when there are more than two statements on the same line\n",
    " \n",
    "* Strings can be surrounded by single or double quotes\n",
    "\n",
    "* Python variable name rules:\n",
    " * The first word at the beginning can not be a number, you can use uppercase and lowercase letters or _\n",
    " * Cannot start with a digit\n",
    " * Cannot have the same name as a built-in keyword"
   ]
  },
  {
   "cell_type": "markdown",
   "metadata": {},
   "source": [
    "###  Suggested idendifier names\n",
    "\n",
    "* Variables: start with a noun, the first character is lowercase, and the first character after the second character is uppercase (lowercase)\n",
    "* Function or method: start with the verb, the first word is lowercase, the first word after the second word is uppercase (lowercase)\n",
    "* class name: start with a noun, capitalize the first word, capitalize the first word after the second word (capital camel letters)"
   ]
  },
  {
   "cell_type": "markdown",
   "metadata": {},
   "source": [
    "### Variables\n",
    "\n",
    "- Variables are containers for storing data values.\n",
    "- No command for declaring a variable.\n",
    "- A variable is created the moment you first assign a value to it.\n",
    "- Data type of variables are mutable"
   ]
  },
  {
   "cell_type": "code",
   "execution_count": 8,
   "metadata": {},
   "outputs": [
    {
     "name": "stdout",
     "output_type": "stream",
     "text": [
      "30\n",
      "<class 'int'>\n",
      "abc\n",
      "<class 'str'>\n"
     ]
    }
   ],
   "source": [
    "a = 10; b = 20  # assign values to variables\n",
    "print(a+b)\n",
    "print(type(a))\n",
    "\n",
    "a = 'abc'\n",
    "print(a)\n",
    "print(type(a))"
   ]
  },
  {
   "cell_type": "code",
   "execution_count": 9,
   "metadata": {},
   "outputs": [
    {
     "name": "stdout",
     "output_type": "stream",
     "text": [
      "20\n"
     ]
    }
   ],
   "source": [
    "a = 10; b = 20\n",
    "if a > b:\n",
    "    print(a)\n",
    "else:\n",
    "    print(b)"
   ]
  },
  {
   "cell_type": "code",
   "execution_count": 10,
   "metadata": {},
   "outputs": [
    {
     "name": "stdout",
     "output_type": "stream",
     "text": [
      "I like python!\n",
      "I like python!\n",
      "\n"
     ]
    }
   ],
   "source": [
    "string = '''I like python!\n",
    "I like python!\n",
    "'''\n",
    "\n",
    "print(string)"
   ]
  },
  {
   "cell_type": "markdown",
   "metadata": {},
   "source": [
    "# 3. Basic I / O"
   ]
  },
  {
   "cell_type": "markdown",
   "metadata": {},
   "source": [
    "## 3.1 print( ) function"
   ]
  },
  {
   "cell_type": "markdown",
   "metadata": {},
   "source": [
    "### print(...)\n",
    "\n",
    "- print a message onto the screen"
   ]
  },
  {
   "cell_type": "code",
   "execution_count": 11,
   "metadata": {},
   "outputs": [
    {
     "name": "stdout",
     "output_type": "stream",
     "text": [
      "Hi, world!\n",
      "100\n",
      "100 200\n"
     ]
    }
   ],
   "source": [
    "print(\"Hi, world!\")\n",
    "print(100)\n",
    "a = 100; b = 200\n",
    "print(a, b)"
   ]
  },
  {
   "cell_type": "markdown",
   "metadata": {},
   "source": [
    "### Syntax\n",
    "\n",
    "#### print(value, ..., sep=' ', end='\\n')\n",
    "\n",
    "- sep='separator'\n",
    "    - The parameter is optional. \n",
    "    - Specify how to separate the objects, if there is more than one. \n",
    "    - Default is ' ' (whitespace)\n",
    "- end='end'\n",
    "    - Specify what to print at the end. \n",
    "    - Default is '\\n' (line feed)"
   ]
  },
  {
   "cell_type": "code",
   "execution_count": 12,
   "metadata": {},
   "outputs": [
    {
     "name": "stdout",
     "output_type": "stream",
     "text": [
      "5 10 15\n",
      "15 10 5\n",
      "a+b= 15\n"
     ]
    }
   ],
   "source": [
    "a, b, c = 5, 10, 15\n",
    "\n",
    "print(a, b, c)\n",
    "print(c, b, a)\n",
    "\n",
    "print('a+b=', a+b)"
   ]
  },
  {
   "cell_type": "code",
   "execution_count": 13,
   "metadata": {},
   "outputs": [
    {
     "name": "stdout",
     "output_type": "stream",
     "text": [
      "5\n",
      "10\n",
      "15\n",
      "\n",
      "5 105 10\n"
     ]
    }
   ],
   "source": [
    "print(a,b,c, sep=\"\\n\")\n",
    "\n",
    "print()\n",
    "print (a, b, end = \"\") # will not wrap after printing\n",
    "print (a, b) "
   ]
  },
  {
   "cell_type": "code",
   "execution_count": 14,
   "metadata": {},
   "outputs": [
    {
     "name": "stdout",
     "output_type": "stream",
     "text": [
      "5 $10 $15\t15 10 5\n",
      "\n"
     ]
    }
   ],
   "source": [
    "print(a, b, c, sep=' $', end='\\t')\n",
    "print(c, b, a)\n",
    "\n",
    "print()"
   ]
  },
  {
   "cell_type": "code",
   "execution_count": 15,
   "metadata": {},
   "outputs": [
    {
     "name": "stdout",
     "output_type": "stream",
     "text": [
      "a+b=15\n",
      "a+b=15\n"
     ]
    }
   ],
   "source": [
    "# 2 ways to remove blank between docstrings\n",
    "print('a+b=', a+b, sep = '')   # nothing inside the single quates\n",
    "print('a+b=' + str(a+b))"
   ]
  },
  {
   "cell_type": "markdown",
   "metadata": {},
   "source": [
    "### Formatting output:\n",
    "- Old format: similar to the way of C language\n",
    "    - use %d, %f and other reserved positions, and then replace it with the expression after the \"%\" \n",
    "    - disadvantage: the data type to be applied must be memorized, for example the integer is %d   \n",
    "    \n",
    "     \n",
    "- New format: use string.format( ) method and placeholder '{ }'\n",
    "    - use { } to reserve the position and replace it with the expression after \".format\"\n",
    "     "
   ]
  },
  {
   "cell_type": "code",
   "execution_count": 16,
   "metadata": {},
   "outputs": [
    {
     "name": "stdout",
     "output_type": "stream",
     "text": [
      "Name  ID  Chi Math Eng\n",
      "  Lin   1 100  87  79\n",
      " Chen   2  74  88 100\n",
      "Zhang  11  82  65   8\n",
      "\n",
      "2 + 3 + 4 = 9\n"
     ]
    }
   ],
   "source": [
    "# old format\n",
    "\n",
    "print(\"Name  ID  Chi Math Eng\")\n",
    "print(\"%5s% 4d% 4d% 4d% 4d\" % (\"Lin\", 1, 100, 87, 79))\n",
    "print(\"%5s% 4d% 4d% 4d% 4d\" % (\"Chen\", 2, 74, 88, 100))\n",
    "print(\"%5s% 4d% 4d% 4d% 4d\" % (\"Zhang\", 11, 82, 65, 8))\n",
    "print()\n",
    "a = 2; b = 3; c = 4\n",
    "print(a, \"+\", b, \"+\", c, \"=\", a + b + c)"
   ]
  },
  {
   "cell_type": "code",
   "execution_count": 17,
   "metadata": {},
   "outputs": [
    {
     "name": "stdout",
     "output_type": "stream",
     "text": [
      "PI = 000003\n",
      "Hello, John! my name is Richard!\n",
      "the length of 'Hello World' is 11\n"
     ]
    }
   ],
   "source": [
    "# old format \n",
    "\n",
    "import math\n",
    "a, b = 'John', 'Richard'\n",
    "print(\"PI = %06d\" % int(math.pi))       # %06d means 6 places and replace blank with the char '0'\n",
    "print(\"Hello, %s! my name is %s!\" % (a, b))\n",
    "print(\"the length of '%s' is %d\" % ('Hello World', len('Hello World')))"
   ]
  },
  {
   "cell_type": "code",
   "execution_count": 18,
   "metadata": {},
   "outputs": [
    {
     "name": "stdout",
     "output_type": "stream",
     "text": [
      "10 + 20 = 30\n",
      "b = 20, a = 10, 10 + 20 = 30\n"
     ]
    }
   ],
   "source": [
    "# new format\n",
    "\n",
    "a = 10; b = 20\n",
    "\n",
    "# based on the sequence\n",
    "print (\"{} + {} = {}\".format(a, b, a + b)) # {} will be replaced with the expression followed by '.format'\n",
    "\n",
    "# use index numbers\n",
    "print (\"b = {1}, a = {0}, {0} + {1} = {2}\".format(a, b, a+b))"
   ]
  },
  {
   "cell_type": "markdown",
   "metadata": {},
   "source": [
    "### Numeric formatting & alignment\n",
    "\n",
    "- Inside the placeholders you can add a formatting type to format the result\n",
    "- field size\n",
    "    - {:10}\n",
    "- significant figures\n",
    "    - {:.3}\n",
    "    - {:10.3}\n",
    "- the number of decimal place \n",
    "    - {:.2f}\n",
    "\n",
    "- replace whitespace with character\n",
    "    - {:$10}\n",
    "    \n",
    "\n",
    "\n",
    "- alignment\n",
    "    - by default strings are left-justified within the field, and numbers are right-justified\n",
    "    - :> right aligns the results\n",
    "    - :< left\n",
    "    - :^ center\n",
    "- whitespace\n",
    "    - By default, when we make a field larger with formatters, Python will fill the field with whitespace characters. \n",
    "    - We can modify that to be a different character by specifying the character we want it to be directly following the colon\n",
    "        - :$\n",
    "    \n",
    "- other formatting type can refer to\n",
    "    - https://www.w3schools.com/python/ref_string_format.asp "
   ]
  },
  {
   "cell_type": "code",
   "execution_count": 19,
   "metadata": {},
   "outputs": [
    {
     "name": "stdout",
     "output_type": "stream",
     "text": [
      "1234567890 1234567890 1234567890\n",
      "    3.4567+    1.2345=    4.6912\n",
      "3.46\n",
      "      3.46\n",
      "3.457\n",
      "     3.457\n"
     ]
    }
   ],
   "source": [
    "a, b = 3.4567, 1.2345\n",
    "print('1234567890 1234567890 1234567890')\n",
    "print('{:10}+{:10}={:10}'.format(a, b, a+b))  # reserved grids\n",
    "print('{:.3}'.format(a))       # significant figures\n",
    "print('{:10.3}'.format(a))     # field size & significant figures\n",
    "print('{:.3f}'.format(a))      # the number of decimal places\n",
    "print('{:10.3f}'.format(a))    # field size & the number of decimal places"
   ]
  },
  {
   "cell_type": "code",
   "execution_count": 20,
   "metadata": {},
   "outputs": [
    {
     "name": "stdout",
     "output_type": "stream",
     "text": [
      "12345678901234567890\n",
      "    3.4567\n",
      " 3.4567   \n",
      "  3.4567  \n",
      "$$$$3.4567\n",
      "$$3.5\n"
     ]
    }
   ],
   "source": [
    "# alignment\n",
    "\n",
    "print('12345678901234567890')\n",
    "print('{:> 10}'.format(a))\n",
    "print('{:< 10}'.format(a))\n",
    "print('{:^ 10}'.format(a))\n",
    "\n",
    "print(\"{:$>10}\".format(a))   # replace whitespace with character '$'\n",
    "print(\"{:$>5.1f}\".format(a))   # replace whitespace with character '$'"
   ]
  },
  {
   "cell_type": "markdown",
   "metadata": {},
   "source": [
    "## 3.2 Input( ) function"
   ]
  },
  {
   "cell_type": "markdown",
   "metadata": {},
   "source": [
    "### - format \n",
    "* input()\n",
    "* input('promptString')    \n",
    "    - provide prompt string\n",
    "* variable = input()       \n",
    "    - asign the input to the varialbe\n",
    "* varialbe = int(input())  \n",
    "    - convert a string into an integer"
   ]
  },
  {
   "cell_type": "code",
   "execution_count": 22,
   "metadata": {},
   "outputs": [
    {
     "name": "stdout",
     "output_type": "stream",
     "text": [
      "\n",
      "df\tHello,\tasdf\n"
     ]
    }
   ],
   "source": [
    "a = input()\n",
    "b = input(\"Please enter your name:\")\n",
    "print()\n",
    "print (a, 'Hello,', b, sep = \"\\t\")"
   ]
  },
  {
   "cell_type": "code",
   "execution_count": 23,
   "metadata": {},
   "outputs": [
    {
     "name": "stdout",
     "output_type": "stream",
     "text": [
      "\n",
      "45.5\n"
     ]
    }
   ],
   "source": [
    "a = input()\n",
    "b = input()\n",
    "print()\n",
    "print(a+b)   # unexpected results, the data type of returned value for input() is a string"
   ]
  },
  {
   "cell_type": "code",
   "execution_count": null,
   "metadata": {},
   "outputs": [
    {
     "name": "stdout",
     "output_type": "stream",
     "text": [
      "10\n",
      "20\n",
      "\n",
      "30\n"
     ]
    }
   ],
   "source": [
    "c = int(input()) # Convert to integer\n",
    "d = eval(input()) # Convert to numbers\n",
    "print()\n",
    "print (c+d)"
   ]
  },
  {
   "cell_type": "code",
   "execution_count": null,
   "metadata": {},
   "outputs": [
    {
     "name": "stdout",
     "output_type": "stream",
     "text": [
      "Please enter Chinese grade:80\n",
      "Please enter Math grade:90\n",
      "Please enter English grade:22\n",
      "Total score: 192, average score: 64.00\n"
     ]
    }
   ],
   "source": [
    "chi = input(\"Please enter Chinese grade:\")\n",
    "math = input(\"Please enter Math grade:\")\n",
    "eng = input(\"Please enter English grade:\")\n",
    "sum = int(chi) + int(math) + int(eng) #The input value must be converted to an integer\n",
    "average = sum / 3\n",
    "print (\"Total score: %d, average score: %5.2f\" % (sum, average))"
   ]
  },
  {
   "cell_type": "markdown",
   "metadata": {},
   "source": [
    "# 4. Chinese encoding problem"
   ]
  },
  {
   "cell_type": "markdown",
   "metadata": {},
   "source": [
    "- The encoding method used by python3 is UTF-8\n",
    "- The default encoding method of Windows Notepad is MS950 (compatible with Big5), so if you import Chinese characters into Notepad, and then use python to express distorted characters\n",
    "- The processing method is:\n",
    "  1. Change the encoding to UTF-8 when saving\n",
    "  2. Add to the top of the python file: # coding: MS950\n",
    "  3. The text variable to display.encode ('UTF-8')\n"
   ]
  },
  {
   "cell_type": "markdown",
   "metadata": {},
   "source": [
    "## 5. Basic data types"
   ]
  },
  {
   "cell_type": "markdown",
   "metadata": {},
   "source": [
    "- Variables do not have to be declared in advance\n",
    "- Basic data types\n",
    "    - numbers: integer, float, boolean and complex\n",
    "    - string\n",
    "- Advanced data types\n",
    "    -list, tuple, dict, set\n",
    "- To know the data type, use the type(data) function\n",
    "    - type(3.14)\n",
    "- all types are objects in python"
   ]
  },
  {
   "cell_type": "markdown",
   "metadata": {},
   "source": [
    "### 5.1 Number and Bool"
   ]
  },
  {
   "cell_type": "markdown",
   "metadata": {},
   "source": [
    "### Integer\n",
    "\n",
    "-Integer of any size, Support for large integers, arbitrarily large numbers\n",
    "- binary number uses prefixes '0b' or '0B' \n",
    "    - number 0 and English letter b\n",
    "    - 0b10 is 2 in decimal\n",
    "- octal number starts with 0o or 0O \n",
    "    - number 0 and English letter o\n",
    "    - 0b7\n",
    "- hexadecimal starts with 0x or 0X \n",
    "    - 0x2f\n",
    "    \n",
    "### float\n",
    "- Float is used to represent real numbers and is written with a decimal point dividing the integer and fractional parts. \n",
    "    - For example, 97.98, 32.3+e18, -32.54e100   \n",
    "\n",
    "### bool \n",
    "- False: Contains 0, None, '' (empty string), empty lists, dictionaries and tuples\n",
    "- True: the rest of the numbers (non-zero numbers)\n",
    "   \n",
    "   You can use the bool( ) function to convert a value to a bool"
   ]
  },
  {
   "cell_type": "code",
   "execution_count": null,
   "metadata": {},
   "outputs": [],
   "source": [
    "a = 0b10; b = 0x1a\n",
    "print(a, b)\n",
    "print(a + b)"
   ]
  },
  {
   "cell_type": "code",
   "execution_count": null,
   "metadata": {},
   "outputs": [],
   "source": [
    "print(bool(0))\n",
    "print(bool(3.4))"
   ]
  },
  {
   "cell_type": "markdown",
   "metadata": {},
   "source": [
    "### Numeric operators\n",
    "- ** Power\n",
    "- // Floor Division \n",
    "    - The division of operands where the result is the quotient in which the digits after the decimal point are removed. But if one of the operands is negative, the result is floored, i.e., rounded away from zero (towards negative infinity) \n",
    "- % returns the remainder\n",
    "\n",
    "### Relational operators\n",
    "- ==\n",
    "- \\>\n",
    "- \\<\n",
    "- \\>=\n",
    "- \\<=\n",
    "- !=\n",
    "\n",
    "###  Logical operator\n",
    "- or \n",
    "- and\n",
    "- not"
   ]
  },
  {
   "cell_type": "code",
   "execution_count": null,
   "metadata": {},
   "outputs": [],
   "source": [
    "a, b = 10, 3\n",
    "print(a + b)\n",
    "print(a - b)\n",
    "print(a * b)\n",
    "print(a / b)\n",
    "print(a // b)\n",
    "print(a % b)\n",
    "print(a ** b)"
   ]
  },
  {
   "cell_type": "markdown",
   "metadata": {},
   "source": [
    "### Unique expressions\n",
    "- may have more than two variables on the left, which are rare in other languages\n",
    "- a, b, c = b, c, a\n",
    "- a = b = c = 1"
   ]
  },
  {
   "cell_type": "markdown",
   "metadata": {},
   "source": [
    "### Built-in numeric functions:\n",
    "\n",
    "- abs(x) returns the absolute value\n",
    "- minus(x1, x2, ...) returns the smallest number\n",
    "- max(x1, x2, ...) returns the maximum number\n",
    "- hex(x) converts to hexadecimal\n",
    "- oct(x) convert to octal\n",
    "- bin(x) convert to binary\n",
    "- int(x)\n",
    "- round(x) rounding\n",
    "- pow(x, y) returns the value of x to the power of y \n",
    "- float(x) returns a string to a floating point number"
   ]
  },
  {
   "cell_type": "code",
   "execution_count": null,
   "metadata": {},
   "outputs": [
    {
     "name": "stdout",
     "output_type": "stream",
     "text": [
      "3.2\n",
      "1\n",
      "7\n",
      "0xdf\n"
     ]
    }
   ],
   "source": [
    "a = abs(-3.2)\n",
    "b = min(5,2,3,9,1)\n",
    "c = max(3,2,7)\n",
    "d = hex(223)\n",
    "print(a, b, c, d, sep='\\n')"
   ]
  },
  {
   "cell_type": "markdown",
   "metadata": {},
   "source": [
    "### General mathematical functions\n",
    "\n",
    "#### * must import math module\n",
    "    - import math\n",
    "* math.pow(x, y): x to the power of y\n",
    "* math.fmod(x, y): return the remainder of x / y\n",
    "* math.ceil(x): round a number upward to its nearest integer\n",
    "* math.floor(x): round a number DOWNWARDS to the nearest integer\n",
    "* math.sqrt(x)\n",
    "* math.pi\n",
    "* math.log(x \\[, basis]): returns the value of the natural logarithm of x, or returns the logarithm of x in basis\n",
    "* math.radians (x): returns the value of the angle x converted to radians, ie x * π / 180\n",
    "* math.degrees (x): returns the value converted from degrees x to degrees, ie x * 180 / π\n",
    "* math.cos(x): returns the value of the trigonometric function, \n",
    "* math.sin(30 * math.pi / 180)\n",
    "* math.sin(math.radians (30))"
   ]
  },
  {
   "cell_type": "markdown",
   "metadata": {},
   "source": [
    "## 5.2 String"
   ]
  },
  {
   "cell_type": "markdown",
   "metadata": {},
   "source": [
    "- Surrounded by either single quotation marks, or double quotation marks.\n",
    "    - 'abc'\n",
    "- String can contain single quotation marks or double marks\n",
    "    - '\"abc\"'\n",
    "- a multiline string to a variable by using three single / double quotes\n",
    "<pre>\n",
    "\n",
    "- a = \"\"\"Price stability and the prevention of shortages are two of the main considerations for the government during the current invasion of Ukraine by Russia, CNA reported.\"\"\""
   ]
  },
  {
   "cell_type": "markdown",
   "metadata": {},
   "source": [
    "### String are arrays\n",
    "\n",
    "a = \"Hello, World!\"  \n",
    "print(a[1])\n",
    "\n",
    ". Note: string object does not support item assignment\n",
    "\n",
    "### slicing strings\n",
    "\n",
    "- Return a range of characters by using the slice syntax.\n",
    "- Specify the start index and the end index, separated by a colon, to return a part of the string.\n",
    "- Santax\n",
    "    - string[START, STOP, STEP]  # exclude the ending element\n",
    "    - index number start with 0\n",
    "    - a[2:4] -> including a[2], a[3]\n",
    "    - default if not pass the parameters\n",
    "        - START: 0\n",
    "        - STOP: -1 (last one)\n",
    "        - STEP: 1\n",
    "    -negative indexes to start the slice from the end of the string\n",
    "        - -1 is the last character"
   ]
  },
  {
   "cell_type": "code",
   "execution_count": null,
   "metadata": {},
   "outputs": [
    {
     "name": "stdout",
     "output_type": "stream",
     "text": [
      "a[2]: C\n",
      "a[2:4]: CD\n",
      "a[1:10:2]: BDFHJ\n",
      "a[3:]: DEFGHIJKLMN\n",
      "a[2: -5]: CDEFGHI\n",
      "a[: :-1]: NMLKJIHGFEDCBA\n"
     ]
    }
   ],
   "source": [
    "a = \"ABCDEFGHIJKLMN\"\n",
    "print('a[2]:', a[2])\n",
    "print('a[2:4]:', a[2:4])\n",
    "# the characters from position 3 (index 2) to position 5 (index 4, not included)\n",
    "\n",
    "print('a[1:10:2]:', a[1:10:2])  # increment is 2\n",
    "\n",
    "b = a[3:]\n",
    "print('a[3:]:', b)  # default value of STOP is the last character\n",
    "\n",
    "print('a[2: -5]:', a[2: -5])\n",
    "c = a[: :-1]   # reverse the string\n",
    "print('a[: :-1]:', c)"
   ]
  },
  {
   "cell_type": "code",
   "execution_count": null,
   "metadata": {},
   "outputs": [
    {
     "name": "stdout",
     "output_type": "stream",
     "text": [
      "13\n"
     ]
    }
   ],
   "source": [
    "# return the length of a string\n",
    "\n",
    "a = \"Hello, World!\"\n",
    "print(len(a))\n"
   ]
  },
  {
   "cell_type": "code",
   "execution_count": null,
   "metadata": {},
   "outputs": [
    {
     "name": "stdout",
     "output_type": "stream",
     "text": [
      "b\n",
      "a\n",
      "n\n",
      "a\n",
      "n\n",
      "a\n"
     ]
    }
   ],
   "source": [
    "for x in \"banana\":\n",
    "  print(x)"
   ]
  },
  {
   "cell_type": "markdown",
   "metadata": {},
   "source": [
    "### String operation\n",
    "\n",
    "- +\n",
    "    - string concatenation\n",
    "- *\n",
    "    - string multiplication"
   ]
  },
  {
   "cell_type": "code",
   "execution_count": null,
   "metadata": {},
   "outputs": [
    {
     "name": "stdout",
     "output_type": "stream",
     "text": [
      "RichardRebecca\n",
      "Richardccc\n",
      "RichardRichardRichard\n",
      "RebeccaRebecca\n"
     ]
    }
   ],
   "source": [
    "a, b, c = 'Richard', \"Rebecca\", 3\n",
    "\n",
    "print(a + b)\n",
    "print(a + \"ccc\")\n",
    "print(a * c)\n",
    "print(b * 2)"
   ]
  },
  {
   "cell_type": "markdown",
   "metadata": {},
   "source": [
    "### String methods\n",
    "- https://www.w3schools.com/python/python_ref_string.asp\n",
    "    "
   ]
  },
  {
   "cell_type": "markdown",
   "metadata": {},
   "source": [
    "## 5.3 Type conversion (Casting)"
   ]
  },
  {
   "cell_type": "markdown",
   "metadata": {},
   "source": [
    "* int()\n",
    "* drive( )\n",
    "* eval() convert number\n",
    "* str()\n",
    "* chr(): ASCII values ​​are converted to ASCII characters\n",
    "* hex()\n",
    "* long(): Convert text to long integer\n",
    "* Oct()\n",
    "* ord(): Convert ASCII characters to ASCII values"
   ]
  },
  {
   "cell_type": "code",
   "execution_count": null,
   "metadata": {},
   "outputs": [
    {
     "name": "stdout",
     "output_type": "stream",
     "text": [
      "1.0\n",
      "2\n",
      "(1+0j)\n",
      "<class 'float'>\n",
      "<class 'int'>\n",
      "<class 'complex'>\n"
     ]
    }
   ],
   "source": [
    "x = 1 # int\n",
    "y = 2.8 # float\n",
    "z = 1j # complex\n",
    "\n",
    "#convert from int to float:\n",
    "a = float(x)\n",
    "\n",
    "#convert from float to int:\n",
    "b = int(y)\n",
    "\n",
    "#convert from int to complex:\n",
    "c = complex(x)\n",
    "\n",
    "print(a)\n",
    "print(b)\n",
    "print(c)\n",
    "\n",
    "print(type(a))\n",
    "print(type(b))\n",
    "print(type(c))"
   ]
  },
  {
   "cell_type": "markdown",
   "metadata": {},
   "source": [
    "#### Further reference\n",
    "- https://www.w3schools.com/python/gloss_python_type_conversion.asp"
   ]
  },
  {
   "cell_type": "markdown",
   "metadata": {},
   "source": [
    "# 6. Control flow"
   ]
  },
  {
   "cell_type": "markdown",
   "metadata": {},
   "source": [
    "## 6.1 if else"
   ]
  },
  {
   "cell_type": "code",
   "execution_count": null,
   "metadata": {},
   "outputs": [
    {
     "ename": "SyntaxError",
     "evalue": "invalid syntax (<ipython-input-295-bf0fcf5c4f69>, line 2)",
     "output_type": "error",
     "traceback": [
      "\u001b[1;36m  File \u001b[1;32m\"<ipython-input-295-bf0fcf5c4f69>\"\u001b[1;36m, line \u001b[1;32m2\u001b[0m\n\u001b[1;33m    statement ...\u001b[0m\n\u001b[1;37m              ^\u001b[0m\n\u001b[1;31mSyntaxError\u001b[0m\u001b[1;31m:\u001b[0m invalid syntax\n"
     ]
    }
   ],
   "source": [
    "# if (condition):  \n",
    "#     statement ...\n",
    "    \n",
    "    \n",
    "# if condition:  \n",
    "#     statement...\n",
    "    \n",
    "# if else\n",
    "\n",
    "# if elif"
   ]
  },
  {
   "cell_type": "code",
   "execution_count": null,
   "metadata": {},
   "outputs": [],
   "source": [
    "# if statement\n",
    "score = eval(input())\n",
    "if score >= 60:\n",
    "   print ('pass')\n",
    "else:\n",
    "   print ('fail')"
   ]
  },
  {
   "cell_type": "code",
   "execution_count": null,
   "metadata": {},
   "outputs": [],
   "source": [
    "year = int(input())\n",
    "if ((year % 4 == 0) & (year % 100 != 0)) | (year % 400 == 0):\n",
    "    print(\"leap\")\n",
    "else:\n",
    "   print(\"not leap year\")"
   ]
  },
  {
   "cell_type": "code",
   "execution_count": null,
   "metadata": {},
   "outputs": [],
   "source": [
    "# elif\n",
    "\n",
    "score = eval(input(\"Please input your score:\"))\n",
    "\n",
    "if score >= 90:\n",
    "    print(\"Grade A\")\n",
    "elif score >= 80:\n",
    "    print(\"Grade B\")\n",
    "elif score >= 70:\n",
    "    print(\"Grade C\")\n",
    "elif score >= 60:\n",
    "    print(\"Grade D\")\n",
    "else:\n",
    "    print(\"You fail the test!\")"
   ]
  },
  {
   "cell_type": "markdown",
   "metadata": {},
   "source": [
    "## 6.2 While loops"
   ]
  },
  {
   "cell_type": "markdown",
   "metadata": {},
   "source": [
    "1. while (condition):\n",
    "2. while condition:\n",
    "3. while else"
   ]
  },
  {
   "cell_type": "code",
   "execution_count": null,
   "metadata": {},
   "outputs": [],
   "source": [
    "total = person = score = 0\n",
    "while (score != -1):\n",
    "    person += 1\n",
    "    total += score\n",
    "    score = int (input (\"Please enter the score of the %d student:\" % person))\n",
    "average = total / (person - 1)\n",
    "print (\"\\nTotal grade of this class:%d, average:%5.2f\" % (total, average))"
   ]
  },
  {
   "cell_type": "code",
   "execution_count": null,
   "metadata": {},
   "outputs": [],
   "source": [
    "import random\n",
    "x = random.randint(1,6)\n",
    "print(x)\n",
    "while x != 1:\n",
    "  x = random.randint(1,6)\n",
    "  print(x)"
   ]
  },
  {
   "cell_type": "code",
   "execution_count": null,
   "metadata": {},
   "outputs": [],
   "source": [
    "# break\n",
    "# Exit the loop when x is 6\n",
    "\n",
    "import random\n",
    "while True:\n",
    "    x = random.randint(1,6)\n",
    "    print(x)\n",
    "    if x == 6 : break"
   ]
  },
  {
   "cell_type": "code",
   "execution_count": null,
   "metadata": {},
   "outputs": [],
   "source": [
    "# Continue to the next iteration if i is 4\n",
    "# print 1 to 6, excluding 4\n",
    "\n",
    "i = 0\n",
    "while i < 6:\n",
    "  i += 1\n",
    "  if i == 4:\n",
    "    continue\n",
    "  print(i)"
   ]
  },
  {
   "cell_type": "code",
   "execution_count": null,
   "metadata": {},
   "outputs": [],
   "source": [
    "# there are 2 \"AAA\" in the list t\n",
    "# while loop\n",
    "\n",
    "t = ['AAA', 'BBB', 'CCC', 'AAA']\n",
    "a = 'AAA'\n",
    "while a in t:\n",
    "    print ('There is \"AAA\" in the list')\n",
    "    t.remove (a)\n",
    "    print ('Deleted')\n",
    "print (t)"
   ]
  },
  {
   "cell_type": "code",
   "execution_count": null,
   "metadata": {},
   "outputs": [],
   "source": [
    "# there are 2 \"AAA\" in the list t\n",
    "# if statement\n",
    "\n",
    "t = ['AAA', 'BBB', 'CCC', 'AAA']\n",
    "a = 'AAA'\n",
    "if a in t:\n",
    "    print ('There is \"AAA\" in the list')\n",
    "    t.remove (a)\n",
    "    print ('Deleted')\n",
    "print (t)"
   ]
  },
  {
   "cell_type": "code",
   "execution_count": null,
   "metadata": {},
   "outputs": [],
   "source": [
    "# while else\n",
    "\n",
    "i = 1\n",
    "while i < 5:\n",
    "  print(i)\n",
    "  i += 1\n",
    "else:\n",
    "  print(\"i is no longer less than 5\")"
   ]
  },
  {
   "cell_type": "markdown",
   "metadata": {},
   "source": [
    "## 6.3 For loop"
   ]
  },
  {
   "cell_type": "markdown",
   "metadata": {},
   "source": [
    "### range( ) function\n",
    "- returns a sequence of numbers, starting from 0 by default, and increments by 1 (by default), and stops before a specified number.\n",
    "\n",
    "#### Santax\n",
    "- range(start, stop, step)\n",
    "\n",
    "    - start:\n",
    "        - Optional\n",
    "        - An integer number specifying at which position to start. \n",
    "        - Default is 0\n",
    "    - stop:\n",
    "        - Required\n",
    "        - An integer number specifying at which position to stop (not included).\n",
    "    - step:\n",
    "        - Optional\n",
    "        - An integer number specifying the incrementation\n",
    "        - Default is 1"
   ]
  },
  {
   "cell_type": "code",
   "execution_count": null,
   "metadata": {},
   "outputs": [
    {
     "name": "stdout",
     "output_type": "stream",
     "text": [
      "range(0, 10)\n"
     ]
    },
    {
     "data": {
      "text/plain": [
       "range(1, 10, 2)"
      ]
     },
     "execution_count": 4,
     "metadata": {},
     "output_type": "execute_result"
    }
   ],
   "source": [
    "# start at 0, go to up to 10, but not includes 10, and step by negative 1\n",
    "\n",
    "range(10)      # range(0, 10, 1)\n",
    "range(1, 10, 2)\n",
    "\n",
    "# start at 0, and we are going to go up to 10, but do not include 10, and step by 2 "
   ]
  },
  {
   "cell_type": "code",
   "execution_count": null,
   "metadata": {},
   "outputs": [
    {
     "name": "stdout",
     "output_type": "stream",
     "text": [
      "[0, 1, 2, 3, 4, 5]\n",
      "[1, 2, 3, 4]\n",
      "[-3, -2, -1, 0, 1, 2, 3, 4]\n",
      "[1, 3, 5, 7, 9]\n",
      "[-10, -9, -8, -7, -6, -5, -4, -3]\n",
      "[-2, -4, -6, -8]\n"
     ]
    }
   ],
   "source": [
    "print(list(range(6)))      # list() function creates a list object\n",
    "print(list(range(1, 5)))\n",
    "print(list(range(-3, 5)))\n",
    "print(list(range(1, 10, 2)))\n",
    "print(list(range(-10, -2)))\n",
    "print(list(range(-2, -10, -2)))"
   ]
  },
  {
   "cell_type": "markdown",
   "metadata": {},
   "source": [
    "### For loop\n",
    "\n",
    "- Iterate over a sequence (that is either a list, a tuple, a dictionary, a set, or a string).\n",
    "\n",
    "- Execute a set of statements, once for each item in a list, tuple, set etc.\n",
    "\n",
    "- This is less like the for keyword in other programming language.\n",
    "\n",
    "- break & continue can be used within for loop"
   ]
  },
  {
   "cell_type": "code",
   "execution_count": null,
   "metadata": {},
   "outputs": [],
   "source": [
    "a = [1, 3, 5]\n",
    "for i in a:\n",
    "    print(i)"
   ]
  },
  {
   "cell_type": "code",
   "execution_count": null,
   "metadata": {},
   "outputs": [],
   "source": [
    "a = [1, 3, 5]\n",
    "for i in range(len(a)):\n",
    "    print(a[i])"
   ]
  },
  {
   "cell_type": "code",
   "execution_count": null,
   "metadata": {},
   "outputs": [],
   "source": [
    "for i in range(6):\n",
    "    print(i)"
   ]
  },
  {
   "cell_type": "code",
   "execution_count": null,
   "metadata": {},
   "outputs": [
    {
     "name": "stdout",
     "output_type": "stream",
     "text": [
      "F\n",
      "o\n",
      "r\n",
      " \n",
      "L\n",
      "o\n",
      "o\n",
      "p\n"
     ]
    }
   ],
   "source": [
    "for i in \"For Loop\":\n",
    "    print(i)"
   ]
  },
  {
   "cell_type": "code",
   "execution_count": null,
   "metadata": {},
   "outputs": [],
   "source": [
    "sum = 0\n",
    "n = int (input (\"Please enter a positive integer:\"))\n",
    "for i in range(1, n+1):\n",
    "    sum += i\n",
    "\n",
    "print (\"The sum of integers from 1 to %d is %d\" % (n, sum))"
   ]
  },
  {
   "cell_type": "code",
   "execution_count": null,
   "metadata": {},
   "outputs": [],
   "source": [
    "for i in range(2,9):\n",
    "    if i != 2 and i != 6 : continue\n",
    "    for j in range(1,10):\n",
    "        for k in range(i,i+5):\n",
    "            print(\"{}x{}={:>2}    \".format(k, j, k*j), end=\"\")\n",
    "        print()\n",
    "    print()"
   ]
  },
  {
   "cell_type": "code",
   "execution_count": null,
   "metadata": {},
   "outputs": [],
   "source": [
    "names = ['Richard', 'Tom', 'Cindy']\n",
    "for index, element in enumerate(names):\n",
    "    print('%d %s' % (index, element))"
   ]
  },
  {
   "cell_type": "markdown",
   "metadata": {},
   "source": [
    "# 7. Advanced data types: list, tuple, dict, set"
   ]
  },
  {
   "cell_type": "markdown",
   "metadata": {},
   "source": [
    "- They store collections of data\n",
    "- List and tuple are sequence types"
   ]
  },
  {
   "cell_type": "markdown",
   "metadata": {},
   "source": [
    "## 7.1 List"
   ]
  },
  {
   "cell_type": "markdown",
   "metadata": {},
   "source": [
    "- Lists are used to store multiple items in a single variable.\n",
    "- Lists are created using square brackets\n",
    "    - a = [1, 5, 10]\n",
    "    - b = ['a', 'b', 'c']\n",
    "- List items are ordered, changeable, and allow duplicate values.\n",
    "\n",
    "- List items are indexed, the first item has index [0], the second item has index [1] etc.\n",
    "\n",
    "- List items can be of any data type\n",
    "    - a = [1, 5, 10, \"abc\"]"
   ]
  },
  {
   "cell_type": "markdown",
   "metadata": {},
   "source": [
    "### Slice of list\n",
    "- similar to Slicing string\n",
    "    - see section 5.2"
   ]
  },
  {
   "cell_type": "code",
   "execution_count": null,
   "metadata": {},
   "outputs": [],
   "source": [
    "a = ['AA', 'BB', 'CC', 'DD', 'EE', 'FF', 'GG', 'HH', 'II', 'JJ', 'KK']\n",
    "print('a[2]:', a[2])\n",
    "print('a[2:4]:', a[2:4])\n",
    "# the characters from position 3 (index 2) to position 5 (index 4, not included)\n",
    "\n",
    "print('a[1:10:2]:', a[1:10:2])  # increment is 2\n",
    "\n",
    "b = a[3:]\n",
    "print('a[3:]:', b)  # default value of STOP is the last character\n",
    "\n",
    "print('a[2: -5]:', a[2: -5])\n",
    "c = a[: :-1]   # reverse the string\n",
    "print('a[: :-1]:', c)"
   ]
  },
  {
   "cell_type": "code",
   "execution_count": null,
   "metadata": {},
   "outputs": [
    {
     "name": "stdout",
     "output_type": "stream",
     "text": [
      "1\n",
      "5\n",
      "7\n",
      "10\n",
      "6\n",
      "\n",
      "1\n",
      "5\n",
      "7\n",
      "10\n",
      "6\n"
     ]
    }
   ],
   "source": [
    "# print elements of a list in 2 different ways\n",
    "\n",
    "a = [1, 5, 7, 10, 6]\n",
    "for i in a:\n",
    "    print(i)\n",
    "\n",
    "print()\n",
    "for i in range(len(a)):\n",
    "    print(a[i])"
   ]
  },
  {
   "cell_type": "markdown",
   "metadata": {},
   "source": [
    "### Multi-dimensional list"
   ]
  },
  {
   "cell_type": "code",
   "execution_count": null,
   "metadata": {},
   "outputs": [],
   "source": [
    "# multi-dimensional list\n",
    "\n",
    "score1 = ['John', 80]  \n",
    "score2 = ['Richard', 60]  \n",
    "score3 = ['Tom', 100]  \n",
    "scores = [score1, score2, score3]  \n",
    "print(scores)             #[['John', 80], ['Richard', 60], ['Tom', 100]]  \n",
    "print(scores[2])    #['Tom', 100]  \n",
    "print(scores[2][0])       #Tom  "
   ]
  },
  {
   "cell_type": "markdown",
   "metadata": {},
   "source": [
    "### Access list items from for loop"
   ]
  },
  {
   "cell_type": "code",
   "execution_count": null,
   "metadata": {},
   "outputs": [],
   "source": [
    "fruit = [\"apple\", \"banana\", \"cherry\"]\n",
    "\n",
    "for i in fruit:\n",
    "    print(i)"
   ]
  },
  {
   "cell_type": "markdown",
   "metadata": {},
   "source": [
    "### enumerate( ) function"
   ]
  },
  {
   "cell_type": "markdown",
   "metadata": {},
   "source": [
    "- The enumerate() function adds a counter as the key of the enumerate object.\n",
    "    - (What enumerate will do is to create indexs and vaules for all of the elements in a list/couple..)\n",
    "- Syntax\n",
    "    - enumerate(iterable, start)\n",
    "        - iterable: An iterable object\n",
    "        - start: Defining the start number of the enumerate object. Default 0"
   ]
  },
  {
   "cell_type": "code",
   "execution_count": null,
   "metadata": {},
   "outputs": [],
   "source": [
    "x = ('AAA', 'BBB', 'CCC')\n",
    "y1 = enumerate(x)\n",
    "for i in y1:\n",
    "    print(i)\n",
    "\n",
    "print()\n",
    "\n",
    "y2 = enumerate(x, 2)\n",
    "for i in y2:\n",
    "    print(i)"
   ]
  },
  {
   "cell_type": "code",
   "execution_count": null,
   "metadata": {},
   "outputs": [],
   "source": [
    "drinks = [\"coffee\", \"tea\", \"wine\"]\n",
    "# Analyze the enumerated object\n",
    "print (enumerate (drinks)) # initial value\n",
    "d = list(enumerate (drinks, 10))\n",
    "print(d)"
   ]
  },
  {
   "cell_type": "markdown",
   "metadata": {},
   "source": [
    "### list( ) constructor\n",
    "\n",
    "- creat a new list from a sequence (including tuple, strings)"
   ]
  },
  {
   "cell_type": "code",
   "execution_count": null,
   "metadata": {},
   "outputs": [],
   "source": [
    "fruit = (\"apple\", \"banana\", \"cherry\") # a tuple\n",
    "b = list(fruit)\n",
    "print(b)\n",
    "\n",
    "a = 'ABCDEFG'\n",
    "b = list(a)\n",
    "print(b)\n"
   ]
  },
  {
   "cell_type": "code",
   "execution_count": null,
   "metadata": {},
   "outputs": [],
   "source": [
    "# Sort: list.sort(), sorted()\n",
    "\n",
    "aLys = [23, 30, 45, 31, 40]\n",
    "aList.sort() # Sort from small to large, it will change the original contents of the list\n",
    "print(aList)\n",
    "\n",
    "print()\n",
    "aList.sort(reverse = True) # Sort from large to small\n",
    "print(aList)\n",
    "\n",
    "print()\n",
    "bList = [50, 30, 45, 31, 40]\n",
    "b = sorted(bList) # Sort from small to large, the original contents of the list remain unchanged\n",
    "print(\"b:\", b)\n",
    "print(\"bList:\", bList)"
   ]
  },
  {
   "cell_type": "code",
   "execution_count": null,
   "metadata": {},
   "outputs": [],
   "source": [
    "# reverse order\n",
    "aList = [23, 30, 45, 31, 40]\n",
    "aList.reverse() # reverses the order\n",
    "print(aList)"
   ]
  },
  {
   "cell_type": "code",
   "execution_count": null,
   "metadata": {},
   "outputs": [],
   "source": [
    "# create an empty list and append elements\n",
    "\n",
    "bList = []\n",
    "sum = 0\n",
    "for i in range(1, 3):\n",
    "    num = int(input())\n",
    "    bList.append(num)\n",
    "print(bList)"
   ]
  },
  {
   "cell_type": "markdown",
   "metadata": {},
   "source": [
    "### Reference for operations of lists\n",
    "\n",
    "- https://www.tutorialspoint.com/python/python_lists.htm"
   ]
  },
  {
   "cell_type": "markdown",
   "metadata": {},
   "source": [
    "## 7.2 Tuple"
   ]
  },
  {
   "cell_type": "markdown",
   "metadata": {},
   "source": [
    "* The data structure is the same as a list, but can not be modified (so tuples can be used except for functions that change the content of elements)\n",
    "* Use parentheses ( ) when setting tuple variables\n",
    "* Square parentheses [ ] when extracting element values\n",
    "    * a = (1, 3, 5)\n",
    "    * number = a [1]"
   ]
  },
  {
   "cell_type": "code",
   "execution_count": null,
   "metadata": {},
   "outputs": [],
   "source": [
    "# create a tuple by tuple()\n",
    "\n",
    "tpl = tuple(range(10))\n",
    "print(tpl)"
   ]
  },
  {
   "cell_type": "code",
   "execution_count": null,
   "metadata": {},
   "outputs": [],
   "source": [
    "thistuple = (\"apple\", \"banana\", \"cherry\")\n",
    "for i in range(len(thistuple)):\n",
    "  print(thistuple[i])"
   ]
  },
  {
   "cell_type": "code",
   "execution_count": null,
   "metadata": {},
   "outputs": [],
   "source": [
    "a = ['apple', 'orange', 'kiwi']\n",
    "b = enumerate(a) # add the index to the iterable\n",
    "print(b)\n",
    "c = tuple(b) # switch to tuple\n",
    "# c = list(enumerate(a))\n",
    "print(c)\n",
    "d = list(enumerate(a))\n",
    "print(d)"
   ]
  },
  {
   "cell_type": "markdown",
   "metadata": {},
   "source": [
    "### Further information\n",
    "- https://www.w3schools.com/python/python_tuples.asp"
   ]
  },
  {
   "cell_type": "markdown",
   "metadata": {},
   "source": [
    "## 7.3 Dictionary"
   ]
  },
  {
   "cell_type": "code",
   "execution_count": null,
   "metadata": {},
   "outputs": [],
   "source": [
    "- Store data values in key: value pairs\n",
    "\n",
    "- A collection which is ordered, changeable and do not allow duplicates (in keys)\n",
    "    - As of Python version 3.7, dictionaries are ordered. In Python 3.6 and earlier, dictionaries are unordered."
   ]
  },
  {
   "cell_type": "code",
   "execution_count": null,
   "metadata": {},
   "outputs": [],
   "source": [
    "adict = {'book':10, 'pen':3, 'earser':6, 'ruler':2}\n",
    "print(adict)\n",
    "\n",
    "print(adict.keys())     # get all keys\n",
    "print(adict.values())   # get all values"
   ]
  },
  {
   "cell_type": "code",
   "execution_count": null,
   "metadata": {},
   "outputs": [],
   "source": [
    "# Dictionary emptying (two methods)\n",
    "\n",
    "inventory.clear()\n",
    "stock = {}"
   ]
  },
  {
   "cell_type": "code",
   "execution_count": null,
   "metadata": {},
   "outputs": [],
   "source": [
    "# combine dictionary & list\n",
    "\n",
    "inventory = {\n",
    "    'coin' : 500,\n",
    "    'wallet' : ['student ID', 'key'], \n",
    "    'backpack' : {'iphone':2,'NB':1, 'book':3, 'apple':2}\n",
    "    }\n",
    "print(inventory.keys())\n",
    "print(inventory['backpack'].keys())"
   ]
  },
  {
   "cell_type": "code",
   "execution_count": null,
   "metadata": {},
   "outputs": [],
   "source": [
    "# create an empty dict and add or modify elements\n",
    "\n",
    "a = {}\n",
    "a['apple'] = 10\n",
    "a['orange'] = 20\n",
    "a['guava'] = 15\n",
    "print(a)\n",
    "\n",
    "a['apple'] = 13   # modify an old item if the key is existed in the dict\n",
    "print(a['apple'])\n",
    "print(a)\n",
    "\n",
    "a['banana'] = 13  # add new item if the key is not existed in the dict\n",
    "print(a['banana'])\n",
    "print(a)"
   ]
  },
  {
   "cell_type": "markdown",
   "metadata": {},
   "source": [
    "### Retrieve keys & values\n",
    "\n",
    "* for xx, yy in dictionary.items()\n",
    "    - xx and yy get the keys and values respectively\n",
    "* for xx in dictionary.items()\n",
    "    - xx gets the keys and values, forms a tuple of keys and values\n",
    "* for xx in dictionary object.keys()\n",
    "    - get the keys in the dictionary\n",
    "* for xx in dictionary\n",
    "    - get the keys"
   ]
  },
  {
   "cell_type": "code",
   "execution_count": null,
   "metadata": {},
   "outputs": [
    {
     "name": "stdout",
     "output_type": "stream",
     "text": [
      "apple 5\n",
      "guava 20\n",
      "watermelon 25\n",
      "\n",
      "apple 5\n",
      "guava 20\n",
      "watermelon 25\n"
     ]
    }
   ],
   "source": [
    "dic1 = {'apple': 5, 'guava': 20, 'watermelon':25}\n",
    "\n",
    "for key, ele in dic1.items():\n",
    "    print(key, ele)\n",
    "\n",
    "print()\n",
    "for i in dic1:\n",
    "    print(i, dic1[i])"
   ]
  },
  {
   "cell_type": "code",
   "execution_count": null,
   "metadata": {},
   "outputs": [],
   "source": [
    "adict = {'book': 10, 'pen': 3, 'earser': 6, 'ruler': 2}\n",
    "\n",
    "print(adict.items())\n",
    "print()\n",
    "\n",
    "for key, value in adict.items():\n",
    "    print(\"{},{}\".format(key, value))"
   ]
  },
  {
   "cell_type": "code",
   "execution_count": null,
   "metadata": {},
   "outputs": [],
   "source": [
    "adict = {'book': 10, 'pen': 3, 'earser': 6, 'ruler': 2}\n",
    "for key, value in adict.items ():\n",
    "    as value <5:\n",
    "      print (\"({}, {})\".format (key, value))"
   ]
  },
  {
   "cell_type": "code",
   "execution_count": null,
   "metadata": {},
   "outputs": [],
   "source": [
    "players = {'Stephen':'A',\n",
    "           'Kevin':'B',\n",
    "           'Lebron':'C',\n",
    "           'James':'E',\n",
    "           'Paul':'D',\n",
    "           'Richard': 'A'\n",
    "          }\n",
    "print('.items():')\n",
    "for name in players.items( ):\n",
    "    print(name)\n",
    "\n",
    "print('\\n.keys():')\n",
    "for name in players.keys( ):\n",
    "    print(name)\n",
    "\n",
    "print('\\n.values():')\n",
    "for name in players.values( ):\n",
    "    print(name)\n",
    "\n",
    "print('\\ndict:')\n",
    "for name in players:\n",
    "    print(name)"
   ]
  },
  {
   "cell_type": "code",
   "execution_count": null,
   "metadata": {},
   "outputs": [],
   "source": [
    "for name, team in players.items ():\n",
    "    print(\"\\nName:\", name)\n",
    "    print(\"Team name:\", team)"
   ]
  },
  {
   "cell_type": "code",
   "execution_count": null,
   "metadata": {},
   "outputs": [],
   "source": [
    "# sort by key\n",
    "\n",
    "for name in sorted(players.keys()):\n",
    "    print(name)\n",
    "    print(\"Hi! %s, I like to see your performance at %s\" % (name, players[name]))"
   ]
  },
  {
   "cell_type": "code",
   "execution_count": null,
   "metadata": {},
   "outputs": [],
   "source": [
    "for team in players.values( ):\n",
    "    print(team)"
   ]
  },
  {
   "cell_type": "code",
   "execution_count": null,
   "metadata": {},
   "outputs": [],
   "source": [
    "# The result is the same as the above program, but there will be no repetition\n",
    "\n",
    "for team in set(players.values( )): # The result is the same as the above program, but there will be no repetition\n",
    "    print(team)"
   ]
  },
  {
   "cell_type": "code",
   "execution_count": null,
   "metadata": {},
   "outputs": [],
   "source": [
    "adict = {'book': 10, 'pen': 3, 'earser': 6, 'ruler': 2}\n",
    "\n",
    "for key, value in adict.items():\n",
    "    if value < 5:\n",
    "      print(\"({}, {})\". format(key, value))"
   ]
  },
  {
   "cell_type": "markdown",
   "metadata": {},
   "source": [
    "### Reference for dictionary methods\n",
    "- https://www.w3schools.com/python/python_dictionaries_methods.asp"
   ]
  },
  {
   "cell_type": "markdown",
   "metadata": {},
   "source": [
    "# 8. Module"
   ]
  },
  {
   "cell_type": "markdown",
   "metadata": {},
   "source": [
    "- A module is a code library\n",
    "\n",
    "- It is a file containing a set of functions\n",
    "\n",
    "- The file extensions of modules are .py\n",
    "\n",
    "- Before using it, must import it"
   ]
  },
  {
   "cell_type": "code",
   "execution_count": null,
   "metadata": {},
   "outputs": [],
   "source": [
    "import math\n",
    "print(math.sqrt(9))"
   ]
  },
  {
   "cell_type": "markdown",
   "metadata": {},
   "source": [
    "### Create an alias for a module"
   ]
  },
  {
   "cell_type": "code",
   "execution_count": null,
   "metadata": {},
   "outputs": [],
   "source": [
    "import random as rd\n",
    "\n",
    "# return a number between 1 and 6 (both included)\n",
    "print(rd.randint(1, 6))  "
   ]
  },
  {
   "cell_type": "markdown",
   "metadata": {},
   "source": [
    "- A module\n",
    "    - a set of files with various functions, the extension is .py\n",
    "- A package\n",
    "    - There can be many modules in a package (ie. multiple files in a directory)\n",
    "    - the name of the folder, and there must be a _init_.py file in the folder"
   ]
  },
  {
   "cell_type": "markdown",
   "metadata": {},
   "source": [
    "### Approaches of import modules\n",
    "- import module_name\n",
    "    - import math\n",
    "- import package_name.module_name\n",
    "- import module as new_name\n",
    "      - import pandas as pd\n",
    "- from package_name import module_name\n",
    "- from module_name import function_name"
   ]
  },
  {
   "cell_type": "code",
   "execution_count": null,
   "metadata": {},
   "outputs": [],
   "source": [
    "import math\n",
    "math.sqrt(9)   # must add \"math\" module"
   ]
  },
  {
   "cell_type": "code",
   "execution_count": null,
   "metadata": {},
   "outputs": [],
   "source": [
    "from math import sqrt\n",
    "sqrt(9)       # not add \"math\" module"
   ]
  },
  {
   "cell_type": "markdown",
   "metadata": {},
   "source": [
    "## 9. Random"
   ]
  },
  {
   "cell_type": "code",
   "execution_count": null,
   "metadata": {},
   "outputs": [],
   "source": [
    "import random\n",
    "\n",
    "- random.random()\n",
    "    - randomly generate a floating point number between 0 and 1, including zero, excluding 1.\n",
    "\n",
    "- random.randint(a, b)\n",
    "    -generate arbitrary integers between [a, b], including b.\n",
    "\n",
    "- random.uniform(a,b)\n",
    "    - generate arbitrary floating point numbers between [a, b], including the two boundary values.\n",
    "\n",
    "- choice(seq)\n",
    "    - Select a random element from a non-empty range. seq usually refers to list, tuple, string, etc.\n",
    "\n",
    "- randrange(start, stop[, step = 1])\n",
    "    - It is the combination of random and series functions. Note, however, that serial usage has changed.\n",
    "\n",
    "- random.shuffle(x[,random])\n",
    "    - As the function name indicates, shuffle, shuffle, shuffle the elements of a list.\n",
    "        - li = [1, 2, 3, 4, 5]\n",
    "        - random.shuffle(li)\n",
    "\n",
    "- random.sample(sequence,k)"
   ]
  },
  {
   "cell_type": "code",
   "execution_count": null,
   "metadata": {},
   "outputs": [],
   "source": [
    "import random\n",
    "random.seed(10)\n",
    "for i in range(10):\n",
    "    print(random.randint(1, 10), end = '\\t')\n",
    "print()\n",
    "for i in range(10):\n",
    "    print(random.randrange(1, 100, 2), end = '\\t')"
   ]
  },
  {
   "cell_type": "code",
   "execution_count": null,
   "metadata": {},
   "outputs": [],
   "source": [
    "import random\n",
    "print(random.choice(['apple', 'pear', 'banana']))\n",
    "\n",
    "print(random.sample(range(100), 10))   # sampling without replacement\n",
    "\n",
    "print(random.random())   # random float\n",
    "\n",
    "print(random.randrange(6))    # random integer chosen from range(6)\n"
   ]
  },
  {
   "cell_type": "code",
   "execution_count": null,
   "metadata": {},
   "outputs": [],
   "source": [
    "import random\n",
    "print(random.choice(['apple', 'pear', 'banana']))\n",
    "a = random.sample(range(100), 10)\n",
    "print(a)\n",
    "print(random.randint(5, 10))  # generate a random number between 5 to 10（included）\n",
    "\n",
    "print()\n",
    "li = [1, 2, 3, 4, 5]\n",
    "random.shuffle(li)\n",
    "print(li)"
   ]
  },
  {
   "cell_type": "markdown",
   "metadata": {},
   "source": [
    "### Further information about Random module\n",
    "- https://www.w3schools.com/python/module_random.asp"
   ]
  },
  {
   "cell_type": "markdown",
   "metadata": {},
   "source": [
    "# 10. Function"
   ]
  },
  {
   "cell_type": "markdown",
   "metadata": {},
   "source": [
    "- A function is a block of code which only runs when it is called.\n",
    "\n",
    "- You can pass data, known as parameters, into a function.\n",
    "\n",
    "- A function can return data as a result."
   ]
  },
  {
   "cell_type": "code",
   "execution_count": null,
   "metadata": {},
   "outputs": [],
   "source": [
    "# definition & call of a function\n",
    "\n",
    "# pass different data types to the function\n",
    "\n",
    "def my_function(a, b):\n",
    "  print(a + b)\n",
    "\n",
    "my_function(\"Emil\", \"Refsnes\")\n",
    "my_function(10, 20)"
   ]
  },
  {
   "cell_type": "code",
   "execution_count": null,
   "metadata": {},
   "outputs": [],
   "source": [
    "# return values\n",
    "\n",
    "def add(a, b):\n",
    "    return a + b\n",
    "\n",
    "print(add(10.5, 20)) #call function"
   ]
  },
  {
   "cell_type": "code",
   "execution_count": null,
   "metadata": {},
   "outputs": [],
   "source": [
    "# return values\n",
    "\n",
    "def spam( ):\n",
    "    eggs = 12\n",
    "    return eggs, eggs * 2, str(eggs) * 2\n",
    "\n",
    "spam( ) #call function"
   ]
  },
  {
   "cell_type": "code",
   "execution_count": null,
   "metadata": {},
   "outputs": [],
   "source": [
    "def super_print(x):\n",
    "   for i in x:\n",
    "       print (i)\n",
    "        \n",
    "super_print (\"cool\") #call function\n",
    "print()\n",
    "super_print ([1,2,3,4,5])"
   ]
  },
  {
   "cell_type": "code",
   "execution_count": null,
   "metadata": {},
   "outputs": [],
   "source": [
    "# call by value\n",
    "\n",
    "def add2number (a, b):\n",
    "    c = a + b\n",
    "    d = a + b\n",
    "    print (\"In the function, (c = {}, d = {})\". format (c, d))\n",
    "    return c\n",
    "c = 10\n",
    "d = 99\n",
    "print(\"Before the function is called, (c = {}, d = {})\". format(c, d))\n",
    "print(\"{} + {} = {}\". format(2, 2, add2number(2, 2)))\n",
    "print(\"After the function call, (c = {}, d = {})\". format(c, d))"
   ]
  },
  {
   "cell_type": "code",
   "execution_count": null,
   "metadata": {},
   "outputs": [],
   "source": [
    "# glabal variable\n",
    "\n",
    "def add2number (a, b):\n",
    "    global d\n",
    "    c = a + b\n",
    "    d = a + b\n",
    "    print (\"In the function, (c = {}, d = {})\". format (c, d))\n",
    "    return c\n",
    "c = 10\n",
    "d = 99\n",
    "print(\"Before the function is called, (c = {}, d = {})\".format(c, d))\n",
    "print(\"{} + {} = {}\".format(2, 2, add2number(2, 2)))\n",
    "print(\"After the function call, (c = {}, d = {})\".format(c, d))"
   ]
  },
  {
   "cell_type": "code",
   "execution_count": null,
   "metadata": {},
   "outputs": [],
   "source": [
    "def calsum(*params):\n",
    "    total = 0\n",
    "    for param in params:\n",
    "        total += param\n",
    "    return total\n",
    "    \n",
    "print(\"Example of variable number of parameters:\")\n",
    "print(\"2 arguments: 4 + 5 =% d\"% calsum (4,5))\n",
    "print(\"3 arguments: 4 + 5 + 12 =% d\"% calsum (4,5,12))\n",
    "print(\"4 arguments: 4 + 5 + 12 + 8 =% d\"% calsum (4,5,12,8))"
   ]
  },
  {
   "cell_type": "markdown",
   "metadata": {},
   "source": [
    "# 11. Comprehension"
   ]
  },
  {
   "cell_type": "markdown",
   "metadata": {},
   "source": [
    "1. List Comprehension\n",
    "    \n",
    "2. Set Comprehension \n",
    "\n",
    "3. Dictionary Comprehension"
   ]
  },
  {
   "cell_type": "markdown",
   "metadata": {},
   "source": [
    "## 11.1 List Comprehension"
   ]
  },
  {
   "cell_type": "markdown",
   "metadata": {},
   "source": [
    "### [expression for item in iterable]"
   ]
  },
  {
   "cell_type": "code",
   "execution_count": null,
   "metadata": {},
   "outputs": [
    {
     "name": "stdout",
     "output_type": "stream",
     "text": [
      "[0, 1, 2, 3, 4, 5, 6, 7, 8, 9]\n",
      "[0, 1, 2, 3, 4, 5, 6, 7, 8, 9]\n"
     ]
    }
   ],
   "source": [
    "numbers = [x for x in range(10)]\n",
    "print(numbers)\n",
    "    \n",
    "numbers = []\n",
    "for x in range(10):\n",
    "    numbers.append(x)\n",
    "print(numbers)\n"
   ]
  },
  {
   "cell_type": "code",
   "execution_count": null,
   "metadata": {},
   "outputs": [],
   "source": [
    "numbers = [x * 3 for x in range(10)]\n",
    "print(numbers)\n"
   ]
  },
  {
   "cell_type": "markdown",
   "metadata": {},
   "source": [
    "### [expression for item in iterable (if condition)]"
   ]
  },
  {
   "cell_type": "code",
   "execution_count": null,
   "metadata": {},
   "outputs": [
    {
     "name": "stdout",
     "output_type": "stream",
     "text": [
      "[15, 18, 21, 24, 27]\n",
      "[3, 6, 9, 12, 15, 18, 21, 24, 27, 30, 33, 36, 39, 42, 45, 48, 51, 54, 57, 60, 63, 66, 69, 72, 75, 78, 81, 84, 87, 90, 93, 96, 99]\n",
      "[50, 12, 30, 27]\n",
      "[50, 0, 12, 30, 27, 0]\n"
     ]
    }
   ],
   "source": [
    "numbers = [x * 3 for x in range(10) if x > 4]\n",
    "print(numbers)\n",
    "\n",
    "num2 = [x for x in range(1, 100) if x % 3 == 0]\n",
    "print(num2)\n",
    "\n",
    "numbers = [50, 2, 12, 30, 27, 4]\n",
    "result = [number for number in numbers if number > 10]\n",
    "print(result)  \n"
   ]
  },
  {
   "cell_type": "markdown",
   "metadata": {},
   "source": [
    "### [expression (if condition) for item in iterable]"
   ]
  },
  {
   "cell_type": "code",
   "execution_count": null,
   "metadata": {},
   "outputs": [
    {
     "name": "stdout",
     "output_type": "stream",
     "text": [
      "[50, 0, 12, 30, 27, 0]\n"
     ]
    }
   ],
   "source": [
    "numbers = [50, 2, 12, 30, 27, 4]\n",
    "result = [number if number > 10 else 0 for number in numbers]\n",
    "print(result)  "
   ]
  },
  {
   "cell_type": "markdown",
   "metadata": {},
   "source": [
    "## 11.2 Set Comprehension"
   ]
  },
  {
   "cell_type": "code",
   "execution_count": null,
   "metadata": {},
   "outputs": [
    {
     "name": "stdout",
     "output_type": "stream",
     "text": [
      "{'i', 'o', 'h', 'r', 't', 'n'}\n"
     ]
    }
   ],
   "source": [
    "titles = \"Learn Code With Richard\"\n",
    "result = {letter for letter in titles if letter > \"e\"}\n",
    "print(result)  "
   ]
  },
  {
   "cell_type": "markdown",
   "metadata": {},
   "source": [
    "## 11.3 Dictionary Comprehension"
   ]
  },
  {
   "cell_type": "code",
   "execution_count": null,
   "metadata": {},
   "outputs": [
    {
     "name": "stdout",
     "output_type": "stream",
     "text": [
      "{0: 'P', 1: 'y', 2: 't', 3: 'h', 4: 'o', 5: 'n'}\n"
     ]
    }
   ],
   "source": [
    "titles = \"Python\"\n",
    "result = {index: letter for index, letter in enumerate(titles)}\n",
    "print(result)"
   ]
  },
  {
   "cell_type": "code",
   "execution_count": null,
   "metadata": {},
   "outputs": [
    {
     "name": "stdout",
     "output_type": "stream",
     "text": [
      "{0: 0, 2: 4, 4: 16, 6: 36}\n"
     ]
    }
   ],
   "source": [
    "numbers = range(8)\n",
    "\n",
    "new_dict_comp = {n:n**2 for n in numbers if n%2 == 0}\n",
    "\n",
    "print(new_dict_comp)"
   ]
  },
  {
   "cell_type": "markdown",
   "metadata": {},
   "source": [
    "### Reference\n",
    "\n",
    "- W3Schools\n",
    "- tutorialspoint\n",
    "    "
   ]
  }
 ],
 "metadata": {
  "kernelspec": {
   "display_name": "Python 3",
   "language": "python",
   "name": "python3"
  },
  "language_info": {
   "codemirror_mode": {
    "name": "ipython",
    "version": 3
   },
   "file_extension": ".py",
   "mimetype": "text/x-python",
   "name": "python",
   "nbconvert_exporter": "python",
   "pygments_lexer": "ipython3",
   "version": "3.9.7"
  },
  "latex_envs": {
   "LaTeX_envs_menu_present": true,
   "autoclose": false,
   "autocomplete": true,
   "bibliofile": "biblio.bib",
   "cite_by": "apalike",
   "current_citInitial": 1,
   "eqLabelWithNumbers": true,
   "eqNumInitial": 1,
   "hotkeys": {
    "equation": "Ctrl-E",
    "itemize": "Ctrl-I"
   },
   "labels_anchors": false,
   "latex_user_defs": false,
   "report_style_numbering": false,
   "user_envs_cfg": false
  },
  "nbTranslate": {
   "displayLangs": [
    "*"
   ],
   "hotkey": "alt-t",
   "langInMainMenu": true,
   "sourceLang": "en",
   "targetLang": "fr",
   "useGoogleTranslate": true
  }
 },
 "nbformat": 4,
 "nbformat_minor": 2
}
