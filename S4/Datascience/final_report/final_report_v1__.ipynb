{
 "cells": [
  {
   "cell_type": "markdown",
   "metadata": {},
   "source": [
    "# Final Report_v1\n",
    "\n",
    "* Project Name : TW stock prediction with crawl and visualize\n",
    "* Author : 楊右宇  \n",
    "* Establish Date：2021.05.22  \n",
    "* Last Modified Date：2021.06.12"
   ]
  },
  {
   "cell_type": "markdown",
   "metadata": {},
   "source": [
    "download the graphviz first to show the decision tree visualize\n",
    "\n",
    "\n",
    "https://www.graphviz.org/download/"
   ]
  },
  {
   "cell_type": "code",
   "execution_count": 1,
   "metadata": {},
   "outputs": [
    {
     "name": "stdout",
     "output_type": "stream",
     "text": [
      "Requirement already satisfied: scikit-learn in c:\\programdata\\anaconda3\\lib\\site-packages (0.24.2)\n",
      "Requirement already satisfied: joblib>=0.11 in c:\\programdata\\anaconda3\\lib\\site-packages (from scikit-learn) (1.1.0)\n",
      "Requirement already satisfied: numpy>=1.13.3 in c:\\programdata\\anaconda3\\lib\\site-packages (from scikit-learn) (1.20.3)\n",
      "Requirement already satisfied: threadpoolctl>=2.0.0 in c:\\programdata\\anaconda3\\lib\\site-packages (from scikit-learn) (2.2.0)\n",
      "Requirement already satisfied: scipy>=0.19.1 in c:\\programdata\\anaconda3\\lib\\site-packages (from scikit-learn) (1.7.1)\n"
     ]
    }
   ],
   "source": [
    "!pip install scikit-learn"
   ]
  },
  {
   "cell_type": "code",
   "execution_count": 2,
   "metadata": {},
   "outputs": [
    {
     "name": "stdout",
     "output_type": "stream",
     "text": [
      "Requirement already satisfied: graphviz in c:\\programdata\\anaconda3\\lib\\site-packages (0.20)\n"
     ]
    }
   ],
   "source": [
    "!pip install graphviz"
   ]
  },
  {
   "cell_type": "code",
   "execution_count": 3,
   "metadata": {
    "scrolled": false
   },
   "outputs": [
    {
     "name": "stdout",
     "output_type": "stream",
     "text": [
      "Requirement already satisfied: mplfinance in c:\\programdata\\anaconda3\\lib\\site-packages (0.12.9b1)\n",
      "Requirement already satisfied: pandas in c:\\programdata\\anaconda3\\lib\\site-packages (from mplfinance) (1.3.4)\n",
      "Requirement already satisfied: matplotlib in c:\\programdata\\anaconda3\\lib\\site-packages (from mplfinance) (3.4.3)\n",
      "Requirement already satisfied: kiwisolver>=1.0.1 in c:\\programdata\\anaconda3\\lib\\site-packages (from matplotlib->mplfinance) (1.3.1)\n",
      "Requirement already satisfied: cycler>=0.10 in c:\\programdata\\anaconda3\\lib\\site-packages (from matplotlib->mplfinance) (0.10.0)\n",
      "Requirement already satisfied: python-dateutil>=2.7 in c:\\programdata\\anaconda3\\lib\\site-packages (from matplotlib->mplfinance) (2.8.2)\n",
      "Requirement already satisfied: pyparsing>=2.2.1 in c:\\programdata\\anaconda3\\lib\\site-packages (from matplotlib->mplfinance) (3.0.4)\n",
      "Requirement already satisfied: pillow>=6.2.0 in c:\\programdata\\anaconda3\\lib\\site-packages (from matplotlib->mplfinance) (8.4.0)\n",
      "Requirement already satisfied: numpy>=1.16 in c:\\programdata\\anaconda3\\lib\\site-packages (from matplotlib->mplfinance) (1.20.3)\n",
      "Requirement already satisfied: six in c:\\programdata\\anaconda3\\lib\\site-packages (from cycler>=0.10->matplotlib->mplfinance) (1.16.0)\n",
      "Requirement already satisfied: pytz>=2017.3 in c:\\programdata\\anaconda3\\lib\\site-packages (from pandas->mplfinance) (2021.3)\n"
     ]
    }
   ],
   "source": [
    "!pip install mplfinance"
   ]
  },
  {
   "cell_type": "markdown",
   "metadata": {},
   "source": [
    "# import library"
   ]
  },
  {
   "cell_type": "code",
   "execution_count": 4,
   "metadata": {},
   "outputs": [],
   "source": [
    "import pandas as pd\n",
    "import numpy as np\n",
    "import math\n",
    "import mplfinance as mpf\n",
    "# import yfinance as y\n",
    "# 匯入決策樹分類器\n",
    "from sklearn.tree import DecisionTreeClassifier\n",
    "# 要計算混淆矩陣的話，要從 metrics 裡匯入 confusion_matrix\n",
    "from sklearn.metrics import confusion_matrix\n",
    "from sklearn.tree import export_graphviz\n",
    "import graphviz \n",
    "# 要計算 AUC 的話，要從 metrics 裡匯入 roc_curve 以及 auc\n",
    "from sklearn.metrics import roc_curve, auc\n",
    "import matplotlib.pyplot as plt\n",
    "\n",
    "import shutil\n",
    "import os\n",
    "from cgitb import html\n",
    "import pandas as pd \n",
    "import re\n",
    "import time\n",
    "from time import sleep\n",
    "from bs4 import BeautifulSoup\n",
    "from selenium import webdriver\n",
    "from selenium.webdriver.chrome.service import Service\n",
    "from selenium.webdriver.common.keys import Keys\n",
    "from selenium.webdriver.common.by import By\n",
    "# 控制選單\n",
    "from selenium.webdriver.support.ui import WebDriverWait, Select\n",
    "from selenium.webdriver.support import expected_conditions as EC"
   ]
  },
  {
   "cell_type": "markdown",
   "metadata": {},
   "source": [
    "# 資料爬取"
   ]
  },
  {
   "cell_type": "code",
   "execution_count": 5,
   "metadata": {},
   "outputs": [],
   "source": [
    "def crawl_stock_tw_v1(_ticker, _year):\n",
    "    url = r'https://www.twse.com.tw/zh/page/trading/exchange/STOCK_DAY.html' \n",
    "    s = Service(r'C:\\SDK\\chromedriver_win32\\chromedriver.exe')\n",
    "\n",
    "    browser = webdriver.Chrome(service=s) \n",
    "    browser.maximize_window() \n",
    "    browser.get(url) \n",
    "    sleep(1)\n",
    "\n",
    "    browser.find_element(by=By.XPATH, value='//*[@id=\"main-form\"]/div/div/form/input').send_keys(str(_ticker))\n",
    "\n",
    "    Select(browser.find_element(by=By.NAME, value='yy')).select_by_value(_year)\n",
    "\n",
    "    browser.find_element(by=By.XPATH, value='//*[@id=\"main-form\"]/div/div/form/a[2]').click()\n",
    "\n",
    "    for i in range(12):\n",
    "        # 選取表單_設定月分\n",
    "        Select(browser.find_element(by=By.NAME, value='mm')).select_by_index(i)\n",
    "        # 點擊查詢按鈕\n",
    "        browser.find_element(by=By.XPATH, value='//*[@id=\"main-form\"]/div/div/form/a[2]').click()\n",
    "        # 點擊下載按鈕\n",
    "        csv = WebDriverWait(browser, 10).until(EC.presence_of_element_located((By.CLASS_NAME, \"csv\")))\n",
    "        time.sleep(5)\n",
    "        csv.click()\n",
    "\n",
    "    time.sleep(1)\n",
    "    browser.close()"
   ]
  },
  {
   "cell_type": "code",
   "execution_count": null,
   "metadata": {},
   "outputs": [],
   "source": [
    "https://www.tpex.org.tw/web/stock/aftertrading/daily_trading_info/st43.php?l=zh-tw&d=111/11&stkno=3169&s=0,asc,0"
   ]
  },
  {
   "cell_type": "code",
   "execution_count": 6,
   "metadata": {},
   "outputs": [],
   "source": [
    "def crawl_stock_tw_v2(_ticker, _year):\n",
    "\n",
    "    s = Service(r'C:\\SDK\\chromedriver_win32\\chromedriver.exe')\n",
    "    browser = webdriver.Chrome(service=s) \n",
    "    browser.maximize_window() \n",
    "\n",
    "    for i in range(1, 13):\n",
    "        url = 'https://www.twse.com.tw/exchangeReport/STOCK_DAY?response=csv&date={}{:02}01&stockNo={}'.format(_year, i, _ticker)\n",
    "        browser.get(url) \n",
    "        sleep(5)\n",
    "\n",
    "    browser.close()"
   ]
  },
  {
   "cell_type": "code",
   "execution_count": 13,
   "metadata": {},
   "outputs": [],
   "source": [
    "def crawl_stock_tw_v3(_ticker, _year):\n",
    "\n",
    "    s = Service(r'C:\\SDK\\chromedriver_win32\\chromedriver.exe')\n",
    "    browser = webdriver.Chrome(service=s) \n",
    "    browser.maximize_window() \n",
    "\n",
    "    for i in range(1, 13):\n",
    "        # url = 'https://www.twse.com.tw/exchangeReport/STOCK_DAY?response=csv&date={}{:02}01&stockNo={}'.format(_year, i, _ticker)\n",
    "        url = f'https://www.tpex.org.tw/web/stock/aftertrading/daily_trading_info/st43_download_UTF-8.php?l=zh-tw&d={_year-1911}/{i:02}&stkno={_ticker}&s=0,asc,0'\n",
    "        browser.get(url) \n",
    "        sleep(5)\n",
    "\n",
    "    browser.close()"
   ]
  },
  {
   "cell_type": "code",
   "execution_count": 7,
   "metadata": {},
   "outputs": [],
   "source": [
    "def move_stock_tw(_ticker):\n",
    "    # 判定 os_test 資料夾是否存在\n",
    "    if not os.path.isdir('data_unmerged'): \n",
    "        os.mkdir('data_unmerged')\n",
    "    # 取得當前路徑\n",
    "    destination = os.getcwd() + '\\\\data_unmerged' \n",
    "\n",
    "    source = os.listdir(r\"C:\\Users\\User\\Downloads\")\n",
    "    #過濾其他檔案，只保留csv檔\n",
    "    source = [line for line in source if str(_ticker) in line] \n",
    "    print(source)\n",
    "\n",
    "    # 移動下載檔案進入資料夾\n",
    "    for s in source:\n",
    "        path = os.path.join(r\"C:\\Users\\User\\Downloads\", s)\n",
    "        shutil.move(path, os.path.join(destination, s))"
   ]
  },
  {
   "cell_type": "code",
   "execution_count": 8,
   "metadata": {},
   "outputs": [],
   "source": [
    "def merge_stock_tw(_ticker):\n",
    "    \n",
    "    # 判定 data 資料夾是否存在\n",
    "    if not os.path.isdir('data'): \n",
    "        os.mkdir('data')\n",
    "    \n",
    "    path = os.getcwd() + '\\\\data_unmerged\\\\'\n",
    "    source = os.listdir(path)\n",
    "    source = [line for line in source if str(_ticker) in line]\n",
    "    \n",
    "    if os.path.isfile(r'./data/{}.csv'.format(str(_ticker))): \n",
    "        res = pd.read_csv(os.getcwd() + '\\\\data\\{}.csv'.format(str(_ticker)))\n",
    "    else:\n",
    "        res = pd.DataFrame(columns=['Date', 'Open', 'High', 'Low', 'Close', 'Volume'])\n",
    "    \n",
    "    for s in source:\n",
    "        print(s)\n",
    "        df = pd.read_csv(path + s, encoding='Big5', skiprows=1)\n",
    "        df = df.iloc[:-4, :7]\n",
    "        df.columns = ['Date', 'Volume', 'b', 'Open', 'High', 'Low', 'Close']\n",
    "        df.drop('b', axis = 1, inplace = True) \n",
    "        df = df.reindex(columns = ['Date', 'Open', 'High', 'Low', 'Close', 'Volume'])\n",
    "        df.loc[:, 'Date'] = df.loc[:, 'Date'].str.split('/').apply(lambda x:(str(int(x[0]) + 1911)) + '/' + x[1].removeprefix('0') + '/' + x[2].removeprefix('0'))\n",
    "        df.loc[:, 'Volume'] = df.loc[:, 'Volume'].str.replace(',', '').astype(int) // 1000\n",
    "        res = res.append(df, ignore_index = True)\n",
    "    \n",
    "    \n",
    "    res['Date'] = pd.to_datetime(res['Date'])\n",
    "    res = res.drop_duplicates(subset='Date', keep='first')\n",
    "    res.sort_values(by='Date', ascending=True, inplace=True)\n",
    "    \n",
    "    res.to_csv(os.getcwd() + '\\\\data\\\\' + str(_ticker) + '.csv', index = False, encoding='utf-8')"
   ]
  },
  {
   "cell_type": "markdown",
   "metadata": {},
   "source": [
    "# Indicators"
   ]
  },
  {
   "cell_type": "markdown",
   "metadata": {},
   "source": [
    "## Moving Average\n",
    "* 均線"
   ]
  },
  {
   "cell_type": "code",
   "execution_count": 7,
   "metadata": {},
   "outputs": [],
   "source": [
    "def MA(_ticker, period=10, field='Close'):\n",
    "\n",
    "    '''可以自訂要幾日均線，也可以計算成交量等數值的均線'''\n",
    "    \n",
    "    # 複製一份資料，避免修改原始資料\n",
    "    res = _ticker.copy(deep=True)\n",
    "    \n",
    "    if field == 'Volume':\n",
    "        res['VMA_' + str(period)] = _ticker[field].rolling(period).mean()\n",
    "\n",
    "    else:\n",
    "        res['MA_' + str(period)] = _ticker[field].rolling(period).mean()\n",
    "\n",
    "    return res"
   ]
  },
  {
   "cell_type": "markdown",
   "metadata": {},
   "source": [
    "## EMA"
   ]
  },
  {
   "cell_type": "code",
   "execution_count": 10,
   "metadata": {},
   "outputs": [],
   "source": [
    "def EMA(_ticker, period=15):\n",
    "    \n",
    "    '''計算EMA，並新增在 DataFrame 中，數值為指數衰減'''\n",
    "\n",
    "    # 複製一份資料，避免修改原始資料\n",
    "    res = _ticker.copy(deep=True)\n",
    "    \n",
    "    # 新增新的一欄在 DataFrame 中\n",
    "    res['EMA_' + str(period)] = _ticker['Close'].ewm(span=period, adjust=False).mean()\n",
    "\n",
    "    return res"
   ]
  },
  {
   "cell_type": "markdown",
   "metadata": {},
   "source": [
    "## RSI\n",
    "\n",
    "* Relative Strength Index\n",
    "* 相對強弱指標\n",
    "* 計算出一個 0 ~ 100 之間的數字\n",
    "* 越接近 0 表示盤勢越弱\n",
    "* 越接近 100 表示盤勢越強"
   ]
  },
  {
   "cell_type": "code",
   "execution_count": 11,
   "metadata": {},
   "outputs": [],
   "source": [
    "def RSI(_ticker, period = 14):\n",
    "    \n",
    "    # 創建暫存資料\n",
    "    tmp = pd.DataFrame(index=_ticker.index)\n",
    "\n",
    "    # 複製一份資料，避免修改原始資料\n",
    "    res = _ticker.copy(deep=True)\n",
    "    \n",
    "    # 新增新資料欄位，預設為空\n",
    "    tmp['rise'] = np.nan\n",
    "\n",
    "    # 搜尋特定欄位之 index\n",
    "    col_rise = tmp.columns.get_loc('rise')\n",
    "    col_close = _ticker.columns.get_loc('Close')\n",
    "\n",
    "    # 計算今日漲跌數字\n",
    "    for i in range(1, len(_ticker)):\n",
    "        tmp.iloc[i, col_rise] = (_ticker.iloc[i, col_close] - _ticker.iloc[i - 1, col_close])\n",
    "\n",
    "    # 創建空資料欄\n",
    "    tmp['rise_only'] = tmp['rise']\n",
    "    tmp['drop_only'] = tmp['rise']\n",
    "\n",
    "    # 依照數值大小於零分堆\n",
    "    tmp['rise_only'].loc[tmp['rise'] < 0] = 0\n",
    "    tmp['drop_only'].loc[tmp['rise'] > 0] = 0\n",
    "    \n",
    "    # 計算 N 天內平均漲跌數值\n",
    "    tmp['rise_avg'] = tmp['rise_only'].rolling(period).mean()\n",
    "    tmp['drop_avg'] = tmp['drop_only'].rolling(period).mean().abs()\n",
    "\n",
    "    # 計算 RSI\n",
    "    res['RSI'] = tmp['rise_avg'] / (tmp['rise_avg'] + tmp['drop_avg']) * 100\n",
    "    \n",
    "    return res"
   ]
  },
  {
   "cell_type": "markdown",
   "metadata": {},
   "source": [
    "## KD\n",
    "\n",
    "* Ｋ值比Ｄ值敏感，波動幅度較大\n",
    "* Ｋ值線如果在低檔區由下而上穿過Ｄ值線，稱作黃金交叉，代表接下來盤勢上漲機會大\n",
    "* Ｋ值線如果在高檔區由上而下穿過Ｄ值線，稱作死亡交叉，代表接下來盤勢下跌機會大"
   ]
  },
  {
   "cell_type": "code",
   "execution_count": 12,
   "metadata": {},
   "outputs": [],
   "source": [
    "def KD(_ticker, period = 9):\n",
    "\n",
    "    # 創建暫存資料\n",
    "    tmp = pd.DataFrame(index=_ticker.index)\n",
    "\n",
    "    # 複製一份資料，避免修改原始資料\n",
    "    res = _ticker.copy(deep=True)\n",
    "\n",
    "    # 尋找 N 日內最高最低價\n",
    "    tmp['max_close'] = ticker['Close'].rolling(period, min_periods=1).max()\n",
    "    tmp['min_close'] = ticker['Close'].rolling(period, min_periods=1).min()\n",
    "\n",
    "    # 計算 RSI\n",
    "    tmp['RSV'] = (ticker['Close'] - tmp['min_close']) / (tmp['max_close'] - tmp['min_close']) * 100\n",
    "\n",
    "    # 由於 K D 之定義為遞迴式，且數值為 0 ~ 100，預設為 50\n",
    "    res['K'] = 50\n",
    "    res['D'] = 50\n",
    "    \n",
    "    # 搜尋特定欄位之 index\n",
    "    col_k = res.columns.get_loc('K')\n",
    "    col_d = res.columns.get_loc('D')\n",
    "    col_rsv = tmp.columns.get_loc('RSV')\n",
    "\n",
    "    # 計算 K 與 D 值\n",
    "    for i in range(1, len(_ticker)):\n",
    "        res.iloc[i, col_k] = res.iloc[i - 1, col_k] * 2 / 3 + tmp.iloc[i, col_rsv] * 1 / 3\n",
    "        res.iloc[i, col_d] = res.iloc[i - 1, col_d] * 2 / 3 + res.iloc[i, col_k] * 1 / 3\n",
    "    \n",
    "    return res"
   ]
  },
  {
   "cell_type": "markdown",
   "metadata": {},
   "source": [
    "## MACD\n",
    "\n",
    "* macd（對應diff）\n",
    "* macdsignal（對應dea）\n",
    "* macdhist（對應macd）\n",
    "\n",
    "### 簡易策略\n",
    "* DIFF、DEA均為正，DIFF向上突破DEA，買入信號。\n",
    "\n",
    "* DIFF、DEA均為負，DIFF向下跌破DEA，賣出信號。\n",
    "\n",
    "* DEA線與K線發生背離，行情反轉信號。\n",
    "\n",
    "* 分析MACD柱狀線，由正變負，賣出信號；由負變正，買入信號。"
   ]
  },
  {
   "cell_type": "code",
   "execution_count": 13,
   "metadata": {},
   "outputs": [],
   "source": [
    "def MACD(_ticker, fast_period=12, slow_period=26, signal_period=9):\n",
    "    \n",
    "    # 複製一份資料，避免修改原始資料\n",
    "    res = _ticker.copy(deep=True)\n",
    "\n",
    "    # 計算快慢 EMA\n",
    "    ema_f = _ticker['Close'].ewm(span=fast_period, adjust=False).mean()\n",
    "    ema_s = _ticker['Close'].ewm(span=slow_period, adjust=False).mean()\n",
    "    \n",
    "    # 計算 MACD 值\n",
    "    res['macd_dif'] = ema_f - ema_s\n",
    "    res['macd_dea'] = res['macd_dif'].ewm(span=signal_period, adjust=False).mean()\n",
    "    res['macd'] = res['macd_dif'] - res['macd_dea']\n",
    "\n",
    "    return res"
   ]
  },
  {
   "cell_type": "markdown",
   "metadata": {},
   "source": [
    "## Bollinger Bands"
   ]
  },
  {
   "cell_type": "code",
   "execution_count": 14,
   "metadata": {},
   "outputs": [],
   "source": [
    "def BBands(_ticker, period=20, std_num=2):\n",
    "    \n",
    "    # 複製一份資料，避免修改原始資料\n",
    "    res = _ticker.copy(deep=True)\n",
    "\n",
    "    # 計算中線，也就是二十日 MA\n",
    "    res['bbands_middle'] = _ticker['Close'].rolling(period).mean()\n",
    "    \n",
    "    # 計算標準差\n",
    "    std = _ticker['Close'].rolling(period).std(ddof=0) \n",
    "    \n",
    "    # 計算上下軌\n",
    "    res['bbands_upper'] = res['bbands_middle'] + std * std_num \n",
    "    res['bbands_lower'] = res['bbands_middle'] - std * std_num\n",
    "\n",
    "    return res"
   ]
  },
  {
   "cell_type": "markdown",
   "metadata": {},
   "source": [
    "# 繪圖"
   ]
  },
  {
   "cell_type": "markdown",
   "metadata": {},
   "source": [
    "## MUTI_PLOT"
   ]
  },
  {
   "cell_type": "code",
   "execution_count": 15,
   "metadata": {},
   "outputs": [],
   "source": [
    "def plot_muti(_ticker, _title='', volume=True, buy_sell_point=False, \n",
    "    RSI=False, rsi_midline=False, rsi_bound=False, rsi_upper_bound=85, rsi_lower_bound=15, \n",
    "    KD=False, kd_bound=False, kd_upper_bound=85, kd_lower_bound=15, \n",
    "    MACD=False, BBands=False):\n",
    "\n",
    "    apds = []\n",
    "    _panel = 1\n",
    "\n",
    "    # 繪製買賣點，並判斷繪圖範圍內是否存在買賣點，避免出錯\n",
    "    if buy_sell_point:\n",
    "        \n",
    "        buy, sell = [np.nan], [np.nan]\n",
    "        buy_b = False\n",
    "        sell_b = False\n",
    "\n",
    "        # 設定買賣點位，且避免遮擋到 K 線\n",
    "        for i in range(1, len(_ticker)):\n",
    "\n",
    "            if _ticker.loc[_ticker.index[i], 'ticker_num'] > _ticker.loc[_ticker.index[i - 1], 'ticker_num']:\n",
    "                buy.append(_ticker.loc[_ticker.index[i], 'Low'] * 0.97)\n",
    "                buy_b = True\n",
    "            else:\n",
    "                buy.append(np.nan)\n",
    "\n",
    "            if _ticker.loc[_ticker.index[i], 'ticker_num'] < _ticker.loc[_ticker.index[i - 1], 'ticker_num']:\n",
    "                sell.append(_ticker.loc[_ticker.index[i], 'High'] * 1.03)\n",
    "                sell_b = True\n",
    "            else:\n",
    "                sell.append(np.nan)\n",
    "\n",
    "        # 加入數據至圖中\n",
    "        if buy_b:\n",
    "            apds += [ \n",
    "            mpf.make_addplot(buy, panel=0, type = 'scatter', color = 'blue', marker = '^', markersize = 100)\n",
    "            ]\n",
    "\n",
    "        if sell_b:\n",
    "            apds += [ \n",
    "                mpf.make_addplot(sell, panel=0, type = 'scatter', color = 'darkorange', marker = 'v', markersize = 100),\n",
    "            ]\n",
    "\n",
    "    # 加入 RSI 指標\n",
    "    if RSI:\n",
    "\n",
    "        _panel += 1\n",
    "        apds += [ \n",
    "            mpf.make_addplot(_ticker['RSI'], panel = _panel - 1, color='#009393', ylabel='RSI', secondary_y=False)\n",
    "        ]\n",
    "\n",
    "        # 加入上下界線\n",
    "        if rsi_bound:\n",
    "            apds += [\n",
    "                mpf.make_addplot(np.full((len(_ticker)), rsi_lower_bound), \n",
    "                    panel = _panel - 1, color='#F00078', alpha=0.5, secondary_y=False),\n",
    "                mpf.make_addplot(np.full((len(_ticker)), rsi_upper_bound), \n",
    "                    panel = _panel - 1, color='#F00078', alpha=0.5, secondary_y=False)\n",
    "            ]\n",
    "\n",
    "        # 加入中線\n",
    "        if rsi_midline:\n",
    "            apds += [mpf.make_addplot(np.full((len(_ticker)), 50), \n",
    "                    panel = _panel - 1, color='#F00078', alpha=0.5)]\n",
    "\n",
    "    # 加入 KD 指標\n",
    "    if KD:\n",
    "\n",
    "        _panel += 1\n",
    "        apds += [ \n",
    "            mpf.make_addplot(_ticker['K'], panel=_panel - 1, color='#0000C6', \n",
    "                ylabel='KD'),\n",
    "            mpf.make_addplot(_ticker['D'], panel=_panel - 1, color='#F75000'),\n",
    "            ]\n",
    "\n",
    "        # 加入上下界線\n",
    "        if kd_bound:\n",
    "            apds += [\n",
    "                mpf.make_addplot(np.full((len(_ticker)), kd_upper_bound), \n",
    "                    panel=_panel - 1, color='#F00078', alpha=0.5, secondary_y=False),\n",
    "                mpf.make_addplot(np.full((len(_ticker)), kd_lower_bound), \n",
    "                    panel=_panel - 1, color='#F00078', alpha=0.5, secondary_y=False)\n",
    "            ]\n",
    "\n",
    "    # 加入 MACD\n",
    "    if MACD:\n",
    "\n",
    "        _panel += 1\n",
    "        apds += [\n",
    "            mpf.make_addplot(_ticker['macd'], type='bar', ylabel='MACD', width=0.7, panel=_panel - 1,\n",
    "                color='dimgray', alpha=1, secondary_y=False),\n",
    "            mpf.make_addplot(_ticker['macd_dif'], panel=_panel - 1, color='fuchsia', secondary_y=True),\n",
    "            mpf.make_addplot(_ticker['macd_dea'], panel=_panel - 1, color='b', secondary_y=True)\n",
    "        ]\n",
    "\n",
    "    # 如果要加成交量，層數加一\n",
    "    if volume:\n",
    "        _panel += 1\n",
    "\n",
    "    # 加入布林帶\n",
    "    if BBands:\n",
    "        apds += [\n",
    "            mpf.make_addplot(_ticker['bbands_middle'], panel=0, color='#9F4D95', alpha=1, width=1, secondary_y=False),\n",
    "            mpf.make_addplot(_ticker['bbands_upper'], panel=0, color='black', alpha=0.5, width=0.8, secondary_y=False),\n",
    "            mpf.make_addplot(_ticker['bbands_lower'], panel=0, color='black', alpha=0.5, width=0.8, secondary_y=False),\n",
    "           \n",
    "        ]\n",
    "\n",
    "    # 設置k線圖顏色\n",
    "    my_color = mpf.make_marketcolors(up='red',      # 上漲顏色\n",
    "                                     down='green',  # 下跌顏色\n",
    "                                     edge='i',      # 隱藏 K 線邊緣\n",
    "                                     volume='in',   # 成交量用同樣的顏色\n",
    "                                     inherit=True)  # 繼承其他參數\n",
    "\n",
    "    # 設置圖型呈現\n",
    "    my_style = mpf.make_mpf_style(gridaxis='both',          # 設置網格\n",
    "                                  gridstyle='-.',           # 設定網格花樣\n",
    "                                  y_on_right=True,          # y 座標放右邊\n",
    "                                  marketcolors=my_color)    # 設定k線圖顏色\n",
    "\n",
    "    mpf.plot(_ticker, \n",
    "        type='candle',              # 設定要繪製的類別\n",
    "        num_panels=_panel,          # 設定總層數\n",
    "        main_panel=0,               # 設定 K 線圖層數\n",
    "        volume=volume,              # 設定是否繪製成交量 \n",
    "        volume_panel=_panel - 1,    # 設定成交量層數\n",
    "        addplot = apds,             # 加入其他數據\n",
    "        figscale=1.5,               # 設定圖型大小\n",
    "        style=my_style,             # 設定圖型呈現\n",
    "        title=_title,               # 設定 title\n",
    "        show_nontrading=False,      # 忽略非交易日\n",
    "        tight_layout=False          # 設定布局方式\n",
    "        )\n",
    "    return"
   ]
  },
  {
   "cell_type": "markdown",
   "metadata": {},
   "source": [
    "# 資料讀取"
   ]
  },
  {
   "cell_type": "code",
   "execution_count": 16,
   "metadata": {},
   "outputs": [],
   "source": [
    "def read_ticker_v2(_ticker_code):\n",
    "    \n",
    "    try:\n",
    "        import os\n",
    "        \n",
    "        # get the current working path of this file\n",
    "        path = os.getcwd()\n",
    "\n",
    "        # get the data as a dataframe \n",
    "        res = pd.read_csv(path + '\\\\data\\{}'.format(str(_ticker_code)))\n",
    "\n",
    "        # change the name of columns\n",
    "        res.columns = ['Date', 'Open', 'High', 'Low', 'Close', 'Volume']\n",
    "\n",
    "        # set the column \"Date\" to index\n",
    "        res = res.set_index('Date')\n",
    "\n",
    "        # set index column(\"Date\") from string to datetime.datetime\n",
    "        res.index = pd.to_datetime(res.index)\n",
    "\n",
    "        # sort index column(\"Date\") chronologically\n",
    "        res = res.sort_index()\n",
    "\n",
    "    except Exception as e:\n",
    "        print(e)\n",
    "        return False\n",
    "\n",
    "    return res"
   ]
  },
  {
   "cell_type": "code",
   "execution_count": 61,
   "metadata": {},
   "outputs": [],
   "source": [
    "def get_ticker_list():\n",
    "    \n",
    "    import os\n",
    "\n",
    "    # get the current working path of this file\n",
    "    path = os.getcwd()\n",
    "\n",
    "    # get all files in this path\n",
    "    list = os.listdir(path + '\\\\data')\n",
    "    \n",
    "    # filter out the stock file (.csv)\n",
    "    res = [file for file in list if '.csv' in file]\n",
    "\n",
    "    return res"
   ]
  },
  {
   "cell_type": "markdown",
   "metadata": {},
   "source": [
    "# 資料回測"
   ]
  },
  {
   "cell_type": "markdown",
   "metadata": {},
   "source": [
    "## V5\n",
    "\n",
    "* 只會在停損停利點賣股票"
   ]
  },
  {
   "cell_type": "code",
   "execution_count": 18,
   "metadata": {},
   "outputs": [],
   "source": [
    "def back_track_v5(_ticker, funds=1_000_000, stop_loss_percent=0.96):\n",
    "\n",
    "    # 新增止損價\n",
    "    stop_loss = 0 \n",
    "\n",
    "    # 取得 index 值，方便計算使用\n",
    "    t = _ticker.index\n",
    "\n",
    "    # 複製一份資料，避免修改原始資料\n",
    "    res = _ticker.copy(deep=True)\n",
    "\n",
    "    # 新增資料欄位，方便下面運算\n",
    "    res['ticker_num'] = 0\n",
    "    res['income'] = 0\n",
    "    res['expenditure'] = 0\n",
    "    res['account'] = funds\n",
    "\n",
    "\n",
    "    for i in range(1, len(_ticker)):\n",
    "        \n",
    "        # 做多點\n",
    "        if i != len(_ticker) - 1 and _ticker.loc[t[i], 'buy_point'] == 1 \\\n",
    "                and res.loc[t[i - 1], 'ticker_num'] == 0 :\n",
    "            \n",
    "            # 計算可買最大張數\n",
    "            res.loc[t[i], 'ticker_num'] \\\n",
    "                = math.floor(res.loc[t[i - 1], 'account'] / (_ticker.loc[t[i], 'Close'] * 1.001425))\n",
    "            # 計算總花費\n",
    "            res.loc[t[i], 'expenditure'] \\\n",
    "                = -res.loc[t[i], 'ticker_num'] * (_ticker.loc[t[i], 'Close'] * 1.001425)\n",
    "            # 計算帳戶餘額\n",
    "            res.loc[t[i], 'account'] = res.loc[t[i - 1], 'account'] + res.loc[t[i], 'expenditure']\n",
    "            # 計算目前止損停利價格\n",
    "            stop_loss = _ticker.loc[t[i], 'Close'] * stop_loss_percent\n",
    "        \n",
    "        # 移動停損停利點賣出 # 最後一天無條件賣出\n",
    "        elif res.loc[t[i - 1], 'ticker_num'] > 0 and _ticker.loc[t[i], 'Close'] < stop_loss\\\n",
    "                or i == len(_ticker) - 1 and res.loc[_ticker.index[i - 1], 'ticker_num'] > 0:\n",
    "            \n",
    "            # 計算總收入\n",
    "            res.loc[t[i], 'income'] \\\n",
    "                = res.loc[t[i - 1], 'ticker_num'] * (_ticker.loc[t[i], 'Close'] * 0.995575)\n",
    "            # 更新現有張數\n",
    "            res.loc[t[i], 'ticker_num'] = 0\n",
    "            # 計算帳戶餘額\n",
    "            res.loc[t[i], 'account'] = res.loc[t[i - 1], 'account'] + res.loc[t[i], 'income']\n",
    "        \n",
    "        else :\n",
    "            # 更新此日持有股數\n",
    "            res.loc[t[i], 'ticker_num'] = res.loc[t[i - 1], 'ticker_num']\n",
    "            # 更新此日帳戶餘額\n",
    "            res.loc[t[i], 'account'] = res.loc[t[i - 1], 'account']\n",
    "            # 更新停損停利價格\n",
    "            if _ticker.loc[t[i], 'Close'] * stop_loss_percent > stop_loss:\n",
    "                stop_loss = _ticker.loc[t[i], 'Close'] * stop_loss_percent\n",
    "\n",
    "    return res"
   ]
  },
  {
   "cell_type": "markdown",
   "metadata": {},
   "source": [
    "# 資料數據整理"
   ]
  },
  {
   "cell_type": "markdown",
   "metadata": {},
   "source": [
    "## 交易點數據"
   ]
  },
  {
   "cell_type": "code",
   "execution_count": 19,
   "metadata": {},
   "outputs": [],
   "source": [
    "def get_trade_info_v2(_ticker):\n",
    "\n",
    "    #紀錄總交易資訊\n",
    "    detail = []\n",
    "    #紀錄單列交易資訊\n",
    "    temp_detail = []\n",
    "    \n",
    "    #買入價格，方便賣出時計算報酬\n",
    "    buy_price = 0\n",
    "    # 紀錄起始資金，方便計算總報酬\n",
    "    funds = _ticker.loc[_ticker.index[0], 'account']\n",
    "\n",
    "    for i in range(1, len(_ticker)):\n",
    "\n",
    "        # buy info # 交易資訊\n",
    "        if _ticker.loc[_ticker.index[i], 'ticker_num'] \\\n",
    "            > _ticker.loc[_ticker.index[i - 1], 'ticker_num']:\n",
    "                    \n",
    "            # 交易日期\n",
    "            temp_detail.append(_ticker.index[i])\n",
    "            # 交易數量(股)\n",
    "            temp_detail.append(_ticker.loc[_ticker.index[i], 'ticker_num'] \\\n",
    "                - _ticker.loc[_ticker.index[i - 1], 'ticker_num'])\n",
    "            # 交易價格\n",
    "            temp_detail.append(_ticker.loc[_ticker.index[i], 'Close'])\n",
    "            # 交易價格(含稅)\n",
    "            temp_detail.append(_ticker.loc[_ticker.index[i], 'Close'] * 1.001425)\n",
    "            # 總手續費(手續費加交易稅)\n",
    "            temp_detail.append(_ticker.loc[_ticker.index[i], 'Close'] \\\n",
    "                * 0.001425 * _ticker.loc[_ticker.index[i], 'ticker_num'])\n",
    "            # 總花費\n",
    "            temp_detail.append(_ticker.loc[_ticker.index[i], 'expenditure'])\n",
    "            # 此次交易報酬，買入時無資料\n",
    "            temp_detail.append(np.nan)\n",
    "            # 此次交易報酬率，買入時無資料\n",
    "            temp_detail.append(np.nan)\n",
    "            # 目前總交易報酬，買入時無資料\n",
    "            temp_detail.append(np.nan)\n",
    "            # 目前總交易報酬率，買入時無資料\n",
    "            temp_detail.append(np.nan)\n",
    "            # 目前帳戶餘額\n",
    "            temp_detail.append(_ticker.loc[_ticker.index[i], 'account'])\n",
    "            # 更新買價，方便下次賣出時計算\n",
    "            buy_price = _ticker.loc[_ticker.index[i], 'expenditure']\n",
    "\n",
    "            # 將資料推入串列\n",
    "            detail.append(temp_detail)\n",
    "            # 進入下一列\n",
    "            temp_detail = []\n",
    "\n",
    "        # sell info\n",
    "        elif _ticker.loc[_ticker.index[i], 'ticker_num'] \\\n",
    "            < _ticker.loc[_ticker.index[i - 1], 'ticker_num']:\n",
    "            \n",
    "            # 交易日期\n",
    "            temp_detail.append(_ticker.index[i])\n",
    "            # 交易數量(股)\n",
    "            temp_detail.append(_ticker.loc[_ticker.index[i], 'ticker_num'] \\\n",
    "                - _ticker.loc[_ticker.index[i - 1], 'ticker_num'])\n",
    "            # 交易價格\n",
    "            temp_detail.append(_ticker.loc[_ticker.index[i], 'Close'])\n",
    "            # 交易價格(含稅)\n",
    "            temp_detail.append(_ticker.loc[_ticker.index[i], 'Close'] * 0.995575)\n",
    "            # 總手續費(手續費加交易稅)\n",
    "            temp_detail.append(_ticker.loc[_ticker.index[i], 'Close'] \\\n",
    "                * 0.004425 *  _ticker.loc[_ticker.index[i - 1], 'ticker_num'])\n",
    "            # 總收入 \n",
    "            temp_detail.append(_ticker.loc[_ticker.index[i], 'income'])\n",
    "            # 此次交易報酬\n",
    "            temp_detail.append(_ticker.loc[_ticker.index[i], 'income'] + buy_price)\n",
    "            # 此次交易報酬率\n",
    "            temp_detail.append((_ticker.loc[_ticker.index[i], 'income'] + buy_price) / (-buy_price) * 100)\n",
    "            # 目前總交易報酬\n",
    "            temp_detail.append(_ticker.loc[_ticker.index[i], 'account'] - funds)\n",
    "            # 目前總交易報酬率\n",
    "            temp_detail.append((_ticker.loc[_ticker.index[i], 'account'] - funds) / funds * 100)\n",
    "            # 目前帳戶餘額\n",
    "            temp_detail.append(_ticker.loc[_ticker.index[i], 'account'])\n",
    "\n",
    "            # 將資料推入串列\n",
    "            detail.append(temp_detail)\n",
    "            # 進入下一列\n",
    "            temp_detail = []\n",
    "            \n",
    "    # 將串列改成 dataframe 後回傳，並加上各行名稱\n",
    "    return pd.DataFrame(detail, columns=['Date', 'ticker_num', 'price', 'price(with_tax)', 'tax', \n",
    "        'spend', 'profit', 'profit_rate', 'profit_sum', 'profit_sum_rate', 'account'])"
   ]
  },
  {
   "cell_type": "markdown",
   "metadata": {},
   "source": [
    "## 交易結論數據"
   ]
  },
  {
   "cell_type": "code",
   "execution_count": 20,
   "metadata": {},
   "outputs": [],
   "source": [
    "def get_result(_df):\n",
    "    # 回傳 買賣次數  贏 輸 勝率 報酬率\n",
    "    # ['Trades', 'Win', 'Loss', 'Win_Rate', 'Profit']\n",
    "    \n",
    "    # 計算勝利的次數\n",
    "    win = 0\n",
    "    #計算敗的次數\n",
    "    loss = 0\n",
    "    \n",
    "    # 報酬大於零是為勝利，反之為敗\n",
    "    for i in range(1, len(_df), 2):\n",
    "        if _df.loc[_df.index[i], 'profit_rate'] > 0:\n",
    "            win += 1\n",
    "        else :\n",
    "            loss += 1\n",
    "\n",
    "    # 如果沒有任何交易，例外處理\n",
    "    if win + loss == 0:\n",
    "        return [win + loss, win, loss, 0, 0]\n",
    "\n",
    "    # 回傳資料\n",
    "    return [win + loss, win, loss, win / (win + loss), _df.loc[_df.index[len(_df) - 1], 'profit_sum_rate']]"
   ]
  },
  {
   "cell_type": "markdown",
   "metadata": {},
   "source": [
    "# 實作"
   ]
  },
  {
   "cell_type": "code",
   "execution_count": 10,
   "metadata": {},
   "outputs": [
    {
     "name": "stdout",
     "output_type": "stream",
     "text": [
      "[]\n",
      "STOCK_DAY_2330_201101.csv\n",
      "STOCK_DAY_2330_201102.csv\n",
      "STOCK_DAY_2330_201103.csv\n",
      "STOCK_DAY_2330_201104.csv\n",
      "STOCK_DAY_2330_201105.csv\n",
      "STOCK_DAY_2330_201106.csv\n",
      "STOCK_DAY_2330_201107.csv\n",
      "STOCK_DAY_2330_201108.csv\n",
      "STOCK_DAY_2330_201109.csv\n",
      "STOCK_DAY_2330_201110.csv\n",
      "STOCK_DAY_2330_201111.csv\n",
      "STOCK_DAY_2330_201112.csv\n",
      "STOCK_DAY_2330_201208.csv\n",
      "STOCK_DAY_2330_201209.csv\n",
      "STOCK_DAY_2330_201210.csv\n",
      "STOCK_DAY_2330_201211.csv\n",
      "STOCK_DAY_2330_201212.csv\n",
      "STOCK_DAY_2330_201311.csv\n",
      "STOCK_DAY_2330_201312.csv\n",
      "STOCK_DAY_2330_201401.csv\n",
      "STOCK_DAY_2330_201402.csv\n",
      "STOCK_DAY_2330_201403.csv\n",
      "STOCK_DAY_2330_201404.csv\n",
      "STOCK_DAY_2330_201405.csv\n",
      "STOCK_DAY_2330_201406.csv\n",
      "STOCK_DAY_2330_201407.csv\n",
      "STOCK_DAY_2330_201408.csv\n",
      "STOCK_DAY_2330_202201.csv\n",
      "STOCK_DAY_2330_202202.csv\n",
      "STOCK_DAY_2330_202203.csv\n",
      "STOCK_DAY_2330_202204.csv\n",
      "STOCK_DAY_2330_202205.csv\n",
      "STOCK_DAY_2330_202206.csv\n",
      "STOCK_DAY_2330_202207.csv\n",
      "STOCK_DAY_2330_202208.csv\n",
      "STOCK_DAY_2330_202209.csv\n",
      "STOCK_DAY_2330_202210.csv\n"
     ]
    }
   ],
   "source": [
    "# 藉由爬蟲取得一年之股票資料\n",
    "stock = input(\"查詢股票代碼(2303) -> \")\n",
    "# year = input(\"查詢年份(2021) -> \")\n",
    "\n",
    "# crawl_stock_tw_v1(stock, year)\n",
    "move_stock_tw(stock)\n",
    "merge_stock_tw(stock)"
   ]
  },
  {
   "cell_type": "code",
   "execution_count": 14,
   "metadata": {
    "scrolled": true
   },
   "outputs": [
    {
     "ename": "KeyboardInterrupt",
     "evalue": "",
     "output_type": "error",
     "traceback": [
      "\u001b[1;31m---------------------------------------------------------------------------\u001b[0m",
      "\u001b[1;31mKeyboardInterrupt\u001b[0m                         Traceback (most recent call last)",
      "\u001b[1;32m~\\AppData\\Local\\Temp/ipykernel_49124/924508306.py\u001b[0m in \u001b[0;36m<module>\u001b[1;34m\u001b[0m\n\u001b[0;32m      4\u001b[0m \u001b[1;32mfor\u001b[0m \u001b[0mt\u001b[0m \u001b[1;32min\u001b[0m \u001b[0mstock_list\u001b[0m\u001b[1;33m:\u001b[0m\u001b[1;33m\u001b[0m\u001b[1;33m\u001b[0m\u001b[0m\n\u001b[0;32m      5\u001b[0m     \u001b[1;32mfor\u001b[0m \u001b[0my\u001b[0m \u001b[1;32min\u001b[0m \u001b[0mrange\u001b[0m\u001b[1;33m(\u001b[0m\u001b[1;36m2015\u001b[0m\u001b[1;33m,\u001b[0m \u001b[1;36m2022\u001b[0m\u001b[1;33m)\u001b[0m\u001b[1;33m:\u001b[0m\u001b[1;33m\u001b[0m\u001b[1;33m\u001b[0m\u001b[0m\n\u001b[1;32m----> 6\u001b[1;33m         \u001b[0mcrawl_stock_tw_v3\u001b[0m\u001b[1;33m(\u001b[0m\u001b[0mt\u001b[0m\u001b[1;33m,\u001b[0m \u001b[0my\u001b[0m\u001b[1;33m)\u001b[0m\u001b[1;33m\u001b[0m\u001b[1;33m\u001b[0m\u001b[0m\n\u001b[0m\u001b[0;32m      7\u001b[0m     \u001b[0mmove_stock_tw\u001b[0m\u001b[1;33m(\u001b[0m\u001b[0mt\u001b[0m\u001b[1;33m)\u001b[0m\u001b[1;33m\u001b[0m\u001b[1;33m\u001b[0m\u001b[0m\n\u001b[0;32m      8\u001b[0m     \u001b[0mmerge_stock_tw\u001b[0m\u001b[1;33m(\u001b[0m\u001b[0mt\u001b[0m\u001b[1;33m)\u001b[0m\u001b[1;33m\u001b[0m\u001b[1;33m\u001b[0m\u001b[0m\n",
      "\u001b[1;32m~\\AppData\\Local\\Temp/ipykernel_49124/1187056397.py\u001b[0m in \u001b[0;36mcrawl_stock_tw_v3\u001b[1;34m(_ticker, _year)\u001b[0m\n\u001b[0;32m      9\u001b[0m         \u001b[0murl\u001b[0m \u001b[1;33m=\u001b[0m \u001b[1;34mf'https://www.tpex.org.tw/web/stock/aftertrading/daily_trading_info/st43_download_UTF-8.php?l=zh-tw&d={_year-1911}/{i:02}&stkno={_ticker}&s=0,asc,0'\u001b[0m\u001b[1;33m\u001b[0m\u001b[1;33m\u001b[0m\u001b[0m\n\u001b[0;32m     10\u001b[0m         \u001b[0mbrowser\u001b[0m\u001b[1;33m.\u001b[0m\u001b[0mget\u001b[0m\u001b[1;33m(\u001b[0m\u001b[0murl\u001b[0m\u001b[1;33m)\u001b[0m\u001b[1;33m\u001b[0m\u001b[1;33m\u001b[0m\u001b[0m\n\u001b[1;32m---> 11\u001b[1;33m         \u001b[0msleep\u001b[0m\u001b[1;33m(\u001b[0m\u001b[1;36m5\u001b[0m\u001b[1;33m)\u001b[0m\u001b[1;33m\u001b[0m\u001b[1;33m\u001b[0m\u001b[0m\n\u001b[0m\u001b[0;32m     12\u001b[0m \u001b[1;33m\u001b[0m\u001b[0m\n\u001b[0;32m     13\u001b[0m     \u001b[0mbrowser\u001b[0m\u001b[1;33m.\u001b[0m\u001b[0mclose\u001b[0m\u001b[1;33m(\u001b[0m\u001b[1;33m)\u001b[0m\u001b[1;33m\u001b[0m\u001b[1;33m\u001b[0m\u001b[0m\n",
      "\u001b[1;31mKeyboardInterrupt\u001b[0m: "
     ]
    }
   ],
   "source": [
    "# stock_list = ['0050', '0056', '2303', '2308', '2317', '2330', '2353', '2357', '2454', '2609', '2834', '2886', '5351']\n",
    "stock_list = ['3169']\n",
    "\n",
    "for t in stock_list:\n",
    "    for y in range(2015, 2022):\n",
    "        crawl_stock_tw_v3(t, y)\n",
    "    move_stock_tw(t)\n",
    "    merge_stock_tw(t)\n"
   ]
  },
  {
   "cell_type": "code",
   "execution_count": 50,
   "metadata": {},
   "outputs": [],
   "source": [
    "data = '2303'\n",
    "\n",
    "ticker = read_ticker_v2(data + '.csv')\n",
    "ticker = MA(ticker, period=5, field='Close')\n",
    "ticker = MA(ticker, period=10, field='Close')\n",
    "ticker = MA(ticker, period=20, field='Close')\n",
    "ticker = RSI(ticker, period = 14)\n",
    "ticker = KD(ticker, period = 9)\n",
    "tikcer = MACD(ticker, fast_period=12, slow_period=26, signal_period=9)\n",
    "ticker = BBands(ticker, period=20, std_num=2)\n",
    "# 五日後漲標記 1，反之標記 0\n",
    "ticker['week_trend'] = np.where(ticker.Close.shift(-3) > ticker.Close, 1, 0)\n",
    "\n",
    "ticker.dropna(axis=1, how='any', inplace=True)\n",
    "# print(ticker.isnull().sum())\n",
    "\n",
    "\n",
    "# 決定切割比例為 80%:20%\n",
    "split_point = int(len(ticker)*0.8)\n",
    "# 切割成學習樣本以及測試樣本\n",
    "train = ticker.iloc[:split_point,:].copy()\n",
    "test = ticker.iloc[split_point:-5,:].copy()\n",
    "\n",
    "# 訓練樣本再分成目標序列 y 以及因子矩陣 X\n",
    "train_x = train.drop('week_trend', axis = 1)\n",
    "train_y = train.week_trend\n",
    "# 測試樣本再分成目標序列 y 以及因子矩陣 X\n",
    "test_x = test.drop('week_trend', axis = 1)\n",
    "test_y = test.week_trend"
   ]
  },
  {
   "cell_type": "code",
   "execution_count": 51,
   "metadata": {},
   "outputs": [],
   "source": [
    "# 叫出一棵決策樹\n",
    "model = DecisionTreeClassifier(max_depth = 8)\n",
    "\n",
    "# 讓 A.I. 學習\n",
    "model.fit(train_x, train_y)\n",
    "\n",
    "# 讓 A.I. 測驗，prediction 存放了 A.I. 根據測試集做出的預測\n",
    "prediction = model.predict(test_x)"
   ]
  },
  {
   "cell_type": "code",
   "execution_count": 52,
   "metadata": {
    "scrolled": false
   },
   "outputs": [
    {
     "data": {
      "image/svg+xml": "<?xml version=\"1.0\" encoding=\"UTF-8\" standalone=\"no\"?>\n<!DOCTYPE svg PUBLIC \"-//W3C//DTD SVG 1.1//EN\"\n \"http://www.w3.org/Graphics/SVG/1.1/DTD/svg11.dtd\">\n<!-- Generated by graphviz version 4.0.0 (20220529.0937)\n -->\n<!-- Title: Tree Pages: 1 -->\n<svg width=\"2868pt\" height=\"984pt\"\n viewBox=\"0.00 0.00 2868.00 984.00\" xmlns=\"http://www.w3.org/2000/svg\" xmlns:xlink=\"http://www.w3.org/1999/xlink\">\n<g id=\"graph0\" class=\"graph\" transform=\"scale(1 1) rotate(0) translate(4 980)\">\n<title>Tree</title>\n<polygon fill=\"white\" stroke=\"transparent\" points=\"-4,4 -4,-980 2864,-980 2864,4 -4,4\"/>\n<!-- 0 -->\n<g id=\"node1\" class=\"node\">\n<title>0</title>\n<path fill=\"#e5f2fc\" stroke=\"black\" d=\"M2193.5,-976C2193.5,-976 2087.5,-976 2087.5,-976 2081.5,-976 2075.5,-970 2075.5,-964 2075.5,-964 2075.5,-910 2075.5,-910 2075.5,-904 2081.5,-898 2087.5,-898 2087.5,-898 2193.5,-898 2193.5,-898 2199.5,-898 2205.5,-904 2205.5,-910 2205.5,-910 2205.5,-964 2205.5,-964 2205.5,-970 2199.5,-976 2193.5,-976\"/>\n<text text-anchor=\"start\" x=\"2101\" y=\"-961.8\" font-family=\"Helvetica,sans-Serif\" font-size=\"14.00\">Low ≤ 52.35</text>\n<text text-anchor=\"start\" x=\"2103\" y=\"-947.8\" font-family=\"Helvetica,sans-Serif\" font-size=\"14.00\">gini = 0.498</text>\n<text text-anchor=\"start\" x=\"2093\" y=\"-933.8\" font-family=\"Helvetica,sans-Serif\" font-size=\"14.00\">samples = 572</text>\n<text text-anchor=\"start\" x=\"2083.5\" y=\"-919.8\" font-family=\"Helvetica,sans-Serif\" font-size=\"14.00\">value = [266, 306]</text>\n<text text-anchor=\"start\" x=\"2109\" y=\"-905.8\" font-family=\"Helvetica,sans-Serif\" font-size=\"14.00\">class = y</text>\n<text text-anchor=\"start\" x=\"2165\" y=\"-905.8\" font-family=\"Helvetica,sans-Serif\" baseline-shift=\"sub\" font-size=\"14.00\">1</text>\n</g>\n<!-- 1 -->\n<g id=\"node2\" class=\"node\">\n<title>1</title>\n<path fill=\"#d8ecfa\" stroke=\"black\" d=\"M2074.5,-862C2074.5,-862 1964.5,-862 1964.5,-862 1958.5,-862 1952.5,-856 1952.5,-850 1952.5,-850 1952.5,-796 1952.5,-796 1952.5,-790 1958.5,-784 1964.5,-784 1964.5,-784 2074.5,-784 2074.5,-784 2080.5,-784 2086.5,-790 2086.5,-796 2086.5,-796 2086.5,-850 2086.5,-850 2086.5,-856 2080.5,-862 2074.5,-862\"/>\n<text text-anchor=\"start\" x=\"1960.5\" y=\"-847.8\" font-family=\"Helvetica,sans-Serif\" font-size=\"14.00\">Volume ≤ 96957.5</text>\n<text text-anchor=\"start\" x=\"1982\" y=\"-833.8\" font-family=\"Helvetica,sans-Serif\" font-size=\"14.00\">gini = 0.494</text>\n<text text-anchor=\"start\" x=\"1972\" y=\"-819.8\" font-family=\"Helvetica,sans-Serif\" font-size=\"14.00\">samples = 543</text>\n<text text-anchor=\"start\" x=\"1962.5\" y=\"-805.8\" font-family=\"Helvetica,sans-Serif\" font-size=\"14.00\">value = [242, 301]</text>\n<text text-anchor=\"start\" x=\"1988\" y=\"-791.8\" font-family=\"Helvetica,sans-Serif\" font-size=\"14.00\">class = y</text>\n<text text-anchor=\"start\" x=\"2044\" y=\"-791.8\" font-family=\"Helvetica,sans-Serif\" baseline-shift=\"sub\" font-size=\"14.00\">1</text>\n</g>\n<!-- 0&#45;&gt;1 -->\n<g id=\"edge1\" class=\"edge\">\n<title>0&#45;&gt;1</title>\n<path fill=\"none\" stroke=\"black\" d=\"M2099.2,-897.77C2089.17,-888.49 2078.36,-878.48 2068.03,-868.92\"/>\n<polygon fill=\"black\" stroke=\"black\" points=\"2070.33,-866.28 2060.62,-862.06 2065.58,-871.42 2070.33,-866.28\"/>\n<text text-anchor=\"middle\" x=\"2061.58\" y=\"-883.34\" font-family=\"Helvetica,sans-Serif\" font-size=\"14.00\">True</text>\n</g>\n<!-- 76 -->\n<g id=\"node77\" class=\"node\">\n<title>76</title>\n<path fill=\"#ea9b62\" stroke=\"black\" d=\"M2331.5,-862C2331.5,-862 2213.5,-862 2213.5,-862 2207.5,-862 2201.5,-856 2201.5,-850 2201.5,-850 2201.5,-796 2201.5,-796 2201.5,-790 2207.5,-784 2213.5,-784 2213.5,-784 2331.5,-784 2331.5,-784 2337.5,-784 2343.5,-790 2343.5,-796 2343.5,-796 2343.5,-850 2343.5,-850 2343.5,-856 2337.5,-862 2331.5,-862\"/>\n<text text-anchor=\"start\" x=\"2209.5\" y=\"-847.8\" font-family=\"Helvetica,sans-Serif\" font-size=\"14.00\">Volume ≤ 155192.5</text>\n<text text-anchor=\"start\" x=\"2235\" y=\"-833.8\" font-family=\"Helvetica,sans-Serif\" font-size=\"14.00\">gini = 0.285</text>\n<text text-anchor=\"start\" x=\"2229\" y=\"-819.8\" font-family=\"Helvetica,sans-Serif\" font-size=\"14.00\">samples = 29</text>\n<text text-anchor=\"start\" x=\"2228\" y=\"-805.8\" font-family=\"Helvetica,sans-Serif\" font-size=\"14.00\">value = [24, 5]</text>\n<text text-anchor=\"start\" x=\"2241\" y=\"-791.8\" font-family=\"Helvetica,sans-Serif\" font-size=\"14.00\">class = y</text>\n<text text-anchor=\"start\" x=\"2297\" y=\"-791.8\" font-family=\"Helvetica,sans-Serif\" baseline-shift=\"sub\" font-size=\"14.00\">0</text>\n</g>\n<!-- 0&#45;&gt;76 -->\n<g id=\"edge76\" class=\"edge\">\n<title>0&#45;&gt;76</title>\n<path fill=\"none\" stroke=\"black\" d=\"M2185.56,-897.77C2196.6,-888.4 2208.52,-878.29 2219.88,-868.64\"/>\n<polygon fill=\"black\" stroke=\"black\" points=\"2222.28,-871.2 2227.65,-862.06 2217.76,-865.86 2222.28,-871.2\"/>\n<text text-anchor=\"middle\" x=\"2225.6\" y=\"-883.27\" font-family=\"Helvetica,sans-Serif\" font-size=\"14.00\">False</text>\n</g>\n<!-- 2 -->\n<g id=\"node3\" class=\"node\">\n<title>2</title>\n<path fill=\"#fefbf8\" stroke=\"black\" d=\"M1009.5,-748C1009.5,-748 903.5,-748 903.5,-748 897.5,-748 891.5,-742 891.5,-736 891.5,-736 891.5,-682 891.5,-682 891.5,-676 897.5,-670 903.5,-670 903.5,-670 1009.5,-670 1009.5,-670 1015.5,-670 1021.5,-676 1021.5,-682 1021.5,-682 1021.5,-736 1021.5,-736 1021.5,-742 1015.5,-748 1009.5,-748\"/>\n<text text-anchor=\"start\" x=\"907.5\" y=\"-733.8\" font-family=\"Helvetica,sans-Serif\" font-size=\"14.00\">Close ≤ 11.575</text>\n<text text-anchor=\"start\" x=\"927.5\" y=\"-719.8\" font-family=\"Helvetica,sans-Serif\" font-size=\"14.00\">gini = 0.5</text>\n<text text-anchor=\"start\" x=\"909\" y=\"-705.8\" font-family=\"Helvetica,sans-Serif\" font-size=\"14.00\">samples = 354</text>\n<text text-anchor=\"start\" x=\"899.5\" y=\"-691.8\" font-family=\"Helvetica,sans-Serif\" font-size=\"14.00\">value = [180, 174]</text>\n<text text-anchor=\"start\" x=\"925\" y=\"-677.8\" font-family=\"Helvetica,sans-Serif\" font-size=\"14.00\">class = y</text>\n<text text-anchor=\"start\" x=\"981\" y=\"-677.8\" font-family=\"Helvetica,sans-Serif\" baseline-shift=\"sub\" font-size=\"14.00\">0</text>\n</g>\n<!-- 1&#45;&gt;2 -->\n<g id=\"edge2\" class=\"edge\">\n<title>1&#45;&gt;2</title>\n<path fill=\"none\" stroke=\"black\" d=\"M1952.2,-814.91C1763.46,-795.02 1229.99,-738.82 1031.84,-717.94\"/>\n<polygon fill=\"black\" stroke=\"black\" points=\"1032.12,-714.45 1021.81,-716.88 1031.39,-721.41 1032.12,-714.45\"/>\n</g>\n<!-- 47 -->\n<g id=\"node48\" class=\"node\">\n<title>47</title>\n<path fill=\"#9acdf2\" stroke=\"black\" d=\"M2068.5,-748C2068.5,-748 1970.5,-748 1970.5,-748 1964.5,-748 1958.5,-742 1958.5,-736 1958.5,-736 1958.5,-682 1958.5,-682 1958.5,-676 1964.5,-670 1970.5,-670 1970.5,-670 2068.5,-670 2068.5,-670 2074.5,-670 2080.5,-676 2080.5,-682 2080.5,-682 2080.5,-736 2080.5,-736 2080.5,-742 2074.5,-748 2068.5,-748\"/>\n<text text-anchor=\"start\" x=\"1984.5\" y=\"-733.8\" font-family=\"Helvetica,sans-Serif\" font-size=\"14.00\">K ≤ 99.493</text>\n<text text-anchor=\"start\" x=\"1982\" y=\"-719.8\" font-family=\"Helvetica,sans-Serif\" font-size=\"14.00\">gini = 0.441</text>\n<text text-anchor=\"start\" x=\"1972\" y=\"-705.8\" font-family=\"Helvetica,sans-Serif\" font-size=\"14.00\">samples = 189</text>\n<text text-anchor=\"start\" x=\"1966.5\" y=\"-691.8\" font-family=\"Helvetica,sans-Serif\" font-size=\"14.00\">value = [62, 127]</text>\n<text text-anchor=\"start\" x=\"1988\" y=\"-677.8\" font-family=\"Helvetica,sans-Serif\" font-size=\"14.00\">class = y</text>\n<text text-anchor=\"start\" x=\"2044\" y=\"-677.8\" font-family=\"Helvetica,sans-Serif\" baseline-shift=\"sub\" font-size=\"14.00\">1</text>\n</g>\n<!-- 1&#45;&gt;47 -->\n<g id=\"edge47\" class=\"edge\">\n<title>1&#45;&gt;47</title>\n<path fill=\"none\" stroke=\"black\" d=\"M2019.5,-783.77C2019.5,-775.57 2019.5,-766.8 2019.5,-758.28\"/>\n<polygon fill=\"black\" stroke=\"black\" points=\"2023,-758.06 2019.5,-748.06 2016,-758.06 2023,-758.06\"/>\n</g>\n<!-- 3 -->\n<g id=\"node4\" class=\"node\">\n<title>3</title>\n<path fill=\"#6eb7ec\" stroke=\"black\" d=\"M716.5,-634C716.5,-634 606.5,-634 606.5,-634 600.5,-634 594.5,-628 594.5,-622 594.5,-622 594.5,-568 594.5,-568 594.5,-562 600.5,-556 606.5,-556 606.5,-556 716.5,-556 716.5,-556 722.5,-556 728.5,-562 728.5,-568 728.5,-568 728.5,-622 728.5,-622 728.5,-628 722.5,-634 716.5,-634\"/>\n<text text-anchor=\"start\" x=\"602.5\" y=\"-619.8\" font-family=\"Helvetica,sans-Serif\" font-size=\"14.00\">Volume ≤ 88790.0</text>\n<text text-anchor=\"start\" x=\"624\" y=\"-605.8\" font-family=\"Helvetica,sans-Serif\" font-size=\"14.00\">gini = 0.334</text>\n<text text-anchor=\"start\" x=\"618\" y=\"-591.8\" font-family=\"Helvetica,sans-Serif\" font-size=\"14.00\">samples = 33</text>\n<text text-anchor=\"start\" x=\"617\" y=\"-577.8\" font-family=\"Helvetica,sans-Serif\" font-size=\"14.00\">value = [7, 26]</text>\n<text text-anchor=\"start\" x=\"630\" y=\"-563.8\" font-family=\"Helvetica,sans-Serif\" font-size=\"14.00\">class = y</text>\n<text text-anchor=\"start\" x=\"686\" y=\"-563.8\" font-family=\"Helvetica,sans-Serif\" baseline-shift=\"sub\" font-size=\"14.00\">1</text>\n</g>\n<!-- 2&#45;&gt;3 -->\n<g id=\"edge3\" class=\"edge\">\n<title>2&#45;&gt;3</title>\n<path fill=\"none\" stroke=\"black\" d=\"M891.4,-683.28C846.23,-666.14 785.9,-643.23 738.37,-625.18\"/>\n<polygon fill=\"black\" stroke=\"black\" points=\"739.33,-621.81 728.74,-621.53 736.85,-628.35 739.33,-621.81\"/>\n</g>\n<!-- 14 -->\n<g id=\"node15\" class=\"node\">\n<title>14</title>\n<path fill=\"#fbede2\" stroke=\"black\" d=\"M1009.5,-634C1009.5,-634 903.5,-634 903.5,-634 897.5,-634 891.5,-628 891.5,-622 891.5,-622 891.5,-568 891.5,-568 891.5,-562 897.5,-556 903.5,-556 903.5,-556 1009.5,-556 1009.5,-556 1015.5,-556 1021.5,-562 1021.5,-568 1021.5,-568 1021.5,-622 1021.5,-622 1021.5,-628 1015.5,-634 1009.5,-634\"/>\n<text text-anchor=\"start\" x=\"908.5\" y=\"-619.8\" font-family=\"Helvetica,sans-Serif\" font-size=\"14.00\">Open ≤ 12.975</text>\n<text text-anchor=\"start\" x=\"919\" y=\"-605.8\" font-family=\"Helvetica,sans-Serif\" font-size=\"14.00\">gini = 0.497</text>\n<text text-anchor=\"start\" x=\"909\" y=\"-591.8\" font-family=\"Helvetica,sans-Serif\" font-size=\"14.00\">samples = 321</text>\n<text text-anchor=\"start\" x=\"899.5\" y=\"-577.8\" font-family=\"Helvetica,sans-Serif\" font-size=\"14.00\">value = [173, 148]</text>\n<text text-anchor=\"start\" x=\"925\" y=\"-563.8\" font-family=\"Helvetica,sans-Serif\" font-size=\"14.00\">class = y</text>\n<text text-anchor=\"start\" x=\"981\" y=\"-563.8\" font-family=\"Helvetica,sans-Serif\" baseline-shift=\"sub\" font-size=\"14.00\">0</text>\n</g>\n<!-- 2&#45;&gt;14 -->\n<g id=\"edge14\" class=\"edge\">\n<title>2&#45;&gt;14</title>\n<path fill=\"none\" stroke=\"black\" d=\"M956.5,-669.77C956.5,-661.57 956.5,-652.8 956.5,-644.28\"/>\n<polygon fill=\"black\" stroke=\"black\" points=\"960,-644.06 956.5,-634.06 953,-644.06 960,-644.06\"/>\n</g>\n<!-- 4 -->\n<g id=\"node5\" class=\"node\">\n<title>4</title>\n<path fill=\"#67b4eb\" stroke=\"black\" d=\"M484,-520C484,-520 403,-520 403,-520 397,-520 391,-514 391,-508 391,-508 391,-454 391,-454 391,-448 397,-442 403,-442 403,-442 484,-442 484,-442 490,-442 496,-448 496,-454 496,-454 496,-508 496,-508 496,-514 490,-520 484,-520\"/>\n<text text-anchor=\"start\" x=\"408\" y=\"-505.8\" font-family=\"Helvetica,sans-Serif\" font-size=\"14.00\">D ≤ 66.504</text>\n<text text-anchor=\"start\" x=\"406\" y=\"-491.8\" font-family=\"Helvetica,sans-Serif\" font-size=\"14.00\">gini = 0.305</text>\n<text text-anchor=\"start\" x=\"400\" y=\"-477.8\" font-family=\"Helvetica,sans-Serif\" font-size=\"14.00\">samples = 32</text>\n<text text-anchor=\"start\" x=\"399\" y=\"-463.8\" font-family=\"Helvetica,sans-Serif\" font-size=\"14.00\">value = [6, 26]</text>\n<text text-anchor=\"start\" x=\"412\" y=\"-449.8\" font-family=\"Helvetica,sans-Serif\" font-size=\"14.00\">class = y</text>\n<text text-anchor=\"start\" x=\"468\" y=\"-449.8\" font-family=\"Helvetica,sans-Serif\" baseline-shift=\"sub\" font-size=\"14.00\">1</text>\n</g>\n<!-- 3&#45;&gt;4 -->\n<g id=\"edge4\" class=\"edge\">\n<title>3&#45;&gt;4</title>\n<path fill=\"none\" stroke=\"black\" d=\"M594.31,-559.48C565.99,-544.93 533.22,-528.1 505.49,-513.85\"/>\n<polygon fill=\"black\" stroke=\"black\" points=\"506.78,-510.58 496.28,-509.12 503.58,-516.8 506.78,-510.58\"/>\n</g>\n<!-- 13 -->\n<g id=\"node14\" class=\"node\">\n<title>13</title>\n<path fill=\"#e58139\" stroke=\"black\" d=\"M698,-513C698,-513 625,-513 625,-513 619,-513 613,-507 613,-501 613,-501 613,-461 613,-461 613,-455 619,-449 625,-449 625,-449 698,-449 698,-449 704,-449 710,-455 710,-461 710,-461 710,-501 710,-501 710,-507 704,-513 698,-513\"/>\n<text text-anchor=\"start\" x=\"632.5\" y=\"-498.8\" font-family=\"Helvetica,sans-Serif\" font-size=\"14.00\">gini = 0.0</text>\n<text text-anchor=\"start\" x=\"622\" y=\"-484.8\" font-family=\"Helvetica,sans-Serif\" font-size=\"14.00\">samples = 1</text>\n<text text-anchor=\"start\" x=\"621\" y=\"-470.8\" font-family=\"Helvetica,sans-Serif\" font-size=\"14.00\">value = [1, 0]</text>\n<text text-anchor=\"start\" x=\"630\" y=\"-456.8\" font-family=\"Helvetica,sans-Serif\" font-size=\"14.00\">class = y</text>\n<text text-anchor=\"start\" x=\"686\" y=\"-456.8\" font-family=\"Helvetica,sans-Serif\" baseline-shift=\"sub\" font-size=\"14.00\">0</text>\n</g>\n<!-- 3&#45;&gt;13 -->\n<g id=\"edge13\" class=\"edge\">\n<title>3&#45;&gt;13</title>\n<path fill=\"none\" stroke=\"black\" d=\"M661.5,-555.77C661.5,-545.31 661.5,-533.94 661.5,-523.32\"/>\n<polygon fill=\"black\" stroke=\"black\" points=\"665,-523.01 661.5,-513.01 658,-523.01 665,-523.01\"/>\n</g>\n<!-- 5 -->\n<g id=\"node6\" class=\"node\">\n<title>5</title>\n<path fill=\"#83c2ef\" stroke=\"black\" d=\"M348,-406C348,-406 267,-406 267,-406 261,-406 255,-400 255,-394 255,-394 255,-340 255,-340 255,-334 261,-328 267,-328 267,-328 348,-328 348,-328 354,-328 360,-334 360,-340 360,-340 360,-394 360,-394 360,-400 354,-406 348,-406\"/>\n<text text-anchor=\"start\" x=\"272\" y=\"-391.8\" font-family=\"Helvetica,sans-Serif\" font-size=\"14.00\">D ≤ 60.476</text>\n<text text-anchor=\"start\" x=\"270\" y=\"-377.8\" font-family=\"Helvetica,sans-Serif\" font-size=\"14.00\">gini = 0.397</text>\n<text text-anchor=\"start\" x=\"264\" y=\"-363.8\" font-family=\"Helvetica,sans-Serif\" font-size=\"14.00\">samples = 22</text>\n<text text-anchor=\"start\" x=\"263\" y=\"-349.8\" font-family=\"Helvetica,sans-Serif\" font-size=\"14.00\">value = [6, 16]</text>\n<text text-anchor=\"start\" x=\"276\" y=\"-335.8\" font-family=\"Helvetica,sans-Serif\" font-size=\"14.00\">class = y</text>\n<text text-anchor=\"start\" x=\"332\" y=\"-335.8\" font-family=\"Helvetica,sans-Serif\" baseline-shift=\"sub\" font-size=\"14.00\">1</text>\n</g>\n<!-- 4&#45;&gt;5 -->\n<g id=\"edge5\" class=\"edge\">\n<title>4&#45;&gt;5</title>\n<path fill=\"none\" stroke=\"black\" d=\"M397.08,-441.77C385.7,-432.4 373.42,-422.29 361.71,-412.64\"/>\n<polygon fill=\"black\" stroke=\"black\" points=\"363.66,-409.71 353.71,-406.06 359.21,-415.12 363.66,-409.71\"/>\n</g>\n<!-- 12 -->\n<g id=\"node13\" class=\"node\">\n<title>12</title>\n<path fill=\"#399de5\" stroke=\"black\" d=\"M484,-399C484,-399 403,-399 403,-399 397,-399 391,-393 391,-387 391,-387 391,-347 391,-347 391,-341 397,-335 403,-335 403,-335 484,-335 484,-335 490,-335 496,-341 496,-347 496,-347 496,-387 496,-387 496,-393 490,-399 484,-399\"/>\n<text text-anchor=\"start\" x=\"414.5\" y=\"-384.8\" font-family=\"Helvetica,sans-Serif\" font-size=\"14.00\">gini = 0.0</text>\n<text text-anchor=\"start\" x=\"400\" y=\"-370.8\" font-family=\"Helvetica,sans-Serif\" font-size=\"14.00\">samples = 10</text>\n<text text-anchor=\"start\" x=\"399\" y=\"-356.8\" font-family=\"Helvetica,sans-Serif\" font-size=\"14.00\">value = [0, 10]</text>\n<text text-anchor=\"start\" x=\"412\" y=\"-342.8\" font-family=\"Helvetica,sans-Serif\" font-size=\"14.00\">class = y</text>\n<text text-anchor=\"start\" x=\"468\" y=\"-342.8\" font-family=\"Helvetica,sans-Serif\" baseline-shift=\"sub\" font-size=\"14.00\">1</text>\n</g>\n<!-- 4&#45;&gt;12 -->\n<g id=\"edge12\" class=\"edge\">\n<title>4&#45;&gt;12</title>\n<path fill=\"none\" stroke=\"black\" d=\"M443.5,-441.77C443.5,-431.31 443.5,-419.94 443.5,-409.32\"/>\n<polygon fill=\"black\" stroke=\"black\" points=\"447,-409.01 443.5,-399.01 440,-409.01 447,-409.01\"/>\n</g>\n<!-- 6 -->\n<g id=\"node7\" class=\"node\">\n<title>6</title>\n<path fill=\"#6ab6ec\" stroke=\"black\" d=\"M223,-292C223,-292 142,-292 142,-292 136,-292 130,-286 130,-280 130,-280 130,-226 130,-226 130,-220 136,-214 142,-214 142,-214 223,-214 223,-214 229,-214 235,-220 235,-226 235,-226 235,-280 235,-280 235,-286 229,-292 223,-292\"/>\n<text text-anchor=\"start\" x=\"147.5\" y=\"-277.8\" font-family=\"Helvetica,sans-Serif\" font-size=\"14.00\">K ≤ 36.831</text>\n<text text-anchor=\"start\" x=\"149\" y=\"-263.8\" font-family=\"Helvetica,sans-Serif\" font-size=\"14.00\">gini = 0.32</text>\n<text text-anchor=\"start\" x=\"139\" y=\"-249.8\" font-family=\"Helvetica,sans-Serif\" font-size=\"14.00\">samples = 20</text>\n<text text-anchor=\"start\" x=\"138\" y=\"-235.8\" font-family=\"Helvetica,sans-Serif\" font-size=\"14.00\">value = [4, 16]</text>\n<text text-anchor=\"start\" x=\"151\" y=\"-221.8\" font-family=\"Helvetica,sans-Serif\" font-size=\"14.00\">class = y</text>\n<text text-anchor=\"start\" x=\"207\" y=\"-221.8\" font-family=\"Helvetica,sans-Serif\" baseline-shift=\"sub\" font-size=\"14.00\">1</text>\n</g>\n<!-- 5&#45;&gt;6 -->\n<g id=\"edge6\" class=\"edge\">\n<title>5&#45;&gt;6</title>\n<path fill=\"none\" stroke=\"black\" d=\"M264.83,-327.77C254.47,-318.49 243.3,-308.48 232.64,-298.92\"/>\n<polygon fill=\"black\" stroke=\"black\" points=\"234.76,-296.12 224.98,-292.06 230.09,-301.34 234.76,-296.12\"/>\n</g>\n<!-- 11 -->\n<g id=\"node12\" class=\"node\">\n<title>11</title>\n<path fill=\"#e58139\" stroke=\"black\" d=\"M344,-285C344,-285 271,-285 271,-285 265,-285 259,-279 259,-273 259,-273 259,-233 259,-233 259,-227 265,-221 271,-221 271,-221 344,-221 344,-221 350,-221 356,-227 356,-233 356,-233 356,-273 356,-273 356,-279 350,-285 344,-285\"/>\n<text text-anchor=\"start\" x=\"278.5\" y=\"-270.8\" font-family=\"Helvetica,sans-Serif\" font-size=\"14.00\">gini = 0.0</text>\n<text text-anchor=\"start\" x=\"268\" y=\"-256.8\" font-family=\"Helvetica,sans-Serif\" font-size=\"14.00\">samples = 2</text>\n<text text-anchor=\"start\" x=\"267\" y=\"-242.8\" font-family=\"Helvetica,sans-Serif\" font-size=\"14.00\">value = [2, 0]</text>\n<text text-anchor=\"start\" x=\"276\" y=\"-228.8\" font-family=\"Helvetica,sans-Serif\" font-size=\"14.00\">class = y</text>\n<text text-anchor=\"start\" x=\"332\" y=\"-228.8\" font-family=\"Helvetica,sans-Serif\" baseline-shift=\"sub\" font-size=\"14.00\">0</text>\n</g>\n<!-- 5&#45;&gt;11 -->\n<g id=\"edge11\" class=\"edge\">\n<title>5&#45;&gt;11</title>\n<path fill=\"none\" stroke=\"black\" d=\"M307.5,-327.77C307.5,-317.31 307.5,-305.94 307.5,-295.32\"/>\n<polygon fill=\"black\" stroke=\"black\" points=\"311,-295.01 307.5,-285.01 304,-295.01 311,-295.01\"/>\n</g>\n<!-- 7 -->\n<g id=\"node8\" class=\"node\">\n<title>7</title>\n<path fill=\"#399de5\" stroke=\"black\" d=\"M85,-171C85,-171 12,-171 12,-171 6,-171 0,-165 0,-159 0,-159 0,-119 0,-119 0,-113 6,-107 12,-107 12,-107 85,-107 85,-107 91,-107 97,-113 97,-119 97,-119 97,-159 97,-159 97,-165 91,-171 85,-171\"/>\n<text text-anchor=\"start\" x=\"19.5\" y=\"-156.8\" font-family=\"Helvetica,sans-Serif\" font-size=\"14.00\">gini = 0.0</text>\n<text text-anchor=\"start\" x=\"9\" y=\"-142.8\" font-family=\"Helvetica,sans-Serif\" font-size=\"14.00\">samples = 8</text>\n<text text-anchor=\"start\" x=\"8\" y=\"-128.8\" font-family=\"Helvetica,sans-Serif\" font-size=\"14.00\">value = [0, 8]</text>\n<text text-anchor=\"start\" x=\"17\" y=\"-114.8\" font-family=\"Helvetica,sans-Serif\" font-size=\"14.00\">class = y</text>\n<text text-anchor=\"start\" x=\"73\" y=\"-114.8\" font-family=\"Helvetica,sans-Serif\" baseline-shift=\"sub\" font-size=\"14.00\">1</text>\n</g>\n<!-- 6&#45;&gt;7 -->\n<g id=\"edge7\" class=\"edge\">\n<title>6&#45;&gt;7</title>\n<path fill=\"none\" stroke=\"black\" d=\"M136.76,-213.77C122.82,-202.12 107.5,-189.32 93.6,-177.7\"/>\n<polygon fill=\"black\" stroke=\"black\" points=\"95.52,-174.74 85.6,-171.01 91.03,-180.11 95.52,-174.74\"/>\n</g>\n<!-- 8 -->\n<g id=\"node9\" class=\"node\">\n<title>8</title>\n<path fill=\"#9ccef2\" stroke=\"black\" d=\"M237.5,-178C237.5,-178 127.5,-178 127.5,-178 121.5,-178 115.5,-172 115.5,-166 115.5,-166 115.5,-112 115.5,-112 115.5,-106 121.5,-100 127.5,-100 127.5,-100 237.5,-100 237.5,-100 243.5,-100 249.5,-106 249.5,-112 249.5,-112 249.5,-166 249.5,-166 249.5,-172 243.5,-178 237.5,-178\"/>\n<text text-anchor=\"start\" x=\"123.5\" y=\"-163.8\" font-family=\"Helvetica,sans-Serif\" font-size=\"14.00\">Volume ≤ 36840.0</text>\n<text text-anchor=\"start\" x=\"145\" y=\"-149.8\" font-family=\"Helvetica,sans-Serif\" font-size=\"14.00\">gini = 0.444</text>\n<text text-anchor=\"start\" x=\"139\" y=\"-135.8\" font-family=\"Helvetica,sans-Serif\" font-size=\"14.00\">samples = 12</text>\n<text text-anchor=\"start\" x=\"142\" y=\"-121.8\" font-family=\"Helvetica,sans-Serif\" font-size=\"14.00\">value = [4, 8]</text>\n<text text-anchor=\"start\" x=\"151\" y=\"-107.8\" font-family=\"Helvetica,sans-Serif\" font-size=\"14.00\">class = y</text>\n<text text-anchor=\"start\" x=\"207\" y=\"-107.8\" font-family=\"Helvetica,sans-Serif\" baseline-shift=\"sub\" font-size=\"14.00\">1</text>\n</g>\n<!-- 6&#45;&gt;8 -->\n<g id=\"edge8\" class=\"edge\">\n<title>6&#45;&gt;8</title>\n<path fill=\"none\" stroke=\"black\" d=\"M182.5,-213.77C182.5,-205.57 182.5,-196.8 182.5,-188.28\"/>\n<polygon fill=\"black\" stroke=\"black\" points=\"186,-188.06 182.5,-178.06 179,-188.06 186,-188.06\"/>\n</g>\n<!-- 9 -->\n<g id=\"node10\" class=\"node\">\n<title>9</title>\n<path fill=\"#83c2ef\" stroke=\"black\" d=\"M163,-64C163,-64 84,-64 84,-64 78,-64 72,-58 72,-52 72,-52 72,-12 72,-12 72,-6 78,0 84,0 84,0 163,0 163,0 169,0 175,-6 175,-12 175,-12 175,-52 175,-52 175,-58 169,-64 163,-64\"/>\n<text text-anchor=\"start\" x=\"86\" y=\"-49.8\" font-family=\"Helvetica,sans-Serif\" font-size=\"14.00\">gini = 0.397</text>\n<text text-anchor=\"start\" x=\"80\" y=\"-35.8\" font-family=\"Helvetica,sans-Serif\" font-size=\"14.00\">samples = 11</text>\n<text text-anchor=\"start\" x=\"83\" y=\"-21.8\" font-family=\"Helvetica,sans-Serif\" font-size=\"14.00\">value = [3, 8]</text>\n<text text-anchor=\"start\" x=\"92\" y=\"-7.8\" font-family=\"Helvetica,sans-Serif\" font-size=\"14.00\">class = y</text>\n<text text-anchor=\"start\" x=\"148\" y=\"-7.8\" font-family=\"Helvetica,sans-Serif\" baseline-shift=\"sub\" font-size=\"14.00\">1</text>\n</g>\n<!-- 8&#45;&gt;9 -->\n<g id=\"edge9\" class=\"edge\">\n<title>8&#45;&gt;9</title>\n<path fill=\"none\" stroke=\"black\" d=\"M161.03,-99.8C156.14,-91.09 150.93,-81.82 146,-73.04\"/>\n<polygon fill=\"black\" stroke=\"black\" points=\"148.93,-71.12 140.98,-64.12 142.83,-74.55 148.93,-71.12\"/>\n</g>\n<!-- 10 -->\n<g id=\"node11\" class=\"node\">\n<title>10</title>\n<path fill=\"#e58139\" stroke=\"black\" d=\"M278,-64C278,-64 205,-64 205,-64 199,-64 193,-58 193,-52 193,-52 193,-12 193,-12 193,-6 199,0 205,0 205,0 278,0 278,0 284,0 290,-6 290,-12 290,-12 290,-52 290,-52 290,-58 284,-64 278,-64\"/>\n<text text-anchor=\"start\" x=\"212.5\" y=\"-49.8\" font-family=\"Helvetica,sans-Serif\" font-size=\"14.00\">gini = 0.0</text>\n<text text-anchor=\"start\" x=\"202\" y=\"-35.8\" font-family=\"Helvetica,sans-Serif\" font-size=\"14.00\">samples = 1</text>\n<text text-anchor=\"start\" x=\"201\" y=\"-21.8\" font-family=\"Helvetica,sans-Serif\" font-size=\"14.00\">value = [1, 0]</text>\n<text text-anchor=\"start\" x=\"210\" y=\"-7.8\" font-family=\"Helvetica,sans-Serif\" font-size=\"14.00\">class = y</text>\n<text text-anchor=\"start\" x=\"266\" y=\"-7.8\" font-family=\"Helvetica,sans-Serif\" baseline-shift=\"sub\" font-size=\"14.00\">0</text>\n</g>\n<!-- 8&#45;&gt;10 -->\n<g id=\"edge10\" class=\"edge\">\n<title>8&#45;&gt;10</title>\n<path fill=\"none\" stroke=\"black\" d=\"M203.97,-99.8C208.86,-91.09 214.07,-81.82 219,-73.04\"/>\n<polygon fill=\"black\" stroke=\"black\" points=\"222.17,-74.55 224.02,-64.12 216.07,-71.12 222.17,-74.55\"/>\n</g>\n<!-- 15 -->\n<g id=\"node16\" class=\"node\">\n<title>15</title>\n<path fill=\"#eeac7d\" stroke=\"black\" d=\"M895,-520C895,-520 806,-520 806,-520 800,-520 794,-514 794,-508 794,-508 794,-454 794,-454 794,-448 800,-442 806,-442 806,-442 895,-442 895,-442 901,-442 907,-448 907,-454 907,-454 907,-508 907,-508 907,-514 901,-520 895,-520\"/>\n<text text-anchor=\"start\" x=\"815.5\" y=\"-505.8\" font-family=\"Helvetica,sans-Serif\" font-size=\"14.00\">K ≤ 39.842</text>\n<text text-anchor=\"start\" x=\"817\" y=\"-491.8\" font-family=\"Helvetica,sans-Serif\" font-size=\"14.00\">gini = 0.38</text>\n<text text-anchor=\"start\" x=\"807\" y=\"-477.8\" font-family=\"Helvetica,sans-Serif\" font-size=\"14.00\">samples = 51</text>\n<text text-anchor=\"start\" x=\"802\" y=\"-463.8\" font-family=\"Helvetica,sans-Serif\" font-size=\"14.00\">value = [38, 13]</text>\n<text text-anchor=\"start\" x=\"819\" y=\"-449.8\" font-family=\"Helvetica,sans-Serif\" font-size=\"14.00\">class = y</text>\n<text text-anchor=\"start\" x=\"875\" y=\"-449.8\" font-family=\"Helvetica,sans-Serif\" baseline-shift=\"sub\" font-size=\"14.00\">0</text>\n</g>\n<!-- 14&#45;&gt;15 -->\n<g id=\"edge15\" class=\"edge\">\n<title>14&#45;&gt;15</title>\n<path fill=\"none\" stroke=\"black\" d=\"M920.32,-555.77C911.7,-546.67 902.43,-536.87 893.54,-527.48\"/>\n<polygon fill=\"black\" stroke=\"black\" points=\"895.94,-524.92 886.52,-520.06 890.85,-529.73 895.94,-524.92\"/>\n</g>\n<!-- 30 -->\n<g id=\"node31\" class=\"node\">\n<title>30</title>\n<path fill=\"#ffffff\" stroke=\"black\" d=\"M1115.5,-520C1115.5,-520 1009.5,-520 1009.5,-520 1003.5,-520 997.5,-514 997.5,-508 997.5,-508 997.5,-454 997.5,-454 997.5,-448 1003.5,-442 1009.5,-442 1009.5,-442 1115.5,-442 1115.5,-442 1121.5,-442 1127.5,-448 1127.5,-454 1127.5,-454 1127.5,-508 1127.5,-508 1127.5,-514 1121.5,-520 1115.5,-520\"/>\n<text text-anchor=\"start\" x=\"1018.5\" y=\"-505.8\" font-family=\"Helvetica,sans-Serif\" font-size=\"14.00\">Open ≤ 22.95</text>\n<text text-anchor=\"start\" x=\"1033.5\" y=\"-491.8\" font-family=\"Helvetica,sans-Serif\" font-size=\"14.00\">gini = 0.5</text>\n<text text-anchor=\"start\" x=\"1015\" y=\"-477.8\" font-family=\"Helvetica,sans-Serif\" font-size=\"14.00\">samples = 270</text>\n<text text-anchor=\"start\" x=\"1005.5\" y=\"-463.8\" font-family=\"Helvetica,sans-Serif\" font-size=\"14.00\">value = [135, 135]</text>\n<text text-anchor=\"start\" x=\"1031\" y=\"-449.8\" font-family=\"Helvetica,sans-Serif\" font-size=\"14.00\">class = y</text>\n<text text-anchor=\"start\" x=\"1087\" y=\"-449.8\" font-family=\"Helvetica,sans-Serif\" baseline-shift=\"sub\" font-size=\"14.00\">0</text>\n</g>\n<!-- 14&#45;&gt;30 -->\n<g id=\"edge30\" class=\"edge\">\n<title>14&#45;&gt;30</title>\n<path fill=\"none\" stroke=\"black\" d=\"M992.68,-555.77C1001.3,-546.67 1010.57,-536.87 1019.46,-527.48\"/>\n<polygon fill=\"black\" stroke=\"black\" points=\"1022.15,-529.73 1026.48,-520.06 1017.06,-524.92 1022.15,-529.73\"/>\n</g>\n<!-- 16 -->\n<g id=\"node17\" class=\"node\">\n<title>16</title>\n<path fill=\"#ffffff\" stroke=\"black\" d=\"M649,-406C649,-406 570,-406 570,-406 564,-406 558,-400 558,-394 558,-394 558,-340 558,-340 558,-334 564,-328 570,-328 570,-328 649,-328 649,-328 655,-328 661,-334 661,-340 661,-340 661,-394 661,-394 661,-400 655,-406 649,-406\"/>\n<text text-anchor=\"start\" x=\"568.5\" y=\"-391.8\" font-family=\"Helvetica,sans-Serif\" font-size=\"14.00\">Close ≤ 12.8</text>\n<text text-anchor=\"start\" x=\"580.5\" y=\"-377.8\" font-family=\"Helvetica,sans-Serif\" font-size=\"14.00\">gini = 0.5</text>\n<text text-anchor=\"start\" x=\"566\" y=\"-363.8\" font-family=\"Helvetica,sans-Serif\" font-size=\"14.00\">samples = 16</text>\n<text text-anchor=\"start\" x=\"569\" y=\"-349.8\" font-family=\"Helvetica,sans-Serif\" font-size=\"14.00\">value = [8, 8]</text>\n<text text-anchor=\"start\" x=\"578\" y=\"-335.8\" font-family=\"Helvetica,sans-Serif\" font-size=\"14.00\">class = y</text>\n<text text-anchor=\"start\" x=\"634\" y=\"-335.8\" font-family=\"Helvetica,sans-Serif\" baseline-shift=\"sub\" font-size=\"14.00\">0</text>\n</g>\n<!-- 15&#45;&gt;16 -->\n<g id=\"edge16\" class=\"edge\">\n<title>15&#45;&gt;16</title>\n<path fill=\"none\" stroke=\"black\" d=\"M794,-453.74C756.93,-436.52 708.48,-414 670.54,-396.37\"/>\n<polygon fill=\"black\" stroke=\"black\" points=\"671.67,-393.03 661.13,-391.99 668.72,-399.38 671.67,-393.03\"/>\n</g>\n<!-- 23 -->\n<g id=\"node24\" class=\"node\">\n<title>23</title>\n<path fill=\"#e9965a\" stroke=\"black\" d=\"M905.5,-406C905.5,-406 795.5,-406 795.5,-406 789.5,-406 783.5,-400 783.5,-394 783.5,-394 783.5,-340 783.5,-340 783.5,-334 789.5,-328 795.5,-328 795.5,-328 905.5,-328 905.5,-328 911.5,-328 917.5,-334 917.5,-340 917.5,-340 917.5,-394 917.5,-394 917.5,-400 911.5,-406 905.5,-406\"/>\n<text text-anchor=\"start\" x=\"791.5\" y=\"-391.8\" font-family=\"Helvetica,sans-Serif\" font-size=\"14.00\">Volume ≤ 13354.5</text>\n<text text-anchor=\"start\" x=\"813\" y=\"-377.8\" font-family=\"Helvetica,sans-Serif\" font-size=\"14.00\">gini = 0.245</text>\n<text text-anchor=\"start\" x=\"807\" y=\"-363.8\" font-family=\"Helvetica,sans-Serif\" font-size=\"14.00\">samples = 35</text>\n<text text-anchor=\"start\" x=\"806\" y=\"-349.8\" font-family=\"Helvetica,sans-Serif\" font-size=\"14.00\">value = [30, 5]</text>\n<text text-anchor=\"start\" x=\"819\" y=\"-335.8\" font-family=\"Helvetica,sans-Serif\" font-size=\"14.00\">class = y</text>\n<text text-anchor=\"start\" x=\"875\" y=\"-335.8\" font-family=\"Helvetica,sans-Serif\" baseline-shift=\"sub\" font-size=\"14.00\">0</text>\n</g>\n<!-- 15&#45;&gt;23 -->\n<g id=\"edge23\" class=\"edge\">\n<title>15&#45;&gt;23</title>\n<path fill=\"none\" stroke=\"black\" d=\"M850.5,-441.77C850.5,-433.57 850.5,-424.8 850.5,-416.28\"/>\n<polygon fill=\"black\" stroke=\"black\" points=\"854,-416.06 850.5,-406.06 847,-416.06 854,-416.06\"/>\n</g>\n<!-- 17 -->\n<g id=\"node18\" class=\"node\">\n<title>17</title>\n<path fill=\"#55abe9\" stroke=\"black\" d=\"M471.5,-292C471.5,-292 391.5,-292 391.5,-292 385.5,-292 379.5,-286 379.5,-280 379.5,-280 379.5,-226 379.5,-226 379.5,-220 385.5,-214 391.5,-214 391.5,-214 471.5,-214 471.5,-214 477.5,-214 483.5,-220 483.5,-226 483.5,-226 483.5,-280 483.5,-280 483.5,-286 477.5,-292 471.5,-292\"/>\n<text text-anchor=\"start\" x=\"387.5\" y=\"-277.8\" font-family=\"Helvetica,sans-Serif\" font-size=\"14.00\">Open ≤ 11.55</text>\n<text text-anchor=\"start\" x=\"394\" y=\"-263.8\" font-family=\"Helvetica,sans-Serif\" font-size=\"14.00\">gini = 0.219</text>\n<text text-anchor=\"start\" x=\"392\" y=\"-249.8\" font-family=\"Helvetica,sans-Serif\" font-size=\"14.00\">samples = 8</text>\n<text text-anchor=\"start\" x=\"391\" y=\"-235.8\" font-family=\"Helvetica,sans-Serif\" font-size=\"14.00\">value = [1, 7]</text>\n<text text-anchor=\"start\" x=\"400\" y=\"-221.8\" font-family=\"Helvetica,sans-Serif\" font-size=\"14.00\">class = y</text>\n<text text-anchor=\"start\" x=\"456\" y=\"-221.8\" font-family=\"Helvetica,sans-Serif\" baseline-shift=\"sub\" font-size=\"14.00\">1</text>\n</g>\n<!-- 16&#45;&gt;17 -->\n<g id=\"edge17\" class=\"edge\">\n<title>16&#45;&gt;17</title>\n<path fill=\"none\" stroke=\"black\" d=\"M557.54,-333.3C537.06,-320.42 513.41,-305.54 492.16,-292.17\"/>\n<polygon fill=\"black\" stroke=\"black\" points=\"493.86,-289.1 483.53,-286.74 490.13,-295.02 493.86,-289.1\"/>\n</g>\n<!-- 20 -->\n<g id=\"node21\" class=\"node\">\n<title>20</title>\n<path fill=\"#e99355\" stroke=\"black\" d=\"M664.5,-292C664.5,-292 554.5,-292 554.5,-292 548.5,-292 542.5,-286 542.5,-280 542.5,-280 542.5,-226 542.5,-226 542.5,-220 548.5,-214 554.5,-214 554.5,-214 664.5,-214 664.5,-214 670.5,-214 676.5,-220 676.5,-226 676.5,-226 676.5,-280 676.5,-280 676.5,-286 670.5,-292 664.5,-292\"/>\n<text text-anchor=\"start\" x=\"550.5\" y=\"-277.8\" font-family=\"Helvetica,sans-Serif\" font-size=\"14.00\">Volume ≤ 20924.0</text>\n<text text-anchor=\"start\" x=\"572\" y=\"-263.8\" font-family=\"Helvetica,sans-Serif\" font-size=\"14.00\">gini = 0.219</text>\n<text text-anchor=\"start\" x=\"570\" y=\"-249.8\" font-family=\"Helvetica,sans-Serif\" font-size=\"14.00\">samples = 8</text>\n<text text-anchor=\"start\" x=\"569\" y=\"-235.8\" font-family=\"Helvetica,sans-Serif\" font-size=\"14.00\">value = [7, 1]</text>\n<text text-anchor=\"start\" x=\"578\" y=\"-221.8\" font-family=\"Helvetica,sans-Serif\" font-size=\"14.00\">class = y</text>\n<text text-anchor=\"start\" x=\"634\" y=\"-221.8\" font-family=\"Helvetica,sans-Serif\" baseline-shift=\"sub\" font-size=\"14.00\">0</text>\n</g>\n<!-- 16&#45;&gt;20 -->\n<g id=\"edge20\" class=\"edge\">\n<title>16&#45;&gt;20</title>\n<path fill=\"none\" stroke=\"black\" d=\"M609.5,-327.77C609.5,-319.57 609.5,-310.8 609.5,-302.28\"/>\n<polygon fill=\"black\" stroke=\"black\" points=\"613,-302.06 609.5,-292.06 606,-302.06 613,-302.06\"/>\n</g>\n<!-- 18 -->\n<g id=\"node19\" class=\"node\">\n<title>18</title>\n<path fill=\"#e58139\" stroke=\"black\" d=\"M353,-171C353,-171 280,-171 280,-171 274,-171 268,-165 268,-159 268,-159 268,-119 268,-119 268,-113 274,-107 280,-107 280,-107 353,-107 353,-107 359,-107 365,-113 365,-119 365,-119 365,-159 365,-159 365,-165 359,-171 353,-171\"/>\n<text text-anchor=\"start\" x=\"287.5\" y=\"-156.8\" font-family=\"Helvetica,sans-Serif\" font-size=\"14.00\">gini = 0.0</text>\n<text text-anchor=\"start\" x=\"277\" y=\"-142.8\" font-family=\"Helvetica,sans-Serif\" font-size=\"14.00\">samples = 1</text>\n<text text-anchor=\"start\" x=\"276\" y=\"-128.8\" font-family=\"Helvetica,sans-Serif\" font-size=\"14.00\">value = [1, 0]</text>\n<text text-anchor=\"start\" x=\"285\" y=\"-114.8\" font-family=\"Helvetica,sans-Serif\" font-size=\"14.00\">class = y</text>\n<text text-anchor=\"start\" x=\"341\" y=\"-114.8\" font-family=\"Helvetica,sans-Serif\" baseline-shift=\"sub\" font-size=\"14.00\">0</text>\n</g>\n<!-- 17&#45;&gt;18 -->\n<g id=\"edge18\" class=\"edge\">\n<title>17&#45;&gt;18</title>\n<path fill=\"none\" stroke=\"black\" d=\"M392.25,-213.77C380.39,-202.22 367.38,-189.55 355.54,-178.02\"/>\n<polygon fill=\"black\" stroke=\"black\" points=\"357.95,-175.48 348.34,-171.01 353.06,-180.49 357.95,-175.48\"/>\n</g>\n<!-- 19 -->\n<g id=\"node20\" class=\"node\">\n<title>19</title>\n<path fill=\"#399de5\" stroke=\"black\" d=\"M468,-171C468,-171 395,-171 395,-171 389,-171 383,-165 383,-159 383,-159 383,-119 383,-119 383,-113 389,-107 395,-107 395,-107 468,-107 468,-107 474,-107 480,-113 480,-119 480,-119 480,-159 480,-159 480,-165 474,-171 468,-171\"/>\n<text text-anchor=\"start\" x=\"402.5\" y=\"-156.8\" font-family=\"Helvetica,sans-Serif\" font-size=\"14.00\">gini = 0.0</text>\n<text text-anchor=\"start\" x=\"392\" y=\"-142.8\" font-family=\"Helvetica,sans-Serif\" font-size=\"14.00\">samples = 7</text>\n<text text-anchor=\"start\" x=\"391\" y=\"-128.8\" font-family=\"Helvetica,sans-Serif\" font-size=\"14.00\">value = [0, 7]</text>\n<text text-anchor=\"start\" x=\"400\" y=\"-114.8\" font-family=\"Helvetica,sans-Serif\" font-size=\"14.00\">class = y</text>\n<text text-anchor=\"start\" x=\"456\" y=\"-114.8\" font-family=\"Helvetica,sans-Serif\" baseline-shift=\"sub\" font-size=\"14.00\">1</text>\n</g>\n<!-- 17&#45;&gt;19 -->\n<g id=\"edge19\" class=\"edge\">\n<title>17&#45;&gt;19</title>\n<path fill=\"none\" stroke=\"black\" d=\"M431.5,-213.77C431.5,-203.31 431.5,-191.94 431.5,-181.32\"/>\n<polygon fill=\"black\" stroke=\"black\" points=\"435,-181.01 431.5,-171.01 428,-181.01 435,-181.01\"/>\n</g>\n<!-- 21 -->\n<g id=\"node22\" class=\"node\">\n<title>21</title>\n<path fill=\"#399de5\" stroke=\"black\" d=\"M583,-171C583,-171 510,-171 510,-171 504,-171 498,-165 498,-159 498,-159 498,-119 498,-119 498,-113 504,-107 510,-107 510,-107 583,-107 583,-107 589,-107 595,-113 595,-119 595,-119 595,-159 595,-159 595,-165 589,-171 583,-171\"/>\n<text text-anchor=\"start\" x=\"517.5\" y=\"-156.8\" font-family=\"Helvetica,sans-Serif\" font-size=\"14.00\">gini = 0.0</text>\n<text text-anchor=\"start\" x=\"507\" y=\"-142.8\" font-family=\"Helvetica,sans-Serif\" font-size=\"14.00\">samples = 1</text>\n<text text-anchor=\"start\" x=\"506\" y=\"-128.8\" font-family=\"Helvetica,sans-Serif\" font-size=\"14.00\">value = [0, 1]</text>\n<text text-anchor=\"start\" x=\"515\" y=\"-114.8\" font-family=\"Helvetica,sans-Serif\" font-size=\"14.00\">class = y</text>\n<text text-anchor=\"start\" x=\"571\" y=\"-114.8\" font-family=\"Helvetica,sans-Serif\" baseline-shift=\"sub\" font-size=\"14.00\">1</text>\n</g>\n<!-- 20&#45;&gt;21 -->\n<g id=\"edge21\" class=\"edge\">\n<title>20&#45;&gt;21</title>\n<path fill=\"none\" stroke=\"black\" d=\"M588,-213.77C581.87,-202.88 575.18,-190.99 569,-179.99\"/>\n<polygon fill=\"black\" stroke=\"black\" points=\"571.9,-178.01 563.94,-171.01 565.8,-181.44 571.9,-178.01\"/>\n</g>\n<!-- 22 -->\n<g id=\"node23\" class=\"node\">\n<title>22</title>\n<path fill=\"#e58139\" stroke=\"black\" d=\"M698,-171C698,-171 625,-171 625,-171 619,-171 613,-165 613,-159 613,-159 613,-119 613,-119 613,-113 619,-107 625,-107 625,-107 698,-107 698,-107 704,-107 710,-113 710,-119 710,-119 710,-159 710,-159 710,-165 704,-171 698,-171\"/>\n<text text-anchor=\"start\" x=\"632.5\" y=\"-156.8\" font-family=\"Helvetica,sans-Serif\" font-size=\"14.00\">gini = 0.0</text>\n<text text-anchor=\"start\" x=\"622\" y=\"-142.8\" font-family=\"Helvetica,sans-Serif\" font-size=\"14.00\">samples = 7</text>\n<text text-anchor=\"start\" x=\"621\" y=\"-128.8\" font-family=\"Helvetica,sans-Serif\" font-size=\"14.00\">value = [7, 0]</text>\n<text text-anchor=\"start\" x=\"630\" y=\"-114.8\" font-family=\"Helvetica,sans-Serif\" font-size=\"14.00\">class = y</text>\n<text text-anchor=\"start\" x=\"686\" y=\"-114.8\" font-family=\"Helvetica,sans-Serif\" baseline-shift=\"sub\" font-size=\"14.00\">0</text>\n</g>\n<!-- 20&#45;&gt;22 -->\n<g id=\"edge22\" class=\"edge\">\n<title>20&#45;&gt;22</title>\n<path fill=\"none\" stroke=\"black\" d=\"M627.25,-213.77C632.26,-202.99 637.72,-191.22 642.78,-180.32\"/>\n<polygon fill=\"black\" stroke=\"black\" points=\"646.07,-181.55 647.1,-171.01 639.72,-178.61 646.07,-181.55\"/>\n</g>\n<!-- 24 -->\n<g id=\"node25\" class=\"node\">\n<title>24</title>\n<path fill=\"#399de5\" stroke=\"black\" d=\"M805,-285C805,-285 732,-285 732,-285 726,-285 720,-279 720,-273 720,-273 720,-233 720,-233 720,-227 726,-221 732,-221 732,-221 805,-221 805,-221 811,-221 817,-227 817,-233 817,-233 817,-273 817,-273 817,-279 811,-285 805,-285\"/>\n<text text-anchor=\"start\" x=\"739.5\" y=\"-270.8\" font-family=\"Helvetica,sans-Serif\" font-size=\"14.00\">gini = 0.0</text>\n<text text-anchor=\"start\" x=\"729\" y=\"-256.8\" font-family=\"Helvetica,sans-Serif\" font-size=\"14.00\">samples = 1</text>\n<text text-anchor=\"start\" x=\"728\" y=\"-242.8\" font-family=\"Helvetica,sans-Serif\" font-size=\"14.00\">value = [0, 1]</text>\n<text text-anchor=\"start\" x=\"737\" y=\"-228.8\" font-family=\"Helvetica,sans-Serif\" font-size=\"14.00\">class = y</text>\n<text text-anchor=\"start\" x=\"793\" y=\"-228.8\" font-family=\"Helvetica,sans-Serif\" baseline-shift=\"sub\" font-size=\"14.00\">1</text>\n</g>\n<!-- 23&#45;&gt;24 -->\n<g id=\"edge24\" class=\"edge\">\n<title>23&#45;&gt;24</title>\n<path fill=\"none\" stroke=\"black\" d=\"M822.51,-327.77C814.38,-316.66 805.48,-304.51 797.3,-293.33\"/>\n<polygon fill=\"black\" stroke=\"black\" points=\"799.94,-291.01 791.2,-285.01 794.29,-295.15 799.94,-291.01\"/>\n</g>\n<!-- 25 -->\n<g id=\"node26\" class=\"node\">\n<title>25</title>\n<path fill=\"#e89253\" stroke=\"black\" d=\"M928,-292C928,-292 847,-292 847,-292 841,-292 835,-286 835,-280 835,-280 835,-226 835,-226 835,-220 841,-214 847,-214 847,-214 928,-214 928,-214 934,-214 940,-220 940,-226 940,-226 940,-280 940,-280 940,-286 934,-292 928,-292\"/>\n<text text-anchor=\"start\" x=\"852.5\" y=\"-277.8\" font-family=\"Helvetica,sans-Serif\" font-size=\"14.00\">K ≤ 96.364</text>\n<text text-anchor=\"start\" x=\"850\" y=\"-263.8\" font-family=\"Helvetica,sans-Serif\" font-size=\"14.00\">gini = 0.208</text>\n<text text-anchor=\"start\" x=\"844\" y=\"-249.8\" font-family=\"Helvetica,sans-Serif\" font-size=\"14.00\">samples = 34</text>\n<text text-anchor=\"start\" x=\"843\" y=\"-235.8\" font-family=\"Helvetica,sans-Serif\" font-size=\"14.00\">value = [30, 4]</text>\n<text text-anchor=\"start\" x=\"856\" y=\"-221.8\" font-family=\"Helvetica,sans-Serif\" font-size=\"14.00\">class = y</text>\n<text text-anchor=\"start\" x=\"912\" y=\"-221.8\" font-family=\"Helvetica,sans-Serif\" baseline-shift=\"sub\" font-size=\"14.00\">0</text>\n</g>\n<!-- 23&#45;&gt;25 -->\n<g id=\"edge25\" class=\"edge\">\n<title>23&#45;&gt;25</title>\n<path fill=\"none\" stroke=\"black\" d=\"M863.13,-327.77C865.9,-319.39 868.86,-310.42 871.74,-301.72\"/>\n<polygon fill=\"black\" stroke=\"black\" points=\"875.11,-302.65 874.93,-292.06 868.47,-300.46 875.11,-302.65\"/>\n</g>\n<!-- 26 -->\n<g id=\"node27\" class=\"node\">\n<title>26</title>\n<path fill=\"#e88e4d\" stroke=\"black\" d=\"M821,-178C821,-178 740,-178 740,-178 734,-178 728,-172 728,-166 728,-166 728,-112 728,-112 728,-106 734,-100 740,-100 740,-100 821,-100 821,-100 827,-100 833,-106 833,-112 833,-112 833,-166 833,-166 833,-172 827,-178 821,-178\"/>\n<text text-anchor=\"start\" x=\"745\" y=\"-163.8\" font-family=\"Helvetica,sans-Serif\" font-size=\"14.00\">D ≤ 47.689</text>\n<text text-anchor=\"start\" x=\"743\" y=\"-149.8\" font-family=\"Helvetica,sans-Serif\" font-size=\"14.00\">gini = 0.165</text>\n<text text-anchor=\"start\" x=\"737\" y=\"-135.8\" font-family=\"Helvetica,sans-Serif\" font-size=\"14.00\">samples = 33</text>\n<text text-anchor=\"start\" x=\"736\" y=\"-121.8\" font-family=\"Helvetica,sans-Serif\" font-size=\"14.00\">value = [30, 3]</text>\n<text text-anchor=\"start\" x=\"749\" y=\"-107.8\" font-family=\"Helvetica,sans-Serif\" font-size=\"14.00\">class = y</text>\n<text text-anchor=\"start\" x=\"805\" y=\"-107.8\" font-family=\"Helvetica,sans-Serif\" baseline-shift=\"sub\" font-size=\"14.00\">0</text>\n</g>\n<!-- 25&#45;&gt;26 -->\n<g id=\"edge26\" class=\"edge\">\n<title>25&#45;&gt;26</title>\n<path fill=\"none\" stroke=\"black\" d=\"M850.98,-213.77C842.28,-204.67 832.92,-194.87 823.95,-185.48\"/>\n<polygon fill=\"black\" stroke=\"black\" points=\"826.3,-182.87 816.86,-178.06 821.24,-187.71 826.3,-182.87\"/>\n</g>\n<!-- 29 -->\n<g id=\"node30\" class=\"node\">\n<title>29</title>\n<path fill=\"#399de5\" stroke=\"black\" d=\"M936,-171C936,-171 863,-171 863,-171 857,-171 851,-165 851,-159 851,-159 851,-119 851,-119 851,-113 857,-107 863,-107 863,-107 936,-107 936,-107 942,-107 948,-113 948,-119 948,-119 948,-159 948,-159 948,-165 942,-171 936,-171\"/>\n<text text-anchor=\"start\" x=\"870.5\" y=\"-156.8\" font-family=\"Helvetica,sans-Serif\" font-size=\"14.00\">gini = 0.0</text>\n<text text-anchor=\"start\" x=\"860\" y=\"-142.8\" font-family=\"Helvetica,sans-Serif\" font-size=\"14.00\">samples = 1</text>\n<text text-anchor=\"start\" x=\"859\" y=\"-128.8\" font-family=\"Helvetica,sans-Serif\" font-size=\"14.00\">value = [0, 1]</text>\n<text text-anchor=\"start\" x=\"868\" y=\"-114.8\" font-family=\"Helvetica,sans-Serif\" font-size=\"14.00\">class = y</text>\n<text text-anchor=\"start\" x=\"924\" y=\"-114.8\" font-family=\"Helvetica,sans-Serif\" baseline-shift=\"sub\" font-size=\"14.00\">1</text>\n</g>\n<!-- 25&#45;&gt;29 -->\n<g id=\"edge29\" class=\"edge\">\n<title>25&#45;&gt;29</title>\n<path fill=\"none\" stroke=\"black\" d=\"M891.6,-213.77C892.73,-203.2 893.96,-191.7 895.11,-180.98\"/>\n<polygon fill=\"black\" stroke=\"black\" points=\"898.59,-181.33 896.18,-171.01 891.63,-180.58 898.59,-181.33\"/>\n</g>\n<!-- 27 -->\n<g id=\"node28\" class=\"node\">\n<title>27</title>\n<path fill=\"#f2c09c\" stroke=\"black\" d=\"M696,-64C696,-64 623,-64 623,-64 617,-64 611,-58 611,-52 611,-52 611,-12 611,-12 611,-6 617,0 623,0 623,0 696,0 696,0 702,0 708,-6 708,-12 708,-12 708,-52 708,-52 708,-58 702,-64 696,-64\"/>\n<text text-anchor=\"start\" x=\"622\" y=\"-49.8\" font-family=\"Helvetica,sans-Serif\" font-size=\"14.00\">gini = 0.444</text>\n<text text-anchor=\"start\" x=\"620\" y=\"-35.8\" font-family=\"Helvetica,sans-Serif\" font-size=\"14.00\">samples = 6</text>\n<text text-anchor=\"start\" x=\"619\" y=\"-21.8\" font-family=\"Helvetica,sans-Serif\" font-size=\"14.00\">value = [4, 2]</text>\n<text text-anchor=\"start\" x=\"628\" y=\"-7.8\" font-family=\"Helvetica,sans-Serif\" font-size=\"14.00\">class = y</text>\n<text text-anchor=\"start\" x=\"684\" y=\"-7.8\" font-family=\"Helvetica,sans-Serif\" baseline-shift=\"sub\" font-size=\"14.00\">0</text>\n</g>\n<!-- 26&#45;&gt;27 -->\n<g id=\"edge27\" class=\"edge\">\n<title>26&#45;&gt;27</title>\n<path fill=\"none\" stroke=\"black\" d=\"M736.47,-99.8C725.6,-90.36 713.96,-80.25 703.1,-70.84\"/>\n<polygon fill=\"black\" stroke=\"black\" points=\"705.21,-68.03 695.36,-64.12 700.62,-73.31 705.21,-68.03\"/>\n</g>\n<!-- 28 -->\n<g id=\"node29\" class=\"node\">\n<title>28</title>\n<path fill=\"#e68641\" stroke=\"black\" d=\"M819,-64C819,-64 738,-64 738,-64 732,-64 726,-58 726,-52 726,-52 726,-12 726,-12 726,-6 732,0 738,0 738,0 819,0 819,0 825,0 831,-6 831,-12 831,-12 831,-52 831,-52 831,-58 825,-64 819,-64\"/>\n<text text-anchor=\"start\" x=\"741\" y=\"-49.8\" font-family=\"Helvetica,sans-Serif\" font-size=\"14.00\">gini = 0.071</text>\n<text text-anchor=\"start\" x=\"735\" y=\"-35.8\" font-family=\"Helvetica,sans-Serif\" font-size=\"14.00\">samples = 27</text>\n<text text-anchor=\"start\" x=\"734\" y=\"-21.8\" font-family=\"Helvetica,sans-Serif\" font-size=\"14.00\">value = [26, 1]</text>\n<text text-anchor=\"start\" x=\"747\" y=\"-7.8\" font-family=\"Helvetica,sans-Serif\" font-size=\"14.00\">class = y</text>\n<text text-anchor=\"start\" x=\"803\" y=\"-7.8\" font-family=\"Helvetica,sans-Serif\" baseline-shift=\"sub\" font-size=\"14.00\">0</text>\n</g>\n<!-- 26&#45;&gt;28 -->\n<g id=\"edge28\" class=\"edge\">\n<title>26&#45;&gt;28</title>\n<path fill=\"none\" stroke=\"black\" d=\"M779.77,-99.8C779.61,-91.46 779.44,-82.6 779.28,-74.15\"/>\n<polygon fill=\"black\" stroke=\"black\" points=\"782.78,-74.05 779.09,-64.12 775.78,-74.18 782.78,-74.05\"/>\n</g>\n<!-- 31 -->\n<g id=\"node32\" class=\"node\">\n<title>31</title>\n<path fill=\"#fef8f5\" stroke=\"black\" d=\"M1117.5,-406C1117.5,-406 1007.5,-406 1007.5,-406 1001.5,-406 995.5,-400 995.5,-394 995.5,-394 995.5,-340 995.5,-340 995.5,-334 1001.5,-328 1007.5,-328 1007.5,-328 1117.5,-328 1117.5,-328 1123.5,-328 1129.5,-334 1129.5,-340 1129.5,-340 1129.5,-394 1129.5,-394 1129.5,-400 1123.5,-406 1117.5,-406\"/>\n<text text-anchor=\"start\" x=\"1003.5\" y=\"-391.8\" font-family=\"Helvetica,sans-Serif\" font-size=\"14.00\">Volume ≤ 80551.0</text>\n<text text-anchor=\"start\" x=\"1033.5\" y=\"-377.8\" font-family=\"Helvetica,sans-Serif\" font-size=\"14.00\">gini = 0.5</text>\n<text text-anchor=\"start\" x=\"1015\" y=\"-363.8\" font-family=\"Helvetica,sans-Serif\" font-size=\"14.00\">samples = 263</text>\n<text text-anchor=\"start\" x=\"1005.5\" y=\"-349.8\" font-family=\"Helvetica,sans-Serif\" font-size=\"14.00\">value = [135, 128]</text>\n<text text-anchor=\"start\" x=\"1031\" y=\"-335.8\" font-family=\"Helvetica,sans-Serif\" font-size=\"14.00\">class = y</text>\n<text text-anchor=\"start\" x=\"1087\" y=\"-335.8\" font-family=\"Helvetica,sans-Serif\" baseline-shift=\"sub\" font-size=\"14.00\">0</text>\n</g>\n<!-- 30&#45;&gt;31 -->\n<g id=\"edge31\" class=\"edge\">\n<title>30&#45;&gt;31</title>\n<path fill=\"none\" stroke=\"black\" d=\"M1062.5,-441.77C1062.5,-433.57 1062.5,-424.8 1062.5,-416.28\"/>\n<polygon fill=\"black\" stroke=\"black\" points=\"1066,-416.06 1062.5,-406.06 1059,-416.06 1066,-416.06\"/>\n</g>\n<!-- 46 -->\n<g id=\"node47\" class=\"node\">\n<title>46</title>\n<path fill=\"#399de5\" stroke=\"black\" d=\"M1233,-399C1233,-399 1160,-399 1160,-399 1154,-399 1148,-393 1148,-387 1148,-387 1148,-347 1148,-347 1148,-341 1154,-335 1160,-335 1160,-335 1233,-335 1233,-335 1239,-335 1245,-341 1245,-347 1245,-347 1245,-387 1245,-387 1245,-393 1239,-399 1233,-399\"/>\n<text text-anchor=\"start\" x=\"1167.5\" y=\"-384.8\" font-family=\"Helvetica,sans-Serif\" font-size=\"14.00\">gini = 0.0</text>\n<text text-anchor=\"start\" x=\"1157\" y=\"-370.8\" font-family=\"Helvetica,sans-Serif\" font-size=\"14.00\">samples = 7</text>\n<text text-anchor=\"start\" x=\"1156\" y=\"-356.8\" font-family=\"Helvetica,sans-Serif\" font-size=\"14.00\">value = [0, 7]</text>\n<text text-anchor=\"start\" x=\"1165\" y=\"-342.8\" font-family=\"Helvetica,sans-Serif\" font-size=\"14.00\">class = y</text>\n<text text-anchor=\"start\" x=\"1221\" y=\"-342.8\" font-family=\"Helvetica,sans-Serif\" baseline-shift=\"sub\" font-size=\"14.00\">1</text>\n</g>\n<!-- 30&#45;&gt;46 -->\n<g id=\"edge46\" class=\"edge\">\n<title>30&#45;&gt;46</title>\n<path fill=\"none\" stroke=\"black\" d=\"M1108.24,-441.77C1122.18,-430.12 1137.5,-417.32 1151.4,-405.7\"/>\n<polygon fill=\"black\" stroke=\"black\" points=\"1153.97,-408.11 1159.4,-399.01 1149.48,-402.74 1153.97,-408.11\"/>\n</g>\n<!-- 32 -->\n<g id=\"node33\" class=\"node\">\n<title>32</title>\n<path fill=\"#edf6fd\" stroke=\"black\" d=\"M1115.5,-292C1115.5,-292 1009.5,-292 1009.5,-292 1003.5,-292 997.5,-286 997.5,-280 997.5,-280 997.5,-226 997.5,-226 997.5,-220 1003.5,-214 1009.5,-214 1009.5,-214 1115.5,-214 1115.5,-214 1121.5,-214 1127.5,-220 1127.5,-226 1127.5,-226 1127.5,-280 1127.5,-280 1127.5,-286 1121.5,-292 1115.5,-292\"/>\n<text text-anchor=\"start\" x=\"1019\" y=\"-277.8\" font-family=\"Helvetica,sans-Serif\" font-size=\"14.00\">Low ≤ 16.375</text>\n<text text-anchor=\"start\" x=\"1025\" y=\"-263.8\" font-family=\"Helvetica,sans-Serif\" font-size=\"14.00\">gini = 0.499</text>\n<text text-anchor=\"start\" x=\"1015\" y=\"-249.8\" font-family=\"Helvetica,sans-Serif\" font-size=\"14.00\">samples = 233</text>\n<text text-anchor=\"start\" x=\"1005.5\" y=\"-235.8\" font-family=\"Helvetica,sans-Serif\" font-size=\"14.00\">value = [111, 122]</text>\n<text text-anchor=\"start\" x=\"1031\" y=\"-221.8\" font-family=\"Helvetica,sans-Serif\" font-size=\"14.00\">class = y</text>\n<text text-anchor=\"start\" x=\"1087\" y=\"-221.8\" font-family=\"Helvetica,sans-Serif\" baseline-shift=\"sub\" font-size=\"14.00\">1</text>\n</g>\n<!-- 31&#45;&gt;32 -->\n<g id=\"edge32\" class=\"edge\">\n<title>31&#45;&gt;32</title>\n<path fill=\"none\" stroke=\"black\" d=\"M1062.5,-327.77C1062.5,-319.57 1062.5,-310.8 1062.5,-302.28\"/>\n<polygon fill=\"black\" stroke=\"black\" points=\"1066,-302.06 1062.5,-292.06 1059,-302.06 1066,-302.06\"/>\n</g>\n<!-- 39 -->\n<g id=\"node40\" class=\"node\">\n<title>39</title>\n<path fill=\"#eca06a\" stroke=\"black\" d=\"M1488,-292C1488,-292 1407,-292 1407,-292 1401,-292 1395,-286 1395,-280 1395,-280 1395,-226 1395,-226 1395,-220 1401,-214 1407,-214 1407,-214 1488,-214 1488,-214 1494,-214 1500,-220 1500,-226 1500,-226 1500,-280 1500,-280 1500,-286 1494,-292 1488,-292\"/>\n<text text-anchor=\"start\" x=\"1412.5\" y=\"-277.8\" font-family=\"Helvetica,sans-Serif\" font-size=\"14.00\">K ≤ 94.656</text>\n<text text-anchor=\"start\" x=\"1414\" y=\"-263.8\" font-family=\"Helvetica,sans-Serif\" font-size=\"14.00\">gini = 0.32</text>\n<text text-anchor=\"start\" x=\"1404\" y=\"-249.8\" font-family=\"Helvetica,sans-Serif\" font-size=\"14.00\">samples = 30</text>\n<text text-anchor=\"start\" x=\"1403\" y=\"-235.8\" font-family=\"Helvetica,sans-Serif\" font-size=\"14.00\">value = [24, 6]</text>\n<text text-anchor=\"start\" x=\"1416\" y=\"-221.8\" font-family=\"Helvetica,sans-Serif\" font-size=\"14.00\">class = y</text>\n<text text-anchor=\"start\" x=\"1472\" y=\"-221.8\" font-family=\"Helvetica,sans-Serif\" baseline-shift=\"sub\" font-size=\"14.00\">0</text>\n</g>\n<!-- 31&#45;&gt;39 -->\n<g id=\"edge39\" class=\"edge\">\n<title>31&#45;&gt;39</title>\n<path fill=\"none\" stroke=\"black\" d=\"M1129.69,-331.41C1132.64,-330.2 1135.59,-329.06 1138.5,-328 1221.35,-297.82 1321.21,-276.48 1384.54,-264.7\"/>\n<polygon fill=\"black\" stroke=\"black\" points=\"1385.56,-268.07 1394.77,-262.82 1384.3,-261.19 1385.56,-268.07\"/>\n</g>\n<!-- 33 -->\n<g id=\"node34\" class=\"node\">\n<title>33</title>\n<path fill=\"#d9ecfa\" stroke=\"black\" d=\"M1091.5,-178C1091.5,-178 981.5,-178 981.5,-178 975.5,-178 969.5,-172 969.5,-166 969.5,-166 969.5,-112 969.5,-112 969.5,-106 975.5,-100 981.5,-100 981.5,-100 1091.5,-100 1091.5,-100 1097.5,-100 1103.5,-106 1103.5,-112 1103.5,-112 1103.5,-166 1103.5,-166 1103.5,-172 1097.5,-178 1091.5,-178\"/>\n<text text-anchor=\"start\" x=\"977.5\" y=\"-163.8\" font-family=\"Helvetica,sans-Serif\" font-size=\"14.00\">Volume ≤ 74696.0</text>\n<text text-anchor=\"start\" x=\"999\" y=\"-149.8\" font-family=\"Helvetica,sans-Serif\" font-size=\"14.00\">gini = 0.495</text>\n<text text-anchor=\"start\" x=\"989\" y=\"-135.8\" font-family=\"Helvetica,sans-Serif\" font-size=\"14.00\">samples = 210</text>\n<text text-anchor=\"start\" x=\"983.5\" y=\"-121.8\" font-family=\"Helvetica,sans-Serif\" font-size=\"14.00\">value = [94, 116]</text>\n<text text-anchor=\"start\" x=\"1005\" y=\"-107.8\" font-family=\"Helvetica,sans-Serif\" font-size=\"14.00\">class = y</text>\n<text text-anchor=\"start\" x=\"1061\" y=\"-107.8\" font-family=\"Helvetica,sans-Serif\" baseline-shift=\"sub\" font-size=\"14.00\">1</text>\n</g>\n<!-- 32&#45;&gt;33 -->\n<g id=\"edge33\" class=\"edge\">\n<title>32&#45;&gt;33</title>\n<path fill=\"none\" stroke=\"black\" d=\"M1053.62,-213.77C1051.7,-205.48 1049.64,-196.61 1047.64,-188\"/>\n<polygon fill=\"black\" stroke=\"black\" points=\"1051.01,-187.01 1045.34,-178.06 1044.19,-188.59 1051.01,-187.01\"/>\n</g>\n<!-- 36 -->\n<g id=\"node37\" class=\"node\">\n<title>36</title>\n<path fill=\"#eead7f\" stroke=\"black\" d=\"M1215,-178C1215,-178 1134,-178 1134,-178 1128,-178 1122,-172 1122,-166 1122,-166 1122,-112 1122,-112 1122,-106 1128,-100 1134,-100 1134,-100 1215,-100 1215,-100 1221,-100 1227,-106 1227,-112 1227,-112 1227,-166 1227,-166 1227,-172 1221,-178 1215,-178\"/>\n<text text-anchor=\"start\" x=\"1139.5\" y=\"-163.8\" font-family=\"Helvetica,sans-Serif\" font-size=\"14.00\">K ≤ 94.595</text>\n<text text-anchor=\"start\" x=\"1137\" y=\"-149.8\" font-family=\"Helvetica,sans-Serif\" font-size=\"14.00\">gini = 0.386</text>\n<text text-anchor=\"start\" x=\"1131\" y=\"-135.8\" font-family=\"Helvetica,sans-Serif\" font-size=\"14.00\">samples = 23</text>\n<text text-anchor=\"start\" x=\"1130\" y=\"-121.8\" font-family=\"Helvetica,sans-Serif\" font-size=\"14.00\">value = [17, 6]</text>\n<text text-anchor=\"start\" x=\"1143\" y=\"-107.8\" font-family=\"Helvetica,sans-Serif\" font-size=\"14.00\">class = y</text>\n<text text-anchor=\"start\" x=\"1199\" y=\"-107.8\" font-family=\"Helvetica,sans-Serif\" baseline-shift=\"sub\" font-size=\"14.00\">0</text>\n</g>\n<!-- 32&#45;&gt;36 -->\n<g id=\"edge36\" class=\"edge\">\n<title>32&#45;&gt;36</title>\n<path fill=\"none\" stroke=\"black\" d=\"M1100.73,-213.77C1109.92,-204.58 1119.82,-194.68 1129.3,-185.2\"/>\n<polygon fill=\"black\" stroke=\"black\" points=\"1131.85,-187.6 1136.44,-178.06 1126.9,-182.65 1131.85,-187.6\"/>\n</g>\n<!-- 34 -->\n<g id=\"node35\" class=\"node\">\n<title>34</title>\n<path fill=\"#e4f2fb\" stroke=\"black\" d=\"M959.5,-64C959.5,-64 861.5,-64 861.5,-64 855.5,-64 849.5,-58 849.5,-52 849.5,-52 849.5,-12 849.5,-12 849.5,-6 855.5,0 861.5,0 861.5,0 959.5,0 959.5,0 965.5,0 971.5,-6 971.5,-12 971.5,-12 971.5,-52 971.5,-52 971.5,-58 965.5,-64 959.5,-64\"/>\n<text text-anchor=\"start\" x=\"873\" y=\"-49.8\" font-family=\"Helvetica,sans-Serif\" font-size=\"14.00\">gini = 0.497</text>\n<text text-anchor=\"start\" x=\"863\" y=\"-35.8\" font-family=\"Helvetica,sans-Serif\" font-size=\"14.00\">samples = 203</text>\n<text text-anchor=\"start\" x=\"857.5\" y=\"-21.8\" font-family=\"Helvetica,sans-Serif\" font-size=\"14.00\">value = [94, 109]</text>\n<text text-anchor=\"start\" x=\"879\" y=\"-7.8\" font-family=\"Helvetica,sans-Serif\" font-size=\"14.00\">class = y</text>\n<text text-anchor=\"start\" x=\"935\" y=\"-7.8\" font-family=\"Helvetica,sans-Serif\" baseline-shift=\"sub\" font-size=\"14.00\">1</text>\n</g>\n<!-- 33&#45;&gt;34 -->\n<g id=\"edge34\" class=\"edge\">\n<title>33&#45;&gt;34</title>\n<path fill=\"none\" stroke=\"black\" d=\"M990.65,-99.8C979.22,-90.27 966.97,-80.06 955.57,-70.56\"/>\n<polygon fill=\"black\" stroke=\"black\" points=\"957.76,-67.83 947.84,-64.12 953.28,-73.21 957.76,-67.83\"/>\n</g>\n<!-- 35 -->\n<g id=\"node36\" class=\"node\">\n<title>35</title>\n<path fill=\"#399de5\" stroke=\"black\" d=\"M1075,-64C1075,-64 1002,-64 1002,-64 996,-64 990,-58 990,-52 990,-52 990,-12 990,-12 990,-6 996,0 1002,0 1002,0 1075,0 1075,0 1081,0 1087,-6 1087,-12 1087,-12 1087,-52 1087,-52 1087,-58 1081,-64 1075,-64\"/>\n<text text-anchor=\"start\" x=\"1009.5\" y=\"-49.8\" font-family=\"Helvetica,sans-Serif\" font-size=\"14.00\">gini = 0.0</text>\n<text text-anchor=\"start\" x=\"999\" y=\"-35.8\" font-family=\"Helvetica,sans-Serif\" font-size=\"14.00\">samples = 7</text>\n<text text-anchor=\"start\" x=\"998\" y=\"-21.8\" font-family=\"Helvetica,sans-Serif\" font-size=\"14.00\">value = [0, 7]</text>\n<text text-anchor=\"start\" x=\"1007\" y=\"-7.8\" font-family=\"Helvetica,sans-Serif\" font-size=\"14.00\">class = y</text>\n<text text-anchor=\"start\" x=\"1063\" y=\"-7.8\" font-family=\"Helvetica,sans-Serif\" baseline-shift=\"sub\" font-size=\"14.00\">1</text>\n</g>\n<!-- 33&#45;&gt;35 -->\n<g id=\"edge35\" class=\"edge\">\n<title>33&#45;&gt;35</title>\n<path fill=\"none\" stroke=\"black\" d=\"M1037.23,-99.8C1037.39,-91.46 1037.56,-82.6 1037.72,-74.15\"/>\n<polygon fill=\"black\" stroke=\"black\" points=\"1041.22,-74.18 1037.91,-64.12 1034.22,-74.05 1041.22,-74.18\"/>\n</g>\n<!-- 37 -->\n<g id=\"node38\" class=\"node\">\n<title>37</title>\n<path fill=\"#eb9f68\" stroke=\"black\" d=\"M1198,-64C1198,-64 1117,-64 1117,-64 1111,-64 1105,-58 1105,-52 1105,-52 1105,-12 1105,-12 1105,-6 1111,0 1117,0 1117,0 1198,0 1198,0 1204,0 1210,-6 1210,-12 1210,-12 1210,-52 1210,-52 1210,-58 1204,-64 1198,-64\"/>\n<text text-anchor=\"start\" x=\"1120\" y=\"-49.8\" font-family=\"Helvetica,sans-Serif\" font-size=\"14.00\">gini = 0.308</text>\n<text text-anchor=\"start\" x=\"1114\" y=\"-35.8\" font-family=\"Helvetica,sans-Serif\" font-size=\"14.00\">samples = 21</text>\n<text text-anchor=\"start\" x=\"1113\" y=\"-21.8\" font-family=\"Helvetica,sans-Serif\" font-size=\"14.00\">value = [17, 4]</text>\n<text text-anchor=\"start\" x=\"1126\" y=\"-7.8\" font-family=\"Helvetica,sans-Serif\" font-size=\"14.00\">class = y</text>\n<text text-anchor=\"start\" x=\"1182\" y=\"-7.8\" font-family=\"Helvetica,sans-Serif\" baseline-shift=\"sub\" font-size=\"14.00\">0</text>\n</g>\n<!-- 36&#45;&gt;37 -->\n<g id=\"edge37\" class=\"edge\">\n<title>36&#45;&gt;37</title>\n<path fill=\"none\" stroke=\"black\" d=\"M1168.31,-99.8C1166.96,-91.46 1165.53,-82.6 1164.16,-74.15\"/>\n<polygon fill=\"black\" stroke=\"black\" points=\"1167.59,-73.43 1162.54,-64.12 1160.68,-74.55 1167.59,-73.43\"/>\n</g>\n<!-- 38 -->\n<g id=\"node39\" class=\"node\">\n<title>38</title>\n<path fill=\"#399de5\" stroke=\"black\" d=\"M1313,-64C1313,-64 1240,-64 1240,-64 1234,-64 1228,-58 1228,-52 1228,-52 1228,-12 1228,-12 1228,-6 1234,0 1240,0 1240,0 1313,0 1313,0 1319,0 1325,-6 1325,-12 1325,-12 1325,-52 1325,-52 1325,-58 1319,-64 1313,-64\"/>\n<text text-anchor=\"start\" x=\"1247.5\" y=\"-49.8\" font-family=\"Helvetica,sans-Serif\" font-size=\"14.00\">gini = 0.0</text>\n<text text-anchor=\"start\" x=\"1237\" y=\"-35.8\" font-family=\"Helvetica,sans-Serif\" font-size=\"14.00\">samples = 2</text>\n<text text-anchor=\"start\" x=\"1236\" y=\"-21.8\" font-family=\"Helvetica,sans-Serif\" font-size=\"14.00\">value = [0, 2]</text>\n<text text-anchor=\"start\" x=\"1245\" y=\"-7.8\" font-family=\"Helvetica,sans-Serif\" font-size=\"14.00\">class = y</text>\n<text text-anchor=\"start\" x=\"1301\" y=\"-7.8\" font-family=\"Helvetica,sans-Serif\" baseline-shift=\"sub\" font-size=\"14.00\">1</text>\n</g>\n<!-- 36&#45;&gt;38 -->\n<g id=\"edge38\" class=\"edge\">\n<title>36&#45;&gt;38</title>\n<path fill=\"none\" stroke=\"black\" d=\"M1211.61,-99.8C1220.6,-90.54 1230.21,-80.65 1239.21,-71.38\"/>\n<polygon fill=\"black\" stroke=\"black\" points=\"1241.81,-73.73 1246.27,-64.12 1236.79,-68.85 1241.81,-73.73\"/>\n</g>\n<!-- 40 -->\n<g id=\"node41\" class=\"node\">\n<title>40</title>\n<path fill=\"#ea975b\" stroke=\"black\" d=\"M1488,-178C1488,-178 1407,-178 1407,-178 1401,-178 1395,-172 1395,-166 1395,-166 1395,-112 1395,-112 1395,-106 1401,-100 1407,-100 1407,-100 1488,-100 1488,-100 1494,-100 1500,-106 1500,-112 1500,-112 1500,-166 1500,-166 1500,-172 1494,-178 1488,-178\"/>\n<text text-anchor=\"start\" x=\"1416.5\" y=\"-163.8\" font-family=\"Helvetica,sans-Serif\" font-size=\"14.00\">K ≤ 9.174</text>\n<text text-anchor=\"start\" x=\"1410\" y=\"-149.8\" font-family=\"Helvetica,sans-Serif\" font-size=\"14.00\">gini = 0.252</text>\n<text text-anchor=\"start\" x=\"1404\" y=\"-135.8\" font-family=\"Helvetica,sans-Serif\" font-size=\"14.00\">samples = 27</text>\n<text text-anchor=\"start\" x=\"1403\" y=\"-121.8\" font-family=\"Helvetica,sans-Serif\" font-size=\"14.00\">value = [23, 4]</text>\n<text text-anchor=\"start\" x=\"1416\" y=\"-107.8\" font-family=\"Helvetica,sans-Serif\" font-size=\"14.00\">class = y</text>\n<text text-anchor=\"start\" x=\"1472\" y=\"-107.8\" font-family=\"Helvetica,sans-Serif\" baseline-shift=\"sub\" font-size=\"14.00\">0</text>\n</g>\n<!-- 39&#45;&gt;40 -->\n<g id=\"edge40\" class=\"edge\">\n<title>39&#45;&gt;40</title>\n<path fill=\"none\" stroke=\"black\" d=\"M1447.5,-213.77C1447.5,-205.57 1447.5,-196.8 1447.5,-188.28\"/>\n<polygon fill=\"black\" stroke=\"black\" points=\"1451,-188.06 1447.5,-178.06 1444,-188.06 1451,-188.06\"/>\n</g>\n<!-- 43 -->\n<g id=\"node44\" class=\"node\">\n<title>43</title>\n<path fill=\"#9ccef2\" stroke=\"black\" d=\"M1665.5,-178C1665.5,-178 1577.5,-178 1577.5,-178 1571.5,-178 1565.5,-172 1565.5,-166 1565.5,-166 1565.5,-112 1565.5,-112 1565.5,-106 1571.5,-100 1577.5,-100 1577.5,-100 1665.5,-100 1665.5,-100 1671.5,-100 1677.5,-106 1677.5,-112 1677.5,-112 1677.5,-166 1677.5,-166 1677.5,-172 1671.5,-178 1665.5,-178\"/>\n<text text-anchor=\"start\" x=\"1573.5\" y=\"-163.8\" font-family=\"Helvetica,sans-Serif\" font-size=\"14.00\">Open ≤ 16.675</text>\n<text text-anchor=\"start\" x=\"1584\" y=\"-149.8\" font-family=\"Helvetica,sans-Serif\" font-size=\"14.00\">gini = 0.444</text>\n<text text-anchor=\"start\" x=\"1582\" y=\"-135.8\" font-family=\"Helvetica,sans-Serif\" font-size=\"14.00\">samples = 3</text>\n<text text-anchor=\"start\" x=\"1581\" y=\"-121.8\" font-family=\"Helvetica,sans-Serif\" font-size=\"14.00\">value = [1, 2]</text>\n<text text-anchor=\"start\" x=\"1590\" y=\"-107.8\" font-family=\"Helvetica,sans-Serif\" font-size=\"14.00\">class = y</text>\n<text text-anchor=\"start\" x=\"1646\" y=\"-107.8\" font-family=\"Helvetica,sans-Serif\" baseline-shift=\"sub\" font-size=\"14.00\">1</text>\n</g>\n<!-- 39&#45;&gt;43 -->\n<g id=\"edge43\" class=\"edge\">\n<title>39&#45;&gt;43</title>\n<path fill=\"none\" stroke=\"black\" d=\"M1500.18,-218.09C1518.05,-206.59 1538.22,-193.61 1556.9,-181.58\"/>\n<polygon fill=\"black\" stroke=\"black\" points=\"1558.86,-184.48 1565.37,-176.13 1555.07,-178.6 1558.86,-184.48\"/>\n</g>\n<!-- 41 -->\n<g id=\"node42\" class=\"node\">\n<title>41</title>\n<path fill=\"#ffffff\" stroke=\"black\" d=\"M1428,-64C1428,-64 1355,-64 1355,-64 1349,-64 1343,-58 1343,-52 1343,-52 1343,-12 1343,-12 1343,-6 1349,0 1355,0 1355,0 1428,0 1428,0 1434,0 1440,-6 1440,-12 1440,-12 1440,-52 1440,-52 1440,-58 1434,-64 1428,-64\"/>\n<text text-anchor=\"start\" x=\"1362.5\" y=\"-49.8\" font-family=\"Helvetica,sans-Serif\" font-size=\"14.00\">gini = 0.5</text>\n<text text-anchor=\"start\" x=\"1352\" y=\"-35.8\" font-family=\"Helvetica,sans-Serif\" font-size=\"14.00\">samples = 4</text>\n<text text-anchor=\"start\" x=\"1351\" y=\"-21.8\" font-family=\"Helvetica,sans-Serif\" font-size=\"14.00\">value = [2, 2]</text>\n<text text-anchor=\"start\" x=\"1360\" y=\"-7.8\" font-family=\"Helvetica,sans-Serif\" font-size=\"14.00\">class = y</text>\n<text text-anchor=\"start\" x=\"1416\" y=\"-7.8\" font-family=\"Helvetica,sans-Serif\" baseline-shift=\"sub\" font-size=\"14.00\">0</text>\n</g>\n<!-- 40&#45;&gt;41 -->\n<g id=\"edge41\" class=\"edge\">\n<title>40&#45;&gt;41</title>\n<path fill=\"none\" stroke=\"black\" d=\"M1427.12,-99.8C1422.48,-91.09 1417.54,-81.82 1412.86,-73.04\"/>\n<polygon fill=\"black\" stroke=\"black\" points=\"1415.89,-71.29 1408.1,-64.12 1409.71,-74.59 1415.89,-71.29\"/>\n</g>\n<!-- 42 -->\n<g id=\"node43\" class=\"node\">\n<title>42</title>\n<path fill=\"#e78d4c\" stroke=\"black\" d=\"M1551,-64C1551,-64 1470,-64 1470,-64 1464,-64 1458,-58 1458,-52 1458,-52 1458,-12 1458,-12 1458,-6 1464,0 1470,0 1470,0 1551,0 1551,0 1557,0 1563,-6 1563,-12 1563,-12 1563,-52 1563,-52 1563,-58 1557,-64 1551,-64\"/>\n<text text-anchor=\"start\" x=\"1473\" y=\"-49.8\" font-family=\"Helvetica,sans-Serif\" font-size=\"14.00\">gini = 0.159</text>\n<text text-anchor=\"start\" x=\"1467\" y=\"-35.8\" font-family=\"Helvetica,sans-Serif\" font-size=\"14.00\">samples = 23</text>\n<text text-anchor=\"start\" x=\"1466\" y=\"-21.8\" font-family=\"Helvetica,sans-Serif\" font-size=\"14.00\">value = [21, 2]</text>\n<text text-anchor=\"start\" x=\"1479\" y=\"-7.8\" font-family=\"Helvetica,sans-Serif\" font-size=\"14.00\">class = y</text>\n<text text-anchor=\"start\" x=\"1535\" y=\"-7.8\" font-family=\"Helvetica,sans-Serif\" baseline-shift=\"sub\" font-size=\"14.00\">0</text>\n</g>\n<!-- 40&#45;&gt;42 -->\n<g id=\"edge42\" class=\"edge\">\n<title>40&#45;&gt;42</title>\n<path fill=\"none\" stroke=\"black\" d=\"M1470.42,-99.8C1475.7,-91 1481.32,-81.63 1486.64,-72.76\"/>\n<polygon fill=\"black\" stroke=\"black\" points=\"1489.69,-74.49 1491.83,-64.12 1483.68,-70.89 1489.69,-74.49\"/>\n</g>\n<!-- 44 -->\n<g id=\"node45\" class=\"node\">\n<title>44</title>\n<path fill=\"#399de5\" stroke=\"black\" d=\"M1666,-64C1666,-64 1593,-64 1593,-64 1587,-64 1581,-58 1581,-52 1581,-52 1581,-12 1581,-12 1581,-6 1587,0 1593,0 1593,0 1666,0 1666,0 1672,0 1678,-6 1678,-12 1678,-12 1678,-52 1678,-52 1678,-58 1672,-64 1666,-64\"/>\n<text text-anchor=\"start\" x=\"1600.5\" y=\"-49.8\" font-family=\"Helvetica,sans-Serif\" font-size=\"14.00\">gini = 0.0</text>\n<text text-anchor=\"start\" x=\"1590\" y=\"-35.8\" font-family=\"Helvetica,sans-Serif\" font-size=\"14.00\">samples = 2</text>\n<text text-anchor=\"start\" x=\"1589\" y=\"-21.8\" font-family=\"Helvetica,sans-Serif\" font-size=\"14.00\">value = [0, 2]</text>\n<text text-anchor=\"start\" x=\"1598\" y=\"-7.8\" font-family=\"Helvetica,sans-Serif\" font-size=\"14.00\">class = y</text>\n<text text-anchor=\"start\" x=\"1654\" y=\"-7.8\" font-family=\"Helvetica,sans-Serif\" baseline-shift=\"sub\" font-size=\"14.00\">1</text>\n</g>\n<!-- 43&#45;&gt;44 -->\n<g id=\"edge44\" class=\"edge\">\n<title>43&#45;&gt;44</title>\n<path fill=\"none\" stroke=\"black\" d=\"M1624.41,-99.8C1625.05,-91.46 1625.72,-82.6 1626.36,-74.15\"/>\n<polygon fill=\"black\" stroke=\"black\" points=\"1629.86,-74.35 1627.13,-64.12 1622.88,-73.82 1629.86,-74.35\"/>\n</g>\n<!-- 45 -->\n<g id=\"node46\" class=\"node\">\n<title>45</title>\n<path fill=\"#e58139\" stroke=\"black\" d=\"M1781,-64C1781,-64 1708,-64 1708,-64 1702,-64 1696,-58 1696,-52 1696,-52 1696,-12 1696,-12 1696,-6 1702,0 1708,0 1708,0 1781,0 1781,0 1787,0 1793,-6 1793,-12 1793,-12 1793,-52 1793,-52 1793,-58 1787,-64 1781,-64\"/>\n<text text-anchor=\"start\" x=\"1715.5\" y=\"-49.8\" font-family=\"Helvetica,sans-Serif\" font-size=\"14.00\">gini = 0.0</text>\n<text text-anchor=\"start\" x=\"1705\" y=\"-35.8\" font-family=\"Helvetica,sans-Serif\" font-size=\"14.00\">samples = 1</text>\n<text text-anchor=\"start\" x=\"1704\" y=\"-21.8\" font-family=\"Helvetica,sans-Serif\" font-size=\"14.00\">value = [1, 0]</text>\n<text text-anchor=\"start\" x=\"1713\" y=\"-7.8\" font-family=\"Helvetica,sans-Serif\" font-size=\"14.00\">class = y</text>\n<text text-anchor=\"start\" x=\"1769\" y=\"-7.8\" font-family=\"Helvetica,sans-Serif\" baseline-shift=\"sub\" font-size=\"14.00\">0</text>\n</g>\n<!-- 43&#45;&gt;45 -->\n<g id=\"edge45\" class=\"edge\">\n<title>43&#45;&gt;45</title>\n<path fill=\"none\" stroke=\"black\" d=\"M1666.25,-99.8C1677.31,-90.36 1689.14,-80.25 1700.18,-70.84\"/>\n<polygon fill=\"black\" stroke=\"black\" points=\"1702.72,-73.27 1708.05,-64.12 1698.17,-67.95 1702.72,-73.27\"/>\n</g>\n<!-- 48 -->\n<g id=\"node49\" class=\"node\">\n<title>48</title>\n<path fill=\"#95cbf1\" stroke=\"black\" d=\"M2025.5,-634C2025.5,-634 1927.5,-634 1927.5,-634 1921.5,-634 1915.5,-628 1915.5,-622 1915.5,-622 1915.5,-568 1915.5,-568 1915.5,-562 1921.5,-556 1927.5,-556 1927.5,-556 2025.5,-556 2025.5,-556 2031.5,-556 2037.5,-562 2037.5,-568 2037.5,-568 2037.5,-622 2037.5,-622 2037.5,-628 2031.5,-634 2025.5,-634\"/>\n<text text-anchor=\"start\" x=\"1941.5\" y=\"-619.8\" font-family=\"Helvetica,sans-Serif\" font-size=\"14.00\">K ≤ 28.917</text>\n<text text-anchor=\"start\" x=\"1939\" y=\"-605.8\" font-family=\"Helvetica,sans-Serif\" font-size=\"14.00\">gini = 0.433</text>\n<text text-anchor=\"start\" x=\"1929\" y=\"-591.8\" font-family=\"Helvetica,sans-Serif\" font-size=\"14.00\">samples = 186</text>\n<text text-anchor=\"start\" x=\"1923.5\" y=\"-577.8\" font-family=\"Helvetica,sans-Serif\" font-size=\"14.00\">value = [59, 127]</text>\n<text text-anchor=\"start\" x=\"1945\" y=\"-563.8\" font-family=\"Helvetica,sans-Serif\" font-size=\"14.00\">class = y</text>\n<text text-anchor=\"start\" x=\"2001\" y=\"-563.8\" font-family=\"Helvetica,sans-Serif\" baseline-shift=\"sub\" font-size=\"14.00\">1</text>\n</g>\n<!-- 47&#45;&gt;48 -->\n<g id=\"edge48\" class=\"edge\">\n<title>47&#45;&gt;48</title>\n<path fill=\"none\" stroke=\"black\" d=\"M2004.82,-669.77C2001.57,-661.3 1998.09,-652.22 1994.71,-643.44\"/>\n<polygon fill=\"black\" stroke=\"black\" points=\"1997.96,-642.14 1991.11,-634.06 1991.43,-644.65 1997.96,-642.14\"/>\n</g>\n<!-- 75 -->\n<g id=\"node76\" class=\"node\">\n<title>75</title>\n<path fill=\"#e58139\" stroke=\"black\" d=\"M2141,-627C2141,-627 2068,-627 2068,-627 2062,-627 2056,-621 2056,-615 2056,-615 2056,-575 2056,-575 2056,-569 2062,-563 2068,-563 2068,-563 2141,-563 2141,-563 2147,-563 2153,-569 2153,-575 2153,-575 2153,-615 2153,-615 2153,-621 2147,-627 2141,-627\"/>\n<text text-anchor=\"start\" x=\"2075.5\" y=\"-612.8\" font-family=\"Helvetica,sans-Serif\" font-size=\"14.00\">gini = 0.0</text>\n<text text-anchor=\"start\" x=\"2065\" y=\"-598.8\" font-family=\"Helvetica,sans-Serif\" font-size=\"14.00\">samples = 3</text>\n<text text-anchor=\"start\" x=\"2064\" y=\"-584.8\" font-family=\"Helvetica,sans-Serif\" font-size=\"14.00\">value = [3, 0]</text>\n<text text-anchor=\"start\" x=\"2073\" y=\"-570.8\" font-family=\"Helvetica,sans-Serif\" font-size=\"14.00\">class = y</text>\n<text text-anchor=\"start\" x=\"2129\" y=\"-570.8\" font-family=\"Helvetica,sans-Serif\" baseline-shift=\"sub\" font-size=\"14.00\">0</text>\n</g>\n<!-- 47&#45;&gt;75 -->\n<g id=\"edge75\" class=\"edge\">\n<title>47&#45;&gt;75</title>\n<path fill=\"none\" stroke=\"black\" d=\"M2048.51,-669.77C2057.03,-658.55 2066.35,-646.27 2074.9,-635\"/>\n<polygon fill=\"black\" stroke=\"black\" points=\"2077.71,-637.09 2080.97,-627.01 2072.13,-632.86 2077.71,-637.09\"/>\n</g>\n<!-- 49 -->\n<g id=\"node50\" class=\"node\">\n<title>49</title>\n<path fill=\"#ffffff\" stroke=\"black\" d=\"M2021,-520C2021,-520 1932,-520 1932,-520 1926,-520 1920,-514 1920,-508 1920,-508 1920,-454 1920,-454 1920,-448 1926,-442 1932,-442 1932,-442 2021,-442 2021,-442 2027,-442 2033,-448 2033,-454 2033,-454 2033,-508 2033,-508 2033,-514 2027,-520 2021,-520\"/>\n<text text-anchor=\"start\" x=\"1941.5\" y=\"-505.8\" font-family=\"Helvetica,sans-Serif\" font-size=\"14.00\">K ≤ 11.266</text>\n<text text-anchor=\"start\" x=\"1947.5\" y=\"-491.8\" font-family=\"Helvetica,sans-Serif\" font-size=\"14.00\">gini = 0.5</text>\n<text text-anchor=\"start\" x=\"1933\" y=\"-477.8\" font-family=\"Helvetica,sans-Serif\" font-size=\"14.00\">samples = 34</text>\n<text text-anchor=\"start\" x=\"1928\" y=\"-463.8\" font-family=\"Helvetica,sans-Serif\" font-size=\"14.00\">value = [17, 17]</text>\n<text text-anchor=\"start\" x=\"1945\" y=\"-449.8\" font-family=\"Helvetica,sans-Serif\" font-size=\"14.00\">class = y</text>\n<text text-anchor=\"start\" x=\"2001\" y=\"-449.8\" font-family=\"Helvetica,sans-Serif\" baseline-shift=\"sub\" font-size=\"14.00\">0</text>\n</g>\n<!-- 48&#45;&gt;49 -->\n<g id=\"edge49\" class=\"edge\">\n<title>48&#45;&gt;49</title>\n<path fill=\"none\" stroke=\"black\" d=\"M1976.5,-555.77C1976.5,-547.57 1976.5,-538.8 1976.5,-530.28\"/>\n<polygon fill=\"black\" stroke=\"black\" points=\"1980,-530.06 1976.5,-520.06 1973,-530.06 1980,-530.06\"/>\n</g>\n<!-- 62 -->\n<g id=\"node63\" class=\"node\">\n<title>62</title>\n<path fill=\"#85c2ef\" stroke=\"black\" d=\"M2187.5,-520C2187.5,-520 2089.5,-520 2089.5,-520 2083.5,-520 2077.5,-514 2077.5,-508 2077.5,-508 2077.5,-454 2077.5,-454 2077.5,-448 2083.5,-442 2089.5,-442 2089.5,-442 2187.5,-442 2187.5,-442 2193.5,-442 2199.5,-448 2199.5,-454 2199.5,-454 2199.5,-508 2199.5,-508 2199.5,-514 2193.5,-520 2187.5,-520\"/>\n<text text-anchor=\"start\" x=\"2107\" y=\"-505.8\" font-family=\"Helvetica,sans-Serif\" font-size=\"14.00\">D ≤ 33.26</text>\n<text text-anchor=\"start\" x=\"2109.5\" y=\"-491.8\" font-family=\"Helvetica,sans-Serif\" font-size=\"14.00\">gini = 0.4</text>\n<text text-anchor=\"start\" x=\"2091\" y=\"-477.8\" font-family=\"Helvetica,sans-Serif\" font-size=\"14.00\">samples = 152</text>\n<text text-anchor=\"start\" x=\"2085.5\" y=\"-463.8\" font-family=\"Helvetica,sans-Serif\" font-size=\"14.00\">value = [42, 110]</text>\n<text text-anchor=\"start\" x=\"2107\" y=\"-449.8\" font-family=\"Helvetica,sans-Serif\" font-size=\"14.00\">class = y</text>\n<text text-anchor=\"start\" x=\"2163\" y=\"-449.8\" font-family=\"Helvetica,sans-Serif\" baseline-shift=\"sub\" font-size=\"14.00\">1</text>\n</g>\n<!-- 48&#45;&gt;62 -->\n<g id=\"edge62\" class=\"edge\">\n<title>48&#45;&gt;62</title>\n<path fill=\"none\" stroke=\"black\" d=\"M2031.8,-555.77C2045.74,-546.13 2060.82,-535.7 2075.13,-525.81\"/>\n<polygon fill=\"black\" stroke=\"black\" points=\"2077.22,-528.62 2083.45,-520.06 2073.24,-522.87 2077.22,-528.62\"/>\n</g>\n<!-- 50 -->\n<g id=\"node51\" class=\"node\">\n<title>50</title>\n<path fill=\"#72b9ec\" stroke=\"black\" d=\"M1918.5,-406C1918.5,-406 1800.5,-406 1800.5,-406 1794.5,-406 1788.5,-400 1788.5,-394 1788.5,-394 1788.5,-340 1788.5,-340 1788.5,-334 1794.5,-328 1800.5,-328 1800.5,-328 1918.5,-328 1918.5,-328 1924.5,-328 1930.5,-334 1930.5,-340 1930.5,-340 1930.5,-394 1930.5,-394 1930.5,-400 1924.5,-406 1918.5,-406\"/>\n<text text-anchor=\"start\" x=\"1796.5\" y=\"-391.8\" font-family=\"Helvetica,sans-Serif\" font-size=\"14.00\">Volume ≤ 337481.0</text>\n<text text-anchor=\"start\" x=\"1822\" y=\"-377.8\" font-family=\"Helvetica,sans-Serif\" font-size=\"14.00\">gini = 0.346</text>\n<text text-anchor=\"start\" x=\"1816\" y=\"-363.8\" font-family=\"Helvetica,sans-Serif\" font-size=\"14.00\">samples = 18</text>\n<text text-anchor=\"start\" x=\"1815\" y=\"-349.8\" font-family=\"Helvetica,sans-Serif\" font-size=\"14.00\">value = [4, 14]</text>\n<text text-anchor=\"start\" x=\"1828\" y=\"-335.8\" font-family=\"Helvetica,sans-Serif\" font-size=\"14.00\">class = y</text>\n<text text-anchor=\"start\" x=\"1884\" y=\"-335.8\" font-family=\"Helvetica,sans-Serif\" baseline-shift=\"sub\" font-size=\"14.00\">1</text>\n</g>\n<!-- 49&#45;&gt;50 -->\n<g id=\"edge50\" class=\"edge\">\n<title>49&#45;&gt;50</title>\n<path fill=\"none\" stroke=\"black\" d=\"M1936.56,-441.77C1926.96,-432.58 1916.62,-422.68 1906.72,-413.2\"/>\n<polygon fill=\"black\" stroke=\"black\" points=\"1908.9,-410.45 1899.26,-406.06 1904.06,-415.5 1908.9,-410.45\"/>\n</g>\n<!-- 57 -->\n<g id=\"node58\" class=\"node\">\n<title>57</title>\n<path fill=\"#eb9e67\" stroke=\"black\" d=\"M2042,-406C2042,-406 1961,-406 1961,-406 1955,-406 1949,-400 1949,-394 1949,-394 1949,-340 1949,-340 1949,-334 1955,-328 1961,-328 1961,-328 2042,-328 2042,-328 2048,-328 2054,-334 2054,-340 2054,-340 2054,-394 2054,-394 2054,-400 2048,-406 2042,-406\"/>\n<text text-anchor=\"start\" x=\"1970.5\" y=\"-391.8\" font-family=\"Helvetica,sans-Serif\" font-size=\"14.00\">K ≤ 24.58</text>\n<text text-anchor=\"start\" x=\"1964\" y=\"-377.8\" font-family=\"Helvetica,sans-Serif\" font-size=\"14.00\">gini = 0.305</text>\n<text text-anchor=\"start\" x=\"1958\" y=\"-363.8\" font-family=\"Helvetica,sans-Serif\" font-size=\"14.00\">samples = 16</text>\n<text text-anchor=\"start\" x=\"1957\" y=\"-349.8\" font-family=\"Helvetica,sans-Serif\" font-size=\"14.00\">value = [13, 3]</text>\n<text text-anchor=\"start\" x=\"1970\" y=\"-335.8\" font-family=\"Helvetica,sans-Serif\" font-size=\"14.00\">class = y</text>\n<text text-anchor=\"start\" x=\"2026\" y=\"-335.8\" font-family=\"Helvetica,sans-Serif\" baseline-shift=\"sub\" font-size=\"14.00\">0</text>\n</g>\n<!-- 49&#45;&gt;57 -->\n<g id=\"edge57\" class=\"edge\">\n<title>49&#45;&gt;57</title>\n<path fill=\"none\" stroke=\"black\" d=\"M1985.03,-441.77C1986.88,-433.48 1988.86,-424.61 1990.79,-416\"/>\n<polygon fill=\"black\" stroke=\"black\" points=\"1994.24,-416.58 1993,-406.06 1987.41,-415.06 1994.24,-416.58\"/>\n</g>\n<!-- 51 -->\n<g id=\"node52\" class=\"node\">\n<title>51</title>\n<path fill=\"#55abe9\" stroke=\"black\" d=\"M1790.5,-292C1790.5,-292 1702.5,-292 1702.5,-292 1696.5,-292 1690.5,-286 1690.5,-280 1690.5,-280 1690.5,-226 1690.5,-226 1690.5,-220 1696.5,-214 1702.5,-214 1702.5,-214 1790.5,-214 1790.5,-214 1796.5,-214 1802.5,-220 1802.5,-226 1802.5,-226 1802.5,-280 1802.5,-280 1802.5,-286 1796.5,-292 1790.5,-292\"/>\n<text text-anchor=\"start\" x=\"1698.5\" y=\"-277.8\" font-family=\"Helvetica,sans-Serif\" font-size=\"14.00\">Open ≤ 13.725</text>\n<text text-anchor=\"start\" x=\"1709\" y=\"-263.8\" font-family=\"Helvetica,sans-Serif\" font-size=\"14.00\">gini = 0.219</text>\n<text text-anchor=\"start\" x=\"1703\" y=\"-249.8\" font-family=\"Helvetica,sans-Serif\" font-size=\"14.00\">samples = 16</text>\n<text text-anchor=\"start\" x=\"1702\" y=\"-235.8\" font-family=\"Helvetica,sans-Serif\" font-size=\"14.00\">value = [2, 14]</text>\n<text text-anchor=\"start\" x=\"1715\" y=\"-221.8\" font-family=\"Helvetica,sans-Serif\" font-size=\"14.00\">class = y</text>\n<text text-anchor=\"start\" x=\"1771\" y=\"-221.8\" font-family=\"Helvetica,sans-Serif\" baseline-shift=\"sub\" font-size=\"14.00\">1</text>\n</g>\n<!-- 50&#45;&gt;51 -->\n<g id=\"edge51\" class=\"edge\">\n<title>50&#45;&gt;51</title>\n<path fill=\"none\" stroke=\"black\" d=\"M1820.93,-327.77C1811.66,-318.58 1801.66,-308.68 1792.1,-299.2\"/>\n<polygon fill=\"black\" stroke=\"black\" points=\"1794.46,-296.61 1784.9,-292.06 1789.54,-301.58 1794.46,-296.61\"/>\n</g>\n<!-- 56 -->\n<g id=\"node57\" class=\"node\">\n<title>56</title>\n<path fill=\"#e58139\" stroke=\"black\" d=\"M1906,-285C1906,-285 1833,-285 1833,-285 1827,-285 1821,-279 1821,-273 1821,-273 1821,-233 1821,-233 1821,-227 1827,-221 1833,-221 1833,-221 1906,-221 1906,-221 1912,-221 1918,-227 1918,-233 1918,-233 1918,-273 1918,-273 1918,-279 1912,-285 1906,-285\"/>\n<text text-anchor=\"start\" x=\"1840.5\" y=\"-270.8\" font-family=\"Helvetica,sans-Serif\" font-size=\"14.00\">gini = 0.0</text>\n<text text-anchor=\"start\" x=\"1830\" y=\"-256.8\" font-family=\"Helvetica,sans-Serif\" font-size=\"14.00\">samples = 2</text>\n<text text-anchor=\"start\" x=\"1829\" y=\"-242.8\" font-family=\"Helvetica,sans-Serif\" font-size=\"14.00\">value = [2, 0]</text>\n<text text-anchor=\"start\" x=\"1838\" y=\"-228.8\" font-family=\"Helvetica,sans-Serif\" font-size=\"14.00\">class = y</text>\n<text text-anchor=\"start\" x=\"1894\" y=\"-228.8\" font-family=\"Helvetica,sans-Serif\" baseline-shift=\"sub\" font-size=\"14.00\">0</text>\n</g>\n<!-- 50&#45;&gt;56 -->\n<g id=\"edge56\" class=\"edge\">\n<title>50&#45;&gt;56</title>\n<path fill=\"none\" stroke=\"black\" d=\"M1862.91,-327.77C1863.86,-317.2 1864.88,-305.7 1865.84,-294.98\"/>\n<polygon fill=\"black\" stroke=\"black\" points=\"1869.33,-295.28 1866.73,-285.01 1862.36,-294.66 1869.33,-295.28\"/>\n</g>\n<!-- 52 -->\n<g id=\"node53\" class=\"node\">\n<title>52</title>\n<path fill=\"#e58139\" stroke=\"black\" d=\"M1781,-171C1781,-171 1708,-171 1708,-171 1702,-171 1696,-165 1696,-159 1696,-159 1696,-119 1696,-119 1696,-113 1702,-107 1708,-107 1708,-107 1781,-107 1781,-107 1787,-107 1793,-113 1793,-119 1793,-119 1793,-159 1793,-159 1793,-165 1787,-171 1781,-171\"/>\n<text text-anchor=\"start\" x=\"1715.5\" y=\"-156.8\" font-family=\"Helvetica,sans-Serif\" font-size=\"14.00\">gini = 0.0</text>\n<text text-anchor=\"start\" x=\"1705\" y=\"-142.8\" font-family=\"Helvetica,sans-Serif\" font-size=\"14.00\">samples = 1</text>\n<text text-anchor=\"start\" x=\"1704\" y=\"-128.8\" font-family=\"Helvetica,sans-Serif\" font-size=\"14.00\">value = [1, 0]</text>\n<text text-anchor=\"start\" x=\"1713\" y=\"-114.8\" font-family=\"Helvetica,sans-Serif\" font-size=\"14.00\">class = y</text>\n<text text-anchor=\"start\" x=\"1769\" y=\"-114.8\" font-family=\"Helvetica,sans-Serif\" baseline-shift=\"sub\" font-size=\"14.00\">0</text>\n</g>\n<!-- 51&#45;&gt;52 -->\n<g id=\"edge52\" class=\"edge\">\n<title>51&#45;&gt;52</title>\n<path fill=\"none\" stroke=\"black\" d=\"M1745.82,-213.77C1745.63,-203.31 1745.43,-191.94 1745.24,-181.32\"/>\n<polygon fill=\"black\" stroke=\"black\" points=\"1748.73,-180.95 1745.05,-171.01 1741.73,-181.07 1748.73,-180.95\"/>\n</g>\n<!-- 53 -->\n<g id=\"node54\" class=\"node\">\n<title>53</title>\n<path fill=\"#47a4e7\" stroke=\"black\" d=\"M1941.5,-178C1941.5,-178 1823.5,-178 1823.5,-178 1817.5,-178 1811.5,-172 1811.5,-166 1811.5,-166 1811.5,-112 1811.5,-112 1811.5,-106 1817.5,-100 1823.5,-100 1823.5,-100 1941.5,-100 1941.5,-100 1947.5,-100 1953.5,-106 1953.5,-112 1953.5,-112 1953.5,-166 1953.5,-166 1953.5,-172 1947.5,-178 1941.5,-178\"/>\n<text text-anchor=\"start\" x=\"1819.5\" y=\"-163.8\" font-family=\"Helvetica,sans-Serif\" font-size=\"14.00\">Volume ≤ 142830.0</text>\n<text text-anchor=\"start\" x=\"1845\" y=\"-149.8\" font-family=\"Helvetica,sans-Serif\" font-size=\"14.00\">gini = 0.124</text>\n<text text-anchor=\"start\" x=\"1839\" y=\"-135.8\" font-family=\"Helvetica,sans-Serif\" font-size=\"14.00\">samples = 15</text>\n<text text-anchor=\"start\" x=\"1838\" y=\"-121.8\" font-family=\"Helvetica,sans-Serif\" font-size=\"14.00\">value = [1, 14]</text>\n<text text-anchor=\"start\" x=\"1851\" y=\"-107.8\" font-family=\"Helvetica,sans-Serif\" font-size=\"14.00\">class = y</text>\n<text text-anchor=\"start\" x=\"1907\" y=\"-107.8\" font-family=\"Helvetica,sans-Serif\" baseline-shift=\"sub\" font-size=\"14.00\">1</text>\n</g>\n<!-- 51&#45;&gt;53 -->\n<g id=\"edge53\" class=\"edge\">\n<title>51&#45;&gt;53</title>\n<path fill=\"none\" stroke=\"black\" d=\"M1792.92,-213.77C1804.3,-204.4 1816.58,-194.29 1828.29,-184.64\"/>\n<polygon fill=\"black\" stroke=\"black\" points=\"1830.79,-187.12 1836.29,-178.06 1826.34,-181.71 1830.79,-187.12\"/>\n</g>\n<!-- 54 -->\n<g id=\"node55\" class=\"node\">\n<title>54</title>\n<path fill=\"#7bbeee\" stroke=\"black\" d=\"M1911,-64C1911,-64 1838,-64 1838,-64 1832,-64 1826,-58 1826,-52 1826,-52 1826,-12 1826,-12 1826,-6 1832,0 1838,0 1838,0 1911,0 1911,0 1917,0 1923,-6 1923,-12 1923,-12 1923,-52 1923,-52 1923,-58 1917,-64 1911,-64\"/>\n<text text-anchor=\"start\" x=\"1837\" y=\"-49.8\" font-family=\"Helvetica,sans-Serif\" font-size=\"14.00\">gini = 0.375</text>\n<text text-anchor=\"start\" x=\"1835\" y=\"-35.8\" font-family=\"Helvetica,sans-Serif\" font-size=\"14.00\">samples = 4</text>\n<text text-anchor=\"start\" x=\"1834\" y=\"-21.8\" font-family=\"Helvetica,sans-Serif\" font-size=\"14.00\">value = [1, 3]</text>\n<text text-anchor=\"start\" x=\"1843\" y=\"-7.8\" font-family=\"Helvetica,sans-Serif\" font-size=\"14.00\">class = y</text>\n<text text-anchor=\"start\" x=\"1899\" y=\"-7.8\" font-family=\"Helvetica,sans-Serif\" baseline-shift=\"sub\" font-size=\"14.00\">1</text>\n</g>\n<!-- 53&#45;&gt;54 -->\n<g id=\"edge54\" class=\"edge\">\n<title>53&#45;&gt;54</title>\n<path fill=\"none\" stroke=\"black\" d=\"M1879.59,-99.8C1878.95,-91.46 1878.28,-82.6 1877.64,-74.15\"/>\n<polygon fill=\"black\" stroke=\"black\" points=\"1881.12,-73.82 1876.87,-64.12 1874.14,-74.35 1881.12,-73.82\"/>\n</g>\n<!-- 55 -->\n<g id=\"node56\" class=\"node\">\n<title>55</title>\n<path fill=\"#399de5\" stroke=\"black\" d=\"M2034,-64C2034,-64 1953,-64 1953,-64 1947,-64 1941,-58 1941,-52 1941,-52 1941,-12 1941,-12 1941,-6 1947,0 1953,0 1953,0 2034,0 2034,0 2040,0 2046,-6 2046,-12 2046,-12 2046,-52 2046,-52 2046,-58 2040,-64 2034,-64\"/>\n<text text-anchor=\"start\" x=\"1964.5\" y=\"-49.8\" font-family=\"Helvetica,sans-Serif\" font-size=\"14.00\">gini = 0.0</text>\n<text text-anchor=\"start\" x=\"1950\" y=\"-35.8\" font-family=\"Helvetica,sans-Serif\" font-size=\"14.00\">samples = 11</text>\n<text text-anchor=\"start\" x=\"1949\" y=\"-21.8\" font-family=\"Helvetica,sans-Serif\" font-size=\"14.00\">value = [0, 11]</text>\n<text text-anchor=\"start\" x=\"1962\" y=\"-7.8\" font-family=\"Helvetica,sans-Serif\" font-size=\"14.00\">class = y</text>\n<text text-anchor=\"start\" x=\"2018\" y=\"-7.8\" font-family=\"Helvetica,sans-Serif\" baseline-shift=\"sub\" font-size=\"14.00\">1</text>\n</g>\n<!-- 53&#45;&gt;55 -->\n<g id=\"edge55\" class=\"edge\">\n<title>53&#45;&gt;55</title>\n<path fill=\"none\" stroke=\"black\" d=\"M1922.89,-99.8C1932.77,-90.45 1943.34,-80.45 1953.21,-71.11\"/>\n<polygon fill=\"black\" stroke=\"black\" points=\"1955.75,-73.53 1960.6,-64.12 1950.93,-68.45 1955.75,-73.53\"/>\n</g>\n<!-- 58 -->\n<g id=\"node59\" class=\"node\">\n<title>58</title>\n<path fill=\"#e58139\" stroke=\"black\" d=\"M2032,-285C2032,-285 1951,-285 1951,-285 1945,-285 1939,-279 1939,-273 1939,-273 1939,-233 1939,-233 1939,-227 1945,-221 1951,-221 1951,-221 2032,-221 2032,-221 2038,-221 2044,-227 2044,-233 2044,-233 2044,-273 2044,-273 2044,-279 2038,-285 2032,-285\"/>\n<text text-anchor=\"start\" x=\"1962.5\" y=\"-270.8\" font-family=\"Helvetica,sans-Serif\" font-size=\"14.00\">gini = 0.0</text>\n<text text-anchor=\"start\" x=\"1948\" y=\"-256.8\" font-family=\"Helvetica,sans-Serif\" font-size=\"14.00\">samples = 10</text>\n<text text-anchor=\"start\" x=\"1947\" y=\"-242.8\" font-family=\"Helvetica,sans-Serif\" font-size=\"14.00\">value = [10, 0]</text>\n<text text-anchor=\"start\" x=\"1960\" y=\"-228.8\" font-family=\"Helvetica,sans-Serif\" font-size=\"14.00\">class = y</text>\n<text text-anchor=\"start\" x=\"2016\" y=\"-228.8\" font-family=\"Helvetica,sans-Serif\" baseline-shift=\"sub\" font-size=\"14.00\">0</text>\n</g>\n<!-- 57&#45;&gt;58 -->\n<g id=\"edge58\" class=\"edge\">\n<title>57&#45;&gt;58</title>\n<path fill=\"none\" stroke=\"black\" d=\"M1998.09,-327.77C1997.14,-317.2 1996.12,-305.7 1995.16,-294.98\"/>\n<polygon fill=\"black\" stroke=\"black\" points=\"1998.64,-294.66 1994.27,-285.01 1991.67,-295.28 1998.64,-294.66\"/>\n</g>\n<!-- 59 -->\n<g id=\"node60\" class=\"node\">\n<title>59</title>\n<path fill=\"#ffffff\" stroke=\"black\" d=\"M2192.5,-292C2192.5,-292 2074.5,-292 2074.5,-292 2068.5,-292 2062.5,-286 2062.5,-280 2062.5,-280 2062.5,-226 2062.5,-226 2062.5,-220 2068.5,-214 2074.5,-214 2074.5,-214 2192.5,-214 2192.5,-214 2198.5,-214 2204.5,-220 2204.5,-226 2204.5,-226 2204.5,-280 2204.5,-280 2204.5,-286 2198.5,-292 2192.5,-292\"/>\n<text text-anchor=\"start\" x=\"2070.5\" y=\"-277.8\" font-family=\"Helvetica,sans-Serif\" font-size=\"14.00\">Volume ≤ 144277.0</text>\n<text text-anchor=\"start\" x=\"2104.5\" y=\"-263.8\" font-family=\"Helvetica,sans-Serif\" font-size=\"14.00\">gini = 0.5</text>\n<text text-anchor=\"start\" x=\"2094\" y=\"-249.8\" font-family=\"Helvetica,sans-Serif\" font-size=\"14.00\">samples = 6</text>\n<text text-anchor=\"start\" x=\"2093\" y=\"-235.8\" font-family=\"Helvetica,sans-Serif\" font-size=\"14.00\">value = [3, 3]</text>\n<text text-anchor=\"start\" x=\"2102\" y=\"-221.8\" font-family=\"Helvetica,sans-Serif\" font-size=\"14.00\">class = y</text>\n<text text-anchor=\"start\" x=\"2158\" y=\"-221.8\" font-family=\"Helvetica,sans-Serif\" baseline-shift=\"sub\" font-size=\"14.00\">0</text>\n</g>\n<!-- 57&#45;&gt;59 -->\n<g id=\"edge59\" class=\"edge\">\n<title>57&#45;&gt;59</title>\n<path fill=\"none\" stroke=\"black\" d=\"M2046.56,-327.77C2057.6,-318.4 2069.52,-308.29 2080.88,-298.64\"/>\n<polygon fill=\"black\" stroke=\"black\" points=\"2083.28,-301.2 2088.65,-292.06 2078.76,-295.86 2083.28,-301.2\"/>\n</g>\n<!-- 60 -->\n<g id=\"node61\" class=\"node\">\n<title>60</title>\n<path fill=\"#e58139\" stroke=\"black\" d=\"M2057,-171C2057,-171 1984,-171 1984,-171 1978,-171 1972,-165 1972,-159 1972,-159 1972,-119 1972,-119 1972,-113 1978,-107 1984,-107 1984,-107 2057,-107 2057,-107 2063,-107 2069,-113 2069,-119 2069,-119 2069,-159 2069,-159 2069,-165 2063,-171 2057,-171\"/>\n<text text-anchor=\"start\" x=\"1991.5\" y=\"-156.8\" font-family=\"Helvetica,sans-Serif\" font-size=\"14.00\">gini = 0.0</text>\n<text text-anchor=\"start\" x=\"1981\" y=\"-142.8\" font-family=\"Helvetica,sans-Serif\" font-size=\"14.00\">samples = 3</text>\n<text text-anchor=\"start\" x=\"1980\" y=\"-128.8\" font-family=\"Helvetica,sans-Serif\" font-size=\"14.00\">value = [3, 0]</text>\n<text text-anchor=\"start\" x=\"1989\" y=\"-114.8\" font-family=\"Helvetica,sans-Serif\" font-size=\"14.00\">class = y</text>\n<text text-anchor=\"start\" x=\"2045\" y=\"-114.8\" font-family=\"Helvetica,sans-Serif\" baseline-shift=\"sub\" font-size=\"14.00\">0</text>\n</g>\n<!-- 59&#45;&gt;60 -->\n<g id=\"edge60\" class=\"edge\">\n<title>59&#45;&gt;60</title>\n<path fill=\"none\" stroke=\"black\" d=\"M2094.93,-213.77C2083.39,-202.33 2070.74,-189.79 2059.19,-178.35\"/>\n<polygon fill=\"black\" stroke=\"black\" points=\"2061.35,-175.56 2051.79,-171.01 2056.43,-180.54 2061.35,-175.56\"/>\n</g>\n<!-- 61 -->\n<g id=\"node62\" class=\"node\">\n<title>61</title>\n<path fill=\"#399de5\" stroke=\"black\" d=\"M2172,-171C2172,-171 2099,-171 2099,-171 2093,-171 2087,-165 2087,-159 2087,-159 2087,-119 2087,-119 2087,-113 2093,-107 2099,-107 2099,-107 2172,-107 2172,-107 2178,-107 2184,-113 2184,-119 2184,-119 2184,-159 2184,-159 2184,-165 2178,-171 2172,-171\"/>\n<text text-anchor=\"start\" x=\"2106.5\" y=\"-156.8\" font-family=\"Helvetica,sans-Serif\" font-size=\"14.00\">gini = 0.0</text>\n<text text-anchor=\"start\" x=\"2096\" y=\"-142.8\" font-family=\"Helvetica,sans-Serif\" font-size=\"14.00\">samples = 3</text>\n<text text-anchor=\"start\" x=\"2095\" y=\"-128.8\" font-family=\"Helvetica,sans-Serif\" font-size=\"14.00\">value = [0, 3]</text>\n<text text-anchor=\"start\" x=\"2104\" y=\"-114.8\" font-family=\"Helvetica,sans-Serif\" font-size=\"14.00\">class = y</text>\n<text text-anchor=\"start\" x=\"2160\" y=\"-114.8\" font-family=\"Helvetica,sans-Serif\" baseline-shift=\"sub\" font-size=\"14.00\">1</text>\n</g>\n<!-- 59&#45;&gt;61 -->\n<g id=\"edge61\" class=\"edge\">\n<title>59&#45;&gt;61</title>\n<path fill=\"none\" stroke=\"black\" d=\"M2134.18,-213.77C2134.37,-203.31 2134.57,-191.94 2134.76,-181.32\"/>\n<polygon fill=\"black\" stroke=\"black\" points=\"2138.27,-181.07 2134.95,-171.01 2131.27,-180.95 2138.27,-181.07\"/>\n</g>\n<!-- 63 -->\n<g id=\"node64\" class=\"node\">\n<title>63</title>\n<path fill=\"#e58139\" stroke=\"black\" d=\"M2175,-399C2175,-399 2102,-399 2102,-399 2096,-399 2090,-393 2090,-387 2090,-387 2090,-347 2090,-347 2090,-341 2096,-335 2102,-335 2102,-335 2175,-335 2175,-335 2181,-335 2187,-341 2187,-347 2187,-347 2187,-387 2187,-387 2187,-393 2181,-399 2175,-399\"/>\n<text text-anchor=\"start\" x=\"2109.5\" y=\"-384.8\" font-family=\"Helvetica,sans-Serif\" font-size=\"14.00\">gini = 0.0</text>\n<text text-anchor=\"start\" x=\"2099\" y=\"-370.8\" font-family=\"Helvetica,sans-Serif\" font-size=\"14.00\">samples = 3</text>\n<text text-anchor=\"start\" x=\"2098\" y=\"-356.8\" font-family=\"Helvetica,sans-Serif\" font-size=\"14.00\">value = [3, 0]</text>\n<text text-anchor=\"start\" x=\"2107\" y=\"-342.8\" font-family=\"Helvetica,sans-Serif\" font-size=\"14.00\">class = y</text>\n<text text-anchor=\"start\" x=\"2163\" y=\"-342.8\" font-family=\"Helvetica,sans-Serif\" baseline-shift=\"sub\" font-size=\"14.00\">0</text>\n</g>\n<!-- 62&#45;&gt;63 -->\n<g id=\"edge63\" class=\"edge\">\n<title>62&#45;&gt;63</title>\n<path fill=\"none\" stroke=\"black\" d=\"M2138.5,-441.77C2138.5,-431.31 2138.5,-419.94 2138.5,-409.32\"/>\n<polygon fill=\"black\" stroke=\"black\" points=\"2142,-409.01 2138.5,-399.01 2135,-409.01 2142,-409.01\"/>\n</g>\n<!-- 64 -->\n<g id=\"node65\" class=\"node\">\n<title>64</title>\n<path fill=\"#7fc0ee\" stroke=\"black\" d=\"M2372.5,-406C2372.5,-406 2274.5,-406 2274.5,-406 2268.5,-406 2262.5,-400 2262.5,-394 2262.5,-394 2262.5,-340 2262.5,-340 2262.5,-334 2268.5,-328 2274.5,-328 2274.5,-328 2372.5,-328 2372.5,-328 2378.5,-328 2384.5,-334 2384.5,-340 2384.5,-340 2384.5,-394 2384.5,-394 2384.5,-400 2378.5,-406 2372.5,-406\"/>\n<text text-anchor=\"start\" x=\"2288.5\" y=\"-391.8\" font-family=\"Helvetica,sans-Serif\" font-size=\"14.00\">K ≤ 65.424</text>\n<text text-anchor=\"start\" x=\"2286\" y=\"-377.8\" font-family=\"Helvetica,sans-Serif\" font-size=\"14.00\">gini = 0.386</text>\n<text text-anchor=\"start\" x=\"2276\" y=\"-363.8\" font-family=\"Helvetica,sans-Serif\" font-size=\"14.00\">samples = 149</text>\n<text text-anchor=\"start\" x=\"2270.5\" y=\"-349.8\" font-family=\"Helvetica,sans-Serif\" font-size=\"14.00\">value = [39, 110]</text>\n<text text-anchor=\"start\" x=\"2292\" y=\"-335.8\" font-family=\"Helvetica,sans-Serif\" font-size=\"14.00\">class = y</text>\n<text text-anchor=\"start\" x=\"2348\" y=\"-335.8\" font-family=\"Helvetica,sans-Serif\" baseline-shift=\"sub\" font-size=\"14.00\">1</text>\n</g>\n<!-- 62&#45;&gt;64 -->\n<g id=\"edge64\" class=\"edge\">\n<title>62&#45;&gt;64</title>\n<path fill=\"none\" stroke=\"black\" d=\"M2199.59,-443.02C2216.95,-432.5 2236,-420.98 2253.83,-410.18\"/>\n<polygon fill=\"black\" stroke=\"black\" points=\"2255.73,-413.12 2262.48,-404.94 2252.11,-407.13 2255.73,-413.12\"/>\n</g>\n<!-- 65 -->\n<g id=\"node66\" class=\"node\">\n<title>65</title>\n<path fill=\"#4ba6e7\" stroke=\"black\" d=\"M2364,-292C2364,-292 2283,-292 2283,-292 2277,-292 2271,-286 2271,-280 2271,-280 2271,-226 2271,-226 2271,-220 2277,-214 2283,-214 2283,-214 2364,-214 2364,-214 2370,-214 2376,-220 2376,-226 2376,-226 2376,-280 2376,-280 2376,-286 2370,-292 2364,-292\"/>\n<text text-anchor=\"start\" x=\"2283\" y=\"-277.8\" font-family=\"Helvetica,sans-Serif\" font-size=\"14.00\">High ≤ 54.35</text>\n<text text-anchor=\"start\" x=\"2286\" y=\"-263.8\" font-family=\"Helvetica,sans-Serif\" font-size=\"14.00\">gini = 0.153</text>\n<text text-anchor=\"start\" x=\"2280\" y=\"-249.8\" font-family=\"Helvetica,sans-Serif\" font-size=\"14.00\">samples = 48</text>\n<text text-anchor=\"start\" x=\"2279\" y=\"-235.8\" font-family=\"Helvetica,sans-Serif\" font-size=\"14.00\">value = [4, 44]</text>\n<text text-anchor=\"start\" x=\"2292\" y=\"-221.8\" font-family=\"Helvetica,sans-Serif\" font-size=\"14.00\">class = y</text>\n<text text-anchor=\"start\" x=\"2348\" y=\"-221.8\" font-family=\"Helvetica,sans-Serif\" baseline-shift=\"sub\" font-size=\"14.00\">1</text>\n</g>\n<!-- 64&#45;&gt;65 -->\n<g id=\"edge65\" class=\"edge\">\n<title>64&#45;&gt;65</title>\n<path fill=\"none\" stroke=\"black\" d=\"M2323.5,-327.77C2323.5,-319.57 2323.5,-310.8 2323.5,-302.28\"/>\n<polygon fill=\"black\" stroke=\"black\" points=\"2327,-302.06 2323.5,-292.06 2320,-302.06 2327,-302.06\"/>\n</g>\n<!-- 70 -->\n<g id=\"node71\" class=\"node\">\n<title>70</title>\n<path fill=\"#a2d1f3\" stroke=\"black\" d=\"M2541,-292C2541,-292 2452,-292 2452,-292 2446,-292 2440,-286 2440,-280 2440,-280 2440,-226 2440,-226 2440,-220 2446,-214 2452,-214 2452,-214 2541,-214 2541,-214 2547,-214 2553,-220 2553,-226 2553,-226 2553,-280 2553,-280 2553,-286 2547,-292 2541,-292\"/>\n<text text-anchor=\"start\" x=\"2457\" y=\"-277.8\" font-family=\"Helvetica,sans-Serif\" font-size=\"14.00\">Open ≤ 49.5</text>\n<text text-anchor=\"start\" x=\"2459\" y=\"-263.8\" font-family=\"Helvetica,sans-Serif\" font-size=\"14.00\">gini = 0.453</text>\n<text text-anchor=\"start\" x=\"2449\" y=\"-249.8\" font-family=\"Helvetica,sans-Serif\" font-size=\"14.00\">samples = 101</text>\n<text text-anchor=\"start\" x=\"2448\" y=\"-235.8\" font-family=\"Helvetica,sans-Serif\" font-size=\"14.00\">value = [35, 66]</text>\n<text text-anchor=\"start\" x=\"2465\" y=\"-221.8\" font-family=\"Helvetica,sans-Serif\" font-size=\"14.00\">class = y</text>\n<text text-anchor=\"start\" x=\"2521\" y=\"-221.8\" font-family=\"Helvetica,sans-Serif\" baseline-shift=\"sub\" font-size=\"14.00\">1</text>\n</g>\n<!-- 64&#45;&gt;70 -->\n<g id=\"edge70\" class=\"edge\">\n<title>64&#45;&gt;70</title>\n<path fill=\"none\" stroke=\"black\" d=\"M2382.55,-327.77C2398.16,-317.66 2415.1,-306.7 2431.03,-296.39\"/>\n<polygon fill=\"black\" stroke=\"black\" points=\"2433.27,-299.11 2439.76,-290.73 2429.46,-293.23 2433.27,-299.11\"/>\n</g>\n<!-- 66 -->\n<g id=\"node67\" class=\"node\">\n<title>66</title>\n<path fill=\"#46a4e7\" stroke=\"black\" d=\"M2295,-178C2295,-178 2214,-178 2214,-178 2208,-178 2202,-172 2202,-166 2202,-166 2202,-112 2202,-112 2202,-106 2208,-100 2214,-100 2214,-100 2295,-100 2295,-100 2301,-100 2307,-106 2307,-112 2307,-112 2307,-166 2307,-166 2307,-172 2301,-178 2295,-178\"/>\n<text text-anchor=\"start\" x=\"2219.5\" y=\"-163.8\" font-family=\"Helvetica,sans-Serif\" font-size=\"14.00\">K ≤ 40.459</text>\n<text text-anchor=\"start\" x=\"2221\" y=\"-149.8\" font-family=\"Helvetica,sans-Serif\" font-size=\"14.00\">gini = 0.12</text>\n<text text-anchor=\"start\" x=\"2211\" y=\"-135.8\" font-family=\"Helvetica,sans-Serif\" font-size=\"14.00\">samples = 47</text>\n<text text-anchor=\"start\" x=\"2210\" y=\"-121.8\" font-family=\"Helvetica,sans-Serif\" font-size=\"14.00\">value = [3, 44]</text>\n<text text-anchor=\"start\" x=\"2223\" y=\"-107.8\" font-family=\"Helvetica,sans-Serif\" font-size=\"14.00\">class = y</text>\n<text text-anchor=\"start\" x=\"2279\" y=\"-107.8\" font-family=\"Helvetica,sans-Serif\" baseline-shift=\"sub\" font-size=\"14.00\">1</text>\n</g>\n<!-- 65&#45;&gt;66 -->\n<g id=\"edge66\" class=\"edge\">\n<title>65&#45;&gt;66</title>\n<path fill=\"none\" stroke=\"black\" d=\"M2299.95,-213.77C2294.56,-205.03 2288.78,-195.64 2283.21,-186.6\"/>\n<polygon fill=\"black\" stroke=\"black\" points=\"2286.17,-184.74 2277.95,-178.06 2280.21,-188.41 2286.17,-184.74\"/>\n</g>\n<!-- 69 -->\n<g id=\"node70\" class=\"node\">\n<title>69</title>\n<path fill=\"#e58139\" stroke=\"black\" d=\"M2410,-171C2410,-171 2337,-171 2337,-171 2331,-171 2325,-165 2325,-159 2325,-159 2325,-119 2325,-119 2325,-113 2331,-107 2337,-107 2337,-107 2410,-107 2410,-107 2416,-107 2422,-113 2422,-119 2422,-119 2422,-159 2422,-159 2422,-165 2416,-171 2410,-171\"/>\n<text text-anchor=\"start\" x=\"2344.5\" y=\"-156.8\" font-family=\"Helvetica,sans-Serif\" font-size=\"14.00\">gini = 0.0</text>\n<text text-anchor=\"start\" x=\"2334\" y=\"-142.8\" font-family=\"Helvetica,sans-Serif\" font-size=\"14.00\">samples = 1</text>\n<text text-anchor=\"start\" x=\"2333\" y=\"-128.8\" font-family=\"Helvetica,sans-Serif\" font-size=\"14.00\">value = [1, 0]</text>\n<text text-anchor=\"start\" x=\"2342\" y=\"-114.8\" font-family=\"Helvetica,sans-Serif\" font-size=\"14.00\">class = y</text>\n<text text-anchor=\"start\" x=\"2398\" y=\"-114.8\" font-family=\"Helvetica,sans-Serif\" baseline-shift=\"sub\" font-size=\"14.00\">0</text>\n</g>\n<!-- 65&#45;&gt;69 -->\n<g id=\"edge69\" class=\"edge\">\n<title>65&#45;&gt;69</title>\n<path fill=\"none\" stroke=\"black\" d=\"M2340.57,-213.77C2345.38,-202.99 2350.63,-191.22 2355.5,-180.32\"/>\n<polygon fill=\"black\" stroke=\"black\" points=\"2358.78,-181.57 2359.66,-171.01 2352.38,-178.71 2358.78,-181.57\"/>\n</g>\n<!-- 67 -->\n<g id=\"node68\" class=\"node\">\n<title>67</title>\n<path fill=\"#67b4eb\" stroke=\"black\" d=\"M2201,-64C2201,-64 2120,-64 2120,-64 2114,-64 2108,-58 2108,-52 2108,-52 2108,-12 2108,-12 2108,-6 2114,0 2120,0 2120,0 2201,0 2201,0 2207,0 2213,-6 2213,-12 2213,-12 2213,-52 2213,-52 2213,-58 2207,-64 2201,-64\"/>\n<text text-anchor=\"start\" x=\"2123\" y=\"-49.8\" font-family=\"Helvetica,sans-Serif\" font-size=\"14.00\">gini = 0.305</text>\n<text text-anchor=\"start\" x=\"2117\" y=\"-35.8\" font-family=\"Helvetica,sans-Serif\" font-size=\"14.00\">samples = 16</text>\n<text text-anchor=\"start\" x=\"2116\" y=\"-21.8\" font-family=\"Helvetica,sans-Serif\" font-size=\"14.00\">value = [3, 13]</text>\n<text text-anchor=\"start\" x=\"2129\" y=\"-7.8\" font-family=\"Helvetica,sans-Serif\" font-size=\"14.00\">class = y</text>\n<text text-anchor=\"start\" x=\"2185\" y=\"-7.8\" font-family=\"Helvetica,sans-Serif\" baseline-shift=\"sub\" font-size=\"14.00\">1</text>\n</g>\n<!-- 66&#45;&gt;67 -->\n<g id=\"edge67\" class=\"edge\">\n<title>66&#45;&gt;67</title>\n<path fill=\"none\" stroke=\"black\" d=\"M2220.3,-99.8C2212.1,-90.63 2203.33,-80.84 2195.11,-71.66\"/>\n<polygon fill=\"black\" stroke=\"black\" points=\"2197.64,-69.23 2188.36,-64.12 2192.42,-73.9 2197.64,-69.23\"/>\n</g>\n<!-- 68 -->\n<g id=\"node69\" class=\"node\">\n<title>68</title>\n<path fill=\"#399de5\" stroke=\"black\" d=\"M2324,-64C2324,-64 2243,-64 2243,-64 2237,-64 2231,-58 2231,-52 2231,-52 2231,-12 2231,-12 2231,-6 2237,0 2243,0 2243,0 2324,0 2324,0 2330,0 2336,-6 2336,-12 2336,-12 2336,-52 2336,-52 2336,-58 2330,-64 2324,-64\"/>\n<text text-anchor=\"start\" x=\"2254.5\" y=\"-49.8\" font-family=\"Helvetica,sans-Serif\" font-size=\"14.00\">gini = 0.0</text>\n<text text-anchor=\"start\" x=\"2240\" y=\"-35.8\" font-family=\"Helvetica,sans-Serif\" font-size=\"14.00\">samples = 31</text>\n<text text-anchor=\"start\" x=\"2239\" y=\"-21.8\" font-family=\"Helvetica,sans-Serif\" font-size=\"14.00\">value = [0, 31]</text>\n<text text-anchor=\"start\" x=\"2252\" y=\"-7.8\" font-family=\"Helvetica,sans-Serif\" font-size=\"14.00\">class = y</text>\n<text text-anchor=\"start\" x=\"2308\" y=\"-7.8\" font-family=\"Helvetica,sans-Serif\" baseline-shift=\"sub\" font-size=\"14.00\">1</text>\n</g>\n<!-- 66&#45;&gt;68 -->\n<g id=\"edge68\" class=\"edge\">\n<title>66&#45;&gt;68</title>\n<path fill=\"none\" stroke=\"black\" d=\"M2265.05,-99.8C2267.38,-91.37 2269.85,-82.41 2272.21,-73.88\"/>\n<polygon fill=\"black\" stroke=\"black\" points=\"2275.62,-74.69 2274.91,-64.12 2268.87,-72.82 2275.62,-74.69\"/>\n</g>\n<!-- 71 -->\n<g id=\"node72\" class=\"node\">\n<title>71</title>\n<path fill=\"#bedff6\" stroke=\"black\" d=\"M2541,-178C2541,-178 2452,-178 2452,-178 2446,-178 2440,-172 2440,-166 2440,-166 2440,-112 2440,-112 2440,-106 2446,-100 2452,-100 2452,-100 2541,-100 2541,-100 2547,-100 2553,-106 2553,-112 2553,-112 2553,-166 2553,-166 2553,-172 2547,-178 2541,-178\"/>\n<text text-anchor=\"start\" x=\"2452.5\" y=\"-163.8\" font-family=\"Helvetica,sans-Serif\" font-size=\"14.00\">Open ≤ 47.05</text>\n<text text-anchor=\"start\" x=\"2459\" y=\"-149.8\" font-family=\"Helvetica,sans-Serif\" font-size=\"14.00\">gini = 0.481</text>\n<text text-anchor=\"start\" x=\"2453\" y=\"-135.8\" font-family=\"Helvetica,sans-Serif\" font-size=\"14.00\">samples = 87</text>\n<text text-anchor=\"start\" x=\"2448\" y=\"-121.8\" font-family=\"Helvetica,sans-Serif\" font-size=\"14.00\">value = [35, 52]</text>\n<text text-anchor=\"start\" x=\"2465\" y=\"-107.8\" font-family=\"Helvetica,sans-Serif\" font-size=\"14.00\">class = y</text>\n<text text-anchor=\"start\" x=\"2521\" y=\"-107.8\" font-family=\"Helvetica,sans-Serif\" baseline-shift=\"sub\" font-size=\"14.00\">1</text>\n</g>\n<!-- 70&#45;&gt;71 -->\n<g id=\"edge71\" class=\"edge\">\n<title>70&#45;&gt;71</title>\n<path fill=\"none\" stroke=\"black\" d=\"M2496.5,-213.77C2496.5,-205.57 2496.5,-196.8 2496.5,-188.28\"/>\n<polygon fill=\"black\" stroke=\"black\" points=\"2500,-188.06 2496.5,-178.06 2493,-188.06 2500,-188.06\"/>\n</g>\n<!-- 74 -->\n<g id=\"node75\" class=\"node\">\n<title>74</title>\n<path fill=\"#399de5\" stroke=\"black\" d=\"M2664,-171C2664,-171 2583,-171 2583,-171 2577,-171 2571,-165 2571,-159 2571,-159 2571,-119 2571,-119 2571,-113 2577,-107 2583,-107 2583,-107 2664,-107 2664,-107 2670,-107 2676,-113 2676,-119 2676,-119 2676,-159 2676,-159 2676,-165 2670,-171 2664,-171\"/>\n<text text-anchor=\"start\" x=\"2594.5\" y=\"-156.8\" font-family=\"Helvetica,sans-Serif\" font-size=\"14.00\">gini = 0.0</text>\n<text text-anchor=\"start\" x=\"2580\" y=\"-142.8\" font-family=\"Helvetica,sans-Serif\" font-size=\"14.00\">samples = 14</text>\n<text text-anchor=\"start\" x=\"2579\" y=\"-128.8\" font-family=\"Helvetica,sans-Serif\" font-size=\"14.00\">value = [0, 14]</text>\n<text text-anchor=\"start\" x=\"2592\" y=\"-114.8\" font-family=\"Helvetica,sans-Serif\" font-size=\"14.00\">class = y</text>\n<text text-anchor=\"start\" x=\"2648\" y=\"-114.8\" font-family=\"Helvetica,sans-Serif\" baseline-shift=\"sub\" font-size=\"14.00\">1</text>\n</g>\n<!-- 70&#45;&gt;74 -->\n<g id=\"edge74\" class=\"edge\">\n<title>70&#45;&gt;74</title>\n<path fill=\"none\" stroke=\"black\" d=\"M2539.85,-213.77C2553.07,-202.12 2567.58,-189.32 2580.75,-177.7\"/>\n<polygon fill=\"black\" stroke=\"black\" points=\"2583.15,-180.25 2588.34,-171.01 2578.52,-175 2583.15,-180.25\"/>\n</g>\n<!-- 72 -->\n<g id=\"node73\" class=\"node\">\n<title>72</title>\n<path fill=\"#9ecff2\" stroke=\"black\" d=\"M2512,-64C2512,-64 2423,-64 2423,-64 2417,-64 2411,-58 2411,-52 2411,-52 2411,-12 2411,-12 2411,-6 2417,0 2423,0 2423,0 2512,0 2512,0 2518,0 2524,-6 2524,-12 2524,-12 2524,-52 2524,-52 2524,-58 2518,-64 2512,-64\"/>\n<text text-anchor=\"start\" x=\"2430\" y=\"-49.8\" font-family=\"Helvetica,sans-Serif\" font-size=\"14.00\">gini = 0.447</text>\n<text text-anchor=\"start\" x=\"2424\" y=\"-35.8\" font-family=\"Helvetica,sans-Serif\" font-size=\"14.00\">samples = 77</text>\n<text text-anchor=\"start\" x=\"2419\" y=\"-21.8\" font-family=\"Helvetica,sans-Serif\" font-size=\"14.00\">value = [26, 51]</text>\n<text text-anchor=\"start\" x=\"2436\" y=\"-7.8\" font-family=\"Helvetica,sans-Serif\" font-size=\"14.00\">class = y</text>\n<text text-anchor=\"start\" x=\"2492\" y=\"-7.8\" font-family=\"Helvetica,sans-Serif\" baseline-shift=\"sub\" font-size=\"14.00\">1</text>\n</g>\n<!-- 71&#45;&gt;72 -->\n<g id=\"edge72\" class=\"edge\">\n<title>71&#45;&gt;72</title>\n<path fill=\"none\" stroke=\"black\" d=\"M2485.95,-99.8C2483.62,-91.37 2481.15,-82.41 2478.79,-73.88\"/>\n<polygon fill=\"black\" stroke=\"black\" points=\"2482.13,-72.82 2476.09,-64.12 2475.38,-74.69 2482.13,-72.82\"/>\n</g>\n<!-- 73 -->\n<g id=\"node74\" class=\"node\">\n<title>73</title>\n<path fill=\"#e88f4f\" stroke=\"black\" d=\"M2633,-64C2633,-64 2554,-64 2554,-64 2548,-64 2542,-58 2542,-52 2542,-52 2542,-12 2542,-12 2542,-6 2548,0 2554,0 2554,0 2633,0 2633,0 2639,0 2645,-6 2645,-12 2645,-12 2645,-52 2645,-52 2645,-58 2639,-64 2633,-64\"/>\n<text text-anchor=\"start\" x=\"2560\" y=\"-49.8\" font-family=\"Helvetica,sans-Serif\" font-size=\"14.00\">gini = 0.18</text>\n<text text-anchor=\"start\" x=\"2550\" y=\"-35.8\" font-family=\"Helvetica,sans-Serif\" font-size=\"14.00\">samples = 10</text>\n<text text-anchor=\"start\" x=\"2553\" y=\"-21.8\" font-family=\"Helvetica,sans-Serif\" font-size=\"14.00\">value = [9, 1]</text>\n<text text-anchor=\"start\" x=\"2562\" y=\"-7.8\" font-family=\"Helvetica,sans-Serif\" font-size=\"14.00\">class = y</text>\n<text text-anchor=\"start\" x=\"2618\" y=\"-7.8\" font-family=\"Helvetica,sans-Serif\" baseline-shift=\"sub\" font-size=\"14.00\">0</text>\n</g>\n<!-- 71&#45;&gt;73 -->\n<g id=\"edge73\" class=\"edge\">\n<title>71&#45;&gt;73</title>\n<path fill=\"none\" stroke=\"black\" d=\"M2531.79,-99.8C2540.26,-90.63 2549.3,-80.84 2557.79,-71.66\"/>\n<polygon fill=\"black\" stroke=\"black\" points=\"2560.54,-73.84 2564.75,-64.12 2555.4,-69.09 2560.54,-73.84\"/>\n</g>\n<!-- 77 -->\n<g id=\"node78\" class=\"node\">\n<title>77</title>\n<path fill=\"#ffffff\" stroke=\"black\" d=\"M2309,-748C2309,-748 2236,-748 2236,-748 2230,-748 2224,-742 2224,-736 2224,-736 2224,-682 2224,-682 2224,-676 2230,-670 2236,-670 2236,-670 2309,-670 2309,-670 2315,-670 2321,-676 2321,-682 2321,-682 2321,-736 2321,-736 2321,-742 2315,-748 2309,-748\"/>\n<text text-anchor=\"start\" x=\"2237.5\" y=\"-733.8\" font-family=\"Helvetica,sans-Serif\" font-size=\"14.00\">Low ≤ 53.1</text>\n<text text-anchor=\"start\" x=\"2243.5\" y=\"-719.8\" font-family=\"Helvetica,sans-Serif\" font-size=\"14.00\">gini = 0.5</text>\n<text text-anchor=\"start\" x=\"2233\" y=\"-705.8\" font-family=\"Helvetica,sans-Serif\" font-size=\"14.00\">samples = 6</text>\n<text text-anchor=\"start\" x=\"2232\" y=\"-691.8\" font-family=\"Helvetica,sans-Serif\" font-size=\"14.00\">value = [3, 3]</text>\n<text text-anchor=\"start\" x=\"2241\" y=\"-677.8\" font-family=\"Helvetica,sans-Serif\" font-size=\"14.00\">class = y</text>\n<text text-anchor=\"start\" x=\"2297\" y=\"-677.8\" font-family=\"Helvetica,sans-Serif\" baseline-shift=\"sub\" font-size=\"14.00\">0</text>\n</g>\n<!-- 76&#45;&gt;77 -->\n<g id=\"edge77\" class=\"edge\">\n<title>76&#45;&gt;77</title>\n<path fill=\"none\" stroke=\"black\" d=\"M2272.5,-783.77C2272.5,-775.57 2272.5,-766.8 2272.5,-758.28\"/>\n<polygon fill=\"black\" stroke=\"black\" points=\"2276,-758.06 2272.5,-748.06 2269,-758.06 2276,-758.06\"/>\n</g>\n<!-- 82 -->\n<g id=\"node83\" class=\"node\">\n<title>82</title>\n<path fill=\"#e78d4c\" stroke=\"black\" d=\"M2522.5,-748C2522.5,-748 2404.5,-748 2404.5,-748 2398.5,-748 2392.5,-742 2392.5,-736 2392.5,-736 2392.5,-682 2392.5,-682 2392.5,-676 2398.5,-670 2404.5,-670 2404.5,-670 2522.5,-670 2522.5,-670 2528.5,-670 2534.5,-676 2534.5,-682 2534.5,-682 2534.5,-736 2534.5,-736 2534.5,-742 2528.5,-748 2522.5,-748\"/>\n<text text-anchor=\"start\" x=\"2400.5\" y=\"-733.8\" font-family=\"Helvetica,sans-Serif\" font-size=\"14.00\">Volume ≤ 330856.5</text>\n<text text-anchor=\"start\" x=\"2426\" y=\"-719.8\" font-family=\"Helvetica,sans-Serif\" font-size=\"14.00\">gini = 0.159</text>\n<text text-anchor=\"start\" x=\"2420\" y=\"-705.8\" font-family=\"Helvetica,sans-Serif\" font-size=\"14.00\">samples = 23</text>\n<text text-anchor=\"start\" x=\"2419\" y=\"-691.8\" font-family=\"Helvetica,sans-Serif\" font-size=\"14.00\">value = [21, 2]</text>\n<text text-anchor=\"start\" x=\"2432\" y=\"-677.8\" font-family=\"Helvetica,sans-Serif\" font-size=\"14.00\">class = y</text>\n<text text-anchor=\"start\" x=\"2488\" y=\"-677.8\" font-family=\"Helvetica,sans-Serif\" baseline-shift=\"sub\" font-size=\"14.00\">0</text>\n</g>\n<!-- 76&#45;&gt;82 -->\n<g id=\"edge82\" class=\"edge\">\n<title>76&#45;&gt;82</title>\n<path fill=\"none\" stroke=\"black\" d=\"M2337.43,-783.93C2354.19,-774.1 2372.36,-763.45 2389.54,-753.37\"/>\n<polygon fill=\"black\" stroke=\"black\" points=\"2391.57,-756.24 2398.42,-748.16 2388.03,-750.2 2391.57,-756.24\"/>\n</g>\n<!-- 78 -->\n<g id=\"node79\" class=\"node\">\n<title>78</title>\n<path fill=\"#e58139\" stroke=\"black\" d=\"M2256,-627C2256,-627 2183,-627 2183,-627 2177,-627 2171,-621 2171,-615 2171,-615 2171,-575 2171,-575 2171,-569 2177,-563 2183,-563 2183,-563 2256,-563 2256,-563 2262,-563 2268,-569 2268,-575 2268,-575 2268,-615 2268,-615 2268,-621 2262,-627 2256,-627\"/>\n<text text-anchor=\"start\" x=\"2190.5\" y=\"-612.8\" font-family=\"Helvetica,sans-Serif\" font-size=\"14.00\">gini = 0.0</text>\n<text text-anchor=\"start\" x=\"2180\" y=\"-598.8\" font-family=\"Helvetica,sans-Serif\" font-size=\"14.00\">samples = 2</text>\n<text text-anchor=\"start\" x=\"2179\" y=\"-584.8\" font-family=\"Helvetica,sans-Serif\" font-size=\"14.00\">value = [2, 0]</text>\n<text text-anchor=\"start\" x=\"2188\" y=\"-570.8\" font-family=\"Helvetica,sans-Serif\" font-size=\"14.00\">class = y</text>\n<text text-anchor=\"start\" x=\"2244\" y=\"-570.8\" font-family=\"Helvetica,sans-Serif\" baseline-shift=\"sub\" font-size=\"14.00\">0</text>\n</g>\n<!-- 77&#45;&gt;78 -->\n<g id=\"edge78\" class=\"edge\">\n<title>77&#45;&gt;78</title>\n<path fill=\"none\" stroke=\"black\" d=\"M2254.41,-669.77C2249.31,-658.99 2243.74,-647.22 2238.58,-636.32\"/>\n<polygon fill=\"black\" stroke=\"black\" points=\"2241.62,-634.55 2234.17,-627.01 2235.29,-637.55 2241.62,-634.55\"/>\n</g>\n<!-- 79 -->\n<g id=\"node80\" class=\"node\">\n<title>79</title>\n<path fill=\"#7bbeee\" stroke=\"black\" d=\"M2380.5,-634C2380.5,-634 2298.5,-634 2298.5,-634 2292.5,-634 2286.5,-628 2286.5,-622 2286.5,-622 2286.5,-568 2286.5,-568 2286.5,-562 2292.5,-556 2298.5,-556 2298.5,-556 2380.5,-556 2380.5,-556 2386.5,-556 2392.5,-562 2392.5,-568 2392.5,-568 2392.5,-622 2392.5,-622 2392.5,-628 2386.5,-634 2380.5,-634\"/>\n<text text-anchor=\"start\" x=\"2294.5\" y=\"-619.8\" font-family=\"Helvetica,sans-Serif\" font-size=\"14.00\">Close ≤ 55.15</text>\n<text text-anchor=\"start\" x=\"2302\" y=\"-605.8\" font-family=\"Helvetica,sans-Serif\" font-size=\"14.00\">gini = 0.375</text>\n<text text-anchor=\"start\" x=\"2300\" y=\"-591.8\" font-family=\"Helvetica,sans-Serif\" font-size=\"14.00\">samples = 4</text>\n<text text-anchor=\"start\" x=\"2299\" y=\"-577.8\" font-family=\"Helvetica,sans-Serif\" font-size=\"14.00\">value = [1, 3]</text>\n<text text-anchor=\"start\" x=\"2308\" y=\"-563.8\" font-family=\"Helvetica,sans-Serif\" font-size=\"14.00\">class = y</text>\n<text text-anchor=\"start\" x=\"2364\" y=\"-563.8\" font-family=\"Helvetica,sans-Serif\" baseline-shift=\"sub\" font-size=\"14.00\">1</text>\n</g>\n<!-- 77&#45;&gt;79 -->\n<g id=\"edge79\" class=\"edge\">\n<title>77&#45;&gt;79</title>\n<path fill=\"none\" stroke=\"black\" d=\"M2295.37,-669.77C2300.54,-661.12 2306.1,-651.84 2311.46,-642.88\"/>\n<polygon fill=\"black\" stroke=\"black\" points=\"2314.6,-644.44 2316.73,-634.06 2308.6,-640.84 2314.6,-644.44\"/>\n</g>\n<!-- 80 -->\n<g id=\"node81\" class=\"node\">\n<title>80</title>\n<path fill=\"#399de5\" stroke=\"black\" d=\"M2352,-513C2352,-513 2279,-513 2279,-513 2273,-513 2267,-507 2267,-501 2267,-501 2267,-461 2267,-461 2267,-455 2273,-449 2279,-449 2279,-449 2352,-449 2352,-449 2358,-449 2364,-455 2364,-461 2364,-461 2364,-501 2364,-501 2364,-507 2358,-513 2352,-513\"/>\n<text text-anchor=\"start\" x=\"2286.5\" y=\"-498.8\" font-family=\"Helvetica,sans-Serif\" font-size=\"14.00\">gini = 0.0</text>\n<text text-anchor=\"start\" x=\"2276\" y=\"-484.8\" font-family=\"Helvetica,sans-Serif\" font-size=\"14.00\">samples = 3</text>\n<text text-anchor=\"start\" x=\"2275\" y=\"-470.8\" font-family=\"Helvetica,sans-Serif\" font-size=\"14.00\">value = [0, 3]</text>\n<text text-anchor=\"start\" x=\"2284\" y=\"-456.8\" font-family=\"Helvetica,sans-Serif\" font-size=\"14.00\">class = y</text>\n<text text-anchor=\"start\" x=\"2340\" y=\"-456.8\" font-family=\"Helvetica,sans-Serif\" baseline-shift=\"sub\" font-size=\"14.00\">1</text>\n</g>\n<!-- 79&#45;&gt;80 -->\n<g id=\"edge80\" class=\"edge\">\n<title>79&#45;&gt;80</title>\n<path fill=\"none\" stroke=\"black\" d=\"M2331.31,-555.77C2329.04,-545.2 2326.58,-533.7 2324.28,-522.98\"/>\n<polygon fill=\"black\" stroke=\"black\" points=\"2327.66,-522.05 2322.15,-513.01 2320.82,-523.52 2327.66,-522.05\"/>\n</g>\n<!-- 81 -->\n<g id=\"node82\" class=\"node\">\n<title>81</title>\n<path fill=\"#e58139\" stroke=\"black\" d=\"M2467,-513C2467,-513 2394,-513 2394,-513 2388,-513 2382,-507 2382,-501 2382,-501 2382,-461 2382,-461 2382,-455 2388,-449 2394,-449 2394,-449 2467,-449 2467,-449 2473,-449 2479,-455 2479,-461 2479,-461 2479,-501 2479,-501 2479,-507 2473,-513 2467,-513\"/>\n<text text-anchor=\"start\" x=\"2401.5\" y=\"-498.8\" font-family=\"Helvetica,sans-Serif\" font-size=\"14.00\">gini = 0.0</text>\n<text text-anchor=\"start\" x=\"2391\" y=\"-484.8\" font-family=\"Helvetica,sans-Serif\" font-size=\"14.00\">samples = 1</text>\n<text text-anchor=\"start\" x=\"2390\" y=\"-470.8\" font-family=\"Helvetica,sans-Serif\" font-size=\"14.00\">value = [1, 0]</text>\n<text text-anchor=\"start\" x=\"2399\" y=\"-456.8\" font-family=\"Helvetica,sans-Serif\" font-size=\"14.00\">class = y</text>\n<text text-anchor=\"start\" x=\"2455\" y=\"-456.8\" font-family=\"Helvetica,sans-Serif\" baseline-shift=\"sub\" font-size=\"14.00\">0</text>\n</g>\n<!-- 79&#45;&gt;81 -->\n<g id=\"edge81\" class=\"edge\">\n<title>79&#45;&gt;81</title>\n<path fill=\"none\" stroke=\"black\" d=\"M2370.56,-555.77C2379.68,-544.55 2389.65,-532.27 2398.81,-521\"/>\n<polygon fill=\"black\" stroke=\"black\" points=\"2401.71,-522.98 2405.3,-513.01 2396.28,-518.56 2401.71,-522.98\"/>\n</g>\n<!-- 83 -->\n<g id=\"node84\" class=\"node\">\n<title>83</title>\n<path fill=\"#e58139\" stroke=\"black\" d=\"M2504,-627C2504,-627 2423,-627 2423,-627 2417,-627 2411,-621 2411,-615 2411,-615 2411,-575 2411,-575 2411,-569 2417,-563 2423,-563 2423,-563 2504,-563 2504,-563 2510,-563 2516,-569 2516,-575 2516,-575 2516,-615 2516,-615 2516,-621 2510,-627 2504,-627\"/>\n<text text-anchor=\"start\" x=\"2434.5\" y=\"-612.8\" font-family=\"Helvetica,sans-Serif\" font-size=\"14.00\">gini = 0.0</text>\n<text text-anchor=\"start\" x=\"2420\" y=\"-598.8\" font-family=\"Helvetica,sans-Serif\" font-size=\"14.00\">samples = 16</text>\n<text text-anchor=\"start\" x=\"2419\" y=\"-584.8\" font-family=\"Helvetica,sans-Serif\" font-size=\"14.00\">value = [16, 0]</text>\n<text text-anchor=\"start\" x=\"2432\" y=\"-570.8\" font-family=\"Helvetica,sans-Serif\" font-size=\"14.00\">class = y</text>\n<text text-anchor=\"start\" x=\"2488\" y=\"-570.8\" font-family=\"Helvetica,sans-Serif\" baseline-shift=\"sub\" font-size=\"14.00\">0</text>\n</g>\n<!-- 82&#45;&gt;83 -->\n<g id=\"edge83\" class=\"edge\">\n<title>82&#45;&gt;83</title>\n<path fill=\"none\" stroke=\"black\" d=\"M2463.5,-669.77C2463.5,-659.31 2463.5,-647.94 2463.5,-637.32\"/>\n<polygon fill=\"black\" stroke=\"black\" points=\"2467,-637.01 2463.5,-627.01 2460,-637.01 2467,-637.01\"/>\n</g>\n<!-- 84 -->\n<g id=\"node85\" class=\"node\">\n<title>84</title>\n<path fill=\"#efb388\" stroke=\"black\" d=\"M2664.5,-634C2664.5,-634 2546.5,-634 2546.5,-634 2540.5,-634 2534.5,-628 2534.5,-622 2534.5,-622 2534.5,-568 2534.5,-568 2534.5,-562 2540.5,-556 2546.5,-556 2546.5,-556 2664.5,-556 2664.5,-556 2670.5,-556 2676.5,-562 2676.5,-568 2676.5,-568 2676.5,-622 2676.5,-622 2676.5,-628 2670.5,-634 2664.5,-634\"/>\n<text text-anchor=\"start\" x=\"2542.5\" y=\"-619.8\" font-family=\"Helvetica,sans-Serif\" font-size=\"14.00\">Volume ≤ 346747.0</text>\n<text text-anchor=\"start\" x=\"2568\" y=\"-605.8\" font-family=\"Helvetica,sans-Serif\" font-size=\"14.00\">gini = 0.408</text>\n<text text-anchor=\"start\" x=\"2566\" y=\"-591.8\" font-family=\"Helvetica,sans-Serif\" font-size=\"14.00\">samples = 7</text>\n<text text-anchor=\"start\" x=\"2565\" y=\"-577.8\" font-family=\"Helvetica,sans-Serif\" font-size=\"14.00\">value = [5, 2]</text>\n<text text-anchor=\"start\" x=\"2574\" y=\"-563.8\" font-family=\"Helvetica,sans-Serif\" font-size=\"14.00\">class = y</text>\n<text text-anchor=\"start\" x=\"2630\" y=\"-563.8\" font-family=\"Helvetica,sans-Serif\" baseline-shift=\"sub\" font-size=\"14.00\">0</text>\n</g>\n<!-- 82&#45;&gt;84 -->\n<g id=\"edge84\" class=\"edge\">\n<title>82&#45;&gt;84</title>\n<path fill=\"none\" stroke=\"black\" d=\"M2511.97,-669.77C2523.97,-660.31 2536.92,-650.09 2549.25,-640.37\"/>\n<polygon fill=\"black\" stroke=\"black\" points=\"2551.56,-643 2557.25,-634.06 2547.23,-637.5 2551.56,-643\"/>\n</g>\n<!-- 85 -->\n<g id=\"node86\" class=\"node\">\n<title>85</title>\n<path fill=\"#399de5\" stroke=\"black\" d=\"M2612,-513C2612,-513 2539,-513 2539,-513 2533,-513 2527,-507 2527,-501 2527,-501 2527,-461 2527,-461 2527,-455 2533,-449 2539,-449 2539,-449 2612,-449 2612,-449 2618,-449 2624,-455 2624,-461 2624,-461 2624,-501 2624,-501 2624,-507 2618,-513 2612,-513\"/>\n<text text-anchor=\"start\" x=\"2546.5\" y=\"-498.8\" font-family=\"Helvetica,sans-Serif\" font-size=\"14.00\">gini = 0.0</text>\n<text text-anchor=\"start\" x=\"2536\" y=\"-484.8\" font-family=\"Helvetica,sans-Serif\" font-size=\"14.00\">samples = 1</text>\n<text text-anchor=\"start\" x=\"2535\" y=\"-470.8\" font-family=\"Helvetica,sans-Serif\" font-size=\"14.00\">value = [0, 1]</text>\n<text text-anchor=\"start\" x=\"2544\" y=\"-456.8\" font-family=\"Helvetica,sans-Serif\" font-size=\"14.00\">class = y</text>\n<text text-anchor=\"start\" x=\"2600\" y=\"-456.8\" font-family=\"Helvetica,sans-Serif\" baseline-shift=\"sub\" font-size=\"14.00\">1</text>\n</g>\n<!-- 84&#45;&gt;85 -->\n<g id=\"edge85\" class=\"edge\">\n<title>84&#45;&gt;85</title>\n<path fill=\"none\" stroke=\"black\" d=\"M2595.26,-555.77C2592.43,-545.2 2589.35,-533.7 2586.48,-522.98\"/>\n<polygon fill=\"black\" stroke=\"black\" points=\"2589.77,-521.76 2583.81,-513.01 2583.01,-523.58 2589.77,-521.76\"/>\n</g>\n<!-- 86 -->\n<g id=\"node87\" class=\"node\">\n<title>86</title>\n<path fill=\"#ea9a61\" stroke=\"black\" d=\"M2736.5,-520C2736.5,-520 2654.5,-520 2654.5,-520 2648.5,-520 2642.5,-514 2642.5,-508 2642.5,-508 2642.5,-454 2642.5,-454 2642.5,-448 2648.5,-442 2654.5,-442 2654.5,-442 2736.5,-442 2736.5,-442 2742.5,-442 2748.5,-448 2748.5,-454 2748.5,-454 2748.5,-508 2748.5,-508 2748.5,-514 2742.5,-520 2736.5,-520\"/>\n<text text-anchor=\"start\" x=\"2650.5\" y=\"-505.8\" font-family=\"Helvetica,sans-Serif\" font-size=\"14.00\">Close ≤ 56.85</text>\n<text text-anchor=\"start\" x=\"2658\" y=\"-491.8\" font-family=\"Helvetica,sans-Serif\" font-size=\"14.00\">gini = 0.278</text>\n<text text-anchor=\"start\" x=\"2656\" y=\"-477.8\" font-family=\"Helvetica,sans-Serif\" font-size=\"14.00\">samples = 6</text>\n<text text-anchor=\"start\" x=\"2655\" y=\"-463.8\" font-family=\"Helvetica,sans-Serif\" font-size=\"14.00\">value = [5, 1]</text>\n<text text-anchor=\"start\" x=\"2664\" y=\"-449.8\" font-family=\"Helvetica,sans-Serif\" font-size=\"14.00\">class = y</text>\n<text text-anchor=\"start\" x=\"2720\" y=\"-449.8\" font-family=\"Helvetica,sans-Serif\" baseline-shift=\"sub\" font-size=\"14.00\">0</text>\n</g>\n<!-- 84&#45;&gt;86 -->\n<g id=\"edge86\" class=\"edge\">\n<title>84&#45;&gt;86</title>\n<path fill=\"none\" stroke=\"black\" d=\"M2636.22,-555.77C2643.39,-546.85 2651.1,-537.26 2658.51,-528.04\"/>\n<polygon fill=\"black\" stroke=\"black\" points=\"2661.38,-530.05 2664.92,-520.06 2655.93,-525.66 2661.38,-530.05\"/>\n</g>\n<!-- 87 -->\n<g id=\"node88\" class=\"node\">\n<title>87</title>\n<path fill=\"#e58139\" stroke=\"black\" d=\"M2675,-399C2675,-399 2602,-399 2602,-399 2596,-399 2590,-393 2590,-387 2590,-387 2590,-347 2590,-347 2590,-341 2596,-335 2602,-335 2602,-335 2675,-335 2675,-335 2681,-335 2687,-341 2687,-347 2687,-347 2687,-387 2687,-387 2687,-393 2681,-399 2675,-399\"/>\n<text text-anchor=\"start\" x=\"2609.5\" y=\"-384.8\" font-family=\"Helvetica,sans-Serif\" font-size=\"14.00\">gini = 0.0</text>\n<text text-anchor=\"start\" x=\"2599\" y=\"-370.8\" font-family=\"Helvetica,sans-Serif\" font-size=\"14.00\">samples = 3</text>\n<text text-anchor=\"start\" x=\"2598\" y=\"-356.8\" font-family=\"Helvetica,sans-Serif\" font-size=\"14.00\">value = [3, 0]</text>\n<text text-anchor=\"start\" x=\"2607\" y=\"-342.8\" font-family=\"Helvetica,sans-Serif\" font-size=\"14.00\">class = y</text>\n<text text-anchor=\"start\" x=\"2663\" y=\"-342.8\" font-family=\"Helvetica,sans-Serif\" baseline-shift=\"sub\" font-size=\"14.00\">0</text>\n</g>\n<!-- 86&#45;&gt;87 -->\n<g id=\"edge87\" class=\"edge\">\n<title>86&#45;&gt;87</title>\n<path fill=\"none\" stroke=\"black\" d=\"M2676.04,-441.77C2670.5,-430.88 2664.45,-418.99 2658.85,-407.99\"/>\n<polygon fill=\"black\" stroke=\"black\" points=\"2661.94,-406.33 2654.28,-399.01 2655.7,-409.51 2661.94,-406.33\"/>\n</g>\n<!-- 88 -->\n<g id=\"node89\" class=\"node\">\n<title>88</title>\n<path fill=\"#f2c09c\" stroke=\"black\" d=\"M2790,-406C2790,-406 2717,-406 2717,-406 2711,-406 2705,-400 2705,-394 2705,-394 2705,-340 2705,-340 2705,-334 2711,-328 2717,-328 2717,-328 2790,-328 2790,-328 2796,-328 2802,-334 2802,-340 2802,-340 2802,-394 2802,-394 2802,-400 2796,-406 2790,-406\"/>\n<text text-anchor=\"start\" x=\"2714\" y=\"-391.8\" font-family=\"Helvetica,sans-Serif\" font-size=\"14.00\">Open ≤ 56.8</text>\n<text text-anchor=\"start\" x=\"2716\" y=\"-377.8\" font-family=\"Helvetica,sans-Serif\" font-size=\"14.00\">gini = 0.444</text>\n<text text-anchor=\"start\" x=\"2714\" y=\"-363.8\" font-family=\"Helvetica,sans-Serif\" font-size=\"14.00\">samples = 3</text>\n<text text-anchor=\"start\" x=\"2713\" y=\"-349.8\" font-family=\"Helvetica,sans-Serif\" font-size=\"14.00\">value = [2, 1]</text>\n<text text-anchor=\"start\" x=\"2722\" y=\"-335.8\" font-family=\"Helvetica,sans-Serif\" font-size=\"14.00\">class = y</text>\n<text text-anchor=\"start\" x=\"2778\" y=\"-335.8\" font-family=\"Helvetica,sans-Serif\" baseline-shift=\"sub\" font-size=\"14.00\">0</text>\n</g>\n<!-- 86&#45;&gt;88 -->\n<g id=\"edge88\" class=\"edge\">\n<title>86&#45;&gt;88</title>\n<path fill=\"none\" stroke=\"black\" d=\"M2715.3,-441.77C2719.73,-433.21 2724.48,-424.03 2729.08,-415.16\"/>\n<polygon fill=\"black\" stroke=\"black\" points=\"2732.3,-416.55 2733.79,-406.06 2726.08,-413.33 2732.3,-416.55\"/>\n</g>\n<!-- 89 -->\n<g id=\"node90\" class=\"node\">\n<title>89</title>\n<path fill=\"#399de5\" stroke=\"black\" d=\"M2733,-285C2733,-285 2660,-285 2660,-285 2654,-285 2648,-279 2648,-273 2648,-273 2648,-233 2648,-233 2648,-227 2654,-221 2660,-221 2660,-221 2733,-221 2733,-221 2739,-221 2745,-227 2745,-233 2745,-233 2745,-273 2745,-273 2745,-279 2739,-285 2733,-285\"/>\n<text text-anchor=\"start\" x=\"2667.5\" y=\"-270.8\" font-family=\"Helvetica,sans-Serif\" font-size=\"14.00\">gini = 0.0</text>\n<text text-anchor=\"start\" x=\"2657\" y=\"-256.8\" font-family=\"Helvetica,sans-Serif\" font-size=\"14.00\">samples = 1</text>\n<text text-anchor=\"start\" x=\"2656\" y=\"-242.8\" font-family=\"Helvetica,sans-Serif\" font-size=\"14.00\">value = [0, 1]</text>\n<text text-anchor=\"start\" x=\"2665\" y=\"-228.8\" font-family=\"Helvetica,sans-Serif\" font-size=\"14.00\">class = y</text>\n<text text-anchor=\"start\" x=\"2721\" y=\"-228.8\" font-family=\"Helvetica,sans-Serif\" baseline-shift=\"sub\" font-size=\"14.00\">1</text>\n</g>\n<!-- 88&#45;&gt;89 -->\n<g id=\"edge89\" class=\"edge\">\n<title>88&#45;&gt;89</title>\n<path fill=\"none\" stroke=\"black\" d=\"M2734.04,-327.77C2728.5,-316.88 2722.45,-304.99 2716.85,-293.99\"/>\n<polygon fill=\"black\" stroke=\"black\" points=\"2719.94,-292.33 2712.28,-285.01 2713.7,-295.51 2719.94,-292.33\"/>\n</g>\n<!-- 90 -->\n<g id=\"node91\" class=\"node\">\n<title>90</title>\n<path fill=\"#e58139\" stroke=\"black\" d=\"M2848,-285C2848,-285 2775,-285 2775,-285 2769,-285 2763,-279 2763,-273 2763,-273 2763,-233 2763,-233 2763,-227 2769,-221 2775,-221 2775,-221 2848,-221 2848,-221 2854,-221 2860,-227 2860,-233 2860,-233 2860,-273 2860,-273 2860,-279 2854,-285 2848,-285\"/>\n<text text-anchor=\"start\" x=\"2782.5\" y=\"-270.8\" font-family=\"Helvetica,sans-Serif\" font-size=\"14.00\">gini = 0.0</text>\n<text text-anchor=\"start\" x=\"2772\" y=\"-256.8\" font-family=\"Helvetica,sans-Serif\" font-size=\"14.00\">samples = 2</text>\n<text text-anchor=\"start\" x=\"2771\" y=\"-242.8\" font-family=\"Helvetica,sans-Serif\" font-size=\"14.00\">value = [2, 0]</text>\n<text text-anchor=\"start\" x=\"2780\" y=\"-228.8\" font-family=\"Helvetica,sans-Serif\" font-size=\"14.00\">class = y</text>\n<text text-anchor=\"start\" x=\"2836\" y=\"-228.8\" font-family=\"Helvetica,sans-Serif\" baseline-shift=\"sub\" font-size=\"14.00\">0</text>\n</g>\n<!-- 88&#45;&gt;90 -->\n<g id=\"edge90\" class=\"edge\">\n<title>88&#45;&gt;90</title>\n<path fill=\"none\" stroke=\"black\" d=\"M2773.3,-327.77C2778.94,-316.88 2785.1,-304.99 2790.79,-293.99\"/>\n<polygon fill=\"black\" stroke=\"black\" points=\"2793.95,-295.5 2795.44,-285.01 2787.73,-292.28 2793.95,-295.5\"/>\n</g>\n</g>\n</svg>\n",
      "text/plain": [
       "<graphviz.sources.Source at 0x2321a9eb040>"
      ]
     },
     "execution_count": 52,
     "metadata": {},
     "output_type": "execute_result"
    }
   ],
   "source": [
    "dot_data = export_graphviz(model, out_file = None,\n",
    "                           feature_names = train_x.columns,\n",
    "                           filled = True, rounded = True,\n",
    "                           class_names = True,\n",
    "                           special_characters = True)\n",
    "graph = graphviz.Source(dot_data)\n",
    "graph"
   ]
  },
  {
   "cell_type": "code",
   "execution_count": 53,
   "metadata": {},
   "outputs": [
    {
     "name": "stdout",
     "output_type": "stream",
     "text": [
      "[[52 10]\n",
      " [52 24]]\n"
     ]
    },
    {
     "data": {
      "text/plain": [
       "0.5507246376811594"
      ]
     },
     "execution_count": 53,
     "metadata": {},
     "output_type": "execute_result"
    }
   ],
   "source": [
    "# 混淆矩陣\n",
    "m = confusion_matrix(test_y, prediction)\n",
    "print(m)\n",
    "# 準確率\n",
    "model.score(test_x, test_y)"
   ]
  },
  {
   "cell_type": "code",
   "execution_count": 54,
   "metadata": {},
   "outputs": [
    {
     "data": {
      "text/plain": [
       "0.5772495755517828"
      ]
     },
     "execution_count": 54,
     "metadata": {},
     "output_type": "execute_result"
    }
   ],
   "source": [
    "# 計算 ROC 曲線\n",
    "false_positive_rate, true_positive_rate, thresholds = roc_curve(test_y, prediction)\n",
    "\n",
    "# 計算 AUC 面積\n",
    "auc(false_positive_rate, true_positive_rate)"
   ]
  },
  {
   "cell_type": "code",
   "execution_count": 57,
   "metadata": {},
   "outputs": [
    {
     "data": {
      "image/png": "[encoded data removed]",
      "text/plain": [
       "<Figure size 1008x720 with 1 Axes>"
      ]
     },
     "metadata": {
      "needs_background": "light"
     },
     "output_type": "display_data"
    }
   ],
   "source": [
    "# 測試一批深度參數，一般而言深度不太會超過 3x，我們這邊示範 1 到 50 好了\n",
    "depth_parameters = np.arange(1, 50)\n",
    "# 準備兩個容器，一個裝所有參數下的訓練階段 AUC；另一個裝所有參數下的測試階段 AUC\n",
    "train_auc= []\n",
    "test_auc = []\n",
    "# 根據每一個參數跑迴圈\n",
    "for test_depth in depth_parameters:\n",
    "    # 根據該深度參數，創立一個決策樹模型，取名 temp_model\n",
    "    temp_model = DecisionTreeClassifier(max_depth = test_depth)\n",
    "    # 讓 temp_model 根據 train 學習樣本進行學習\n",
    "    temp_model.fit(train_x, train_y)\n",
    "    # 讓學習後的 temp_model 分別根據 train 學習樣本以及 test 測試樣本進行測驗\n",
    "    train_predictions = temp_model.predict(train_x)\n",
    "    test_predictions = temp_model.predict(test_x)\n",
    "    # 計算學習樣本的 AUC，並且紀錄起來\n",
    "    false_positive_rate, true_positive_rate, thresholds = roc_curve(train_y, train_predictions)\n",
    "    auc_area = auc(false_positive_rate, true_positive_rate)\n",
    "    train_auc.append(auc_area)\n",
    "    # 計算測試樣本的 AUC，並且紀錄起來\n",
    "    false_positive_rate, true_positive_rate, thresholds = roc_curve(test_y, test_predictions)\n",
    "    auc_area = auc(false_positive_rate, true_positive_rate)\n",
    "    test_auc.append(auc_area)\n",
    "\n",
    "# 繪圖視覺化\n",
    "plt.figure(figsize = (14,10))\n",
    "# plt.plot(depth_parameters, train_auc, 'b', label = 'Train AUC')\n",
    "plt.plot(depth_parameters, test_auc, 'r', label = 'Test AUC')\n",
    "plt.ylabel('AUC')\n",
    "plt.xlabel('depth parameter')\n",
    "plt.show()"
   ]
  },
  {
   "cell_type": "markdown",
   "metadata": {},
   "source": [
    "## 單支股票，單個策略"
   ]
  },
  {
   "cell_type": "markdown",
   "metadata": {},
   "source": [
    "## bbands + ema"
   ]
  },
  {
   "cell_type": "code",
   "execution_count": 28,
   "metadata": {},
   "outputs": [
    {
     "ename": "KeyError",
     "evalue": "'bbands_middle'",
     "output_type": "error",
     "traceback": [
      "\u001b[1;31m---------------------------------------------------------------------------\u001b[0m",
      "\u001b[1;31mKeyError\u001b[0m                                  Traceback (most recent call last)",
      "\u001b[1;32mC:\\ProgramData\\Anaconda3\\lib\\site-packages\\pandas\\core\\indexes\\base.py\u001b[0m in \u001b[0;36mget_loc\u001b[1;34m(self, key, method, tolerance)\u001b[0m\n\u001b[0;32m   3360\u001b[0m             \u001b[1;32mtry\u001b[0m\u001b[1;33m:\u001b[0m\u001b[1;33m\u001b[0m\u001b[1;33m\u001b[0m\u001b[0m\n\u001b[1;32m-> 3361\u001b[1;33m                 \u001b[1;32mreturn\u001b[0m \u001b[0mself\u001b[0m\u001b[1;33m.\u001b[0m\u001b[0m_engine\u001b[0m\u001b[1;33m.\u001b[0m\u001b[0mget_loc\u001b[0m\u001b[1;33m(\u001b[0m\u001b[0mcasted_key\u001b[0m\u001b[1;33m)\u001b[0m\u001b[1;33m\u001b[0m\u001b[1;33m\u001b[0m\u001b[0m\n\u001b[0m\u001b[0;32m   3362\u001b[0m             \u001b[1;32mexcept\u001b[0m \u001b[0mKeyError\u001b[0m \u001b[1;32mas\u001b[0m \u001b[0merr\u001b[0m\u001b[1;33m:\u001b[0m\u001b[1;33m\u001b[0m\u001b[1;33m\u001b[0m\u001b[0m\n",
      "\u001b[1;32mC:\\ProgramData\\Anaconda3\\lib\\site-packages\\pandas\\_libs\\index.pyx\u001b[0m in \u001b[0;36mpandas._libs.index.IndexEngine.get_loc\u001b[1;34m()\u001b[0m\n",
      "\u001b[1;32mC:\\ProgramData\\Anaconda3\\lib\\site-packages\\pandas\\_libs\\index.pyx\u001b[0m in \u001b[0;36mpandas._libs.index.IndexEngine.get_loc\u001b[1;34m()\u001b[0m\n",
      "\u001b[1;32mpandas\\_libs\\hashtable_class_helper.pxi\u001b[0m in \u001b[0;36mpandas._libs.hashtable.PyObjectHashTable.get_item\u001b[1;34m()\u001b[0m\n",
      "\u001b[1;32mpandas\\_libs\\hashtable_class_helper.pxi\u001b[0m in \u001b[0;36mpandas._libs.hashtable.PyObjectHashTable.get_item\u001b[1;34m()\u001b[0m\n",
      "\u001b[1;31mKeyError\u001b[0m: 'bbands_middle'",
      "\nThe above exception was the direct cause of the following exception:\n",
      "\u001b[1;31mKeyError\u001b[0m                                  Traceback (most recent call last)",
      "\u001b[1;32m~\\AppData\\Local\\Temp/ipykernel_3696/3924677493.py\u001b[0m in \u001b[0;36m<module>\u001b[1;34m\u001b[0m\n\u001b[0;32m     11\u001b[0m \u001b[1;31m# 繪圖\u001b[0m\u001b[1;33m\u001b[0m\u001b[1;33m\u001b[0m\u001b[0m\n\u001b[0;32m     12\u001b[0m \u001b[0mdff\u001b[0m \u001b[1;33m=\u001b[0m \u001b[0mticker\u001b[0m\u001b[1;33m.\u001b[0m\u001b[0mloc\u001b[0m\u001b[1;33m[\u001b[0m\u001b[1;34m'2015-10'\u001b[0m\u001b[1;33m:\u001b[0m\u001b[1;34m'2016-10'\u001b[0m\u001b[1;33m,\u001b[0m \u001b[1;33m]\u001b[0m\u001b[1;33m\u001b[0m\u001b[1;33m\u001b[0m\u001b[0m\n\u001b[1;32m---> 13\u001b[1;33m plot_muti(dff, _title='', volume=True, buy_sell_point=True, \n\u001b[0m\u001b[0;32m     14\u001b[0m     \u001b[0mRSI\u001b[0m\u001b[1;33m=\u001b[0m\u001b[1;32mFalse\u001b[0m\u001b[1;33m,\u001b[0m \u001b[0mrsi_midline\u001b[0m\u001b[1;33m=\u001b[0m\u001b[1;32mFalse\u001b[0m\u001b[1;33m,\u001b[0m \u001b[0mrsi_bound\u001b[0m\u001b[1;33m=\u001b[0m\u001b[1;32mTrue\u001b[0m\u001b[1;33m,\u001b[0m \u001b[0mrsi_upper_bound\u001b[0m\u001b[1;33m=\u001b[0m\u001b[1;36m60\u001b[0m\u001b[1;33m,\u001b[0m \u001b[0mrsi_lower_bound\u001b[0m\u001b[1;33m=\u001b[0m\u001b[1;36m40\u001b[0m\u001b[1;33m,\u001b[0m\u001b[1;33m\u001b[0m\u001b[1;33m\u001b[0m\u001b[0m\n\u001b[0;32m     15\u001b[0m     \u001b[0mKD\u001b[0m\u001b[1;33m=\u001b[0m\u001b[1;32mFalse\u001b[0m\u001b[1;33m,\u001b[0m \u001b[0mkd_bound\u001b[0m\u001b[1;33m=\u001b[0m\u001b[1;32mTrue\u001b[0m\u001b[1;33m,\u001b[0m \u001b[0mkd_upper_bound\u001b[0m\u001b[1;33m=\u001b[0m\u001b[1;36m60\u001b[0m\u001b[1;33m,\u001b[0m \u001b[0mkd_lower_bound\u001b[0m\u001b[1;33m=\u001b[0m\u001b[1;36m40\u001b[0m\u001b[1;33m,\u001b[0m\u001b[1;33m\u001b[0m\u001b[1;33m\u001b[0m\u001b[0m\n",
      "\u001b[1;32m~\\AppData\\Local\\Temp/ipykernel_3696/29726237.py\u001b[0m in \u001b[0;36mplot_muti\u001b[1;34m(_ticker, _title, volume, buy_sell_point, RSI, rsi_midline, rsi_bound, rsi_upper_bound, rsi_lower_bound, KD, kd_bound, kd_upper_bound, kd_lower_bound, MACD, BBands)\u001b[0m\n\u001b[0;32m     99\u001b[0m     \u001b[1;32mif\u001b[0m \u001b[0mBBands\u001b[0m\u001b[1;33m:\u001b[0m\u001b[1;33m\u001b[0m\u001b[1;33m\u001b[0m\u001b[0m\n\u001b[0;32m    100\u001b[0m         apds += [\n\u001b[1;32m--> 101\u001b[1;33m             \u001b[0mmpf\u001b[0m\u001b[1;33m.\u001b[0m\u001b[0mmake_addplot\u001b[0m\u001b[1;33m(\u001b[0m\u001b[0m_ticker\u001b[0m\u001b[1;33m[\u001b[0m\u001b[1;34m'bbands_middle'\u001b[0m\u001b[1;33m]\u001b[0m\u001b[1;33m,\u001b[0m \u001b[0mpanel\u001b[0m\u001b[1;33m=\u001b[0m\u001b[1;36m0\u001b[0m\u001b[1;33m,\u001b[0m \u001b[0mcolor\u001b[0m\u001b[1;33m=\u001b[0m\u001b[1;34m'#9F4D95'\u001b[0m\u001b[1;33m,\u001b[0m \u001b[0malpha\u001b[0m\u001b[1;33m=\u001b[0m\u001b[1;36m1\u001b[0m\u001b[1;33m,\u001b[0m \u001b[0mwidth\u001b[0m\u001b[1;33m=\u001b[0m\u001b[1;36m1\u001b[0m\u001b[1;33m,\u001b[0m \u001b[0msecondary_y\u001b[0m\u001b[1;33m=\u001b[0m\u001b[1;32mFalse\u001b[0m\u001b[1;33m)\u001b[0m\u001b[1;33m,\u001b[0m\u001b[1;33m\u001b[0m\u001b[1;33m\u001b[0m\u001b[0m\n\u001b[0m\u001b[0;32m    102\u001b[0m             \u001b[0mmpf\u001b[0m\u001b[1;33m.\u001b[0m\u001b[0mmake_addplot\u001b[0m\u001b[1;33m(\u001b[0m\u001b[0m_ticker\u001b[0m\u001b[1;33m[\u001b[0m\u001b[1;34m'bbands_upper'\u001b[0m\u001b[1;33m]\u001b[0m\u001b[1;33m,\u001b[0m \u001b[0mpanel\u001b[0m\u001b[1;33m=\u001b[0m\u001b[1;36m0\u001b[0m\u001b[1;33m,\u001b[0m \u001b[0mcolor\u001b[0m\u001b[1;33m=\u001b[0m\u001b[1;34m'black'\u001b[0m\u001b[1;33m,\u001b[0m \u001b[0malpha\u001b[0m\u001b[1;33m=\u001b[0m\u001b[1;36m0.5\u001b[0m\u001b[1;33m,\u001b[0m \u001b[0mwidth\u001b[0m\u001b[1;33m=\u001b[0m\u001b[1;36m0.8\u001b[0m\u001b[1;33m,\u001b[0m \u001b[0msecondary_y\u001b[0m\u001b[1;33m=\u001b[0m\u001b[1;32mFalse\u001b[0m\u001b[1;33m)\u001b[0m\u001b[1;33m,\u001b[0m\u001b[1;33m\u001b[0m\u001b[1;33m\u001b[0m\u001b[0m\n\u001b[0;32m    103\u001b[0m             \u001b[0mmpf\u001b[0m\u001b[1;33m.\u001b[0m\u001b[0mmake_addplot\u001b[0m\u001b[1;33m(\u001b[0m\u001b[0m_ticker\u001b[0m\u001b[1;33m[\u001b[0m\u001b[1;34m'bbands_lower'\u001b[0m\u001b[1;33m]\u001b[0m\u001b[1;33m,\u001b[0m \u001b[0mpanel\u001b[0m\u001b[1;33m=\u001b[0m\u001b[1;36m0\u001b[0m\u001b[1;33m,\u001b[0m \u001b[0mcolor\u001b[0m\u001b[1;33m=\u001b[0m\u001b[1;34m'black'\u001b[0m\u001b[1;33m,\u001b[0m \u001b[0malpha\u001b[0m\u001b[1;33m=\u001b[0m\u001b[1;36m0.5\u001b[0m\u001b[1;33m,\u001b[0m \u001b[0mwidth\u001b[0m\u001b[1;33m=\u001b[0m\u001b[1;36m0.8\u001b[0m\u001b[1;33m,\u001b[0m \u001b[0msecondary_y\u001b[0m\u001b[1;33m=\u001b[0m\u001b[1;32mFalse\u001b[0m\u001b[1;33m)\u001b[0m\u001b[1;33m,\u001b[0m\u001b[1;33m\u001b[0m\u001b[1;33m\u001b[0m\u001b[0m\n",
      "\u001b[1;32mC:\\ProgramData\\Anaconda3\\lib\\site-packages\\pandas\\core\\frame.py\u001b[0m in \u001b[0;36m__getitem__\u001b[1;34m(self, key)\u001b[0m\n\u001b[0;32m   3456\u001b[0m             \u001b[1;32mif\u001b[0m \u001b[0mself\u001b[0m\u001b[1;33m.\u001b[0m\u001b[0mcolumns\u001b[0m\u001b[1;33m.\u001b[0m\u001b[0mnlevels\u001b[0m \u001b[1;33m>\u001b[0m \u001b[1;36m1\u001b[0m\u001b[1;33m:\u001b[0m\u001b[1;33m\u001b[0m\u001b[1;33m\u001b[0m\u001b[0m\n\u001b[0;32m   3457\u001b[0m                 \u001b[1;32mreturn\u001b[0m \u001b[0mself\u001b[0m\u001b[1;33m.\u001b[0m\u001b[0m_getitem_multilevel\u001b[0m\u001b[1;33m(\u001b[0m\u001b[0mkey\u001b[0m\u001b[1;33m)\u001b[0m\u001b[1;33m\u001b[0m\u001b[1;33m\u001b[0m\u001b[0m\n\u001b[1;32m-> 3458\u001b[1;33m             \u001b[0mindexer\u001b[0m \u001b[1;33m=\u001b[0m \u001b[0mself\u001b[0m\u001b[1;33m.\u001b[0m\u001b[0mcolumns\u001b[0m\u001b[1;33m.\u001b[0m\u001b[0mget_loc\u001b[0m\u001b[1;33m(\u001b[0m\u001b[0mkey\u001b[0m\u001b[1;33m)\u001b[0m\u001b[1;33m\u001b[0m\u001b[1;33m\u001b[0m\u001b[0m\n\u001b[0m\u001b[0;32m   3459\u001b[0m             \u001b[1;32mif\u001b[0m \u001b[0mis_integer\u001b[0m\u001b[1;33m(\u001b[0m\u001b[0mindexer\u001b[0m\u001b[1;33m)\u001b[0m\u001b[1;33m:\u001b[0m\u001b[1;33m\u001b[0m\u001b[1;33m\u001b[0m\u001b[0m\n\u001b[0;32m   3460\u001b[0m                 \u001b[0mindexer\u001b[0m \u001b[1;33m=\u001b[0m \u001b[1;33m[\u001b[0m\u001b[0mindexer\u001b[0m\u001b[1;33m]\u001b[0m\u001b[1;33m\u001b[0m\u001b[1;33m\u001b[0m\u001b[0m\n",
      "\u001b[1;32mC:\\ProgramData\\Anaconda3\\lib\\site-packages\\pandas\\core\\indexes\\base.py\u001b[0m in \u001b[0;36mget_loc\u001b[1;34m(self, key, method, tolerance)\u001b[0m\n\u001b[0;32m   3361\u001b[0m                 \u001b[1;32mreturn\u001b[0m \u001b[0mself\u001b[0m\u001b[1;33m.\u001b[0m\u001b[0m_engine\u001b[0m\u001b[1;33m.\u001b[0m\u001b[0mget_loc\u001b[0m\u001b[1;33m(\u001b[0m\u001b[0mcasted_key\u001b[0m\u001b[1;33m)\u001b[0m\u001b[1;33m\u001b[0m\u001b[1;33m\u001b[0m\u001b[0m\n\u001b[0;32m   3362\u001b[0m             \u001b[1;32mexcept\u001b[0m \u001b[0mKeyError\u001b[0m \u001b[1;32mas\u001b[0m \u001b[0merr\u001b[0m\u001b[1;33m:\u001b[0m\u001b[1;33m\u001b[0m\u001b[1;33m\u001b[0m\u001b[0m\n\u001b[1;32m-> 3363\u001b[1;33m                 \u001b[1;32mraise\u001b[0m \u001b[0mKeyError\u001b[0m\u001b[1;33m(\u001b[0m\u001b[0mkey\u001b[0m\u001b[1;33m)\u001b[0m \u001b[1;32mfrom\u001b[0m \u001b[0merr\u001b[0m\u001b[1;33m\u001b[0m\u001b[1;33m\u001b[0m\u001b[0m\n\u001b[0m\u001b[0;32m   3364\u001b[0m \u001b[1;33m\u001b[0m\u001b[0m\n\u001b[0;32m   3365\u001b[0m         \u001b[1;32mif\u001b[0m \u001b[0mis_scalar\u001b[0m\u001b[1;33m(\u001b[0m\u001b[0mkey\u001b[0m\u001b[1;33m)\u001b[0m \u001b[1;32mand\u001b[0m \u001b[0misna\u001b[0m\u001b[1;33m(\u001b[0m\u001b[0mkey\u001b[0m\u001b[1;33m)\u001b[0m \u001b[1;32mand\u001b[0m \u001b[1;32mnot\u001b[0m \u001b[0mself\u001b[0m\u001b[1;33m.\u001b[0m\u001b[0mhasnans\u001b[0m\u001b[1;33m:\u001b[0m\u001b[1;33m\u001b[0m\u001b[1;33m\u001b[0m\u001b[0m\n",
      "\u001b[1;31mKeyError\u001b[0m: 'bbands_middle'"
     ]
    }
   ],
   "source": [
    "data = '2303'\n",
    "# 讀取資料\n",
    "ticker = read_ticker_v2(data + '.csv')\n",
    "\n",
    "# # 標出交易策略多空點\n",
    "# ticker = bbands_ema_rule(ticker, bb_period=20, bb_stdnum=2, ma_period=5)\n",
    "\n",
    "# # 數據回測\n",
    "# ticker = back_track_v5(ticker, 500_000, stop_loss_percent=0.95) # 起始資金為五十萬\n",
    "\n",
    "# 繪圖\n",
    "dff = ticker.loc['2015-10':'2016-10', ]\n",
    "plot_muti(dff, _title='', volume=True, buy_sell_point=True, \n",
    "    RSI=False, rsi_midline=False, rsi_bound=True, rsi_upper_bound=60, rsi_lower_bound=40, \n",
    "    KD=False, kd_bound=True, kd_upper_bound=60, kd_lower_bound=40, \n",
    "    MACD=False, BBands=True)\n",
    "\n",
    "# # 計算交易資訊\n",
    "# result = get_trade_info_v2(ticker)\n",
    "\n",
    "# print(result)\n",
    "\n",
    "# # 計算投資報酬率\n",
    "# profit = get_result(result)\n",
    "# print(profit)\n",
    "\n",
    "# result.to_csv(data + '_result.csv')"
   ]
  },
  {
   "cell_type": "markdown",
   "metadata": {},
   "source": [
    "## kd + rsi"
   ]
  },
  {
   "cell_type": "code",
   "execution_count": null,
   "metadata": {},
   "outputs": [],
   "source": [
    "data = '0050_2018'\n",
    "# 讀取資料\n",
    "ticker = read_ticker_v2(data + '.csv')\n",
    "\n",
    "# 標出交易策略多空點\n",
    "ticker = kd_rsi_rule(ticker, rsi_buy_point=35, rsi_sell_point=65)\n",
    "\n",
    "# 數據回測\n",
    "ticker = back_track_v5(ticker, 500_000, stop_loss_percent=0.95) # 起始資金為五十萬\n",
    "\n",
    "# 繪圖\n",
    "dff = ticker.loc['2020-06':'2021-10', ]\n",
    "plot_muti(dff, _title='', volume=True, buy_sell_point=True, \n",
    "    RSI=True, rsi_midline=False, rsi_bound=True, rsi_upper_bound=65, rsi_lower_bound=35, \n",
    "    KD=True, kd_bound=False, kd_upper_bound=85, kd_lower_bound=15, \n",
    "    MACD=False, BBands=False)\n",
    "\n",
    "# 計算交易資訊\n",
    "result = get_trade_info_v2(ticker)\n",
    "\n",
    "print(result)\n",
    "\n",
    "# 計算投資報酬率\n",
    "profit = get_result(result)\n",
    "print(profit)\n",
    "\n",
    "result.to_csv(data + '_result.csv')"
   ]
  },
  {
   "cell_type": "markdown",
   "metadata": {},
   "source": [
    "## MA + MACD"
   ]
  },
  {
   "cell_type": "code",
   "execution_count": null,
   "metadata": {},
   "outputs": [],
   "source": [
    "data = '0050_2018'\n",
    "# 讀取資料\n",
    "ticker = read_ticker_v2(data + '.csv')\n",
    "\n",
    "# 標出交易策略多空點\n",
    "ticker = macd_ma_rule(ticker, buy_point_name='buy_point', ma_period=5)\n",
    "\n",
    "# 數據回測\n",
    "ticker = back_track_v5(ticker, 500_000, stop_loss_percent=0.95) # 起始資金為五十萬\n",
    "\n",
    "# 繪圖\n",
    "dff = ticker.loc['2020-06':'2021-10', ]\n",
    "plot_muti(dff, _title='', volume=True, buy_sell_point=True, \n",
    "    RSI=False, rsi_midline=True, rsi_bound=True, rsi_upper_bound=85, rsi_lower_bound=15, \n",
    "    KD=False, kd_bound=True, kd_upper_bound=85, kd_lower_bound=15, \n",
    "    MACD=True, BBands=False)\n",
    "\n",
    "# 計算交易資訊\n",
    "result = get_trade_info_v2(ticker)\n",
    "\n",
    "print(result)\n",
    "\n",
    "# 計算投資報酬率\n",
    "profit = get_result(result)\n",
    "print(profit)\n",
    "\n",
    "result.to_csv(data + '_result.csv')"
   ]
  },
  {
   "cell_type": "markdown",
   "metadata": {},
   "source": [
    "## 多支股票結果比較"
   ]
  },
  {
   "cell_type": "markdown",
   "metadata": {},
   "source": [
    "## bband + ema"
   ]
  },
  {
   "cell_type": "code",
   "execution_count": null,
   "metadata": {},
   "outputs": [],
   "source": [
    "# 取得資料名稱串列\n",
    "ticker_list = get_ticker_list()\n",
    "\n",
    "# 回傳資料\n",
    "res = []\n",
    "# 總報酬\n",
    "profit_sum = 0\n",
    "\n",
    "for data in ticker_list:\n",
    "\n",
    "    print(data)\n",
    "\n",
    "    # 讀取資料\n",
    "    ticker = read_ticker_v2(data)\n",
    "\n",
    "    # 標出交易策略多空點\n",
    "    ticker = bbands_ema_rule(ticker, bb_period=20, bb_stdnum=2, ma_period=5)\n",
    "\n",
    "    # 數據回測\n",
    "    ticker = back_track_v5(ticker, 500_000, stop_loss_percent=0.96)\n",
    "\n",
    "    # 計算交易資訊\n",
    "    result = get_trade_info_v2(ticker)\n",
    "\n",
    "    # 計算投資報酬率\n",
    "    profit = get_result(result)\n",
    "\n",
    "    # 將該支股票之報酬率加總\n",
    "    profit_sum += profit[len(profit) - 1]\n",
    "\n",
    "    # 將當前資料加入新的一列\n",
    "    res += [profit]\n",
    "    \n",
    "# 將陣列資料轉乘 dataframe\n",
    "res = pd.DataFrame(res)\n",
    "\n",
    "# 加入各列資料名稱 \n",
    "res.set_axis(ticker_list, axis='rows', inplace=True)\n",
    "\n",
    "# 加入各行數據名稱\n",
    "res.set_axis(['Trades', 'Win', 'Loss', 'Win_Rate', 'Profit'], axis='columns', inplace=True)\n",
    "\n",
    "# 印出總結果\n",
    "print(res)\n",
    "\n",
    "# 印出平均報酬率\n",
    "print('平均報酬率 :', profit_sum / len(ticker_list))"
   ]
  },
  {
   "cell_type": "markdown",
   "metadata": {},
   "source": [
    "## kd + rsi"
   ]
  },
  {
   "cell_type": "code",
   "execution_count": null,
   "metadata": {},
   "outputs": [],
   "source": [
    "# 取得資料名稱串列\n",
    "ticker_list = get_ticker_list()\n",
    "\n",
    "# 回傳資料\n",
    "res = []\n",
    "# 總報酬\n",
    "profit_sum = 0\n",
    "\n",
    "for data in ticker_list:\n",
    "\n",
    "    print(data)\n",
    "\n",
    "    # 讀取資料\n",
    "    ticker = read_ticker_v2(data)\n",
    "\n",
    "    # 標出交易策略多空點\n",
    "    ticker = kd_rsi_rule(ticker, rsi_buy_point=35, rsi_sell_point=65)\n",
    "\n",
    "    # 數據回測\n",
    "    ticker = back_track_v5(ticker, 500_000, stop_loss_percent=0.95)\n",
    "\n",
    "    # 計算交易資訊\n",
    "    result = get_trade_info_v2(ticker)\n",
    "\n",
    "    # 計算投資報酬率\n",
    "    profit = get_result(result)\n",
    "\n",
    "    # 將該支股票之報酬率加總\n",
    "    profit_sum += profit[len(profit) - 1]\n",
    "\n",
    "    # 將當前資料加入新的一列\n",
    "    res += [profit]\n",
    "    \n",
    "# 將陣列資料轉乘 dataframe\n",
    "res = pd.DataFrame(res)\n",
    "\n",
    "# 加入各列資料名稱 \n",
    "res.set_axis(ticker_list, axis='rows', inplace=True)\n",
    "\n",
    "# 加入各行數據名稱\n",
    "res.set_axis(['Trades', 'Win', 'Loss', 'Win_Rate', 'Profit'], axis='columns', inplace=True)\n",
    "\n",
    "# 印出總結果\n",
    "print(res)\n",
    "\n",
    "# 印出平均報酬率\n",
    "print('平均報酬率 :', profit_sum / len(ticker_list))"
   ]
  },
  {
   "cell_type": "markdown",
   "metadata": {},
   "source": [
    "## ma + macd"
   ]
  },
  {
   "cell_type": "code",
   "execution_count": null,
   "metadata": {},
   "outputs": [],
   "source": [
    "# 取得資料名稱串列\n",
    "ticker_list = get_ticker_list()\n",
    "\n",
    "# 回傳資料\n",
    "res = []\n",
    "# 總報酬\n",
    "profit_sum = 0\n",
    "\n",
    "for data in ticker_list:\n",
    "\n",
    "    print(data)\n",
    "\n",
    "    # 讀取資料\n",
    "    ticker = read_ticker_v2(data)\n",
    "\n",
    "    # 標出交易策略多空點\n",
    "    ticker = macd_ma_rule(ticker, buy_point_name='buy_point', ma_period=4)\n",
    "\n",
    "    # 數據回測\n",
    "    ticker = back_track_v5(ticker, 500_000, stop_loss_percent=0.95)\n",
    "\n",
    "    # 計算交易資訊\n",
    "    result = get_trade_info_v2(ticker)\n",
    "\n",
    "    # 計算投資報酬率\n",
    "    profit = get_result(result)\n",
    "\n",
    "    # 將該支股票之報酬率加總\n",
    "    profit_sum += profit[len(profit) - 1]\n",
    "\n",
    "    # 將當前資料加入新的一列\n",
    "    res += [profit]\n",
    "    \n",
    "# 將陣列資料轉乘 dataframe\n",
    "res = pd.DataFrame(res)\n",
    "\n",
    "# 加入各列資料名稱 \n",
    "res.set_axis(ticker_list, axis='rows', inplace=True)\n",
    "\n",
    "# 加入各行數據名稱\n",
    "res.set_axis(['Trades', 'Win', 'Loss', 'Win_Rate', 'Profit'], axis='columns', inplace=True)\n",
    "\n",
    "# 印出總結果\n",
    "print(res)\n",
    "\n",
    "# 印出平均報酬率\n",
    "print('平均報酬率 :', profit_sum / len(ticker_list))"
   ]
  }
 ],
 "metadata": {
  "kernelspec": {
   "display_name": "Python 3.9.7 ('base')",
   "language": "python",
   "name": "python3"
  },
  "language_info": {
   "codemirror_mode": {
    "name": "ipython",
    "version": 3
   },
   "file_extension": ".py",
   "mimetype": "text/x-python",
   "name": "python",
   "nbconvert_exporter": "python",
   "pygments_lexer": "ipython3",
   "version": "3.9.7 (default, Sep 16 2021, 16:59:28) [MSC v.1916 64 bit (AMD64)]"
  },
  "vscode": {
   "interpreter": {
    "hash": "ad2bdc8ecc057115af97d19610ffacc2b4e99fae6737bb82f5d7fb13d2f2c186"
   }
  }
 },
 "nbformat": 4,
 "nbformat_minor": 2
}
