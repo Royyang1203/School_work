{
 "cells": [
  {
   "cell_type": "code",
   "execution_count": null,
   "id": "eedb498e",
   "metadata": {},
   "outputs": [],
   "source": [
    "# 410921208_楊右宇\n",
    "# Python 3.9.7\n",
    "\n",
    "import pandas as pd\n",
    "import numpy as np\n",
    "\n",
    "df = pd.read_csv(\n",
    "    r'D:\\OneDrive - 國立東華大學\\code\\5_School_Work\\S4\\Datascience\\week_5\\data.csv')\n",
    "\n",
    "\n",
    "res = pd.DataFrame(0, index=range(0, 6), columns=['High school system', 'Gender', 'Num of graduates', 'enroll in police university', 'enroll in police college',\n",
    "                   'average enroll in military', 'Police university enrollment rate', 'Police college enrollment rate', 'Military school enrollment rate'])\n",
    "\n",
    "res.iloc[:, 0] = ['National', 'National', 'county & city',\n",
    "                  'county & city', 'private', 'private']\n",
    "res.iloc[:, 1] = ['male', 'female', 'male', 'female', 'male', 'female']\n",
    "\n",
    "for i in range(6):\n",
    "\n",
    "    target = df[(df.loc[:, 'High school system'] == res.loc[res.index[i], 'High school system']) &\n",
    "                (df.loc[:, 'Gender'] == res.loc[res.index[i], 'Gender'])]\n",
    "\n",
    "    res.loc[res.index[i], 'Num of graduates'] = \\\n",
    "        target.loc[:, 'Num of graduates'].sum()\n",
    "\n",
    "    res.loc[res.index[i], 'enroll in police university'] = \\\n",
    "        target.loc[:, 'Num of enroll in police university'].sum()\n",
    "    res.loc[res.index[i], 'enroll in police college'] = \\\n",
    "        target.loc[:, 'Num of enroll in police college'].sum()\n",
    "\n",
    "    res.loc[res.index[i], 'average enroll in military'] = \\\n",
    "        round(target.loc[:, 'Num of enroll in military school'].mean(), 2)\n",
    "\n",
    "    res.loc[res.index[i], 'Police university enrollment rate'] = \\\n",
    "        '{:.2f}'.format(round(res.loc[res.index[i], 'enroll in police university'] /\n",
    "                              res.loc[res.index[i], 'Num of graduates'], 4) * 100) + '%'\n",
    "    res.loc[res.index[i], 'Police college enrollment rate'] = \\\n",
    "        '{:.2f}'.format(round(res.loc[res.index[i], 'enroll in police college'] /\n",
    "                              res.loc[res.index[i], 'Num of graduates'], 4) * 100) + '%'\n",
    "    res.loc[res.index[i], 'Military school enrollment rate'] = \\\n",
    "        '{:.2f}'.format(round(target.loc[:, 'Num of enroll in military school'].max() /\n",
    "                              res.loc[res.index[i], 'Num of graduates'], 4) * 100) + '%'\n",
    "\n",
    "\n",
    "print(res)\n",
    "# res.to_csv('result.csv')"
   ]
  }
 ],
 "metadata": {
  "kernelspec": {
   "display_name": "Python 3 (ipykernel)",
   "language": "python",
   "name": "python3"
  },
  "language_info": {
   "codemirror_mode": {
    "name": "ipython",
    "version": 3
   },
   "file_extension": ".py",
   "mimetype": "text/x-python",
   "name": "python",
   "nbconvert_exporter": "python",
   "pygments_lexer": "ipython3",
   "version": "3.9.7"
  }
 },
 "nbformat": 4,
 "nbformat_minor": 5
}
