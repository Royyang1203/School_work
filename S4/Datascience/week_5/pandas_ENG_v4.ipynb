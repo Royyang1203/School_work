{
 "cells": [
  {
   "cell_type": "markdown",
   "metadata": {},
   "source": [
    "<h1 style=\"color:blue;text-align:center\"> Pandas </h1>\n",
    "<h3 style=\"color:black;text-align:center\"> Chih-Hung Lai  <br />\n",
    "Date of establishment: 2017.11.05  \n",
    "Last Modified Date: 2022.03.17</h3>"
   ]
  },
  {
   "cell_type": "markdown",
   "metadata": {},
   "source": [
    "<h2 style=\"color:blue\"> Content of Table </h2>\n",
    "\n",
    "1. Introduction\n",
    " 1.1 Advanced References  \n",
    " 1.2 What is pandas?  \n",
    " 1.3 Difference between Numpy and Pandas?  \n",
    "2. Series: one dimensional arrays in Pandas  \n",
    " 2.1 Series creation and index use  \n",
    " 2.2 Elements and data types in Series  \n",
    " 2.3 Properties and methods about basic information  \n",
    " 2.4 Operation of Series  \n",
    "3. DataFrame  \n",
    " 3.1 Features of DataFrames  \n",
    " 3.2 Establishment of DataFrames  \n",
    " 3.3 Display DataFrame basic information   \n",
    " 3.4 Rows, Columns & Index  \n",
    "4. Access elements in DataFrames  \n",
    " 4.1 From Rows & Columns  \n",
    " 4.2 From boolean statement\n",
    "5. Visit DataFrame  \n",
    "6. Update, merge and delete DataFrame elements  \n",
    " 6.1 Update data  \n",
    " 6.2 Delete data  \n",
    " 6.3 Add data  \n",
    " 6.4 Duplicate, concatenate and merge data  \n",
    "7. Access files "
   ]
  },
  {
   "cell_type": "markdown",
   "metadata": {},
   "source": [
    "# 1 Introduction"
   ]
  },
  {
   "cell_type": "markdown",
   "metadata": {},
   "source": [
    "## 1.1 Advanced References\n",
    "\n",
    "- Official website\n",
    "    - https://pandas.pydata.org/\n",
    "* W3School website\n",
    "    - https://www.w3schools.com/python/pandas/default.asp"
   ]
  },
  {
   "cell_type": "markdown",
   "metadata": {},
   "source": [
    "## 1.2 What is pandas?\n",
    "\n",
    "- Pandas is a Python library used for working with data sets.\n",
    "\n",
    "- It has functions for analyzing, cleaning, exploring, and manipulating data.\n",
    "\n",
    "- The name \"Pandas\" has a reference to both \"PANel DAta\" and was created by Wes McKinney in 2008.\n",
    "\n",
    "- Common alias of pandas is pd"
   ]
  },
  {
   "cell_type": "markdown",
   "metadata": {},
   "source": [
    "## 1.3 Difference between Numpy and Pandas?\n",
    "\n",
    "1. Numpy is in the form of an array, there is no field name or label, and the data type must be the same \n",
    "    - Pandas have column labels and index labels (or index numbers), and can be different data types in different columns \n",
    "    - The Pandas module mainly works with the tabular data, whereas the NumPy module works with the numerical data.\n",
    "2. Pandas is built based on Numpy, with list labels, and the data types can be different\n",
    "\n",
    "3. Pandas is built on top of the NumPy package, which means Numpy is required for operating the Pandas. \n",
    "\n",
    "- Reference \n",
    "    - https://www.javatpoint.com/pandas-vs-numpy"
   ]
  },
  {
   "cell_type": "code",
   "execution_count": 424,
   "metadata": {},
   "outputs": [
    {
     "name": "stdout",
     "output_type": "stream",
     "text": [
      "[[10 20 30]\n",
      " [10 10 40]] \n",
      "\n",
      "int32\n",
      "int32\n",
      "int32\n",
      "\n",
      "float64\n",
      "float64\n",
      "float64\n",
      "\n",
      "<U32\n",
      "<U2\n",
      "<U32\n"
     ]
    }
   ],
   "source": [
    "# elements in one array of numpy are only one data type \n",
    "\n",
    "import numpy as np\n",
    "\n",
    "a = np.array([[10, 20, 30], [10, 10, 40]])   # only contain integers\n",
    "print(a, '\\n')\n",
    "print(a.dtype)\n",
    "print(a[1,1].dtype)\n",
    "print(a[0].dtype)\n",
    "\n",
    "print()\n",
    "a = np.array([[10, 20.3, 30], [10, 10, 40]])   # contain integer & floating numbers \n",
    "print(a.dtype)\n",
    "print(a[1,1].dtype)\n",
    "print(a[0].dtype)\n",
    "\n",
    "print()\n",
    "a = np.array([[10, 20.3, 30], [10, 10, 'abc']])  # contain integer & floating numbers & strings\n",
    "print(a.dtype)\n",
    "print(a[1,1].dtype)\n",
    "print(a[0].dtype)"
   ]
  },
  {
   "cell_type": "code",
   "execution_count": 425,
   "metadata": {},
   "outputs": [
    {
     "name": "stdout",
     "output_type": "stream",
     "text": [
      "    0   1   2\n",
      "0  10  20  30\n",
      "1  10  10  40 \n",
      "\n",
      "0    int64\n",
      "1    int64\n",
      "2    int64\n",
      "dtype: object\n",
      "\n",
      "0      int64\n",
      "1    float64\n",
      "2      int64\n",
      "dtype: object\n",
      "\n",
      "0      int64\n",
      "1    float64\n",
      "2     object\n",
      "dtype: object\n"
     ]
    }
   ],
   "source": [
    "# elements in one array of pandas.DataFrame can be different data type \n",
    "# one column has one data type in pandas.DataFrames\n",
    "\n",
    "import pandas as pd\n",
    "\n",
    "a = pd.DataFrame([[10, 20, 30], [10, 10, 40]])\n",
    "print(a, '\\n')\n",
    "print(a.dtypes)\n",
    "\n",
    "print()\n",
    "a = pd.DataFrame([[10, 20.3, 30], [10, 10, 40]])\n",
    "print(a.dtypes)\n",
    "\n",
    "\n",
    "print()\n",
    "a = pd.DataFrame([[10, 20.3, 30], [10, 10, 'abc']])\n",
    "print(a.dtypes)\n"
   ]
  },
  {
   "cell_type": "markdown",
   "metadata": {},
   "source": [
    "#### In sum,  you want to improve performance, make the data type of the same field simple or be only numbers"
   ]
  },
  {
   "cell_type": "markdown",
   "metadata": {},
   "source": [
    "# 2. Series: 1-dimensional arrays in Pandas"
   ]
  },
  {
   "cell_type": "markdown",
   "metadata": {},
   "source": [
    "- Series is a one-dimensional labeled array, capable of holding any data type \n",
    "    - integers, strings, floating point numbers, Python objects, etc. \n",
    "- The axis labels are collectively referred to as the index. "
   ]
  },
  {
   "cell_type": "markdown",
   "metadata": {},
   "source": [
    "## 2.1 Series creation and index use"
   ]
  },
  {
   "cell_type": "code",
   "execution_count": 426,
   "metadata": {},
   "outputs": [
    {
     "name": "stdout",
     "output_type": "stream",
     "text": [
      "apple     15\n",
      "orange    33\n",
      "pear      45\n",
      "cherry    55\n",
      "dtype: int64\n"
     ]
    }
   ],
   "source": [
    "# The basic method to create a Series is to call Series( ) method\n",
    "# The axis labels are collectively referred to as the index.\n",
    "\n",
    "import pandas as pd\n",
    "fruits = [\"apple\", \"orange\", \"pear\", \"cherry\"]\n",
    "quantities = [15, 33, 45, 55]\n",
    "s = pd.Series(quantities, index=fruits)\n",
    "print(s)"
   ]
  },
  {
   "cell_type": "code",
   "execution_count": 427,
   "metadata": {},
   "outputs": [
    {
     "name": "stdout",
     "output_type": "stream",
     "text": [
      "a   -0.331680\n",
      "b    0.129322\n",
      "c    0.378039\n",
      "d   -0.367217\n",
      "e    0.269520\n",
      "dtype: float64\n",
      "\n",
      "a    0.934429\n",
      "b    0.310383\n",
      "c   -0.155103\n",
      "d   -0.192190\n",
      "e    0.302668\n",
      "dtype: float64\n"
     ]
    }
   ],
   "source": [
    "# Create a custom indexed Series object\n",
    "# With the index argument, you can name your own labels.\n",
    "\n",
    "s1 = pd.Series(np.random.randn(5), index=[\"a\", \"b\", \"c\", \"d\", \"e\"])\n",
    "s2 = pd.Series(np.random.randn(5), index=list(\"abcde\"))\n",
    "\n",
    "print(s1)\n",
    "print()\n",
    "print(s2)"
   ]
  },
  {
   "cell_type": "code",
   "execution_count": 428,
   "metadata": {},
   "outputs": [
    {
     "name": "stdout",
     "output_type": "stream",
     "text": [
      "s:\n",
      "0    12\n",
      "1    29\n",
      "2    72\n",
      "3     4\n",
      "4     8\n",
      "5    10\n",
      "dtype: int64\n",
      "\n",
      "\n",
      "s.index:\n",
      "RangeIndex(start=0, stop=6, step=1)\n",
      "\n",
      "\n",
      "s.values:\n",
      "[12 29 72  4  8 10]\n",
      "\n",
      "\n"
     ]
    }
   ],
   "source": [
    "# If no index argument is specified, the elemets are labeled with their index number. \n",
    "# First elemet has index 0, second elemet has index 1 etc.\n",
    "\n",
    "import pandas as pd\n",
    "\n",
    "s = pd.Series([12, 29, 72, 4, 8, 10])\n",
    "print('s:', s, '\\n', sep='\\n')\n",
    "print('s.index:', s.index, '\\n', sep='\\n') \n",
    "print('s.values:', s.values, '\\n', sep='\\n') "
   ]
  },
  {
   "cell_type": "code",
   "execution_count": 429,
   "metadata": {},
   "outputs": [
    {
     "name": "stdout",
     "output_type": "stream",
     "text": [
      "s:\n",
      "apple     15\n",
      "orange    33\n",
      "pear      45\n",
      "cherry    55\n",
      "dtype: int64\n",
      "\n",
      "\n",
      "s.index:\n",
      "Index(['apple', 'orange', 'pear', 'cherry'], dtype='object')\n",
      "\n",
      "\n",
      "s.values:\n",
      "[15 33 45 55]\n",
      "\n",
      "\n"
     ]
    }
   ],
   "source": [
    "# Series.index\n",
    "# Series.values \n",
    "\n",
    "import pandas as pd\n",
    "\n",
    "fruits = [\"apple\", \"orange\", \"pear\", \"cherry\"]\n",
    "quantities = [15, 33, 45, 55]\n",
    "s = pd.Series(quantities, index=fruits)\n",
    "print('s:', s, '\\n', sep='\\n')\n",
    "print('s.index:', s.index, '\\n', sep='\\n') \n",
    "print('s.values:', s.values, '\\n', sep='\\n') "
   ]
  },
  {
   "cell_type": "markdown",
   "metadata": {},
   "source": [
    "## 2.2 Elements and data types in Series"
   ]
  },
  {
   "cell_type": "markdown",
   "metadata": {},
   "source": [
    "### Pandas dtype\n",
    "\n",
    "- object\n",
    "- int64\n",
    "- float64\n",
    "- bool\n",
    "- datetime64\n",
    "- timedelta[ns]\n",
    "- category\n",
    "\n",
    "\n",
    "#### https://pbpython.com/pandas_dtypes.html"
   ]
  },
  {
   "cell_type": "code",
   "execution_count": 430,
   "metadata": {},
   "outputs": [
    {
     "name": "stdout",
     "output_type": "stream",
     "text": [
      "0     1\n",
      "1    10\n",
      "2    15\n",
      "3    44\n",
      "4     1\n",
      "dtype: int64 \n",
      "\n",
      "0      1\n",
      "1    abc\n",
      "2      6\n",
      "3    NaN\n",
      "4     44\n",
      "5      1\n",
      "dtype: object\n",
      "\n",
      "int64\n"
     ]
    }
   ],
   "source": [
    "# One-dimensional array (Series), data types can be different\n",
    "# if data types of elements are the same, the data type of the Series is this type\n",
    "# if data types of elements are different, the data type of the Series is an object\n",
    "\n",
    "import pandas as pd\n",
    "import numpy as np\n",
    "\n",
    "s1 = pd.Series([1, 10, 15, 44, 1])\n",
    "print(s1, '\\n')\n",
    "\n",
    "\n",
    "s2 = pd.Series([1,\"abc\",\"6\",np.nan,44,1])\n",
    "print(s2)\n",
    "\n",
    "print()\n",
    "print(s1.dtype)"
   ]
  },
  {
   "cell_type": "code",
   "execution_count": 431,
   "metadata": {},
   "outputs": [
    {
     "name": "stdout",
     "output_type": "stream",
     "text": [
      "s[\"orange\"]: 33 \n",
      "\n",
      "s[1]: 33 \n",
      "\n"
     ]
    }
   ],
   "source": [
    "# Use index numbers or labels to retrieve data \n",
    "\n",
    "import numpy as np\n",
    "import pandas as pd\n",
    "\n",
    "fruits = [\"apple\", \"orange\", \"pear\", \"cherry\"]\n",
    "s = pd.Series([15, 33, 45, 55], index=fruits)\n",
    "print('s[\"orange\"]:', s[\"orange\"], '\\n')     \n",
    "print('s[1]:', s[1], '\\n') \n"
   ]
  },
  {
   "cell_type": "code",
   "execution_count": 432,
   "metadata": {},
   "outputs": [
    {
     "name": "stdout",
     "output_type": "stream",
     "text": [
      "apple     15\n",
      "orange    33\n",
      "pear      45\n",
      "cherry    55\n",
      "dtype: int64\n",
      "\n",
      "s.dtype: int64\n",
      "\n",
      "s[\"orange\"]: 33 \n",
      "\n",
      "type(s[\"orange\"]): <class 'numpy.int64'> \n",
      "\n",
      "s[[\"orange\"]]: orange    33\n",
      "dtype: int64 \n",
      "\n",
      "type(s[[\"orange\"]]): <class 'pandas.core.series.Series'> \n",
      "\n"
     ]
    }
   ],
   "source": [
    "# Hint: a[1] vs. a[[1]] are different, if a is a series\n",
    "# a[1] means: the element wich index 1 in the Serries\n",
    "# a[[1]] means: a Series comprises an element with index 1\n",
    "\n",
    "import numpy as np\n",
    "import pandas as pd\n",
    "\n",
    "fruits = [\"apple\", \"orange\", \"pear\", \"cherry\"]\n",
    "s = pd.Series([15, 33, 45, 55], index=fruits)\n",
    "print(s)\n",
    "print()\n",
    "print('s.dtype:', s.dtype)\n",
    "print()\n",
    "print('s[\"orange\"]:', s[\"orange\"], '\\n') \n",
    "print('type(s[\"orange\"]):', type(s[\"orange\"]), '\\n')  \n",
    "print('s[[\"orange\"]]:', s[[\"orange\"]], '\\n')\n",
    "print('type(s[[\"orange\"]]):', type(s[[\"orange\"]]), '\\n') "
   ]
  },
  {
   "cell_type": "markdown",
   "metadata": {},
   "source": [
    "## 2.3 Properties and methods about basic information \n",
    "- Available in Series & DataFrame  \n",
    " \n",
    " \n",
    "- shape: display the number of rows (and the number of columns if there are)\n",
    "    - df.shape\n",
    "- index: column index\n",
    "- columns: Column index of DataFrames (Series does not have this method)\n",
    "- head(n): Returns the data of the first n columns, the default is 5 columns\n",
    "- info(): Details of DataFrame (Series does not have this method)\n",
    "- describe(): descriptive statistics of the data (in each column)\n",
    "\n",
    "\n",
    "- function\n",
    "    - len(Series or DataFrame object): the number of data "
   ]
  },
  {
   "cell_type": "code",
   "execution_count": 433,
   "metadata": {},
   "outputs": [
    {
     "name": "stdout",
     "output_type": "stream",
     "text": [
      "A    8\n",
      "B    7\n",
      "C    5\n",
      "D    6\n",
      "E    5\n",
      "F    7\n",
      "dtype: int32 \n",
      "\n",
      "shape: (6,) \n",
      "\n",
      "index: Index(['A', 'B', 'C', 'D', 'E', 'F'], dtype='object') \n",
      "\n",
      "head():\n",
      "A    8\n",
      "B    7\n",
      "C    5\n",
      "D    6\n",
      "E    5\n",
      "dtype: int32\n",
      "\n",
      "\n",
      "describe():\n",
      "count    6.000000\n",
      "mean     6.333333\n",
      "std      1.211060\n",
      "min      5.000000\n",
      "25%      5.250000\n",
      "50%      6.500000\n",
      "75%      7.000000\n",
      "max      8.000000\n",
      "dtype: float64\n",
      "\n",
      "\n",
      "len: 6\n"
     ]
    }
   ],
   "source": [
    "import numpy as np\n",
    "import pandas as pd\n",
    "\n",
    "ar1 = pd.Series(np.random.randint(5, 10, 6), index = list(\"ABCDEF\")) # Generate an array of 6 integers from 5 to 10 (exclusive), index using ABCDEF\n",
    "print(ar1, '\\n')\n",
    "print('shape:', ar1.shape, '\\n')\n",
    "print('index:', ar1.index, '\\n')\n",
    "print(\"head():\", ar1.head(), '\\n', sep = '\\n')\n",
    "print('describe():', ar1.describe(), '\\n', sep = '\\n')\n",
    "\n",
    "print('len:', len(ar1))"
   ]
  },
  {
   "cell_type": "code",
   "execution_count": 434,
   "metadata": {},
   "outputs": [
    {
     "name": "stdout",
     "output_type": "stream",
     "text": [
      "A    9\n",
      "B    9\n",
      "C    6\n",
      "D    8\n",
      "E    5\n",
      "F    6\n",
      "dtype: int32 \n",
      "\n",
      "shape: (6,) \n",
      "\n",
      "index: Index(['A', 'B', 'C', 'D', 'E', 'F'], dtype='object') \n",
      "\n",
      "head():\n",
      "A    9\n",
      "B    9\n",
      "C    6\n",
      "D    8\n",
      "E    5\n",
      "dtype: int32\n",
      "\n",
      "\n",
      "describe():\n",
      "count    6.000000\n",
      "mean     7.166667\n",
      "std      1.722401\n",
      "min      5.000000\n",
      "25%      6.000000\n",
      "50%      7.000000\n",
      "75%      8.750000\n",
      "max      9.000000\n",
      "dtype: float64\n",
      "\n",
      "\n",
      "len: 6\n"
     ]
    }
   ],
   "source": [
    "import numpy as np\n",
    "import pandas as pd\n",
    "\n",
    "ar1 = pd.Series(np.random.randint(5, 10, 6), index = list(\"ABCDEF\")) # Generate an array of 6 integers from 5 to 10 (exclusive), index using ABCDEF\n",
    "print(ar1, '\\n')\n",
    "print('shape:', ar1.shape, '\\n')\n",
    "print('index:', ar1.index, '\\n')\n",
    "print(\"head():\", ar1.head(), '\\n', sep = '\\n')\n",
    "print('describe():', ar1.describe(), '\\n', sep = '\\n')\n",
    "\n",
    "print('len:', len(ar1))"
   ]
  },
  {
   "cell_type": "markdown",
   "metadata": {},
   "source": [
    "## 2.4 Operation of Series"
   ]
  },
  {
   "cell_type": "code",
   "execution_count": 435,
   "metadata": {},
   "outputs": [
    {
     "name": "stdout",
     "output_type": "stream",
     "text": [
      "s:\n",
      "apple     15\n",
      "orange    33\n",
      "pear      45\n",
      "cherry    55\n",
      "dtype: int64\n",
      "\n",
      "\n",
      "p:\n",
      "apple     11\n",
      "orange    16\n",
      "pear      21\n",
      "cherry    32\n",
      "dtype: int64\n",
      "\n",
      "\n",
      "s + 3:\n",
      "apple     18\n",
      "orange    36\n",
      "pear      48\n",
      "cherry    58\n",
      "dtype: int64\n",
      "\n",
      "\n",
      "s+p:\n",
      "\n",
      "apple     26\n",
      "orange    49\n",
      "pear      66\n",
      "cherry    87\n",
      "dtype: int64\n",
      "\n",
      "\n",
      "s-p:\n",
      "\n",
      "apple      4\n",
      "orange    17\n",
      "pear      24\n",
      "cherry    23\n",
      "dtype: int64\n",
      "\n",
      "\n",
      "s*p:\n",
      "\n",
      "apple      165\n",
      "orange     528\n",
      "pear       945\n",
      "cherry    1760\n",
      "dtype: int64\n",
      "\n",
      "\n",
      "s/p:\n",
      "\n",
      "apple     1.363636\n",
      "orange    2.062500\n",
      "pear      2.142857\n",
      "cherry    1.718750\n",
      "dtype: float64\n",
      "\n",
      "\n",
      "Total= 228\n"
     ]
    }
   ],
   "source": [
    "# Operation of 2 Series objects\n",
    "import pandas as pd\n",
    "\n",
    "fruits = [\"apple\", \"orange\", \"pear\", \"cherry\"]\n",
    "s = pd.Series([15, 33, 45, 55], index=fruits)\n",
    "p = pd.Series([11, 16, 21, 32], index=fruits)\n",
    "\n",
    "print('s:', s, '\\n', sep='\\n')\n",
    "print('p:', p, '\\n', sep='\\n')\n",
    "print('s + 3:', s + 3, '\\n', sep='\\n')\n",
    "\n",
    "\n",
    "print('s+p:\\n', s + p, '\\n', sep='\\n')\n",
    "print('s-p:\\n', s - p, '\\n', sep='\\n')\n",
    "print('s*p:\\n', s * p, '\\n', sep='\\n')\n",
    "print('s/p:\\n', s / p, '\\n', sep='\\n')\n",
    "print(\"Total=\", sum(s + p))"
   ]
  },
  {
   "cell_type": "code",
   "execution_count": 436,
   "metadata": {},
   "outputs": [
    {
     "name": "stdout",
     "output_type": "stream",
     "text": [
      "orange    43\n",
      "cherry    75\n",
      "dtype: int64 \n",
      "\n",
      "orange    36\n",
      "cherry    58\n",
      "dtype: int64 \n",
      "\n",
      "133 \n",
      "\n",
      "orange    1089\n",
      "pear      2025\n",
      "dtype: int64\n"
     ]
    }
   ],
   "source": [
    "fruits = [\"apple\", \"orange\", \"pear\", \"cherry\"]\n",
    "s = pd.Series([15, 33, 45, 55], index=fruits)\n",
    "p = pd.Series([11, 16, 21, 32], index=fruits)\n",
    "\n",
    "print(s[[1, 3]] + [10, 20], '\\n')\n",
    "print(s[['orange', 'cherry']] + 3, '\\n')\n",
    "print(sum(s[1:]), '\\n')\n",
    "print((s[['orange', 'pear']]) ** 2)"
   ]
  },
  {
   "cell_type": "markdown",
   "metadata": {},
   "source": [
    "# 3. DataFrame: 2-dimensional arrays in Pandas"
   ]
  },
  {
   "cell_type": "markdown",
   "metadata": {},
   "source": [
    "## 3.1 Features of DataFrames \n",
    "\n",
    "- A 2-dimensional labeled data structure with columns of potentially different types. \n",
    "- Like a spreadsheet or SQL table, or a dict of Series objects. \n",
    "- Along with the data, you can optionally pass index (row labels) and columns (column labels) arguments.\n",
    "\n",
    "\n",
    "\n",
    "- It is generally the most commonly used pandas object. \n",
    "- Like Series, DataFrame accepts many different kinds of input.\n",
    "\n",
    "\n",
    "- It is better that data in one column is the same data type, otherwise, the data type is 'object'"
   ]
  },
  {
   "cell_type": "code",
   "execution_count": 437,
   "metadata": {},
   "outputs": [
    {
     "name": "stdout",
     "output_type": "stream",
     "text": [
      "        label  Math  Chinese  Physics  Programming  height\n",
      "John        a    90       85       88           92    1.78\n",
      "Tom         b    80       70       87           60    1.68\n",
      "Richard     c   100       95       98           90    1.70\n",
      "\n",
      "label           object\n",
      "Math             int64\n",
      "Chinese          int64\n",
      "Physics          int64\n",
      "Programming      int64\n",
      "height         float64\n",
      "dtype: object\n",
      "\n",
      "object\n"
     ]
    }
   ],
   "source": [
    "import pandas as pd\n",
    "df1 = pd.DataFrame([['a', 90,85,88,92, 1.78], ['b', 80,70,87,60, 1.68], ['c', 100,95,98,90, 1.7]],columns=['label', 'Math', 'Chinese', 'Physics', 'Programming', 'height'], \n",
    "    index=['John', 'Tom', 'Richard'])\n",
    "print(df1)\n",
    "print()\n",
    "print(df1.dtypes)    # show the names of all columns, use \".dtypes\" to replace \".dtype\"\n",
    "print()\n",
    "print(df1['label'].dtype)\n"
   ]
  },
  {
   "cell_type": "code",
   "execution_count": 438,
   "metadata": {},
   "outputs": [
    {
     "name": "stdout",
     "output_type": "stream",
     "text": [
      "shape: (3, 6) \n",
      "\n",
      "index: Index(['John', 'Tom', 'Richard'], dtype='object') \n",
      "\n",
      "head():\n",
      "        label  Math  Chinese  Physics  Programming  height\n",
      "John        a    90       85       88           92    1.78\n",
      "Tom         b    80       70       87           60    1.68\n",
      "Richard     c   100       95       98           90    1.70\n",
      "\n",
      "\n",
      "<class 'pandas.core.frame.DataFrame'>\n",
      "Index: 3 entries, John to Richard\n",
      "Data columns (total 6 columns):\n",
      " #   Column       Non-Null Count  Dtype  \n",
      "---  ------       --------------  -----  \n",
      " 0   label        3 non-null      object \n",
      " 1   Math         3 non-null      int64  \n",
      " 2   Chinese      3 non-null      int64  \n",
      " 3   Physics      3 non-null      int64  \n",
      " 4   Programming  3 non-null      int64  \n",
      " 5   height       3 non-null      float64\n",
      "dtypes: float64(1), int64(4), object(1)\n",
      "memory usage: 168.0+ bytes\n",
      "head():\n",
      "None\n",
      "\n",
      "\n",
      "describe():\n",
      "        Math    Chinese    Physics  Programming    height\n",
      "count    3.0   3.000000   3.000000     3.000000  3.000000\n",
      "mean    90.0  83.333333  91.000000    80.666667  1.720000\n",
      "std     10.0  12.583057   6.082763    17.925773  0.052915\n",
      "min     80.0  70.000000  87.000000    60.000000  1.680000\n",
      "25%     85.0  77.500000  87.500000    75.000000  1.690000\n",
      "50%     90.0  85.000000  88.000000    90.000000  1.700000\n",
      "75%     95.0  90.000000  93.000000    91.000000  1.740000\n",
      "max    100.0  95.000000  98.000000    92.000000  1.780000\n",
      "\n",
      "\n",
      "len(number of row): 3 \n",
      "\n",
      "df1.dtypes:\n",
      "label           object\n",
      "Math             int64\n",
      "Chinese          int64\n",
      "Physics          int64\n",
      "Programming      int64\n",
      "height         float64\n",
      "dtype: object\n"
     ]
    }
   ],
   "source": [
    "import numpy as np\n",
    "import pandas as pd\n",
    "\n",
    "df1 = pd.DataFrame([['a', 90,85,88,92, 1.78], ['b', 80,70,87,60, 1.68], ['c', 100,95,98,90, 1.7]],\n",
    "                   columns=['label', 'Math', 'Chinese', 'Physics', 'Programming', 'height'], \n",
    "                    index=['John', 'Tom', 'Richard'])\n",
    "print('shape:', df1.shape, '\\n')\n",
    "print('index:', df1.index, '\\n')\n",
    "print(\"head():\", df1.head(), '\\n', sep = '\\n')\n",
    "print(\"head():\", df1.info(), '\\n', sep = '\\n')\n",
    "print('describe():', df1.describe(), '\\n', sep = '\\n')\n",
    "\n",
    "print('len(number of row):', len(df1), '\\n')\n",
    "print('df1.dtypes:', df1.dtypes, sep = '\\n')"
   ]
  },
  {
   "cell_type": "markdown",
   "metadata": {},
   "source": [
    "## 3.2 Establishment of DataFrames"
   ]
  },
  {
   "cell_type": "markdown",
   "metadata": {},
   "source": [
    "### 2 common methods to create DataFrames\n",
    "\n",
    "1. From two-dimensional arrays/lists with indexs (row labels) and columns (column labels)\n",
    "   \n",
    "2. From dictionaries with arrays/lists of the same number of elements\n",
    "  "
   ]
  },
  {
   "cell_type": "code",
   "execution_count": 439,
   "metadata": {},
   "outputs": [
    {
     "name": "stdout",
     "output_type": "stream",
     "text": [
      "         Math  Chinese  Physics  Programming\n",
      "John       90       85       88           92\n",
      "Tom        80       70       87           60\n",
      "Richard   100       95       98           90\n",
      "\n",
      "         Math  Chinese  Physics  Programming\n",
      "John       90       85       88           92\n",
      "Tom        80       70       87           60\n",
      "Richard   100       95       98           90\n"
     ]
    }
   ],
   "source": [
    "# Method 1: Create a DataFrame from two-dimensional arrays/list and indexs (row labels) and columns (column labels)\n",
    "\n",
    "import pandas as pd\n",
    "df1 = pd.DataFrame([[90,85,88,92], [80,70,87,60], [100,95,98,90]], \n",
    "    columns=['Math', 'Chinese', 'Physics', 'Programming'], \n",
    "    index=['John', 'Tom', 'Richard'])\n",
    "\n",
    "datas = [[90,85,88,92], [80,70,87,60], [100,95,98,90]]\n",
    "idx=['John', 'Tom', 'Richard']\n",
    "cl=['Math', 'Chinese', 'Physics', 'Programming']\n",
    "df2 = pd.DataFrame(datas, columns=cl, index=idx)\n",
    "\n",
    "print(df1)\n",
    "print()\n",
    "print(df2)"
   ]
  },
  {
   "cell_type": "code",
   "execution_count": 440,
   "metadata": {},
   "outputs": [
    {
     "name": "stdout",
     "output_type": "stream",
     "text": [
      "                   name  population             city\n",
      "0   Zhongzheng District      159598      Taipei City\n",
      "1      Banqiao District      551452  New Taipei City\n",
      "2      Taoyuan District      441287     Taoyuan City\n",
      "3       Beitun District      275207    Taichung City\n",
      "4        Annan District      192327      Tainan City\n",
      "5       Sanmin District      343203   Kaohsiung City\n",
      "6        Da'an District      309835      Taipei City\n",
      "7       Yonghe District      222531  New Taipei City\n",
      "8         Bade District      198473     Taoyuan City\n",
      "9     Qianzhen District      189623   Kaohsiung City\n",
      "10    Fengshan District      359125   Kaohsiung City\n",
      "11       Xinyi District      225561      Taipei City\n",
      "12     Xindian District      302070  New Taipei City\n",
      "\n",
      "<class 'pandas.core.frame.DataFrame'>\n",
      "RangeIndex: 13 entries, 0 to 12\n",
      "Data columns (total 3 columns):\n",
      " #   Column      Non-Null Count  Dtype \n",
      "---  ------      --------------  ----- \n",
      " 0   name        13 non-null     object\n",
      " 1   population  13 non-null     int64 \n",
      " 2   city        13 non-null     object\n",
      "dtypes: int64(1), object(2)\n",
      "memory usage: 440.0+ bytes\n",
      "None\n"
     ]
    }
   ],
   "source": [
    "# Method 2: Create DataFrames from dictionaries with arrays/lists of the same number of elements\n",
    "\n",
    "import pandas as pd\n",
    "\n",
    "dists = {\"name\": [\"Zhongzheng District\", \"Banqiao District\", \"Taoyuan District\", \"Beitun District\",\n",
    "                   \"Annan District\", \"Sanmin District\", \"Da'an District\", \"Yonghe District\",\n",
    "                   \"Bade District\", \"Qianzhen District\", \"Fengshan District\",\n",
    "                   \"Xinyi District\", \"Xindian District\"],\n",
    "         \"population\": [159598, 551452, 441287, 275207,\n",
    "                        192327, 343203, 309835, 222531,\n",
    "                        198473, 189623, 359125,\n",
    "                        225561, 302070],\n",
    "         \"city\": [\"Taipei City\", \"New Taipei City\", \"Taoyuan City\", \"Taichung City\",\n",
    "                  \"Tainan City\", \"Kaohsiung City\", \"Taipei City\", \"New Taipei City\",\n",
    "                  \"Taoyuan City\", \"Kaohsiung City\", \"Kaohsiung City\",\n",
    "                  \"Taipei City\", \"New Taipei City\"]}\n",
    "df = pd.DataFrame(dists)\n",
    "\n",
    "print(df)\n",
    "\n",
    "print()\n",
    "\n",
    "print(df.info())"
   ]
  },
  {
   "cell_type": "code",
   "execution_count": 441,
   "metadata": {},
   "outputs": [
    {
     "name": "stdout",
     "output_type": "stream",
     "text": [
      "df:\n",
      "                            name  population             city\n",
      "first       Zhongzheng District      159598      Taipei City\n",
      "second         Banqiao District      551452  New Taipei City\n",
      "third          Taoyuan District      441287     Taoyuan City\n",
      "fourth          Beitun District      275207    Taichung City\n",
      "fifth            Annan District      192327      Tainan City\n",
      "sixth           Sanmin District      343203   Kaohsiung City\n",
      "seventh          Da'an District      309835      Taipei City\n",
      "eigth           Yonghe District      222531  New Taipei City\n",
      "ninth             Bade District      198473     Taoyuan City\n",
      "tenth         Qianzhen District      189623   Kaohsiung City\n",
      "eleventh      Fengshan District      359125   Kaohsiung City\n",
      "twelvth          Xinyi District      225561      Taipei City\n",
      "thirteenth     Xindian District      302070  New Taipei City\n",
      "\n",
      "df2:\n",
      "                           name  population             city\n",
      "first       Zhongzheng District      159598      Taipei City\n",
      "second         Banqiao District      551452  New Taipei City\n",
      "third          Taoyuan District      441287     Taoyuan City\n",
      "fourth          Beitun District      275207    Taichung City\n",
      "fifth            Annan District      192327      Tainan City\n",
      "sixth           Sanmin District      343203   Kaohsiung City\n",
      "seventh          Da'an District      309835      Taipei City\n",
      "eigth           Yonghe District      222531  New Taipei City\n",
      "ninth             Bade District      198473     Taoyuan City\n",
      "tenth         Qianzhen District      189623   Kaohsiung City\n",
      "eleventh      Fengshan District      359125   Kaohsiung City\n",
      "twelvth          Xinyi District      225561      Taipei City\n",
      "thirteenth     Xindian District      302070  New Taipei City\n"
     ]
    }
   ],
   "source": [
    "# After creating the DataFrame from dictionaries, add the index label\n",
    "\n",
    "import pandas as pd\n",
    "\n",
    "dists = {\"name\": [\"Zhongzheng District\", \"Banqiao District\", \"Taoyuan District\", \"Beitun District\",\n",
    "                   \"Annan District\", \"Sanmin District\", \"Da'an District\", \"Yonghe District\",\n",
    "                   \"Bade District\", \"Qianzhen District\", \"Fengshan District\",\n",
    "                   \"Xinyi District\", \"Xindian District\"],\n",
    "         \"population\": [159598, 551452, 441287, 275207,\n",
    "                        192327, 343203, 309835, 222531,\n",
    "                        198473, 189623, 359125,\n",
    "                        225561, 302070],\n",
    "         \"city\": [\"Taipei City\", \"New Taipei City\", \"Taoyuan City\", \"Taichung City\",\n",
    "                  \"Tainan City\", \"Kaohsiung City\", \"Taipei City\", \"New Taipei City\",\n",
    "                  \"Taoyuan City\", \"Kaohsiung City\", \"Kaohsiung City\",\n",
    "                  \"Taipei City\", \"New Taipei City\"]}\n",
    "         \n",
    "ordinals =[\"first\", \"second\", \"third\", \"fourth\", \"fifth\",\n",
    "           \"sixth\", \"seventh\", \"eigth\", \"ninth\", \"tenth\",\n",
    "           \"eleventh\", \"twelvth\", \"thirteenth\"]\n",
    "df = pd.DataFrame(dists, index=ordinals)\n",
    "print('df:\\n', df)\n",
    "# df.to_html(\"Ch9_2_1a.html\")\n",
    "\n",
    "df2 = pd.DataFrame(dists)\n",
    "df2.index = ordinals\n",
    "print('\\ndf2:', df2, sep='\\n')"
   ]
  },
  {
   "cell_type": "code",
   "execution_count": 442,
   "metadata": {},
   "outputs": [
    {
     "name": "stdout",
     "output_type": "stream",
     "text": [
      "    0   1   2   3\n",
      "0  53  57  95  74\n",
      "1  51  97  38  15\n",
      "2  64  74  25  85\n",
      "\n",
      "    a   b   c   d\n",
      "A  53  57  95  74\n",
      "B  51  97  38  15\n",
      "C  64  74  25  85\n"
     ]
    }
   ],
   "source": [
    "# Add the index label after building the DataFrame\n",
    "\n",
    "import numpy as np\n",
    "import pandas as pd\n",
    "\n",
    "v = np.random.randint(1, 101, (3,4))# Generate a two-dimensional array of 3*4 integers from 5 to 10 (exclusive)\n",
    "\n",
    "df = pd.DataFrame(v)\n",
    "print(df)\n",
    "print()\n",
    "\n",
    "df.index = list('ABC') # df.index = ('A', 'B', 'C')\n",
    "df.columns = list('abcd')\n",
    "print(df)"
   ]
  },
  {
   "cell_type": "code",
   "execution_count": 443,
   "metadata": {},
   "outputs": [
    {
     "name": "stdout",
     "output_type": "stream",
     "text": [
      "    0   1   2   3\n",
      "0  21  21  66  98\n",
      "1  46  65  51  97\n",
      "2  74   4  37  38\n"
     ]
    }
   ],
   "source": [
    "# When the column (index) and column (row) title is not set, the sequence of 0, 1, 2, ... will be used as the title\n",
    "\n",
    "import numpy as np\n",
    "import pandas as pd\n",
    "\n",
    "v = np.random.randint(1, 101, (3,4))# Generate a two-dimensional array of 3*4 integers from 5 to 10 (exclusive)\n",
    "df = pd.DataFrame(v)\n",
    "\n",
    "print(df)"
   ]
  },
  {
   "cell_type": "code",
   "execution_count": 444,
   "metadata": {},
   "outputs": [
    {
     "name": "stdout",
     "output_type": "stream",
     "text": [
      "     0   1   2   3\n",
      "0   90  85  88  92\n",
      "1   80  70  87  60\n",
      "2  100  95  98  90\n",
      "\n",
      "         Math  Chinese  Physics  Programming\n",
      "John       90       85       88           92\n",
      "Tom        80       70       87           60\n",
      "Richard   100       95       98           90\n",
      "\n",
      "         Math  Algorithm  Physics  Programming\n",
      "Irene      90         85       88           92\n",
      "Tom        80         70       87           60\n",
      "Richard   100         95       98           90\n"
     ]
    }
   ],
   "source": [
    "# Row or column headers can be omitted when creating, and can be set or modified later\n",
    "\n",
    "import pandas as pd\n",
    "df = pd.DataFrame([[90,85,88,92], [80,70,87,60], [100,95,98,90]])\n",
    "print(df)\n",
    "print()\n",
    "\n",
    "idx=['John', 'Tom', 'Richard']\n",
    "cl=['Math', 'Chinese', 'Physics', 'Programming']\n",
    "df.columns=cl\n",
    "df.index=idx\n",
    "print(df)\n",
    "print()\n",
    "\n",
    "idx[0]='Irene'\n",
    "df.index=idx\n",
    "cl[1]='Algorithm'\n",
    "df.columns=cl\n",
    "print(df)"
   ]
  },
  {
   "cell_type": "code",
   "execution_count": 445,
   "metadata": {},
   "outputs": [
    {
     "name": "stdout",
     "output_type": "stream",
     "text": [
      "                   name  population             city\n",
      "0   Zhongzheng District      159598      Taipei City\n",
      "1      Banqiao District      551452  New Taipei City\n",
      "2      Taoyuan District      441287     Taoyuan City\n",
      "3       Beitun District      275207    Taichung City\n",
      "4        Annan District      192327      Tainan City\n",
      "5       Sanmin District      343203   Kaohsiung City\n",
      "6        Da'an District      309835      Taipei City\n",
      "7       Yonghe District      222531  New Taipei City\n",
      "8         Bade District      198473     Taoyuan City\n",
      "9     Qianzhen District      189623   Kaohsiung City\n",
      "10    Fengshan District      359125   Kaohsiung City\n",
      "11       Xinyi District      225561      Taipei City\n",
      "12     Xindian District      302070  New Taipei City\n",
      "\n",
      "shape: (13, 3)\n",
      "\n",
      "index: RangeIndex(start=0, stop=13, step=1)\n",
      "\n",
      "columns: Index(['name', 'population', 'city'], dtype='object')\n",
      "\n",
      "head():\n",
      "                   name  population             city\n",
      "0  Zhongzheng District      159598      Taipei City\n",
      "1     Banqiao District      551452  New Taipei City\n",
      "2     Taoyuan District      441287     Taoyuan City\n",
      "3      Beitun District      275207    Taichung City\n",
      "4       Annan District      192327      Tainan City\n",
      "\n",
      "describe():\n",
      "           population\n",
      "count      13.000000\n",
      "mean   290022.461538\n",
      "std    113031.540213\n",
      "min    159598.000000\n",
      "25%    198473.000000\n",
      "50%    275207.000000\n",
      "75%    343203.000000\n",
      "max    551452.000000\n"
     ]
    }
   ],
   "source": [
    "# View basic information of DataFrame\n",
    "\n",
    "# Save the DataFrame object as HTML and save it to a file\n",
    "import pandas as pd\n",
    "\n",
    "dists = {\"name\": [\"Zhongzheng District\", \"Banqiao District\", \"Taoyuan District\", \"Beitun District\",\n",
    "                   \"Annan District\", \"Sanmin District\", \"Da'an District\", \"Yonghe District\",\n",
    "                   \"Bade District\", \"Qianzhen District\", \"Fengshan District\",\n",
    "                   \"Xinyi District\", \"Xindian District\"],\n",
    "         \"population\": [159598, 551452, 441287, 275207,\n",
    "                        192327, 343203, 309835, 222531,\n",
    "                        198473, 189623, 359125,\n",
    "                        225561, 302070],\n",
    "         \"city\": [\"Taipei City\", \"New Taipei City\", \"Taoyuan City\", \"Taichung City\",\n",
    "                  \"Tainan City\", \"Kaohsiung City\", \"Taipei City\", \"New Taipei City\",\n",
    "                  \"Taoyuan City\", \"Kaohsiung City\", \"Kaohsiung City\",\n",
    "                  \"Taipei City\", \"New Taipei City\"]}\n",
    "df = pd.DataFrame(dists)\n",
    "print(df) # column headers are not aligned with values\n",
    "\n",
    "print('\\nshape:', df.shape)\n",
    "print('\\nindex:', df.index)\n",
    "print('\\ncolumns:', df.columns)\n",
    "print(\"\\nhead():\\n\", df.head())\n",
    "print('\\ndescribe():\\n', df.describe()) # Display the number, average, standard deviation, maximum, minimum, P25, P50, P75 of each column"
   ]
  },
  {
   "cell_type": "markdown",
   "metadata": {},
   "source": [
    "## 3.3 Display DataFrame basic information\n",
    "\n",
    "- shape: display the number of rows (and the number of columns)\n",
    "    - df.shape\n",
    "- index: row labels\n",
    "- columns: column labels (Series does not have this attributes)\n",
    "- info(): Details of DataFrame (Series does not have this method)\n",
    "- describe(): descriptive statistics of the data (in each column)\n",
    "- dtypes: display the data type of every column\n",
    "    - Note: Numpy use dtype\n",
    "- len(Series or DataFrame object): the number of data entries - > is a function, not a method\n"
   ]
  },
  {
   "cell_type": "code",
   "execution_count": 446,
   "metadata": {},
   "outputs": [
    {
     "name": "stdout",
     "output_type": "stream",
     "text": [
      "                   name  population             city\n",
      "0   Zhongzheng District      159598      Taipei City\n",
      "1      Banqiao District      551452  New Taipei City\n",
      "2      Taoyuan District      441287     Taoyuan City\n",
      "3       Beitun District      275207    Taichung City\n",
      "4        Annan District      192327      Tainan City\n",
      "5       Sanmin District      343203   Kaohsiung City\n",
      "6        Da'an District      309835      Taipei City\n",
      "7       Yonghe District      222531  New Taipei City\n",
      "8         Bade District      198473     Taoyuan City\n",
      "9     Qianzhen District      189623   Kaohsiung City\n",
      "10    Fengshan District      359125   Kaohsiung City\n",
      "11       Xinyi District      225561      Taipei City\n",
      "12     Xindian District      302070  New Taipei City\n",
      "\n",
      "shape: (13, 3)\n",
      "\n",
      "index: RangeIndex(start=0, stop=13, step=1)\n",
      "\n",
      "columns: Index(['name', 'population', 'city'], dtype='object')\n",
      "\n",
      "describe():\n",
      "           population\n",
      "count      13.000000\n",
      "mean   290022.461538\n",
      "std    113031.540213\n",
      "min    159598.000000\n",
      "25%    198473.000000\n",
      "50%    275207.000000\n",
      "75%    343203.000000\n",
      "max    551452.000000\n"
     ]
    }
   ],
   "source": [
    "# View basic information of DataFrame\n",
    "\n",
    "# Save the DataFrame object as HTML and save it to a file\n",
    "import pandas as pd\n",
    "\n",
    "dists = {\"name\": [\"Zhongzheng District\", \"Banqiao District\", \"Taoyuan District\", \"Beitun District\",\n",
    "                   \"Annan District\", \"Sanmin District\", \"Da'an District\", \"Yonghe District\",\n",
    "                   \"Bade District\", \"Qianzhen District\", \"Fengshan District\",\n",
    "                   \"Xinyi District\", \"Xindian District\"],\n",
    "         \"population\": [159598, 551452, 441287, 275207,\n",
    "                        192327, 343203, 309835, 222531,\n",
    "                        198473, 189623, 359125,\n",
    "                        225561, 302070],\n",
    "         \"city\": [\"Taipei City\", \"New Taipei City\", \"Taoyuan City\", \"Taichung City\",\n",
    "                  \"Tainan City\", \"Kaohsiung City\", \"Taipei City\", \"New Taipei City\",\n",
    "                  \"Taoyuan City\", \"Kaohsiung City\", \"Kaohsiung City\",\n",
    "                  \"Taipei City\", \"New Taipei City\"]}\n",
    "df = pd.DataFrame(dists)\n",
    "print(df) # column headers are not aligned with values\n",
    "\n",
    "print('\\nshape:', df.shape)\n",
    "print('\\nindex:', df.index)\n",
    "print('\\ncolumns:', df.columns)\n",
    "print('\\ndescribe():\\n', df.describe()) # Display the number, average, standard deviation, maximum, minimum, P25, P50, P75 of each column"
   ]
  },
  {
   "cell_type": "markdown",
   "metadata": {},
   "source": [
    "- The head(n)\n",
    "    - displays the first n records, the default is 5 records\n",
    "- The tail(n)\n",
    "    - displays the last n records, the default is also 5 records"
   ]
  },
  {
   "cell_type": "code",
   "execution_count": 447,
   "metadata": {},
   "outputs": [
    {
     "name": "stdout",
     "output_type": "stream",
     "text": [
      "                  name  population             city\n",
      "0  Zhongzheng District      159598      Taipei City\n",
      "1     Banqiao District      551452  New Taipei City\n",
      "2     Taoyuan District      441287     Taoyuan City\n",
      "3      Beitun District      275207    Taichung City\n",
      "4       Annan District      192327      Tainan City \n",
      "\n",
      "                  name  population             city\n",
      "0  Zhongzheng District      159598      Taipei City\n",
      "1     Banqiao District      551452  New Taipei City\n",
      "2     Taoyuan District      441287     Taoyuan City \n",
      "\n",
      "                 name  population             city\n",
      "8       Bade District      198473     Taoyuan City\n",
      "9   Qianzhen District      189623   Kaohsiung City\n",
      "10  Fengshan District      359125   Kaohsiung City\n",
      "11     Xinyi District      225561      Taipei City\n",
      "12   Xindian District      302070  New Taipei City \n",
      "\n"
     ]
    }
   ],
   "source": [
    "print(df.head(), '\\n') \n",
    "print(df.head(3), '\\n')\n",
    "print(df.tail(), '\\n')"
   ]
  },
  {
   "cell_type": "markdown",
   "metadata": {},
   "source": [
    "## 3.4 Rows, Columns & Index"
   ]
  },
  {
   "cell_type": "markdown",
   "metadata": {},
   "source": [
    "### Order of columns"
   ]
  },
  {
   "cell_type": "code",
   "execution_count": 448,
   "metadata": {},
   "outputs": [
    {
     "name": "stdout",
     "output_type": "stream",
     "text": [
      "Original:\n",
      "                           name  population             city\n",
      "first       Zhongzheng District      159598      Taipei City\n",
      "second         Banqiao District      551452  New Taipei City\n",
      "third          Taoyuan District      441287     Taoyuan City\n",
      "fourth          Beitun District      275207    Taichung City\n",
      "fifth            Annan District      192327      Tainan City\n",
      "sixth           Sanmin District      343203   Kaohsiung City\n",
      "seventh          Da'an District      309835      Taipei City\n",
      "eigth           Yonghe District      222531  New Taipei City\n",
      "ninth             Bade District      198473     Taoyuan City\n",
      "tenth         Qianzhen District      189623   Kaohsiung City\n",
      "eleventh      Fengshan District      359125   Kaohsiung City\n",
      "twelvth          Xinyi District      225561      Taipei City\n",
      "thirteenth     Xindian District      302070  New Taipei City\n",
      "\n",
      "Reset:\n",
      "                           name             city  population\n",
      "first       Zhongzheng District      Taipei City      159598\n",
      "second         Banqiao District  New Taipei City      551452\n",
      "third          Taoyuan District     Taoyuan City      441287\n",
      "fourth          Beitun District    Taichung City      275207\n",
      "fifth            Annan District      Tainan City      192327\n",
      "sixth           Sanmin District   Kaohsiung City      343203\n",
      "seventh          Da'an District      Taipei City      309835\n",
      "eigth           Yonghe District  New Taipei City      222531\n",
      "ninth             Bade District     Taoyuan City      198473\n",
      "tenth         Qianzhen District   Kaohsiung City      189623\n",
      "eleventh      Fengshan District   Kaohsiung City      359125\n",
      "twelvth          Xinyi District      Taipei City      225561\n",
      "thirteenth     Xindian District  New Taipei City      302070\n",
      "\n",
      "                     population    name             city\n",
      "first       Zhongzheng District  159598      Taipei City\n",
      "second         Banqiao District  551452  New Taipei City\n",
      "third          Taoyuan District  441287     Taoyuan City\n",
      "fourth          Beitun District  275207    Taichung City\n",
      "fifth            Annan District  192327      Tainan City\n",
      "sixth           Sanmin District  343203   Kaohsiung City\n",
      "seventh          Da'an District  309835      Taipei City\n",
      "eigth           Yonghe District  222531  New Taipei City\n",
      "ninth             Bade District  198473     Taoyuan City\n",
      "tenth         Qianzhen District  189623   Kaohsiung City\n",
      "eleventh      Fengshan District  359125   Kaohsiung City\n",
      "twelvth          Xinyi District  225561      Taipei City\n",
      "thirteenth     Xindian District  302070  New Taipei City\n"
     ]
    }
   ],
   "source": [
    "# Reassign the column order of DataFrame objects \n",
    "\n",
    "import pandas as pd\n",
    "\n",
    "dists = {\"name\": [\"Zhongzheng District\", \"Banqiao District\", \"Taoyuan District\", \"Beitun District\",\n",
    "                   \"Annan District\", \"Sanmin District\", \"Da'an District\", \"Yonghe District\",\n",
    "                   \"Bade District\", \"Qianzhen District\", \"Fengshan District\",\n",
    "                   \"Xinyi District\", \"Xindian District\"],\n",
    "         \"population\": [159598, 551452, 441287, 275207,\n",
    "                        192327, 343203, 309835, 222531,\n",
    "                        198473, 189623, 359125,\n",
    "                        225561, 302070],\n",
    "         \"city\": [\"Taipei City\", \"New Taipei City\", \"Taoyuan City\", \"Taichung City\",\n",
    "                  \"Tainan City\", \"Kaohsiung City\", \"Taipei City\", \"New Taipei City\",\n",
    "                  \"Taoyuan City\", \"Kaohsiung City\", \"Kaohsiung City\",\n",
    "                  \"Taipei City\", \"New Taipei City\"]}\n",
    "         \n",
    "ordinals =[\"first\", \"second\", \"third\", \"fourth\", \"fifth\",\n",
    "           \"sixth\", \"seventh\", \"eigth\", \"ninth\", \"tenth\",\n",
    "           \"eleventh\", \"twelvth\", \"thirteenth\"]\n",
    "\n",
    "df1 = pd.DataFrame(dists, index=ordinals)\n",
    "print('Original:', df1, sep='\\n')\n",
    "\n",
    "df2 = pd.DataFrame(dists,\n",
    "                  columns = [\"name\", \"city\", \"population\"],\n",
    "                  index=ordinals)\n",
    "\n",
    "print('\\nReset:', df2, sep='\\n')\n",
    "\n",
    "print()\n",
    "\n",
    "df3 = pd.DataFrame(dists, index=ordinals)\n",
    "df3.columns = [\"population\", \"name\", \"city\" ]\n",
    "print(df3)"
   ]
  },
  {
   "cell_type": "markdown",
   "metadata": {},
   "source": [
    "### Transpose rows & columns"
   ]
  },
  {
   "cell_type": "code",
   "execution_count": 449,
   "metadata": {},
   "outputs": [
    {
     "name": "stdout",
     "output_type": "stream",
     "text": [
      "                   name  population             city\n",
      "0   Zhongzheng District      159598      Taipei City\n",
      "1      Banqiao District      551452  New Taipei City\n",
      "2      Taoyuan District      441287     Taoyuan City\n",
      "3       Beitun District      275207    Taichung City\n",
      "4        Annan District      192327      Tainan City\n",
      "5       Sanmin District      343203   Kaohsiung City\n",
      "6        Da'an District      309835      Taipei City\n",
      "7       Yonghe District      222531  New Taipei City\n",
      "8         Bade District      198473     Taoyuan City\n",
      "9     Qianzhen District      189623   Kaohsiung City\n",
      "10    Fengshan District      359125   Kaohsiung City\n",
      "11       Xinyi District      225561      Taipei City\n",
      "12     Xindian District      302070  New Taipei City\n",
      "\n",
      "new columns:\n",
      " RangeIndex(start=0, stop=13, step=1)\n",
      "\n",
      "df.T:\n",
      "                              0                 1                 2   \\\n",
      "name        Zhongzheng District  Banqiao District  Taoyuan District   \n",
      "population               159598            551452            441287   \n",
      "city                Taipei City   New Taipei City      Taoyuan City   \n",
      "\n",
      "                         3               4                5               6   \\\n",
      "name        Beitun District  Annan District  Sanmin District  Da'an District   \n",
      "population           275207          192327           343203          309835   \n",
      "city          Taichung City     Tainan City   Kaohsiung City     Taipei City   \n",
      "\n",
      "                         7              8                  9   \\\n",
      "name        Yonghe District  Bade District  Qianzhen District   \n",
      "population           222531         198473             189623   \n",
      "city        New Taipei City   Taoyuan City     Kaohsiung City   \n",
      "\n",
      "                           10              11                12  \n",
      "name        Fengshan District  Xinyi District  Xindian District  \n",
      "population             359125          225561            302070  \n",
      "city           Kaohsiung City     Taipei City   New Taipei City  \n"
     ]
    }
   ],
   "source": [
    "import pandas as pd\n",
    "\n",
    "dists = {\"name\": [\"Zhongzheng District\", \"Banqiao District\", \"Taoyuan District\", \"Beitun District\",\n",
    "                   \"Annan District\", \"Sanmin District\", \"Da'an District\", \"Yonghe District\",\n",
    "                   \"Bade District\", \"Qianzhen District\", \"Fengshan District\",\n",
    "                   \"Xinyi District\", \"Xindian District\"],\n",
    "         \"population\": [159598, 551452, 441287, 275207,\n",
    "                        192327, 343203, 309835, 222531,\n",
    "                        198473, 189623, 359125,\n",
    "                        225561, 302070],\n",
    "         \"city\": [\"Taipei City\", \"New Taipei City\", \"Taoyuan City\", \"Taichung City\",\n",
    "                  \"Tainan City\", \"Kaohsiung City\", \"Taipei City\", \"New Taipei City\",\n",
    "                  \"Taoyuan City\", \"Kaohsiung City\", \"Kaohsiung City\",\n",
    "                  \"Taipei City\", \"New Taipei City\"]}\n",
    "       \n",
    "df = pd.DataFrame(dists)\n",
    "\n",
    "print(df)\n",
    "print()\n",
    "a = df.T\n",
    "print('new columns:\\n', a.columns)\n",
    "print('\\ndf.T:\\n', a)"
   ]
  },
  {
   "cell_type": "markdown",
   "metadata": {},
   "source": [
    "### Index"
   ]
  },
  {
   "cell_type": "markdown",
   "metadata": {},
   "source": [
    "#### Existed column label as the index"
   ]
  },
  {
   "cell_type": "code",
   "execution_count": 450,
   "metadata": {},
   "outputs": [
    {
     "name": "stdout",
     "output_type": "stream",
     "text": [
      "                                name  population             city\n",
      "Taipei City      Zhongzheng District      159598      Taipei City\n",
      "New Taipei City     Banqiao District      551452  New Taipei City\n",
      "Taoyuan City        Taoyuan District      441287     Taoyuan City\n",
      "Taichung City        Beitun District      275207    Taichung City\n",
      "Tainan City           Annan District      192327      Tainan City\n",
      "Kaohsiung City       Sanmin District      343203   Kaohsiung City\n",
      "Taipei City           Da'an District      309835      Taipei City\n",
      "New Taipei City      Yonghe District      222531  New Taipei City\n",
      "Taoyuan City           Bade District      198473     Taoyuan City\n",
      "Kaohsiung City     Qianzhen District      189623   Kaohsiung City\n",
      "Kaohsiung City     Fengshan District      359125   Kaohsiung City\n",
      "Taipei City           Xinyi District      225561      Taipei City\n",
      "New Taipei City     Xindian District      302070  New Taipei City\n",
      "\n",
      "                                name  population\n",
      "Taipei City      Zhongzheng District      159598\n",
      "New Taipei City     Banqiao District      551452\n",
      "Taoyuan City        Taoyuan District      441287\n",
      "Taichung City        Beitun District      275207\n",
      "Tainan City           Annan District      192327\n",
      "Kaohsiung City       Sanmin District      343203\n",
      "Taipei City           Da'an District      309835\n",
      "New Taipei City      Yonghe District      222531\n",
      "Taoyuan City           Bade District      198473\n",
      "Kaohsiung City     Qianzhen District      189623\n",
      "Kaohsiung City     Fengshan District      359125\n",
      "Taipei City           Xinyi District      225561\n",
      "New Taipei City     Xindian District      302070\n"
     ]
    }
   ],
   "source": [
    "# Use the existing field as the index, there are two ways, whether the field is repeated or not is not the same\n",
    "\n",
    "import pandas as pd\n",
    "\n",
    "dists = {\"name\": [\"Zhongzheng District\", \"Banqiao District\", \"Taoyuan District\", \"Beitun District\",\n",
    "                   \"Annan District\", \"Sanmin District\", \"Da'an District\", \"Yonghe District\",\n",
    "                   \"Bade District\", \"Qianzhen District\", \"Fengshan District\",\n",
    "                   \"Xinyi District\", \"Xindian District\"],\n",
    "         \"population\": [159598, 551452, 441287, 275207,\n",
    "                        192327, 343203, 309835, 222531,\n",
    "                        198473, 189623, 359125,\n",
    "                        225561, 302070],\n",
    "         \"city\": [\"Taipei City\", \"New Taipei City\", \"Taoyuan City\", \"Taichung City\",\n",
    "                  \"Tainan City\", \"Kaohsiung City\", \"Taipei City\", \"New Taipei City\",\n",
    "                  \"Taoyuan City\", \"Kaohsiung City\", \"Kaohsiung City\",\n",
    "                  \"Taipei City\", \"New Taipei City\"]}\n",
    "                \n",
    "df = pd.DataFrame(dists, index=dists['city']) \n",
    "# The existed city column is retained, and a copy of the city column is used as index\n",
    "print(df)\n",
    "print()\n",
    "\n",
    "df = pd.DataFrame(dists, columns = ['name', 'population'], index=dists['city']) \n",
    "# Do not use the existed city column, use the city column as index\n",
    "print(df)"
   ]
  },
  {
   "cell_type": "code",
   "execution_count": 451,
   "metadata": {},
   "outputs": [
    {
     "name": "stdout",
     "output_type": "stream",
     "text": [
      "         Math  Chinese  Physics  Programming\n",
      "John       90       85       88           92\n",
      "Tom        80       70       87           60\n",
      "Richard   100       95       98           90\n",
      "Rebecca    80       80       80           80\n"
     ]
    }
   ],
   "source": [
    "# There is no name for the index\n",
    "\n",
    "import pandas as pd\n",
    "df = pd.DataFrame([[90,85,88,92], [80,70,87,60], [100,95,98,90], [80,80,80,80]], \n",
    "    columns=['Math', 'Chinese', 'Physics', 'Programming'], \n",
    "    index=['John', 'Tom', 'Richard', 'Rebecca'])\n",
    "print(df)"
   ]
  },
  {
   "cell_type": "code",
   "execution_count": 452,
   "metadata": {},
   "outputs": [
    {
     "name": "stdout",
     "output_type": "stream",
     "text": [
      "         Math  Physics  Programming\n",
      "Chinese                            \n",
      "85         90       88           92\n",
      "70         80       87           60\n",
      "95        100       98           90\n",
      "80         80       80           80\n"
     ]
    }
   ],
   "source": [
    "# df.set_index( )\n",
    "# There is a name for the index \n",
    "\n",
    "df2 = df.set_index(\"Chinese\")\n",
    "print(df2)"
   ]
  },
  {
   "cell_type": "code",
   "execution_count": 453,
   "metadata": {},
   "outputs": [
    {
     "name": "stdout",
     "output_type": "stream",
     "text": [
      "                   name  population             city\n",
      "0   Zhongzheng District      159598      Taipei City\n",
      "1      Banqiao District      551452  New Taipei City\n",
      "2      Taoyuan District      441287     Taoyuan City\n",
      "3       Beitun District      275207    Taichung City\n",
      "4        Annan District      192327      Tainan City\n",
      "5       Sanmin District      343203   Kaohsiung City\n",
      "6        Da'an District      309835      Taipei City\n",
      "7       Yonghe District      222531  New Taipei City\n",
      "8         Bade District      198473     Taoyuan City\n",
      "9     Qianzhen District      189623   Kaohsiung City\n",
      "10    Fengshan District      359125   Kaohsiung City\n",
      "11       Xinyi District      225561      Taipei City\n",
      "12     Xindian District      302070  New Taipei City\n"
     ]
    }
   ],
   "source": [
    "import pandas as pd\n",
    "\n",
    "dists = {\"name\": [\"Zhongzheng District\", \"Banqiao District\", \"Taoyuan District\", \"Beitun District\",\n",
    "                   \"Annan District\", \"Sanmin District\", \"Da'an District\", \"Yonghe District\",\n",
    "                   \"Bade District\", \"Qianzhen District\", \"Fengshan District\",\n",
    "                   \"Xinyi District\", \"Xindian District\"],\n",
    "         \"population\": [159598, 551452, 441287, 275207,\n",
    "                        192327, 343203, 309835, 222531,\n",
    "                        198473, 189623, 359125,\n",
    "                        225561, 302070],\n",
    "         \"city\": [\"Taipei City\", \"New Taipei City\", \"Taoyuan City\", \"Taichung City\",\n",
    "                  \"Tainan City\", \"Kaohsiung City\", \"Taipei City\", \"New Taipei City\",\n",
    "                  \"Taoyuan City\", \"Kaohsiung City\", \"Kaohsiung City\",\n",
    "                  \"Taipei City\", \"New Taipei City\"]}\n",
    "df_dist = pd.DataFrame(dists)\n",
    "\n",
    "print(df_dist)"
   ]
  },
  {
   "cell_type": "code",
   "execution_count": 454,
   "metadata": {},
   "outputs": [
    {
     "name": "stdout",
     "output_type": "stream",
     "text": [
      "                   name  population             city\n",
      "12     Xindian District      302070  New Taipei City\n",
      "11       Xinyi District      225561      Taipei City\n",
      "10    Fengshan District      359125   Kaohsiung City\n",
      "9     Qianzhen District      189623   Kaohsiung City\n",
      "8         Bade District      198473     Taoyuan City\n",
      "7       Yonghe District      222531  New Taipei City\n",
      "6        Da'an District      309835      Taipei City\n",
      "5       Sanmin District      343203   Kaohsiung City\n",
      "4        Annan District      192327      Tainan City\n",
      "3       Beitun District      275207    Taichung City\n",
      "2      Taoyuan District      441287     Taoyuan City\n",
      "1      Banqiao District      551452  New Taipei City\n",
      "0   Zhongzheng District      159598      Taipei City\n"
     ]
    }
   ],
   "source": [
    "# sort by index\n",
    "\n",
    "df_dist.sort_index(ascending=False, inplace=True)  \n",
    "print(df_dist)"
   ]
  },
  {
   "cell_type": "code",
   "execution_count": 455,
   "metadata": {},
   "outputs": [
    {
     "name": "stdout",
     "output_type": "stream",
     "text": [
      "                   name  population             city\n",
      "0   Zhongzheng District      159598      Taipei City\n",
      "1      Banqiao District      551452  New Taipei City\n",
      "2      Taoyuan District      441287     Taoyuan City\n",
      "3       Beitun District      275207    Taichung City\n",
      "4        Annan District      192327      Tainan City\n",
      "5       Sanmin District      343203   Kaohsiung City\n",
      "6        Da'an District      309835      Taipei City\n",
      "7       Yonghe District      222531  New Taipei City\n",
      "8         Bade District      198473     Taoyuan City\n",
      "9     Qianzhen District      189623   Kaohsiung City\n",
      "10    Fengshan District      359125   Kaohsiung City\n",
      "11       Xinyi District      225561      Taipei City\n",
      "12     Xindian District      302070  New Taipei City\n"
     ]
    }
   ],
   "source": [
    "import pandas as pd\n",
    "\n",
    "dists = {\"name\": [\"Zhongzheng District\", \"Banqiao District\", \"Taoyuan District\", \"Beitun District\",\n",
    "                   \"Annan District\", \"Sanmin District\", \"Da'an District\", \"Yonghe District\",\n",
    "                   \"Bade District\", \"Qianzhen District\", \"Fengshan District\",\n",
    "                   \"Xinyi District\", \"Xindian District\"],\n",
    "         \"population\": [159598, 551452, 441287, 275207,\n",
    "                        192327, 343203, 309835, 222531,\n",
    "                        198473, 189623, 359125,\n",
    "                        225561, 302070],\n",
    "         \"city\": [\"Taipei City\", \"New Taipei City\", \"Taoyuan City\", \"Taichung City\",\n",
    "                  \"Tainan City\", \"Kaohsiung City\", \"Taipei City\", \"New Taipei City\",\n",
    "                  \"Taoyuan City\", \"Kaohsiung City\", \"Kaohsiung City\",\n",
    "                  \"Taipei City\", \"New Taipei City\"]}\n",
    "df_dist = pd.DataFrame(dists, index = range(13))\n",
    "\n",
    "print(df_dist)"
   ]
  },
  {
   "cell_type": "code",
   "execution_count": 456,
   "metadata": {
    "lang": "zh-tw"
   },
   "outputs": [
    {
     "name": "stdout",
     "output_type": "stream",
     "text": [
      "                           name             city\n",
      "population                                      \n",
      "159598      Zhongzheng District      Taipei City\n",
      "551452         Banqiao District  New Taipei City\n",
      "441287         Taoyuan District     Taoyuan City\n",
      "275207          Beitun District    Taichung City\n",
      "192327           Annan District      Tainan City\n",
      "\n",
      "inplace=False:\n",
      "df2.head():\n",
      "                           name             city\n",
      "population                                      \n",
      "159598      Zhongzheng District      Taipei City\n",
      "551452         Banqiao District  New Taipei City\n",
      "441287         Taoyuan District     Taoyuan City\n",
      "275207          Beitun District    Taichung City\n",
      "192327           Annan District      Tainan City \n",
      "\n",
      "\n",
      "df3.head():\n",
      "                         name             city\n",
      "population                                    \n",
      "551452       Banqiao District  New Taipei City\n",
      "441287       Taoyuan District     Taoyuan City\n",
      "359125      Fengshan District   Kaohsiung City\n",
      "343203        Sanmin District   Kaohsiung City\n",
      "309835         Da'an District      Taipei City \n",
      "\n",
      "\n",
      "inplace=False:\n",
      "df2.head():\n",
      "                         name             city\n",
      "population                                    \n",
      "551452       Banqiao District  New Taipei City\n",
      "441287       Taoyuan District     Taoyuan City\n",
      "359125      Fengshan District   Kaohsiung City\n",
      "343203        Sanmin District   Kaohsiung City\n",
      "309835         Da'an District      Taipei City \n",
      "\n",
      "\n",
      "df3:\n",
      "\n",
      "None \n",
      "\n"
     ]
    }
   ],
   "source": [
    "# Sort by index value\n",
    "# ascending=True ==> Sort from smallest to largest\n",
    "# inplace=True   ==> DataFrame itself will be modified\n",
    "\n",
    "df2 = df_dist.set_index(\"population\")  # 設定排序的參照欄位\n",
    "print(df2.head())\n",
    "\n",
    "\n",
    "df3 = df2.sort_index(ascending=False, inplace=False)  \n",
    "# return a sorted DataFrame, but itself does not change\n",
    "\n",
    "print('\\ninplace=False:\\ndf2.head():')\n",
    "print(df2.head(), '\\n')\n",
    "print('\\ndf3.head():')\n",
    "print(df3.head(), '\\n')\n",
    "\n",
    "\n",
    "df3 = df2.sort_index(ascending=False, inplace=True)  \n",
    "# return None, but itself changes\n",
    "\n",
    "print('\\ninplace=False:\\ndf2.head():')\n",
    "print(df2.head(), '\\n')\n",
    "print('\\ndf3:\\n')\n",
    "print(df3, '\\n')"
   ]
  },
  {
   "cell_type": "markdown",
   "metadata": {},
   "source": [
    "# 4. Access elements in DataFrames"
   ]
  },
  {
   "cell_type": "markdown",
   "metadata": {},
   "source": [
    "## 4.1 From Rows & Columns"
   ]
  },
  {
   "cell_type": "markdown",
   "metadata": {},
   "source": [
    "1. df.Column_Label\n",
    "2. df[ ]\n",
    "3. df.loc[ ]\n",
    "    - recommended\n",
    "4. df.iloc[ ]  \n",
    "    - recommended\n",
    "3. df.values[ ]\n",
    "    - recommended"
   ]
  },
  {
   "cell_type": "code",
   "execution_count": 457,
   "metadata": {},
   "outputs": [
    {
     "name": "stdout",
     "output_type": "stream",
     "text": [
      "         Math  Chinese  Physics  Programming\n",
      "John       90       85       88           92\n",
      "Tom        80       70       87           60\n",
      "Richard   100       95       98           90\n",
      "Rebecca    80       80       80           80\n"
     ]
    }
   ],
   "source": [
    "import pandas as pd\n",
    "df = pd.DataFrame([[90,85,88,92], [80,70,87,60], [100,95,98,90], [80,80,80,80]], \n",
    "    columns=['Math', 'Chinese', 'Physics', 'Programming'], \n",
    "    index=['John', 'Tom', 'Richard', 'Rebecca'])\n",
    "print(df)"
   ]
  },
  {
   "cell_type": "markdown",
   "metadata": {},
   "source": [
    "### Method 1:\n",
    "\n",
    "#### - df.Column_Label"
   ]
  },
  {
   "cell_type": "code",
   "execution_count": 458,
   "metadata": {},
   "outputs": [
    {
     "name": "stdout",
     "output_type": "stream",
     "text": [
      "John       85\n",
      "Tom        70\n",
      "Richard    95\n",
      "Rebecca    80\n",
      "Name: Chinese, dtype: int64\n"
     ]
    }
   ],
   "source": [
    "print(df.Chinese)    # without \" \""
   ]
  },
  {
   "cell_type": "markdown",
   "metadata": {},
   "source": [
    "### Method 2:\n",
    "\n",
    "#### - df [ ]\n",
    "- df ['Row_Label']\n",
    "    - return a Series object\n",
    "- df [Row_Label List]\n",
    "    - df [['Row_Label1', 'Row_Label2',...]]\n",
    "        - return a DataFrame object  \n",
    "    \n",
    "    \n",
    "- df [Column slice]\n",
    "    - df['Started_Column_Label': 'Ended_Column_Label']_ \n",
    "        - return a DataFrame object\n",
    "    - df[Started_Column_Index: Ended_Column_Label]\n",
    "        - return a DataFrame object\n",
    "\n",
    "- df [Column][Row]\n",
    "    - Combine the above \n",
    "    - df[Column Slice][Row_Label List]\n",
    "    - df[Column_Slice][Row_Index_Value List]"
   ]
  },
  {
   "cell_type": "code",
   "execution_count": 459,
   "metadata": {},
   "outputs": [],
   "source": [
    "import pandas as pd\n",
    "df = pd.DataFrame([[90,85,88,92], [80,70,87,60], [100,95,98,90], [80,80,80,80]], \n",
    "    columns=['Math', 'Chinese', 'Physics', 'Programming'], \n",
    "    index=['John', 'Tom', 'Rebecca', 'Richard'])\n",
    "\n",
    "v = np.random.randint(1, 101, (6,6))# Generate a two-dimensional array of 3*4 integers from 5 to 10 (exclusive)\n",
    "df3 = pd.DataFrame(v)\n",
    "\n"
   ]
  },
  {
   "cell_type": "markdown",
   "metadata": {},
   "source": [
    "#### df[Row_Label]\n",
    "#### df[Row_Label List]\n",
    "    - df[[Row_Name1, Row_Name2,...]]"
   ]
  },
  {
   "cell_type": "code",
   "execution_count": 460,
   "metadata": {},
   "outputs": [
    {
     "name": "stdout",
     "output_type": "stream",
     "text": [
      "         Math  Chinese  Physics  Programming\n",
      "John       90       85       88           92\n",
      "Tom        80       70       87           60\n",
      "Rebecca   100       95       98           90\n",
      "Richard    80       80       80           80 \n",
      "\n",
      "df['Math'] ->\n",
      "John        90\n",
      "Tom         80\n",
      "Rebecca    100\n",
      "Richard     80\n",
      "Name: Math, dtype: int64\n",
      "\n",
      "type(df['Math']): <class 'pandas.core.series.Series'>\n",
      "\n",
      "df[['Math', 'Physics']] ->\n",
      "         Math  Physics\n",
      "John       90       88\n",
      "Tom        80       87\n",
      "Rebecca   100       98\n",
      "Richard    80       80\n",
      "\n",
      "type(df[['Math', 'Physics']]): <class 'pandas.core.frame.DataFrame'>\n"
     ]
    }
   ],
   "source": [
    "# df[Row_Name]\n",
    "# df[[Row_Name1, Row_Name2,...]]\n",
    "\n",
    "print(df, '\\n')\n",
    "print(\"df['Math'] ->\", df['Math'], sep='\\n')\n",
    "print(\"\\ntype(df['Math']):\", type(df['Math']))\n",
    "\n",
    "print(\"\\ndf[['Math', 'Physics']] ->\", df[['Math', 'Physics']], sep='\\n')\n",
    "print(\"\\ntype(df[['Math', 'Physics']]):\", type(df[['Math', 'Physics']]))\n"
   ]
  },
  {
   "cell_type": "markdown",
   "metadata": {},
   "source": [
    "#### - df [Column slice]\n",
    "- df['Started_Column_Label': 'Ended_Column_Label']\n",
    "    \n",
    "- df[Started_Column_Index: Ended_Column_index]   "
   ]
  },
  {
   "cell_type": "code",
   "execution_count": 461,
   "metadata": {},
   "outputs": [
    {
     "name": "stdout",
     "output_type": "stream",
     "text": [
      "\n",
      "df['Tom': 'Richard'] ->\n",
      "         Math  Chinese  Physics  Programming\n",
      "Tom        80       70       87           60\n",
      "Rebecca   100       95       98           90\n",
      "Richard    80       80       80           80\n",
      "\n",
      "type(df['Tom': 'Richard']): <class 'pandas.core.frame.DataFrame'>\n",
      "\n",
      "df[1: 2] ->\n",
      "     Math  Chinese  Physics  Programming\n",
      "Tom    80       70       87           60\n",
      "\n",
      "type([1: 2]): <class 'pandas.core.frame.DataFrame'>\n",
      "\n",
      "df[1:] ->\n",
      "         Math  Chinese  Physics  Programming\n",
      "Tom        80       70       87           60\n",
      "Rebecca   100       95       98           90\n",
      "Richard    80       80       80           80\n",
      "\n",
      "type([1:]): <class 'pandas.core.frame.DataFrame'>\n"
     ]
    }
   ],
   "source": [
    "# df['Started_Column_Label': 'Ended_Column_Label']\n",
    "    # exclude Ended_Column\n",
    "# df[Started_Column_Index: Ended_Column_index]     \n",
    "    # Note: include Ended_Column\n",
    "\n",
    "print(\"\\ndf['Tom': 'Richard'] ->\", df['Tom': 'Richard'], sep='\\n')\n",
    "print(\"\\ntype(df['Tom': 'Richard']):\", type(df['Tom': 'Richard']))\n",
    "\n",
    "print(\"\\ndf[1: 2] ->\", df[1: 2], sep='\\n')\n",
    "print(\"\\ntype([1: 2]):\", type(df[1: 2]))\n",
    "\n",
    "print(\"\\ndf[1:] ->\", df[1:], sep='\\n')\n",
    "print(\"\\ntype([1:]):\", type(df[1:]))"
   ]
  },
  {
   "cell_type": "markdown",
   "metadata": {},
   "source": [
    "#### df[Column][Row]"
   ]
  },
  {
   "cell_type": "code",
   "execution_count": 462,
   "metadata": {},
   "outputs": [
    {
     "name": "stdout",
     "output_type": "stream",
     "text": [
      "df['Math']['Richard'] ->\n",
      "80\n",
      "\n",
      "type(df['Math']['Richard']): <class 'numpy.int64'>\n",
      "\n",
      "df[['Math', 'Chinese']][1:] ->\n",
      "         Math  Chinese\n",
      "Tom        80       70\n",
      "Rebecca   100       95\n",
      "Richard    80       80\n",
      "\n",
      "df[['Math', 'Programming']][1:3] ->\n",
      "         Math  Programming\n",
      "Tom        80           60\n",
      "Rebecca   100           90\n",
      "\n",
      "type(df[['Math', 'Programming']][1:3]) ->\n",
      "<class 'pandas.core.frame.DataFrame'>\n",
      "\n",
      "df[['Math', 'Programming']]['Tom':'Richard'] ->\n",
      "         Math  Programming\n",
      "Tom        80           60\n",
      "Rebecca   100           90\n",
      "Richard    80           80\n",
      "\n",
      "type(df[['Math', 'Programming']]['Tom':'Richard']) ->\n",
      "<class 'pandas.core.frame.DataFrame'>\n"
     ]
    }
   ],
   "source": [
    "# df[Column][Row]\n",
    "\n",
    "print(\"df['Math']['Richard'] ->\", df['Math']['Richard'], sep='\\n')\n",
    "print(\"\\ntype(df['Math']['Richard']):\", type(df['Math']['Richard']))    # numpy.int64\n",
    "\n",
    "print(\"\\ndf[['Math', 'Chinese']][1:] ->\", df[['Math', 'Chinese']][1:], sep='\\n')\n",
    "\n",
    "print(\"\\ndf[['Math', 'Programming']][1:3] ->\", df[['Math', 'Programming']][1:3], sep='\\n')   # exclude column 3\n",
    "\n",
    "print(\"\\ntype(df[['Math', 'Programming']][1:3]) ->\", type(df[['Math', 'Programming']][1:3]), sep='\\n')\n",
    "\n",
    "print(\"\\ndf[['Math', 'Programming']]['Tom':'Richard'] ->\", df[['Math', 'Programming']]['Tom':'Richard'], sep='\\n')   # include column 2\n",
    "\n",
    "print(\"\\ntype(df[['Math', 'Programming']]['Tom':'Richard']) ->\", type(df[['Math', 'Programming']]['Tom':'Richard']), sep='\\n')"
   ]
  },
  {
   "cell_type": "code",
   "execution_count": 463,
   "metadata": {},
   "outputs": [
    {
     "name": "stdout",
     "output_type": "stream",
     "text": [
      "         Math  Programming\n",
      "Tom        80           60\n",
      "Rebecca   100           90\n",
      "Richard    80           80\n",
      "\n",
      "         Math  Programming\n",
      "Tom        80           60\n",
      "Rebecca   100           90\n"
     ]
    }
   ],
   "source": [
    "print(df[['Math', 'Programming']]['Tom':'Richard'], sep='\\n')\n",
    "print()\n",
    "print(df[['Math', 'Programming']][1:3], sep='\\n')"
   ]
  },
  {
   "cell_type": "markdown",
   "metadata": {},
   "source": [
    "### Method 3\n",
    "\n",
    "- df.iloc[Row_Index_Number]\n",
    "    - return one Series \n",
    "    \n",
    "\n",
    "- df.iloc[Row_Index_Number, Column_Index_Number]\n",
    "    - return one element\n",
    "\n",
    "\n",
    "- df.iloc[Row_Index Slice, Column_Index Slice]\n",
    "    - df.iloc[Started_Row_Index:Ended_Row_Index, Started_Column_Index: Ended_Column_Index]\n",
    "    - df.iloc[Started_Row_Index:Ended_Row_Index: Step, Started_Column_Index: Ended_Column_Index: Step]\n",
    "   \n",
    "\n",
    "- df.iloc[Row_Index List, Column_Index List]\n",
    "    - df.iloc[[Row_Index, Row_Index,...], [Column_Index, Column_Index,...]]\n",
    "\n",
    "\n",
    "- df.iloc[Row Boolean Array, Column_Boolean Array]"
   ]
  },
  {
   "cell_type": "code",
   "execution_count": 464,
   "metadata": {},
   "outputs": [],
   "source": [
    "import pandas as pd\n",
    "df = pd.DataFrame([[90,85,88,92], [80,70,87,60], [100,95,98,90], [80,80,80,80]], \n",
    "    columns=['Math', 'Chinese', 'Physics', 'Programming'], \n",
    "    index=['John', 'Tom', 'Rebecca', 'Richard'])\n",
    "\n",
    "v = np.random.randint(1, 101, (6,6))# Generate a two-dimensional array of 3*4 integers from 5 to 10 (exclusive)\n",
    "df3 = pd.DataFrame(v)"
   ]
  },
  {
   "cell_type": "code",
   "execution_count": 465,
   "metadata": {},
   "outputs": [
    {
     "name": "stdout",
     "output_type": "stream",
     "text": [
      "         Math  Chinese  Physics  Programming\n",
      "John       90       85       88           92\n",
      "Tom        80       70       87           60\n",
      "Rebecca   100       95       98           90\n",
      "Richard    80       80       80           80 \n",
      "\n",
      "Math           80\n",
      "Chinese        70\n",
      "Physics        87\n",
      "Programming    60\n",
      "Name: Tom, dtype: int64 \n",
      "\n",
      "<class 'pandas.core.series.Series'> \n",
      "\n"
     ]
    }
   ],
   "source": [
    "# df.iloc[Row_Index_Number]\n",
    "#   return one Series\n",
    "\n",
    "print(df, '\\n')\n",
    "\n",
    "print(df.iloc[1], '\\n')  \n",
    "print(type(df.iloc[1]), '\\n')"
   ]
  },
  {
   "cell_type": "code",
   "execution_count": 466,
   "metadata": {},
   "outputs": [
    {
     "name": "stdout",
     "output_type": "stream",
     "text": [
      "         Math  Chinese  Physics  Programming\n",
      "John       90       85       88           92\n",
      "Tom        80       70       87           60\n",
      "Rebecca   100       95       98           90\n",
      "Richard    80       80       80           80 \n",
      "\n",
      "         Math  Chinese  Physics  Programming\n",
      "Tom        80       70       87           60\n",
      "Rebecca   100       95       98           90 \n",
      "\n",
      "<class 'pandas.core.frame.DataFrame'> \n",
      "\n"
     ]
    }
   ],
   "source": [
    "# df.iloc[Row_Index Slice]\n",
    "#   return one Series\n",
    "\n",
    "print(df, '\\n')\n",
    "\n",
    "print(df.iloc[1:3], '\\n')  \n",
    "print(type(df.iloc[1:3]), '\\n')"
   ]
  },
  {
   "cell_type": "code",
   "execution_count": 467,
   "metadata": {},
   "outputs": [
    {
     "name": "stdout",
     "output_type": "stream",
     "text": [
      "         Math  Chinese  Physics  Programming\n",
      "John       90       85       88           92\n",
      "Tom        80       70       87           60\n",
      "Rebecca   100       95       98           90\n",
      "Richard    80       80       80           80 \n",
      "\n",
      "         Math  Chinese  Physics  Programming\n",
      "John       90       85       88           92\n",
      "Tom        80       70       87           60\n",
      "Richard    80       80       80           80 \n",
      "\n",
      "<class 'pandas.core.frame.DataFrame'> \n",
      "\n"
     ]
    }
   ],
   "source": [
    "# df.iloc[Row_Index list]\n",
    "#   return one Series\n",
    "\n",
    "print(df, '\\n')\n",
    "\n",
    "print(df.iloc[[0, 1, 3]], '\\n')     # double []\n",
    "print(type(df.iloc[[0, 1, 3]]), '\\n')"
   ]
  },
  {
   "cell_type": "code",
   "execution_count": 468,
   "metadata": {
    "scrolled": true
   },
   "outputs": [
    {
     "name": "stdout",
     "output_type": "stream",
     "text": [
      "         Math  Chinese  Physics  Programming\n",
      "John       90       85       88           92\n",
      "Tom        80       70       87           60\n",
      "Rebecca   100       95       98           90\n",
      "Richard    80       80       80           80 \n",
      "\n",
      "60 \n",
      "\n",
      "<class 'numpy.int64'> \n",
      "\n"
     ]
    }
   ],
   "source": [
    "# df.iloc[Row_Index_Number, Column_Index_Number]\n",
    "#   return one element\n",
    "\n",
    "print(df, '\\n')\n",
    "\n",
    "print(df.iloc[1, 3], '\\n')  # row the element on the 2nd row, 4th column\n",
    "print(type(df.iloc[1,3]), '\\n')"
   ]
  },
  {
   "cell_type": "code",
   "execution_count": 469,
   "metadata": {},
   "outputs": [
    {
     "name": "stdout",
     "output_type": "stream",
     "text": [
      "         Math  Chinese  Physics  Programming\n",
      "John       90       85       88           92\n",
      "Tom        80       70       87           60\n",
      "Rebecca   100       95       98           90\n",
      "Richard    80       80       80           80 \n",
      "\n",
      "\n",
      "df.iloc[1:3,1:]:\n",
      "         Chinese  Physics  Programming\n",
      "Tom           70       87           60\n",
      "Rebecca       95       98           90\n",
      "\n",
      "type(df.iloc[1:3,1:]): <class 'pandas.core.frame.DataFrame'>\n",
      "\n",
      "df.iloc[1:3,::2]:\n",
      "         Math  Physics\n",
      "Tom        80       87\n",
      "Rebecca   100       98\n",
      "\n",
      "type(df.iloc[1:3,::2]): <class 'pandas.core.frame.DataFrame'>\n",
      "\n",
      "df.iloc[1:-1,:]:\n",
      "         Math  Chinese  Physics  Programming\n",
      "Tom        80       70       87           60\n",
      "Rebecca   100       95       98           90\n",
      "\n",
      "type(df.iloc[1:-1,:]): <class 'pandas.core.frame.DataFrame'>\n",
      "\n",
      "df.iloc[1:-1]:\n",
      "         Math  Chinese  Physics  Programming\n",
      "Tom        80       70       87           60\n",
      "Rebecca   100       95       98           90\n",
      "\n",
      "type(df.iloc[1:-1]): <class 'pandas.core.frame.DataFrame'>\n"
     ]
    }
   ],
   "source": [
    "# df.iloc[Row_Index Slice, Column_Index Slice]\n",
    "#    df.iloc[Started_Row_Index:Ended_Row_Index, Started_Column_Index: Ended_Column_Index]\n",
    "#    df.iloc[Started_Row_Index:Ended_Row_Index: Step, Started_Column_Index: Ended_Column_Index: Step]\n",
    "\n",
    "print(df, '\\n')\n",
    "\n",
    "print('\\ndf.iloc[1:3,1:]:', df.iloc[1:3,1:], sep='\\n')   # exclude raw 3\n",
    "print('\\ntype(df.iloc[1:3,1:]):', type(df.iloc[1:3,1:]))\n",
    "\n",
    "print('\\ndf.iloc[1:3,::2]:', df.iloc[1:3,::2], sep='\\n')   # exclude raw 3\n",
    "print('\\ntype(df.iloc[1:3,::2]):', type(df.iloc[1:3,::2]))\n",
    "\n",
    "print('\\ndf.iloc[1:-1,:]:', df.iloc[1:-1,:], sep='\\n')   # exclude raw 3\n",
    "print('\\ntype(df.iloc[1:-1,:]):', type(df.iloc[1:-1,:]))\n",
    "\n",
    "print('\\ndf.iloc[1:-1]:', df.iloc[1:-1], sep='\\n')   # exclude raw 3\n",
    "print('\\ntype(df.iloc[1:-1]):', type(df.iloc[1:-1]))"
   ]
  },
  {
   "cell_type": "code",
   "execution_count": 470,
   "metadata": {},
   "outputs": [
    {
     "name": "stdout",
     "output_type": "stream",
     "text": [
      "         Math  Chinese  Physics  Programming\n",
      "John       90       85       88           92\n",
      "Tom        80       70       87           60\n",
      "Rebecca   100       95       98           90\n",
      "Richard    80       80       80           80 \n",
      "\n",
      "\n",
      "df.iloc[[1,3],1:]:\n",
      "         Chinese  Physics  Programming\n",
      "Tom           70       87           60\n",
      "Richard       80       80           80\n",
      "\n",
      "type(df.ilocc[[1,3],1:]): <class 'pandas.core.frame.DataFrame'>\n",
      "\n",
      "df.iloc[[1,3],[0, 2]]:\n",
      "         Math  Physics\n",
      "Tom        80       87\n",
      "Richard    80       80\n",
      "\n",
      "type(df.iloc[[1,3],[0, 2]]):\n",
      "<class 'pandas.core.frame.DataFrame'>\n",
      "\n",
      "df.iloc[[1,3],1::2]:\n",
      "         Chinese  Programming\n",
      "Tom           70           60\n",
      "Richard       80           80\n",
      "\n",
      "type(df.iloc[1:3,1::2]): <class 'pandas.core.frame.DataFrame'>\n"
     ]
    }
   ],
   "source": [
    "# df.iloc[Row_Index List, Column_Index List]\n",
    "#   df.iloc[[Row_Index, Row_Index,...], [Column_Index, Column_Index,...]]\n",
    "\n",
    "print(df, '\\n')\n",
    "\n",
    "print('\\ndf.iloc[[1,3],1:]:', df.iloc[[1,3],1:], sep='\\n')\n",
    "print('\\ntype(df.ilocc[[1,3],1:]):', type(df.iloc[[1,3],1:]))\n",
    "\n",
    "print('\\ndf.iloc[[1,3],[0, 2]]:', df.iloc[[1,3],[0, 2]], sep='\\n')   \n",
    "print('\\ntype(df.iloc[[1,3],[0, 2]]):', type(df.iloc[[1,3],[0, 2]]), sep='\\n')\n",
    "\n",
    "print('\\ndf.iloc[[1,3],1::2]:', df.iloc[[1,3],1::2], sep='\\n')\n",
    "print('\\ntype(df.iloc[1:3,1::2]):', type(df.iloc[1:3,1::2]))"
   ]
  },
  {
   "cell_type": "code",
   "execution_count": 471,
   "metadata": {},
   "outputs": [
    {
     "name": "stdout",
     "output_type": "stream",
     "text": [
      "         Math  Chinese  Physics  Programming\n",
      "John       90       85       88           92\n",
      "Tom        80       70       87           60\n",
      "Rebecca   100       95       98           90\n",
      "Richard    80       80       80           80 \n",
      "\n",
      "Math           80\n",
      "Chinese        70\n",
      "Physics        87\n",
      "Programming    60\n",
      "Name: Tom, dtype: int64 \n",
      "\n",
      "<class 'pandas.core.series.Series'> \n",
      "\n",
      "     Math  Chinese  Physics  Programming\n",
      "Tom    80       70       87           60 \n",
      "\n",
      "<class 'pandas.core.frame.DataFrame'> \n",
      "\n"
     ]
    }
   ],
   "source": [
    "# Hint: a[1] vs. a[[1]] are different, if a is a DataFrame\n",
    "# a[1] means: the Series wich row index 1 in the Pandas\n",
    "# a[[1]] means: a Dataframe comprises elements in row index 1\n",
    "\n",
    "print(df, '\\n')\n",
    "\n",
    "print(df.iloc[1], '\\n')  # row the element on the 2nd row, 5th column\n",
    "print(type(df.iloc[1]), '\\n')\n",
    "\n",
    "print(df.iloc[[1]], '\\n')  # row the element on the 2nd row, 5th column\n",
    "print(type(df.iloc[[1]]), '\\n')"
   ]
  },
  {
   "cell_type": "markdown",
   "metadata": {},
   "source": [
    "### Method 4\n",
    "\n",
    "- df.loc[Row_Label]\n",
    "\n",
    "\n",
    "- df.loc[Row_Label, Column_Label]\n",
    "\n",
    "\n",
    "- df.loc[Row_Label Slice, Column_Label Slice]\n",
    "    - df.loc[Started_Row_Label:Ended_Row_Label, Started_Column_Label: Ended_Column_Label]\n",
    "    - df.loc[Started_Row_Index:Ended_Row_Label: Step, Started_Column_Label: Ended_Column_Label: Step]\n",
    "   \n",
    "   \n",
    "- df.loc[Row_Label List, Column_Label List]\n",
    "    - df.iloc[[Row_Label, Row_Label,...], [Column_Label, Column_Label,...]]\n",
    "    \n",
    "    \n",
    "- df.loc[Row Boolean Array, Column_Boolean Array]"
   ]
  },
  {
   "cell_type": "code",
   "execution_count": 472,
   "metadata": {},
   "outputs": [
    {
     "name": "stdout",
     "output_type": "stream",
     "text": [
      "         Math  Chinese  Physics  Programming\n",
      "John       90       85       88           92\n",
      "Tom        80       70       87           60\n",
      "Rebecca   100       95       98           90\n",
      "Richard    80       80       80           80 \n",
      "\n",
      "\n",
      "\n",
      "df.loc['Richard', 'Chinese']:\n",
      "80\n",
      "\n",
      "type(df.loc['Richard', 'Chinese']):\n",
      "<class 'numpy.int64'>\n"
     ]
    }
   ],
   "source": [
    "# df.loc[Row_Label]\n",
    "\n",
    "print(df, '\\n')\n",
    "print()\n",
    "print(\"\\ndf.loc['Richard', 'Chinese']:\",df.loc['Richard', 'Chinese'], sep='\\n')\n",
    "print(\"\\ntype(df.loc['Richard', 'Chinese']):\", type(df.loc['Richard', 'Chinese']), sep='\\n')"
   ]
  },
  {
   "cell_type": "code",
   "execution_count": 473,
   "metadata": {},
   "outputs": [
    {
     "name": "stdout",
     "output_type": "stream",
     "text": [
      "         Math  Chinese  Physics  Programming\n",
      "John       90       85       88           92\n",
      "Tom        80       70       87           60\n",
      "Rebecca   100       95       98           90\n",
      "Richard    80       80       80           80 \n",
      "\n",
      "\n",
      "\n",
      "df.loc['Richard']:\n",
      "Math           80\n",
      "Chinese        80\n",
      "Physics        80\n",
      "Programming    80\n",
      "Name: Richard, dtype: int64\n",
      "\n",
      "type(df.loc['Richard']):\n",
      "<class 'pandas.core.series.Series'>\n"
     ]
    }
   ],
   "source": [
    "# df.loc[Row_Label, Column_Label]\n",
    "\n",
    "print(df, '\\n')\n",
    "print()\n",
    "print(\"\\ndf.loc['Richard']:\",df.loc['Richard'], sep='\\n')\n",
    "print(\"\\ntype(df.loc['Richard']):\",type(df.loc['Richard']), sep='\\n')"
   ]
  },
  {
   "cell_type": "code",
   "execution_count": 474,
   "metadata": {},
   "outputs": [
    {
     "name": "stdout",
     "output_type": "stream",
     "text": [
      "         Math  Chinese  Physics  Programming\n",
      "John       90       85       88           92\n",
      "Tom        80       70       87           60\n",
      "Rebecca   100       95       98           90\n",
      "Richard    80       80       80           80 \n",
      "\n",
      "\n",
      "df.loc[\"Tom\":,\"Chinese\":\"Programming\"]:\n",
      "         Chinese  Physics  Programming\n",
      "Tom           70       87           60\n",
      "Rebecca       95       98           90\n",
      "Richard       80       80           80\n",
      "\n",
      "type(df.loc[\"Tom\":,\"Chinese\":\"Programming\"]): <class 'pandas.core.frame.DataFrame'>\n"
     ]
    }
   ],
   "source": [
    "# df.loc[Row_Label Slice, Column_Label Slice]\n",
    "#   df.loc[Started_Row_Label:Ended_Row_Label, Started_Column_Label: Ended_Column_Label]\n",
    "#   df.loc[Started_Row_Index:Ended_Row_Label: Step, Started_Column_Label: Ended_Column_Label: Step]\n",
    "\n",
    "\n",
    "print(df, '\\n')\n",
    "\n",
    "print('\\ndf.loc[\"Tom\":,\"Chinese\":\"Programming\"]:', df.loc[\"Tom\":,\"Chinese\":\"Programming\"], sep='\\n')\n",
    "print('\\ntype(df.loc[\"Tom\":,\"Chinese\":\"Programming\"]):', type(df.loc[\"Tom\":,\"Chinese\":\"Programming\"]))"
   ]
  },
  {
   "cell_type": "code",
   "execution_count": 475,
   "metadata": {},
   "outputs": [
    {
     "name": "stdout",
     "output_type": "stream",
     "text": [
      "         Math  Chinese  Physics  Programming\n",
      "John       90       85       88           92\n",
      "Tom        80       70       87           60\n",
      "Rebecca   100       95       98           90\n",
      "Richard    80       80       80           80 \n",
      "\n",
      "\n",
      "df.loc[[\"Tom\",\"Richard\"],:\"Physics\"]:\n",
      "         Math  Chinese  Physics\n",
      "Tom        80       70       87\n",
      "Richard    80       80       80\n",
      "\n",
      "type(df.loc[[\"Tom\",\"Richard\"],:\"Physics\"]):\n",
      "<class 'pandas.core.frame.DataFrame'>\n"
     ]
    }
   ],
   "source": [
    "# df.loc[Row_Label List, Column_Label List]\n",
    "#    df.iloc[[Row_Label, Row_Label,...], [Column_Label, Column_Label,...]]\n",
    "\n",
    "print(df, '\\n')\n",
    "\n",
    "print('\\ndf.loc[[\"Tom\",\"Richard\"],:\"Physics\"]:', df.loc[[\"Tom\",\"Richard\"],:\"Physics\"], sep='\\n')\n",
    "# include \"Physics column\"\n",
    "print('\\ntype(df.loc[[\"Tom\",\"Richard\"],:\"Physics\"]):', type(df.loc[[\"Tom\",\"Richard\"],:\"Physics\"]), sep='\\n')"
   ]
  },
  {
   "cell_type": "markdown",
   "metadata": {},
   "source": [
    "### Method 5: only retrieve data\n",
    "\n",
    "- df.values\n",
    "\n",
    "- df.values[Row_Index]\n",
    "- df.values[Row_Index Slice]\n",
    "    - df.values[Started_Row_Index: Ended_Row_Index]\n",
    "    - df.values[Started_Row_Index: Ended_Row_Index: Step]\n",
    "\n",
    "- df.values[Row_Index, Column_Index]\n",
    "- df.values[Row_Index Slice, Column_Index Slice]\n",
    "    - df.values[Started_Row_Index:Ended_Row_Index, Started_Column_Index: Ended_Column_Index]\n",
    "    - df.values[Started_Row_Index:Ended_Row_Index: Step, Started_Column_Index: Ended_Column_Index: Step]"
   ]
  },
  {
   "cell_type": "code",
   "execution_count": 476,
   "metadata": {},
   "outputs": [],
   "source": [
    "import pandas as pd\n",
    "df = pd.DataFrame([[90,85,88,92], [80,70,87,60], [100,95,98,90], [80,80,80,80]], \n",
    "    columns=['Math', 'Chinese', 'Physics', 'Programming'], \n",
    "    index=['John', 'Tom', 'Rebecca', 'Richard'])\n",
    "\n",
    "v = np.random.randint(1, 101, (6,6))# Generate a two-dimensional array of 3*4 integers from 5 to 10 (exclusive)\n",
    "df3 = pd.DataFrame(v)\n",
    "\n"
   ]
  },
  {
   "cell_type": "markdown",
   "metadata": {},
   "source": [
    "#### - df.values\n",
    "    - Whole data in the DataFrame\n",
    "\n",
    "#### - df.values[Row_Index]\n",
    "#### - df.values[Row_Indexm Slice]\n",
    "- df.values[Started_Row_Index: Ended_Row_Index]\n",
    "- df.values[Started_Row_Index: Ended_Row_Index: Step]"
   ]
  },
  {
   "cell_type": "code",
   "execution_count": 477,
   "metadata": {},
   "outputs": [
    {
     "name": "stdout",
     "output_type": "stream",
     "text": [
      "    0   1   2   3   4    5\n",
      "0  53  88  87  55  59   91\n",
      "1   2  15  25  38  66   24\n",
      "2  62  82  81  12  59  100\n",
      "3  73  71  37  38  88   87\n",
      "4  70  15  77  87  71   21\n",
      "5  86  33  99  28  75   43 \n",
      "\n",
      "\n",
      "df3.values:\n",
      "[[ 53  88  87  55  59  91]\n",
      " [  2  15  25  38  66  24]\n",
      " [ 62  82  81  12  59 100]\n",
      " [ 73  71  37  38  88  87]\n",
      " [ 70  15  77  87  71  21]\n",
      " [ 86  33  99  28  75  43]]\n",
      "\n",
      "type(df3.values): <class 'numpy.ndarray'>\n",
      "df3.values[1]:\n",
      "[ 2 15 25 38 66 24]\n",
      "\n",
      "type(df3.values[1]): <class 'numpy.ndarray'>\n",
      "\n",
      "df3.values[1:3]:\n",
      "[[  2  15  25  38  66  24]\n",
      " [ 62  82  81  12  59 100]]\n",
      "\n",
      "type(df3.values[1:3]): <class 'numpy.ndarray'>\n",
      "\n",
      "df3.values[1::2]:\n",
      "[[ 2 15 25 38 66 24]\n",
      " [73 71 37 38 88 87]\n",
      " [86 33 99 28 75 43]]\n",
      "\n",
      "type(df3.values[1::2]): <class 'numpy.ndarray'>\n"
     ]
    }
   ],
   "source": [
    "# df.values[Row]\n",
    "\n",
    "print(df3, '\\n')\n",
    "print('\\ndf3.values:', df3.values, sep='\\n')\n",
    "print('\\ntype(df3.values):',type(df3.values))\n",
    "\n",
    "print('df3.values[1]:', df3.values[1], sep='\\n')\n",
    "print('\\ntype(df3.values[1]):', type(df3.values[1]))\n",
    "\n",
    "print('\\ndf3.values[1:3]:', df3.values[1:3], sep='\\n')     # exclude row index 3\n",
    "print('\\ntype(df3.values[1:3]):', type(df3.values[1:3]))   \n",
    "\n",
    "print('\\ndf3.values[1::2]:', df3.values[1::2], sep='\\n')\n",
    "print('\\ntype(df3.values[1::2]):', type(df3.values[1::2]))"
   ]
  },
  {
   "cell_type": "code",
   "execution_count": 478,
   "metadata": {},
   "outputs": [
    {
     "name": "stdout",
     "output_type": "stream",
     "text": [
      "         Math  Chinese  Physics  Programming\n",
      "John       90       85       88           92\n",
      "Tom        80       70       87           60\n",
      "Rebecca   100       95       98           90\n",
      "Richard    80       80       80           80 \n",
      "\n",
      "\n",
      "df.values:\n",
      "[[ 90  85  88  92]\n",
      " [ 80  70  87  60]\n",
      " [100  95  98  90]\n",
      " [ 80  80  80  80]]\n",
      "\n",
      "type(df.values): <class 'numpy.ndarray'>\n",
      "df.values[1]:\n",
      "[80 70 87 60]\n",
      "\n",
      "type(df.values[1]): <class 'numpy.ndarray'>\n",
      "\n",
      "df.values[1:3]:\n",
      "[[ 80  70  87  60]\n",
      " [100  95  98  90]]\n",
      "\n",
      "type(df.values[1:3]): <class 'numpy.ndarray'>\n",
      "\n",
      "df.values[1::2]:\n",
      "[[80 70 87 60]\n",
      " [80 80 80 80]]\n",
      "\n",
      "type(df.values[1::2]): <class 'numpy.ndarray'>\n"
     ]
    }
   ],
   "source": [
    "print(df, '\\n')\n",
    "print('\\ndf.values:', df.values, sep='\\n')\n",
    "print('\\ntype(df.values):',type(df.values))\n",
    "\n",
    "print('df.values[1]:', df.values[1], sep='\\n')\n",
    "print('\\ntype(df.values[1]):', type(df.values[1]))\n",
    "\n",
    "print('\\ndf.values[1:3]:', df.values[1:3], sep='\\n')\n",
    "print('\\ntype(df.values[1:3]):', type(df.values[1:3]))\n",
    "\n",
    "print('\\ndf.values[1::2]:', df.values[1::2], sep='\\n')\n",
    "print('\\ntype(df.values[1::2]):', type(df.values[1::2]))"
   ]
  },
  {
   "cell_type": "markdown",
   "metadata": {},
   "source": [
    "#### - df.values[Row_Index, Column_Index]\n",
    "#### - df.values[Row_Index Slice, Column_Index Slice]"
   ]
  },
  {
   "cell_type": "code",
   "execution_count": 479,
   "metadata": {},
   "outputs": [
    {
     "name": "stdout",
     "output_type": "stream",
     "text": [
      "    0   1   2   3   4    5\n",
      "0  53  88  87  55  59   91\n",
      "1   2  15  25  38  66   24\n",
      "2  62  82  81  12  59  100\n",
      "3  73  71  37  38  88   87\n",
      "4  70  15  77  87  71   21\n",
      "5  86  33  99  28  75   43 \n",
      "\n",
      "\n",
      "df3.values[1,2]:\n",
      "25\n",
      "\n",
      "type(df3.values[1,2]): <class 'numpy.int32'>\n",
      "\n",
      "df3.values[1:3,1:]:\n",
      "[[ 15  25  38  66  24]\n",
      " [ 82  81  12  59 100]]\n",
      "\n",
      "type(df3.values[1:3,1:]): <class 'numpy.ndarray'>\n"
     ]
    }
   ],
   "source": [
    "print(df3, '\\n')\n",
    "\n",
    "print('\\ndf3.values[1,2]:',df3.values[1,2], sep='\\n')\n",
    "print('\\ntype(df3.values[1,2]):', type(df3.values[1,2]))\n",
    "\n",
    "print('\\ndf3.values[1:3,1:]:', df3.values[1:3,1:], sep='\\n')\n",
    "print('\\ntype(df3.values[1:3,1:]):', type(df3.values[1:3,1:]))"
   ]
  },
  {
   "cell_type": "code",
   "execution_count": 480,
   "metadata": {
    "scrolled": true
   },
   "outputs": [
    {
     "name": "stdout",
     "output_type": "stream",
     "text": [
      "         Math  Chinese  Physics  Programming\n",
      "John       90       85       88           92\n",
      "Tom        80       70       87           60\n",
      "Rebecca   100       95       98           90\n",
      "Richard    80       80       80           80 \n",
      "\n",
      "\n",
      "df.values[1,2]:\n",
      "87\n",
      "\n",
      "type(df.values[1,2]): <class 'numpy.int64'>\n",
      "\n",
      "df.values[1:3,1:]:\n",
      "[[70 87 60]\n",
      " [95 98 90]]\n",
      "\n",
      "type(df.values[1:3,1:]): <class 'numpy.ndarray'>\n"
     ]
    }
   ],
   "source": [
    "print(df, '\\n')\n",
    "\n",
    "print('\\ndf.values[1,2]:',df.values[1,2], sep='\\n')\n",
    "print('\\ntype(df.values[1,2]):', type(df.values[1,2]))\n",
    "\n",
    "print('\\ndf.values[1:3,1:]:', df.values[1:3,1:], sep='\\n')\n",
    "print('\\ntype(df.values[1:3,1:]):', type(df.values[1:3,1:]))"
   ]
  },
  {
   "cell_type": "markdown",
   "metadata": {},
   "source": [
    "### special cases"
   ]
  },
  {
   "cell_type": "code",
   "execution_count": 481,
   "metadata": {},
   "outputs": [
    {
     "name": "stdout",
     "output_type": "stream",
     "text": [
      "         Math  Chinese  Physics  Programming\n",
      "John       90       85       88           92\n",
      "Tom        80       70       87           60\n",
      "Rebecca   100       95       98           90\n",
      "Richard    80       80       80           80 \n",
      "\n",
      "\n",
      "df.values[1:3,[3,1]]:\n",
      "[[92 85]\n",
      " [60 70]\n",
      " [90 95]\n",
      " [80 80]]\n",
      "\n",
      "df.values[[1,3],[3,1]]:\n",
      "[70 80]\n"
     ]
    }
   ],
   "source": [
    "print(df, '\\n')\n",
    "print('\\ndf.values[1:3,[3,1]]:', df.values[:,[3,1]], sep='\\n')\n",
    "print('\\ndf.values[[1,3],[3,1]]:', df.values[[1,3],[1,2]], sep='\\n')"
   ]
  },
  {
   "cell_type": "markdown",
   "metadata": {},
   "source": [
    "## 4.2 From boolean statement"
   ]
  },
  {
   "cell_type": "markdown",
   "metadata": {},
   "source": [
    "### - Filter data - use boolean statement to filter data\n",
    "\n",
    "- print(df[df.population > 350000])\n",
    "- print(df[df[\"city\"].isin([\"Taipei\",\"Kaohsiung\"])])"
   ]
  },
  {
   "cell_type": "code",
   "execution_count": 482,
   "metadata": {},
   "outputs": [],
   "source": [
    "import pandas as pd\n",
    "df = pd.DataFrame([[90,85,88,92], [80,70,87,60], [100,95,98,90], [80,80,80,80]], \n",
    "    columns=['Math', 'Chinese', 'Physics', 'Programming'], \n",
    "    index=['John', 'Tom', 'Rebecca', 'Richard'])"
   ]
  },
  {
   "cell_type": "code",
   "execution_count": 483,
   "metadata": {
    "lang": "zh-tw"
   },
   "outputs": [
    {
     "name": "stdout",
     "output_type": "stream",
     "text": [
      "         Math  Chinese  Physics  Programming\n",
      "John       90       85       88           92\n",
      "Tom        80       70       87           60\n",
      "Rebecca   100       95       98           90\n",
      "Richard    80       80       80           80 \n",
      "\n",
      "         Math  Chinese  Physics  Programming\n",
      "John       90       85       88           92\n",
      "Rebecca   100       95       98           90\n",
      "\n",
      "         Chinese  Physics  Programming\n",
      "John          85       88           92\n",
      "Rebecca       95       98           90\n"
     ]
    }
   ],
   "source": [
    "print(df, '\\n')\n",
    "\n",
    "print(df[df.Math > 80])\n",
    "\n",
    "print()\n",
    "print(df[df.Math > 80].loc[:,'Chinese':'Programming'])   # get some columns from new DataFrame"
   ]
  },
  {
   "cell_type": "code",
   "execution_count": 484,
   "metadata": {},
   "outputs": [
    {
     "name": "stdout",
     "output_type": "stream",
     "text": [
      "                   name  population             city\n",
      "0   Zhongzheng District      159598      Taipei City\n",
      "1      Banqiao District      551452  New Taipei City\n",
      "2      Taoyuan District      441287     Taoyuan City\n",
      "3       Beitun District      275207    Taichung City\n",
      "4        Annan District      192327      Tainan City\n",
      "5       Sanmin District      343203   Kaohsiung City\n",
      "6        Da'an District      309835      Taipei City\n",
      "7       Yonghe District      222531  New Taipei City\n",
      "8         Bade District      198473     Taoyuan City\n",
      "9     Qianzhen District      189623   Kaohsiung City\n",
      "10    Fengshan District      359125   Kaohsiung City\n",
      "11       Xinyi District      225561      Taipei City\n",
      "12     Xindian District      302070  New Taipei City\n"
     ]
    }
   ],
   "source": [
    "import pandas as pd\n",
    "\n",
    "dists = {\"name\": [\"Zhongzheng District\", \"Banqiao District\", \"Taoyuan District\", \"Beitun District\",\n",
    "                   \"Annan District\", \"Sanmin District\", \"Da'an District\", \"Yonghe District\",\n",
    "                   \"Bade District\", \"Qianzhen District\", \"Fengshan District\",\n",
    "                   \"Xinyi District\", \"Xindian District\"],\n",
    "         \"population\": [159598, 551452, 441287, 275207,\n",
    "                        192327, 343203, 309835, 222531,\n",
    "                        198473, 189623, 359125,\n",
    "                        225561, 302070],\n",
    "         \"city\": [\"Taipei City\", \"New Taipei City\", \"Taoyuan City\", \"Taichung City\",\n",
    "                  \"Tainan City\", \"Kaohsiung City\", \"Taipei City\", \"New Taipei City\",\n",
    "                  \"Taoyuan City\", \"Kaohsiung City\", \"Kaohsiung City\",\n",
    "                  \"Taipei City\", \"New Taipei City\"]}\n",
    "df_dist = pd.DataFrame(dists)\n",
    "\n",
    "print(df_dist)"
   ]
  },
  {
   "cell_type": "code",
   "execution_count": 485,
   "metadata": {},
   "outputs": [
    {
     "name": "stdout",
     "output_type": "stream",
     "text": [
      "                 name  population             city\n",
      "1    Banqiao District      551452  New Taipei City\n",
      "2    Taoyuan District      441287     Taoyuan City\n",
      "10  Fengshan District      359125   Kaohsiung City \n",
      "\n",
      "                   name  population            city\n",
      "0   Zhongzheng District      159598     Taipei City\n",
      "5       Sanmin District      343203  Kaohsiung City\n",
      "6        Da'an District      309835     Taipei City\n",
      "9     Qianzhen District      189623  Kaohsiung City\n",
      "10    Fengshan District      359125  Kaohsiung City\n",
      "11       Xinyi District      225561     Taipei City\n"
     ]
    }
   ],
   "source": [
    "print(df_dist[df_dist.population > 350000], '\\n')\n",
    "\n",
    "print(df_dist[df_dist[\"city\"].isin([\"Taipei City\",\"Kaohsiung City\"])])"
   ]
  },
  {
   "cell_type": "code",
   "execution_count": 486,
   "metadata": {
    "lang": "zh-tw"
   },
   "outputs": [
    {
     "name": "stdout",
     "output_type": "stream",
     "text": [
      "                 name  population            city\n",
      "2    Taoyuan District      441287    Taoyuan City\n",
      "10  Fengshan District      359125  Kaohsiung City \n",
      "\n",
      "                   name  population         city\n",
      "0   Zhongzheng District      159598  Taipei City\n",
      "6        Da'an District      309835  Taipei City\n",
      "11       Xinyi District      225561  Taipei City\n"
     ]
    }
   ],
   "source": [
    "print(df_dist[(df_dist.population > 350000) & (df_dist.population < 500000)], '\\n')\n",
    "\n",
    "print(df_dist[df_dist[\"city\"].str.startswith(\"Taipei\")])\n"
   ]
  },
  {
   "cell_type": "markdown",
   "metadata": {},
   "source": [
    "# 5. Visit DataFrame"
   ]
  },
  {
   "cell_type": "code",
   "execution_count": 487,
   "metadata": {
    "lang": "zh-tw",
    "scrolled": true
   },
   "outputs": [
    {
     "name": "stdout",
     "output_type": "stream",
     "text": [
      "0 Taipei City Zhongzheng District 159598\n",
      "1 New Taipei City Banqiao District 551452\n",
      "2 Taoyuan City Taoyuan District 441287\n",
      "3 Taichung City Beitun District 275207\n",
      "4 Tainan City Annan District 192327\n",
      "5 Kaohsiung City Sanmin District 343203\n",
      "6 Taipei City Da'an District 309835\n",
      "7 New Taipei City Yonghe District 222531\n",
      "8 Taoyuan City Bade District 198473\n",
      "9 Kaohsiung City Qianzhen District 189623\n",
      "10 Kaohsiung City Fengshan District 359125\n",
      "11 Taipei City Xinyi District 225561\n",
      "12 New Taipei City Xindian District 302070\n"
     ]
    }
   ],
   "source": [
    "for index, row in df_dist.iterrows() :\n",
    "    print(index, row[\"city\"], row[\"name\"], row[\"population\"])"
   ]
  },
  {
   "cell_type": "markdown",
   "metadata": {},
   "source": [
    "# 6. Update, merge and delete DataFrame elements"
   ]
  },
  {
   "cell_type": "markdown",
   "metadata": {},
   "source": [
    "## 6.1 Update data"
   ]
  },
  {
   "cell_type": "code",
   "execution_count": 488,
   "metadata": {},
   "outputs": [],
   "source": [
    "import pandas as pd\n",
    "\n",
    "dists = {\"name\": [\"Zhongzheng District\", \"Banqiao District\", \"Taoyuan District\", \"Beitun District\",\n",
    "                   \"Annan District\", \"Sanmin District\", \"Da'an District\", \"Yonghe District\",\n",
    "                   \"Bade District\", \"Qianzhen District\", \"Fengshan District\",\n",
    "                   \"Xinyi District\", \"Xindian District\"],\n",
    "         \"population\": [159598, 551452, 441287, 275207,\n",
    "                        192327, 343203, 309835, 222531,\n",
    "                        198473, 189623, 359125,\n",
    "                        225561, 302070],\n",
    "         \"city\": [\"Taipei City\", \"New Taipei City\", \"Taoyuan City\", \"Taichung City\",\n",
    "                  \"Tainan City\", \"Kaohsiung City\", \"Taipei City\", \"New Taipei City\",\n",
    "                  \"Taoyuan City\", \"Kaohsiung City\", \"Kaohsiung City\",\n",
    "                  \"Taipei City\", \"New Taipei City\"]}\n",
    "df_dist = pd.DataFrame(dists)\n",
    "\n",
    "df_dist.to_csv('dists.csv')"
   ]
  },
  {
   "cell_type": "code",
   "execution_count": 489,
   "metadata": {},
   "outputs": [
    {
     "name": "stdout",
     "output_type": "stream",
     "text": [
      "        Unnamed: 0                 name  population             city\n",
      "first            0  Zhongzheng District      159598      Taipei City\n",
      "second           1     Banqiao District      551452  New Taipei City\n",
      "159598\n",
      "551452\n",
      "        Unnamed: 0                 name  population             city\n",
      "first            0  Zhongzheng District      160000      Taipei City\n",
      "second           1     Banqiao District      560000  New Taipei City\n"
     ]
    }
   ],
   "source": [
    "# Use the label and location to select the data, you can update the selected data\n",
    "\n",
    "import pandas as pd\n",
    "\n",
    "df = pd.read_csv(\"dists.csv\", encoding=\"utf8\")\n",
    "ordinals =[\"first\", \"second\", \"third\", \"fourth\", \"fifth\",\n",
    "           \"sixth\", \"seventh\", \"eigth\", \"ninth\", \"tenth\",\n",
    "           \"eleventh\", \"twelvth\", \"thirteenth\"]\n",
    "df.index = ordinals\n",
    "\n",
    "print(df.head(2))\n",
    "# Get and update a single scalar value\n",
    "print(df.loc[ordinals[0], \"population\"])\n",
    "df.loc[ordinals[0], \"population\"] = 160000\n",
    "print(df.iloc[1,2])\n",
    "df.iloc[1,2] = 560000\n",
    "print(df.head(2))"
   ]
  },
  {
   "cell_type": "code",
   "execution_count": 490,
   "metadata": {},
   "outputs": [
    {
     "name": "stdout",
     "output_type": "stream",
     "text": [
      "        Unnamed: 0                 name  population             city\n",
      "first            0  Zhongzheng District      159598      Taipei City\n",
      "second           1     Banqiao District      551452  New Taipei City\n",
      "third            2     Taoyuan District      441287     Taoyuan City\n",
      "Unnamed: 0                   1\n",
      "name          Banqiao District\n",
      "population              551452\n",
      "city           New Taipei City\n",
      "Name: second, dtype: object\n",
      "       Unnamed: 0                 name          population          city\n",
      "first           0  Zhongzheng District              159598   Taipei City\n",
      "second        top      New Taipei City  Xinzhuang District        416640\n",
      "third           2     Taoyuan District              441287  Taoyuan City\n"
     ]
    }
   ],
   "source": [
    "# Select the record to replace to replace\n",
    "\n",
    "import pandas as pd\n",
    "df = pd.read_csv(\"dists.csv\", encoding=\"utf8\")\n",
    "ordinals =[\"first\", \"second\", \"third\", \"fourth\", \"fifth\",\n",
    "           \"sixth\", \"seventh\", \"eigth\", \"ninth\", \"tenth\",\n",
    "           \"eleventh\", \"twelvth\", \"thirteenth\"]\n",
    "df.index = ordinals\n",
    "\n",
    "print(df.head(3))\n",
    "# Get and update a single record\n",
    "print(df.loc[ordinals[1]])\n",
    "s = [\"top\", \"New Taipei City\", \"Xinzhuang District\", 416640]\n",
    "df.loc[ordinals[1]] = s\n",
    "print(df.head(3))"
   ]
  },
  {
   "cell_type": "code",
   "execution_count": 491,
   "metadata": {},
   "outputs": [
    {
     "name": "stdout",
     "output_type": "stream",
     "text": [
      "            Unnamed: 0                 name  population             city\n",
      "first                0  Zhongzheng District      159598      Taipei City\n",
      "second               1     Banqiao District      551452  New Taipei City\n",
      "third                2     Taoyuan District      441287     Taoyuan City\n",
      "fourth               3      Beitun District      275207    Taichung City\n",
      "fifth                4       Annan District      192327      Tainan City\n",
      "sixth                5      Sanmin District      343203   Kaohsiung City\n",
      "seventh              6       Da'an District      309835      Taipei City\n",
      "eigth                7      Yonghe District      222531  New Taipei City\n",
      "ninth                8        Bade District      198473     Taoyuan City\n",
      "tenth                9    Qianzhen District      189623   Kaohsiung City\n",
      "eleventh            10    Fengshan District      359125   Kaohsiung City\n",
      "twelvth             11       Xinyi District      225561      Taipei City\n",
      "thirteenth          12     Xindian District      302070  New Taipei City\n",
      "first         159598\n",
      "second        551452\n",
      "third         441287\n",
      "fourth        275207\n",
      "fifth         192327\n",
      "sixth         343203\n",
      "seventh       309835\n",
      "eigth         222531\n",
      "ninth         198473\n",
      "tenth         189623\n",
      "eleventh      359125\n",
      "twelvth       225561\n",
      "thirteenth    302070\n",
      "Name: population, dtype: int64\n",
      "        Unnamed: 0                 name  population             city\n",
      "first            0  Zhongzheng District      557020      Taipei City\n",
      "second           1     Banqiao District      262965  New Taipei City\n",
      "third            2     Taoyuan District      382728     Taoyuan City\n",
      "fourth           3      Beitun District      540013    Taichung City\n",
      "fifth            4       Annan District      321842      Tainan City\n"
     ]
    }
   ],
   "source": [
    "# update the entire field value\n",
    "\n",
    "import pandas as pd\n",
    "import numpy as np\n",
    "\n",
    "df = pd.read_csv(\"dists.csv\", encoding=\"utf8\")\n",
    "ordinals =[\"first\", \"second\", \"third\", \"fourth\", \"fifth\",\n",
    "           \"sixth\", \"seventh\", \"eigth\", \"ninth\", \"tenth\",\n",
    "           \"eleventh\", \"twelvth\", \"thirteenth\"]\n",
    "df.index = ordinals\n",
    "\n",
    "print(df)\n",
    "# Get and update the entire field\n",
    "print(df.loc[:, \"population\"])\n",
    "df.loc[:, \"population\"] = np.random.randint(34000, 700000, size=len(df))\n",
    "print(df.head())"
   ]
  },
  {
   "cell_type": "markdown",
   "metadata": {},
   "source": [
    "## 6.2 Delete data\n",
    "\n",
    "- Pandas uses drop to delete DataFrame data, the syntax is:\n",
    "\n",
    "- df.drop(row or column title [, axis = row and column value])\n",
    " - A row and column value of 0 means the column header is sorted (default), and 1 is a row"
   ]
  },
  {
   "cell_type": "code",
   "execution_count": 492,
   "metadata": {},
   "outputs": [
    {
     "name": "stdout",
     "output_type": "stream",
     "text": [
      "      0    1    2\n",
      "0  1373  373  258\n",
      "1   550  977  933\n",
      "\n",
      "        0      1      2\n",
      "0  1373.0    NaN    NaN\n",
      "1     NaN  977.0  933.0\n",
      "\n",
      "      0    1    2\n",
      "0  1273  373  258\n",
      "1   550  877  833\n"
     ]
    }
   ],
   "source": [
    "# Update the entire DataFrame object\n",
    "\n",
    "import pandas as pd\n",
    "import numpy as np\n",
    "\n",
    "df = pd.DataFrame(np.random.randint(5, 1500, size=(2,3)))\n",
    "print(df)\n",
    "\n",
    "print()\n",
    "# Get and update the entire DataFrame\n",
    "print(df[df > 800])\n",
    "\n",
    "print()\n",
    "df[df > 800] = df - 100\n",
    "print(df)"
   ]
  },
  {
   "cell_type": "code",
   "execution_count": 493,
   "metadata": {},
   "outputs": [
    {
     "name": "stdout",
     "output_type": "stream",
     "text": [
      "        Unnamed: 0                 name  population             city\n",
      "first            0  Zhongzheng District      159598      Taipei City\n",
      "second           1     Banqiao District      551452  New Taipei City\n",
      "third            2     Taoyuan District      441287     Taoyuan City\n",
      "159598\n",
      "551452.0\n",
      "        Unnamed: 0                 name  population             city\n",
      "first            0  Zhongzheng District         NaN      Taipei City\n",
      "second           1     Banqiao District         NaN  New Taipei City\n",
      "third            2     Taoyuan District    441287.0     Taoyuan City\n"
     ]
    }
   ],
   "source": [
    "# delete data - delete scalar value\n",
    "\n",
    "import pandas as pd\n",
    "\n",
    "df = pd.read_csv(\"dists.csv\", encoding=\"utf8\")\n",
    "ordinals =[\"first\", \"second\", \"third\", \"fourth\", \"fifth\",\n",
    "           \"sixth\", \"seventh\", \"eigth\", \"ninth\", \"tenth\",\n",
    "           \"eleventh\", \"twelvth\", \"thirteenth\"]\n",
    "df.index = ordinals\n",
    "\n",
    "print(df.head(3))\n",
    "# delete scalar value\n",
    "print(df.loc[ordinals[0], \"population\"])\n",
    "df.loc[ordinals[0], \"population\"] = None\n",
    "print(df.iloc[1,2])\n",
    "df.iloc[1,2] = None\n",
    "print(df.head(3))"
   ]
  },
  {
   "cell_type": "code",
   "execution_count": 494,
   "metadata": {},
   "outputs": [
    {
     "name": "stdout",
     "output_type": "stream",
     "text": [
      "        Unnamed: 0                 name  population             city\n",
      "first            0  Zhongzheng District      159598      Taipei City\n",
      "second           1     Banqiao District      551452  New Taipei City\n",
      "third            2     Taoyuan District      441287     Taoyuan City\n",
      "fourth           3      Beitun District      275207    Taichung City\n",
      "fifth            4       Annan District      192327      Tainan City\n",
      "         Unnamed: 0                 name  population            city\n",
      "first             0  Zhongzheng District      159598     Taipei City\n",
      "third             2     Taoyuan District      441287    Taoyuan City\n",
      "fifth             4       Annan District      192327     Tainan City\n",
      "sixth             5      Sanmin District      343203  Kaohsiung City\n",
      "seventh           6       Da'an District      309835     Taipei City\n",
      "         Unnamed: 0                 name  population             city\n",
      "first             0  Zhongzheng District      159598      Taipei City\n",
      "second            1     Banqiao District      551452  New Taipei City\n",
      "fifth             4       Annan District      192327      Tainan City\n",
      "sixth             5      Sanmin District      343203   Kaohsiung City\n",
      "seventh           6       Da'an District      309835      Taipei City\n"
     ]
    }
   ],
   "source": [
    "# drop() function to delete records\n",
    "\n",
    "import pandas as pd\n",
    "\n",
    "df = pd.read_csv(\"dists.csv\", encoding=\"utf8\")\n",
    "ordinals =[\"first\", \"second\", \"third\", \"fourth\", \"fifth\",\n",
    "           \"sixth\", \"seventh\", \"eigth\", \"ninth\", \"tenth\",\n",
    "           \"eleventh\", \"twelvth\", \"thirteenth\"]\n",
    "df.index = ordinals\n",
    "\n",
    "print(df.head())\n",
    "# Delete Record\n",
    "df2 = df.drop([\"second\", \"fourth\"]) # 2,4 strokes\n",
    "print(df2.head())\n",
    "\n",
    "df.drop(df.index[[2,3]], inplace=True) # 3,4 strokes\n",
    "print(df.head())"
   ]
  },
  {
   "cell_type": "code",
   "execution_count": 495,
   "metadata": {},
   "outputs": [
    {
     "name": "stdout",
     "output_type": "stream",
     "text": [
      "        Unnamed: 0                 name  population             city\n",
      "first            0  Zhongzheng District      159598      Taipei City\n",
      "second           1     Banqiao District      551452  New Taipei City\n",
      "third            2     Taoyuan District      441287     Taoyuan City\n",
      "        Unnamed: 0                 name             city\n",
      "first            0  Zhongzheng District      Taipei City\n",
      "second           1     Banqiao District  New Taipei City\n",
      "third            2     Taoyuan District     Taoyuan City\n"
     ]
    }
   ],
   "source": [
    "# Delete column: also use the drop() function, but you need to specify that the axis parameter value is 1, and the default is 0, which is to delete the record (column)\n",
    "\n",
    "import pandas as pd\n",
    "\n",
    "df = pd.read_csv(\"dists.csv\", encoding=\"utf8\")\n",
    "ordinals =[\"first\", \"second\", \"third\", \"fourth\", \"fifth\",\n",
    "           \"sixth\", \"seventh\", \"eigth\", \"ninth\", \"tenth\",\n",
    "           \"eleventh\", \"twelvth\", \"thirteenth\"]\n",
    "df.index = ordinals\n",
    "\n",
    "print(df.head(3))\n",
    "# delete field\n",
    "df2 = df.drop([\"population\"], axis=1)\n",
    "print(df2.head(3))"
   ]
  },
  {
   "cell_type": "markdown",
   "metadata": {},
   "source": [
    "## 6.3 Add data"
   ]
  },
  {
   "cell_type": "code",
   "execution_count": 496,
   "metadata": {},
   "outputs": [
    {
     "name": "stdout",
     "output_type": "stream",
     "text": [
      "            Unnamed: 0               name  population             city\n",
      "eleventh            10  Fengshan District      359125   Kaohsiung City\n",
      "twelvth             11     Xinyi District      225561      Taipei City\n",
      "thirteenth          12   Xindian District      302070  New Taipei City\n",
      "\n",
      "           Unnamed: 0              name       population             city\n",
      "twelvth            11    Xinyi District           225561      Taipei City\n",
      "thirteenth         12  Xindian District           302070  New Taipei City\n",
      "third-1           New       Taipei City  Shilin District           288340\n",
      "\n",
      "    Unnamed: 0              name       population             city\n",
      "12         12  Xindian District           302070  New Taipei City\n",
      "13        New       Taipei City  Shilin District           288340\n",
      "14        NaN  Zhonghe District           413291  New Taipei City\n"
     ]
    }
   ],
   "source": [
    "# To add a record, you only need to specify a non-existing index label to add a record. We can also create a Series object, and then use the append() function to add a record\n",
    "\n",
    "import pandas as pd\n",
    "\n",
    "df = pd.read_csv(\"dists.csv\", encoding=\"utf8\")\n",
    "ordinals =[\"first\", \"second\", \"third\", \"fourth\", \"fifth\",\n",
    "           \"sixth\", \"seventh\", \"eigth\", \"ninth\", \"tenth\",\n",
    "           \"eleventh\", \"twelvth\", \"thirteenth\"]\n",
    "df.index = ordinals\n",
    "\n",
    "print(df.tail(3))\n",
    "# add record\n",
    "print()\n",
    "df.loc[\"third-1\"] = ['New', \"Taipei City\", \"Shilin District\", 288340]\n",
    "print(df.tail(3))\n",
    "\n",
    "s = pd.Series({\"city\":\"New Taipei City\",\"name\":\"Zhonghe District\",\"population\":413291})\n",
    "df2 = df.append(s, ignore_index=True)\n",
    "print('\\n', df2.tail(3))"
   ]
  },
  {
   "cell_type": "code",
   "execution_count": 497,
   "metadata": {},
   "outputs": [
    {
     "name": "stdout",
     "output_type": "stream",
     "text": [
      "            Unnamed: 0               name  population             city\n",
      "eleventh            10  Fengshan District      359125   Kaohsiung City\n",
      "twelvth             11     Xinyi District      225561      Taipei City\n",
      "thirteenth          12   Xindian District      302070  New Taipei City\n",
      "\n",
      "           Unnamed: 0              name       population             city\n",
      "twelvth            11    Xinyi District           225561      Taipei City\n",
      "thirteenth         12  Xindian District           302070  New Taipei City\n",
      "last             last       Taipei City  Shilin District           288340\n",
      "\n",
      "   Unnamed: 0              name       population             city\n",
      "12         12  Xindian District           302070  New Taipei City\n",
      "13       last       Taipei City  Shilin District           288340\n",
      "14        NaN  Zhonghe District           413291  New Taipei City\n"
     ]
    }
   ],
   "source": [
    "# Use the new record to create a DataFrame object with the for/in loop, first use the loc indexer\n",
    "# Use the append() function to add a Series object to create a DataFrame object\n",
    "import pandas as pd\n",
    "\n",
    "df = pd.read_csv(\"dists.csv\", encoding=\"utf8\")\n",
    "ordinals =[\"first\", \"second\", \"third\", \"fourth\", \"fifth\",\n",
    "           \"sixth\", \"seventh\", \"eigth\", \"ninth\", \"tenth\",\n",
    "           \"eleventh\", \"twelvth\", \"thirteenth\"]\n",
    "df.index = ordinals\n",
    "\n",
    "print(df.tail(3))\n",
    "# add record\n",
    "df.loc[\"last\"] = [\"last\", \"Taipei City\", \"Shilin District\", 288340]\n",
    "print()\n",
    "print(df.tail(3))\n",
    "\n",
    "s = pd.Series({\"city\":\"New Taipei City\",\"name\":\"Zhonghe District\",\"population\":413291})\n",
    "df2 = df.append(s, ignore_index=True)\n",
    "print()\n",
    "print(df2.tail(3))"
   ]
  },
  {
   "cell_type": "code",
   "execution_count": 498,
   "metadata": {},
   "outputs": [
    {
     "name": "stdout",
     "output_type": "stream",
     "text": [
      "        Unnamed: 0                 name  population             city  area\n",
      "first            0  Zhongzheng District      159598      Taipei City  8531\n",
      "second           1     Banqiao District      551452  New Taipei City  6991\n",
      "third            2     Taoyuan District      441287     Taoyuan City  7047\n",
      "fourth           3      Beitun District      275207    Taichung City  6779\n",
      "fifth            4       Annan District      192327      Tainan City  8277\n",
      "        Unnamed: 0                 name  population             city  area  \\\n",
      "first            0  Zhongzheng District      159598      Taipei City  8531   \n",
      "second           1     Banqiao District      551452  New Taipei City  6991   \n",
      "third            2     Taoyuan District      441287     Taoyuan City  7047   \n",
      "fourth           3      Beitun District      275207    Taichung City  6779   \n",
      "fifth            4       Annan District      192327      Tainan City  8277   \n",
      "\n",
      "        zip  \n",
      "first   106  \n",
      "second  105  \n",
      "third   113  \n",
      "fourth  106  \n",
      "fifth   103  \n"
     ]
    }
   ],
   "source": [
    "# Add: Specify a non-existing field label to add a field. We can use a list, a Series object or a NumPy array to specify the field value\n",
    "\n",
    "import pandas as pd\n",
    "from numpy.random import randint\n",
    "\n",
    "df = pd.read_csv(\"dists.csv\", encoding=\"utf8\")\n",
    "ordinals =[\"first\", \"second\", \"third\", \"fourth\", \"fifth\",\n",
    "           \"sixth\", \"seventh\", \"eigth\", \"ninth\", \"tenth\",\n",
    "           \"eleventh\", \"twelvth\", \"thirteenth\"]\n",
    "df.index = ordinals\n",
    "\n",
    "df[\"area\"] = pd.Series([randint(6000,9000) for n in range(len(df))]).values\n",
    "print(df.head())\n",
    "df.head().to_html(\"Ch9_4_3b_01.html\")\n",
    "df.loc[:,\"zip\"] = randint(100, 120, size=len(df))\n",
    "print(df.head())\n",
    "df.head().to_html(\"Ch9_4_3b_02.html\")"
   ]
  },
  {
   "cell_type": "markdown",
   "metadata": {},
   "source": [
    "## 6.4 Duplicate, concatenate and merge data "
   ]
  },
  {
   "cell_type": "markdown",
   "metadata": {},
   "source": [
    "### - Create empty and duplicate DataFrame objects\n",
    "\n",
    "*For an existing DataFrame object, we can create an empty DataFrame object with the same shape but no data, or we can use the copy() function to back up the DataFrame object before processing, as follows:* columns =[\"city\",\"name\", \"population\"]\n",
    "    *df_empty = pd.DataFrame(np.nan, index=ordinals, columns=columns)* print(df_empty)\n",
    "\n",
    "* The copy() function can copy DataFrame objects as follows:\n",
    "    * df_copy = df.copy()\n",
    "    * print(df_copy)"
   ]
  },
  {
   "cell_type": "code",
   "execution_count": 499,
   "metadata": {},
   "outputs": [
    {
     "name": "stdout",
     "output_type": "stream",
     "text": [
      "            city  name  population\n",
      "first        NaN   NaN         NaN\n",
      "second       NaN   NaN         NaN\n",
      "third        NaN   NaN         NaN\n",
      "fourth       NaN   NaN         NaN\n",
      "fifth        NaN   NaN         NaN\n",
      "sixth        NaN   NaN         NaN\n",
      "seventh      NaN   NaN         NaN\n",
      "eigth        NaN   NaN         NaN\n",
      "ninth        NaN   NaN         NaN\n",
      "tenth        NaN   NaN         NaN\n",
      "eleventh     NaN   NaN         NaN\n",
      "twelvth      NaN   NaN         NaN\n",
      "thirteenth   NaN   NaN         NaN\n",
      "            Unnamed: 0                 name  population             city\n",
      "first                0  Zhongzheng District      159598      Taipei City\n",
      "second               1     Banqiao District      551452  New Taipei City\n",
      "third                2     Taoyuan District      441287     Taoyuan City\n",
      "fourth               3      Beitun District      275207    Taichung City\n",
      "fifth                4       Annan District      192327      Tainan City\n",
      "sixth                5      Sanmin District      343203   Kaohsiung City\n",
      "seventh              6       Da'an District      309835      Taipei City\n",
      "eigth                7      Yonghe District      222531  New Taipei City\n",
      "ninth                8        Bade District      198473     Taoyuan City\n",
      "tenth                9    Qianzhen District      189623   Kaohsiung City\n",
      "eleventh            10    Fengshan District      359125   Kaohsiung City\n",
      "twelvth             11       Xinyi District      225561      Taipei City\n",
      "thirteenth          12     Xindian District      302070  New Taipei City\n"
     ]
    }
   ],
   "source": [
    "import pandas as pd\n",
    "import numpy as np\n",
    "\n",
    "df = pd.read_csv(\"dists.csv\", encoding=\"utf8\")\n",
    "ordinals =[\"first\", \"second\", \"third\", \"fourth\", \"fifth\",\n",
    "           \"sixth\", \"seventh\", \"eigth\", \"ninth\", \"tenth\",\n",
    "           \"eleventh\", \"twelvth\", \"thirteenth\"]\n",
    "df.index = ordinals\n",
    "\n",
    "columns =[\"city\",\"name\", \"population\"]\n",
    "# Create empty DataFrame object\n",
    "df_empty = pd.DataFrame(np.nan, index=ordinals, columns=columns)\n",
    "print(df_empty)\n",
    "# Copy the DataFrame object\n",
    "df_copy = df.copy()\n",
    "print(df_copy)"
   ]
  },
  {
   "cell_type": "code",
   "execution_count": 500,
   "metadata": {},
   "outputs": [
    {
     "name": "stdout",
     "output_type": "stream",
     "text": [
      "   a  b  c  d\n",
      "0  7  9  8  7\n",
      "1  7  5  5  9\n",
      "2  8  6  8  6\n",
      "\n",
      "   b  d  a\n",
      "0  8  8  8\n",
      "1  9  5  6\n",
      "\n",
      "   a  b    c  d\n",
      "0  7  9  8.0  7\n",
      "1  7  5  5.0  9\n",
      "2  8  6  8.0  6\n",
      "0  8  8  NaN  8\n",
      "1  6  9  NaN  5\n",
      "\n",
      "   a  b    c  d\n",
      "0  7  9  8.0  7\n",
      "1  7  5  5.0  9\n",
      "2  8  6  8.0  6\n",
      "3  8  8  NaN  8\n",
      "4  6  9  NaN  5\n"
     ]
    }
   ],
   "source": [
    "# Connect multiple DataFrame objects: Use the concat() function to connect multiple DataFrame objects, and the number of data entries increases\n",
    "\n",
    "import pandas as pd\n",
    "from numpy.random import randint\n",
    "\n",
    "df1 = pd.DataFrame(randint(5,10,size=(3,4)),columns=[\"a\",\"b\",\"c\",\"d\"])\n",
    "df2 = pd.DataFrame(randint(5,10,size=(2,3)),columns=[\"b\",\"d\",\"a\"])\n",
    "print(df1)\n",
    "\n",
    "print()\n",
    "print(df2)\n",
    "\n",
    "print()\n",
    "df3 = pd.concat([df1,df2])\n",
    "print(df3)\n",
    "print()\n",
    "\n",
    "df4 = pd.concat([df1,df2], ignore_index=True) # ignore index labels\n",
    "print(df4)"
   ]
  },
  {
   "cell_type": "code",
   "execution_count": 501,
   "metadata": {},
   "outputs": [
    {
     "name": "stdout",
     "output_type": "stream",
     "text": [
      "  key  data1\n",
      "0   a      0\n",
      "1   b      1\n",
      "2   b      2\n",
      "  key  data2\n",
      "0   a      0\n",
      "1   b      1\n",
      "2   c      2\n",
      "  key  data1  data2\n",
      "0   a      0      0\n",
      "1   b      1      1\n",
      "2   b      2      1\n",
      "  key  data2  data1\n",
      "0   a      0      0\n",
      "1   b      1      1\n",
      "2   b      1      2\n",
      "  key  data2  data1\n",
      "0   a      0    0.0\n",
      "1   b      1    1.0\n",
      "2   b      1    2.0\n",
      "3   c      2    NaN\n"
     ]
    }
   ],
   "source": [
    "# Merge 2 DataFrame objects: The merge() function can merge 2 DataFrame objects left and right (similar to SQL merge query), and the data field is increased\n",
    "\n",
    "import pandas as pd\n",
    "\n",
    "df1 = pd.DataFrame({\"key\":[\"a\",\"b\",\"b\"],\"data1\":range(3)})\n",
    "df2 = pd.DataFrame({\"key\":[\"a\",\"b\",\"c\"],\"data2\":range(3)})\n",
    "print(df1)\n",
    "print(df2)\n",
    "\n",
    "\n",
    "df3 = pd.merge(df1, df2)\n",
    "print(df3)\n",
    "\n",
    "\n",
    "df4 = pd.merge(df2, df1)\n",
    "print(df4)\n",
    "\n",
    "\n",
    "df5 = pd.merge(df2, df1, how='left')\n",
    "print(df5)"
   ]
  },
  {
   "cell_type": "markdown",
   "metadata": {},
   "source": [
    "# 7. Access files"
   ]
  },
  {
   "cell_type": "markdown",
   "metadata": {},
   "source": [
    "#### Pandas commonly used methods for importing data:\n",
    "\n",
    "- read_csv\n",
    "    - Import a file in CSV format:\n",
    "- read_excel\n",
    "- read_sql\n",
    "- read_json\n",
    "- read_html \n",
    "    - #Need to install html5lib to import HTML files, Pandas will extract the data of the <table> "
   ]
  },
  {
   "cell_type": "markdown",
   "metadata": {},
   "source": [
    "### Export DataFrame object to file\n",
    "\n",
    "* Export to CSV file: pd.to_csv(filename)\n",
    "* Export to JSON format file: pd.to_json(filename)\n",
    "* Export as HTML table tag file: pd.to_html(filename)\n",
    "* Export to Excel file: pd.to_excel(filename)"
   ]
  },
  {
   "cell_type": "code",
   "execution_count": 502,
   "metadata": {},
   "outputs": [],
   "source": [
    "import pandas as pd\n",
    "\n",
    "dists = {\"name\": [\"Zhongzheng District\", \"Banqiao District\", \"Taoyuan District\", \"Beitun District\",\n",
    "                   \"Annan District\", \"Sanmin District\", \"Da'an District\", \"Yonghe District\",\n",
    "                   \"Bade District\", \"Qianzhen District\", \"Fengshan District\",\n",
    "                   \"Xinyi District\", \"Xindian District\"],\n",
    "         \"population\": [159598, 551452, 441287, 275207,\n",
    "                        192327, 343203, 309835, 222531,\n",
    "                        198473, 189623, 359125,\n",
    "                        225561, 302070],\n",
    "         \"city\": [\"Taipei City\", \"New Taipei City\", \"Taoyuan City\", \"Taichung City\",\n",
    "                  \"Tainan City\", \"Kaohsiung City\", \"Taipei City\", \"New Taipei City\",\n",
    "                  \"Taoyuan City\", \"Kaohsiung City\", \"Kaohsiung City\",\n",
    "                  \"Taipei City\", \"New Taipei City\"]}\n",
    "df = pd.DataFrame(dists)\n",
    "\n",
    "df.to_csv(\"dists.csv\", index=False, encoding=\"utf8\")\n",
    "df.to_json(\"dists.json\")"
   ]
  },
  {
   "cell_type": "code",
   "execution_count": 503,
   "metadata": {},
   "outputs": [
    {
     "name": "stdout",
     "output_type": "stream",
     "text": [
      "                   name  population             city\n",
      "0   Zhongzheng District      159598      Taipei City\n",
      "1      Banqiao District      551452  New Taipei City\n",
      "2      Taoyuan District      441287     Taoyuan City\n",
      "3       Beitun District      275207    Taichung City\n",
      "4        Annan District      192327      Tainan City\n",
      "5       Sanmin District      343203   Kaohsiung City\n",
      "6        Da'an District      309835      Taipei City\n",
      "7       Yonghe District      222531  New Taipei City\n",
      "8         Bade District      198473     Taoyuan City\n",
      "9     Qianzhen District      189623   Kaohsiung City\n",
      "10    Fengshan District      359125   Kaohsiung City\n",
      "11       Xinyi District      225561      Taipei City\n",
      "12     Xindian District      302070  New Taipei City\n",
      "                   name  population             city\n",
      "0   Zhongzheng District      159598      Taipei City\n",
      "1      Banqiao District      551452  New Taipei City\n",
      "2      Taoyuan District      441287     Taoyuan City\n",
      "3       Beitun District      275207    Taichung City\n",
      "4        Annan District      192327      Tainan City\n",
      "5       Sanmin District      343203   Kaohsiung City\n",
      "6        Da'an District      309835      Taipei City\n",
      "7       Yonghe District      222531  New Taipei City\n",
      "8         Bade District      198473     Taoyuan City\n",
      "9     Qianzhen District      189623   Kaohsiung City\n",
      "10    Fengshan District      359125   Kaohsiung City\n",
      "11       Xinyi District      225561      Taipei City\n",
      "12     Xindian District      302070  New Taipei City\n"
     ]
    }
   ],
   "source": [
    "import pandas as pd\n",
    "\n",
    "# Import a file in CSV format\n",
    "df = pd.read_csv(\"dists.csv\", encoding=\"utf8\")\n",
    "print(df)\n",
    "df.to_html(\"test1.html\")\n",
    "# Import a file in JSON format\n",
    "df2 = pd.read_json(\"dists.json\")\n",
    "print(df2)\n",
    "df.to_html(\"test2.html\")"
   ]
  },
  {
   "cell_type": "code",
   "execution_count": 504,
   "metadata": {},
   "outputs": [
    {
     "name": "stdout",
     "output_type": "stream",
     "text": [
      "                   name  population             city\n",
      "0   Zhongzheng District      159598      Taipei City\n",
      "1      Banqiao District      551452  New Taipei City\n",
      "2      Taoyuan District      441287     Taoyuan City\n",
      "3       Beitun District      275207    Taichung City\n",
      "4        Annan District      192327      Tainan City\n",
      "5       Sanmin District      343203   Kaohsiung City\n",
      "6        Da'an District      309835      Taipei City\n",
      "7       Yonghe District      222531  New Taipei City\n",
      "8         Bade District      198473     Taoyuan City\n",
      "9     Qianzhen District      189623   Kaohsiung City\n",
      "10    Fengshan District      359125   Kaohsiung City\n",
      "11       Xinyi District      225561      Taipei City\n",
      "12     Xindian District      302070  New Taipei City\n"
     ]
    }
   ],
   "source": [
    "import pandas as pd\n",
    "\n",
    "# Import a file in CSV format\n",
    "df = pd.read_csv(\"dists.csv\", encoding=\"utf8\", header=0)\n",
    "print(df)"
   ]
  },
  {
   "cell_type": "code",
   "execution_count": 505,
   "metadata": {},
   "outputs": [
    {
     "name": "stdout",
     "output_type": "stream",
     "text": [
      "                   name  population             city\n",
      "0   Zhongzheng District      159598      Taipei City\n",
      "1      Banqiao District      551452  New Taipei City\n",
      "2      Taoyuan District      441287     Taoyuan City\n",
      "3       Beitun District      275207    Taichung City\n",
      "4        Annan District      192327      Tainan City\n",
      "5       Sanmin District      343203   Kaohsiung City\n",
      "6        Da'an District      309835      Taipei City\n",
      "7       Yonghe District      222531  New Taipei City\n",
      "8         Bade District      198473     Taoyuan City\n",
      "9     Qianzhen District      189623   Kaohsiung City\n",
      "10    Fengshan District      359125   Kaohsiung City\n",
      "11       Xinyi District      225561      Taipei City\n",
      "12     Xindian District      302070  New Taipei City\n"
     ]
    }
   ],
   "source": [
    "import pandas as pd\n",
    "\n",
    "# Import a file in CSV format\n",
    "df = pd.read_csv(\"dists.csv\", encoding=\"utf8\")\n",
    "print(df)"
   ]
  },
  {
   "cell_type": "code",
   "execution_count": 506,
   "metadata": {},
   "outputs": [
    {
     "ename": "SyntaxError",
     "evalue": "invalid syntax (<ipython-input-506-e1a51829c45f>, line 4)",
     "output_type": "error",
     "traceback": [
      "\u001b[1;36m  File \u001b[1;32m\"<ipython-input-506-e1a51829c45f>\"\u001b[1;36m, line \u001b[1;32m4\u001b[0m\n\u001b[1;33m    Taipei City, Zhongzheng District, 159598\u001b[0m\n\u001b[1;37m           ^\u001b[0m\n\u001b[1;31mSyntaxError\u001b[0m\u001b[1;31m:\u001b[0m invalid syntax\n"
     ]
    }
   ],
   "source": [
    "# dists.csv\n",
    "\n",
    "city,name,population\n",
    "Taipei City, Zhongzheng District, 159598\n",
    "New Taipei City, Banqiao District, 551452\n",
    "Taoyuan City, Taoyuan District, 441287\n",
    "Taichung City, Beitun District, 275207\n",
    "Tainan City, Annan District, 192327\n",
    "Kaohsiung City, Sanmin District, 343203\n",
    "Taipei City, Daan District, 309835\n",
    "New Taipei City, Yonghe District, 222531\n",
    "Taoyuan City, Bade District, 198473\n",
    "Kaohsiung City, Qianzhen District, 189623\n",
    "Kaohsiung City, Fengshan District, 359125\n",
    "Taipei City, Xinyi District, 225561\n",
    "New Taipei City, Xindian District, 302070"
   ]
  },
  {
   "cell_type": "code",
   "execution_count": null,
   "metadata": {},
   "outputs": [],
   "source": [
    "#dists.json\n",
    "\n",
    "{\"city\":{\"0\":\"\\u53f0\\u5317\\u5e02\",\"1\":\"\\u65b0\\u5317\\u5e02\",\"2\":\"\\u6843\\u5712\\u5e02\",\"3\":\"\\u53f0\\u4e2d\\u5e02\",\"4\":\"\\u53f0\\u5357\\u5e02\",\"5\":\"\\u9ad8\\u96c4\\u5e02\",\"6\":\"\\u53f0\\u5317\\u5e02\",\"7\":\"\\u65b0\\u5317\\u5e02\",\"8\":\"\\u6843\\u5712\\u5e02\",\"9\":\"\\u9ad8\\u96c4\\u5e02\",\"10\":\"\\u9ad8\\u96c4\\u5e02\",\"11\":\"\\u53f0\\u5317\\u5e02\",\"12\":\"\\u65b0\\u5317\\u5e02\"},\"name\":{\"0\":\"\\u4e2d\\u6b63\\u5340\",\"1\":\"\\u677f\\u6a4b\\u5340\",\"2\":\"\\u6843\\u5712\\u5340\",\"3\":\"\\u5317\\u5c6f\\u5340\",\"4\":\"\\u5b89\\u5357\\u5340\",\"5\":\"\\u4e09\\u6c11\\u5340\",\"6\":\"\\u5927\\u5b89\\u5340\",\"7\":\"\\u6c38\\u548c\\u5340\",\"8\":\"\\u516b\\u5fb7\\u5340\",\"9\":\"\\u524d\\u93ae\\u5340\",\"10\":\"\\u9cf3\\u5c71\\u5340\",\"11\":\"\\u4fe1\\u7fa9\\u5340\",\"12\":\"\\u65b0\\u5e97\\u5340\"},\"population\":{\"0\":159598,\"1\":551452,\"2\":441287,\"3\":275207,\"4\":192327,\"5\":343203,\"6\":309835,\"7\":222531,\"8\":198473,\"9\":189623,\"10\":359125,\"11\":225561,\"12\":302070}}"
   ]
  },
  {
   "cell_type": "code",
   "execution_count": null,
   "metadata": {},
   "outputs": [],
   "source": [
    "# chap. 11\n",
    "\n",
    "import pandas as pd\n",
    "tables = pd.read_html(\"http://www.stockq.org/market/commodity.php\")\n",
    "n = 1\n",
    "for table in tables:\n",
    "    print(\"The \"  + \" table \" + str(n) + \":\")\n",
    "    print(table.head())\n",
    "    print()\n",
    "    n += 1"
   ]
  },
  {
   "cell_type": "code",
   "execution_count": null,
   "metadata": {},
   "outputs": [],
   "source": [
    "import pandas as pd\n",
    "tables = pd.read_html(\"http://www.stockq.org/market/commodity.php\")\n",
    "table = tables[7]\n",
    "table = table.drop(table.index[[0,1]])\n",
    "table.columns = [\"commodity\", \"buy price\", \"up or down\", \"proportion\", \"Taipei\"]\n",
    "table.index = range(len(table.index))\n",
    "print(table)"
   ]
  },
  {
   "cell_type": "markdown",
   "metadata": {},
   "source": [
    "### DataFrame save as HTML file"
   ]
  },
  {
   "cell_type": "code",
   "execution_count": null,
   "metadata": {},
   "outputs": [],
   "source": [
    "# Set up the DataFrame object\n",
    "# Save the DataFrame object as HTML and save it to a file\n",
    "import pandas as pd\n",
    "\n",
    "dists = {\"name\": [\"Zhongzheng District\", \"Banqiao District\", \"Taoyuan District\", \"Beitun District\",\n",
    "                   \"Annan District\", \"Sanmin District\", \"Da'an District\", \"Yonghe District\",\n",
    "                   \"Bade District\", \"Qianzhen District\", \"Fengshan District\",\n",
    "                   \"Xinyi District\", \"Xindian District\"],\n",
    "         \"population\": [159598, 551452, 441287, 275207,\n",
    "                        192327, 343203, 309835, 222531,\n",
    "                        198473, 189623, 359125,\n",
    "                        225561, 302070],\n",
    "         \"city\": [\"Taipei City\", \"New Taipei City\", \"Taoyuan City\", \"Taichung City\",\n",
    "                  \"Tainan City\", \"Kaohsiung City\", \"Taipei City\", \"New Taipei City\",\n",
    "                  \"Taoyuan City\", \"Kaohsiung City\", \"Kaohsiung City\",\n",
    "                  \"Taipei City\", \"New Taipei City\"]}\n",
    "df = pd.DataFrame(dists)\n",
    "print(df) # The column title is not aligned with the value, the HTML file of the book debut will be neater\n",
    "# df.to_html(\"text\\section.html\") # Save the DataFrame object as HTML and save it to a file\n",
    "\n",
    "print('\\nshape:', df.shape)\n",
    "print('\\nindex:', df.index)\n",
    "print('\\ncolumns:', df.columns)\n",
    "print(\"\\nhead():\\n\", df.head())\n",
    "print('\\ndescribe():\\n', df.describe())"
   ]
  },
  {
   "cell_type": "code",
   "execution_count": null,
   "metadata": {},
   "outputs": [],
   "source": [
    "### HTML generated by the above program df.to_html(\"text\\section.html\")\n",
    "<table border=\"1\" class=\"dataframe\">\n",
    "  <thead>\n",
    "    <tr style=\"text-align: right;\">\n",
    "      <th></th>\n",
    "      <th>city</th>\n",
    "      <th>name</th>\n",
    "      <th>population</th>\n",
    "    </tr>\n",
    "  </thead>\n",
    "  <tbody>\n",
    "    <tr>\n",
    "       <th>0</th>\n",
    "      <td>Taipei City</td>\n",
    "      <td>Zhongzheng District</td>\n",
    "      <td>159598</td>\n",
    "    </tr>\n",
    "    <tr>\n",
    "      <th>1</th>\n",
    "      <td>New Taipei City</td>\n",
    "      <td>Itabashi District</td>\n",
    "      <td>551452</td>\n",
    "    </tr>\n",
    "    <tr>\n",
    "      <th>2</th>\n",
    "      <td>Taoyuan City</td>\n",
    "      <td>Taoyuan District</td>\n",
    "      <td>441287</td>\n",
    "    </tr>\n",
    "    <tr>\n",
    "      <th>3</th>\n",
    "      <td>Taichung City</td>\n",
    "      <td>Beitun District</td>\n",
    "      <td>275207</td>\n",
    "    </tr>\n",
    "    <tr>\n",
    "      <th>4</th>\n",
    "      <td>Tainan City</td>\n",
    "      <td>Other District</td>\n",
    "      <td>192327</td>\n",
    "    </tr>\n",
    "    <tr>\n",
    "      <th>5</th>\n",
    "      <td>Kaohsiung City</td>\n",
    "      <td>Sanmin District</td>\n",
    "      <td>343203</td>\n",
    "    </tr>\n",
    "    <tr>\n",
    "      <th>6</th>\n",
    "      <td>Taipei City</td>\n",
    "      <td>Da'an District</td>\n",
    "      <td>309835</td>\n",
    "    </tr>\n",
    "    <tr>\n",
    "      <th>7</th>\n",
    "      <td>New Taipei City</td>\n",
    "      <td>Yonghe District</td>\n",
    "      <td>222531</td>\n",
    "    </tr>\n",
    "    <tr>\n",
    "      <th>8</th>\n",
    "      <td>Taoyuan City</td>\n",
    "      <td>Bade District</td>\n",
    "      <td>198473</td>\n",
    "    </tr>\n",
    "    <tr>\n",
    "      <th>9</th>\n",
    "      <td>Kaohsiung City</td>\n",
    "      <td>Former village</td>\n",
    "      <td>189623</td>\n",
    "    </tr>\n",
    "    <tr>\n",
    "      <th>10</th>\n",
    "      <td>Kaohsiung City</td>\n",
    "      <td>Fengshan District</td>\n",
    "      <td>359125</td>\n",
    "    </tr>\n",
    "    <tr>\n",
    "      <th>11</th>\n",
    "      <td>Taipei City</td>\n",
    "      <td>Xinyi District</td>\n",
    "      <td>225561</td>\n",
    "    </tr>\n",
    "    <tr>\n",
    "      <th>12</th>\n",
    "      <td>New Taipei City</td>\n",
    "      <td>New shopping area</td>\n",
    "      <td>302070 </td>\n",
    "    </tr>\n",
    "  </tbody>\n",
    "</table>"
   ]
  },
  {
   "cell_type": "markdown",
   "metadata": {},
   "source": [
    "bibliography:\n",
    "\n",
    "- Chen Yunjie (2018). Python data science and artificial intelligence application practice. Taipei: Flag.\n",
    "- W3Schools\n",
    "- JavaPoints\n",
    "- Pandas official website"
   ]
  }
 ],
 "metadata": {
  "kernelspec": {
   "display_name": "Python 3",
   "language": "python",
   "name": "python3"
  },
  "language_info": {
   "codemirror_mode": {
    "name": "ipython",
    "version": 3
   },
   "file_extension": ".py",
   "mimetype": "text/x-python",
   "name": "python",
   "nbconvert_exporter": "python",
   "pygments_lexer": "ipython3",
   "version": "3.8.5"
  },
  "latex_envs": {
   "LaTeX_envs_menu_present": true,
   "autoclose": false,
   "autocomplete": true,
   "bibliofile": "biblio.bib",
   "cite_by": "apalike",
   "current_citInitial": 1,
   "eqLabelWithNumbers": true,
   "eqNumInitial": 1,
   "hotkeys": {
    "equation": "Ctrl-E",
    "itemize": "Ctrl-I"
   },
   "labels_anchors": false,
   "latex_user_defs": false,
   "report_style_numbering": false,
   "user_envs_cfg": false
  },
  "nbTranslate": {
   "displayLangs": [
    "zh-tw"
   ],
   "hotkey": "alt-t",
   "langInMainMenu": true,
   "sourceLang": "zh-tw",
   "targetLang": "en",
   "useGoogleTranslate": true
  }
 },
 "nbformat": 4,
 "nbformat_minor": 2
}
