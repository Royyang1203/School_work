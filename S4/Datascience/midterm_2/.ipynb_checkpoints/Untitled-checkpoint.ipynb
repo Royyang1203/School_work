{
 "cells": [
  {
   "cell_type": "code",
   "execution_count": null,
   "id": "7522d698",
   "metadata": {},
   "outputs": [],
   "source": [
    "from selenium import webdriver\n",
    "from time import sleep\n",
    "from selenium.webdriver.common.by import By\n",
    "from selenium.webdriver.chrome.service import Service\n",
    "import matplotlib.pyplot as plt\n",
    "import matplotlib.image as img\n",
    "import requests\n",
    "import pandas as pd\n",
    "import numpy as np\n",
    "\n",
    "plt.rcParams['font.sans-serif']=['Microsoft JhengHei'] # 自訂字體\n",
    "plt.rcParams['axes.unicode_minus']=False # 為了正常顯示正負號\n",
    "\n",
    "df = pd.read_csv(\"marriageTaoyuanData.csv\")\n",
    "df = df.drop(['Nationality - Female', 'Mainland Hong Kong and Macao Regions - Female', 'Foreign Nationality - Female'], 1)\n",
    "\n",
    "\n",
    "fig = plt.figure(figsize = (16, 16), facecolor = \"lightblue\")  \n",
    "fig.suptitle('Taoyuan Marriage Population', fontsize=16)\n",
    "\n",
    "width = 0.4\n",
    "ax1 = fig.add_subplot(211)\n",
    "bars1 = ax1.barh(df.iloc[:, 0] + width / 2, df.iloc[:, 1], height=width, label='Male', tick_label = df.iloc[:, 0])\n",
    "bars2 = ax1.barh(df.iloc[:, 0] - width / 2, df.iloc[:, 2], height=width, label='Female')\n",
    "ax1.bar_label(bars1, color='blue')\n",
    "ax1.bar_label(bars2, color='orange')\n",
    "\n",
    "plt.xlabel(\"population\")\n",
    "plt.ylabel(\"year\")\n",
    "plt.title(\"Total marriage population\")\n",
    "plt.legend(loc=4)\n",
    "\n",
    "\n",
    "\n",
    "ax2 = fig.add_subplot(212)\n",
    "ax2.bar(df.iloc[:, 0], df.iloc[:, 5], tick_label = df.iloc[:, 0], label='Foreign')\n",
    "ax2.bar(df.iloc[:, 0], df.iloc[:, 4], bottom=0, label='Mainland')\n",
    "plt.xticks(rotation = 90)\n",
    "plt.xlabel('year')\n",
    "plt.ylabel('population')\n",
    "plt.title(\"Mainland & Foreign marriage population\")\n",
    "plt.legend(loc=2)\n",
    "\n",
    "plt.tight_layout()\n",
    "df"
   ]
  }
 ],
 "metadata": {
  "kernelspec": {
   "display_name": "Python 3 (ipykernel)",
   "language": "python",
   "name": "python3"
  },
  "language_info": {
   "codemirror_mode": {
    "name": "ipython",
    "version": 3
   },
   "file_extension": ".py",
   "mimetype": "text/x-python",
   "name": "python",
   "nbconvert_exporter": "python",
   "pygments_lexer": "ipython3",
   "version": "3.9.7"
  }
 },
 "nbformat": 4,
 "nbformat_minor": 5
}
