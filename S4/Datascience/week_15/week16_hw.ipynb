{
 "cells": [
  {
   "cell_type": "code",
   "execution_count": 164,
   "id": "cab1d400",
   "metadata": {},
   "outputs": [
    {
     "name": "stdout",
     "output_type": "stream",
     "text": [
      "python version : 3.9.7 (default, Sep 16 2021, 16:59:28) [MSC v.1916 64 bit (AMD64)]\n",
      "pandas version : 1.3.4\n",
      "numpy version : 1.20.3\n",
      "sklearn version : 0.24.2\n",
      "seaborn version : 0.11.2\n",
      "matplotlib version : 3.4.3\n"
     ]
    }
   ],
   "source": [
    "import sys\n",
    "import pandas as pd\n",
    "import numpy as np\n",
    "import sklearn\n",
    "from sklearn import datasets\n",
    "from sklearn import neighbors \n",
    "from sklearn.model_selection import cross_val_score\n",
    "from sklearn.model_selection import train_test_split\n",
    "import matplotlib\n",
    "import matplotlib.pyplot as plt\n",
    "import seaborn as sns\n",
    "\n",
    "\n",
    "print('python version : {}'.format(sys.version))\n",
    "print('pandas version : {}'.format(pd.__version__))\n",
    "print('numpy version : {}'.format(np.__version__))\n",
    "print('sklearn version : {}'.format(sklearn.__version__))\n",
    "print('seaborn version : {}'.format(sns.__version__))\n",
    "print('matplotlib version : {}'.format(matplotlib.__version__))"
   ]
  },
  {
   "cell_type": "code",
   "execution_count": 165,
   "id": "5d9d5c2e",
   "metadata": {},
   "outputs": [
    {
     "data": {
      "text/html": [
       "<div>\n",
       "<style scoped>\n",
       "    .dataframe tbody tr th:only-of-type {\n",
       "        vertical-align: middle;\n",
       "    }\n",
       "\n",
       "    .dataframe tbody tr th {\n",
       "        vertical-align: top;\n",
       "    }\n",
       "\n",
       "    .dataframe thead th {\n",
       "        text-align: right;\n",
       "    }\n",
       "</style>\n",
       "<table border=\"1\" class=\"dataframe\">\n",
       "  <thead>\n",
       "    <tr style=\"text-align: right;\">\n",
       "      <th></th>\n",
       "      <th>PassengerId</th>\n",
       "      <th>Name</th>\n",
       "      <th>PClass</th>\n",
       "      <th>Age</th>\n",
       "      <th>Sex</th>\n",
       "      <th>Survived</th>\n",
       "    </tr>\n",
       "  </thead>\n",
       "  <tbody>\n",
       "    <tr>\n",
       "      <th>0</th>\n",
       "      <td>1.0</td>\n",
       "      <td>Allen, Miss Elisabeth Walton</td>\n",
       "      <td>1st</td>\n",
       "      <td>29.00</td>\n",
       "      <td>female</td>\n",
       "      <td>1.0</td>\n",
       "    </tr>\n",
       "    <tr>\n",
       "      <th>1</th>\n",
       "      <td>2.0</td>\n",
       "      <td>Allison, Miss Helen Loraine</td>\n",
       "      <td>1st</td>\n",
       "      <td>2.00</td>\n",
       "      <td>female</td>\n",
       "      <td>0.0</td>\n",
       "    </tr>\n",
       "    <tr>\n",
       "      <th>2</th>\n",
       "      <td>3.0</td>\n",
       "      <td>Allison, Mr Hudson Joshua Creighton</td>\n",
       "      <td>1st</td>\n",
       "      <td>30.00</td>\n",
       "      <td>male</td>\n",
       "      <td>0.0</td>\n",
       "    </tr>\n",
       "    <tr>\n",
       "      <th>3</th>\n",
       "      <td>4.0</td>\n",
       "      <td>Allison, Mrs Hudson JC (Bessie Waldo Daniels)</td>\n",
       "      <td>1st</td>\n",
       "      <td>25.00</td>\n",
       "      <td>female</td>\n",
       "      <td>0.0</td>\n",
       "    </tr>\n",
       "    <tr>\n",
       "      <th>4</th>\n",
       "      <td>5.0</td>\n",
       "      <td>Allison, Master Hudson Trevor</td>\n",
       "      <td>1st</td>\n",
       "      <td>0.92</td>\n",
       "      <td>male</td>\n",
       "      <td>1.0</td>\n",
       "    </tr>\n",
       "  </tbody>\n",
       "</table>\n",
       "</div>"
      ],
      "text/plain": [
       "   PassengerId                                           Name PClass    Age  \\\n",
       "0          1.0                   Allen, Miss Elisabeth Walton    1st  29.00   \n",
       "1          2.0                    Allison, Miss Helen Loraine    1st   2.00   \n",
       "2          3.0            Allison, Mr Hudson Joshua Creighton    1st  30.00   \n",
       "3          4.0  Allison, Mrs Hudson JC (Bessie Waldo Daniels)    1st  25.00   \n",
       "4          5.0                  Allison, Master Hudson Trevor    1st   0.92   \n",
       "\n",
       "      Sex  Survived  \n",
       "0  female       1.0  \n",
       "1  female       0.0  \n",
       "2    male       0.0  \n",
       "3  female       0.0  \n",
       "4    male       1.0  "
      ]
     },
     "execution_count": 165,
     "metadata": {},
     "output_type": "execute_result"
    }
   ],
   "source": [
    "# read the data in\n",
    "df = pd.read_csv('titanic.csv')\n",
    "df.head()"
   ]
  },
  {
   "cell_type": "code",
   "execution_count": 166,
   "id": "a61e9d45",
   "metadata": {
    "scrolled": true
   },
   "outputs": [
    {
     "data": {
      "text/plain": [
       "PassengerId     25\n",
       "Name            25\n",
       "PClass          25\n",
       "Age            573\n",
       "Sex             25\n",
       "Survived        25\n",
       "dtype: int64"
      ]
     },
     "execution_count": 166,
     "metadata": {},
     "output_type": "execute_result"
    }
   ],
   "source": [
    "# check the null value in dataframe\n",
    "df.isnull().sum()"
   ]
  },
  {
   "cell_type": "code",
   "execution_count": 167,
   "id": "629df2d0",
   "metadata": {},
   "outputs": [],
   "source": [
    "# drop the rows with all Nan\n",
    "df.dropna(axis=0, how='all', thresh=None, subset=None, inplace=True)"
   ]
  },
  {
   "cell_type": "code",
   "execution_count": 168,
   "id": "10fb4912",
   "metadata": {
    "scrolled": true
   },
   "outputs": [
    {
     "data": {
      "text/plain": [
       "PassengerId      0\n",
       "Name             0\n",
       "PClass           0\n",
       "Age            548\n",
       "Sex              0\n",
       "Survived         0\n",
       "dtype: int64"
      ]
     },
     "execution_count": 168,
     "metadata": {},
     "output_type": "execute_result"
    }
   ],
   "source": [
    "df.isnull().sum()"
   ]
  },
  {
   "cell_type": "code",
   "execution_count": 169,
   "id": "c331c642",
   "metadata": {
    "scrolled": false
   },
   "outputs": [
    {
     "data": {
      "text/html": [
       "<div>\n",
       "<style scoped>\n",
       "    .dataframe tbody tr th:only-of-type {\n",
       "        vertical-align: middle;\n",
       "    }\n",
       "\n",
       "    .dataframe tbody tr th {\n",
       "        vertical-align: top;\n",
       "    }\n",
       "\n",
       "    .dataframe thead th {\n",
       "        text-align: right;\n",
       "    }\n",
       "</style>\n",
       "<table border=\"1\" class=\"dataframe\">\n",
       "  <thead>\n",
       "    <tr style=\"text-align: right;\">\n",
       "      <th></th>\n",
       "      <th>PassengerId</th>\n",
       "      <th>Name</th>\n",
       "      <th>PClass</th>\n",
       "      <th>Age</th>\n",
       "      <th>Sex</th>\n",
       "      <th>Survived</th>\n",
       "    </tr>\n",
       "  </thead>\n",
       "  <tbody>\n",
       "    <tr>\n",
       "      <th>0</th>\n",
       "      <td>1.0</td>\n",
       "      <td>Allen, Miss Elisabeth Walton</td>\n",
       "      <td>1st</td>\n",
       "      <td>29.00</td>\n",
       "      <td>1</td>\n",
       "      <td>1.0</td>\n",
       "    </tr>\n",
       "    <tr>\n",
       "      <th>1</th>\n",
       "      <td>2.0</td>\n",
       "      <td>Allison, Miss Helen Loraine</td>\n",
       "      <td>1st</td>\n",
       "      <td>2.00</td>\n",
       "      <td>1</td>\n",
       "      <td>0.0</td>\n",
       "    </tr>\n",
       "    <tr>\n",
       "      <th>2</th>\n",
       "      <td>3.0</td>\n",
       "      <td>Allison, Mr Hudson Joshua Creighton</td>\n",
       "      <td>1st</td>\n",
       "      <td>30.00</td>\n",
       "      <td>0</td>\n",
       "      <td>0.0</td>\n",
       "    </tr>\n",
       "    <tr>\n",
       "      <th>3</th>\n",
       "      <td>4.0</td>\n",
       "      <td>Allison, Mrs Hudson JC (Bessie Waldo Daniels)</td>\n",
       "      <td>1st</td>\n",
       "      <td>25.00</td>\n",
       "      <td>1</td>\n",
       "      <td>0.0</td>\n",
       "    </tr>\n",
       "    <tr>\n",
       "      <th>4</th>\n",
       "      <td>5.0</td>\n",
       "      <td>Allison, Master Hudson Trevor</td>\n",
       "      <td>1st</td>\n",
       "      <td>0.92</td>\n",
       "      <td>0</td>\n",
       "      <td>1.0</td>\n",
       "    </tr>\n",
       "  </tbody>\n",
       "</table>\n",
       "</div>"
      ],
      "text/plain": [
       "   PassengerId                                           Name PClass    Age  \\\n",
       "0          1.0                   Allen, Miss Elisabeth Walton    1st  29.00   \n",
       "1          2.0                    Allison, Miss Helen Loraine    1st   2.00   \n",
       "2          3.0            Allison, Mr Hudson Joshua Creighton    1st  30.00   \n",
       "3          4.0  Allison, Mrs Hudson JC (Bessie Waldo Daniels)    1st  25.00   \n",
       "4          5.0                  Allison, Master Hudson Trevor    1st   0.92   \n",
       "\n",
       "   Sex  Survived  \n",
       "0    1       1.0  \n",
       "1    1       0.0  \n",
       "2    0       0.0  \n",
       "3    1       0.0  \n",
       "4    0       1.0  "
      ]
     },
     "execution_count": 169,
     "metadata": {},
     "output_type": "execute_result"
    }
   ],
   "source": [
    "# convert Sex to catergorical value\n",
    "df['Sex'].replace({'male':0, 'female':1}, inplace = True)\n",
    "df.head()"
   ]
  },
  {
   "cell_type": "code",
   "execution_count": 170,
   "id": "ac80032a",
   "metadata": {
    "scrolled": false
   },
   "outputs": [
    {
     "data": {
      "text/html": [
       "<div>\n",
       "<style scoped>\n",
       "    .dataframe tbody tr th:only-of-type {\n",
       "        vertical-align: middle;\n",
       "    }\n",
       "\n",
       "    .dataframe tbody tr th {\n",
       "        vertical-align: top;\n",
       "    }\n",
       "\n",
       "    .dataframe thead th {\n",
       "        text-align: right;\n",
       "    }\n",
       "</style>\n",
       "<table border=\"1\" class=\"dataframe\">\n",
       "  <thead>\n",
       "    <tr style=\"text-align: right;\">\n",
       "      <th></th>\n",
       "      <th>PassengerId</th>\n",
       "      <th>Name</th>\n",
       "      <th>PClass</th>\n",
       "      <th>Age</th>\n",
       "      <th>Sex</th>\n",
       "      <th>Survived</th>\n",
       "    </tr>\n",
       "  </thead>\n",
       "  <tbody>\n",
       "    <tr>\n",
       "      <th>0</th>\n",
       "      <td>1.0</td>\n",
       "      <td>Allen, Miss Elisabeth Walton</td>\n",
       "      <td>1</td>\n",
       "      <td>29.00</td>\n",
       "      <td>1</td>\n",
       "      <td>1.0</td>\n",
       "    </tr>\n",
       "    <tr>\n",
       "      <th>1</th>\n",
       "      <td>2.0</td>\n",
       "      <td>Allison, Miss Helen Loraine</td>\n",
       "      <td>1</td>\n",
       "      <td>2.00</td>\n",
       "      <td>1</td>\n",
       "      <td>0.0</td>\n",
       "    </tr>\n",
       "    <tr>\n",
       "      <th>2</th>\n",
       "      <td>3.0</td>\n",
       "      <td>Allison, Mr Hudson Joshua Creighton</td>\n",
       "      <td>1</td>\n",
       "      <td>30.00</td>\n",
       "      <td>0</td>\n",
       "      <td>0.0</td>\n",
       "    </tr>\n",
       "    <tr>\n",
       "      <th>3</th>\n",
       "      <td>4.0</td>\n",
       "      <td>Allison, Mrs Hudson JC (Bessie Waldo Daniels)</td>\n",
       "      <td>1</td>\n",
       "      <td>25.00</td>\n",
       "      <td>1</td>\n",
       "      <td>0.0</td>\n",
       "    </tr>\n",
       "    <tr>\n",
       "      <th>4</th>\n",
       "      <td>5.0</td>\n",
       "      <td>Allison, Master Hudson Trevor</td>\n",
       "      <td>1</td>\n",
       "      <td>0.92</td>\n",
       "      <td>0</td>\n",
       "      <td>1.0</td>\n",
       "    </tr>\n",
       "  </tbody>\n",
       "</table>\n",
       "</div>"
      ],
      "text/plain": [
       "   PassengerId                                           Name PClass    Age  \\\n",
       "0          1.0                   Allen, Miss Elisabeth Walton      1  29.00   \n",
       "1          2.0                    Allison, Miss Helen Loraine      1   2.00   \n",
       "2          3.0            Allison, Mr Hudson Joshua Creighton      1  30.00   \n",
       "3          4.0  Allison, Mrs Hudson JC (Bessie Waldo Daniels)      1  25.00   \n",
       "4          5.0                  Allison, Master Hudson Trevor      1   0.92   \n",
       "\n",
       "   Sex  Survived  \n",
       "0    1       1.0  \n",
       "1    1       0.0  \n",
       "2    0       0.0  \n",
       "3    1       0.0  \n",
       "4    0       1.0  "
      ]
     },
     "execution_count": 170,
     "metadata": {},
     "output_type": "execute_result"
    }
   ],
   "source": [
    "# convert PClass to catergorical value\n",
    "df['PClass'] = df['PClass'].str.extract('(\\d+)')\n",
    "df.head()"
   ]
  },
  {
   "cell_type": "code",
   "execution_count": 171,
   "id": "3e7fd996",
   "metadata": {
    "scrolled": true
   },
   "outputs": [
    {
     "data": {
      "text/html": [
       "<div>\n",
       "<style scoped>\n",
       "    .dataframe tbody tr th:only-of-type {\n",
       "        vertical-align: middle;\n",
       "    }\n",
       "\n",
       "    .dataframe tbody tr th {\n",
       "        vertical-align: top;\n",
       "    }\n",
       "\n",
       "    .dataframe thead th {\n",
       "        text-align: right;\n",
       "    }\n",
       "</style>\n",
       "<table border=\"1\" class=\"dataframe\">\n",
       "  <thead>\n",
       "    <tr style=\"text-align: right;\">\n",
       "      <th></th>\n",
       "      <th>PassengerId</th>\n",
       "      <th>Name</th>\n",
       "      <th>PClass</th>\n",
       "      <th>Age</th>\n",
       "      <th>Sex</th>\n",
       "      <th>Survived</th>\n",
       "      <th>Title</th>\n",
       "    </tr>\n",
       "  </thead>\n",
       "  <tbody>\n",
       "    <tr>\n",
       "      <th>0</th>\n",
       "      <td>1.0</td>\n",
       "      <td>Allen, Miss Elisabeth Walton</td>\n",
       "      <td>1</td>\n",
       "      <td>29.00</td>\n",
       "      <td>1</td>\n",
       "      <td>1.0</td>\n",
       "      <td>Miss</td>\n",
       "    </tr>\n",
       "    <tr>\n",
       "      <th>1</th>\n",
       "      <td>2.0</td>\n",
       "      <td>Allison, Miss Helen Loraine</td>\n",
       "      <td>1</td>\n",
       "      <td>2.00</td>\n",
       "      <td>1</td>\n",
       "      <td>0.0</td>\n",
       "      <td>Miss</td>\n",
       "    </tr>\n",
       "    <tr>\n",
       "      <th>2</th>\n",
       "      <td>3.0</td>\n",
       "      <td>Allison, Mr Hudson Joshua Creighton</td>\n",
       "      <td>1</td>\n",
       "      <td>30.00</td>\n",
       "      <td>0</td>\n",
       "      <td>0.0</td>\n",
       "      <td>Mr</td>\n",
       "    </tr>\n",
       "    <tr>\n",
       "      <th>3</th>\n",
       "      <td>4.0</td>\n",
       "      <td>Allison, Mrs Hudson JC (Bessie Waldo Daniels)</td>\n",
       "      <td>1</td>\n",
       "      <td>25.00</td>\n",
       "      <td>1</td>\n",
       "      <td>0.0</td>\n",
       "      <td>Mrs</td>\n",
       "    </tr>\n",
       "    <tr>\n",
       "      <th>4</th>\n",
       "      <td>5.0</td>\n",
       "      <td>Allison, Master Hudson Trevor</td>\n",
       "      <td>1</td>\n",
       "      <td>0.92</td>\n",
       "      <td>0</td>\n",
       "      <td>1.0</td>\n",
       "      <td>Master</td>\n",
       "    </tr>\n",
       "    <tr>\n",
       "      <th>...</th>\n",
       "      <td>...</td>\n",
       "      <td>...</td>\n",
       "      <td>...</td>\n",
       "      <td>...</td>\n",
       "      <td>...</td>\n",
       "      <td>...</td>\n",
       "      <td>...</td>\n",
       "    </tr>\n",
       "    <tr>\n",
       "      <th>1277</th>\n",
       "      <td>1278.0</td>\n",
       "      <td>Zakarian, Mr Artun</td>\n",
       "      <td>3</td>\n",
       "      <td>27.00</td>\n",
       "      <td>0</td>\n",
       "      <td>0.0</td>\n",
       "      <td>Mr</td>\n",
       "    </tr>\n",
       "    <tr>\n",
       "      <th>1278</th>\n",
       "      <td>1279.0</td>\n",
       "      <td>Zakarian, Mr Maprieder</td>\n",
       "      <td>3</td>\n",
       "      <td>26.00</td>\n",
       "      <td>0</td>\n",
       "      <td>0.0</td>\n",
       "      <td>Mr</td>\n",
       "    </tr>\n",
       "    <tr>\n",
       "      <th>1279</th>\n",
       "      <td>1280.0</td>\n",
       "      <td>Zenni, Mr Philip</td>\n",
       "      <td>3</td>\n",
       "      <td>22.00</td>\n",
       "      <td>0</td>\n",
       "      <td>0.0</td>\n",
       "      <td>Mr</td>\n",
       "    </tr>\n",
       "    <tr>\n",
       "      <th>1280</th>\n",
       "      <td>1281.0</td>\n",
       "      <td>Lievens, Mr Rene</td>\n",
       "      <td>3</td>\n",
       "      <td>24.00</td>\n",
       "      <td>0</td>\n",
       "      <td>0.0</td>\n",
       "      <td>Mr</td>\n",
       "    </tr>\n",
       "    <tr>\n",
       "      <th>1281</th>\n",
       "      <td>1282.0</td>\n",
       "      <td>Zimmerman, Leo</td>\n",
       "      <td>3</td>\n",
       "      <td>29.00</td>\n",
       "      <td>0</td>\n",
       "      <td>0.0</td>\n",
       "      <td>Leo</td>\n",
       "    </tr>\n",
       "  </tbody>\n",
       "</table>\n",
       "<p>1282 rows × 7 columns</p>\n",
       "</div>"
      ],
      "text/plain": [
       "      PassengerId                                           Name PClass  \\\n",
       "0             1.0                   Allen, Miss Elisabeth Walton      1   \n",
       "1             2.0                    Allison, Miss Helen Loraine      1   \n",
       "2             3.0            Allison, Mr Hudson Joshua Creighton      1   \n",
       "3             4.0  Allison, Mrs Hudson JC (Bessie Waldo Daniels)      1   \n",
       "4             5.0                  Allison, Master Hudson Trevor      1   \n",
       "...           ...                                            ...    ...   \n",
       "1277       1278.0                             Zakarian, Mr Artun      3   \n",
       "1278       1279.0                         Zakarian, Mr Maprieder      3   \n",
       "1279       1280.0                               Zenni, Mr Philip      3   \n",
       "1280       1281.0                               Lievens, Mr Rene      3   \n",
       "1281       1282.0                                 Zimmerman, Leo      3   \n",
       "\n",
       "        Age  Sex  Survived   Title  \n",
       "0     29.00    1       1.0    Miss  \n",
       "1      2.00    1       0.0    Miss  \n",
       "2     30.00    0       0.0      Mr  \n",
       "3     25.00    1       0.0     Mrs  \n",
       "4      0.92    0       1.0  Master  \n",
       "...     ...  ...       ...     ...  \n",
       "1277  27.00    0       0.0      Mr  \n",
       "1278  26.00    0       0.0      Mr  \n",
       "1279  22.00    0       0.0      Mr  \n",
       "1280  24.00    0       0.0      Mr  \n",
       "1281  29.00    0       0.0     Leo  \n",
       "\n",
       "[1282 rows x 7 columns]"
      ]
     },
     "execution_count": 171,
     "metadata": {},
     "output_type": "execute_result"
    }
   ],
   "source": [
    "# try to get the titles in there names\n",
    "df['Title'] = df['Name'].str.extract(' ([A-Za-z]+)', expand=True)\n",
    "df"
   ]
  },
  {
   "cell_type": "code",
   "execution_count": 172,
   "id": "4c4e8037",
   "metadata": {
    "scrolled": false
   },
   "outputs": [
    {
     "data": {
      "image/png": "[encoded data removed]",
      "text/plain": [
       "<Figure size 576x432 with 1 Axes>"
      ]
     },
     "metadata": {
      "needs_background": "light"
     },
     "output_type": "display_data"
    }
   ],
   "source": [
    "plt.figure(figsize=(8,6))\n",
    "sns.countplot(x= \"Title\",data = df)\n",
    "plt.xticks(rotation='90')\n",
    "plt.show()"
   ]
  },
  {
   "cell_type": "code",
   "execution_count": 173,
   "id": "bfc192d5",
   "metadata": {
    "scrolled": false
   },
   "outputs": [
    {
     "name": "stdout",
     "output_type": "stream",
     "text": [
      "Title\n",
      "Albert          NaN\n",
      "Billiard        NaN\n",
      "Brito           NaN\n",
      "Captain        70.0\n",
      "Carlo          25.0\n",
      "Col            58.0\n",
      "Colonel        50.5\n",
      "Delia           NaN\n",
      "Derhoef        61.0\n",
      "Dr             44.0\n",
      "Eino           20.0\n",
      "Ernst          18.0\n",
      "Gordon         48.5\n",
      "Hilda          22.0\n",
      "Impe           30.0\n",
      "Jenny          28.0\n",
      "Jonkheer        NaN\n",
      "Khalil          NaN\n",
      "Leo            29.0\n",
      "Major          48.5\n",
      "Mansouer        NaN\n",
      "Master          4.0\n",
      "Messemaeker    36.0\n",
      "Miss           21.0\n",
      "Mlle            NaN\n",
      "Mr             30.0\n",
      "Mrs            37.5\n",
      "Ms              NaN\n",
      "Mulder         30.0\n",
      "Nikolai         NaN\n",
      "Nils           27.0\n",
      "Oscar          26.0\n",
      "Rev            40.0\n",
      "Richard         NaN\n",
      "Sander          NaN\n",
      "Simon           NaN\n",
      "Thomas          NaN\n",
      "Villiers        NaN\n",
      "W               NaN\n",
      "William         NaN\n",
      "de             36.0\n",
      "der            28.0\n",
      "the            27.0\n",
      "y              28.0\n",
      "Name: Age, dtype: float64\n"
     ]
    }
   ],
   "source": [
    "print(df.groupby('Title')['Age'].median())"
   ]
  },
  {
   "cell_type": "code",
   "execution_count": 174,
   "id": "39b2fed7",
   "metadata": {},
   "outputs": [],
   "source": [
    "# fill the missing value for Age column with median of its title\n",
    "titles = list(df.Title.unique())\n",
    "for title in titles:\n",
    "    age = df.groupby('Title')['Age'].median().loc[title]\n",
    "    if age == None:\n",
    "        df.loc[(df.Age.isnull()) & (df.Title == title),'Age'] = None\n",
    "    else:\n",
    "        df.loc[(df.Age.isnull()) & (df.Title == title),'Age'] = age"
   ]
  },
  {
   "cell_type": "code",
   "execution_count": 175,
   "id": "007a72ef",
   "metadata": {},
   "outputs": [
    {
     "data": {
      "text/plain": [
       "PassengerId     0\n",
       "Name            0\n",
       "PClass          0\n",
       "Age            36\n",
       "Sex             0\n",
       "Survived        0\n",
       "Title           0\n",
       "dtype: int64"
      ]
     },
     "execution_count": 175,
     "metadata": {},
     "output_type": "execute_result"
    }
   ],
   "source": [
    "df.isnull().sum()"
   ]
  },
  {
   "cell_type": "code",
   "execution_count": 176,
   "id": "697ecdd6",
   "metadata": {},
   "outputs": [
    {
     "name": "stdout",
     "output_type": "stream",
     "text": [
      "Sex\n",
      "0    30.0\n",
      "1    25.0\n",
      "Name: Age, dtype: float64\n"
     ]
    }
   ],
   "source": [
    "print(df.groupby('Sex')['Age'].median())"
   ]
  },
  {
   "cell_type": "code",
   "execution_count": 177,
   "id": "6516adb7",
   "metadata": {},
   "outputs": [],
   "source": [
    "# fill the missing value for Age column with median of its Sex\n",
    "sexes = list(df.Sex.unique())\n",
    "for s in sexes:\n",
    "    ss = df.groupby('Sex')['Age'].median().loc[s]\n",
    "    df.loc[(df.Age.isnull()) & (df['Sex'] == s),'Age'] = ss"
   ]
  },
  {
   "cell_type": "code",
   "execution_count": 178,
   "id": "1bf63d1f",
   "metadata": {},
   "outputs": [
    {
     "data": {
      "text/plain": [
       "PassengerId    0\n",
       "Name           0\n",
       "PClass         0\n",
       "Age            0\n",
       "Sex            0\n",
       "Survived       0\n",
       "Title          0\n",
       "dtype: int64"
      ]
     },
     "execution_count": 178,
     "metadata": {},
     "output_type": "execute_result"
    }
   ],
   "source": [
    "df.isnull().sum()"
   ]
  },
  {
   "cell_type": "code",
   "execution_count": 179,
   "id": "06afa59a",
   "metadata": {},
   "outputs": [],
   "source": [
    "# only select the features we want\n",
    "features = ['PClass', 'Age', 'Sex']\n",
    "X = df[features]\n",
    "y = df['Survived']"
   ]
  },
  {
   "cell_type": "code",
   "execution_count": 180,
   "id": "e032ae8e",
   "metadata": {},
   "outputs": [],
   "source": [
    "# split the data into train and test\n",
    "XTrain, XTest, yTrain, yTest = train_test_split(X, y, test_size=0.3,\n",
    "                                                random_state=1)"
   ]
  },
  {
   "cell_type": "code",
   "execution_count": 181,
   "id": "6ca4a2ac",
   "metadata": {},
   "outputs": [],
   "source": [
    "Ks = np.arange(1, round(0.2*len(XTrain) + 1))\n",
    "accuracies_train=[]\n",
    "accuracies_test = []\n",
    "for k in Ks:\n",
    "    knn = neighbors.KNeighborsClassifier(n_neighbors=k)\n",
    "    knn.fit(X, y)\n",
    "    accuracy_train = knn.score(XTrain, yTrain)\n",
    "    accuracies_train.append(accuracy_train)\n",
    "    accuracy_test = knn.score(XTest, yTest)\n",
    "    accuracies_test.append(accuracy_test)"
   ]
  },
  {
   "cell_type": "code",
   "execution_count": 182,
   "id": "509b26d1",
   "metadata": {
    "scrolled": true
   },
   "outputs": [
    {
     "data": {
      "image/png": "[encoded data removed]",
      "text/plain": [
       "<Figure size 432x288 with 1 Axes>"
      ]
     },
     "metadata": {
      "needs_background": "light"
     },
     "output_type": "display_data"
    }
   ],
   "source": [
    "plt.plot(Ks, accuracies_train, label = 'Train accuracies')\n",
    "plt.plot(Ks, accuracies_test, label = 'Test accuracies')\n",
    "plt.legend()\n",
    "plt.show()"
   ]
  },
  {
   "cell_type": "code",
   "execution_count": 183,
   "id": "a5cffafe",
   "metadata": {},
   "outputs": [
    {
     "name": "stdout",
     "output_type": "stream",
     "text": [
      "2\n",
      "2\n"
     ]
    }
   ],
   "source": [
    "# get the highest accuracires' K\n",
    "print(accuracies_train.index(max(accuracies_train)))\n",
    "print(accuracies_test.index(max(accuracies_test)))"
   ]
  },
  {
   "cell_type": "code",
   "execution_count": 184,
   "id": "f2e41825",
   "metadata": {},
   "outputs": [
    {
     "name": "stdout",
     "output_type": "stream",
     "text": [
      "0.842809364548495\n",
      "0.8597402597402597\n"
     ]
    }
   ],
   "source": [
    "print(max(accuracies_train))\n",
    "print(max(accuracies_test))"
   ]
  }
 ],
 "metadata": {
  "kernelspec": {
   "display_name": "Python 3 (ipykernel)",
   "language": "python",
   "name": "python3"
  },
  "language_info": {
   "codemirror_mode": {
    "name": "ipython",
    "version": 3
   },
   "file_extension": ".py",
   "mimetype": "text/x-python",
   "name": "python",
   "nbconvert_exporter": "python",
   "pygments_lexer": "ipython3",
   "version": "3.9.7"
  }
 },
 "nbformat": 4,
 "nbformat_minor": 5
}
