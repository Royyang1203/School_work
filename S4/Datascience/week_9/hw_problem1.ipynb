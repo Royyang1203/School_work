{
 "cells": [
  {
   "cell_type": "code",
   "execution_count": 1,
   "id": "430a6c5f",
   "metadata": {},
   "outputs": [
    {
     "ename": "ValueError",
     "evalue": "could not convert string to float: '最新'",
     "output_type": "error",
     "traceback": [
      "\u001b[1;31m---------------------------------------------------------------------------\u001b[0m",
      "\u001b[1;31mValueError\u001b[0m                                Traceback (most recent call last)",
      "\u001b[1;32m~\\AppData\\Local\\Temp/ipykernel_55400/2860669688.py\u001b[0m in \u001b[0;36m<module>\u001b[1;34m\u001b[0m\n\u001b[0;32m     14\u001b[0m \u001b[0mprice\u001b[0m \u001b[1;33m=\u001b[0m \u001b[1;33m[\u001b[0m\u001b[1;33m]\u001b[0m\u001b[1;33m\u001b[0m\u001b[1;33m\u001b[0m\u001b[0m\n\u001b[0;32m     15\u001b[0m \u001b[1;32mfor\u001b[0m \u001b[0mi\u001b[0m\u001b[1;33m,\u001b[0m \u001b[0mj\u001b[0m \u001b[1;32min\u001b[0m \u001b[0mzip\u001b[0m\u001b[1;33m(\u001b[0m\u001b[0mbs_set_rating\u001b[0m\u001b[1;33m,\u001b[0m \u001b[0mbs_set_price\u001b[0m\u001b[1;33m)\u001b[0m\u001b[1;33m:\u001b[0m\u001b[1;33m\u001b[0m\u001b[1;33m\u001b[0m\u001b[0m\n\u001b[1;32m---> 16\u001b[1;33m     \u001b[0mrating\u001b[0m \u001b[1;33m+=\u001b[0m \u001b[1;33m[\u001b[0m\u001b[0mfloat\u001b[0m\u001b[1;33m(\u001b[0m\u001b[0mi\u001b[0m\u001b[1;33m.\u001b[0m\u001b[0mtext\u001b[0m\u001b[1;33m)\u001b[0m\u001b[1;33m]\u001b[0m\u001b[1;33m\u001b[0m\u001b[1;33m\u001b[0m\u001b[0m\n\u001b[0m\u001b[0;32m     17\u001b[0m     \u001b[0mprice\u001b[0m \u001b[1;33m+=\u001b[0m \u001b[1;33m[\u001b[0m\u001b[0mint\u001b[0m\u001b[1;33m(\u001b[0m\u001b[1;34m''\u001b[0m\u001b[1;33m.\u001b[0m\u001b[0mjoin\u001b[0m\u001b[1;33m(\u001b[0m\u001b[0mre\u001b[0m\u001b[1;33m.\u001b[0m\u001b[0mfindall\u001b[0m\u001b[1;33m(\u001b[0m\u001b[1;34mr'\\d+'\u001b[0m\u001b[1;33m,\u001b[0m \u001b[0mj\u001b[0m\u001b[1;33m.\u001b[0m\u001b[0mtext\u001b[0m\u001b[1;33m)\u001b[0m\u001b[1;33m)\u001b[0m\u001b[1;33m)\u001b[0m\u001b[1;33m]\u001b[0m\u001b[1;33m\u001b[0m\u001b[1;33m\u001b[0m\u001b[0m\n\u001b[0;32m     18\u001b[0m \u001b[1;33m\u001b[0m\u001b[0m\n",
      "\u001b[1;31mValueError\u001b[0m: could not convert string to float: '最新'"
     ]
    }
   ],
   "source": [
    "import requests\n",
    "from bs4 import BeautifulSoup\n",
    "import pandas as pd\n",
    "import re\n",
    "\n",
    "url = 'https://www.airbnb.com.tw/s/%E6%8B%89%E6%96%AF%E7%B6%AD%E5%8A%A0%E6%96%AF/homes?adults=2&checkin=2022-06-20&checkout=2022-06-21&date_picker_type=calendar&flexible_trip_dates%5B%5D=april&flexible_trip_dates%5B%5D=may&flexible_trip_lengths%5B%5D=weekend_trip&languages%5B%5D=1&languages%5B%5D=128&min_bathrooms=1&min_bedrooms=1&min_beds=1&price_max=2000&price_min=1700&query=%E7%BE%8E%E5%9C%8B%E5%85%A7%E8%8F%AF%E9%81%94%E5%B7%9E%E6%8B%89%E6%96%AF%E7%B6%AD%E5%8A%A0%E6%96%AF&refinement_paths%5B%5D=%2Fhomes&room_types%5B%5D=Private+room&search_type=filter_change&source=structured_search_input_header&superhost=true&tab_id=home_tab'\n",
    "html = requests.get(url)\n",
    "sp = BeautifulSoup(html.text, 'html.parser')\n",
    "\n",
    "bs_set_rating= sp.find_all(class_=\"rpz7y38\", limit=10)\n",
    "bs_set_price= sp.find_all(class_=\"_tyxjp1\", limit=10)\n",
    "\n",
    "rating = []\n",
    "price = []\n",
    "for i, j in zip(bs_set_rating, bs_set_price):\n",
    "    rating += [float(i.text)]\n",
    "    price += [int(''.join(re.findall(r'\\d+', j.text)))]\n",
    "\n",
    "\n",
    "df = pd.DataFrame({'rating':rating, 'price':price})\n",
    "df.sort_values(by=['rating', 'price'], ascending=[0, 1], ignore_index=True, inplace=True)\n",
    "df"
   ]
  },
  {
   "cell_type": "code",
   "execution_count": 22,
   "id": "6fe5066b",
   "metadata": {},
   "outputs": [
    {
     "name": "stdout",
     "output_type": "stream",
     "text": [
      "<div class=\"b14n1p2a dir dir-ltr\">\n",
      " <div class=\"p1qe1cgb dir dir-ltr\">\n",
      "  <div style=\"--pricing-guest-display-price-alignment:flex-end;--pricing-guest-display-price-flex-wrap:wrap;--pricing-guest-primary-line-font-size:var(--ll-l-ys-f);--pricing-guest-primary-line-line-height:var(--f-xgviq);--pricing-guest-primary-line-unit-price-font-weight:800;--pricing-guest-primary-line-trailing-content-font-size:14px;--pricing-guest-secondary-line-font-size:14px;--pricing-guest-secondary-line-line-height:18px;--pricing-guest-secondary-line-color:#717171;--pricing-guest-explanation-disclaimer-font-size:14px;--pricing-guest-explanation-disclaimer-line-height:18px;--pricing-guest-primary-line-strikethrough-price-font-weight:600;--pricing-guest-primary-line-qualifier-font-size:var(--ll-l-ys-f);--pricing-guest-primary-line-qualifier-line-height:var(--f-xgviq)\">\n",
      "   <div class=\"_ati8ih\">\n",
      "    <div class=\"_1n700sq\">\n",
      "     <div aria-hidden=\"true\" class=\"_1jo4hgw\">\n",
      "      <span class=\"_tyxjp1\">\n",
      "       $1,685 TWD\n",
      "      </span>\n",
      "      <span class=\"_1vylq8i\">\n",
      "       <!-- -->\n",
      "       / 晚\n",
      "      </span>\n",
      "     </div>\n",
      "     <span class=\"a8jt5op dir dir-ltr\">\n",
      "      每晚 $1,685 TWD\n",
      "     </span>\n",
      "    </div>\n",
      "    <div class=\"_10d7v0r\">\n",
      "     <button class=\"_101nvu7m\" type=\"button\">\n",
      "      <div class=\"_oeya9x\">\n",
      "       <div class=\"_tt122m\">\n",
      "        <span aria-hidden=\"true\">\n",
      "         總計 $2,855 TWD\n",
      "        </span>\n",
      "       </div>\n",
      "       <span class=\"a8jt5op dir dir-ltr\">\n",
      "        總計 $2,855 TWD\n",
      "       </span>\n",
      "      </div>\n",
      "      <span class=\"a8jt5op dir dir-ltr\">\n",
      "       顯示價格明細\n",
      "      </span>\n",
      "     </button>\n",
      "    </div>\n",
      "   </div>\n",
      "  </div>\n",
      " </div>\n",
      "</div>\n",
      "asd\n"
     ]
    }
   ],
   "source": [
    "import requests\n",
    "from bs4 import BeautifulSoup\n",
    "import pandas as pd\n",
    "import re\n",
    "\n",
    "url = 'https://www.airbnb.com.tw/s/%E6%8B%89%E6%96%AF%E7%B6%AD%E5%8A%A0%E6%96%AF/homes?adults=2&checkin=2022-06-20&checkout=2022-06-21&date_picker_type=calendar&flexible_trip_dates%5B%5D=april&flexible_trip_dates%5B%5D=may&flexible_trip_lengths%5B%5D=weekend_trip&languages%5B%5D=1&languages%5B%5D=128&min_bathrooms=1&min_bedrooms=1&min_beds=1&price_max=2000&price_min=1700&query=%E7%BE%8E%E5%9C%8B%E5%85%A7%E8%8F%AF%E9%81%94%E5%B7%9E%E6%8B%89%E6%96%AF%E7%B6%AD%E5%8A%A0%E6%96%AF&refinement_paths%5B%5D=%2Fhomes&room_types%5B%5D=Private+room&search_type=filter_change&source=structured_search_input_header&superhost=true&tab_id=home_tab'\n",
    "html = requests.get(url)\n",
    "sp = BeautifulSoup(html.text, 'html.parser')\n",
    "\n",
    "bs_set_rating= sp.find_all(class_=\"b14n1p2a\", limit=12)\n",
    "# bs_set_price= sp.find_all(class_=\"_tyxjp1\")\n",
    "\n",
    "\n",
    "print(bs_set_rating[9].prettify())\n",
    "k = bs_set_rating[9].find(class_=\"rpz7y38\")\n",
    "if k == None:\n",
    "    print(\"asd\")\n",
    "# rating = []\n",
    "# price = []\n",
    "# for i, j in zip(bs_set_rating, bs_set_price):\n",
    "#     rating += [float(i.text)]\n",
    "#     price += [int(''.join(re.findall(r'\\d+', j.text)))]\n",
    "\n",
    "\n",
    "# df = pd.DataFrame({'rating':rating, 'price':price})\n",
    "# df.sort_values(by=['rating', 'price'], ascending=[0, 1], ignore_index=True, inplace=True)\n",
    "# df"
   ]
  }
 ],
 "metadata": {
  "kernelspec": {
   "display_name": "Python 3 (ipykernel)",
   "language": "python",
   "name": "python3"
  },
  "language_info": {
   "codemirror_mode": {
    "name": "ipython",
    "version": 3
   },
   "file_extension": ".py",
   "mimetype": "text/x-python",
   "name": "python",
   "nbconvert_exporter": "python",
   "pygments_lexer": "ipython3",
   "version": "3.9.7"
  }
 },
 "nbformat": 4,
 "nbformat_minor": 5
}
