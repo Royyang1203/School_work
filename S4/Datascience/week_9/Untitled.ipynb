{
 "cells": [
  {
   "cell_type": "code",
   "execution_count": 2,
   "id": "caaabc04",
   "metadata": {},
   "outputs": [
    {
     "name": "stdout",
     "output_type": "stream",
     "text": [
      "<!DOCTYPE html><html lang=en><head><meta charset=utf-8><script async src=\"https://www.googletagmanager.com/gtag/js?id=UA-142214222-1\"></script><script>window.dataLayer = window.dataLayer || [];\n",
      "\n",
      "        function gtag() {\n",
      "            dataLayer.push(arguments);\n",
      "        }\n",
      "        gtag('js', new Date());\n",
      "\n",
      "        gtag('config', 'UA-142214222-1');</script><meta http-equiv=X-UA-Compatible content=\"IE=edge\"><meta name=viewport content=\"width=device-width,initial-scale=1,shrink-to-fit=no\"><link rel=icon href=/static/favicon.ico><title>FinMInd</title><link rel=stylesheet href=\"https://fonts.googleapis.com/css?family=Roboto:100,300,400,500,700,900\"><link href=https://cdn.jsdelivr.net/npm/@mdi/font@4.x/css/materialdesignicons.min.css rel=stylesheet><link href=/static/css/chunk-1999ade8.1c3d47f6.css rel=prefetch><link href=/static/css/chunk-5c6254cb.1c3d47f6.css rel=prefetch><link href=/static/js/chunk-0dd8a730.4e2d4e43.js rel=prefetch><link href=/static/js/chunk-1999ade8.15a69558.js rel=prefetch><link href=/static/js/chunk-272476de.783b2b14.js rel=prefetch><link href=/static/js/chunk-2d0ab154.8633aee7.js rel=prefetch><link href=/static/js/chunk-2d0ac5fd.3a0f29e6.js rel=prefetch><link href=/static/js/chunk-2d0c80d3.140cff6c.js rel=prefetch><link href=/static/js/chunk-2d20e7d5.1662c3f0.js rel=prefetch><link href=/static/js/chunk-2d216265.889dc919.js rel=prefetch><link href=/static/js/chunk-2d22c711.8473281a.js rel=prefetch><link href=/static/js/chunk-3cbc0a83.fc212681.js rel=prefetch><link href=/static/js/chunk-5673fd52.6cfb2246.js rel=prefetch><link href=/static/js/chunk-5c6254cb.46f86998.js rel=prefetch><link href=/static/js/chunk-83ac8d98.2dfc6fb5.js rel=prefetch><link href=/static/js/chunk-95ad0ce4.888b2e32.js rel=prefetch><link href=/static/js/chunk-c093de68.f1d98e83.js rel=prefetch><link href=/static/js/chunk-c0948e7c.4fdd6f04.js rel=prefetch><link href=/static/js/chunk-c096b6ea.4e59d426.js rel=prefetch><link href=/static/js/chunk-c0bf1d56.5f7892b6.js rel=prefetch><link href=/static/js/chunk-c0c0026a.df4fa891.js rel=prefetch><link href=/static/js/chunk-c0c1d756.c4f7b2f0.js rel=prefetch><link href=/static/js/chunk-f92a55e0.ed9fffe3.js rel=prefetch><link href=/static/js/chunk-f9733acc.fb37b014.js rel=prefetch><link href=/static/css/app.7921fdc7.css rel=preload as=style><link href=/static/css/chunk-vendors.50bf8880.css rel=preload as=style><link href=/static/js/app.7047feba.js rel=preload as=script><link href=/static/js/chunk-vendors.ebeaef44.js rel=preload as=script><link href=/static/css/chunk-vendors.50bf8880.css rel=stylesheet><link href=/static/css/app.7921fdc7.css rel=stylesheet></head><body><noscript><strong>We're sorry but ArchitectUI doesn't work properly without JavaScript enabled. Please enable it to continue.</strong></noscript><div id=app></div><script src=/static/js/chunk-vendors.ebeaef44.js></script><script src=/static/js/app.7047feba.js></script></body></html>\n",
      "<class 'requests.models.Response'>\n"
     ]
    }
   ],
   "source": [
    "import requests\n",
    "\n",
    "url = 'https://finmindtrade.com/analysis/#/dashboards/taiwan-stock-analysis'\n",
    "html = requests.get(url)\n",
    "html.encoding=\"utf-8\"\n",
    "print(html.text)\n",
    "print(type(html))"
   ]
  }
 ],
 "metadata": {
  "kernelspec": {
   "display_name": "Python 3 (ipykernel)",
   "language": "python",
   "name": "python3"
  },
  "language_info": {
   "codemirror_mode": {
    "name": "ipython",
    "version": 3
   },
   "file_extension": ".py",
   "mimetype": "text/x-python",
   "name": "python",
   "nbconvert_exporter": "python",
   "pygments_lexer": "ipython3",
   "version": "3.9.7"
  }
 },
 "nbformat": 4,
 "nbformat_minor": 5
}
