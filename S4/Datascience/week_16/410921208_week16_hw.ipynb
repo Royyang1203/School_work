{
 "cells": [
  {
   "cell_type": "code",
   "execution_count": 181,
   "id": "af68b7cb",
   "metadata": {},
   "outputs": [
    {
     "name": "stdout",
     "output_type": "stream",
     "text": [
      "python version : 3.9.7 (default, Sep 16 2021, 16:59:28) [MSC v.1916 64 bit (AMD64)]\n",
      "pandas version : 1.3.4\n",
      "numpy version : 1.20.3\n",
      "sklearn version : 0.24.2\n",
      "seaborn version : 0.11.2\n",
      "matplotlib version : 3.4.3\n"
     ]
    }
   ],
   "source": [
    "# Importing the required libraries.\n",
    "import sys\n",
    "import os\n",
    "import numpy as np\n",
    "import pandas as pd\n",
    "import sklearn\n",
    "import matplotlib\n",
    "import matplotlib.pyplot as plt\n",
    "import seaborn as sns\n",
    "from collections import Counter\n",
    "from sklearn.linear_model import LogisticRegression\n",
    "from sklearn.model_selection import cross_val_score\n",
    "from sklearn.model_selection import train_test_split\n",
    "from sklearn.preprocessing import StandardScaler, MinMaxScaler,Normalizer, RobustScaler\n",
    "from sklearn.metrics import accuracy_score, classification_report, confusion_matrix\n",
    "\n",
    "print('python version : {}'.format(sys.version))\n",
    "print('pandas version : {}'.format(pd.__version__))\n",
    "print('numpy version : {}'.format(np.__version__))\n",
    "print('sklearn version : {}'.format(sklearn.__version__))\n",
    "print('seaborn version : {}'.format(sns.__version__))\n",
    "print('matplotlib version : {}'.format(matplotlib.__version__))"
   ]
  },
  {
   "cell_type": "code",
   "execution_count": 182,
   "id": "48e9347f",
   "metadata": {},
   "outputs": [],
   "source": [
    "# Ignoring Unnecessary warnings\n",
    "import warnings\n",
    "warnings.filterwarnings(\"ignore\")"
   ]
  },
  {
   "cell_type": "code",
   "execution_count": 183,
   "id": "c5663962",
   "metadata": {},
   "outputs": [
    {
     "data": {
      "text/html": [
       "<div>\n",
       "<style scoped>\n",
       "    .dataframe tbody tr th:only-of-type {\n",
       "        vertical-align: middle;\n",
       "    }\n",
       "\n",
       "    .dataframe tbody tr th {\n",
       "        vertical-align: top;\n",
       "    }\n",
       "\n",
       "    .dataframe thead th {\n",
       "        text-align: right;\n",
       "    }\n",
       "</style>\n",
       "<table border=\"1\" class=\"dataframe\">\n",
       "  <thead>\n",
       "    <tr style=\"text-align: right;\">\n",
       "      <th></th>\n",
       "      <th>fixed acidity</th>\n",
       "      <th>volatile acidity</th>\n",
       "      <th>citric acid</th>\n",
       "      <th>residual sugar</th>\n",
       "      <th>chlorides</th>\n",
       "      <th>free sulfur dioxide</th>\n",
       "      <th>total sulfur dioxide</th>\n",
       "      <th>density</th>\n",
       "      <th>pH</th>\n",
       "      <th>sulphates</th>\n",
       "      <th>alcohol</th>\n",
       "      <th>quality</th>\n",
       "    </tr>\n",
       "  </thead>\n",
       "  <tbody>\n",
       "    <tr>\n",
       "      <th>0</th>\n",
       "      <td>7.4</td>\n",
       "      <td>0.70</td>\n",
       "      <td>0.00</td>\n",
       "      <td>1.9</td>\n",
       "      <td>0.076</td>\n",
       "      <td>11.0</td>\n",
       "      <td>34.0</td>\n",
       "      <td>0.9978</td>\n",
       "      <td>3.51</td>\n",
       "      <td>0.56</td>\n",
       "      <td>9.4</td>\n",
       "      <td>5</td>\n",
       "    </tr>\n",
       "    <tr>\n",
       "      <th>1</th>\n",
       "      <td>7.8</td>\n",
       "      <td>0.88</td>\n",
       "      <td>0.00</td>\n",
       "      <td>2.6</td>\n",
       "      <td>0.098</td>\n",
       "      <td>25.0</td>\n",
       "      <td>67.0</td>\n",
       "      <td>0.9968</td>\n",
       "      <td>3.20</td>\n",
       "      <td>0.68</td>\n",
       "      <td>9.8</td>\n",
       "      <td>5</td>\n",
       "    </tr>\n",
       "    <tr>\n",
       "      <th>2</th>\n",
       "      <td>7.8</td>\n",
       "      <td>0.76</td>\n",
       "      <td>0.04</td>\n",
       "      <td>2.3</td>\n",
       "      <td>0.092</td>\n",
       "      <td>15.0</td>\n",
       "      <td>54.0</td>\n",
       "      <td>0.9970</td>\n",
       "      <td>3.26</td>\n",
       "      <td>0.65</td>\n",
       "      <td>9.8</td>\n",
       "      <td>5</td>\n",
       "    </tr>\n",
       "    <tr>\n",
       "      <th>3</th>\n",
       "      <td>11.2</td>\n",
       "      <td>0.28</td>\n",
       "      <td>0.56</td>\n",
       "      <td>1.9</td>\n",
       "      <td>0.075</td>\n",
       "      <td>17.0</td>\n",
       "      <td>60.0</td>\n",
       "      <td>0.9980</td>\n",
       "      <td>3.16</td>\n",
       "      <td>0.58</td>\n",
       "      <td>9.8</td>\n",
       "      <td>6</td>\n",
       "    </tr>\n",
       "    <tr>\n",
       "      <th>4</th>\n",
       "      <td>7.4</td>\n",
       "      <td>0.70</td>\n",
       "      <td>0.00</td>\n",
       "      <td>1.9</td>\n",
       "      <td>0.076</td>\n",
       "      <td>11.0</td>\n",
       "      <td>34.0</td>\n",
       "      <td>0.9978</td>\n",
       "      <td>3.51</td>\n",
       "      <td>0.56</td>\n",
       "      <td>9.4</td>\n",
       "      <td>5</td>\n",
       "    </tr>\n",
       "  </tbody>\n",
       "</table>\n",
       "</div>"
      ],
      "text/plain": [
       "   fixed acidity  volatile acidity  citric acid  residual sugar  chlorides  \\\n",
       "0            7.4              0.70         0.00             1.9      0.076   \n",
       "1            7.8              0.88         0.00             2.6      0.098   \n",
       "2            7.8              0.76         0.04             2.3      0.092   \n",
       "3           11.2              0.28         0.56             1.9      0.075   \n",
       "4            7.4              0.70         0.00             1.9      0.076   \n",
       "\n",
       "   free sulfur dioxide  total sulfur dioxide  density    pH  sulphates  \\\n",
       "0                 11.0                  34.0   0.9978  3.51       0.56   \n",
       "1                 25.0                  67.0   0.9968  3.20       0.68   \n",
       "2                 15.0                  54.0   0.9970  3.26       0.65   \n",
       "3                 17.0                  60.0   0.9980  3.16       0.58   \n",
       "4                 11.0                  34.0   0.9978  3.51       0.56   \n",
       "\n",
       "   alcohol  quality  \n",
       "0      9.4        5  \n",
       "1      9.8        5  \n",
       "2      9.8        5  \n",
       "3      9.8        6  \n",
       "4      9.4        5  "
      ]
     },
     "execution_count": 183,
     "metadata": {},
     "output_type": "execute_result"
    }
   ],
   "source": [
    "# data reading\n",
    "data=pd.read_csv(\"winequality-red.csv\")\n",
    "data.head()"
   ]
  },
  {
   "cell_type": "code",
   "execution_count": 184,
   "id": "753101fd",
   "metadata": {},
   "outputs": [
    {
     "data": {
      "text/plain": [
       "fixed acidity           0\n",
       "volatile acidity        0\n",
       "citric acid             0\n",
       "residual sugar          0\n",
       "chlorides               0\n",
       "free sulfur dioxide     0\n",
       "total sulfur dioxide    0\n",
       "density                 0\n",
       "pH                      0\n",
       "sulphates               0\n",
       "alcohol                 0\n",
       "quality                 0\n",
       "dtype: int64"
      ]
     },
     "execution_count": 184,
     "metadata": {},
     "output_type": "execute_result"
    }
   ],
   "source": [
    "#to check any missing value in the data.\n",
    "data.isnull().sum()"
   ]
  },
  {
   "cell_type": "code",
   "execution_count": 185,
   "id": "b4bd3aab",
   "metadata": {
    "scrolled": false
   },
   "outputs": [
    {
     "data": {
      "text/plain": [
       "Index(['fixed_acidity', 'volatile_acidity', 'citric_acid', 'residual_sugar',\n",
       "       'chlorides', 'free_sulfur_dioxide', 'total_sulfur_dioxide', 'density',\n",
       "       'pH', 'sulphates', 'alcohol', 'quality'],\n",
       "      dtype='object')"
      ]
     },
     "execution_count": 185,
     "metadata": {},
     "output_type": "execute_result"
    }
   ],
   "source": [
    "# rename the columns which contain spaces in their names and replace the spaces with underscores\n",
    "data.rename(columns={'fixed acidity':'fixed_acidity', 'volatile acidity':'volatile_acidity', 'citric acid':'citric_acid', 'residual sugar':'residual_sugar',\n",
    "       'free sulfur dioxide':'free_sulfur_dioxide', 'total sulfur dioxide':'total_sulfur_dioxide'}, inplace=True)\n",
    "data.columns"
   ]
  },
  {
   "cell_type": "code",
   "execution_count": 186,
   "id": "fc9fa75d",
   "metadata": {},
   "outputs": [
    {
     "data": {
      "text/html": [
       "<div>\n",
       "<style scoped>\n",
       "    .dataframe tbody tr th:only-of-type {\n",
       "        vertical-align: middle;\n",
       "    }\n",
       "\n",
       "    .dataframe tbody tr th {\n",
       "        vertical-align: top;\n",
       "    }\n",
       "\n",
       "    .dataframe thead th {\n",
       "        text-align: right;\n",
       "    }\n",
       "</style>\n",
       "<table border=\"1\" class=\"dataframe\">\n",
       "  <thead>\n",
       "    <tr style=\"text-align: right;\">\n",
       "      <th></th>\n",
       "      <th>fixed_acidity</th>\n",
       "      <th>volatile_acidity</th>\n",
       "      <th>citric_acid</th>\n",
       "      <th>residual_sugar</th>\n",
       "      <th>chlorides</th>\n",
       "      <th>free_sulfur_dioxide</th>\n",
       "      <th>total_sulfur_dioxide</th>\n",
       "      <th>density</th>\n",
       "      <th>pH</th>\n",
       "      <th>sulphates</th>\n",
       "      <th>alcohol</th>\n",
       "      <th>quality</th>\n",
       "    </tr>\n",
       "  </thead>\n",
       "  <tbody>\n",
       "    <tr>\n",
       "      <th>0</th>\n",
       "      <td>7.4</td>\n",
       "      <td>0.70</td>\n",
       "      <td>0.00</td>\n",
       "      <td>1.9</td>\n",
       "      <td>0.076</td>\n",
       "      <td>11.0</td>\n",
       "      <td>34.0</td>\n",
       "      <td>0.9978</td>\n",
       "      <td>3.51</td>\n",
       "      <td>0.56</td>\n",
       "      <td>9.4</td>\n",
       "      <td>5</td>\n",
       "    </tr>\n",
       "    <tr>\n",
       "      <th>1</th>\n",
       "      <td>7.8</td>\n",
       "      <td>0.88</td>\n",
       "      <td>0.00</td>\n",
       "      <td>2.6</td>\n",
       "      <td>0.098</td>\n",
       "      <td>25.0</td>\n",
       "      <td>67.0</td>\n",
       "      <td>0.9968</td>\n",
       "      <td>3.20</td>\n",
       "      <td>0.68</td>\n",
       "      <td>9.8</td>\n",
       "      <td>5</td>\n",
       "    </tr>\n",
       "    <tr>\n",
       "      <th>2</th>\n",
       "      <td>7.8</td>\n",
       "      <td>0.76</td>\n",
       "      <td>0.04</td>\n",
       "      <td>2.3</td>\n",
       "      <td>0.092</td>\n",
       "      <td>15.0</td>\n",
       "      <td>54.0</td>\n",
       "      <td>0.9970</td>\n",
       "      <td>3.26</td>\n",
       "      <td>0.65</td>\n",
       "      <td>9.8</td>\n",
       "      <td>5</td>\n",
       "    </tr>\n",
       "    <tr>\n",
       "      <th>3</th>\n",
       "      <td>11.2</td>\n",
       "      <td>0.28</td>\n",
       "      <td>0.56</td>\n",
       "      <td>1.9</td>\n",
       "      <td>0.075</td>\n",
       "      <td>17.0</td>\n",
       "      <td>60.0</td>\n",
       "      <td>0.9980</td>\n",
       "      <td>3.16</td>\n",
       "      <td>0.58</td>\n",
       "      <td>9.8</td>\n",
       "      <td>6</td>\n",
       "    </tr>\n",
       "    <tr>\n",
       "      <th>4</th>\n",
       "      <td>7.4</td>\n",
       "      <td>0.70</td>\n",
       "      <td>0.00</td>\n",
       "      <td>1.9</td>\n",
       "      <td>0.076</td>\n",
       "      <td>11.0</td>\n",
       "      <td>34.0</td>\n",
       "      <td>0.9978</td>\n",
       "      <td>3.51</td>\n",
       "      <td>0.56</td>\n",
       "      <td>9.4</td>\n",
       "      <td>5</td>\n",
       "    </tr>\n",
       "  </tbody>\n",
       "</table>\n",
       "</div>"
      ],
      "text/plain": [
       "   fixed_acidity  volatile_acidity  citric_acid  residual_sugar  chlorides  \\\n",
       "0            7.4              0.70         0.00             1.9      0.076   \n",
       "1            7.8              0.88         0.00             2.6      0.098   \n",
       "2            7.8              0.76         0.04             2.3      0.092   \n",
       "3           11.2              0.28         0.56             1.9      0.075   \n",
       "4            7.4              0.70         0.00             1.9      0.076   \n",
       "\n",
       "   free_sulfur_dioxide  total_sulfur_dioxide  density    pH  sulphates  \\\n",
       "0                 11.0                  34.0   0.9978  3.51       0.56   \n",
       "1                 25.0                  67.0   0.9968  3.20       0.68   \n",
       "2                 15.0                  54.0   0.9970  3.26       0.65   \n",
       "3                 17.0                  60.0   0.9980  3.16       0.58   \n",
       "4                 11.0                  34.0   0.9978  3.51       0.56   \n",
       "\n",
       "   alcohol  quality  \n",
       "0      9.4        5  \n",
       "1      9.8        5  \n",
       "2      9.8        5  \n",
       "3      9.8        6  \n",
       "4      9.4        5  "
      ]
     },
     "execution_count": 186,
     "metadata": {},
     "output_type": "execute_result"
    }
   ],
   "source": [
    "data.head()"
   ]
  },
  {
   "cell_type": "code",
   "execution_count": 187,
   "id": "607da420",
   "metadata": {
    "scrolled": false
   },
   "outputs": [
    {
     "data": {
      "text/html": [
       "<div>\n",
       "<style scoped>\n",
       "    .dataframe tbody tr th:only-of-type {\n",
       "        vertical-align: middle;\n",
       "    }\n",
       "\n",
       "    .dataframe tbody tr th {\n",
       "        vertical-align: top;\n",
       "    }\n",
       "\n",
       "    .dataframe thead th {\n",
       "        text-align: right;\n",
       "    }\n",
       "</style>\n",
       "<table border=\"1\" class=\"dataframe\">\n",
       "  <thead>\n",
       "    <tr style=\"text-align: right;\">\n",
       "      <th></th>\n",
       "      <th>fixed_acidity</th>\n",
       "      <th>volatile_acidity</th>\n",
       "      <th>citric_acid</th>\n",
       "      <th>residual_sugar</th>\n",
       "      <th>chlorides</th>\n",
       "      <th>free_sulfur_dioxide</th>\n",
       "      <th>total_sulfur_dioxide</th>\n",
       "      <th>density</th>\n",
       "      <th>pH</th>\n",
       "      <th>sulphates</th>\n",
       "      <th>alcohol</th>\n",
       "      <th>quality</th>\n",
       "    </tr>\n",
       "  </thead>\n",
       "  <tbody>\n",
       "    <tr>\n",
       "      <th>fixed_acidity</th>\n",
       "      <td>3.031416</td>\n",
       "      <td>-0.079851</td>\n",
       "      <td>0.227820</td>\n",
       "      <td>0.281756</td>\n",
       "      <td>0.007679</td>\n",
       "      <td>-2.800921</td>\n",
       "      <td>-6.482346</td>\n",
       "      <td>0.002195</td>\n",
       "      <td>-0.183586</td>\n",
       "      <td>0.054010</td>\n",
       "      <td>-0.114421</td>\n",
       "      <td>0.174424</td>\n",
       "    </tr>\n",
       "    <tr>\n",
       "      <th>volatile_acidity</th>\n",
       "      <td>-0.079851</td>\n",
       "      <td>0.032062</td>\n",
       "      <td>-0.019272</td>\n",
       "      <td>0.000484</td>\n",
       "      <td>0.000517</td>\n",
       "      <td>-0.019674</td>\n",
       "      <td>0.450426</td>\n",
       "      <td>0.000007</td>\n",
       "      <td>0.006495</td>\n",
       "      <td>-0.007921</td>\n",
       "      <td>-0.038600</td>\n",
       "      <td>-0.056476</td>\n",
       "    </tr>\n",
       "    <tr>\n",
       "      <th>citric_acid</th>\n",
       "      <td>0.227820</td>\n",
       "      <td>-0.019272</td>\n",
       "      <td>0.037947</td>\n",
       "      <td>0.039434</td>\n",
       "      <td>0.001869</td>\n",
       "      <td>-0.124252</td>\n",
       "      <td>0.227697</td>\n",
       "      <td>0.000134</td>\n",
       "      <td>-0.016298</td>\n",
       "      <td>0.010328</td>\n",
       "      <td>0.022815</td>\n",
       "      <td>0.035612</td>\n",
       "    </tr>\n",
       "    <tr>\n",
       "      <th>residual_sugar</th>\n",
       "      <td>0.281756</td>\n",
       "      <td>0.000484</td>\n",
       "      <td>0.039434</td>\n",
       "      <td>1.987897</td>\n",
       "      <td>0.003690</td>\n",
       "      <td>2.758611</td>\n",
       "      <td>9.416441</td>\n",
       "      <td>0.000945</td>\n",
       "      <td>-0.018644</td>\n",
       "      <td>0.001321</td>\n",
       "      <td>0.063219</td>\n",
       "      <td>0.015635</td>\n",
       "    </tr>\n",
       "    <tr>\n",
       "      <th>chlorides</th>\n",
       "      <td>0.007679</td>\n",
       "      <td>0.000517</td>\n",
       "      <td>0.001869</td>\n",
       "      <td>0.003690</td>\n",
       "      <td>0.002215</td>\n",
       "      <td>0.002738</td>\n",
       "      <td>0.073387</td>\n",
       "      <td>0.000018</td>\n",
       "      <td>-0.001926</td>\n",
       "      <td>0.002962</td>\n",
       "      <td>-0.011092</td>\n",
       "      <td>-0.004900</td>\n",
       "    </tr>\n",
       "    <tr>\n",
       "      <th>free_sulfur_dioxide</th>\n",
       "      <td>-2.800921</td>\n",
       "      <td>-0.019674</td>\n",
       "      <td>-0.124252</td>\n",
       "      <td>2.758611</td>\n",
       "      <td>0.002738</td>\n",
       "      <td>109.414884</td>\n",
       "      <td>229.737521</td>\n",
       "      <td>-0.000433</td>\n",
       "      <td>0.113653</td>\n",
       "      <td>0.091592</td>\n",
       "      <td>-0.773698</td>\n",
       "      <td>-0.427907</td>\n",
       "    </tr>\n",
       "    <tr>\n",
       "      <th>total_sulfur_dioxide</th>\n",
       "      <td>-6.482346</td>\n",
       "      <td>0.450426</td>\n",
       "      <td>0.227697</td>\n",
       "      <td>9.416441</td>\n",
       "      <td>0.073387</td>\n",
       "      <td>229.737521</td>\n",
       "      <td>1082.102373</td>\n",
       "      <td>0.004425</td>\n",
       "      <td>-0.337699</td>\n",
       "      <td>0.239471</td>\n",
       "      <td>-7.209298</td>\n",
       "      <td>-4.917237</td>\n",
       "    </tr>\n",
       "    <tr>\n",
       "      <th>density</th>\n",
       "      <td>0.002195</td>\n",
       "      <td>0.000007</td>\n",
       "      <td>0.000134</td>\n",
       "      <td>0.000945</td>\n",
       "      <td>0.000018</td>\n",
       "      <td>-0.000433</td>\n",
       "      <td>0.004425</td>\n",
       "      <td>0.000004</td>\n",
       "      <td>-0.000100</td>\n",
       "      <td>0.000048</td>\n",
       "      <td>-0.000998</td>\n",
       "      <td>-0.000267</td>\n",
       "    </tr>\n",
       "    <tr>\n",
       "      <th>pH</th>\n",
       "      <td>-0.183586</td>\n",
       "      <td>0.006495</td>\n",
       "      <td>-0.016298</td>\n",
       "      <td>-0.018644</td>\n",
       "      <td>-0.001926</td>\n",
       "      <td>0.113653</td>\n",
       "      <td>-0.337699</td>\n",
       "      <td>-0.000100</td>\n",
       "      <td>0.023835</td>\n",
       "      <td>-0.005146</td>\n",
       "      <td>0.033832</td>\n",
       "      <td>-0.007198</td>\n",
       "    </tr>\n",
       "    <tr>\n",
       "      <th>sulphates</th>\n",
       "      <td>0.054010</td>\n",
       "      <td>-0.007921</td>\n",
       "      <td>0.010328</td>\n",
       "      <td>0.001321</td>\n",
       "      <td>0.002962</td>\n",
       "      <td>0.091592</td>\n",
       "      <td>0.239471</td>\n",
       "      <td>0.000048</td>\n",
       "      <td>-0.005146</td>\n",
       "      <td>0.028733</td>\n",
       "      <td>0.016907</td>\n",
       "      <td>0.034413</td>\n",
       "    </tr>\n",
       "    <tr>\n",
       "      <th>alcohol</th>\n",
       "      <td>-0.114421</td>\n",
       "      <td>-0.038600</td>\n",
       "      <td>0.022815</td>\n",
       "      <td>0.063219</td>\n",
       "      <td>-0.011092</td>\n",
       "      <td>-0.773698</td>\n",
       "      <td>-7.209298</td>\n",
       "      <td>-0.000998</td>\n",
       "      <td>0.033832</td>\n",
       "      <td>0.016907</td>\n",
       "      <td>1.135647</td>\n",
       "      <td>0.409789</td>\n",
       "    </tr>\n",
       "    <tr>\n",
       "      <th>quality</th>\n",
       "      <td>0.174424</td>\n",
       "      <td>-0.056476</td>\n",
       "      <td>0.035612</td>\n",
       "      <td>0.015635</td>\n",
       "      <td>-0.004900</td>\n",
       "      <td>-0.427907</td>\n",
       "      <td>-4.917237</td>\n",
       "      <td>-0.000267</td>\n",
       "      <td>-0.007198</td>\n",
       "      <td>0.034413</td>\n",
       "      <td>0.409789</td>\n",
       "      <td>0.652168</td>\n",
       "    </tr>\n",
       "  </tbody>\n",
       "</table>\n",
       "</div>"
      ],
      "text/plain": [
       "                      fixed_acidity  volatile_acidity  citric_acid  \\\n",
       "fixed_acidity              3.031416         -0.079851     0.227820   \n",
       "volatile_acidity          -0.079851          0.032062    -0.019272   \n",
       "citric_acid                0.227820         -0.019272     0.037947   \n",
       "residual_sugar             0.281756          0.000484     0.039434   \n",
       "chlorides                  0.007679          0.000517     0.001869   \n",
       "free_sulfur_dioxide       -2.800921         -0.019674    -0.124252   \n",
       "total_sulfur_dioxide      -6.482346          0.450426     0.227697   \n",
       "density                    0.002195          0.000007     0.000134   \n",
       "pH                        -0.183586          0.006495    -0.016298   \n",
       "sulphates                  0.054010         -0.007921     0.010328   \n",
       "alcohol                   -0.114421         -0.038600     0.022815   \n",
       "quality                    0.174424         -0.056476     0.035612   \n",
       "\n",
       "                      residual_sugar  chlorides  free_sulfur_dioxide  \\\n",
       "fixed_acidity               0.281756   0.007679            -2.800921   \n",
       "volatile_acidity            0.000484   0.000517            -0.019674   \n",
       "citric_acid                 0.039434   0.001869            -0.124252   \n",
       "residual_sugar              1.987897   0.003690             2.758611   \n",
       "chlorides                   0.003690   0.002215             0.002738   \n",
       "free_sulfur_dioxide         2.758611   0.002738           109.414884   \n",
       "total_sulfur_dioxide        9.416441   0.073387           229.737521   \n",
       "density                     0.000945   0.000018            -0.000433   \n",
       "pH                         -0.018644  -0.001926             0.113653   \n",
       "sulphates                   0.001321   0.002962             0.091592   \n",
       "alcohol                     0.063219  -0.011092            -0.773698   \n",
       "quality                     0.015635  -0.004900            -0.427907   \n",
       "\n",
       "                      total_sulfur_dioxide   density        pH  sulphates  \\\n",
       "fixed_acidity                    -6.482346  0.002195 -0.183586   0.054010   \n",
       "volatile_acidity                  0.450426  0.000007  0.006495  -0.007921   \n",
       "citric_acid                       0.227697  0.000134 -0.016298   0.010328   \n",
       "residual_sugar                    9.416441  0.000945 -0.018644   0.001321   \n",
       "chlorides                         0.073387  0.000018 -0.001926   0.002962   \n",
       "free_sulfur_dioxide             229.737521 -0.000433  0.113653   0.091592   \n",
       "total_sulfur_dioxide           1082.102373  0.004425 -0.337699   0.239471   \n",
       "density                           0.004425  0.000004 -0.000100   0.000048   \n",
       "pH                               -0.337699 -0.000100  0.023835  -0.005146   \n",
       "sulphates                         0.239471  0.000048 -0.005146   0.028733   \n",
       "alcohol                          -7.209298 -0.000998  0.033832   0.016907   \n",
       "quality                          -4.917237 -0.000267 -0.007198   0.034413   \n",
       "\n",
       "                       alcohol   quality  \n",
       "fixed_acidity        -0.114421  0.174424  \n",
       "volatile_acidity     -0.038600 -0.056476  \n",
       "citric_acid           0.022815  0.035612  \n",
       "residual_sugar        0.063219  0.015635  \n",
       "chlorides            -0.011092 -0.004900  \n",
       "free_sulfur_dioxide  -0.773698 -0.427907  \n",
       "total_sulfur_dioxide -7.209298 -4.917237  \n",
       "density              -0.000998 -0.000267  \n",
       "pH                    0.033832 -0.007198  \n",
       "sulphates             0.016907  0.034413  \n",
       "alcohol               1.135647  0.409789  \n",
       "quality               0.409789  0.652168  "
      ]
     },
     "execution_count": 187,
     "metadata": {},
     "output_type": "execute_result"
    }
   ],
   "source": [
    "data.cov()"
   ]
  },
  {
   "cell_type": "code",
   "execution_count": 188,
   "id": "02ab914e",
   "metadata": {
    "scrolled": false
   },
   "outputs": [
    {
     "data": {
      "text/html": [
       "<div>\n",
       "<style scoped>\n",
       "    .dataframe tbody tr th:only-of-type {\n",
       "        vertical-align: middle;\n",
       "    }\n",
       "\n",
       "    .dataframe tbody tr th {\n",
       "        vertical-align: top;\n",
       "    }\n",
       "\n",
       "    .dataframe thead th {\n",
       "        text-align: right;\n",
       "    }\n",
       "</style>\n",
       "<table border=\"1\" class=\"dataframe\">\n",
       "  <thead>\n",
       "    <tr style=\"text-align: right;\">\n",
       "      <th></th>\n",
       "      <th>fixed_acidity</th>\n",
       "      <th>volatile_acidity</th>\n",
       "      <th>citric_acid</th>\n",
       "      <th>residual_sugar</th>\n",
       "      <th>chlorides</th>\n",
       "      <th>free_sulfur_dioxide</th>\n",
       "      <th>total_sulfur_dioxide</th>\n",
       "      <th>density</th>\n",
       "      <th>pH</th>\n",
       "      <th>sulphates</th>\n",
       "      <th>alcohol</th>\n",
       "      <th>quality</th>\n",
       "    </tr>\n",
       "  </thead>\n",
       "  <tbody>\n",
       "    <tr>\n",
       "      <th>fixed_acidity</th>\n",
       "      <td>1.000000</td>\n",
       "      <td>-0.256131</td>\n",
       "      <td>0.671703</td>\n",
       "      <td>0.114777</td>\n",
       "      <td>0.093705</td>\n",
       "      <td>-0.153794</td>\n",
       "      <td>-0.113181</td>\n",
       "      <td>0.668047</td>\n",
       "      <td>-0.682978</td>\n",
       "      <td>0.183006</td>\n",
       "      <td>-0.061668</td>\n",
       "      <td>0.124052</td>\n",
       "    </tr>\n",
       "    <tr>\n",
       "      <th>volatile_acidity</th>\n",
       "      <td>-0.256131</td>\n",
       "      <td>1.000000</td>\n",
       "      <td>-0.552496</td>\n",
       "      <td>0.001918</td>\n",
       "      <td>0.061298</td>\n",
       "      <td>-0.010504</td>\n",
       "      <td>0.076470</td>\n",
       "      <td>0.022026</td>\n",
       "      <td>0.234937</td>\n",
       "      <td>-0.260987</td>\n",
       "      <td>-0.202288</td>\n",
       "      <td>-0.390558</td>\n",
       "    </tr>\n",
       "    <tr>\n",
       "      <th>citric_acid</th>\n",
       "      <td>0.671703</td>\n",
       "      <td>-0.552496</td>\n",
       "      <td>1.000000</td>\n",
       "      <td>0.143577</td>\n",
       "      <td>0.203823</td>\n",
       "      <td>-0.060978</td>\n",
       "      <td>0.035533</td>\n",
       "      <td>0.364947</td>\n",
       "      <td>-0.541904</td>\n",
       "      <td>0.312770</td>\n",
       "      <td>0.109903</td>\n",
       "      <td>0.226373</td>\n",
       "    </tr>\n",
       "    <tr>\n",
       "      <th>residual_sugar</th>\n",
       "      <td>0.114777</td>\n",
       "      <td>0.001918</td>\n",
       "      <td>0.143577</td>\n",
       "      <td>1.000000</td>\n",
       "      <td>0.055610</td>\n",
       "      <td>0.187049</td>\n",
       "      <td>0.203028</td>\n",
       "      <td>0.355283</td>\n",
       "      <td>-0.085652</td>\n",
       "      <td>0.005527</td>\n",
       "      <td>0.042075</td>\n",
       "      <td>0.013732</td>\n",
       "    </tr>\n",
       "    <tr>\n",
       "      <th>chlorides</th>\n",
       "      <td>0.093705</td>\n",
       "      <td>0.061298</td>\n",
       "      <td>0.203823</td>\n",
       "      <td>0.055610</td>\n",
       "      <td>1.000000</td>\n",
       "      <td>0.005562</td>\n",
       "      <td>0.047400</td>\n",
       "      <td>0.200632</td>\n",
       "      <td>-0.265026</td>\n",
       "      <td>0.371260</td>\n",
       "      <td>-0.221141</td>\n",
       "      <td>-0.128907</td>\n",
       "    </tr>\n",
       "    <tr>\n",
       "      <th>free_sulfur_dioxide</th>\n",
       "      <td>-0.153794</td>\n",
       "      <td>-0.010504</td>\n",
       "      <td>-0.060978</td>\n",
       "      <td>0.187049</td>\n",
       "      <td>0.005562</td>\n",
       "      <td>1.000000</td>\n",
       "      <td>0.667666</td>\n",
       "      <td>-0.021946</td>\n",
       "      <td>0.070377</td>\n",
       "      <td>0.051658</td>\n",
       "      <td>-0.069408</td>\n",
       "      <td>-0.050656</td>\n",
       "    </tr>\n",
       "    <tr>\n",
       "      <th>total_sulfur_dioxide</th>\n",
       "      <td>-0.113181</td>\n",
       "      <td>0.076470</td>\n",
       "      <td>0.035533</td>\n",
       "      <td>0.203028</td>\n",
       "      <td>0.047400</td>\n",
       "      <td>0.667666</td>\n",
       "      <td>1.000000</td>\n",
       "      <td>0.071269</td>\n",
       "      <td>-0.066495</td>\n",
       "      <td>0.042947</td>\n",
       "      <td>-0.205654</td>\n",
       "      <td>-0.185100</td>\n",
       "    </tr>\n",
       "    <tr>\n",
       "      <th>density</th>\n",
       "      <td>0.668047</td>\n",
       "      <td>0.022026</td>\n",
       "      <td>0.364947</td>\n",
       "      <td>0.355283</td>\n",
       "      <td>0.200632</td>\n",
       "      <td>-0.021946</td>\n",
       "      <td>0.071269</td>\n",
       "      <td>1.000000</td>\n",
       "      <td>-0.341699</td>\n",
       "      <td>0.148506</td>\n",
       "      <td>-0.496180</td>\n",
       "      <td>-0.174919</td>\n",
       "    </tr>\n",
       "    <tr>\n",
       "      <th>pH</th>\n",
       "      <td>-0.682978</td>\n",
       "      <td>0.234937</td>\n",
       "      <td>-0.541904</td>\n",
       "      <td>-0.085652</td>\n",
       "      <td>-0.265026</td>\n",
       "      <td>0.070377</td>\n",
       "      <td>-0.066495</td>\n",
       "      <td>-0.341699</td>\n",
       "      <td>1.000000</td>\n",
       "      <td>-0.196648</td>\n",
       "      <td>0.205633</td>\n",
       "      <td>-0.057731</td>\n",
       "    </tr>\n",
       "    <tr>\n",
       "      <th>sulphates</th>\n",
       "      <td>0.183006</td>\n",
       "      <td>-0.260987</td>\n",
       "      <td>0.312770</td>\n",
       "      <td>0.005527</td>\n",
       "      <td>0.371260</td>\n",
       "      <td>0.051658</td>\n",
       "      <td>0.042947</td>\n",
       "      <td>0.148506</td>\n",
       "      <td>-0.196648</td>\n",
       "      <td>1.000000</td>\n",
       "      <td>0.093595</td>\n",
       "      <td>0.251397</td>\n",
       "    </tr>\n",
       "    <tr>\n",
       "      <th>alcohol</th>\n",
       "      <td>-0.061668</td>\n",
       "      <td>-0.202288</td>\n",
       "      <td>0.109903</td>\n",
       "      <td>0.042075</td>\n",
       "      <td>-0.221141</td>\n",
       "      <td>-0.069408</td>\n",
       "      <td>-0.205654</td>\n",
       "      <td>-0.496180</td>\n",
       "      <td>0.205633</td>\n",
       "      <td>0.093595</td>\n",
       "      <td>1.000000</td>\n",
       "      <td>0.476166</td>\n",
       "    </tr>\n",
       "    <tr>\n",
       "      <th>quality</th>\n",
       "      <td>0.124052</td>\n",
       "      <td>-0.390558</td>\n",
       "      <td>0.226373</td>\n",
       "      <td>0.013732</td>\n",
       "      <td>-0.128907</td>\n",
       "      <td>-0.050656</td>\n",
       "      <td>-0.185100</td>\n",
       "      <td>-0.174919</td>\n",
       "      <td>-0.057731</td>\n",
       "      <td>0.251397</td>\n",
       "      <td>0.476166</td>\n",
       "      <td>1.000000</td>\n",
       "    </tr>\n",
       "  </tbody>\n",
       "</table>\n",
       "</div>"
      ],
      "text/plain": [
       "                      fixed_acidity  volatile_acidity  citric_acid  \\\n",
       "fixed_acidity              1.000000         -0.256131     0.671703   \n",
       "volatile_acidity          -0.256131          1.000000    -0.552496   \n",
       "citric_acid                0.671703         -0.552496     1.000000   \n",
       "residual_sugar             0.114777          0.001918     0.143577   \n",
       "chlorides                  0.093705          0.061298     0.203823   \n",
       "free_sulfur_dioxide       -0.153794         -0.010504    -0.060978   \n",
       "total_sulfur_dioxide      -0.113181          0.076470     0.035533   \n",
       "density                    0.668047          0.022026     0.364947   \n",
       "pH                        -0.682978          0.234937    -0.541904   \n",
       "sulphates                  0.183006         -0.260987     0.312770   \n",
       "alcohol                   -0.061668         -0.202288     0.109903   \n",
       "quality                    0.124052         -0.390558     0.226373   \n",
       "\n",
       "                      residual_sugar  chlorides  free_sulfur_dioxide  \\\n",
       "fixed_acidity               0.114777   0.093705            -0.153794   \n",
       "volatile_acidity            0.001918   0.061298            -0.010504   \n",
       "citric_acid                 0.143577   0.203823            -0.060978   \n",
       "residual_sugar              1.000000   0.055610             0.187049   \n",
       "chlorides                   0.055610   1.000000             0.005562   \n",
       "free_sulfur_dioxide         0.187049   0.005562             1.000000   \n",
       "total_sulfur_dioxide        0.203028   0.047400             0.667666   \n",
       "density                     0.355283   0.200632            -0.021946   \n",
       "pH                         -0.085652  -0.265026             0.070377   \n",
       "sulphates                   0.005527   0.371260             0.051658   \n",
       "alcohol                     0.042075  -0.221141            -0.069408   \n",
       "quality                     0.013732  -0.128907            -0.050656   \n",
       "\n",
       "                      total_sulfur_dioxide   density        pH  sulphates  \\\n",
       "fixed_acidity                    -0.113181  0.668047 -0.682978   0.183006   \n",
       "volatile_acidity                  0.076470  0.022026  0.234937  -0.260987   \n",
       "citric_acid                       0.035533  0.364947 -0.541904   0.312770   \n",
       "residual_sugar                    0.203028  0.355283 -0.085652   0.005527   \n",
       "chlorides                         0.047400  0.200632 -0.265026   0.371260   \n",
       "free_sulfur_dioxide               0.667666 -0.021946  0.070377   0.051658   \n",
       "total_sulfur_dioxide              1.000000  0.071269 -0.066495   0.042947   \n",
       "density                           0.071269  1.000000 -0.341699   0.148506   \n",
       "pH                               -0.066495 -0.341699  1.000000  -0.196648   \n",
       "sulphates                         0.042947  0.148506 -0.196648   1.000000   \n",
       "alcohol                          -0.205654 -0.496180  0.205633   0.093595   \n",
       "quality                          -0.185100 -0.174919 -0.057731   0.251397   \n",
       "\n",
       "                       alcohol   quality  \n",
       "fixed_acidity        -0.061668  0.124052  \n",
       "volatile_acidity     -0.202288 -0.390558  \n",
       "citric_acid           0.109903  0.226373  \n",
       "residual_sugar        0.042075  0.013732  \n",
       "chlorides            -0.221141 -0.128907  \n",
       "free_sulfur_dioxide  -0.069408 -0.050656  \n",
       "total_sulfur_dioxide -0.205654 -0.185100  \n",
       "density              -0.496180 -0.174919  \n",
       "pH                    0.205633 -0.057731  \n",
       "sulphates             0.093595  0.251397  \n",
       "alcohol               1.000000  0.476166  \n",
       "quality               0.476166  1.000000  "
      ]
     },
     "execution_count": 188,
     "metadata": {},
     "output_type": "execute_result"
    }
   ],
   "source": [
    "data.corr()"
   ]
  },
  {
   "cell_type": "code",
   "execution_count": 189,
   "id": "811dacf5",
   "metadata": {},
   "outputs": [
    {
     "data": {
      "image/png": "[encoded data removed]",
      "text/plain": [
       "<Figure size 864x864 with 2 Axes>"
      ]
     },
     "metadata": {
      "needs_background": "light"
     },
     "output_type": "display_data"
    }
   ],
   "source": [
    "plt.figure(figsize=(12,12))\n",
    "sns.heatmap(data=data.corr(),annot=True,cmap=\"bwr\")\n",
    "plt.show()"
   ]
  },
  {
   "cell_type": "code",
   "execution_count": 190,
   "id": "a9f1f283",
   "metadata": {},
   "outputs": [
    {
     "data": {
      "text/html": [
       "<div>\n",
       "<style scoped>\n",
       "    .dataframe tbody tr th:only-of-type {\n",
       "        vertical-align: middle;\n",
       "    }\n",
       "\n",
       "    .dataframe tbody tr th {\n",
       "        vertical-align: top;\n",
       "    }\n",
       "\n",
       "    .dataframe thead th {\n",
       "        text-align: right;\n",
       "    }\n",
       "</style>\n",
       "<table border=\"1\" class=\"dataframe\">\n",
       "  <thead>\n",
       "    <tr style=\"text-align: right;\">\n",
       "      <th></th>\n",
       "      <th>fixed_acidity</th>\n",
       "      <th>volatile_acidity</th>\n",
       "      <th>citric_acid</th>\n",
       "      <th>residual_sugar</th>\n",
       "      <th>chlorides</th>\n",
       "      <th>free_sulfur_dioxide</th>\n",
       "      <th>total_sulfur_dioxide</th>\n",
       "      <th>density</th>\n",
       "      <th>pH</th>\n",
       "      <th>sulphates</th>\n",
       "      <th>alcohol</th>\n",
       "    </tr>\n",
       "  </thead>\n",
       "  <tbody>\n",
       "    <tr>\n",
       "      <th>covariance</th>\n",
       "      <td>0.174424</td>\n",
       "      <td>-0.056476</td>\n",
       "      <td>0.035612</td>\n",
       "      <td>0.015635</td>\n",
       "      <td>-0.004900</td>\n",
       "      <td>-0.427907</td>\n",
       "      <td>-4.917237</td>\n",
       "      <td>-0.000267</td>\n",
       "      <td>-0.007198</td>\n",
       "      <td>0.034413</td>\n",
       "      <td>0.409789</td>\n",
       "    </tr>\n",
       "    <tr>\n",
       "      <th>correlation</th>\n",
       "      <td>0.124052</td>\n",
       "      <td>-0.390558</td>\n",
       "      <td>0.226373</td>\n",
       "      <td>0.013732</td>\n",
       "      <td>-0.128907</td>\n",
       "      <td>-0.050656</td>\n",
       "      <td>-0.185100</td>\n",
       "      <td>-0.174919</td>\n",
       "      <td>-0.057731</td>\n",
       "      <td>0.251397</td>\n",
       "      <td>0.476166</td>\n",
       "    </tr>\n",
       "  </tbody>\n",
       "</table>\n",
       "</div>"
      ],
      "text/plain": [
       "             fixed_acidity  volatile_acidity  citric_acid  residual_sugar  \\\n",
       "covariance        0.174424         -0.056476     0.035612        0.015635   \n",
       "correlation       0.124052         -0.390558     0.226373        0.013732   \n",
       "\n",
       "             chlorides  free_sulfur_dioxide  total_sulfur_dioxide   density  \\\n",
       "covariance   -0.004900            -0.427907             -4.917237 -0.000267   \n",
       "correlation  -0.128907            -0.050656             -0.185100 -0.174919   \n",
       "\n",
       "                   pH  sulphates   alcohol  \n",
       "covariance  -0.007198   0.034413  0.409789  \n",
       "correlation -0.057731   0.251397  0.476166  "
      ]
     },
     "execution_count": 190,
     "metadata": {},
     "output_type": "execute_result"
    }
   ],
   "source": [
    "# show the covariance and the Pearson Correlation Coefficient between each of the 11 characteristics and the quality of the red wine\n",
    "res = pd.DataFrame([data.cov().iloc[:, -1], data.corr().iloc[:, -1]], index=['covariance', 'correlation'])\n",
    "res.drop(['quality'], axis=1, inplace=True)\n",
    "res"
   ]
  },
  {
   "cell_type": "code",
   "execution_count": 191,
   "id": "d84fe90d",
   "metadata": {
    "scrolled": false
   },
   "outputs": [
    {
     "data": {
      "image/png": "[encoded data removed]",
      "text/plain": [
       "<Figure size 432x288 with 1 Axes>"
      ]
     },
     "metadata": {
      "needs_background": "light"
     },
     "output_type": "display_data"
    },
    {
     "data": {
      "image/png": "[encoded data removed]",
      "text/plain": [
       "<Figure size 432x288 with 1 Axes>"
      ]
     },
     "metadata": {
      "needs_background": "light"
     },
     "output_type": "display_data"
    },
    {
     "data": {
      "image/png": "[encoded data removed]",
      "text/plain": [
       "<Figure size 432x288 with 1 Axes>"
      ]
     },
     "metadata": {
      "needs_background": "light"
     },
     "output_type": "display_data"
    },
    {
     "data": {
      "image/png": "[encoded data removed]",
      "text/plain": [
       "<Figure size 432x288 with 1 Axes>"
      ]
     },
     "metadata": {
      "needs_background": "light"
     },
     "output_type": "display_data"
    },
    {
     "data": {
      "image/png": "[encoded data removed]",
      "text/plain": [
       "<Figure size 432x288 with 1 Axes>"
      ]
     },
     "metadata": {
      "needs_background": "light"
     },
     "output_type": "display_data"
    },
    {
     "data": {
      "image/png": "[encoded data removed]",
      "text/plain": [
       "<Figure size 432x288 with 1 Axes>"
      ]
     },
     "metadata": {
      "needs_background": "light"
     },
     "output_type": "display_data"
    },
    {
     "data": {
      "image/png": "[encoded data removed]",
      "text/plain": [
       "<Figure size 432x288 with 1 Axes>"
      ]
     },
     "metadata": {
      "needs_background": "light"
     },
     "output_type": "display_data"
    },
    {
     "data": {
      "image/png": "[encoded data removed]",
      "text/plain": [
       "<Figure size 432x288 with 1 Axes>"
      ]
     },
     "metadata": {
      "needs_background": "light"
     },
     "output_type": "display_data"
    },
    {
     "data": {
      "image/png": "[encoded data removed]",
      "text/plain": [
       "<Figure size 432x288 with 1 Axes>"
      ]
     },
     "metadata": {
      "needs_background": "light"
     },
     "output_type": "display_data"
    },
    {
     "data": {
      "image/png": "[encoded data removed]",
      "text/plain": [
       "<Figure size 432x288 with 1 Axes>"
      ]
     },
     "metadata": {
      "needs_background": "light"
     },
     "output_type": "display_data"
    },
    {
     "data": {
      "image/png": "[encoded data removed]",
      "text/plain": [
       "<Figure size 432x288 with 1 Axes>"
      ]
     },
     "metadata": {
      "needs_background": "light"
     },
     "output_type": "display_data"
    }
   ],
   "source": [
    "for i in data.columns:\n",
    "    if i ==\"quality\":\n",
    "        break\n",
    "    sns.boxplot(\"quality\",i,data=data)\n",
    "    plt.show()"
   ]
  },
  {
   "cell_type": "code",
   "execution_count": 192,
   "id": "bf9e83f2",
   "metadata": {},
   "outputs": [],
   "source": [
    "# we can find that when quality is rising the value of volatile_acidity will get lower\n",
    "# when quality rising, the value of citric_acid will get higher\n",
    "# We can find that there are many outliers in the data, we can remove them during preprocessing to increase the accuracy"
   ]
  },
  {
   "cell_type": "code",
   "execution_count": 193,
   "id": "1ef3dfb6",
   "metadata": {},
   "outputs": [],
   "source": [
    "# slice the data into features and predict target\n",
    "X = data.iloc[:, :-1]\n",
    "y = data['quality']"
   ]
  },
  {
   "cell_type": "code",
   "execution_count": 194,
   "id": "8fdedb39",
   "metadata": {},
   "outputs": [
    {
     "data": {
      "text/plain": [
       "array([[-0.23809524,  0.72      , -0.78787879, -0.42857143, -0.15      ,\n",
       "        -0.21428571, -0.1       ,  0.46979866,  1.05263158, -0.33333333,\n",
       "        -0.5       ],\n",
       "       [-0.04761905,  1.44      , -0.78787879,  0.57142857,  0.95      ,\n",
       "         0.78571429,  0.725     ,  0.02237136, -0.57894737,  0.33333333,\n",
       "        -0.25      ],\n",
       "       [-0.04761905,  0.96      , -0.66666667,  0.14285714,  0.65      ,\n",
       "         0.07142857,  0.4       ,  0.11185682, -0.26315789,  0.16666667,\n",
       "        -0.25      ],\n",
       "       [ 1.57142857, -0.96      ,  0.90909091, -0.42857143, -0.2       ,\n",
       "         0.21428571,  0.55      ,  0.55928412, -0.78947368, -0.22222222,\n",
       "        -0.25      ],\n",
       "       [-0.23809524,  0.72      , -0.78787879, -0.42857143, -0.15      ,\n",
       "        -0.21428571, -0.1       ,  0.46979866,  1.05263158, -0.33333333,\n",
       "        -0.5       ]])"
      ]
     },
     "execution_count": 194,
     "metadata": {},
     "output_type": "execute_result"
    }
   ],
   "source": [
    "# It can effectively scale data with outliers. \n",
    "# If the data contains outliers, it will be discarded in the scaling through Robust.\n",
    "sc=RobustScaler()  \n",
    "X=sc.fit_transform(X)\n",
    "X[:5]"
   ]
  },
  {
   "cell_type": "code",
   "execution_count": 195,
   "id": "b618853b",
   "metadata": {},
   "outputs": [
    {
     "name": "stdout",
     "output_type": "stream",
     "text": [
      "shape of train input data: (1279, 12) \n",
      "shape of train output data (1279,) \n",
      "shape of test input data  (320, 12) \n",
      "shape of test output data (320,)\n"
     ]
    }
   ],
   "source": [
    "# split the data into train and test\n",
    "train_x,test_x,train_y,test_y = train_test_split(data, y, test_size=0.2,\n",
    "                                                random_state=1)\n",
    "print(\"shape of train input data:\",train_x.shape,\"\\nshape of train output data\",train_y.shape,\n",
    "\n",
    "      \"\\nshape of test input data \",test_x.shape,\"\\nshape of test output data\",test_y.shape)"
   ]
  },
  {
   "cell_type": "code",
   "execution_count": 196,
   "id": "5aa7a612",
   "metadata": {},
   "outputs": [
    {
     "data": {
      "text/plain": [
       "LogisticRegression()"
      ]
     },
     "execution_count": 196,
     "metadata": {},
     "output_type": "execute_result"
    }
   ],
   "source": [
    "# train the data\n",
    "model=LogisticRegression()\n",
    "model.fit(train_x,train_y)"
   ]
  },
  {
   "cell_type": "code",
   "execution_count": 197,
   "id": "71601e8c",
   "metadata": {},
   "outputs": [
    {
     "data": {
      "text/plain": [
       "array([5, 6, 6, 6, 6], dtype=int64)"
      ]
     },
     "execution_count": 197,
     "metadata": {},
     "output_type": "execute_result"
    }
   ],
   "source": [
    "# get the predict result\n",
    "pred=model.predict(test_x)\n",
    "pred[:5]"
   ]
  },
  {
   "cell_type": "code",
   "execution_count": 198,
   "id": "ed1c2aac",
   "metadata": {},
   "outputs": [
    {
     "name": "stdout",
     "output_type": "stream",
     "text": [
      "Accuracy Score: 0.921875\n",
      "classification Report:\n",
      "               precision    recall  f1-score   support\n",
      "\n",
      "           3       0.00      0.00      0.00         0\n",
      "           4       0.00      0.00      0.00         0\n",
      "           5       0.99      0.91      0.95       153\n",
      "           6       0.99      0.94      0.97       141\n",
      "           7       0.77      0.88      0.82        26\n",
      "           8       0.00      0.00      0.00         0\n",
      "\n",
      "    accuracy                           0.92       320\n",
      "   macro avg       0.46      0.46      0.46       320\n",
      "weighted avg       0.97      0.92      0.95       320\n",
      "\n",
      "confusion Matrix:\n",
      " [[  0   0   0   0   0   0]\n",
      " [  0   0   0   0   0   0]\n",
      " [  1  13 139   0   0   0]\n",
      " [  0   0   1 133   7   0]\n",
      " [  0   0   0   1  23   2]\n",
      " [  0   0   0   0   0   0]]\n"
     ]
    }
   ],
   "source": [
    "# print the accuracy\n",
    "print(\"Accuracy Score:\",accuracy_score(pred,test_y))\n",
    "print(\"classification Report:\\n\",classification_report(pred,test_y))\n",
    "print(\"confusion Matrix:\\n\",confusion_matrix(pred,test_y))"
   ]
  }
 ],
 "metadata": {
  "kernelspec": {
   "display_name": "Python 3 (ipykernel)",
   "language": "python",
   "name": "python3"
  },
  "language_info": {
   "codemirror_mode": {
    "name": "ipython",
    "version": 3
   },
   "file_extension": ".py",
   "mimetype": "text/x-python",
   "name": "python",
   "nbconvert_exporter": "python",
   "pygments_lexer": "ipython3",
   "version": "3.9.7"
  }
 },
 "nbformat": 4,
 "nbformat_minor": 5
}
