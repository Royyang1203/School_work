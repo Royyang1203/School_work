{
 "cells": [
  {
   "cell_type": "markdown",
   "metadata": {},
   "source": [
    "## 目錄\n",
    "\n",
    "* Pandas\n",
    "* 楊右宇\n",
    "* 建立日期：2021.11.13\n",
    "* 最後修改日期: 2021.11.13"
   ]
  },
  {
   "cell_type": "markdown",
   "metadata": {},
   "source": [
    "1. 簡介\n",
    " 1.1 進階參考資料  \n",
    " 1.2 Pandas 名稱來源與功能  \n",
    " 1.3 Numpy和Pandas 有什麼不同?  \n",
    " 1.4 Numpy 與 pandas 的轉換  \n",
    "2. Series：Pandas 的一維資料  \n",
    " 2.1 Series 的建立與索引使用  \n",
    " 2.2 Series資料型態  \n",
    " 2.3 基本資訊的常用屬性和方法  \n",
    "3. DataFrame：Pandas 的二維資料  \n",
    " 3.1 DataFrame 特色  \n",
    " 3.2 DataFrame 的建立  \n",
    " 3.3 顯示DataFrame 基本資訊   \n",
    " 3.4 欄位順序 & 欄位索引 & 行列資料轉置  \n",
    " 3.5 DataFrame索引：取得DataFrame的資料  \n",
    "4. 檔案輸出與匯入  \n",
    "5. 走訪 DataFrame 物件  \n",
    "6. 選擇、過濾與排序資料  \n",
    " 6.1 選擇資料  \n",
    " 6.2 過濾資料  \n",
    " 6.3 排序資料  \n",
    "7. 更新、合併與刪除 DataFrame物件  \n",
    " 7.1 更新資料  \n",
    " 7.2 刪除資料  \n",
    " 7.3 新增資料  \n",
    " 7.4 複製、連接與合併DataFrame物件  \n",
    "8. 群組、樞紐分析與套用函數  "
   ]
  },
  {
   "cell_type": "markdown",
   "metadata": {},
   "source": [
    "# 簡介"
   ]
  },
  {
   "cell_type": "markdown",
   "metadata": {},
   "source": [
    "## 1.1 進階參考資料\n",
    "\n",
    "* [official website: http://pandas.pydata.org/](http://pandas.pydata.org/)\n",
    "* [documentation: http://pandas.pydata.org/pandas-docs/stable/index.html](http://pandas.pydata.org/pandas-docs/stable/index.html)\n",
    "* [10-minute online tutorial: http://pandas.pydata.org/pandas-docs/stable/10min.html](http://pandas.pydata.org/pandas-docs/stable/10min.html)\n"
   ]
  },
  {
   "cell_type": "markdown",
   "metadata": {},
   "source": [
    "## 1.2 Pandas 名稱來源與功能\n",
    "\n",
    "* Pandas套件是資料處理和分析工具\n",
    " * 我們可以將Pandas套件視為是一套Python程式版的Excel試算表工具，透過簡單的Python程式碼，就可以針對表格資料執行Excel試算表的功能。  \n",
    "* 名稱是源於\"Python and data analysis\" and \"panel data\"字首的縮寫\n",
    " * Pandas套件和貓熊（Panda Bears）並沒有任何關係\n",
    " * Pandas是一套使用Python語言開發的Python套件，完整包含NumPy、Scipy和Matplotlab套件的功能\n",
    " * 其主要目的是幫助開發者進行資料處理和分析，事實上，資料科學有80%的工作都是在進行資料處理。"
   ]
  },
  {
   "cell_type": "markdown",
   "metadata": {},
   "source": [
    "## 1.3 Numpy和Pandas 有什麼不同?\n",
    "1. Numpy是array形式的，沒有欄位名稱或標籤，且資料型態都必須是一樣的矩陣\n",
    "2. Pandas基於Numpy構建的，有列表的標籤，資料型態可以不同  \n",
    "<br />  \n",
    "* Pandas主要兩個數據結構：\n",
    " * Series：為一維串列，資料型態可以不同\n",
    " * DataFrame：為二維串列，資料型態可以不同，表格即為 DataFrame 的典型結構\n",
    " * Panel：為三維串列"
   ]
  },
  {
   "cell_type": "markdown",
   "metadata": {},
   "source": [
    "## 1.4 Numpy 與 pandas 的轉換\n",
    "\n",
    "* pd.DataFrame(np陣列）\n",
    "* np.array(df的物件)       註：Series, DataFrame, Panel 皆可\n"
   ]
  },
  {
   "cell_type": "code",
   "execution_count": 12,
   "metadata": {
    "jupyter": {
     "outputs_hidden": true
    }
   },
   "outputs": [
    {
     "name": "stdout",
     "output_type": "stream",
     "text": [
      "    a   b   c   d\n",
      "0  13   2  86  68\n",
      "1  93  99  49  49\n",
      "2  10  88   2  79\n",
      "\n",
      " [[13  2 86 68]\n",
      " [93 99 49 49]\n",
      " [10 88  2 79]]\n"
     ]
    }
   ],
   "source": [
    "import numpy as np\n",
    "import pandas as pd\n",
    "\n",
    "df = pd.DataFrame(np.random.randint(1, 100,(3, 4)), columns = list('abcd'))  # 產生 3*4 陣列，值為 1 - 100\n",
    "print(df)\n",
    "\n",
    "na = np.array(df)\n",
    "print('\\n', na)\n",
    "\n"
   ]
  },
  {
   "cell_type": "markdown",
   "metadata": {},
   "source": [
    "# Series\n",
    "\n",
    "* pandas 的一維資料"
   ]
  },
  {
   "cell_type": "markdown",
   "metadata": {},
   "source": [
    "## 建立與取值\n",
    "\n",
    "* pd.Series(資料串, index=資料串)\n",
    "* 如果沒設定index，欄位會是索引值\n",
    "* 要取特定元素，可以使用下標運算子\n",
    "* Series.index #查看索引\n",
    "* Series.values #查看值"
   ]
  },
  {
   "cell_type": "code",
   "execution_count": 25,
   "metadata": {
    "jupyter": {
     "outputs_hidden": true
    }
   },
   "outputs": [
    {
     "name": "stdout",
     "output_type": "stream",
     "text": [
      "0    12\n",
      "1    29\n",
      "2    72\n",
      "3     4\n",
      "4     8\n",
      "5    10\n",
      "dtype: int64\n",
      "72\n",
      "\n",
      "蘋果    15\n",
      "橘子    33\n",
      "梨子    45\n",
      "櫻桃    55\n",
      "dtype: int64\n",
      "45\n",
      "Index(['蘋果', '橘子', '梨子', '櫻桃'], dtype='object')\n",
      "[15 33 45 55]\n"
     ]
    }
   ],
   "source": [
    "import pandas as pd\n",
    "\n",
    "s = pd.Series([12, 29, 72, 4, 8, 10]) \n",
    "print(s)\n",
    "print(s[2])\n",
    "print()\n",
    "\n",
    "fruits = [\"蘋果\", \"橘子\", \"梨子\", \"櫻桃\"]\n",
    "quantities = [15, 33, 45, 55]\n",
    "s = pd.Series(quantities, index=fruits) \n",
    "print(s)\n",
    "print(s[2])\n",
    "print(s.index)    # 查看索引\n",
    "print(s.values)   # 查看值"
   ]
  },
  {
   "cell_type": "markdown",
   "metadata": {},
   "source": [
    "## 資料型態\n",
    "\n",
    "* 一維陣列（Series)，資料型態可以不同\n",
    "* s[0].dtype\n",
    "    * 取得特定元素之型別"
   ]
  },
  {
   "cell_type": "code",
   "execution_count": 23,
   "metadata": {
    "jupyter": {
     "outputs_hidden": true
    }
   },
   "outputs": [
    {
     "name": "stdout",
     "output_type": "stream",
     "text": [
      "0      1\n",
      "1    abc\n",
      "2      6\n",
      "3    NaN\n",
      "4     44\n",
      "5      1\n",
      "dtype: object\n"
     ]
    }
   ],
   "source": [
    "import pandas as pd\n",
    "import numpy as np\n",
    "\n",
    "s = pd.Series([1,\"abc\",\"6\",np.nan,44,1])\n",
    "print(s)"
   ]
  },
  {
   "cell_type": "code",
   "execution_count": 26,
   "metadata": {},
   "outputs": [
    {
     "name": "stdout",
     "output_type": "stream",
     "text": [
      "橘子= 33\n",
      "\n",
      "type(s[\"橘子\"]: <class 'numpy.int64'>\n",
      "type(s[[\"橘子\"]]: <class 'pandas.core.series.Series'>\n",
      "\n",
      "int64\n",
      "int64\n"
     ]
    }
   ],
   "source": [
    "import numpy as np\n",
    "import pandas as pd\n",
    "\n",
    "fruits = [\"蘋果\", \"橘子\", \"梨子\", \"櫻桃\"]\n",
    "s = pd.Series([15, 33, 45, 55], index=fruits) \n",
    "print(\"橘子=\", s[\"橘子\"])\n",
    "print()\n",
    "\n",
    "print('type(s[\"橘子\"]:', type(s[\"橘子\"]))   # 一個和2個[]，意義不同\n",
    "print('type(s[[\"橘子\"]]:', type(s[[\"橘子\"]]))\n",
    "\n",
    "print()\n",
    "print(s[\"橘子\"].dtype)\n",
    "print(s[[\"橘子\"]].dtype)"
   ]
  },
  {
   "cell_type": "markdown",
   "metadata": {},
   "source": [
    "## 基本資訊的常用屬性和方法 (可用在Series & DataFrame)\n",
    "\n",
    "* df(s).shape # 顯示列數（與欄數）\n",
    "* df(s).index # 列索引\n",
    "* df.columns # 欄索引 (Series無此方法) \n",
    "* df(s).head(n) # 傳回前幾列的資料，預設為5列\n",
    "* df.info() # 詳細資料 (Series無此方法) \n",
    "* df(s)describe() # （各欄的）資料的描述統計\n",
    "* len(df(s)) # 資料筆數"
   ]
  },
  {
   "cell_type": "code",
   "execution_count": 6,
   "metadata": {
    "jupyter": {
     "outputs_hidden": true
    }
   },
   "outputs": [
    {
     "name": "stdout",
     "output_type": "stream",
     "text": [
      "shape: (6,)\n",
      "index: Index(['A', 'B', 'C', 'D', 'E', 'F'], dtype='object')\n",
      "head():\n",
      " A    5\n",
      "B    9\n",
      "C    5\n",
      "D    7\n",
      "E    5\n",
      "dtype: int32\n",
      "describe():\n",
      " count    6.00000\n",
      "mean     6.00000\n",
      "std      1.67332\n",
      "min      5.00000\n",
      "25%      5.00000\n",
      "50%      5.00000\n",
      "75%      6.50000\n",
      "max      9.00000\n",
      "dtype: float64\n",
      "\n",
      "len: 6\n"
     ]
    }
   ],
   "source": [
    "import numpy as np\n",
    "import pandas as pd\n",
    "\n",
    "ar1 = pd.Series(np.random.randint(5, 10, 6), index = list(\"ABCDEF\")) # 產生產生5到10(不含)的整數6個的陣列，索引使用ABCDEF\n",
    "print('shape:', ar1.shape)\n",
    "print('index:', ar1.index)\n",
    "print(\"head():\\n\", ar1.head())\n",
    "print('describe():\\n', ar1.describe())\n",
    "\n",
    "print('\\nlen:', len(ar1))"
   ]
  },
  {
   "cell_type": "markdown",
   "metadata": {},
   "source": [
    "## 運算"
   ]
  },
  {
   "cell_type": "code",
   "execution_count": 7,
   "metadata": {
    "jupyter": {
     "outputs_hidden": true
    }
   },
   "outputs": [
    {
     "name": "stdout",
     "output_type": "stream",
     "text": [
      "s2:\n",
      " 蘋果    18\n",
      "橘子    36\n",
      "梨子    48\n",
      "櫻桃    58\n",
      "dtype: int64\n",
      "\n",
      "s+p:\n",
      " 蘋果    26\n",
      "橘子    49\n",
      "梨子    66\n",
      "櫻桃    87\n",
      "dtype: int64\n",
      "\n",
      "總計= 228\n"
     ]
    }
   ],
   "source": [
    "# 2個 Series物件的運算\n",
    "import pandas as pd\n",
    "\n",
    "fruits = [\"蘋果\", \"橘子\", \"梨子\", \"櫻桃\"]\n",
    "s = pd.Series([15, 33, 45, 55], index=fruits) \n",
    "s2 = s + 3\n",
    "print('s2:\\n', s2)\n",
    "print()\n",
    "p = pd.Series([11, 16, 21, 32], index=fruits) \n",
    "print('s+p:\\n', s + p)\n",
    "print()\n",
    "print(\"總計=\", sum(s + p))"
   ]
  },
  {
   "cell_type": "code",
   "execution_count": 27,
   "metadata": {
    "jupyter": {
     "outputs_hidden": true
    }
   },
   "outputs": [
    {
     "name": "stdout",
     "output_type": "stream",
     "text": [
      "橘子= 33\n",
      "\n",
      "\n",
      "橘子    33\n",
      "梨子    45\n",
      "櫻桃    55\n",
      "dtype: int64\n",
      "\n",
      "\n",
      "四則運算：\n",
      " 蘋果     51\n",
      "橘子    105\n",
      "梨子    141\n",
      "櫻桃    171\n",
      "dtype: int64\n",
      "\n",
      "sin:\n",
      " 蘋果    0.650288\n",
      "橘子    0.999912\n",
      "梨子    0.850904\n",
      "櫻桃   -0.999755\n",
      "dtype: float64\n",
      "\n",
      "sum: 148\n"
     ]
    }
   ],
   "source": [
    "# Series的運算\n",
    "\n",
    "import numpy as np\n",
    "import pandas as pd\n",
    "\n",
    "fruits = [\"蘋果\", \"橘子\", \"梨子\", \"櫻桃\"]\n",
    "s = pd.Series([15, 33, 45, 55], index=fruits) \n",
    "print(\"橘子=\", s[\"橘子\"])\n",
    "print()\n",
    "\n",
    "print()\n",
    "print(s[[\"橘子\",\"梨子\",\"櫻桃\"]])   # 要用 2個中括號\n",
    "print()\n",
    "print('\\n四則運算：\\n', (s+2)*3)     # 四則運算\n",
    "\n",
    "print('\\nsin:\\n', s.apply(np.sin))   # 執行numpy的函式時，使用apply\n",
    "\n",
    "print('\\nsum:', sum(s))"
   ]
  },
  {
   "cell_type": "markdown",
   "metadata": {},
   "source": [
    "# DataFrame\n",
    "\n",
    "* Pandas 的二維資料"
   ]
  },
  {
   "cell_type": "markdown",
   "metadata": {},
   "source": [
    "## 特色\n",
    "\n",
    "* 資料結構類似表格或是Excel試算表，可以設定欄與列（索引）的名稱\n",
    "    * 沒有設定時，會以0, 1, 2, ...的數列當作標題\n",
    "* 就是擁有索引的Series物件所組成的Python字典，也就是說字典的每一個鍵的值都是一個Series物件\n",
    "* 使用pandas.DataFrame()函式，就可以建立DataFrame物件\n",
    "* 每一欄位是固定資料型態，不同欄位可以是不同的資料型態"
   ]
  },
  {
   "cell_type": "markdown",
   "metadata": {},
   "source": [
    "## 建立"
   ]
  },
  {
   "cell_type": "markdown",
   "metadata": {},
   "source": [
    "常見建立的方法有兩種：\n",
    "\n",
    "1. 以二維的串列及自行指定的行及列標題建立DataFrame 資料：\n",
    "    * df = pd.DataFrame(資料[, columns=行標題串列, index=列標題串列])\n",
    "       * 註：行標題串列和列標題串列可以省略，省略行或列的標題時，會以數字當作索引\n",
    "    * 例如：\n",
    "        * df = pd.DataFrame([[90,85,88,92], [80,70,87,60], [100,95,98,90]], columns=['John', 'Tom', 'Richard'], index=['Math', 'Chinese', 'Physics', 'Programming'])\n",
    "    * 或是：\n",
    "       * datas = [[90,85,88,92], [80,70,87,60], [100,95,98,90]]\n",
    "       * cl=['John', 'Tom', 'Richard']\n",
    "       * idx=['Math', 'Chinese', 'Physics', 'Programming']\n",
    "    * df = pd.DataFrame(datas, columns=cl, index=idx) \n",
    "\n",
    "2. 以擁有相同數目元素串列的字典建立DataFrame 資料：\n",
    "   * 語法：pd.DataFrame(字典的鍵1:[串列1], 字典的鍵2:[串列2],...)\n",
    "   * 例如建立一個 3 位學生，每人有 4 科成績的 DataFrame\n",
    "   * df = pd.DataFrame({\"John\":[90,85,88,92], \"Tom\":[80,70,87,60], \"Richard\":[100,95,98,90]})\n",
    "   * 可之後再建立索引 df.index = ...\n",
    "   * 若為建立索引，則以數字0, 1, ...作為索引"
   ]
  },
  {
   "cell_type": "code",
   "execution_count": null,
   "metadata": {
    "jupyter": {
     "outputs_hidden": true
    }
   },
   "outputs": [],
   "source": [
    "# 使用方法一建立 DataFrame\n",
    "\n",
    "import pandas as pd\n",
    "df1 = pd.DataFrame([[90,85,88,92], [80,70,87,60], [100,95,98,90]], \n",
    "    columns=['Math', 'Chinese', 'Physics', 'Programming'], \n",
    "    index=['John', 'Tom', 'Richard'])\n",
    "\n",
    "datas = [[90,85,88,92], [80,70,87,60], [100,95,98,90]]\n",
    "idx=['John', 'Tom', 'Richard']\n",
    "cl=['Math', 'Chinese', 'Physics', 'Programming']\n",
    "df2 = pd.DataFrame(datas, columns=cl, index=idx)\n",
    "\n",
    "print(df1)\n",
    "print()\n",
    "print(df2)"
   ]
  },
  {
   "cell_type": "code",
   "execution_count": 28,
   "metadata": {
    "jupyter": {
     "outputs_hidden": true
    }
   },
   "outputs": [
    {
     "name": "stdout",
     "output_type": "stream",
     "text": [
      "   name  population city\n",
      "0   中正區      159598  台北市\n",
      "1   板橋區      551452  新北市\n",
      "2   桃園區      441287  桃園市\n",
      "3   北屯區      275207  台中市\n",
      "4   安南區      192327  台南市\n",
      "5   三民區      343203  高雄市\n",
      "6   大安區      309835  台北市\n",
      "7   永和區      222531  新北市\n",
      "8   八德區      198473  桃園市\n",
      "9   前鎮區      189623  高雄市\n",
      "10  鳳山區      359125  高雄市\n",
      "11  信義區      225561  台北市\n",
      "12  新店區      302070  新北市\n",
      "\n",
      "<class 'pandas.core.frame.DataFrame'>\n",
      "RangeIndex: 13 entries, 0 to 12\n",
      "Data columns (total 3 columns):\n",
      " #   Column      Non-Null Count  Dtype \n",
      "---  ------      --------------  ----- \n",
      " 0   name        13 non-null     object\n",
      " 1   population  13 non-null     int64 \n",
      " 2   city        13 non-null     object\n",
      "dtypes: int64(1), object(2)\n",
      "memory usage: 440.0+ bytes\n",
      "None\n"
     ]
    }
   ],
   "source": [
    "# 使用字典（方法二）建立 DataFrame\n",
    "\n",
    "import pandas as pd\n",
    "\n",
    "dists = {\"name\": [\"中正區\", \"板橋區\", \"桃園區\", \"北屯區\", \n",
    "                   \"安南區\", \"三民區\", \"大安區\", \"永和區\", \n",
    "                   \"八德區\", \"前鎮區\", \"鳳山區\", \n",
    "                   \"信義區\", \"新店區\"],\n",
    "         \"population\": [159598, 551452, 441287, 275207,\n",
    "                        192327, 343203, 309835, 222531,\n",
    "                        198473, 189623, 359125, \n",
    "                        225561, 302070],\n",
    "         \"city\": [\"台北市\", \"新北市\", \"桃園市\", \"台中市\",\n",
    "                  \"台南市\", \"高雄市\", \"台北市\", \"新北市\",\n",
    "                  \"桃園市\", \"高雄市\", \"高雄市\",\n",
    "                  \"台北市\", \"新北市\"]}\n",
    "df = pd.DataFrame(dists)\n",
    "\n",
    "print(df)\n",
    "\n",
    "print()\n",
    "\n",
    "print(df.info())"
   ]
  },
  {
   "cell_type": "code",
   "execution_count": 29,
   "metadata": {
    "scrolled": true
   },
   "outputs": [
    {
     "name": "stdout",
     "output_type": "stream",
     "text": [
      "df:\n",
      "            name  population city\n",
      "first       中正區      159598  台北市\n",
      "second      板橋區      551452  新北市\n",
      "third       桃園區      441287  桃園市\n",
      "fourth      北屯區      275207  台中市\n",
      "fifth       安南區      192327  台南市\n",
      "sixth       三民區      343203  高雄市\n",
      "seventh     大安區      309835  台北市\n",
      "eigth       永和區      222531  新北市\n",
      "ninth       八德區      198473  桃園市\n",
      "tenth       前鎮區      189623  高雄市\n",
      "eleventh    鳳山區      359125  高雄市\n",
      "twelvth     信義區      225561  台北市\n",
      "thirteenth  新店區      302070  新北市\n",
      "\n",
      "df2:\n",
      "            name  population city\n",
      "first       中正區      159598  台北市\n",
      "second      板橋區      551452  新北市\n",
      "third       桃園區      441287  桃園市\n",
      "fourth      北屯區      275207  台中市\n",
      "fifth       安南區      192327  台南市\n",
      "sixth       三民區      343203  高雄市\n",
      "seventh     大安區      309835  台北市\n",
      "eigth       永和區      222531  新北市\n",
      "ninth       八德區      198473  桃園市\n",
      "tenth       前鎮區      189623  高雄市\n",
      "eleventh    鳳山區      359125  高雄市\n",
      "twelvth     信義區      225561  台北市\n",
      "thirteenth  新店區      302070  新北市\n"
     ]
    }
   ],
   "source": [
    "# 建立DataFrame之後再加上索引標題 .index =索引標題串列\n",
    "\n",
    "import pandas as pd\n",
    "\n",
    "dists = {\"name\": [\"中正區\", \"板橋區\", \"桃園區\", \"北屯區\", \n",
    "                   \"安南區\", \"三民區\", \"大安區\", \"永和區\", \n",
    "                   \"八德區\", \"前鎮區\", \"鳳山區\", \n",
    "                   \"信義區\", \"新店區\"],\n",
    "         \"population\": [159598, 551452, 441287, 275207,\n",
    "                        192327, 343203, 309835, 222531,\n",
    "                        198473, 189623, 359125, \n",
    "                        225561, 302070],\n",
    "         \"city\": [\"台北市\", \"新北市\", \"桃園市\", \"台中市\",\n",
    "                  \"台南市\", \"高雄市\", \"台北市\", \"新北市\",\n",
    "                  \"桃園市\", \"高雄市\", \"高雄市\",\n",
    "                  \"台北市\", \"新北市\"]}\n",
    "         \n",
    "ordinals =[\"first\", \"second\", \"third\", \"fourth\", \"fifth\",\n",
    "           \"sixth\", \"seventh\", \"eigth\", \"ninth\", \"tenth\",\n",
    "           \"eleventh\", \"twelvth\", \"thirteenth\"]         \n",
    "df = pd.DataFrame(dists, index=ordinals) \n",
    "print('df:\\n', df)  \n",
    "# df.to_html(\"Ch9_2_1a.html\")\n",
    "\n",
    "df2 = pd.DataFrame(dists)\n",
    "df2.index = ordinals\n",
    "print('\\ndf2:\\n', df2) "
   ]
  },
  {
   "cell_type": "code",
   "execution_count": 31,
   "metadata": {
    "jupyter": {
     "outputs_hidden": true
    }
   },
   "outputs": [
    {
     "name": "stdout",
     "output_type": "stream",
     "text": [
      "    0   1    2   3\n",
      "0  94  75  100  19\n",
      "1  91   4   55  39\n",
      "2  33  13   96  50\n",
      "\n",
      "    甲   乙    丙   丁\n",
      "A  94  75  100  19\n",
      "B  91   4   55  39\n",
      "C  33  13   96  50\n"
     ]
    }
   ],
   "source": [
    "#  建立DataFrame之後再加上索引標題\n",
    "\n",
    "import numpy as np\n",
    "import pandas as pd\n",
    "\n",
    "v = np.random.randint(1, 101, (3,4))#  產生5到10(不含)的整數3*4個的二維陣列\n",
    "\n",
    "df = pd.DataFrame(v)\n",
    "print(df)\n",
    "print()\n",
    "\n",
    "df.index = list('ABC')   # df.index = ('A', 'B', 'C')  \n",
    "df.columns = list('甲乙丙丁')\n",
    "print(df)"
   ]
  },
  {
   "cell_type": "code",
   "execution_count": 30,
   "metadata": {
    "jupyter": {
     "outputs_hidden": true
    }
   },
   "outputs": [
    {
     "name": "stdout",
     "output_type": "stream",
     "text": [
      "    0   1   2   3\n",
      "0  29  47  56  20\n",
      "1  72  11  69  62\n",
      "2  43  77   4   8\n"
     ]
    }
   ],
   "source": [
    "# 未設定列（索引）與欄（行）的標題時，會以0, 1, 2, ...的數列當作標題\n",
    "\n",
    "import numpy as np\n",
    "import pandas as pd\n",
    "\n",
    "v = np.random.randint(1, 101, (3,4))#  產生5到10(不含)的整數3*4個的二維陣列\n",
    "df = pd.DataFrame(v)\n",
    "\n",
    "print(df)"
   ]
  },
  {
   "cell_type": "code",
   "execution_count": null,
   "metadata": {},
   "outputs": [],
   "source": [
    "# 行或列的標題在建立時可省略，之後可再設定或是修改\n",
    "\n",
    "import pandas as pd\n",
    "df = pd.DataFrame([[90,85,88,92], [80,70,87,60], [100,95,98,90]])\n",
    "print(df)\n",
    "print()\n",
    "\n",
    "idx=['John', 'Tom', 'Richard']\n",
    "cl=['Math', 'Chinese', 'Physics', 'Programming']\n",
    "df.columns=cl\n",
    "df.index=idx\n",
    "print(df)\n",
    "print()\n",
    "\n",
    "idx[0]='Irene'\n",
    "df.index=idx\n",
    "cl[1]='Algorithm'\n",
    "df.columns=cl\n",
    "print(df)"
   ]
  },
  {
   "cell_type": "code",
   "execution_count": 32,
   "metadata": {},
   "outputs": [
    {
     "name": "stdout",
     "output_type": "stream",
     "text": [
      "   name  population city\n",
      "0   中正區      159598  台北市\n",
      "1   板橋區      551452  新北市\n",
      "2   桃園區      441287  桃園市\n",
      "3   北屯區      275207  台中市\n",
      "4   安南區      192327  台南市\n",
      "5   三民區      343203  高雄市\n",
      "6   大安區      309835  台北市\n",
      "7   永和區      222531  新北市\n",
      "8   八德區      198473  桃園市\n",
      "9   前鎮區      189623  高雄市\n",
      "10  鳳山區      359125  高雄市\n",
      "11  信義區      225561  台北市\n",
      "12  新店區      302070  新北市\n",
      "\n",
      "shape: (13, 3)\n",
      "\n",
      "index: RangeIndex(start=0, stop=13, step=1)\n",
      "\n",
      "columns: Index(['name', 'population', 'city'], dtype='object')\n",
      "\n",
      "head():\n",
      "   name  population city\n",
      "0  中正區      159598  台北市\n",
      "1  板橋區      551452  新北市\n",
      "2  桃園區      441287  桃園市\n",
      "3  北屯區      275207  台中市\n",
      "4  安南區      192327  台南市\n",
      "\n",
      "describe():\n",
      "           population\n",
      "count      13.000000\n",
      "mean   290022.461538\n",
      "std    113031.540213\n",
      "min    159598.000000\n",
      "25%    198473.000000\n",
      "50%    275207.000000\n",
      "75%    343203.000000\n",
      "max    551452.000000\n"
     ]
    }
   ],
   "source": [
    "# 查看 DataFrame 的基本資訊\n",
    "\n",
    "# 將DataFrame 物件儲存成HTML格式，並儲存到檔案\n",
    "import pandas as pd\n",
    "\n",
    "dists = {\"name\": [\"中正區\", \"板橋區\", \"桃園區\", \"北屯區\", \n",
    "                   \"安南區\", \"三民區\", \"大安區\", \"永和區\", \n",
    "                   \"八德區\", \"前鎮區\", \"鳳山區\", \n",
    "                   \"信義區\", \"新店區\"],\n",
    "         \"population\": [159598, 551452, 441287, 275207,\n",
    "                        192327, 343203, 309835, 222531,\n",
    "                        198473, 189623, 359125, \n",
    "                        225561, 302070],\n",
    "         \"city\": [\"台北市\", \"新北市\", \"桃園市\", \"台中市\",\n",
    "                  \"台南市\", \"高雄市\", \"台北市\", \"新北市\",\n",
    "                  \"桃園市\", \"高雄市\", \"高雄市\",\n",
    "                  \"台北市\", \"新北市\"]}\n",
    "df = pd.DataFrame(dists) \n",
    "print(df)     # 欄位標題與值沒有對齊\n",
    "\n",
    "print('\\nshape:', df.shape)\n",
    "print('\\nindex:', df.index)\n",
    "print('\\ncolumns:', df.columns)\n",
    "print(\"\\nhead():\\n\", df.head())\n",
    "print('\\ndescribe():\\n', df.describe()) # 顯示各欄位的個數、平均數、標準差、最大、最小值、P25, P50, P75"
   ]
  },
  {
   "cell_type": "markdown",
   "metadata": {},
   "source": [
    "## 顯示DataFrame 基本資訊\n",
    "\n",
    "- shape：顯示列數（與欄數）\n",
    "- df.shape\n",
    "- index：列索引\n",
    "- columns:DataFrames 的欄索引 (Series無此方法)\n",
    "- head(n)：傳回前幾列的資料，預設為5列\n",
    "- info()：DataFrame的詳細資料 (Series無此方法)\n",
    "- describe()：（各欄的）資料的描述統計\n",
    "- len(Series或DataFrame物件)：資料筆數\n",
    "- head()函數顯示前幾筆記錄，預設是5筆\n",
    "- tail()函數顯示最後幾筆記錄，預設也是5筆"
   ]
  },
  {
   "cell_type": "code",
   "execution_count": 36,
   "metadata": {},
   "outputs": [
    {
     "name": "stdout",
     "output_type": "stream",
     "text": [
      "  city name  population\n",
      "0  台北市  中正區      159598\n",
      "1  新北市  板橋區      551452\n",
      "2  桃園市  桃園區      441287\n",
      "3  台中市  北屯區      275207\n",
      "4  台南市  安南區      192327\n",
      "  city name  population\n",
      "0  台北市  中正區      159598\n",
      "1  新北市  板橋區      551452\n",
      "2  桃園市  桃園區      441287\n",
      "   city name  population\n",
      "8   桃園市  八德區      198473\n",
      "9   高雄市  前鎮區      189623\n",
      "10  高雄市  鳳山區      359125\n",
      "11  台北市  信義區      225561\n",
      "12  新北市  新店區      302070\n",
      "   city name  population\n",
      "10  高雄市  鳳山區      359125\n",
      "11  台北市  信義區      225561\n",
      "12  新北市  新店區      302070\n"
     ]
    }
   ],
   "source": [
    "import pandas as pd\n",
    "\n",
    "df = pd.read_csv(\"dists.csv\", encoding=\"utf8\")\n",
    "\n",
    "print(df.head()) \n",
    "print(df.head(3))\n",
    "print(df.tail())\n",
    "print(df.tail(3))\n"
   ]
  },
  {
   "cell_type": "code",
   "execution_count": null,
   "metadata": {},
   "outputs": [],
   "source": [
    "# dists.csv\n",
    "city,name,population\n",
    "台北市,中正區,159598\n",
    "新北市,板橋區,551452\n",
    "桃園市,桃園區,441287\n",
    "台中市,北屯區,275207\n",
    "台南市,安南區,192327\n",
    "高雄市,三民區,343203\n",
    "台北市,大安區,309835\n",
    "新北市,永和區,222531\n",
    "桃園市,八德區,198473\n",
    "高雄市,前鎮區,189623\n",
    "高雄市,鳳山區,359125\n",
    "台北市,信義區,225561\n",
    "新北市,新店區,302070"
   ]
  },
  {
   "cell_type": "code",
   "execution_count": 37,
   "metadata": {},
   "outputs": [
    {
     "name": "stdout",
     "output_type": "stream",
     "text": [
      "   直轄市    區      人口\n",
      "0  台北市  中正區  159598\n",
      "1  新北市  板橋區  551452\n",
      "2  桃園市  桃園區  441287\n",
      "3  台中市  北屯區  275207\n"
     ]
    }
   ],
   "source": [
    "# 使用columns屬性指定DataFrame物件的欄位標籤清單\n",
    "\n",
    "import pandas as pd\n",
    "\n",
    "df = pd.read_csv(\"dists.csv\", encoding=\"utf8\")\n",
    "\n",
    "df.columns = [\"直轄市\", \"區\", \"人口\"]\n",
    "print(df.head(4)) \n",
    "\n"
   ]
  },
  {
   "cell_type": "code",
   "execution_count": 38,
   "metadata": {
    "jupyter": {
     "outputs_hidden": true
    }
   },
   "outputs": [
    {
     "name": "stdout",
     "output_type": "stream",
     "text": [
      "RangeIndex(start=0, stop=13, step=1)\n",
      "Index(['直轄市', '區', '人口'], dtype='object')\n",
      "[['台北市' '中正區' 159598]\n",
      " ['新北市' '板橋區' 551452]\n",
      " ['桃園市' '桃園區' 441287]\n",
      " ['台中市' '北屯區' 275207]\n",
      " ['台南市' '安南區' 192327]\n",
      " ['高雄市' '三民區' 343203]\n",
      " ['台北市' '大安區' 309835]\n",
      " ['新北市' '永和區' 222531]\n",
      " ['桃園市' '八德區' 198473]\n",
      " ['高雄市' '前鎮區' 189623]\n",
      " ['高雄市' '鳳山區' 359125]\n",
      " ['台北市' '信義區' 225561]\n",
      " ['新北市' '新店區' 302070]]\n"
     ]
    }
   ],
   "source": [
    "# 取得DataFrame物件的索引、欄位和資料：Ch9_2_3c.py\n",
    "\n",
    "import pandas as pd\n",
    "\n",
    "df = pd.read_csv(\"dists.csv\", encoding=\"utf8\")\n",
    "\n",
    "df.columns = [\"直轄市\", \"區\", \"人口\"]\n",
    "print(df.index)\n",
    "print(df.columns)\n",
    "print(df.values) "
   ]
  },
  {
   "cell_type": "code",
   "execution_count": 39,
   "metadata": {},
   "outputs": [
    {
     "name": "stdout",
     "output_type": "stream",
     "text": [
      "資料數=  13\n",
      "形狀=  (13, 3)\n",
      "<class 'pandas.core.frame.DataFrame'>\n",
      "RangeIndex: 13 entries, 0 to 12\n",
      "Data columns (total 3 columns):\n",
      " #   Column      Non-Null Count  Dtype \n",
      "---  ------      --------------  ----- \n",
      " 0   city        13 non-null     object\n",
      " 1   name        13 non-null     object\n",
      " 2   population  13 non-null     int64 \n",
      "dtypes: int64(1), object(2)\n",
      "memory usage: 440.0+ bytes\n"
     ]
    }
   ],
   "source": [
    "# Python的len()函數取得DataFrame物件的記錄數，shape屬性取得形狀，info()函數取得摘要資訊\n",
    "\n",
    "import pandas as pd\n",
    "\n",
    "df = pd.read_csv(\"dists.csv\", encoding=\"utf8\")\n",
    "\n",
    "print(\"資料數= \", len(df))\n",
    "print(\"形狀= \", df.shape)  \n",
    "df.info()"
   ]
  },
  {
   "cell_type": "markdown",
   "metadata": {},
   "source": [
    "## 3.4 欄位順序 & 欄位索引 & 行列資料轉置"
   ]
  },
  {
   "cell_type": "code",
   "execution_count": 40,
   "metadata": {},
   "outputs": [
    {
     "name": "stdout",
     "output_type": "stream",
     "text": [
      "原來的:\n",
      "           name  population city\n",
      "first       中正區      159598  台北市\n",
      "second      板橋區      551452  新北市\n",
      "third       桃園區      441287  桃園市\n",
      "fourth      北屯區      275207  台中市\n",
      "fifth       安南區      192327  台南市\n",
      "sixth       三民區      343203  高雄市\n",
      "seventh     大安區      309835  台北市\n",
      "eigth       永和區      222531  新北市\n",
      "ninth       八德區      198473  桃園市\n",
      "tenth       前鎮區      189623  高雄市\n",
      "eleventh    鳳山區      359125  高雄市\n",
      "twelvth     信義區      225561  台北市\n",
      "thirteenth  新店區      302070  新北市\n",
      "重新設定的:\n",
      "           name city  population\n",
      "first       中正區  台北市      159598\n",
      "second      板橋區  新北市      551452\n",
      "third       桃園區  桃園市      441287\n",
      "fourth      北屯區  台中市      275207\n",
      "fifth       安南區  台南市      192327\n",
      "sixth       三民區  高雄市      343203\n",
      "seventh     大安區  台北市      309835\n",
      "eigth       永和區  新北市      222531\n",
      "ninth       八德區  桃園市      198473\n",
      "tenth       前鎮區  高雄市      189623\n",
      "eleventh    鳳山區  高雄市      359125\n",
      "twelvth     信義區  台北市      225561\n",
      "thirteenth  新店區  新北市      302070\n",
      "\n",
      "           population    name city\n",
      "first             中正區  159598  台北市\n",
      "second            板橋區  551452  新北市\n",
      "third             桃園區  441287  桃園市\n",
      "fourth            北屯區  275207  台中市\n",
      "fifth             安南區  192327  台南市\n",
      "sixth             三民區  343203  高雄市\n",
      "seventh           大安區  309835  台北市\n",
      "eigth             永和區  222531  新北市\n",
      "ninth             八德區  198473  桃園市\n",
      "tenth             前鎮區  189623  高雄市\n",
      "eleventh          鳳山區  359125  高雄市\n",
      "twelvth           信義區  225561  台北市\n",
      "thirteenth        新店區  302070  新北市\n"
     ]
    }
   ],
   "source": [
    "# 重新指定DataFrame物件的欄位順序 Ch9_2_1b.py\n",
    "\n",
    "import pandas as pd\n",
    "\n",
    "dists = {\"name\": [\"中正區\", \"板橋區\", \"桃園區\", \"北屯區\", \n",
    "                   \"安南區\", \"三民區\", \"大安區\", \"永和區\", \n",
    "                   \"八德區\", \"前鎮區\", \"鳳山區\", \n",
    "                   \"信義區\", \"新店區\"],\n",
    "         \"population\": [159598, 551452, 441287, 275207,\n",
    "                        192327, 343203, 309835, 222531,\n",
    "                        198473, 189623, 359125, \n",
    "                        225561, 302070],\n",
    "         \"city\": [\"台北市\", \"新北市\", \"桃園市\", \"台中市\",\n",
    "                  \"台南市\", \"高雄市\", \"台北市\", \"新北市\",\n",
    "                  \"桃園市\", \"高雄市\", \"高雄市\",\n",
    "                  \"台北市\", \"新北市\"]}\n",
    "         \n",
    "ordinals =[\"first\", \"second\", \"third\", \"fourth\", \"fifth\",\n",
    "           \"sixth\", \"seventh\", \"eigth\", \"ninth\", \"tenth\",\n",
    "           \"eleventh\", \"twelvth\", \"thirteenth\"]         \n",
    "\n",
    "df1 = pd.DataFrame(dists, index=ordinals) \n",
    "print('原來的:', df1, sep='\\n')\n",
    "\n",
    "df2 = pd.DataFrame(dists, \n",
    "                  columns = [\"name\", \"city\", \"population\"],\n",
    "                  index=ordinals) \n",
    "\n",
    "print('重新設定的:', df2, sep='\\n')\n",
    "\n",
    "print()\n",
    "\n",
    "df3 = pd.DataFrame(dists, index=ordinals)\n",
    "df3.columns = [\"population\", \"name\", \"city\" ]\n",
    "print(df3) \n"
   ]
  },
  {
   "cell_type": "code",
   "execution_count": 44,
   "metadata": {},
   "outputs": [
    {
     "name": "stdout",
     "output_type": "stream",
     "text": [
      "    name  population city\n",
      "台北市  中正區      159598  台北市\n",
      "新北市  板橋區      551452  新北市\n",
      "桃園市  桃園區      441287  桃園市\n",
      "台中市  北屯區      275207  台中市\n",
      "台南市  安南區      192327  台南市\n",
      "高雄市  三民區      343203  高雄市\n",
      "台北市  大安區      309835  台北市\n",
      "新北市  永和區      222531  新北市\n",
      "桃園市  八德區      198473  桃園市\n",
      "高雄市  前鎮區      189623  高雄市\n",
      "高雄市  鳳山區      359125  高雄市\n",
      "台北市  信義區      225561  台北市\n",
      "新北市  新店區      302070  新北市\n",
      "\n",
      "    name  population\n",
      "台北市  中正區      159598\n",
      "新北市  板橋區      551452\n",
      "桃園市  桃園區      441287\n",
      "台中市  北屯區      275207\n",
      "台南市  安南區      192327\n",
      "高雄市  三民區      343203\n",
      "台北市  大安區      309835\n",
      "新北市  永和區      222531\n",
      "桃園市  八德區      198473\n",
      "高雄市  前鎮區      189623\n",
      "高雄市  鳳山區      359125\n",
      "台北市  信義區      225561\n",
      "新北市  新店區      302070\n"
     ]
    }
   ],
   "source": [
    "# 使用現有欄位作為索引，有兩種作法，欄位重複與否不相同\n",
    "\n",
    "import pandas as pd\n",
    "\n",
    "dists = {\"name\": [\"中正區\", \"板橋區\", \"桃園區\", \"北屯區\", \n",
    "                   \"安南區\", \"三民區\", \"大安區\", \"永和區\", \n",
    "                   \"八德區\", \"前鎮區\", \"鳳山區\", \n",
    "                   \"信義區\", \"新店區\"],\n",
    "         \"population\": [159598, 551452, 441287, 275207,\n",
    "                        192327, 343203, 309835, 222531,\n",
    "                        198473, 189623, 359125, \n",
    "                        225561, 302070],\n",
    "         \"city\": [\"台北市\", \"新北市\", \"桃園市\", \"台中市\",\n",
    "                  \"台南市\", \"高雄市\", \"台北市\", \"新北市\",\n",
    "                  \"桃園市\", \"高雄市\", \"高雄市\",\n",
    "                  \"台北市\", \"新北市\"]}\n",
    "                \n",
    "df = pd.DataFrame(dists, index=dists['city'])   # 原來的 city欄位保留，並且複製一份city欄位當作 index\n",
    "print(df)\n",
    "print()\n",
    "\n",
    "df = pd.DataFrame(dists, columns = ['name', 'population'], index=dists['city'])  # 不使用原來的 city欄位，將city欄位當作 index\n",
    "print(df)"
   ]
  },
  {
   "cell_type": "code",
   "execution_count": 45,
   "metadata": {
    "jupyter": {
     "outputs_hidden": true
    }
   },
   "outputs": [
    {
     "name": "stdout",
     "output_type": "stream",
     "text": [
      "   name  population city\n",
      "0   中正區      159598  台北市\n",
      "1   板橋區      551452  新北市\n",
      "2   桃園區      441287  桃園市\n",
      "3   北屯區      275207  台中市\n",
      "4   安南區      192327  台南市\n",
      "5   三民區      343203  高雄市\n",
      "6   大安區      309835  台北市\n",
      "7   永和區      222531  新北市\n",
      "8   八德區      198473  桃園市\n",
      "9   前鎮區      189623  高雄市\n",
      "10  鳳山區      359125  高雄市\n",
      "11  信義區      225561  台北市\n",
      "12  新店區      302070  新北市\n",
      "\n",
      "new columns:\n",
      " RangeIndex(start=0, stop=13, step=1)\n",
      "df.T:\n",
      "                 0       1       2       3       4       5       6       7   \\\n",
      "name           中正區     板橋區     桃園區     北屯區     安南區     三民區     大安區     永和區   \n",
      "population  159598  551452  441287  275207  192327  343203  309835  222531   \n",
      "city           台北市     新北市     桃園市     台中市     台南市     高雄市     台北市     新北市   \n",
      "\n",
      "                8       9       10      11      12  \n",
      "name           八德區     前鎮區     鳳山區     信義區     新店區  \n",
      "population  198473  189623  359125  225561  302070  \n",
      "city           桃園市     高雄市     高雄市     台北市     新北市  \n"
     ]
    }
   ],
   "source": [
    "# 轉置DataFrame物件：Ch9_2_1d.py\n",
    "\n",
    "import pandas as pd\n",
    "\n",
    "dists = {\"name\": [\"中正區\", \"板橋區\", \"桃園區\", \"北屯區\", \n",
    "                   \"安南區\", \"三民區\", \"大安區\", \"永和區\", \n",
    "                   \"八德區\", \"前鎮區\", \"鳳山區\", \n",
    "                   \"信義區\", \"新店區\"],\n",
    "         \"population\": [159598, 551452, 441287, 275207,\n",
    "                        192327, 343203, 309835, 222531,\n",
    "                        198473, 189623, 359125, \n",
    "                        225561, 302070],\n",
    "         \"city\": [\"台北市\", \"新北市\", \"桃園市\", \"台中市\",\n",
    "                  \"台南市\", \"高雄市\", \"台北市\", \"新北市\",\n",
    "                  \"桃園市\", \"高雄市\", \"高雄市\",\n",
    "                  \"台北市\", \"新北市\"]}\n",
    "       \n",
    "df = pd.DataFrame(dists) \n",
    "\n",
    "print(df)\n",
    "print()\n",
    "a = df.T\n",
    "print('new columns:\\n', a.columns)\n",
    "print('df.T:\\n', a) \n",
    "# df.T.to_html(\"Ch9_2_1d.html\")"
   ]
  },
  {
   "cell_type": "code",
   "execution_count": null,
   "metadata": {},
   "outputs": [],
   "source": [
    "### Ch9_2_1d.html\"\n",
    "<table border=\"1\" class=\"dataframe\">\n",
    "  <thead>\n",
    "    <tr style=\"text-align: right;\">\n",
    "      <th></th>\n",
    "      <th>台北市</th>\n",
    "      <th>新北市</th>\n",
    "      <th>桃園市</th>\n",
    "      <th>台中市</th>\n",
    "      <th>台南市</th>\n",
    "      <th>高雄市</th>\n",
    "      <th>台北市</th>\n",
    "      <th>新北市</th>\n",
    "      <th>桃園市</th>\n",
    "      <th>高雄市</th>\n",
    "      <th>高雄市</th>\n",
    "      <th>台北市</th>\n",
    "      <th>新北市</th>\n",
    "    </tr>\n",
    "  </thead>\n",
    "  <tbody>\n",
    "    <tr>\n",
    "      <th>name</th>\n",
    "      <td>中正區</td>\n",
    "      <td>板橋區</td>\n",
    "      <td>桃園區</td>\n",
    "      <td>北屯區</td>\n",
    "      <td>安南區</td>\n",
    "      <td>三民區</td>\n",
    "      <td>大安區</td>\n",
    "      <td>永和區</td>\n",
    "      <td>八德區</td>\n",
    "      <td>前鎮區</td>\n",
    "      <td>鳳山區</td>\n",
    "      <td>信義區</td>\n",
    "      <td>新店區</td>\n",
    "    </tr>\n",
    "    <tr>\n",
    "      <th>population</th>\n",
    "      <td>159598</td>\n",
    "      <td>551452</td>\n",
    "      <td>441287</td>\n",
    "      <td>275207</td>\n",
    "      <td>192327</td>\n",
    "      <td>343203</td>\n",
    "      <td>309835</td>\n",
    "      <td>222531</td>\n",
    "      <td>198473</td>\n",
    "      <td>189623</td>\n",
    "      <td>359125</td>\n",
    "      <td>225561</td>\n",
    "      <td>302070</td>\n",
    "    </tr>\n",
    "  </tbody>\n",
    "</table>"
   ]
  },
  {
   "cell_type": "markdown",
   "metadata": {},
   "source": [
    "## 索引取值\n",
    "取得DataFrame的資料"
   ]
  },
  {
   "cell_type": "markdown",
   "metadata": {
    "collapsed": true,
    "jupyter": {
     "outputs_hidden": true
    }
   },
   "source": [
    "### 以行標題取得資料\n",
    "\n",
    "* 註：行就是欄位 column，列就是索引 index\n",
    "* 取得的資料型態為 Series 或 DataFrame\n",
    "* df.行標題    # 行標題不需用引號刮起來\n",
    "* df['行標題']\n",
    "* df[[行標題1, 行標題2,...]]   #因為是串列中的串列，要兩層的[]\n",
    "* df[df.行標題的邏輯運算]  #例如： df[df.Math >= 60] "
   ]
  },
  {
   "cell_type": "code",
   "execution_count": 47,
   "metadata": {
    "jupyter": {
     "outputs_hidden": true
    }
   },
   "outputs": [
    {
     "name": "stdout",
     "output_type": "stream",
     "text": [
      "         Math  Chinese  Physics  Programming\n",
      "John       90       85       88           92\n",
      "Tom        80       70       87           60\n",
      "Richard   100       95       98           90\n",
      "\n",
      "John       85\n",
      "Tom        70\n",
      "Richard    95\n",
      "Name: Chinese, dtype: int64\n",
      "\n",
      "John       85\n",
      "Tom        70\n",
      "Richard    95\n",
      "Name: Chinese, dtype: int64\n",
      "\n",
      "         Math  Chinese\n",
      "John       90       85\n",
      "Tom        80       70\n",
      "Richard   100       95\n",
      "\n",
      "         Math  Chinese  Physics  Programming\n",
      "John       90       85       88           92\n",
      "Richard   100       95       98           90\n"
     ]
    }
   ],
   "source": [
    "import pandas as pd\n",
    "\n",
    "df = pd.DataFrame([[90,85,88,92], [80,70,87,60], [100,95,98,90]], \n",
    "    columns=['Math', 'Chinese', 'Physics', 'Programming'], \n",
    "    index=['John', 'Tom', 'Richard'])\n",
    "\n",
    "df1 = df['Chinese']\n",
    "df2 = df.Chinese\n",
    "df3 = df[['Math', 'Chinese']]\n",
    "df4 = df[df.Math >= 90]\n",
    "print(df, df1, df2, df3, df4, sep='\\n\\n')\n"
   ]
  },
  {
   "cell_type": "markdown",
   "metadata": {},
   "source": [
    "### 以列標題取得資料\n",
    "\n",
    "* 註：行就是欄位 column，列就是索引 index\n",
    "* 取得的資料型態為 DataFrame\n",
    "* df[列標題:列標題]         \n",
    "* df[列索引1:列索引2]     # 即第幾筆資料到第幾筆資料，不包含列索引2 "
   ]
  },
  {
   "cell_type": "code",
   "execution_count": 63,
   "metadata": {
    "jupyter": {
     "outputs_hidden": true
    }
   },
   "outputs": [
    {
     "name": "stdout",
     "output_type": "stream",
     "text": [
      "         Math  Chinese  Physics  Programming\n",
      "Tom        80       70       87           60\n",
      "Richard   100       95       98           90\n",
      "\n",
      "         Math  Chinese  Physics  Programming\n",
      "Tom        80       70       87           60\n",
      "Richard   100       95       98           90\n"
     ]
    }
   ],
   "source": [
    "import pandas as pd\n",
    "\n",
    "df = pd.DataFrame([[90,85,88,92], [80,70,87,60], [100,95,98,90]], \n",
    "    columns=['Math', 'Chinese', 'Physics', 'Programming'], \n",
    "    index=['John', 'Tom', 'Richard'])\n",
    "\n",
    "print(df['Tom':'Richard'])\n",
    "print()\n",
    "print(df[1: 3])  "
   ]
  },
  {
   "cell_type": "markdown",
   "metadata": {},
   "source": [
    "### 以values取得列或某一欄的資料：\n",
    "\n",
    "* 取得資料型別為 List\n",
    "* df.values   #取得全部資料\n",
    "* df.values[列索引]   #取得某列資料\n",
    "* df.values[列索引, 行索引]  #取得某欄資料"
   ]
  },
  {
   "cell_type": "code",
   "execution_count": 58,
   "metadata": {},
   "outputs": [
    {
     "name": "stdout",
     "output_type": "stream",
     "text": [
      "[[ 90  85  88  92]\n",
      " [ 80  70  87  60]\n",
      " [100  95  98  90]]\n",
      "\n",
      "[100  95  98  90]\n",
      "\n",
      "95\n"
     ]
    }
   ],
   "source": [
    "import pandas as pd\n",
    "\n",
    "df = pd.DataFrame([[90,85,88,92], [80,70,87,60], [100,95,98,90]], \n",
    "    columns=['Math', 'Chinese', 'Physics', 'Programming'], \n",
    "    index=['John', 'Tom', 'Richard'])\n",
    "\n",
    "df1 = df.values\n",
    "df2 = df.values[2]\n",
    "df3 = df.values[2][1]\n",
    "print(df1, df2, df3, sep='\\n\\n')"
   ]
  },
  {
   "cell_type": "markdown",
   "metadata": {},
   "source": [
    "### 以loc來取得資料\n",
    "* 會包含區間之頭尾元素\n",
    "* df.loc[列標題, 行標題]  #取得某欄資料\n",
    "* df.loc[列標題 : 列標題, 行標題區段]  #取得某些連續列和某些連續行的資料\n",
    "* df.loc[[列標題1, 列標題2...], [行標題1, 行標題2...]]  #取得部分列或部分欄的資料(不連續時使用)\n",
    "* 若是列和行沒有取名，會以0, 1, 2...代替，此時使用 data.loc[5, 3:6] \n",
    "* 但是data.loc[5, 3:6]和data.iloc[5, 3:6]內容是不同的，因為前者有包含第6行，後者沒有\n"
   ]
  },
  {
   "cell_type": "code",
   "execution_count": 68,
   "metadata": {},
   "outputs": [
    {
     "name": "stdout",
     "output_type": "stream",
     "text": [
      "         Math  Chinese  Physics  Programming\n",
      "John       90       85       88           92\n",
      "Tom        80       70       87           60\n",
      "Richard   100       95       98           90\n",
      "\n",
      "90\n",
      "\n",
      "Math       90\n",
      "Chinese    85\n",
      "Physics    88\n",
      "Name: John, dtype: int64\n",
      "\n",
      "John    90\n",
      "Tom     80\n",
      "Name: Math, dtype: int64\n",
      "\n",
      "      Math  Chinese  Physics\n",
      "John    90       85       88\n",
      "Tom     80       70       87\n",
      "\n",
      "         Math  Physics\n",
      "John       90       88\n",
      "Richard   100       98\n"
     ]
    }
   ],
   "source": [
    "import pandas as pd\n",
    "\n",
    "df = pd.DataFrame([[90,85,88,92], [80,70,87,60], [100,95,98,90]], \n",
    "    columns=['Math', 'Chinese', 'Physics', 'Programming'], \n",
    "    index=['John', 'Tom', 'Richard'])\n",
    "\n",
    "print(df)\n",
    "print()\n",
    "\n",
    "a = df.loc['John', 'Math']\n",
    "b = df.loc['John', 'Math': 'Physics']\n",
    "c = df.loc['John': 'Tom', 'Math']\n",
    "d = df.loc['John': 'Tom', 'Math': 'Physics']\n",
    "e = df.loc[['John', 'Richard'], ['Math', 'Physics']]\n",
    "print(a, b, c, d, e, sep='\\n\\n')"
   ]
  },
  {
   "cell_type": "markdown",
   "metadata": {},
   "source": [
    "### 以iloc來取得資料\n",
    "*   DataFrame名稱.iloc[列索引, 行索引]  #取得某欄資料，索引為從 0開始\n",
    "*   其他方法和loc相同，可以有連續或不連續的區段\n",
    "*    data.iloc[3, 2:5]     # 注意:這是不包含索引 5這一行\n",
    "* 註： python要列出串列的前n個元素使用 串列名稱[n]"
   ]
  },
  {
   "cell_type": "code",
   "execution_count": 71,
   "metadata": {
    "jupyter": {
     "outputs_hidden": true
    }
   },
   "outputs": [
    {
     "name": "stdout",
     "output_type": "stream",
     "text": [
      "         Math  Chinese  Physics  Programming\n",
      "John       90       85       88           92\n",
      "Tom        80       70       87           60\n",
      "Richard   100       95       98           90\n",
      "\n",
      "95\n",
      "\n",
      "70\n",
      "\n",
      "         Math  Physics\n",
      "Richard   100       98\n",
      "Tom        80       87\n",
      "John       90       88\n"
     ]
    }
   ],
   "source": [
    "# 以values取得列或某一欄的資料\n",
    "# 以loc來取得資料，使用列和欄的名稱\n",
    "# 以iloc來取得資料，使用列和欄的編號\n",
    "\n",
    "import pandas as pd\n",
    "df = pd.DataFrame([[90,85,88,92], [80,70,87,60], [100,95,98,90]], \n",
    "    columns=['Math', 'Chinese', 'Physics', 'Programming'], \n",
    "    index=['John', 'Tom', 'Richard'])\n",
    "\n",
    "df1 = df.iloc[2][1] \n",
    "df2 = df.loc['Tom', 'Chinese']\n",
    "df3 = df.iloc[::-1, 0:4:2]\n",
    "\n",
    "print(df, df1, df2, df3, sep='\\n\\n')"
   ]
  },
  {
   "cell_type": "markdown",
   "metadata": {},
   "source": [
    "### 取得部分資料\n",
    "* DataFrame名稱[列開始索引:列結束索引:step]"
   ]
  },
  {
   "cell_type": "code",
   "execution_count": 59,
   "metadata": {},
   "outputs": [
    {
     "name": "stdout",
     "output_type": "stream",
     "text": [
      "     國文  數學   英文  理化  社會\n",
      "林晶輝  65  92   78  83  70\n",
      "陳聰明  90  72   76  93  56\n",
      "黃美麗  81  85  abc  89  77\n",
      "熊小娟  79  53   47  94  80\n",
      "\n",
      "林晶輝    92\n",
      "陳聰明    72\n",
      "黃美麗    85\n",
      "熊小娟    53\n",
      "Name: 數學, dtype: int64\n",
      "\n"
     ]
    }
   ],
   "source": [
    "import pandas as pd\n",
    "datas = [[65,92,78,83,70], [90,72,76,93,56], [81,85,'abc',89,77], [79,53,47,94,80]]\n",
    "indexs = [\"林大明\", \"陳聰明\", \"黃美麗\", \"熊小娟\"]\n",
    "columns = [\"國文\", \"數學\", \"英文\", \"自然\", \"社會\"]\n",
    "df = pd.DataFrame(datas, columns=columns,  index=indexs)\n",
    "indexs[0] = \"林晶輝\"\n",
    "df.index = indexs\n",
    "columns[3] = \"理化\"\n",
    "df.columns = columns\n",
    "print(df)\n",
    "print()\n",
    "print(df[\"數學\"])\n",
    "print()"
   ]
  },
  {
   "cell_type": "markdown",
   "metadata": {},
   "source": [
    "# 4. 檔案輸出與匯入"
   ]
  },
  {
   "cell_type": "markdown",
   "metadata": {},
   "source": [
    "## pandas 常用匯入資料的方法：\n",
    "* read_csv\n",
    "* read_excel\n",
    "* read_sql\n",
    "* read_json\n",
    "* read_html  #需要安裝 html5lib 匯入HTML檔案，Pandas會抽出<table>表格標籤的資料\n"
   ]
  },
  {
   "cell_type": "code",
   "execution_count": 86,
   "metadata": {
    "jupyter": {
     "outputs_hidden": true
    }
   },
   "outputs": [
    {
     "name": "stdout",
     "output_type": "stream",
     "text": [
      "   name  population city\n",
      "0   中正區      159598  台北市\n",
      "1   板橋區      551452  新北市\n",
      "2   桃園區      441287  桃園市\n",
      "3   北屯區      275207  台中市\n",
      "4   安南區      192327  台南市\n",
      "5   三民區      343203  高雄市\n",
      "6   大安區      309835  台北市\n",
      "7   永和區      222531  新北市\n",
      "8   八德區      198473  桃園市\n",
      "9   前鎮區      189623  高雄市\n",
      "10  鳳山區      359125  高雄市\n",
      "11  信義區      225561  台北市\n",
      "12  新店區      302070  新北市\n",
      "   name  population city\n",
      "0   中正區      159598  台北市\n",
      "1   板橋區      551452  新北市\n",
      "2   桃園區      441287  桃園市\n",
      "3   北屯區      275207  台中市\n",
      "4   安南區      192327  台南市\n",
      "5   三民區      343203  高雄市\n",
      "6   大安區      309835  台北市\n",
      "7   永和區      222531  新北市\n",
      "8   八德區      198473  桃園市\n",
      "9   前鎮區      189623  高雄市\n",
      "10  鳳山區      359125  高雄市\n",
      "11  信義區      225561  台北市\n",
      "12  新店區      302070  新北市\n"
     ]
    }
   ],
   "source": [
    "import pandas as pd\n",
    "\n",
    "\n",
    "# 匯入CSV格式的檔案\n",
    "df = pd.read_csv(\"dists.csv\", encoding=\"utf8\", header=0)\n",
    "print(df)\n",
    "\n",
    "# 匯入JSON格式的檔案\n",
    "df2 = pd.read_json(\"dists.json\")\n",
    "print(df2)"
   ]
  },
  {
   "cell_type": "markdown",
   "metadata": {},
   "source": [
    "## 匯出DataFrame物件至檔案\n",
    "\n",
    "* 匯出成CSV格式的檔案：   pd.to_csv(filename)\n",
    "* 匯出成JSON格式的檔案：   pd.to_json(filename)\n",
    "* 匯出成HTML表格標籤的檔案： pd.to_html(filename)\n",
    "* 匯出成Excel檔案： pd.to_excel(filename)\n",
    "\n"
   ]
  },
  {
   "cell_type": "code",
   "execution_count": 78,
   "metadata": {},
   "outputs": [],
   "source": [
    "import pandas as pd\n",
    "\n",
    "dists = {\"name\": [\"中正區\", \"板橋區\", \"桃園區\", \"北屯區\", \n",
    "                   \"安南區\", \"三民區\", \"大安區\", \"永和區\", \n",
    "                   \"八德區\", \"前鎮區\", \"鳳山區\", \n",
    "                   \"信義區\", \"新店區\"],\n",
    "         \"population\": [159598, 551452, 441287, 275207,\n",
    "                        192327, 343203, 309835, 222531,\n",
    "                        198473, 189623, 359125, \n",
    "                        225561, 302070],\n",
    "         \"city\": [\"台北市\", \"新北市\", \"桃園市\", \"台中市\",\n",
    "                  \"台南市\", \"高雄市\", \"台北市\", \"新北市\",\n",
    "                  \"桃園市\", \"高雄市\", \"高雄市\",\n",
    "                  \"台北市\", \"新北市\"]}\n",
    "df = pd.DataFrame(dists) \n",
    "\n",
    "df.to_csv(\"dists.csv\", index=False, encoding=\"utf8\")\n",
    "df.to_json(\"dists.json\")\n",
    "df.to_html(\"dists.html\")"
   ]
  },
  {
   "cell_type": "code",
   "execution_count": null,
   "metadata": {},
   "outputs": [],
   "source": [
    "# dists.csv\n",
    "\n",
    "city,name,population\n",
    "台北市,中正區,159598\n",
    "新北市,板橋區,551452\n",
    "桃園市,桃園區,441287\n",
    "台中市,北屯區,275207\n",
    "台南市,安南區,192327\n",
    "高雄市,三民區,343203\n",
    "台北市,大安區,309835\n",
    "新北市,永和區,222531\n",
    "桃園市,八德區,198473\n",
    "高雄市,前鎮區,189623\n",
    "高雄市,鳳山區,359125\n",
    "台北市,信義區,225561\n",
    "新北市,新店區,302070"
   ]
  },
  {
   "cell_type": "code",
   "execution_count": null,
   "metadata": {},
   "outputs": [],
   "source": [
    "# dists.json\n",
    "\n",
    "{\"city\":{\"0\":\"\\u53f0\\u5317\\u5e02\",\"1\":\"\\u65b0\\u5317\\u5e02\",\"2\":\"\\u6843\\u5712\\u5e02\",\"3\":\"\\u53f0\\u4e2d\\u5e02\",\"4\":\"\\u53f0\\u5357\\u5e02\",\"5\":\"\\u9ad8\\u96c4\\u5e02\",\"6\":\"\\u53f0\\u5317\\u5e02\",\"7\":\"\\u65b0\\u5317\\u5e02\",\"8\":\"\\u6843\\u5712\\u5e02\",\"9\":\"\\u9ad8\\u96c4\\u5e02\",\"10\":\"\\u9ad8\\u96c4\\u5e02\",\"11\":\"\\u53f0\\u5317\\u5e02\",\"12\":\"\\u65b0\\u5317\\u5e02\"},\"name\":{\"0\":\"\\u4e2d\\u6b63\\u5340\",\"1\":\"\\u677f\\u6a4b\\u5340\",\"2\":\"\\u6843\\u5712\\u5340\",\"3\":\"\\u5317\\u5c6f\\u5340\",\"4\":\"\\u5b89\\u5357\\u5340\",\"5\":\"\\u4e09\\u6c11\\u5340\",\"6\":\"\\u5927\\u5b89\\u5340\",\"7\":\"\\u6c38\\u548c\\u5340\",\"8\":\"\\u516b\\u5fb7\\u5340\",\"9\":\"\\u524d\\u93ae\\u5340\",\"10\":\"\\u9cf3\\u5c71\\u5340\",\"11\":\"\\u4fe1\\u7fa9\\u5340\",\"12\":\"\\u65b0\\u5e97\\u5340\"},\"population\":{\"0\":159598,\"1\":551452,\"2\":441287,\"3\":275207,\"4\":192327,\"5\":343203,\"6\":309835,\"7\":222531,\"8\":198473,\"9\":189623,\"10\":359125,\"11\":225561,\"12\":302070}}"
   ]
  },
  {
   "cell_type": "code",
   "execution_count": null,
   "metadata": {},
   "outputs": [],
   "source": [
    "# dists.html\n",
    "\n",
    "<table border=\"1\" class=\"dataframe\">\n",
    "  <thead>\n",
    "    <tr style=\"text-align: right;\">\n",
    "      <th></th>\n",
    "      <th>city</th>\n",
    "      <th>name</th>\n",
    "      <th>population</th>\n",
    "    </tr>\n",
    "  </thead>\n",
    "  <tbody>\n",
    "    <tr>\n",
    "      <th>0</th>\n",
    "      <td>台北市</td>\n",
    "      <td>中正區</td>\n",
    "      <td>159598</td>\n",
    "    </tr>\n",
    "    <tr>\n",
    "      <th>1</th>\n",
    "      <td>新北市</td>\n",
    "      <td>板橋區</td>\n",
    "      <td>551452</td>\n",
    "    </tr>\n",
    "    <tr>\n",
    "      <th>2</th>\n",
    "      <td>桃園市</td>\n",
    "      <td>桃園區</td>\n",
    "      <td>441287</td>\n",
    "    </tr>\n",
    "    <tr>\n",
    "      <th>3</th>\n",
    "      <td>台中市</td>\n",
    "      <td>北屯區</td>\n",
    "      <td>275207</td>\n",
    "    </tr>\n",
    "    <tr>\n",
    "      <th>4</th>\n",
    "      <td>台南市</td>\n",
    "      <td>安南區</td>\n",
    "      <td>192327</td>\n",
    "    </tr>\n",
    "    <tr>\n",
    "      <th>5</th>\n",
    "      <td>高雄市</td>\n",
    "      <td>三民區</td>\n",
    "      <td>343203</td>\n",
    "    </tr>\n",
    "    <tr>\n",
    "      <th>6</th>\n",
    "      <td>台北市</td>\n",
    "      <td>大安區</td>\n",
    "      <td>309835</td>\n",
    "    </tr>\n",
    "    <tr>\n",
    "      <th>7</th>\n",
    "      <td>新北市</td>\n",
    "      <td>永和區</td>\n",
    "      <td>222531</td>\n",
    "    </tr>\n",
    "    <tr>\n",
    "      <th>8</th>\n",
    "      <td>桃園市</td>\n",
    "      <td>八德區</td>\n",
    "      <td>198473</td>\n",
    "    </tr>\n",
    "    <tr>\n",
    "      <th>9</th>\n",
    "      <td>高雄市</td>\n",
    "      <td>前鎮區</td>\n",
    "      <td>189623</td>\n",
    "    </tr>\n",
    "    <tr>\n",
    "      <th>10</th>\n",
    "      <td>高雄市</td>\n",
    "      <td>鳳山區</td>\n",
    "      <td>359125</td>\n",
    "    </tr>\n",
    "    <tr>\n",
    "      <th>11</th>\n",
    "      <td>台北市</td>\n",
    "      <td>信義區</td>\n",
    "      <td>225561</td>\n",
    "    </tr>\n",
    "    <tr>\n",
    "      <th>12</th>\n",
    "      <td>新北市</td>\n",
    "      <td>新店區</td>\n",
    "      <td>302070</td>\n",
    "    </tr>\n",
    "  </tbody>\n",
    "</table>"
   ]
  },
  {
   "cell_type": "code",
   "execution_count": 82,
   "metadata": {},
   "outputs": [
    {
     "name": "stdout",
     "output_type": "stream",
     "text": [
      "第 1 個表格：\n",
      "                                                   0\n",
      "0  google_ad_client = \"ca-pub-9803646600609510\"; ...\n",
      "\n",
      "第 2 個表格：\n",
      "                                                   0\n",
      "0  google_ad_client = \"ca-pub-9803646600609510\"; ...\n",
      "1  首頁 市場動態 歷史股價 基金淨值 基金分類 經濟數據總覽 2022行事曆  期貨報告  加...\n",
      "\n",
      "第 3 個表格：\n",
      "    0                                                  1\n",
      "0 NaN  google_ad_client = \"ca-pub-9803646600609510\"; ...\n",
      "\n",
      "第 4 個表格：\n",
      "                                                   0     1\n",
      "0  首頁 市場動態 歷史股價 基金淨值 基金分類 經濟數據總覽 2022行事曆  期貨報告  加...  简体中文\n",
      "\n",
      "第 5 個表格：\n",
      "                                                   0  \\\n",
      "0  市場動態 全球股市排行榜 相對低檔股市指數 相對高檔股市指數 各國股市 亞洲股市指數 歐洲股...   \n",
      "\n",
      "                                                   1  \n",
      "0  原物料商品行情 2021/11/13 16:49:04  商品價格 (Commodity) ...  \n",
      "\n",
      "第 6 個表格：\n",
      "                                                   0\n",
      "0  市場動態 全球股市排行榜 相對低檔股市指數 相對高檔股市指數 各國股市 亞洲股市指數 歐洲股...\n",
      "\n",
      "第 7 個表格：\n",
      "                             0   1\n",
      "0  原物料商品行情 2021/11/13 16:49:04 NaN\n",
      "\n",
      "第 8 個表格：\n",
      "                  0                 1                 2                 3  \\\n",
      "0  商品價格 (Commodity)  商品價格 (Commodity)  商品價格 (Commodity)  商品價格 (Commodity)   \n",
      "1                商品                買價                漲跌                比例   \n",
      "2                黃金           1866.20              3.30             0.18%   \n",
      "3                 銀             25.42              0.06             0.26%   \n",
      "4                白金           1091.00             -3.00            -0.28%   \n",
      "\n",
      "                  4  \n",
      "0  商品價格 (Commodity)  \n",
      "1                台北  \n",
      "2             11/12  \n",
      "3             11/12  \n",
      "4             11/12  \n",
      "\n",
      "第 9 個表格：\n",
      "                                                   0\n",
      "0  (adsbygoogle = window.adsbygoogle || []).push(...\n",
      "\n",
      "第 10 個表格：\n",
      "                                                   0\n",
      "0  行動網站  | 借錢救急 | Outlet  | 網站地圖  | 聯絡我們 ﻿貝萊德基金 -...\n",
      "1  全球股市指數 / 国际股市指数 / World Indices / Мировые инде...\n",
      "\n"
     ]
    }
   ],
   "source": [
    "import pandas as pd\n",
    "\n",
    "tables = pd.read_html(\"http://www.stockq.org/market/commodity.php\")\n",
    "n = 1\n",
    "for table in tables:\n",
    "    print(\"第 \" + str(n) + \" 個表格：\")\n",
    "    print(table.head())\n",
    "    print()\n",
    "    n += 1"
   ]
  },
  {
   "cell_type": "code",
   "execution_count": 83,
   "metadata": {},
   "outputs": [
    {
     "name": "stdout",
     "output_type": "stream",
     "text": [
      "         商品        買價       漲跌      比例     台北\n",
      "0        黃金   1866.20     3.30   0.18%  11/12\n",
      "1         銀     25.42     0.06   0.26%  11/12\n",
      "2        白金   1091.00    -3.00  -0.28%  11/12\n",
      "3         鈀   2203.00    51.00   2.55%  11/12\n",
      "4         銠  15100.00   100.00   0.77%  11/12\n",
      "5         銅    4.5262   0.0384   0.86%  03:46\n",
      "6         鎳    9.0696   0.0023   0.03%  03:46\n",
      "7         鋁    1.2155  -0.0090  -0.74%  03:14\n",
      "8         鋅    1.4943   0.0000   0.00%  03:50\n",
      "9         鉛    1.0841   0.0000   0.00%  03:09\n",
      "10     黃金期貨   1867.85     3.95   0.21%  05:44\n",
      "11      銀期貨    25.413    0.112   0.44%  05:44\n",
      "12      銅期貨    4.4525   0.0530   1.20%  05:44\n",
      "13    紐約輕原油     80.72    -0.87  -1.07%  05:43\n",
      "14    布蘭特油期     81.99    -0.88  -1.06%  05:43\n",
      "15     天然氣期     4.780   -0.369  -7.17%  05:45\n",
      "16     燃油期貨    2.4001  -0.0470  -1.92%  05:43\n",
      "17     無鉛汽油    2.3085  -0.0093  -0.40%  05:45\n",
      "18     玉米期貨    577.38     8.38   1.47%  11/12\n",
      "19     小麥期貨    816.90     4.90   0.60%  11/12\n",
      "20     黃豆期貨   1243.38    21.38   1.75%  11/12\n",
      "21    黃豆油期貨     58.88    -0.26  -0.44%  11/12\n",
      "22     活牛期貨    131.77    -0.10  -0.08%  11/12\n",
      "23     瘦豬期貨     75.72     0.35   0.46%  11/12\n",
      "24     可可豆期   2464.00   -21.00  -0.85%  02:13\n",
      "25     咖啡C期    219.70     8.80   4.17%  02:15\n",
      "26     十一號糖     20.02    -0.10  -0.50%  01:43\n",
      "27     二號棉期    117.60    -0.94  -0.79%  03:04\n",
      "28  XAU/USD   1864.98     2.97   0.16%  05:44\n",
      "29  XAG/USD    25.349    0.095   0.38%  05:44\n",
      "30    倫敦銅期貨   9748.50   115.00   1.19%  02:44\n",
      "31    倫敦鋁期貨   2698.75    38.75   1.46%  02:44\n",
      "32    倫敦鎳期貨  19940.00   181.00   0.92%  02:44\n",
      "33    倫敦重柴油    696.13   -11.25  -1.59%  04:50\n",
      "34    碳排放期貨     63.35    -0.35  -0.55%  00:44\n",
      "35    倫敦咖啡豆   2304.50   -42.50  -1.81%  01:34\n"
     ]
    }
   ],
   "source": [
    "import pandas as pd\n",
    "\n",
    "tables = pd.read_html(\"http://www.stockq.org/market/commodity.php\")\n",
    "table = tables[7]\n",
    "table = table.drop(table.index[[0,1]])\n",
    "table.columns = [\"商品\", \"買價\", \"漲跌\", \"比例\", \"台北\"]\n",
    "table.index = range(len(table.index))\n",
    "print(table)"
   ]
  },
  {
   "cell_type": "markdown",
   "metadata": {},
   "source": [
    "# 5. 走訪 DataFrame 物件\n",
    "\n",
    "因為DataFrame物件是類似表格的試算表物件，如同關聯式資料庫的資料表，每一列相當是一筆記錄，  \n",
    "我們可以使用for/in迴圈走訪DataFrame物件的每一筆記錄"
   ]
  },
  {
   "cell_type": "code",
   "execution_count": 87,
   "metadata": {
    "jupyter": {
     "outputs_hidden": true
    }
   },
   "outputs": [
    {
     "name": "stdout",
     "output_type": "stream",
     "text": [
      "0 台北市 中正區 159598\n",
      "1 新北市 板橋區 551452\n",
      "2 桃園市 桃園區 441287\n",
      "3 台中市 北屯區 275207\n",
      "4 台南市 安南區 192327\n",
      "5 高雄市 三民區 343203\n",
      "6 台北市 大安區 309835\n",
      "7 新北市 永和區 222531\n",
      "8 桃園市 八德區 198473\n",
      "9 高雄市 前鎮區 189623\n",
      "10 高雄市 鳳山區 359125\n",
      "11 台北市 信義區 225561\n",
      "12 新北市 新店區 302070\n"
     ]
    }
   ],
   "source": [
    "import pandas as pd\n",
    "\n",
    "df = pd.read_csv(\"dists.csv\", encoding=\"utf8\")\n",
    "\n",
    "for index, row in df.iterrows() :\n",
    "    print(index, row[\"city\"], row[\"name\"], row[\"population\"])"
   ]
  },
  {
   "cell_type": "markdown",
   "metadata": {},
   "source": [
    "# 6. 選擇、過濾與排序資料"
   ]
  },
  {
   "cell_type": "markdown",
   "metadata": {},
   "source": [
    "## 6.1 選擇資料"
   ]
  },
  {
   "cell_type": "code",
   "execution_count": 88,
   "metadata": {},
   "outputs": [
    {
     "name": "stdout",
     "output_type": "stream",
     "text": [
      "       name  population city\n",
      "first   中正區      159598  台北市\n",
      "second  板橋區      551452  新北市\n",
      "third   桃園區      441287  桃園市\n",
      "\n",
      "first     159598\n",
      "second    551452\n",
      "third     441287\n",
      "Name: population, dtype: int64\n",
      "\n",
      "       city name\n",
      "first   台北市  中正區\n",
      "second  新北市  板橋區\n",
      "third   桃園市  桃園區\n",
      "first     159598\n",
      "second    551452\n",
      "third     441287\n",
      "Name: population, dtype: int64\n"
     ]
    }
   ],
   "source": [
    "# 選擇資料  選擇單一欄位或多個欄位\n",
    "\n",
    "import pandas as pd\n",
    "\n",
    "df = pd.read_csv(\"dists.csv\", encoding=\"utf8\")\n",
    "ordinals =[\"first\", \"second\", \"third\", \"fourth\", \"fifth\",\n",
    "           \"sixth\", \"seventh\", \"eigth\", \"ninth\", \"tenth\",\n",
    "           \"eleventh\", \"twelvth\", \"thirteenth\"]  \n",
    "df.index = ordinals\n",
    "\n",
    "print(df.head(3))\n",
    "print()\n",
    "print(df[\"population\"].head(3))\n",
    "print()\n",
    "print(df[[\"city\",\"name\"]].head(3))  # 多欄位\n",
    "\n",
    "print(df.population.head(3))   # 使用屬性方式"
   ]
  },
  {
   "cell_type": "code",
   "execution_count": 89,
   "metadata": {
    "jupyter": {
     "outputs_hidden": true
    }
   },
   "outputs": [
    {
     "name": "stdout",
     "output_type": "stream",
     "text": [
      "       name  population city\n",
      "first   中正區      159598  台北市\n",
      "second  板橋區      551452  新北市\n",
      "third   桃園區      441287  桃園市\n",
      "         name  population city\n",
      "sixth     三民區      343203  高雄市\n",
      "seventh   大安區      309835  台北市\n",
      "eigth     永和區      222531  新北市\n",
      "ninth     八德區      198473  桃園市\n",
      "tenth     前鎮區      189623  高雄市\n",
      "eleventh  鳳山區      359125  高雄市\n"
     ]
    }
   ],
   "source": [
    "# 選擇資料 –選擇特定範圍的多筆記錄\n",
    "\n",
    "import pandas as pd\n",
    "\n",
    "df = pd.read_csv(\"dists.csv\", encoding=\"utf8\")\n",
    "ordinals =[\"first\", \"second\", \"third\", \"fourth\", \"fifth\",\n",
    "           \"sixth\", \"seventh\", \"eigth\", \"ninth\", \"tenth\",\n",
    "           \"eleventh\", \"twelvth\", \"thirteenth\"]  \n",
    "df.index = ordinals\n",
    "\n",
    "print(df[0:3])                # 不含 3\n",
    "print(df[\"sixth\":\"eleventh\"]) # 含 \"eleventh\""
   ]
  },
  {
   "cell_type": "code",
   "execution_count": null,
   "metadata": {},
   "outputs": [],
   "source": [
    "# 使用loc索引器以標籤索引來選擇指定記錄，還可以選擇所需的欄位\n",
    "\n",
    "import pandas as pd\n",
    "\n",
    "df = pd.read_csv(\"dists.csv\", encoding=\"utf8\")\n",
    "ordinals =[\"first\", \"second\", \"third\", \"fourth\", \"fifth\",\n",
    "           \"sixth\", \"seventh\", \"eigth\", \"ninth\", \"tenth\",\n",
    "           \"eleventh\", \"twelvth\", \"thirteenth\"]  \n",
    "df.index = ordinals\n",
    "\n",
    "print(df.loc[ordinals[1]])\n",
    "print(type(df.loc[ordinals[1]]))\n",
    "print(df.loc[:,[\"name\",\"population\"]].head(3))\n",
    "\n",
    "\n",
    "print(df.loc[\"third\":\"fifth\", [\"name\",\"population\"]])\n",
    "print(df.loc[\"third\", [\"name\",\"population\"]])\n",
    "\n",
    "# 取得單一純量值\n",
    "print(df.loc[ordinals[0], \"name\"])\n",
    "print(type(df.loc[ordinals[0],\"name\"]))\n",
    "print(df.loc[\"first\", \"population\"])\n",
    "print(type(df.loc[\"first\", \"population\"]))"
   ]
  },
  {
   "cell_type": "code",
   "execution_count": null,
   "metadata": {},
   "outputs": [],
   "source": [
    "# DataFrame物件的loc索引器是使用標籤索引來選擇資料，iloc索引器是使位置索引，也可以切割DataFrame物件的列或欄，即選擇指定範圍的列和欄\n",
    "\n",
    "import pandas as pd\n",
    "\n",
    "df = pd.read_csv(\"dists.csv\", encoding=\"utf8\")\n",
    "ordinals =[\"first\", \"second\", \"third\", \"fourth\", \"fifth\",\n",
    "           \"sixth\", \"seventh\", \"eigth\", \"ninth\", \"tenth\",\n",
    "           \"eleventh\", \"twelvth\", \"thirteenth\"]  \n",
    "df.index = ordinals\n",
    "\n",
    "print(df.iloc[3])          # 第 4 筆\n",
    "print()\n",
    "print(df.iloc[3:5, 1:3])   # 切割\n",
    "print()\n",
    "print(df.iloc[1:3, :])     # 切割列\n",
    "print()\n",
    "print(df.iloc[:, 1:3])     # 切割欄\n",
    "print()\n",
    "\n",
    "print(df.iloc[[1,2,4], [0,2]])   # 索引清單\n",
    "print()\n",
    "# 取得單一純量值\n",
    "print(df.iloc[1,1])\n",
    "print()\n",
    "print(df.iat[1,1])"
   ]
  },
  {
   "cell_type": "markdown",
   "metadata": {},
   "source": [
    "## 6.2 過濾資料\n",
    "過濾資料 – 使用布林索引和isin()函數 過濾資料：Ch9_3_2.py\n",
    "\n",
    "使用NumPy布林索引，讓我們只選擇條件成立的記錄資料，如下所示：\n",
    "* print(df[df.population > 350000])\n",
    "* print(df[df[\"city\"].isin([\"台北市\",\"高雄市\"])])"
   ]
  },
  {
   "cell_type": "code",
   "execution_count": 90,
   "metadata": {},
   "outputs": [
    {
     "name": "stdout",
     "output_type": "stream",
     "text": [
      "         name  population city\n",
      "second    板橋區      551452  新北市\n",
      "third     桃園區      441287  桃園市\n",
      "eleventh  鳳山區      359125  高雄市\n",
      "         name  population city\n",
      "first     中正區      159598  台北市\n",
      "sixth     三民區      343203  高雄市\n",
      "seventh   大安區      309835  台北市\n",
      "tenth     前鎮區      189623  高雄市\n",
      "eleventh  鳳山區      359125  高雄市\n",
      "twelvth   信義區      225561  台北市\n"
     ]
    }
   ],
   "source": [
    "import pandas as pd\n",
    "\n",
    "df = pd.read_csv(\"dists.csv\", encoding=\"utf8\")\n",
    "ordinals =[\"first\", \"second\", \"third\", \"fourth\", \"fifth\",\n",
    "           \"sixth\", \"seventh\", \"eigth\", \"ninth\", \"tenth\",\n",
    "           \"eleventh\", \"twelvth\", \"thirteenth\"]  \n",
    "df.index = ordinals\n",
    "\n",
    "print(df[df.population > 350000])\n",
    "\n",
    "print(df[df[\"city\"].isin([\"台北市\",\"高雄市\"])])\n"
   ]
  },
  {
   "cell_type": "code",
   "execution_count": 91,
   "metadata": {
    "jupyter": {
     "outputs_hidden": true
    }
   },
   "outputs": [
    {
     "name": "stdout",
     "output_type": "stream",
     "text": [
      "         name  population city\n",
      "third     桃園區      441287  桃園市\n",
      "eleventh  鳳山區      359125  高雄市\n",
      "        name  population city\n",
      "first    中正區      159598  台北市\n",
      "fourth   北屯區      275207  台中市\n",
      "fifth    安南區      192327  台南市\n",
      "seventh  大安區      309835  台北市\n",
      "twelvth  信義區      225561  台北市\n"
     ]
    }
   ],
   "source": [
    "# 布林索引可以使用多個條件\n",
    "\n",
    "import pandas as pd\n",
    "\n",
    "df = pd.read_csv(\"dists.csv\", encoding=\"utf8\")\n",
    "ordinals =[\"first\", \"second\", \"third\", \"fourth\", \"fifth\",\n",
    "           \"sixth\", \"seventh\", \"eigth\", \"ninth\", \"tenth\",\n",
    "           \"eleventh\", \"twelvth\", \"thirteenth\"]  \n",
    "df.index = ordinals\n",
    "\n",
    "print(df[(df.population > 350000) & (df.population < 500000)])\n",
    "\n",
    "print(df[df[\"city\"].str.startswith(\"台\")])\n"
   ]
  },
  {
   "cell_type": "markdown",
   "metadata": {},
   "source": [
    "## 6.3 排序資料"
   ]
  },
  {
   "cell_type": "markdown",
   "metadata": {},
   "source": [
    "- DataFrame.sort_index()\n",
    "    - 依據索引（欄位名稱或是列名稱）進行排序\n",
    "- DataFrame.sort_values(by='欄位名稱')\n",
    "    - 對數值進行排序"
   ]
  },
  {
   "cell_type": "code",
   "execution_count": 93,
   "metadata": {},
   "outputs": [
    {
     "name": "stdout",
     "output_type": "stream",
     "text": [
      "original a:\n",
      "     A   B   C   D\n",
      "a  64  89  55  27\n",
      "b  62  89  34  24\n",
      "c  76  35  63   5\n",
      "d  29   4  11  56\n",
      "f  40  29  18  93\n",
      "\n",
      "b = a.sort_index(ascending = False):\n",
      "列索引由大到小排序(axis預設為0)：\n",
      "     A   B   C   D\n",
      "f  40  29  18  93\n",
      "d  29   4  11  56\n",
      "c  76  35  63   5\n",
      "b  62  89  34  24\n",
      "a  64  89  55  27\n",
      "\n",
      "b = a.sort_index(axis=1, ascending = False):\n",
      "行索引由大到小排序(axis=1)：\n",
      "     D   C   B   A\n",
      "a  27  55  89  64\n",
      "b  24  34  89  62\n",
      "c   5  63  35  76\n",
      "d  56  11   4  29\n",
      "f  93  18  29  40\n",
      "\n",
      "a:（沒有改變）\n",
      "     A   B   C   D\n",
      "a  64  89  55  27\n",
      "b  62  89  34  24\n",
      "c  76  35  63   5\n",
      "d  29   4  11  56\n",
      "f  40  29  18  93\n"
     ]
    }
   ],
   "source": [
    "# DataFrame.sort_index()\n",
    "\n",
    "import pandas as pd\n",
    "import numpy as np\n",
    "\n",
    "a = pd.DataFrame(np.random.randint(1, 100, (5, 4)), index = list('abcdf'), columns = list('ABCD'))\n",
    "print('original a:\\n', a)\n",
    "\n",
    "b = a.sort_index(ascending = False)\n",
    "print('\\nb = a.sort_index(ascending = False):\\n列索引由大到小排序(axis預設為0)：\\n', b)\n",
    "\n",
    "b = a.sort_index(axis = 1, ascending = False)\n",
    "print('\\nb = a.sort_index(axis=1, ascending = False):\\n行索引由大到小排序(axis=1)：\\n', b)\n",
    "\n",
    "print('\\na:（沒有改變）\\n', a)"
   ]
  },
  {
   "cell_type": "code",
   "execution_count": 96,
   "metadata": {},
   "outputs": [
    {
     "name": "stdout",
     "output_type": "stream",
     "text": [
      "           name city\n",
      "population          \n",
      "159598      中正區  台北市\n",
      "551452      板橋區  新北市\n",
      "441287      桃園區  桃園市\n",
      "275207      北屯區  台中市\n",
      "192327      安南區  台南市\n",
      "           name city\n",
      "population          \n",
      "551452      板橋區  新北市\n",
      "441287      桃園區  桃園市\n",
      "359125      鳳山區  高雄市\n",
      "343203      三民區  高雄市\n",
      "309835      大安區  台北市\n"
     ]
    }
   ],
   "source": [
    "# DataFrame.sort_index()\n",
    "# 將DataFrame物件改用\"population\"欄位作為索引，然後指定從大到小排序\n",
    "# ascending=False  大到小排序\n",
    "# inplace=True  -> dataframe會被取代\n",
    "\n",
    "import pandas as pd\n",
    "\n",
    "df = pd.read_csv(\"dists.csv\", encoding=\"utf8\")\n",
    "ordinals =[\"first\", \"second\", \"third\", \"fourth\", \"fifth\",\n",
    "           \"sixth\", \"seventh\", \"eigth\", \"ninth\", \"tenth\",\n",
    "           \"eleventh\", \"twelvth\", \"thirteenth\"]  \n",
    "df.index = ordinals\n",
    "\n",
    "df2 = df.set_index(\"population\")  # 設定排序的參照欄位\n",
    "print(df2.head())\n",
    "\n",
    "\n",
    "df2.sort_index(ascending=False, inplace=True)  # 依據人口數由大到小排序 ，此變數的值會變更\n",
    "print(df2.head())\n"
   ]
  },
  {
   "cell_type": "code",
   "execution_count": null,
   "metadata": {},
   "outputs": [],
   "source": [
    "# DataFrame.sort_index()\n",
    "# inplace=False 不取代 ，資料不會被更改\n",
    "\n",
    "import pandas as pd\n",
    "\n",
    "df = pd.read_csv(\"dists.csv\", encoding=\"utf8\")\n",
    "ordinals =[\"first\", \"second\", \"third\", \"fourth\", \"fifth\",\n",
    "           \"sixth\", \"seventh\", \"eigth\", \"ninth\", \"tenth\",\n",
    "           \"eleventh\", \"twelvth\", \"thirteenth\"]  \n",
    "df.index = ordinals\n",
    "\n",
    "print()\n",
    "df2 = df.set_index(\"population\")\n",
    "print(df2.head())\n",
    "\n",
    "print()\n",
    "df3 = df2.sort_index(ascending=False, inplace=False)  # df2 的值不會改變\n",
    "print('df2:', df2.head(), sep ='\\n')\n",
    "print()\n",
    "print('df3:', df3.head(), sep ='\\n')"
   ]
  },
  {
   "cell_type": "code",
   "execution_count": 98,
   "metadata": {},
   "outputs": [
    {
     "name": "stdout",
     "output_type": "stream",
     "text": [
      "original a:\n",
      "     A   B   C   D\n",
      "a  87   3  56   4\n",
      "b  20  78   8  96\n",
      "c   9  87  53  93\n",
      "d  76  44  20  35\n",
      "f  26  12  65  19\n"
     ]
    },
    {
     "data": {
      "text/html": [
       "<div>\n",
       "<style scoped>\n",
       "    .dataframe tbody tr th:only-of-type {\n",
       "        vertical-align: middle;\n",
       "    }\n",
       "\n",
       "    .dataframe tbody tr th {\n",
       "        vertical-align: top;\n",
       "    }\n",
       "\n",
       "    .dataframe thead th {\n",
       "        text-align: right;\n",
       "    }\n",
       "</style>\n",
       "<table border=\"1\" class=\"dataframe\">\n",
       "  <thead>\n",
       "    <tr style=\"text-align: right;\">\n",
       "      <th></th>\n",
       "      <th>A</th>\n",
       "      <th>B</th>\n",
       "      <th>C</th>\n",
       "      <th>D</th>\n",
       "    </tr>\n",
       "  </thead>\n",
       "  <tbody>\n",
       "    <tr>\n",
       "      <th>a</th>\n",
       "      <td>87</td>\n",
       "      <td>3</td>\n",
       "      <td>56</td>\n",
       "      <td>4</td>\n",
       "    </tr>\n",
       "    <tr>\n",
       "      <th>f</th>\n",
       "      <td>26</td>\n",
       "      <td>12</td>\n",
       "      <td>65</td>\n",
       "      <td>19</td>\n",
       "    </tr>\n",
       "    <tr>\n",
       "      <th>d</th>\n",
       "      <td>76</td>\n",
       "      <td>44</td>\n",
       "      <td>20</td>\n",
       "      <td>35</td>\n",
       "    </tr>\n",
       "    <tr>\n",
       "      <th>b</th>\n",
       "      <td>20</td>\n",
       "      <td>78</td>\n",
       "      <td>8</td>\n",
       "      <td>96</td>\n",
       "    </tr>\n",
       "    <tr>\n",
       "      <th>c</th>\n",
       "      <td>9</td>\n",
       "      <td>87</td>\n",
       "      <td>53</td>\n",
       "      <td>93</td>\n",
       "    </tr>\n",
       "  </tbody>\n",
       "</table>\n",
       "</div>"
      ],
      "text/plain": [
       "    A   B   C   D\n",
       "a  87   3  56   4\n",
       "f  26  12  65  19\n",
       "d  76  44  20  35\n",
       "b  20  78   8  96\n",
       "c   9  87  53  93"
      ]
     },
     "execution_count": 98,
     "metadata": {},
     "output_type": "execute_result"
    }
   ],
   "source": [
    "# DataFrame.sort_values()\n",
    "\n",
    "import pandas as pd\n",
    "import numpy as np\n",
    "\n",
    "a = pd.DataFrame(np.random.randint(1, 100, (5, 4)), index = list('abcdf'), columns = list('ABCD'))\n",
    "print('original a:\\n', a)\n",
    "\n",
    "a.sort_values(by='B')"
   ]
  },
  {
   "cell_type": "code",
   "execution_count": 99,
   "metadata": {},
   "outputs": [
    {
     "name": "stdout",
     "output_type": "stream",
     "text": [
      "original a:\n",
      "     A   B   C   D\n",
      "a  92  35  35  80\n",
      "b  46  73  86  84\n",
      "c  28  59  48  56\n",
      "d  37  53  59  13\n",
      "f  86  91  27  69\n",
      "    A   B   C   D\n",
      "f  86  91  27  69\n",
      "b  46  73  86  84\n",
      "c  28  59  48  56\n",
      "d  37  53  59  13\n",
      "a  92  35  35  80\n",
      "\n",
      "last a:(沒有更改原先的值）\n",
      "     A   B   C   D\n",
      "a  92  35  35  80\n",
      "b  46  73  86  84\n",
      "c  28  59  48  56\n",
      "d  37  53  59  13\n",
      "f  86  91  27  69\n"
     ]
    }
   ],
   "source": [
    "# DataFrame.sort_values()\n",
    "\n",
    "import pandas as pd\n",
    "import numpy as np\n",
    "\n",
    "a = pd.DataFrame(np.random.randint(1, 100, (5, 4)), index = list('abcdf'), columns = list('ABCD'))\n",
    "print('original a:\\n', a)\n",
    "\n",
    "print(a.sort_values(by='B', kind = 'heapsort', ascending=False))\n",
    "print('\\nlast a:(沒有更改原先的值）\\n', a)"
   ]
  },
  {
   "cell_type": "code",
   "execution_count": null,
   "metadata": {},
   "outputs": [],
   "source": [
    "a.sort_values?"
   ]
  },
  {
   "cell_type": "markdown",
   "metadata": {},
   "source": [
    "# 7. 更新、合併與刪除 DataFrame物件"
   ]
  },
  {
   "cell_type": "markdown",
   "metadata": {},
   "source": [
    "## 7.1 更新資料"
   ]
  },
  {
   "cell_type": "code",
   "execution_count": 100,
   "metadata": {},
   "outputs": [
    {
     "name": "stdout",
     "output_type": "stream",
     "text": [
      "       name  population city\n",
      "first   中正區      159598  台北市\n",
      "second  板橋區      551452  新北市\n",
      "159598\n",
      "新北市\n",
      "       name  population    city\n",
      "first   中正區      160000     台北市\n",
      "second  板橋區      551452  560000\n"
     ]
    }
   ],
   "source": [
    "# 使用標籤和位置來選擇資料，就可以更新選擇的資料\n",
    "\n",
    "import pandas as pd\n",
    "\n",
    "df = pd.read_csv(\"dists.csv\", encoding=\"utf8\")\n",
    "ordinals =[\"first\", \"second\", \"third\", \"fourth\", \"fifth\",\n",
    "           \"sixth\", \"seventh\", \"eigth\", \"ninth\", \"tenth\",\n",
    "           \"eleventh\", \"twelvth\", \"thirteenth\"]  \n",
    "df.index = ordinals\n",
    "\n",
    "print(df.head(2))\n",
    "# 取得與更新單一純量值\n",
    "print(df.loc[ordinals[0], \"population\"])\n",
    "df.loc[ordinals[0], \"population\"] = 160000\n",
    "print(df.iloc[1,2])\n",
    "df.iloc[1,2] = 560000\n",
    "print(df.head(2))"
   ]
  },
  {
   "cell_type": "code",
   "execution_count": 101,
   "metadata": {},
   "outputs": [
    {
     "name": "stdout",
     "output_type": "stream",
     "text": [
      "       name  population city\n",
      "first   中正區      159598  台北市\n",
      "second  板橋區      551452  新北市\n",
      "third   桃園區      441287  桃園市\n",
      "name             板橋區\n",
      "population    551452\n",
      "city             新北市\n",
      "Name: second, dtype: object\n",
      "       name population    city\n",
      "first   中正區     159598     台北市\n",
      "second  新北市        新莊區  416640\n",
      "third   桃園區     441287     桃園市\n"
     ]
    }
   ],
   "source": [
    "# 選擇欲取代的記錄來取代\n",
    "\n",
    "import pandas as pd\n",
    "df = pd.read_csv(\"dists.csv\", encoding=\"utf8\")\n",
    "ordinals =[\"first\", \"second\", \"third\", \"fourth\", \"fifth\",\n",
    "           \"sixth\", \"seventh\", \"eigth\", \"ninth\", \"tenth\",\n",
    "           \"eleventh\", \"twelvth\", \"thirteenth\"]  \n",
    "df.index = ordinals\n",
    "\n",
    "print(df.head(3))\n",
    "# 取得與更新單筆記錄\n",
    "print(df.loc[ordinals[1]])\n",
    "s = [\"新北市\", \"新莊區\", 416640] \n",
    "df.loc[ordinals[1]] = s\n",
    "print(df.head(3))\n"
   ]
  },
  {
   "cell_type": "code",
   "execution_count": null,
   "metadata": {},
   "outputs": [],
   "source": [
    "# 更新整個欄位值\n",
    "\n",
    "import pandas as pd\n",
    "import numpy as np\n",
    "\n",
    "df = pd.read_csv(\"dists.csv\", encoding=\"utf8\")\n",
    "ordinals =[\"first\", \"second\", \"third\", \"fourth\", \"fifth\",\n",
    "           \"sixth\", \"seventh\", \"eigth\", \"ninth\", \"tenth\",\n",
    "           \"eleventh\", \"twelvth\", \"thirteenth\"]  \n",
    "df.index = ordinals\n",
    "\n",
    "print(df)\n",
    "# 取得與更新整個欄位\n",
    "print(df.loc[:, \"population\"])\n",
    "df.loc[:, \"population\"] = np.random.randint(34000, 700000, size=len(df))\n",
    "print(df.head())\n"
   ]
  },
  {
   "cell_type": "code",
   "execution_count": 102,
   "metadata": {
    "jupyter": {
     "outputs_hidden": true
    }
   },
   "outputs": [
    {
     "name": "stdout",
     "output_type": "stream",
     "text": [
      "      0    1    2\n",
      "0   504  457  237\n",
      "1  1118  331  294\n",
      "\n",
      "        0   1   2\n",
      "0     NaN NaN NaN\n",
      "1  1118.0 NaN NaN\n",
      "\n",
      "      0    1    2\n",
      "0   504  457  237\n",
      "1  1018  331  294\n"
     ]
    }
   ],
   "source": [
    "# 更新整個DataFrame物件\n",
    "\n",
    "import pandas as pd\n",
    "import numpy as np\n",
    "\n",
    "df = pd.DataFrame(np.random.randint(5, 1500, size=(2,3)))\n",
    "print(df)\n",
    "\n",
    "print()\n",
    "# 取得與更新整個DataFrame\n",
    "print(df[df > 800])\n",
    "\n",
    "print()\n",
    "df[df > 800] = df - 100\n",
    "print(df)\n"
   ]
  },
  {
   "cell_type": "markdown",
   "metadata": {},
   "source": [
    "## 7.2 刪除資料\n",
    "\n",
    "- Pandas 使用 drop 刪除 DataFrame 資料，語法為：\n",
    "\n",
    "- df.drop(行標題或列標題 [, axix = 行列的數值])\n",
    " - 行列數值為0 表示列標題排序(預設), 1為行"
   ]
  },
  {
   "cell_type": "code",
   "execution_count": 103,
   "metadata": {
    "jupyter": {
     "outputs_hidden": true
    }
   },
   "outputs": [
    {
     "name": "stdout",
     "output_type": "stream",
     "text": [
      "       name  population city\n",
      "first   中正區      159598  台北市\n",
      "second  板橋區      551452  新北市\n",
      "third   桃園區      441287  桃園市\n",
      "159598\n",
      "新北市\n",
      "       name  population  city\n",
      "first   中正區         NaN   台北市\n",
      "second  板橋區    551452.0  None\n",
      "third   桃園區    441287.0   桃園市\n"
     ]
    }
   ],
   "source": [
    "# 刪除資料 –刪除純量值\n",
    "\n",
    "import pandas as pd\n",
    "\n",
    "df = pd.read_csv(\"dists.csv\", encoding=\"utf8\")\n",
    "ordinals =[\"first\", \"second\", \"third\", \"fourth\", \"fifth\",\n",
    "           \"sixth\", \"seventh\", \"eigth\", \"ninth\", \"tenth\",\n",
    "           \"eleventh\", \"twelvth\", \"thirteenth\"]  \n",
    "df.index = ordinals\n",
    "\n",
    "print(df.head(3))\n",
    "# 刪除純量值\n",
    "print(df.loc[ordinals[0], \"population\"])\n",
    "df.loc[ordinals[0], \"population\"] = None\n",
    "print(df.iloc[1,2])\n",
    "df.iloc[1,2] = None\n",
    "print(df.head(3))\n"
   ]
  },
  {
   "cell_type": "code",
   "execution_count": 104,
   "metadata": {
    "jupyter": {
     "outputs_hidden": true
    }
   },
   "outputs": [
    {
     "name": "stdout",
     "output_type": "stream",
     "text": [
      "       name  population city\n",
      "first   中正區      159598  台北市\n",
      "second  板橋區      551452  新北市\n",
      "third   桃園區      441287  桃園市\n",
      "fourth  北屯區      275207  台中市\n",
      "fifth   安南區      192327  台南市\n",
      "        name  population city\n",
      "first    中正區      159598  台北市\n",
      "third    桃園區      441287  桃園市\n",
      "fifth    安南區      192327  台南市\n",
      "sixth    三民區      343203  高雄市\n",
      "seventh  大安區      309835  台北市\n",
      "        name  population city\n",
      "first    中正區      159598  台北市\n",
      "second   板橋區      551452  新北市\n",
      "fifth    安南區      192327  台南市\n",
      "sixth    三民區      343203  高雄市\n",
      "seventh  大安區      309835  台北市\n"
     ]
    }
   ],
   "source": [
    "# drop()函數來刪除記錄\n",
    "\n",
    "import pandas as pd\n",
    "\n",
    "df = pd.read_csv(\"dists.csv\", encoding=\"utf8\")\n",
    "ordinals =[\"first\", \"second\", \"third\", \"fourth\", \"fifth\",\n",
    "           \"sixth\", \"seventh\", \"eigth\", \"ninth\", \"tenth\",\n",
    "           \"eleventh\", \"twelvth\", \"thirteenth\"]  \n",
    "df.index = ordinals\n",
    "\n",
    "print(df.head())\n",
    "# 刪除記錄\n",
    "df2 = df.drop([\"second\", \"fourth\"])    # 2,4 筆\n",
    "print(df2.head())\n",
    "\n",
    "df.drop(df.index[[2,3]], inplace=True) # 3,4 筆\n",
    "print(df.head())\n"
   ]
  },
  {
   "cell_type": "code",
   "execution_count": null,
   "metadata": {},
   "outputs": [],
   "source": [
    "# 刪除欄位: 也是使用drop()函數，只是需要指定axis參數值是1，預設為0，就是刪除記錄（column)\n",
    "\n",
    "import pandas as pd\n",
    "\n",
    "df = pd.read_csv(\"dists.csv\", encoding=\"utf8\")\n",
    "ordinals =[\"first\", \"second\", \"third\", \"fourth\", \"fifth\",\n",
    "           \"sixth\", \"seventh\", \"eigth\", \"ninth\", \"tenth\",\n",
    "           \"eleventh\", \"twelvth\", \"thirteenth\"]  \n",
    "df.index = ordinals\n",
    "\n",
    "print(df.head(3))\n",
    "# 刪除欄位\n",
    "df2 = df.drop([\"population\"], axis=1)\n",
    "print(df2.head(3))\n"
   ]
  },
  {
   "cell_type": "markdown",
   "metadata": {},
   "source": [
    "## 7.3 新增資料"
   ]
  },
  {
   "cell_type": "code",
   "execution_count": 111,
   "metadata": {
    "jupyter": {
     "outputs_hidden": true
    }
   },
   "outputs": [
    {
     "name": "stdout",
     "output_type": "stream",
     "text": [
      "           name  population city\n",
      "eleventh    鳳山區      359125  高雄市\n",
      "twelvth     信義區      225561  台北市\n",
      "thirteenth  新店區      302070  新北市\n",
      "           name population    city\n",
      "twelvth     信義區     225561     台北市\n",
      "thirteenth  新店區     302070     新北市\n",
      "third-1     台北市        士林區  288340\n",
      "\n",
      "name             台北市\n",
      "population       士林區\n",
      "city          288340\n",
      "Name: third-1, dtype: object\n",
      "   name population    city\n",
      "12  新店區     302070     新北市\n",
      "13  台北市        士林區  288340\n",
      "14  中和區     413291     新北市\n"
     ]
    }
   ],
   "source": [
    "# 新增記錄（列）只需指定一個不存在的索引標籤，就可以新增記錄，我們也可以建立Series物件，然後使用append()函數來新增記錄\n",
    "\n",
    "import pandas as pd\n",
    "\n",
    "df = pd.read_csv(\"dists.csv\", encoding=\"utf8\")\n",
    "ordinals =[\"first\", \"second\", \"third\", \"fourth\", \"fifth\",\n",
    "           \"sixth\", \"seventh\", \"eigth\", \"ninth\", \"tenth\",\n",
    "           \"eleventh\", \"twelvth\", \"thirteenth\"]  \n",
    "df.index = ordinals\n",
    "\n",
    "print(df.tail(3))\n",
    "# 新增記錄\n",
    "df.loc[\"third-1\"] = [\"台北市\", \"士林區\", 288340]\n",
    "print(df.tail(3))\n",
    "# print()\n",
    "# print(df.iloc[len(df) - 1, ])\n",
    "\n",
    "s = pd.Series({\"city\":\"新北市\",\"name\":\"中和區\",\"population\":413291})\n",
    "df2 = df.append(s, ignore_index=True)\n",
    "print(df2.tail(3))"
   ]
  },
  {
   "cell_type": "code",
   "execution_count": 116,
   "metadata": {},
   "outputs": [
    {
     "name": "stdout",
     "output_type": "stream",
     "text": [
      "           name  population city\n",
      "eleventh    鳳山區      359125  高雄市\n",
      "twelvth     信義區      225561  台北市\n",
      "thirteenth  新店區      302070  新北市\n",
      "           name population    city\n",
      "twelvth     信義區     225561     台北市\n",
      "thirteenth  新店區     302070     新北市\n",
      "third-1     台北市        士林區  288340\n",
      "           name population    city\n",
      "thirteenth  新店區     302070     新北市\n",
      "third-1     台北市        士林區  288340\n",
      "sdf         中和區     413291     新北市\n"
     ]
    }
   ],
   "source": [
    "#  活用新增記錄，即可配合for/in迴圈來建立DataFrame物件，首先使用loc索引器\n",
    "# 使用append()函數新增Series物件來建立DataFrame物件\n",
    "import pandas as pd\n",
    "\n",
    "df = pd.read_csv(\"dists.csv\", encoding=\"utf8\")\n",
    "ordinals =[\"first\", \"second\", \"third\", \"fourth\", \"fifth\",\n",
    "           \"sixth\", \"seventh\", \"eigth\", \"ninth\", \"tenth\",\n",
    "           \"eleventh\", \"twelvth\", \"thirteenth\"]  \n",
    "df.index = ordinals\n",
    "\n",
    "print(df.tail(3))\n",
    "# 新增記錄\n",
    "df.loc[\"third-1\"] = [\"台北市\", \"士林區\", 288340]\n",
    "print(df.tail(3))\n",
    "\n",
    "s = pd.Series({\"city\":\"新北市\",\"name\":\"中和區\",\"population\":413291})\n",
    "s.name = \"sdf\"\n",
    "df2 = df.append(s, ignore_index=False)\n",
    "print(df2.tail(3))\n"
   ]
  },
  {
   "cell_type": "code",
   "execution_count": 117,
   "metadata": {},
   "outputs": [
    {
     "name": "stdout",
     "output_type": "stream",
     "text": [
      "       name  population city  area\n",
      "first   中正區      159598  台北市  8050\n",
      "second  板橋區      551452  新北市  7852\n",
      "third   桃園區      441287  桃園市  8023\n",
      "fourth  北屯區      275207  台中市  8981\n",
      "fifth   安南區      192327  台南市  6032\n",
      "       name  population city  area  zip\n",
      "first   中正區      159598  台北市  8050  109\n",
      "second  板橋區      551452  新北市  7852  108\n",
      "third   桃園區      441287  桃園市  8023  113\n",
      "fourth  北屯區      275207  台中市  8981  117\n",
      "fifth   安南區      192327  台南市  6032  104\n"
     ]
    }
   ],
   "source": [
    "# 新增欄位: 指定一個不存在的欄位標籤，就可以新增欄位，我們可以使用清單、Series物件或NumPy陣列來指定欄位值\n",
    "\n",
    "import pandas as pd\n",
    "from numpy.random import randint\n",
    "\n",
    "df = pd.read_csv(\"dists.csv\", encoding=\"utf8\")\n",
    "ordinals =[\"first\", \"second\", \"third\", \"fourth\", \"fifth\",\n",
    "           \"sixth\", \"seventh\", \"eigth\", \"ninth\", \"tenth\",\n",
    "           \"eleventh\", \"twelvth\", \"thirteenth\"]  \n",
    "df.index = ordinals\n",
    "\n",
    "df[\"area\"] = pd.Series([randint(6000,9000) for n in range(len(df))]).values \n",
    "print(df.head())\n",
    "df.head().to_html(\"Ch9_4_3b_01.html\")\n",
    "df.loc[:,\"zip\"] = randint(100, 120, size=len(df))\n",
    "print(df.head())\n",
    "df.head().to_html(\"Ch9_4_3b_02.html\")"
   ]
  },
  {
   "cell_type": "markdown",
   "metadata": {},
   "source": [
    "## 7.4 複製、連接與合併DataFrame物件"
   ]
  },
  {
   "cell_type": "markdown",
   "metadata": {},
   "source": [
    "### - 建立空的和複製DataFrame物件\n",
    "\n",
    "* 對於現存DataFrame物件，我們可以建立一個形狀相同，但沒有資料的空DataFrame物件，也可以使用copy()函數在處理前備份DataFrame物件，如下所示：\n",
    "    * columns =[\"city\",\"name\", \"population\"]\n",
    "    * df_empty = pd.DataFrame(np.nan, index=ordinals, columns=columns)\n",
    "    * print(df_empty)\n",
    "\n",
    "* copy()函數可以複製DataFrame物件，如下所示：\n",
    "    * df_copy = df.copy()\n",
    "    * print(df_copy)\n"
   ]
  },
  {
   "cell_type": "code",
   "execution_count": 118,
   "metadata": {},
   "outputs": [
    {
     "name": "stdout",
     "output_type": "stream",
     "text": [
      "            city  name  population\n",
      "first        NaN   NaN         NaN\n",
      "second       NaN   NaN         NaN\n",
      "third        NaN   NaN         NaN\n",
      "fourth       NaN   NaN         NaN\n",
      "fifth        NaN   NaN         NaN\n",
      "sixth        NaN   NaN         NaN\n",
      "seventh      NaN   NaN         NaN\n",
      "eigth        NaN   NaN         NaN\n",
      "ninth        NaN   NaN         NaN\n",
      "tenth        NaN   NaN         NaN\n",
      "eleventh     NaN   NaN         NaN\n",
      "twelvth      NaN   NaN         NaN\n",
      "thirteenth   NaN   NaN         NaN\n",
      "           name  population city\n",
      "first       中正區      159598  台北市\n",
      "second      板橋區      551452  新北市\n",
      "third       桃園區      441287  桃園市\n",
      "fourth      北屯區      275207  台中市\n",
      "fifth       安南區      192327  台南市\n",
      "sixth       三民區      343203  高雄市\n",
      "seventh     大安區      309835  台北市\n",
      "eigth       永和區      222531  新北市\n",
      "ninth       八德區      198473  桃園市\n",
      "tenth       前鎮區      189623  高雄市\n",
      "eleventh    鳳山區      359125  高雄市\n",
      "twelvth     信義區      225561  台北市\n",
      "thirteenth  新店區      302070  新北市\n"
     ]
    }
   ],
   "source": [
    "import pandas as pd\n",
    "import numpy as np\n",
    "\n",
    "df = pd.read_csv(\"dists.csv\", encoding=\"utf8\")\n",
    "ordinals =[\"first\", \"second\", \"third\", \"fourth\", \"fifth\",\n",
    "           \"sixth\", \"seventh\", \"eigth\", \"ninth\", \"tenth\",\n",
    "           \"eleventh\", \"twelvth\", \"thirteenth\"]  \n",
    "df.index = ordinals\n",
    "\n",
    "columns =[\"city\",\"name\", \"population\"]\n",
    "# 建立空的DataFrame物件\n",
    "df_empty = pd.DataFrame(np.nan, index=ordinals, columns=columns)\n",
    "print(df_empty)\n",
    "# 複製DataFrame物件\n",
    "df_copy = df.copy()\n",
    "print(df_copy)"
   ]
  },
  {
   "cell_type": "code",
   "execution_count": 119,
   "metadata": {},
   "outputs": [
    {
     "name": "stdout",
     "output_type": "stream",
     "text": [
      "   a  b  c  d\n",
      "0  8  5  6  5\n",
      "1  7  6  6  7\n",
      "2  7  5  9  5\n",
      "\n",
      "   b  d  a\n",
      "0  6  5  9\n",
      "1  9  7  8\n",
      "\n",
      "   a  b    c  d\n",
      "0  8  5  6.0  5\n",
      "1  7  6  6.0  7\n",
      "2  7  5  9.0  5\n",
      "0  9  6  NaN  5\n",
      "1  8  9  NaN  7\n",
      "\n",
      "   a  b    c  d\n",
      "0  8  5  6.0  5\n",
      "1  7  6  6.0  7\n",
      "2  7  5  9.0  5\n",
      "3  9  6  NaN  5\n",
      "4  8  9  NaN  7\n"
     ]
    }
   ],
   "source": [
    "# 連接多個DataFrame物件： 使用concat()函數連接多個DataFrame物件，資料筆數增加\n",
    "\n",
    "import pandas as pd\n",
    "from numpy.random import randint\n",
    "\n",
    "df1 = pd.DataFrame(randint(5,10,size=(3,4)),columns=[\"a\",\"b\",\"c\",\"d\"])  \n",
    "df2 = pd.DataFrame(randint(5,10,size=(2,3)),columns=[\"b\",\"d\",\"a\"])  \n",
    "print(df1)\n",
    "\n",
    "print()\n",
    "print(df2)\n",
    "\n",
    "print()\n",
    "df3 = pd.concat([df1,df2])  \n",
    "print(df3)\n",
    "print()\n",
    "\n",
    "df4 = pd.concat([df1,df2], ignore_index=True)  # 忽略索引標籤\n",
    "print(df4) "
   ]
  },
  {
   "cell_type": "code",
   "execution_count": 128,
   "metadata": {},
   "outputs": [
    {
     "name": "stdout",
     "output_type": "stream",
     "text": [
      "  key  data1\n",
      "0   a      0\n",
      "1   b      1\n",
      "2   b      2\n",
      "  key  data2\n",
      "0   a      0\n",
      "1   b      1\n",
      "2   c      2\n",
      "  key  data1  data2\n",
      "0   a      0      0\n",
      "1   b      1      1\n",
      "2   b      2      1\n",
      "  key  data2  data1\n",
      "0   a      0      0\n",
      "1   b      1      1\n",
      "2   b      1      2\n",
      "  key  data2  data1\n",
      "0   a      0    0.0\n",
      "1   b      1    1.0\n",
      "2   b      1    2.0\n",
      "3   c      2    NaN\n"
     ]
    }
   ],
   "source": [
    "# 合併2個DataFrame物件: merge()函數可以左右合併2個DataFrame物件（類似SQL合併查詢），資料欄位增加\n",
    "\n",
    "import pandas as pd\n",
    "\n",
    "df1 = pd.DataFrame({\"key\":[\"a\",\"b\",\"b\"],\"data1\":range(3)})  \n",
    "df2 = pd.DataFrame({\"key\":[\"a\",\"b\",\"c\"],\"data2\":range(3)})  \n",
    "print(df1)\n",
    "print(df2)\n",
    "\n",
    "\n",
    "df3 = pd.merge(df1, df2)\n",
    "print(df3)\n",
    "\n",
    "\n",
    "df4 = pd.merge(df2, df1)\n",
    "print(df4)\n",
    "\n",
    "\n",
    "df5 = pd.merge(df2, df1, how='left')\n",
    "print(df5)\n"
   ]
  },
  {
   "cell_type": "markdown",
   "metadata": {},
   "source": [
    "# 8. 群組、樞紐分析與套用函數"
   ]
  },
  {
   "cell_type": "markdown",
   "metadata": {},
   "source": [
    "### 群組\n",
    "- 先將資料依條件分類成群組後，再套用相關函數在各群組來取得一些統計資料\n",
    "- DataFrame.groupby(\"欄位名稱\").sum()     \n",
    "    - 以此欄位進行其它欄位的加總\n",
    "- DataFrame.groupby(\"欄位名稱\").size()    \n",
    "    - 以此欄位顯示其不同的值出現的次數，即次數分配"
   ]
  },
  {
   "cell_type": "code",
   "execution_count": null,
   "metadata": {},
   "outputs": [],
   "source": [
    "import pandas as pd\n",
    "import numpy as np\n",
    "\n",
    "df = pd.DataFrame({\"名稱\" : [\"客戶A\", \"客戶B\", \"客戶A\", \"客戶B\",\n",
    "                             \"客戶A\", \"客戶B\", \"客戶A\", \"客戶A\"],\n",
    "                   \"編號\" : [\"訂單1\", \"訂單1\", \"訂單2\", \"訂單3\",\n",
    "                             \"訂單2\", \"訂單2\", \"訂單1\", \"訂單3\"],\n",
    "                   \"數量\" : np.random.randint(1,5,size=8),\n",
    "                   \"售價\" : np.random.randint(150,500,size=8)})\n",
    "\n",
    "print(df)\n",
    "\n",
    "print('\\ngroupby(\"名稱\").sum():\\n', df.groupby(\"名稱\").sum())\n",
    "print('\\ngroupby([\"名稱\",\"編號\"]).sum():\\n', df.groupby([\"名稱\",\"編號\"]).sum())\n",
    "\n",
    "print('\\ngroupby(\"名稱\").size():\\n', df.groupby(\"名稱\").size())\n",
    "\n",
    "print('\\ngroupby(\"名稱,\"編號\").sum():\\n', df.groupby([\"名稱\",\"編號\"]).sum())\n"
   ]
  },
  {
   "cell_type": "markdown",
   "metadata": {},
   "source": [
    "### 樞紐分析表\n",
    "\n",
    "- 使用pivot_table()函數以欄位值為標籤來重塑DataFrame物件的形狀，也就是建立樞紐分析表\n",
    "- pivot_products = products.pivot_table(index='分類', columns='商店', values='價格')\n"
   ]
  },
  {
   "cell_type": "code",
   "execution_count": null,
   "metadata": {
    "jupyter": {
     "outputs_hidden": true
    }
   },
   "outputs": [],
   "source": [
    "import pandas as pd\n",
    "\n",
    "products = pd.DataFrame({\n",
    "        \"分類\": [\"居家\", \"居家\", \"娛樂\", \"娛樂\", \"科技\", \"科技\"],\n",
    "        \"商店\": [\"家樂福\", \"頂好\", \"家樂福\", \"全聯\", \"頂好\",\"家樂福\"],\n",
    "        \"價格\":[11.42, 23.50, 19.99, 15.95, 55.75, 111.55],\n",
    "        \"測試分數\": [4, 3, 5, 7, 5, 8]})\n",
    "print(products)\n",
    "\n",
    "print()\n",
    "# 呼叫 pivot_table() 方法\n",
    "pivot_products = products.pivot_table(index='分類',columns='商店',values='價格')\n",
    "print(pivot_products)\n"
   ]
  },
  {
   "cell_type": "code",
   "execution_count": null,
   "metadata": {},
   "outputs": [],
   "source": [
    "import pandas as pd\n",
    "\n",
    "products = pd.DataFrame({\n",
    "        \"分類\": [\"居家\", \"居家\", \"居家\", \"娛樂\", \"科技\", \"科技\"],\n",
    "        \"商店\": [\"家樂福\", \"頂好\", \"家樂福\", \"全聯\", \"頂好\",\"家樂福\"],\n",
    "        \"價格\":[11.42, 23.50, 19.99, 15.95, 55.75, 111.55],\n",
    "        \"測試分數\": [4, 3, 5, 7, 5, 8]})\n",
    "print(products)\n",
    "\n",
    "print()\n",
    "# 呼叫 pivot_table() 方法\n",
    "pivot_products = products.pivot_table(index='分類',columns='商店',values='價格')  # 有兩個相同的居家、加樂福，會作平均\n",
    "print(pivot_products)\n"
   ]
  },
  {
   "cell_type": "markdown",
   "metadata": {},
   "source": [
    "### 套用函式\n",
    "可以使用apply()函數在資料套用NumPy函數或Lambda運算式"
   ]
  },
  {
   "cell_type": "code",
   "execution_count": null,
   "metadata": {
    "jupyter": {
     "outputs_hidden": true
    }
   },
   "outputs": [],
   "source": [
    "# cumsum()函數的累加計算，使用時只須寫函式名稱，無()\n",
    "# Lambda運算式計算最大和最小值的差\n",
    "\n",
    "import pandas as pd\n",
    "import numpy as np\n",
    "\n",
    "df = pd.DataFrame(np.random.rand(6,4), columns=list(\"ABCD\"))  # list(\"ABCD\") 作為欄位的名稱\n",
    "print(df)\n",
    "\n",
    "print()\n",
    "df2 = df.apply(np.cumsum)   # 累加計算\n",
    "print(df2)\n",
    "\n",
    "print()\n",
    "df3 = df.apply(lambda x: x.max() - x.min())  # 計算最大和最小值的差\n",
    "print(df3)"
   ]
  },
  {
   "cell_type": "code",
   "execution_count": null,
   "metadata": {},
   "outputs": [],
   "source": [
    "參考書目：\n",
    "\n",
    "陳允傑（2018）。Python資料科學與人工智慧應用實務。 台北：旗標。"
   ]
  }
 ],
 "metadata": {
  "kernelspec": {
   "display_name": "Python 3",
   "language": "python",
   "name": "python3"
  },
  "language_info": {
   "codemirror_mode": {
    "name": "ipython",
    "version": 3
   },
   "file_extension": ".py",
   "mimetype": "text/x-python",
   "name": "python",
   "nbconvert_exporter": "python",
   "pygments_lexer": "ipython3",
   "version": "3.8.8"
  },
  "toc": {
   "base_numbering": 1,
   "nav_menu": {},
   "number_sections": true,
   "sideBar": true,
   "skip_h1_title": false,
   "title_cell": "Table of Contents",
   "title_sidebar": "Contents",
   "toc_cell": false,
   "toc_position": {
    "height": "calc(100% - 180px)",
    "left": "10px",
    "top": "150px",
    "width": "374.388px"
   },
   "toc_section_display": true,
   "toc_window_display": true
  }
 },
 "nbformat": 4,
 "nbformat_minor": 4
}
