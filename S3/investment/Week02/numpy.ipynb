{
 "cells": [
  {
   "cell_type": "markdown",
   "metadata": {},
   "source": [
    "## 目錄\n",
    "製作者：楊右宇\n",
    "\n",
    "建立日期：2021.11.13  &emsp; 最後修改日期: 2021.11.13"
   ]
  },
  {
   "cell_type": "markdown",
   "metadata": {},
   "source": [
    "1. Numpy 簡介  \n",
    " 1.1 特色  \n",
    " 1.2 核心與結構  \n",
    " 1.3 為什麼需要使用 Numpy  \n",
    " 1.4 顯示函式的說明文件  \n",
    " 1.5 official website  \n",
    "2. 基本架構的屬性 (Basic properties)  \n",
    " 2.1 基本屬性  \n",
    " 2.2 容易搞混的陣列形狀  \n",
    "3. 陣列的建立  \n",
    " 3.1 建立一維陣列常見的方式  \n",
    " 3.2 建立多維陣列常見的方式  \n",
    "4. 走訪陣列\n",
    "5. 取出子陣列\n",
    "6. 改變陣列的形狀\n",
    "7. 陣列的運算\n",
    "8. Numpy的亂數\n",
    "9. NumPy的通用函式\n",
    "10. 檔案儲存與載入\n",
    "11. Numpy陣列的記憶體位置\n",
    "12. 多項式\n",
    " "
   ]
  },
  {
   "cell_type": "markdown",
   "metadata": {},
   "source": [
    "# Numpy 簡介\n",
    "## 特色\n",
    "* NumPy 提供一維、二維、和多維的陣列物件，與相關延伸的物件\n",
    "* 支援高效率陣列的數學、邏輯、維度操作、排序、選取元素，和基本線性代數與統計等多種數學函式的函式庫"
   ]
  },
  {
   "cell_type": "markdown",
   "metadata": {},
   "source": [
    "## 核心與結構\n",
    "\n",
    "* NumPy 的核心是ndarray，是相同資料型態元素所組成的陣列\n",
    "* 與Python的清單List之差異為： \n",
    "    * 資料結構和C語言一樣，為元素數目固定，且所屬的元素都是同一種資料型別 (python的list允許不同的資料型別，且元素數目可以變動)  \n",
    "    * NumPy陣列是固定尺寸，若是更改物件尺寸就是重新建立全新的陣列，Python的List是容器，不用指定尺寸\n"
   ]
  },
  {
   "cell_type": "markdown",
   "metadata": {},
   "source": [
    "## 為什麼需要使用 Numpy\n",
    "\n",
    "- 支援多維陣列與矩陣運算，針對陣列提供大量的數學函式，方便處理數學問題，例如傅立葉轉換、線性代數、多項式等\n",
    "- 運算速度快:numpy和pandas 都是採用C 語言編寫, pandas 又是基於numpy, 是numpy的升級版，且採用的是矩陣運算，會比python 自帶的字典或者列表快好多\n",
    "- 消耗資源少"
   ]
  },
  {
   "cell_type": "markdown",
   "metadata": {},
   "source": [
    "## 匯入 numpy"
   ]
  },
  {
   "cell_type": "code",
   "execution_count": 1,
   "metadata": {},
   "outputs": [],
   "source": [
    "# impoort numpy\n",
    "import numpy as np"
   ]
  },
  {
   "cell_type": "markdown",
   "metadata": {},
   "source": [
    "## 查詢當前版本"
   ]
  },
  {
   "cell_type": "code",
   "execution_count": 2,
   "metadata": {
    "jupyter": {
     "outputs_hidden": true
    }
   },
   "outputs": [
    {
     "data": {
      "text/plain": [
       "'1.20.1'"
      ]
     },
     "execution_count": 2,
     "metadata": {},
     "output_type": "execute_result"
    }
   ],
   "source": [
    "# show numpy version\n",
    "np.__version__"
   ]
  },
  {
   "cell_type": "markdown",
   "metadata": {},
   "source": [
    "## 顯示函式的說明文件\n",
    "\n",
    "* numpy.函式名稱?"
   ]
  },
  {
   "cell_type": "code",
   "execution_count": 3,
   "metadata": {
    "jupyter": {
     "outputs_hidden": true
    }
   },
   "outputs": [],
   "source": [
    "# show function description\n",
    "np.sin?"
   ]
  },
  {
   "cell_type": "markdown",
   "metadata": {},
   "source": [
    "## official website\n",
    "http://www.numpy.org/"
   ]
  },
  {
   "cell_type": "markdown",
   "metadata": {},
   "source": [
    "# 基本架構的屬性 (Basic properties)"
   ]
  },
  {
   "cell_type": "markdown",
   "metadata": {},
   "source": [
    "## 基本屬性\n",
    "\n",
    "* NumPy套件所提供的陣列型別稱為 ndarray (n-dimension array)  \n",
    "* ndarray型別的重要屬性：   \n",
    " * ndarray.ndim:陣列的維度  \n",
    " * ndarray.shape:陣列的形狀(用tuple表示)，每個整數表示各維度的元素個數  \n",
    " * ndarray.size:元素的個數  \n",
    " * ndarray.dtype:元素的資料型別，包含python內建的int, bool, str等，註：type()是看整個物件的資料型別  \n",
    "     也可以是NumPy套件提供的numpy.int32, numpy.int16, numpy.float64等  \n",
    " * ndarray.itemsize:陣列元素的位元組數  "
   ]
  },
  {
   "cell_type": "code",
   "execution_count": 4,
   "metadata": {
    "jupyter": {
     "outputs_hidden": true
    }
   },
   "outputs": [
    {
     "name": "stdout",
     "output_type": "stream",
     "text": [
      "[[1 2 3]\n",
      " [4 5 6]] \n",
      "\n",
      "維度 : 2\n",
      "各維度元素數 : (2, 3)\n",
      "第一維元素數 : 2\n",
      "第二維元素數 : 3\n",
      "總元素個數 : 6\n",
      "array[0]元素的個數 : 3\n",
      "元素的資料型別 : int32\n",
      "使用type查看元素的資料型別 : <class 'numpy.ndarray'>\n",
      "元素的位元組數 : 4\n"
     ]
    }
   ],
   "source": [
    "import numpy as np\n",
    "array = np.array([[1,2,3],[4,5,6]])  \n",
    "print(array, '\\n')\n",
    "print('維度 :',array.ndim) \n",
    "print('各維度元素數 :',array.shape) # 列與行數\n",
    "print('第一維元素數 :',array.shape[0]) # 列數 (row number)\n",
    "print('第二維元素數 :',array.shape[1]) # 行數 (column number)\n",
    "print('總元素個數 :',array.size) \n",
    "print('array[0]元素的個數 :',array[0].size) \n",
    "print('元素的資料型別 :',array.dtype) # 看每個元素的資料型態\n",
    "print('使用type查看元素的資料型別 :',type(array))\n",
    "print('元素的位元組數 :',array.itemsize)"
   ]
  },
  {
   "cell_type": "markdown",
   "metadata": {},
   "source": [
    "## 陣列形狀 ndarray.shape"
   ]
  },
  {
   "cell_type": "markdown",
   "metadata": {},
   "source": [
    "- (5, ): 為1維，即向量，例如 np.array([0, 1, 2, 3, 4])\n",
    "- (5)：會被視為數字，並非tuple，所以shape會改用 (5, )\n",
    "- (1, 5) :為2維，例如 np.array([[0, 1, 2, 3, 4]])"
   ]
  },
  {
   "cell_type": "code",
   "execution_count": 5,
   "metadata": {},
   "outputs": [
    {
     "name": "stdout",
     "output_type": "stream",
     "text": [
      "[0 1 2 3 4]\n",
      "x1.shape: (5,)\n",
      "\n",
      "[[0]\n",
      " [1]\n",
      " [2]\n",
      " [3]\n",
      " [4]]\n",
      "x2.shape: (5, 1)\n",
      "\n",
      "[[0 1 2 3 4]]\n",
      "x3.shape: (1, 5)\n"
     ]
    }
   ],
   "source": [
    "import numpy as np\n",
    "\n",
    "x1 = np.array([0, 1, 2, 3, 4])\n",
    "print(x1)\n",
    "print('x1.shape:', x1.shape)\n",
    "print()\n",
    "\n",
    "x2 = np.array([[0], [1], [2], [3], [4]])\n",
    "print(x2)\n",
    "print('x2.shape:', x2.shape)\n",
    "print()\n",
    "\n",
    "x3 = np.array([[0, 1, 2, 3, 4]])\n",
    "print(x3)\n",
    "print('x3.shape:', x3.shape)"
   ]
  },
  {
   "cell_type": "markdown",
   "metadata": {},
   "source": [
    "# 陣列的建立"
   ]
  },
  {
   "cell_type": "markdown",
   "metadata": {},
   "source": [
    "## 由其他格式轉換 np.array()\n",
    "\n",
    "使用array()將其它格式的資料轉為陣列：\n",
    " * a = np.array([1, 3, 5, 7, 9])  \n",
    "     * 將串列list轉為numpy陣列，每個元素為整數  \n",
    " * b = np.array((1, 3, 5, 7, 9))  \n",
    "     * 將元組tuple轉為numpy陣列，每個元素為整數  \n",
    " * c = np.array({1, 3, 5, 7, 9})\n",
    "     * 將集合set轉為numpy陣列，每個元素為物件  \n",
    " \n",
    "所以：一般是使用清單或元組來建立Numpy的一維陣列"
   ]
  },
  {
   "cell_type": "code",
   "execution_count": 6,
   "metadata": {
    "jupyter": {
     "outputs_hidden": true
    }
   },
   "outputs": [
    {
     "name": "stdout",
     "output_type": "stream",
     "text": [
      "[1 3 5 7 9] [1 3 5 7 9] {1, 3, 5, 7, 9}\n",
      "\n",
      "<class 'numpy.ndarray'> <class 'numpy.ndarray'> <class 'numpy.ndarray'>\n",
      "\n",
      "int32 int32 object\n",
      "\n",
      "[1 3 5 0 9] [1 3 5 0 9] {1, 3, 5, 7, 9}\n"
     ]
    }
   ],
   "source": [
    "import numpy as np \n",
    "a = np.array([1, 3, 5, 7, 9])\n",
    "b = np.array((1, 3, 5, 7, 9))\n",
    "c = np.array({1, 3, 5, 7, 9})\n",
    "\n",
    "print(a, b, c)\n",
    "print()\n",
    "print(type(a), type(b), type(c))   # 看整個資料的資料型態\n",
    "print()\n",
    "print(a.dtype, b.dtype, c.dtype)   # 看每個元素的資料型態\n",
    "print()\n",
    "\n",
    "a[3] = 0\n",
    "b[3] = 0\n",
    "#c[3] = 0  # 會出錯\n",
    "print(a, b, c)"
   ]
  },
  {
   "cell_type": "markdown",
   "metadata": {},
   "source": [
    "### 在建立時指定型態\n",
    "\n",
    "np.array(資料串, dtype=資料型態)"
   ]
  },
  {
   "cell_type": "code",
   "execution_count": 7,
   "metadata": {
    "jupyter": {
     "outputs_hidden": true
    }
   },
   "outputs": [
    {
     "name": "stdout",
     "output_type": "stream",
     "text": [
      "[5 2 8 4 5 6]\n",
      "[5. 2. 8. 4. 5. 6.]\n",
      "int32 float64\n"
     ]
    }
   ],
   "source": [
    "import numpy as np \n",
    "arr1 = np.array([5,2,8,4,5,6]) \n",
    "arr2 = np.array([5,2,8,4,5,6], dtype = float)\n",
    "print(arr1, arr2, sep = '\\n')\n",
    "print(arr1.dtype, arr2.dtype)"
   ]
  },
  {
   "cell_type": "markdown",
   "metadata": {},
   "source": [
    "## 固定間隔 np.arange()\n",
    "\n",
    "* Python的range只能用在整數，np.arange可以是浮點數\n",
    "* np.arange(起始值, 終止值, 間隔值, dtype=資料型態)\n",
    "* 其中的參數除了終止值不可省略，其餘可以\n",
    "* 和python的range()使用方法類似"
   ]
  },
  {
   "cell_type": "code",
   "execution_count": 8,
   "metadata": {
    "jupyter": {
     "outputs_hidden": true
    }
   },
   "outputs": [
    {
     "name": "stdout",
     "output_type": "stream",
     "text": [
      "[0 1 2 3 4]\n",
      "[3 4 5 6 7 8 9]\n",
      "[3.  3.5 4.  4.5 5.  5.5 6.  6.5 7.  7.5 8.  8.5 9.  9.5]\n",
      "[3.  3.8 4.6 5.4 6.2 7.  7.8 8.6 9.4]\n"
     ]
    }
   ],
   "source": [
    "import numpy as np \n",
    "\n",
    "arr1 = np.arange(5)  # 不含5\n",
    "arr2 = np.arange(3, 10)\n",
    "arr3 = np.arange(3, 10, 0.5)\n",
    "arr4 = np.arange(3, 10, 0.8, dtype = float)\n",
    "print(arr1, arr2, arr3, arr4, sep = '\\n')"
   ]
  },
  {
   "cell_type": "markdown",
   "metadata": {},
   "source": [
    "## 平均分布 np.linspace()\n",
    "\n",
    "* 建立平均分布的數值  # linear space\n",
    "* np.linspace(起始值, 終止值, 元素個數, dtype=資料型態)\n",
    "* 使其包含起始直和終止值共有 N 個元素"
   ]
  },
  {
   "cell_type": "code",
   "execution_count": 9,
   "metadata": {
    "jupyter": {
     "outputs_hidden": true
    }
   },
   "outputs": [
    {
     "name": "stdout",
     "output_type": "stream",
     "text": [
      "[ 0.          0.52631579  1.05263158  1.57894737  2.10526316  2.63157895\n",
      "  3.15789474  3.68421053  4.21052632  4.73684211  5.26315789  5.78947368\n",
      "  6.31578947  6.84210526  7.36842105  7.89473684  8.42105263  8.94736842\n",
      "  9.47368421 10.        ]\n",
      "[ 0.   0.5  1.   1.5  2.   2.5  3.   3.5  4.   4.5  5.   5.5  6.   6.5\n",
      "  7.   7.5  8.   8.5  9.   9.5 10. ]\n"
     ]
    }
   ],
   "source": [
    "import numpy as np\n",
    "\n",
    "arr1 = np.linspace(0, 10, 20)  # 包含 10，注意最後一個引數是指共有20個，也就是分為19個間隔，若是要每個間隔0.5，要使用21\n",
    "arr2 = np.linspace(0, 10, 21)\n",
    "print(arr1, arr2, sep='\\n')"
   ]
  },
  {
   "cell_type": "markdown",
   "metadata": {},
   "source": [
    "## 亂數生成 rand(), random(), randint()\n",
    "\n",
    "* np.random.random(元素個數)\n",
    "    * 其預設值為0~1之間\n",
    "* np.random.rand(第一維元素數，第二維元素數 ...)\n",
    "    * 其預設值維0~1之間\n",
    "* np.random.randint(起始值 = 0, 終止值, 元素個數 = 1)\n",
    "    * 生成範圍不包含終止值\n",
    "    * 其中的參數除了終止值不可省略，其餘可以\n",
    "* 一般randint()會產生包含終止值的亂數，但numpy內的不會"
   ]
  },
  {
   "cell_type": "code",
   "execution_count": 147,
   "metadata": {
    "jupyter": {
     "outputs_hidden": true
    }
   },
   "outputs": [
    {
     "name": "stdout",
     "output_type": "stream",
     "text": [
      "[0.1243796  0.569078   0.40641338 0.89798891 0.69519111 0.13622993]\n",
      "\n",
      "[0.78675306 0.86077664 0.01237618]\n",
      "\n",
      "[[0.48329555 0.09206146 0.16153046]\n",
      " [0.24792733 0.89225967 0.04766286]\n",
      " [0.34004433 0.21053798 0.3122577 ]]\n",
      "\n",
      "[62 98 76 27 26 87  2  3 29 55]\n",
      "\n",
      "4\n"
     ]
    }
   ],
   "source": [
    "a = np.random.random(6)\n",
    "\n",
    "b = np.random.rand(3)\n",
    "c = np.random.rand(3,3)\n",
    "\n",
    "d = np.random.randint(1, 100, 10)\n",
    "e = np.random.randint(10)\n",
    "\n",
    "print(a, b, c, d, e, sep=\"\\n\\n\")"
   ]
  },
  {
   "cell_type": "code",
   "execution_count": 165,
   "metadata": {},
   "outputs": [],
   "source": [
    "e = np.random.random((2,3)) #亂數，6個"
   ]
  },
  {
   "cell_type": "code",
   "execution_count": 151,
   "metadata": {
    "jupyter": {
     "outputs_hidden": true
    }
   },
   "outputs": [
    {
     "name": "stdout",
     "output_type": "stream",
     "text": [
      "1 3 2 2 3 1 2 1 3 3 3 3 3 3 2 2 3 2 3 3 1 3 3 1 3 1 2 1 2 2 1 1 3 2 1 1 1 3 1 1 3 1 2 1 2 1 1 3 1 1 1 1 3 2 1 2 2 2 1 3 1 3 2 3 2 2 1 2 2 2 3 2 1 1 3 3 3 1 1 2 1 3 3 2 2 1 2 3 1 2 3 2 2 1 3 3 2 2 1 1 "
     ]
    }
   ],
   "source": [
    "import random\n",
    "\n",
    "for i in range(100):\n",
    "    print(random.randint(1, 3), end = \" \")  # random.randint()會包含終止值3"
   ]
  },
  {
   "cell_type": "markdown",
   "metadata": {},
   "source": [
    "## 填入固定數字 zeros(), ones(), full()\n",
    "\n",
    "* 預設資料型態為浮點數\n",
    "* np.zeros(元素個數, dtype=資料型態)\n",
    "    * 每個元素預設為 0\n",
    "* np.ones(元素個數, dtype=資料型態)\n",
    "    * 每個元素預設為 1\n",
    "* np.full(元素個數, 預設值, dtype=資料型態)\n",
    "* np.zeors_like(資料串)\n",
    "    * 複製資料串之架構(尺寸)\n",
    "    * 將其值預設為 0\n",
    "* np.ones_like(資料串)\n",
    "    * 複製資料串之架構(尺寸)\n",
    "    * 將其值預設為 1"
   ]
  },
  {
   "cell_type": "code",
   "execution_count": 13,
   "metadata": {},
   "outputs": [
    {
     "name": "stdout",
     "output_type": "stream",
     "text": [
      "[0. 0. 0. 0. 0. 0.]\n",
      "[1 1 1 1 1 1]\n",
      "[3. 3. 3. 3. 3. 3.]\n"
     ]
    }
   ],
   "source": [
    "import numpy as np\n",
    "\n",
    "a = np.zeros(6) # 數據全為0，6個\n",
    "b = np.ones(6, dtype = int) # 數據為1，6個，整數\n",
    "c = np.full(6, 3, dtype=float)\n",
    "print(a, b, c, sep='\\n')"
   ]
  },
  {
   "cell_type": "code",
   "execution_count": 11,
   "metadata": {
    "jupyter": {
     "outputs_hidden": true
    }
   },
   "outputs": [
    {
     "name": "stdout",
     "output_type": "stream",
     "text": [
      "[6 6]\n",
      "\n",
      "[[5 5 5]\n",
      " [5 5 5]\n",
      " [5 5 5]]\n"
     ]
    }
   ],
   "source": [
    "# 用某一數字填滿整個陣列\n",
    "\n",
    "import numpy as np\n",
    "\n",
    "a = np.full(2, 6)  #有兩個元素，每個都是6\n",
    "print(a)\n",
    "\n",
    "print()\n",
    "b = np.full((3,3), 5)\n",
    "print(b)"
   ]
  },
  {
   "cell_type": "code",
   "execution_count": 14,
   "metadata": {
    "jupyter": {
     "outputs_hidden": true
    }
   },
   "outputs": [
    {
     "name": "stdout",
     "output_type": "stream",
     "text": [
      "[[1 2 3]\n",
      " [4 5 6]]\n",
      "\n",
      "[[0 0 0]\n",
      " [0 0 0]]\n",
      "\n",
      "[[1 1 1]\n",
      " [1 1 1]]\n"
     ]
    }
   ],
   "source": [
    "import numpy as np\n",
    "\n",
    "a = np.array([[1,2,3],[4,5,6]])\n",
    "b = np.zeros_like(a)\n",
    "c = np.ones_like(a)\n",
    "\n",
    "print(a, b, c, sep='\\n\\n')"
   ]
  },
  {
   "cell_type": "code",
   "execution_count": null,
   "metadata": {},
   "outputs": [],
   "source": [
    "c = np.zeros((2,3)) # 數據全為0，不能用 c = np.zeros(2,3)\n",
    "d = np.ones((2,3), dtype = int) # 數據為1，6個"
   ]
  },
  {
   "cell_type": "markdown",
   "metadata": {},
   "source": [
    "## eye()"
   ]
  },
  {
   "cell_type": "code",
   "execution_count": 15,
   "metadata": {},
   "outputs": [
    {
     "name": "stdout",
     "output_type": "stream",
     "text": [
      "[[1. 0. 0.]\n",
      " [0. 1. 0.]\n",
      " [0. 0. 1.]]\n",
      "\n",
      "[[0. 1. 0.]\n",
      " [0. 0. 1.]\n",
      " [0. 0. 0.]]\n"
     ]
    }
   ],
   "source": [
    "d = np.eye(3)  # 對角線都是1\n",
    "print(d)\n",
    "\n",
    "print()\n",
    "e = np.eye(3, k=1)  # 從索引的1開始，對角線都是1，也就是從[0,1]的位置的斜對角開始為1\n",
    "print(e)"
   ]
  },
  {
   "cell_type": "markdown",
   "metadata": {},
   "source": [
    "## 轉為立體 np.reshape()\n",
    "\n",
    "* 將一維或多維陣列打為一維後轉換維多維陣列\n",
    "* ndarray.reshape(第一維元素數，第二維元素數 ...)\n",
    "* 如果元素數不足或太多會報錯\n",
    "    "
   ]
  },
  {
   "cell_type": "code",
   "execution_count": 158,
   "metadata": {
    "jupyter": {
     "outputs_hidden": true
    }
   },
   "outputs": [
    {
     "name": "stdout",
     "output_type": "stream",
     "text": [
      "[[1 2 3]\n",
      " [4 5 6]\n",
      " [7 8 9]]\n",
      "\n",
      "[[76 51 72]\n",
      " [43 42  9]\n",
      " [79 91 18]\n",
      " [94 30 60]]\n",
      "\n",
      "[[76 51]\n",
      " [72 43]\n",
      " [42  9]\n",
      " [79 91]\n",
      " [18 94]\n",
      " [30 60]]\n",
      "\n",
      "[[ 1  2  3  4  5]\n",
      " [ 6  7  8  9 10]\n",
      " [11 12 13 14 15]]\n",
      "\n",
      "[[0.48633933 0.29014615 0.79004539]\n",
      " [0.59086589 0.32414048 0.91282415]]\n"
     ]
    }
   ],
   "source": [
    "a = np.array([1, 2, 3, 4, 5, 6, 7, 8, 9]).reshape(3,3)\n",
    "b = np.random.randint(1, 100, 12).reshape(4,3)\n",
    "c = b.reshape(6, 2)\n",
    "d = np.arange(1, 16).reshape(3, 5)\n",
    "print(a,b,c,d,e, sep=\"\\n\\n\")"
   ]
  },
  {
   "cell_type": "markdown",
   "metadata": {},
   "source": [
    "### reshape() 特殊用法\n",
    "\n",
    "- reshape(n, -1)：提供列數，行數（-1)表示自動計算行數  \n",
    "    -例如b = np.array([1, 2, 3, 4, 5, 6, 7, 8]).reshape(4,-1)  \n",
    "    - 會變成(4,2)的陣列  \n",
    "- reshape(-1, n)  \n",
    "    -例如b = np.array([1, 2, 3, 4, 5, 6, 7, 8]).reshape(-1,2)  \n",
    "    - 會變成(4,2)的陣列"
   ]
  },
  {
   "cell_type": "code",
   "execution_count": 166,
   "metadata": {},
   "outputs": [
    {
     "name": "stdout",
     "output_type": "stream",
     "text": [
      "(4, 2)\n",
      "[[1 2]\n",
      " [3 4]\n",
      " [5 6]\n",
      " [7 8]]\n"
     ]
    }
   ],
   "source": [
    "import numpy as np\n",
    "a = np.array([1, 2, 3, 4, 5, 6, 7, 8]).reshape(4,-1)\n",
    "print(a.shape)\n",
    "print(a)"
   ]
  },
  {
   "cell_type": "markdown",
   "metadata": {},
   "source": [
    "# 走訪陣列"
   ]
  },
  {
   "cell_type": "code",
   "execution_count": 167,
   "metadata": {
    "jupyter": {
     "outputs_hidden": true
    }
   },
   "outputs": [
    {
     "name": "stdout",
     "output_type": "stream",
     "text": [
      "1\n",
      "2\n",
      "3\n",
      "4\n",
      "5\n",
      "[3 4 5 6 7]\n"
     ]
    }
   ],
   "source": [
    "import numpy as np\n",
    "\n",
    "a = np.array([1, 2, 3, 4, 5])\n",
    "for ele in a:\n",
    "    print(ele)\n",
    "    \n",
    "for i in range(len(a)):\n",
    "    a[i] = a[i] + 2\n",
    "print(a)"
   ]
  },
  {
   "cell_type": "code",
   "execution_count": 168,
   "metadata": {
    "jupyter": {
     "outputs_hidden": true
    }
   },
   "outputs": [
    {
     "name": "stdout",
     "output_type": "stream",
     "text": [
      "[1 2]\n",
      "[3 4]\n",
      "[5 6]\n",
      "1  2  3  4  5  6  "
     ]
    }
   ],
   "source": [
    "import numpy as np\n",
    "\n",
    "a = np.array([[1, 2], [3, 4], [5, 6]])\n",
    "for ele in a:\n",
    "    print(ele)\n",
    "\n",
    "for ele in a:\n",
    "    for item in ele:\n",
    "        print(item, end=\"  \")"
   ]
  },
  {
   "cell_type": "markdown",
   "metadata": {},
   "source": [
    "# 取出子陣列\n",
    "\n",
    "* slice 取值\n",
    "* 資料串[初始值 = 0 : 最終值 = n : 間隔數 = 1]\n",
    "* 三種直接可省略，但不能同時全省略\n",
    "* 可用負值，會由後面算起"
   ]
  },
  {
   "cell_type": "code",
   "execution_count": 171,
   "metadata": {
    "jupyter": {
     "outputs_hidden": true
    }
   },
   "outputs": [
    {
     "name": "stdout",
     "output_type": "stream",
     "text": [
      "a=[1 2 3 4 5 6 7 8 9]\n",
      "a[1:3]=[2 3]\n",
      "a[:4]=[1 2 3 4]\n",
      "a[3:]=[4 5 6 7 8 9]\n",
      "a[2:9:3]=[3 4 5 6 7 8 9]\n",
      "a[::2]=[1 3 5 7 9]\n",
      "a[::-1]=[9 8 7 6 5 4 3 2 1]\n",
      "a[2:-2]=[3 4 5 6 7]\n"
     ]
    }
   ],
   "source": [
    "import numpy as np\n",
    "\n",
    "a = np.array([1, 2, 3, 4, 5, 6, 7, 8, 9])\n",
    "print(\"a=\" + str(a))    # str(a) 內容為字串 '[1 2 3 4 5 6 7 8 9]'\n",
    "\n",
    "b = a[1:3]     # 索引 1,2\n",
    "print(\"a[1:3]=\" + str(b))\n",
    "b = a[:4]      # 索引 0,1,2,3\n",
    "print(\"a[:4]=\" + str(b))\n",
    "b = a[3:]      # 索引 3,4,5,6,7,8\n",
    "print(\"a[3:]=\" + str(b))\n",
    "b = a[2:9:3]   # 索引 2,5,8\n",
    "print(\"a[2:9:3]=\" + str(b))\n",
    "b = a[::2]     # 索引 0,2,4,6,8\n",
    "print(\"a[::2]=\" + str(b))\n",
    "b = a[::-1]    # 索引 8,7,6,5,4,3,2,1,0\n",
    "print(\"a[::-1]=\" + str(b))\n",
    "b = a[2:-2]    # 索引 8,7,6,5,4,3,2,1,0\n",
    "print(\"a[2:-2]=\" + str(b))"
   ]
  },
  {
   "cell_type": "code",
   "execution_count": 22,
   "metadata": {
    "jupyter": {
     "outputs_hidden": true
    }
   },
   "outputs": [
    {
     "name": "stdout",
     "output_type": "stream",
     "text": [
      "a=[1 2 3 4 5 6 7 8 9]\n",
      "1 3 9\n",
      "a[[1,3,5,7]]=[2 4 6 8]\n",
      "a[range(6)]=[1 2 3 4 5 6]\n",
      "a[[2,6]]=10->[ 1  2 10  4  5  6 10  8  9]\n"
     ]
    }
   ],
   "source": [
    "# 給一個索引清單，取出選擇元素來建立新陣列\n",
    "\n",
    "import numpy as np\n",
    "\n",
    "a = np.array([1, 2, 3, 4, 5, 6, 7, 8, 9])\n",
    "print(\"a=\" + str(a))\n",
    "\n",
    "print(a[0], a[2], a[-1])  # 索引 0,2,最後1個 \n",
    "b = a[[1, 3, 5, 7]]       # 索引 1,3,5,7\n",
    "print(\"a[[1,3,5,7]]=\" + str(b))\n",
    "b = a[range(6)]           # 索引 0,1,2,3,4,5\n",
    "print(\"a[range(6)]=\" + str(b))\n",
    "a[[2, 6]] = 10            # 同時更改多個索引值\n",
    "print(\"a[[2,6]]=10->\" + str(a))"
   ]
  },
  {
   "cell_type": "code",
   "execution_count": 1,
   "metadata": {},
   "outputs": [
    {
     "name": "stdout",
     "output_type": "stream",
     "text": [
      "[[ 1  2  3  4  5]\n",
      " [ 6  7  8  9 10]\n",
      " [11 12 13 14 15]\n",
      " [16 17 18 19 20]]\n",
      "\n",
      "[ 4  9 14 19]\n",
      "\n",
      "[[ 2  3]\n",
      " [ 7  8]\n",
      " [12 13]\n",
      " [17 18]]\n",
      "\n",
      "[[ 1  4]\n",
      " [11 14]]\n",
      "8\n"
     ]
    }
   ],
   "source": [
    "import numpy as np\n",
    "\n",
    "a = np.arange(1, 21).reshape(4, 5)\n",
    "b = a[:, 3]   # 應該是 row向量，但 Numpy 會自動轉為 collumn向量\n",
    "c = a[:, 1:3]\n",
    "d = a[::2, ::3]\n",
    "print(a, b, c, d, sep = \"\\n\\n\")\n"
   ]
  },
  {
   "cell_type": "code",
   "execution_count": 24,
   "metadata": {
    "jupyter": {
     "outputs_hidden": true
    }
   },
   "outputs": [
    {
     "name": "stdout",
     "output_type": "stream",
     "text": [
      "a=[14  8 10 11  6  3 18 13 12  9]\n",
      "mask=[False False False False  True  True  True False  True  True]\n",
      "a[mask]=[ 6  3 18 12  9]\n",
      "a[a%3==0]=-1->[14  8 10 11 -1 -1 -1 13 -1 -1]\n"
     ]
    }
   ],
   "source": [
    "# 使用布林陣列，這是相同大小的布林值陣列，如果元素值是True，表示選擇對應的元素；反之False，就不選擇\n",
    "\n",
    "import numpy as np\n",
    "\n",
    "a = np.array([14,8,10,11,6,3,18,13,12,9])\n",
    "print(\"a=\" + str(a))\n",
    "mask = (a % 3 == 0)        # 建立布林值陣列\n",
    "print(\"mask=\" + str(mask))\n",
    "b = a[mask]                # 使用布林值陣列取出值\n",
    "print(\"a[mask]=\" + str(b))\n",
    "a[a % 3 == 0] = -1         # 同時更改多個True索引\n",
    "print(\"a[a%3==0]=-1->\" + str(a))"
   ]
  },
  {
   "cell_type": "code",
   "execution_count": 25,
   "metadata": {
    "jupyter": {
     "outputs_hidden": true
    }
   },
   "outputs": [
    {
     "name": "stdout",
     "output_type": "stream",
     "text": [
      "a=\n",
      "[[ 1  2  3]\n",
      " [ 4  5  6]\n",
      " [ 7  8  9]\n",
      " [10 11 12]]\n",
      "\n",
      "a[[0,1,2],[0,1,0]]=\n",
      "[1 5 7]\n",
      "\n",
      "np.array([a[0,0],a[1,1],a[2,0]])=\n",
      "[1 5 7]\n",
      "\n",
      "idx=[0 2 0 1]\n",
      "a[np.arange(4),idx]=\n",
      "[ 1  6  7 11]\n",
      "\n",
      "a[np.arange(4), idx] += 10->\n",
      "[[11  2  3]\n",
      " [ 4  5 16]\n",
      " [17  8  9]\n",
      " [10 21 12]]\n"
     ]
    }
   ],
   "source": [
    "# 使用複雜索引取出元素 \n",
    "\n",
    "import numpy as np\n",
    "\n",
    "a = np.array([[1,2,3],[4,5,6],[7,8,9],[10,11,12]])\n",
    "print(\"a=\")\n",
    "print(a)\n",
    "\n",
    "print()\n",
    "b = a[[0,1,2],[0,1,0]]   # 索引 [0,0][1,1][2,0]\n",
    "print(\"a[[0,1,2],[0,1,0]]=\")\n",
    "print(b)\n",
    "\n",
    "print()\n",
    "b = np.array([a[0,0],a[1,1],a[2,0]])  # 索引 [0,0][1,1][2,0]\n",
    "print(\"np.array([a[0,0],a[1,1],a[2,0]])=\")\n",
    "print(b)\n",
    "\n",
    "print()\n",
    "idx = np.array([0, 2, 0, 1])\n",
    "print(\"idx=\" + str(idx))\n",
    "b = a[np.arange(4), idx]     # 索引 [0,0][1,2][2,0][3,1]\n",
    "print(\"a[np.arange(4),idx]=\")\n",
    "print(b)\n",
    "\n",
    "print()\n",
    "a[np.arange(4), idx] += 10\n",
    "print(\"a[np.arange(4), idx] += 10->\")\n",
    "print(a)"
   ]
  },
  {
   "cell_type": "code",
   "execution_count": 26,
   "metadata": {
    "jupyter": {
     "outputs_hidden": true
    }
   },
   "outputs": [
    {
     "name": "stdout",
     "output_type": "stream",
     "text": [
      "a=\n",
      "[[1 2]\n",
      " [3 4]\n",
      " [5 6]]\n",
      "\n",
      "mask=\n",
      "[[False False]\n",
      " [ True  True]\n",
      " [ True  True]]\n",
      "\n",
      "a[mask]=[3 4 5 6]\n",
      "\n",
      "a[a>2]=-1->\n",
      "[[ 1  2]\n",
      " [-1 -1]\n",
      " [-1 -1]]\n"
     ]
    }
   ],
   "source": [
    "# 使用整數值索引\n",
    "\n",
    "import numpy as np\n",
    "\n",
    "a = np.array([[1,2],[3,4],[5,6]])\n",
    "print(\"a=\")\n",
    "print(a)\n",
    "\n",
    "print()\n",
    "mask = (a > 2)\n",
    "print(\"mask=\")\n",
    "print(mask)\n",
    "\n",
    "b = a[mask]           # 使用布林值陣列取出值\n",
    "print()\n",
    "print(\"a[mask]=\" + str(b))\n",
    "\n",
    "a[a > 2] = -1         # 同時更改多個True索引\n",
    "print()\n",
    "print(\"a[a>2]=-1->\")\n",
    "print(a)"
   ]
  },
  {
   "cell_type": "markdown",
   "metadata": {},
   "source": [
    "# 改變陣列的形狀\n",
    "1. 廣播:讓不同形狀的陣列執行數學運算\n",
    "當一個小陣列和一個大陣列時，如果沒有廣播機制，我們需要自行先複製小陣列元素，\n",
    "將它擴充成與大陣列相同的形狀後，才能執行2個陣列的數學運算，\n",
    "NumPy廣播機制會自動幫我們擴充小陣列來執行運算\n",
    "\n",
    "2. 重新設定維度: reshape()\n",
    "\n",
    "3. 陣列平坦化: ravel()\n",
    "\n",
    "4. 增加維度: newaxis "
   ]
  },
  {
   "cell_type": "code",
   "execution_count": 27,
   "metadata": {},
   "outputs": [
    {
     "name": "stdout",
     "output_type": "stream",
     "text": [
      "a=\n",
      "[[ 1  2  3]\n",
      " [ 4  5  6]\n",
      " [ 7  8  9]\n",
      " [10 11 12]]\n",
      "a 形狀: (4, 3)\n",
      "\n",
      "b=[1 0 1]\n",
      "b 形狀: (3,)\n",
      "\n",
      "a+b:\n",
      "[[ 2  2  4]\n",
      " [ 5  5  7]\n",
      " [ 8  8 10]\n",
      " [11 11 13]]\n"
     ]
    }
   ],
   "source": [
    "# 廣播\n",
    "import numpy as np\n",
    "\n",
    "a = np.array([[1,2,3],[4,5,6],[7,8,9],[10,11,12]])\n",
    "print(\"a=\")\n",
    "print(a)\n",
    "print(\"a 形狀: \" + str(a.shape))\n",
    "\n",
    "b = np.array([1,0,1])\n",
    "print()\n",
    "print(\"b=\" + str(b))\n",
    "print(\"b 形狀: \" + str(b.shape))\n",
    "\n",
    "print()\n",
    "c = a + b\n",
    "print('a+b:', c, sep ='\\n')"
   ]
  },
  {
   "cell_type": "code",
   "execution_count": 28,
   "metadata": {},
   "outputs": [
    {
     "name": "stdout",
     "output_type": "stream",
     "text": [
      "a:\n",
      " [[ 0]\n",
      " [10]\n",
      " [20]\n",
      " [30]\n",
      " [40]\n",
      " [50]\n",
      " [60]]\n",
      "\n",
      "b:\n",
      " [0 1 2 3 4 5 6]\n",
      "\n",
      "a+b:\n",
      " [[ 0  1  2  3  4  5  6]\n",
      " [10 11 12 13 14 15 16]\n",
      " [20 21 22 23 24 25 26]\n",
      " [30 31 32 33 34 35 36]\n",
      " [40 41 42 43 44 45 46]\n",
      " [50 51 52 53 54 55 56]\n",
      " [60 61 62 63 64 65 66]]\n"
     ]
    }
   ],
   "source": [
    "import numpy as np\n",
    "a = np.arange(0,61,10).reshape(7,1)\n",
    "b = np.arange(7)\n",
    "print('a:\\n', a)\n",
    "print('\\nb:\\n',b)\n",
    "c = a + b\n",
    "print('\\na+b:\\n', c)"
   ]
  },
  {
   "cell_type": "markdown",
   "metadata": {},
   "source": [
    "## 多維轉為一維 ravel()\n",
    "* np.ravel(@ndarray)\n",
    "* @ndarray.ravel()\n",
    "* 陣列平坦化:將二維陣列平坦化成一維陣列, python提供兩種格式\n",
    "* ravel 英文意思為解開線團"
   ]
  },
  {
   "cell_type": "code",
   "execution_count": 172,
   "metadata": {},
   "outputs": [
    {
     "name": "stdout",
     "output_type": "stream",
     "text": [
      "a=\n",
      "[[1 2 3]\n",
      " [4 5 6]]\n",
      "a.ravel()=[1 2 3 4 5 6]\n",
      "np.ravel(a)=[1 2 3 4 5 6]\n"
     ]
    }
   ],
   "source": [
    "import numpy as np\n",
    "\n",
    "a = np.array([[1,2,3],[4,5,6]])\n",
    "print(\"a=\")\n",
    "print(a)\n",
    "\n",
    "b = a.ravel()\n",
    "print(\"a.ravel()=\" + str(b))\n",
    "b = np.ravel(a)\n",
    "print(\"np.ravel(a)=\" + str(b))"
   ]
  },
  {
   "cell_type": "markdown",
   "metadata": {},
   "source": [
    "## 轉置: T  OR  transpose()"
   ]
  },
  {
   "cell_type": "code",
   "execution_count": 30,
   "metadata": {
    "jupyter": {
     "outputs_hidden": true
    }
   },
   "outputs": [
    {
     "name": "stdout",
     "output_type": "stream",
     "text": [
      "a=[1 2 3 4 5 6]\n",
      "b=np.reshape(a,(3,2))->\n",
      "[[1 2]\n",
      " [3 4]\n",
      " [5 6]]\n",
      "\n",
      "c=b.T->\n",
      "[[1 3 5]\n",
      " [2 4 6]]\n",
      "\n",
      "d=b.transpose()->\n",
      "[[1 3 5]\n",
      " [2 4 6]]\n",
      "\n",
      "e=np.transpose(b)->\n",
      "[[1 3 5]\n",
      " [2 4 6]]\n"
     ]
    }
   ],
   "source": [
    "# .T\n",
    "\n",
    "import numpy as np\n",
    "\n",
    "a = np.array([1,2,3,4,5,6])\n",
    "print(\"a=\" + str(a))\n",
    "\n",
    "b = np.reshape(a,(3,2))\n",
    "print(\"b=np.reshape(a,(3,2))->\")\n",
    "print(b)\n",
    "\n",
    "print()\n",
    "c = b.T\n",
    "print(\"c=b.T->\")\n",
    "print(c)\n",
    "\n",
    "print()\n",
    "d = b.transpose()\n",
    "print(\"d=b.transpose()->\")\n",
    "print(d)\n",
    "\n",
    "print()\n",
    "e = np.transpose(b)\n",
    "print(\"e=np.transpose(b)->\")\n",
    "print(e)"
   ]
  },
  {
   "cell_type": "code",
   "execution_count": 32,
   "metadata": {},
   "outputs": [
    {
     "name": "stdout",
     "output_type": "stream",
     "text": [
      "a=[1 2 3]\n",
      "\n",
      "b=a[:,np.newaxis]->\n",
      "[[1]\n",
      " [2]\n",
      " [3]]\n",
      "shape: (3, 1)\n",
      "\n",
      "c=a[np.newaxis,:]->\n",
      "[[1 2 3]]\n",
      "shape: (1, 3)\n"
     ]
    }
   ],
   "source": [
    "# newaxis 增加維度\n",
    "\n",
    "import numpy as np\n",
    "\n",
    "a = np.array([1,2,3])\n",
    "print(\"a=\" + str(a))\n",
    "\n",
    "print()\n",
    "b = a[:, np.newaxis]\n",
    "print(\"b=a[:,np.newaxis]->\")\n",
    "print(b)\n",
    "print('shape:', b.shape)\n",
    "\n",
    "print()\n",
    "c = a[np.newaxis, :]\n",
    "print(\"c=a[np.newaxis,:]->\")\n",
    "print(c)\n",
    "print('shape:', c.shape)"
   ]
  },
  {
   "cell_type": "markdown",
   "metadata": {},
   "source": [
    "# 陣列的複製"
   ]
  },
  {
   "cell_type": "code",
   "execution_count": 31,
   "metadata": {},
   "outputs": [
    {
     "name": "stdout",
     "output_type": "stream",
     "text": [
      "[1, 2, 10] [1, 2, 10]\n"
     ]
    }
   ],
   "source": [
    "a1 = [1, 2, 3]\n",
    "b1 = a1\n",
    "b1[2] = 10\n",
    "print(a1, b1)"
   ]
  },
  {
   "cell_type": "code",
   "execution_count": 33,
   "metadata": {
    "jupyter": {
     "outputs_hidden": true
    }
   },
   "outputs": [
    {
     "name": "stdout",
     "output_type": "stream",
     "text": [
      "a=[1 2 3]\n",
      "b=a.copy()->[1 2 3]\n",
      "b.fill(4)=[4 4 4]\n",
      "c=np.concatenate((a,b))->[1 2 3 4 4 4]\n"
     ]
    }
   ],
   "source": [
    "# 陣列形狀與內容操作 –陣列複製、填滿值和連接陣列\n",
    "\n",
    "import numpy as np\n",
    "\n",
    "a = np.array([1,2,3])\n",
    "print(\"a=\" + str(a))\n",
    "\n",
    "b = a.copy()   # 不使用 b = a，a和b會指向同一個位址，修改內容時，兩者的內容都會一起改變\n",
    "print(\"b=a.copy()->\" + str(b))\n",
    "b.fill(4)\n",
    "print(\"b.fill(4)=\" + str(b))\n",
    "c = np.concatenate((a,b))\n",
    "print(\"c=np.concatenate((a,b))->\" + str(c)) # \n"
   ]
  },
  {
   "cell_type": "code",
   "execution_count": 34,
   "metadata": {
    "jupyter": {
     "outputs_hidden": true
    }
   },
   "outputs": [
    {
     "name": "stdout",
     "output_type": "stream",
     "text": [
      "[5 2 3]\n"
     ]
    }
   ],
   "source": [
    "a = np.array([1,2,3])\n",
    "b = a    # 用這種方式設定，a和b會指向同一個位址，修改內容時，兩者的內容都會一起改變，所以若是一般的複製，會使用 b = a.copy()\n",
    "b[0] = 5\n",
    "print(a)"
   ]
  },
  {
   "cell_type": "markdown",
   "metadata": {},
   "source": [
    "# 陣列的運算"
   ]
  },
  {
   "cell_type": "markdown",
   "metadata": {},
   "source": [
    "## universal function (簡稱 ufunc) universal函式\n",
    "\n",
    "* 意義：NUmpy提供對陣列中全部元素進行運算，並有回傳功能的函式\n",
    "* 例如：np.sum(), np.square(), np.sin()...\n",
    "\n",
    "* 註：使用以下方法，在type中可以看到是否屬於ufunc\n",
    "    * numpy.函式名稱?\n"
   ]
  },
  {
   "cell_type": "code",
   "execution_count": 35,
   "metadata": {
    "jupyter": {
     "outputs_hidden": true
    }
   },
   "outputs": [],
   "source": [
    "import numpy as np\n",
    "\n",
    "np.sin?"
   ]
  },
  {
   "cell_type": "code",
   "execution_count": 36,
   "metadata": {
    "jupyter": {
     "outputs_hidden": true
    }
   },
   "outputs": [
    {
     "name": "stdout",
     "output_type": "stream",
     "text": [
      "[[ 6  9 12]\n",
      " [15 18 21]]\n"
     ]
    }
   ],
   "source": [
    "# 陣列與常數的運算\n",
    "\n",
    "import numpy as np\n",
    "a=np.array([[3,6,9],[12,15,18]])\n",
    "b = a +3\n",
    "print(b)"
   ]
  },
  {
   "cell_type": "code",
   "execution_count": 37,
   "metadata": {
    "jupyter": {
     "outputs_hidden": true
    }
   },
   "outputs": [
    {
     "name": "stdout",
     "output_type": "stream",
     "text": [
      "a:\n",
      " [[ 2  4  6]\n",
      " [ 8 10 12]]\n",
      "\n",
      "b:\n",
      " [[1 2 3]\n",
      " [4 5 6]]\n",
      "\n",
      "a+b:\n",
      " [[ 3  6  9]\n",
      " [12 15 18]]\n",
      "\n",
      "a-b:\n",
      " [[1 2 3]\n",
      " [4 5 6]]\n",
      "\n",
      "a*b:\n",
      " [[ 2  8 18]\n",
      " [32 50 72]]\n",
      "\n",
      "a/b:\n",
      " [[2. 2. 2.]\n",
      " [2. 2. 2.]]\n"
     ]
    }
   ],
   "source": [
    "#兩個陣列的加減乘除法 (*非矩陣乘法*)\n",
    "import numpy as np\n",
    "a=np.array([[2,4,6],[8,10,12]])\n",
    "b=np.arange(1,7).reshape((2,3)) \n",
    "print(\"a:\\n\", a)\n",
    "print(\"\\nb:\\n\", b)\n",
    "print(\"\\na+b:\\n\", a+b)\n",
    "print(\"\\na-b:\\n\", a-b)\n",
    "print(\"\\na*b:\\n\", a*b)\n",
    "print(\"\\na/b:\\n\", a/b)"
   ]
  },
  {
   "cell_type": "code",
   "execution_count": 38,
   "metadata": {
    "jupyter": {
     "outputs_hidden": true
    }
   },
   "outputs": [
    {
     "name": "stdout",
     "output_type": "stream",
     "text": [
      "[[  4  16  36]\n",
      " [ 64 100 144]]\n",
      "\n",
      "[[False  True  True]\n",
      " [ True  True  True]]\n"
     ]
    }
   ],
   "source": [
    "import numpy as np\n",
    "a=np.array([[2,4,6],[8,10,12]])\n",
    "a = a ** 2  # 平方\n",
    "print(a)\n",
    "\n",
    "print()\n",
    "print(a>10)"
   ]
  },
  {
   "cell_type": "markdown",
   "metadata": {},
   "source": [
    "## 矩陣乘法 dot()"
   ]
  },
  {
   "cell_type": "code",
   "execution_count": 39,
   "metadata": {
    "jupyter": {
     "outputs_hidden": true
    }
   },
   "outputs": [
    {
     "name": "stdout",
     "output_type": "stream",
     "text": [
      "[[ 2  4  6]\n",
      " [ 8 10 12]]\n",
      "[[0 3]\n",
      " [1 4]\n",
      " [2 5]]\n",
      "[[ 16  52]\n",
      " [ 34 124]]\n"
     ]
    }
   ],
   "source": [
    "# 矩陣乘法 numpy.dot()\n",
    "import numpy as np\n",
    "a=np.array([[2,4,6],[8,10,12]])\n",
    "b=np.arange(6).reshape((2,3)) \n",
    "print(a)\n",
    "print(b.T) # transpose\n",
    "print(np.dot(a,b.T))"
   ]
  },
  {
   "cell_type": "markdown",
   "metadata": {},
   "source": [
    "## sum()"
   ]
  },
  {
   "cell_type": "code",
   "execution_count": 40,
   "metadata": {
    "jupyter": {
     "outputs_hidden": true
    }
   },
   "outputs": [
    {
     "name": "stdout",
     "output_type": "stream",
     "text": [
      "[[ 3  6  9]\n",
      " [12 15 18]]\n",
      "\n",
      "sum(a): 63\n",
      "sum(a, axis=1): [18 45]\n",
      "sum(a, axis=0): [15 21 27]\n",
      "[18 45]\n"
     ]
    }
   ],
   "source": [
    "# 我們可以指定參數axis軸的連接方向，參數值0是直向，可以連接在二維陣列的下方；值1是橫向\n",
    "import numpy as np\n",
    "a=np.array([[3,6,9],[12,15,18]])\n",
    "\n",
    "print(a)\n",
    "print()\n",
    "print(\"sum(a):\", np.sum(a))\n",
    "print(\"sum(a, axis=1):\",np.sum(a, axis=1))\n",
    "\n",
    "print(\"sum(a, axis=0):\",np.sum(a, axis=0))\n",
    "\n",
    "print(a.sum(axis = 1))"
   ]
  },
  {
   "cell_type": "markdown",
   "metadata": {
    "jupyter": {
     "outputs_hidden": true
    }
   },
   "source": [
    "## 合併&增加  concatenate()\n",
    "* concatenate() 可以合併兩個陣列或加入元素"
   ]
  },
  {
   "cell_type": "code",
   "execution_count": 41,
   "metadata": {
    "jupyter": {
     "outputs_hidden": true
    }
   },
   "outputs": [
    {
     "name": "stdout",
     "output_type": "stream",
     "text": [
      "c=np.concatenate((a,b))->\n",
      "[[1 2]\n",
      " [3 4]\n",
      " [5 6]\n",
      " [7 8]]\n",
      "c=np.concatenate((a,b), axis=0)->\n",
      "[[1 2]\n",
      " [3 4]\n",
      " [5 6]\n",
      " [7 8]]\n",
      "c=np.concatenate((a,b), axis=1)->\n",
      "[[1 2 5 6]\n",
      " [3 4 7 8]]\n"
     ]
    }
   ],
   "source": [
    "# 使用np.concatenate()函數連接多個二維陣列時，\n",
    "# 我們可以指定參數axis軸的連接方向，參數值0是直向，可以連接在二維陣列的下方；值1是橫向，預設為0\n",
    "\n",
    "import numpy as np\n",
    "\n",
    "a = np.array([[1,2],[3,4]])\n",
    "b = np.array([[5,6],[7,8]])\n",
    "\n",
    "c = np.concatenate((a,b))\n",
    "print(\"c=np.concatenate((a,b))->\")\n",
    "print(c)\n",
    "c = np.concatenate((a,b), axis=0)\n",
    "print(\"c=np.concatenate((a,b), axis=0)->\")\n",
    "print(c)\n",
    "c = np.concatenate((a,b), axis=1)\n",
    "print(\"c=np.concatenate((a,b), axis=1)->\")\n",
    "print(c)"
   ]
  },
  {
   "cell_type": "code",
   "execution_count": 42,
   "metadata": {
    "jupyter": {
     "outputs_hidden": true
    }
   },
   "outputs": [
    {
     "name": "stdout",
     "output_type": "stream",
     "text": [
      "[ 2  4  6  8 10 12]\n",
      "\n",
      "[0 1 2 3 4 5 6 7 8 9]\n",
      "\n",
      "[ 2  4  6  8 10 12  0  1  2  3  4  5  6  7  8  9]\n",
      "\n",
      "[ 2  4  6  8 10 12 10 20]\n"
     ]
    }
   ],
   "source": [
    "import numpy as np\n",
    "a = np.array([2,4,6,8,10,12])\n",
    "b = np.arange(10)\n",
    "c = np.concatenate((a,b))\n",
    "d = np.concatenate((a,[10,20]))\n",
    "print(a,b,c,d, sep=\"\\n\\n\")"
   ]
  },
  {
   "cell_type": "code",
   "execution_count": 43,
   "metadata": {
    "jupyter": {
     "outputs_hidden": true
    }
   },
   "outputs": [
    {
     "name": "stdout",
     "output_type": "stream",
     "text": [
      "[[1 1 1]\n",
      " [2 2 2]]\n",
      "[1 1 1 2 2 2]\n",
      "[1 1 1 2 2 2]\n"
     ]
    }
   ],
   "source": [
    "# Numpy array 合併\n",
    "\n",
    "import numpy as np\n",
    "A = np.array([1,1,1])\n",
    "B = np.array([2,2,2])\n",
    "\n",
    "print(np.vstack((A,B))) #vertical\n",
    "\n",
    "print(np.hstack((A,B))) #horizontal, 和np.concatenate((A, B), axis=0)一樣\n",
    "\n",
    "c = np.concatenate((A, B), axis=0)\n",
    "print(c)"
   ]
  },
  {
   "cell_type": "markdown",
   "metadata": {},
   "source": [
    "## 排序 sort()"
   ]
  },
  {
   "cell_type": "code",
   "execution_count": 44,
   "metadata": {},
   "outputs": [
    {
     "name": "stdout",
     "output_type": "stream",
     "text": [
      "[[80 34 14 60 42]\n",
      " [48  6 89 91 62]\n",
      " [16 34 37 34 22]\n",
      " [58 58 81  1 51]]\n",
      "\n",
      "b = np.sort(a, axis = 1):\n",
      "\n",
      "[[14 34 42 60 80]\n",
      " [ 6 48 62 89 91]\n",
      " [16 22 34 34 37]\n",
      " [ 1 51 58 58 81]]\n",
      "\n",
      "a:\n",
      "\n",
      "[[80 34 14 60 42]\n",
      " [48  6 89 91 62]\n",
      " [16 34 37 34 22]\n",
      " [58 58 81  1 51]]\n",
      "\n",
      "a.sort(axis = 1)之後a的值改變了：\n",
      "\n",
      "[[14 34 42 60 80]\n",
      " [ 6 48 62 89 91]\n",
      " [16 22 34 34 37]\n",
      " [ 1 51 58 58 81]]\n"
     ]
    }
   ],
   "source": [
    "# 值的排序有兩種\n",
    "# np.sort(a, ...)   -> 傳回排序後的陣列，變數本身的值不會改變\n",
    "# a.sort()   -> 變數本身的值會改變\n",
    "# sort 可以指定排序的方法(使用 kind參數設定)：quick sort, bubble sort, heap sort....\n",
    "\n",
    "import numpy as np\n",
    "\n",
    "a = np.random.randint(1, 100, (4, 5))\n",
    "print(a)\n",
    "\n",
    "print('\\nb = np.sort(a, axis = 1):\\n')\n",
    "b = np.sort(a, axis = 1) # 同一列內做排序\n",
    "print(b)\n",
    "\n",
    "print('\\na:\\n')\n",
    "print(a)   # 原來的內容不變\n",
    "\n",
    "print('\\na.sort(axis = 1)之後a的值改變了：\\n')\n",
    "a.sort(axis = 1)\n",
    "print(a)"
   ]
  },
  {
   "cell_type": "code",
   "execution_count": 45,
   "metadata": {},
   "outputs": [],
   "source": [
    "np.sort?"
   ]
  },
  {
   "cell_type": "markdown",
   "metadata": {},
   "source": [
    "# Numpy的亂數\n",
    "\n",
    "* 格式為： numpy.random.亂數的方法()"
   ]
  },
  {
   "cell_type": "markdown",
   "metadata": {},
   "source": [
    "* seed(int) : 指定亂數函數的種子數，這是整數值，同一個種子數會產生相同的亂數序列\n",
    " * seed(5)\n",
    "* random() : 產生0.0~1.0之間的亂數，如 0.7298076072029743\n",
    " * random(5):產生0.0~1.0之間的亂數5個，形成5個元素的串列，如[ 0.58607119  0.37147243  0.05337405  0.49300567  0.10304672]\n",
    " * random((3,4)))：產生二維陣列的亂數\n",
    "\n",
    "* randint(min,max,size) : 產生min~max之間的整數亂數，不含max，如果有第3個參數可以產生此形式的陣列\n",
    " * randint(5, 10)：產生5~10之間的整數亂數，不含10\n",
    " * randint(5, 10, 6)：產生產生5到10(不含)的整數6個的陣列　[8 7 6 8 6 6]\n",
    " * randint(1, 101, (3,4))：產生5到10(不含)的整數3*4個的二維陣列\n",
    "<pre>\n",
    "[[ 52  61 100  23]\n",
    " [ 18  76   5  85]\n",
    " [ 99  96  93  57]] </pre>\n",
    " \n",
    "* rand()： 可以產生亂數值或是多維的陣列\n",
    " * rand()：產生0至1之間的小數亂數，例如　0.9760298522559884\n",
    " * rand(5)： 5個亂數值的串列，例如：[ 0.64355233  0.06190279  0.0139926   0.49136906  0.18873564]\n",
    " * rand(3,2,4)：三維的亂數\n",
    "<pre>\n",
    "[[[ 0.03954012  0.44242043  0.14827974  0.56508804]\n",
    "  [ 0.81026024  0.35193408  0.67416147  0.3857823 ]]\n",
    "\n",
    " [[ 0.75199775  0.68688449  0.11550551  0.74191692]\n",
    "  [ 0.59480112  0.6741724   0.83223916  0.07394322]]\n",
    "\n",
    " [[ 0.56966074  0.50914309  0.80103979  0.99366129]\n",
    "  [ 0.57323325  0.15629903  0.39392062  0.98063935]]] </pre>\n",
    "\n",
    "* np.random.randn(): 類似rand()，可以產生標準常態分佈的樣本資料\n",
    "* np.random.normal(loc=xx, scale=xx, size=xx)：功能如同.randn()，但是可以產生各種常態分布的資料，且可以產生亂數的陣列 (loc 為平均數，預設為0，scale為標準差，預設為1，xx表示自由輸入的數字）\n",
    " * np.random.normal(10,3,5)  # 產生5個平均數為 10，標準差為 3 的常態分布的亂數\n",
    " * np.random.normal(10,3,(2,4)) # 產生二維陣列平均數為 10，標準差為 3 的常態分布的亂數 （共有2*4個）\n",
    " \n",
    "* np.random.choice()\n",
    "    * 参数意思分别 是从a 中以概率P，随机选择3个, p没有指定的时候相当于是一致的分布，replace = True 表示放回再抽\n",
    "    * a = list(range(1, 7))\n",
    "    * print(a)\n",
    "    * a1 = np.random.choice(a, size=3, replace=False, p=None)\n",
    "* np.random.shuffle(串列) \n",
    "    * 將串列打亂\n",
    "\n",
    "原文網址：https://kknews.cc/zh-tw/other/29er599.html\n"
   ]
  },
  {
   "cell_type": "code",
   "execution_count": 46,
   "metadata": {
    "jupyter": {
     "outputs_hidden": true
    }
   },
   "outputs": [
    {
     "name": "stdout",
     "output_type": "stream",
     "text": [
      "throws1: 1\n",
      "throws2: 2\n",
      "throws3: [1 0 1 1 1 0 1 0 0 0]\n",
      "throws4: [0 1 0 1 0 1 1 1 0 0]\n",
      "throws5: [[1 0 0 1]\n",
      " [1 0 0 0]\n",
      " [1 1 1 1]]\n"
     ]
    }
   ],
   "source": [
    "# random.randint() 與 numpy.random.randint()之差異\n",
    "import numpy as np\n",
    "import random\n",
    "\n",
    "throws1 = np.random.randint(0, 2)  # exclude 2\n",
    "throws2 = random.randint(0,2)  # include 2\n",
    "\n",
    "throws3 = np.random.randint(low=0, high=2, size=10) # 100 random numbers\n",
    "throws4 = np.random.randint(0, 2, 10)  # 10 random numbers, no argument names\n",
    "throws5 = np.random.randint(0, 2, (3,4))\n",
    "print(\"throws1:\", throws1)\n",
    "print(\"throws2:\", throws2)\n",
    "print(\"throws3:\", throws3)\n",
    "print(\"throws4:\", throws4)\n",
    "print(\"throws5:\", throws5)"
   ]
  },
  {
   "cell_type": "code",
   "execution_count": 47,
   "metadata": {
    "jupyter": {
     "outputs_hidden": true
    }
   },
   "outputs": [
    {
     "name": "stdout",
     "output_type": "stream",
     "text": [
      "0.6541953333272281\n",
      "\n",
      "[0.38391355 0.16245223 0.17389961 0.82431291 0.39278555]\n",
      "\n",
      "[[[0.82395443 0.22169704 0.76577035 0.73127241]\n",
      "  [0.13391873 0.206846   0.70728369 0.09727872]]\n",
      "\n",
      " [[0.84013279 0.14432041 0.82287406 0.44073119]\n",
      "  [0.97393275 0.9986436  0.90859196 0.27461394]]\n",
      "\n",
      " [[0.26861292 0.60649151 0.30834071 0.74765184]\n",
      "  [0.78077861 0.73837961 0.34245072 0.45397828]]]\n"
     ]
    }
   ],
   "source": [
    "import numpy as np\n",
    "print(np.random.rand())\n",
    "print()\n",
    "\n",
    "print(np.random.rand(5)) # 5個亂數值的串列\n",
    "print()\n",
    "\n",
    "print(np.random.rand(3,2,4))  # 三維的亂數"
   ]
  },
  {
   "cell_type": "code",
   "execution_count": 48,
   "metadata": {
    "jupyter": {
     "outputs_hidden": true
    }
   },
   "outputs": [
    {
     "name": "stdout",
     "output_type": "stream",
     "text": [
      "0.7084478557032612\n",
      "\n",
      "[0.18558948 0.20123812 0.64462511 0.89941859 0.32493393]\n",
      "\n",
      "[1 1 1 2 2 2]\n"
     ]
    }
   ],
   "source": [
    "import numpy as np\n",
    "a = np.random.random()\n",
    "b = np.random.random(5)\n",
    "print(a, b, c, sep = '\\n\\n')"
   ]
  },
  {
   "cell_type": "code",
   "execution_count": 49,
   "metadata": {
    "jupyter": {
     "outputs_hidden": true
    }
   },
   "outputs": [
    {
     "name": "stdout",
     "output_type": "stream",
     "text": [
      "0.3367724725390667 0.5269343749958971\n",
      "6 46\n",
      "\n",
      "[8 7 6 8 6 6]\n",
      "\n",
      "[[ 52  61 100  23]\n",
      " [ 18  76   5  85]\n",
      " [ 99  96  93  57]]\n"
     ]
    }
   ],
   "source": [
    "import numpy as np\n",
    "\n",
    "np.random.seed(293423)\n",
    "\n",
    "v1 = np.random.random()\n",
    "v2 = np.random.random()\n",
    "print(v1, v2)\n",
    "v3 = np.random.randint(5, 10)  #產生5到10(不含)的整數\n",
    "v4 = np.random.randint(1, 101)\n",
    "print(v3, v4)\n",
    "\n",
    "print()\n",
    "v5 = np.random.randint(5, 10, 6) # 產生5到10(不含)的整數6個的陣列\n",
    "v6 = np.random.randint(1, 101, (3,4))#  產生5到10(不含)的整數3*4個的二維陣列\n",
    "print(v5)\n",
    "print()\n",
    "print(v6)\n",
    "?v6"
   ]
  },
  {
   "cell_type": "code",
   "execution_count": 50,
   "metadata": {
    "jupyter": {
     "outputs_hidden": true
    }
   },
   "outputs": [
    {
     "name": "stdout",
     "output_type": "stream",
     "text": [
      "0.4648092770600095\n",
      "\n",
      "[-1.08476786  2.0339594  -0.40370633 -0.48121807 -0.41510009]\n",
      "\n",
      "[[[-1.87786529 -1.27974244  0.43870783 -0.25717143]\n",
      "  [ 0.73472129  0.07402115  1.73449681  1.88650179]]\n",
      "\n",
      " [[ 0.02389854  0.34381783  0.73768333 -0.28236147]\n",
      "  [ 0.23572273 -0.69830466  0.06320116  0.39744967]]\n",
      "\n",
      " [[-2.29596826  0.31087695 -0.80067897 -1.08690637]\n",
      "  [ 1.50062876 -1.04275225 -1.60816675  0.3814968 ]]]\n"
     ]
    }
   ],
   "source": [
    "import numpy as np\n",
    "print(np.random.rand())\n",
    "print()\n",
    "\n",
    "print(np.random.randn(5)) # 產生標準常態分佈的樣本資料的5個亂數值的串列\n",
    "print()\n",
    "\n",
    "print(np.random.randn(3,2,4))  # 三維的亂數"
   ]
  },
  {
   "cell_type": "code",
   "execution_count": 51,
   "metadata": {
    "jupyter": {
     "outputs_hidden": true
    }
   },
   "outputs": [
    {
     "name": "stdout",
     "output_type": "stream",
     "text": [
      "np.random.rand(5)=\n",
      "[0.72980761 0.58607119 0.37147243 0.05337405 0.49300567]\n",
      "\n",
      "np.random.rand(3,2)=\n",
      "[[0.10304672 0.6202105 ]\n",
      " [0.0733859  0.86405515]\n",
      " [0.23368263 0.78149921]]\n",
      "\n",
      "np.random.randint(5,10,size=5)\n",
      "[9 6 6 6 5]\n",
      "\n",
      "np.random.randint(5,10,size=(2,3))\n",
      "[[6 5 6]\n",
      " [6 5 8]]\n",
      "\n",
      "np.random.randint(5,10,size=(2,3))\n",
      "[[6 9 9]\n",
      " [7 7 7]]\n"
     ]
    }
   ],
   "source": [
    "import numpy as np\n",
    "\n",
    "a = np.random.rand(5)\n",
    "print(\"np.random.rand(5)=\")\n",
    "print(a)\n",
    "\n",
    "print()\n",
    "b = np.random.rand(3, 2)  \n",
    "print(\"np.random.rand(3,2)=\")\n",
    "print(b)\n",
    "\n",
    "print()\n",
    "c = np.random.randint(5, 10, size=5)\n",
    "print(\"np.random.randint(5,10,size=5)\")  # size =  可以省略\n",
    "print(c)\n",
    "\n",
    "print()\n",
    "d = np.random.randint(5, 10, size=(2,3))\n",
    "print(\"np.random.randint(5,10,size=(2,3))\")  # size =  可以省略，如下面的敘述\n",
    "print(d)\n",
    "\n",
    "print()\n",
    "d = np.random.randint(5, 10, (2,3))\n",
    "print(\"np.random.randint(5,10,size=(2,3))\") \n",
    "print(d)"
   ]
  },
  {
   "cell_type": "code",
   "execution_count": 52,
   "metadata": {
    "jupyter": {
     "outputs_hidden": true
    }
   },
   "outputs": [
    {
     "name": "stdout",
     "output_type": "stream",
     "text": [
      "[9 8 0 5 2 4 3 7 6 1]\n",
      "[3 1 4]\n",
      "\n",
      "[[16 49 74  4]\n",
      " [68 36  5 58]\n",
      " [37 51 15 48]\n",
      " [82 84 14 20]\n",
      " [35 45 21 57]\n",
      " [27 24 38  9]\n",
      " [70 40 31 80]\n",
      " [28 65 60 46]\n",
      " [ 2 61 83 59]\n",
      " [67  8 71 55]\n",
      " [19 22 29 25]\n",
      " [11  7 12 43]\n",
      " [33 17 64 72]\n",
      " [18 69 75 79]\n",
      " [63 73 44 26]\n",
      " [76 78 42 77]\n",
      " [30 54 52 10]\n",
      " [13 41 62 39]\n",
      " [81 34  1 53]\n",
      " [32  6 66 50]\n",
      " [47  3 56 23]]\n"
     ]
    }
   ],
   "source": [
    "# choice 的使用\n",
    "# 参数意思分别 是从a 中以概率P，随机选择3个, p没有指定的时候相当于是一致的分布，replace = True 表示放回再產生(預設為True)\n",
    "\n",
    "import numpy as np\n",
    "\n",
    "print(np.random.choice(10, 10, replace = False)) # 產生 0至 9不重複的整數亂數 10個\n",
    "\n",
    "a = list(range(1, 7))\n",
    "a1 = np.random.choice(a, size=3, replace=False, p=None)  # 產生 1至 6不重複的整數亂數 3個\n",
    "print(a1)\n",
    "\n",
    "print()\n",
    "a2 = np.random.choice(a=range(1, 85), size=84, replace=False, p=None).reshape(21,4) # 將 1-84的數字用亂數來分組，每4個一組\n",
    "print(a2)"
   ]
  },
  {
   "cell_type": "markdown",
   "metadata": {},
   "source": [
    "# NumPy的通用函式"
   ]
  },
  {
   "cell_type": "markdown",
   "metadata": {},
   "source": [
    "## NumPy針對陣列提供許多通用函式，例如：\n",
    "* add(x1, x2) \n",
    "* subtract(x1, x2) \n",
    "* multiply(x1, x2) \n",
    "* divide(x1, x2) \n",
    "* mod(x1, x2) \n",
    "* power(x1, x2)\n",
    "* isfinite(x) \n",
    "* isinf(x) \n",
    "* isnan(x) \n",
    "* sign(x)\n",
    "* negative(x) \n",
    "* absolute(x) \n",
    "* sum(x) \n",
    "* max(x) \n",
    "* min(x) \n",
    "\n",
    "* rint(x) \n",
    "* floor(x) \n",
    "* ceil(x) \n",
    "* sqrt(x) \n",
    "* square(x) \n",
    "* exp(x) \n",
    "* exp2(x) \n",
    "* log(x) \n",
    "* log2(x) \n",
    "* log10(x) \n",
    "* cos(x)、sin(x)、tan(x)、acos(x)、asin(x)、atan(x) 等三角函式\n",
    "* mean(x) \n",
    "    * 含遺漏值的平均數：np.mean(dataframe物件或欄位)\n",
    "    * 不含遺漏值的平均數： np.nanmean(dataframe物件或欄位)\n",
    "* median(x)  中位數\n",
    "    * 含遺漏值的中數：np.median(dataframe物件或欄位)\n",
    "    * 不含遺漏值的中數： np.nanmedian(dataframe物件或欄位)\n",
    "* std(x)\n",
    "    * 分為母數推估和樣本的標準差兩種，參見統計課程中的講義\n"
   ]
  },
  {
   "cell_type": "code",
   "execution_count": 53,
   "metadata": {
    "jupyter": {
     "outputs_hidden": true
    }
   },
   "outputs": [
    {
     "name": "stdout",
     "output_type": "stream",
     "text": [
      "[0.5        0.70710678 0.8660254 ]\n",
      "[0.8660254  0.70710678 0.5       ]\n",
      "[0.57735027 1.         1.73205081]\n"
     ]
    }
   ],
   "source": [
    "# 三角函式\n",
    "\n",
    "import numpy as np\n",
    "\n",
    "a = np.array([30,45,60]) \n",
    "\n",
    "print(np.sin(a*np.pi/180)) \n",
    "print(np.cos(a*np.pi/180)) \n",
    "print(np.tan(a*np.pi/180)) "
   ]
  },
  {
   "cell_type": "code",
   "execution_count": 54,
   "metadata": {
    "jupyter": {
     "outputs_hidden": true
    }
   },
   "outputs": [
    {
     "name": "stdout",
     "output_type": "stream",
     "text": [
      "3.5\n",
      "[2.5 3.5 4.5]\n",
      "[2.5 3.5 4.5]\n",
      "[2. 5.]\n",
      "[2. 5.]\n"
     ]
    }
   ],
   "source": [
    "# numpy 平均數的用法\n",
    "\n",
    "import numpy as np\n",
    "a = [[1,2,3], [4,5,6]]\n",
    "print(np.mean(a))\n",
    "print(np.mean(a, axis = 0))\n",
    "print(np.mean(a, 0))\n",
    "print(np.mean(a, axis = 1))\n",
    "print(np.mean(a, 1))"
   ]
  },
  {
   "cell_type": "markdown",
   "metadata": {},
   "source": [
    "# 檔案儲存與載入"
   ]
  },
  {
   "cell_type": "code",
   "execution_count": 56,
   "metadata": {
    "jupyter": {
     "outputs_hidden": true
    }
   },
   "outputs": [],
   "source": [
    "# 將陣列儲存成檔案\n"
   ]
  },
  {
   "cell_type": "code",
   "execution_count": 57,
   "metadata": {
    "jupyter": {
     "outputs_hidden": true
    }
   },
   "outputs": [],
   "source": [
    "# 使用二進位檔寫入， 使用save\n",
    "\n",
    "import numpy as np\n",
    "\n",
    "a = np.arange(10)\n",
    "outputfile = \"Example.npy\"\n",
    "with open(outputfile, 'wb') as fp:\n",
    "    np.save(fp, a)"
   ]
  },
  {
   "cell_type": "code",
   "execution_count": 58,
   "metadata": {
    "jupyter": {
     "outputs_hidden": true
    }
   },
   "outputs": [],
   "source": [
    "#  設定分隔字元，delimiter=','\n",
    "# savetxt 儲存成 CSV格式\n",
    "import numpy as np\n",
    "\n",
    "a = np.array([[1,2,3],[4,5,6]])\n",
    "outputfile = \"Example.out\"\n",
    "np.savetxt(outputfile, a, delimiter=',')"
   ]
  },
  {
   "cell_type": "code",
   "execution_count": 59,
   "metadata": {
    "jupyter": {
     "outputs_hidden": true
    }
   },
   "outputs": [
    {
     "data": {
      "text/plain": [
       "(4.0, 5.0, 6.0)"
      ]
     },
     "execution_count": 59,
     "metadata": {},
     "output_type": "execute_result"
    }
   ],
   "source": [
    "# Example.out\n",
    "1.000000000000000000e+00,2.000000000000000000e+00,3.000000000000000000e+00\n",
    "4.000000000000000000e+00,5.000000000000000000e+00,6.000000000000000000e+00"
   ]
  },
  {
   "cell_type": "code",
   "execution_count": 60,
   "metadata": {
    "jupyter": {
     "outputs_hidden": true
    }
   },
   "outputs": [
    {
     "name": "stdout",
     "output_type": "stream",
     "text": [
      "[[1 2 3]\n",
      " [4 5 6]]\n"
     ]
    }
   ],
   "source": [
    "#  設定分隔字元，delimiter=','\n",
    "# savetxt 儲存成 CSV格式\n",
    "import numpy as np\n",
    "\n",
    "a = np.array([[1,2,3],[4,5,6]], dtype = int)\n",
    "outputfile = \"Example.out\"\n",
    "np.savetxt(outputfile, a, delimiter=',')\n",
    "print(a)"
   ]
  },
  {
   "cell_type": "code",
   "execution_count": 61,
   "metadata": {
    "jupyter": {
     "outputs_hidden": true
    }
   },
   "outputs": [
    {
     "data": {
      "text/plain": [
       "(4.0, 5.0, 6.0)"
      ]
     },
     "execution_count": 61,
     "metadata": {},
     "output_type": "execute_result"
    }
   ],
   "source": [
    "# Example.out\n",
    "1.000000000000000000e+00,2.000000000000000000e+00,3.000000000000000000e+00\n",
    "4.000000000000000000e+00,5.000000000000000000e+00,6.000000000000000000e+00"
   ]
  },
  {
   "cell_type": "code",
   "execution_count": 62,
   "metadata": {
    "jupyter": {
     "outputs_hidden": true
    }
   },
   "outputs": [
    {
     "name": "stdout",
     "output_type": "stream",
     "text": [
      "[0 1 2 3 4 5 6 7 8 9]\n"
     ]
    }
   ],
   "source": [
    "# 使用二進位檔讀入， 使用load\n",
    "import numpy as np\n",
    "\n",
    "outputfile = \"Example.npy\"\n",
    "with open(outputfile, 'rb') as fp:\n",
    "    a = np.load(fp)\n",
    "print(a)"
   ]
  },
  {
   "cell_type": "code",
   "execution_count": 63,
   "metadata": {
    "jupyter": {
     "outputs_hidden": true
    }
   },
   "outputs": [
    {
     "name": "stdout",
     "output_type": "stream",
     "text": [
      "[[1. 2. 3.]\n",
      " [4. 5. 6.]]\n",
      "\n",
      "[[1 2 3]\n",
      " [4 5 6]]\n"
     ]
    }
   ],
   "source": [
    "# 使用CSV檔讀入， 使用loadtxt\n",
    "import numpy as np\n",
    "\n",
    "outputfile = \"Example.out\"\n",
    "a = np.loadtxt(outputfile, delimiter=',')\n",
    "print(a)\n",
    "print()\n",
    "\n",
    "b = a.astype(int)\n",
    "print(b)"
   ]
  },
  {
   "cell_type": "markdown",
   "metadata": {},
   "source": [
    "# Numpy陣列的記憶體位置"
   ]
  },
  {
   "cell_type": "code",
   "execution_count": 64,
   "metadata": {},
   "outputs": [
    {
     "name": "stdout",
     "output_type": "stream",
     "text": [
      "[ 1  3 10] [ 1  3 10]\n",
      "2558245083056 2558245083056\n"
     ]
    }
   ],
   "source": [
    "# 設定變數等於另一串列變數，更改數值時，原變數也會改變，因為兩個串列的位址相同\n",
    "\n",
    "import numpy as np\n",
    "a = np.array([1, 3, 5])\n",
    "b = a\n",
    "b[2] = 10\n",
    "print(a, b)\n",
    "print(id(a), id(b))"
   ]
  },
  {
   "cell_type": "code",
   "execution_count": 65,
   "metadata": {},
   "outputs": [
    {
     "name": "stdout",
     "output_type": "stream",
     "text": [
      "[0 1 2 3 4 5 6 7 8 9]\n",
      "[0 1 2 3 4 5 6 7 8 9]\n",
      "[0 1 2 3 4 5 6 7 8 9]\n",
      "\n",
      "\n",
      "2558245083632\n",
      "2558245084016\n",
      "2558245083056\n"
     ]
    }
   ],
   "source": [
    "# 拷貝串列的值給新的變數的方式 (tuple, dic等進階資料型態亦同)\n",
    "\n",
    "a = np.array(range(10))\n",
    "# 方法一\n",
    "b = a[:]\n",
    "\n",
    "# 方法二\n",
    "c = a.copy()\n",
    "\n",
    "print(a, b, c, sep = '\\n')\n",
    "print('\\n', id(a), id(b), id(c), sep = '\\n')\n"
   ]
  },
  {
   "cell_type": "code",
   "execution_count": 66,
   "metadata": {},
   "outputs": [
    {
     "name": "stdout",
     "output_type": "stream",
     "text": [
      "a, b -> True\n",
      "a, c -> False\n",
      "a, d -> True\n"
     ]
    }
   ],
   "source": [
    "# 判斷是否使用共同的記憶體\n",
    "# np.may_share_memory()\n",
    "\n",
    "a = np.array(range(10))\n",
    "# 方法一\n",
    "b = a[:]\n",
    "\n",
    "# 方法二\n",
    "c = a.copy()\n",
    "d = a\n",
    "\n",
    "print('a, b ->', np.may_share_memory(a, b))\n",
    "print('a, c ->', np.may_share_memory(a, c))\n",
    "print('a, d ->', np.may_share_memory(a, d))"
   ]
  },
  {
   "cell_type": "markdown",
   "metadata": {},
   "source": [
    "# 12. 多項式\n",
    "\n",
    "- numpy.poly1d(多項式的係數數列)   \n",
    "    - poly＋數字1 + d"
   ]
  },
  {
   "cell_type": "code",
   "execution_count": 67,
   "metadata": {},
   "outputs": [
    {
     "name": "stdout",
     "output_type": "stream",
     "text": [
      "多項式的根: [-2. -1.]\n",
      "次方數: 2\n",
      "係數: [1 3 2]\n"
     ]
    }
   ],
   "source": [
    "import numpy as np\n",
    "\n",
    "p = np.poly1d([1, 3, 2])   # 二次多項式的係數\n",
    "print('多項式的根:', p.roots)   # 多項式的根\n",
    "print('次方數:', p.order)   # 次方數\n",
    "print('係數:', p.coeffs)  # 係數"
   ]
  },
  {
   "cell_type": "markdown",
   "metadata": {
    "collapsed": true,
    "jupyter": {
     "outputs_hidden": true
    }
   },
   "source": [
    "## 參考書目：\n",
    "\n",
    "- 陳允傑（2018）。Python資料科學與人工智慧應用實務。 台北：旗標。\n",
    "- 黃永昌（2019）。打下最紮實的AI基礎：從scikit-learn：一步一腳印。台北：佳魁數位。"
   ]
  }
 ],
 "metadata": {
  "kernelspec": {
   "display_name": "Python 3",
   "language": "python",
   "name": "python3"
  },
  "language_info": {
   "codemirror_mode": {
    "name": "ipython",
    "version": 3
   },
   "file_extension": ".py",
   "mimetype": "text/x-python",
   "name": "python",
   "nbconvert_exporter": "python",
   "pygments_lexer": "ipython3",
   "version": "3.9.7"
  },
  "toc": {
   "base_numbering": 1,
   "nav_menu": {},
   "number_sections": true,
   "sideBar": true,
   "skip_h1_title": false,
   "title_cell": "Table of Contents",
   "title_sidebar": "Contents",
   "toc_cell": false,
   "toc_position": {
    "height": "calc(100% - 180px)",
    "left": "10px",
    "top": "150px",
    "width": "374.391px"
   },
   "toc_section_display": true,
   "toc_window_display": true
  }
 },
 "nbformat": 4,
 "nbformat_minor": 4
}
