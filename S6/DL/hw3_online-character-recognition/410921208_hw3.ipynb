{
 "cells": [
  {
   "cell_type": "code",
   "execution_count": 54,
   "metadata": {},
   "outputs": [],
   "source": [
    "import torch\n",
    "import torch.nn as nn\n",
    "from torch.utils.data import Dataset, DataLoader, random_split\n",
    "from torchvision import datasets, transforms\n",
    "from tqdm.notebook import tqdm as tqdm\n",
    "from PIL import Image\n",
    "import os\n",
    "from pathlib import Path\n",
    "from datetime import datetime\n",
    "import math\n",
    "import numpy as np\n",
    "import pandas as pd\n",
    "from matplotlib import pyplot as plt"
   ]
  },
  {
   "cell_type": "code",
   "execution_count": 55,
   "metadata": {},
   "outputs": [
    {
     "name": "stdout",
     "output_type": "stream",
     "text": [
      "cuda\n"
     ]
    }
   ],
   "source": [
    "if torch.cuda.is_available():\n",
    "    device = torch.device('cuda')\n",
    "    torch.backends.cudnn.benchmark = True\n",
    "else:\n",
    "    device = torch.device('cpu')\n",
    "\n",
    "print(device)"
   ]
  },
  {
   "cell_type": "code",
   "execution_count": 56,
   "metadata": {},
   "outputs": [],
   "source": [
    "save_dir = str(Path(fr\"./runs/exp\"))"
   ]
  },
  {
   "cell_type": "code",
   "execution_count": 57,
   "metadata": {},
   "outputs": [],
   "source": [
    "num_workers = 8\n",
    "batch_size = 16\n",
    "epoch_num = 100\n",
    "\n",
    "LR = 1e-4\n",
    "EPS = 1e-9\n",
    "LR_STEP = 20\n",
    "LR_GAMMA = 0.7"
   ]
  },
  {
   "cell_type": "code",
   "execution_count": 58,
   "metadata": {},
   "outputs": [],
   "source": [
    "class CustomImageDataset(Dataset):\n",
    "    def __init__(self):\n",
    "        self.data = pd.read_csv('data/train_in.csv').drop(['Serial No.'], axis=1)  # 從csv文件中讀取數據\n",
    "        self.label = pd.read_csv('data/train_out.csv') # 從csv文件中讀取數據\n",
    "        self.reshaped_data = torch.from_numpy(self.data.values.reshape(-1, 8, 2)).to(torch.float32)\n",
    "\n",
    "    def __len__(self):\n",
    "        return len(self.data)  # 返回數據集的大小\n",
    "\n",
    "    def __getitem__(self, idx):\n",
    "        data = self.reshaped_data[idx]\n",
    "        label = torch.tensor(self.label.iloc[idx, 1], dtype=torch.long)\n",
    "        return data, label  # 返回圖像和標籤"
   ]
  },
  {
   "cell_type": "code",
   "execution_count": 59,
   "metadata": {},
   "outputs": [
    {
     "name": "stdout",
     "output_type": "stream",
     "text": [
      "7494\n"
     ]
    }
   ],
   "source": [
    "# 創建一個自定義的圖像數據集對象\n",
    "dataset = CustomImageDataset()\n",
    "\n",
    "# 計算訓練集的大小，通常是數據集的80%\n",
    "train_size = int(0.8 * len(dataset))\n",
    "\n",
    "# 驗證集的大小就是剩餘的部分\n",
    "val_size = len(dataset) - train_size\n",
    "\n",
    "# 使用random_split函數隨機分割數據集為訓練集和驗證集\n",
    "train_dataset, valid_dataset = random_split(dataset, [train_size, val_size])\n",
    "\n",
    "# 創建一個數據加載器的字典，對訓練集和驗證集分別進行加載\n",
    "# shuffle參數設為True表示在每個訓練時期開始時，數據加載器會重新洗牌數據\n",
    "dataloaders = {x: DataLoader(y, batch_size=batch_size, shuffle=z) \n",
    "               for x, y, z in zip(['train', 'valid'], [train_dataset, valid_dataset], [True, False])}\n",
    "\n",
    "# 打印整個數據集的大小\n",
    "print(len(dataset)) \n"
   ]
  },
  {
   "cell_type": "code",
   "execution_count": 7,
   "metadata": {},
   "outputs": [],
   "source": [
    "class RNNModel(nn.Module):\n",
    "    def __init__(self, input_size, hidden_size, output_size, num_layers):\n",
    "        super(RNNModel, self).__init__()\n",
    "\n",
    "        self.hidden_size = hidden_size\n",
    "        self.num_layers = num_layers\n",
    "\n",
    "        # RNN 層\n",
    "        self.rnn = nn.RNN(input_size, hidden_size, num_layers, batch_first=True)\n",
    "\n",
    "        # 全連接層，將 RNN 的輸出轉換為類別預測\n",
    "        self.fc = nn.Linear(hidden_size, output_size)\n",
    "\n",
    "    def forward(self, x):\n",
    "        # 初始化隱藏狀態\n",
    "        h0 = torch.zeros(self.num_layers, x.size(0), self.hidden_size).to(x.device)\n",
    "\n",
    "        # 獲取 RNN 的輸出\n",
    "        out, _ = self.rnn(x, h0)\n",
    "\n",
    "        # 只需要最後一步的輸出給全連接層\n",
    "        out = out[:, -1, :]\n",
    "\n",
    "        # 通過全連接層獲得最終的類別預測\n",
    "        out = self.fc(out)\n",
    "\n",
    "        return out"
   ]
  },
  {
   "cell_type": "code",
   "execution_count": 8,
   "metadata": {},
   "outputs": [],
   "source": [
    "class LSTMModel(nn.Module):\n",
    "    def __init__(self, input_size, hidden_size, output_size, num_layers):\n",
    "        super(LSTMModel, self).__init__()\n",
    "\n",
    "        self.hidden_size = hidden_size\n",
    "        self.num_layers = num_layers\n",
    "\n",
    "        # LSTM 層\n",
    "        self.lstm = nn.LSTM(input_size, hidden_size, num_layers, batch_first=True)\n",
    "\n",
    "        # 全連接層，將 LSTM 的輸出轉換為類別預測\n",
    "        self.fc = nn.Linear(hidden_size, output_size)\n",
    "\n",
    "    def forward(self, x):\n",
    "        # 初始化隱藏狀態和 cell 狀態\n",
    "        h0 = torch.zeros(self.num_layers, x.size(0), self.hidden_size).to(x.device)\n",
    "        c0 = torch.zeros(self.num_layers, x.size(0), self.hidden_size).to(x.device)\n",
    "\n",
    "        # 獲取 LSTM 的輸出\n",
    "        out, _ = self.lstm(x, (h0, c0))\n",
    "\n",
    "        # 只需要最後一步的輸出給全連接層\n",
    "        out = out[:, -1, :]\n",
    "\n",
    "        # 通過全連接層獲得最終的類別預測\n",
    "        out = self.fc(out)\n",
    "\n",
    "        return out\n"
   ]
  },
  {
   "cell_type": "code",
   "execution_count": 60,
   "metadata": {},
   "outputs": [],
   "source": [
    "class GRUModel(nn.Module):\n",
    "    def __init__(self, input_size, hidden_size, output_size, num_layers):\n",
    "        super(GRUModel, self).__init__()\n",
    "\n",
    "        self.hidden_size = hidden_size\n",
    "        self.num_layers = num_layers\n",
    "\n",
    "        # 將RNN換成GRU\n",
    "        self.gru = nn.GRU(input_size, hidden_size, num_layers, batch_first=True)\n",
    "\n",
    "        # 全連接層，將 GRU 的輸出轉換為類別預測\n",
    "        self.fc = nn.Linear(hidden_size, output_size)\n",
    "\n",
    "    def forward(self, x):\n",
    "        # 初始化隱藏狀態\n",
    "        h0 = torch.zeros(self.num_layers, x.size(0), self.hidden_size).to(x.device)\n",
    "\n",
    "        # 獲取 GRU 的輸出\n",
    "        out, _ = self.gru(x, h0)\n",
    "\n",
    "        # 只需要最後一步的輸出給全連接層\n",
    "        out = out[:, -1, :]\n",
    "\n",
    "        # 通過全連接層獲得最終的類別預測\n",
    "        out = self.fc(out)\n",
    "\n",
    "        return out\n"
   ]
  },
  {
   "cell_type": "code",
   "execution_count": 63,
   "metadata": {},
   "outputs": [],
   "source": [
    "# model_name =  RNNModel\n",
    "# model_name =  LSTMModel\n",
    "model_name =  GRUModel\n",
    "\n",
    "model_kwargs = {\n",
    "    'input_size': 2,    # 輸入的特徵維度\n",
    "    'hidden_size': 64,  # 隱藏層的大小 \n",
    "    'output_size': 10,  # 輸出的類別數量\n",
    "    'num_layers': 5,    # RNN 的層數\n",
    "}\n",
    "\n",
    "\n",
    "# 建立模型\n",
    "# model = RNNModel(**model_kwargs)\n",
    "# model = LSTMModel(**model_kwargs)\n",
    "model = GRUModel(**model_kwargs)\n",
    "\n",
    "# 選擇優化器，使用AdamW\n",
    "optimizer = torch.optim.AdamW(model.parameters(), lr=LR, eps=EPS)\n",
    "# 使用SGD作為優化器\n",
    "# optimizer = torch.optim.SGD(model.parameters(), lr=LR)\n",
    "\n",
    "# 使用ReduceLROnPlateau學習率調度器，當某指標停止改進時，減少學習率\n",
    "lr_scheduler = torch.optim.lr_scheduler.ReduceLROnPlateau(optimizer, \n",
    "                                                          mode='min', \n",
    "                                                          factor=0.5, \n",
    "                                                          patience=30, \n",
    "                                                          verbose=True, \n",
    "                                                          threshold=0.0001, \n",
    "                                                          threshold_mode='rel', \n",
    "                                                          cooldown=50, \n",
    "                                                          min_lr=0, \n",
    "                                                          eps=EPS)\n",
    "\n",
    "# 使用ReduceLROnPlateau學習率調度器，當epoch計數器到一定值後會更先學習率\n",
    "# lr_scheduler = torch.optim.lr_scheduler.StepLR(optimizer, step_size=LR_STEP, gamma=LR_GAMMA)\n",
    "\n",
    "# 選擇損失函數，這裡我們使用交叉熵損失函數\n",
    "criterion = nn.CrossEntropyLoss()\n"
   ]
  },
  {
   "cell_type": "code",
   "execution_count": 64,
   "metadata": {},
   "outputs": [
    {
     "name": "stdout",
     "output_type": "stream",
     "text": [
      "Warning: module GRUModel is treated as a zero-op.\n",
      "GRUModel(\n",
      "  113.55 k, 100.000% Params, 921.74 KMac, 100.000% MACs, \n",
      "  (gru): GRU(112.9 k, 99.428% Params, 921.09 KMac, 99.929% MACs, 2, 64, num_layers=5, batch_first=True)\n",
      "  (fc): Linear(650, 0.572% Params, 650.0 Mac, 0.071% MACs, in_features=64, out_features=10, bias=True)\n",
      ")\n",
      "Computational complexity:       921.74 KMac\n",
      "Number of parameters:           113.55 k\n"
     ]
    }
   ],
   "source": [
    "# 導入ptflops庫，用於獲取模型的複雜度信息\n",
    "from ptflops import get_model_complexity_info\n",
    "\n",
    "# 指定使用第一塊GPU（索引為0）\n",
    "with torch.cuda.device(0):\n",
    "    # 獲取模型的複雜度信息，包括MACs和參數數量\n",
    "    macs, params = get_model_complexity_info(model, (8, 2), as_strings=True,\n",
    "                                           print_per_layer_stat=True, verbose=True)\n",
    "    # 打印模型的計算複雜度（MACs）\n",
    "    print('{:<30}  {:<8}'.format('Computational complexity: ', macs))\n",
    "    # 打印模型的參數數量\n",
    "    print('{:<30}  {:<8}'.format('Number of parameters: ', params))\n"
   ]
  },
  {
   "cell_type": "code",
   "execution_count": 65,
   "metadata": {},
   "outputs": [],
   "source": [
    "ckpt = {\n",
    "    'epoch': 0,\n",
    "    'model_name': model_name,\n",
    "    'model_args': model_kwargs,\n",
    "    'model_state_dict': model.state_dict(),\n",
    "    'optimizer_state_dict': optimizer.state_dict(),\n",
    "    'lr_scheduler_state_dict': lr_scheduler.state_dict(),\n",
    "    'criterion': criterion,\n",
    "    'history': {\n",
    "        'train_loss': [], \n",
    "        'valid_loss': [],\n",
    "        'train_top1_accuracy': [], \n",
    "        'valid_top1_accuracy': [],\n",
    "        'valid_loss_min': np.Inf,\n",
    "        'train_loss_min': np.Inf,\n",
    "        'best_acc': 0.0,\n",
    "    },\n",
    "    'readme': \"\",\n",
    "    'date': datetime.now().isoformat(),\n",
    "}"
   ]
  },
  {
   "cell_type": "code",
   "execution_count": 66,
   "metadata": {},
   "outputs": [],
   "source": [
    "def increment_path(path, exist_ok=False, sep='', mkdir=False):\n",
    "    # 增加文件或目錄路徑，例如將 runs/exp 變成 runs/exp{sep}2, runs/exp{sep}3, ... 等等。\n",
    "    path = Path(path)  # 使路徑符合作業系統\n",
    "\n",
    "    if path.exists() and not exist_ok:\n",
    "        # 如果路徑存在且不允許重複，則進行增量操作\n",
    "        path, suffix = (path.with_suffix(''), path.suffix) if path.is_file() else (path, '')\n",
    "\n",
    "        for n in range(2, 9999):\n",
    "            p = f'{path}{sep}{n}{suffix}'  # 增加路徑\n",
    "            if not os.path.exists(p):  # 如果新路徑不存在，則跳出迴圈\n",
    "                break\n",
    "        path = Path(p)  # 將新路徑轉換為 Path 物件\n",
    "\n",
    "    if mkdir:\n",
    "        # 如果 mkdir 為 True，則創建新目錄\n",
    "        path.mkdir(parents=True, exist_ok=True)  \n",
    "\n",
    "    return str(path)  # 返回字符串形式的路徑"
   ]
  },
  {
   "cell_type": "code",
   "execution_count": 67,
   "metadata": {},
   "outputs": [],
   "source": [
    "def train(ckpt, \n",
    "          save_dir, \n",
    "          model, \n",
    "          dataloaders, \n",
    "          optimizer, \n",
    "          lr_scheduler=None,\n",
    "          num_epochs=100,\n",
    "          dtype=torch.float32, \n",
    "          device='cpu'):\n",
    "\n",
    "    # 將儲存目錄轉換為 Path 物件\n",
    "    save_dir = Path(save_dir)\n",
    "    # 使用 increment_path 增加儲存目錄的路徑，避免複寫先前資料\n",
    "    save_dir = increment_path(\n",
    "        Path(save_dir), exist_ok=(False if ckpt['epoch'] == 0 else True), mkdir=True)\n",
    "\n",
    "    # 將模型移動到指定的裝置上，同步model的資料型別(要跟data 相同，不然會報錯)\n",
    "    model = model.to(dtype=dtype).to(device)\n",
    "\n",
    "    # 以存檔來初始化模型、優化器、學習率調度器和損失函數，如果程式碼意外停止，也能以ckpt來繼續訓練\n",
    "    model.load_state_dict(ckpt['model_state_dict'])\n",
    "    optimizer.load_state_dict(ckpt['optimizer_state_dict'])\n",
    "    if (lr_scheduler):\n",
    "        lr_scheduler.load_state_dict(ckpt['lr_scheduler_state_dict'])\n",
    "    criterion = ckpt['criterion']\n",
    "\n",
    "    # 開始訓練循環\n",
    "    for epoch in range(1, num_epochs + 1):\n",
    "\n",
    "        # 初始化訓練和驗證的損失和準確率\n",
    "        train_loss = 0.0\n",
    "        valid_loss = 0.0\n",
    "        train_top1 = 0.0\n",
    "        valid_top1 = 0.0\n",
    "        print(f\"running epoch: {ckpt['epoch'] + 1}\")\n",
    "\n",
    "        # 設定模型為訓練模式\n",
    "        model.train()\n",
    "        for x, y in tqdm(dataloaders['train']):\n",
    "            # 將優化器中的梯度清零\n",
    "            optimizer.zero_grad()\n",
    "            # 將輸入和標籤移動到指定的裝置上\n",
    "            x = x.to(device)\n",
    "            y = y.to(device)\n",
    "\n",
    "            # 前向傳播，計算預測和損失\n",
    "            predictions = model(x)\n",
    "            loss = criterion(predictions, y)\n",
    "            # 反向傳播，計算梯度\n",
    "            loss.backward()\n",
    "            # 使用優化器更新權重\n",
    "            optimizer.step()\n",
    "\n",
    "            # 累計訓練損失和準確率\n",
    "            train_loss += loss.item() * x.size(0)\n",
    "            train_top1 += torch.sum(torch.argmax(predictions, 1) == y).item()\n",
    "\n",
    "        # 設定模型為驗證模式\n",
    "        model.eval()\n",
    "        with torch.no_grad():\n",
    "            for x, y in tqdm(dataloaders['valid']):\n",
    "                # 將輸入和標籤移動到指定的裝置上\n",
    "                x = x.to(device)\n",
    "                y = y.to(device)\n",
    "\n",
    "                # 前向傳播，計算預測和損失\n",
    "                predictions = model(x)\n",
    "                loss = criterion(predictions, y)\n",
    "\n",
    "                # 累計驗證損失和準確率\n",
    "                valid_loss += loss.item() * x.size(0)\n",
    "                valid_top1 += torch.sum(torch.argmax(predictions, 1) == y).item()\n",
    "\n",
    "        # 如果有設置學習率調度器，則以驗證損失作為指標調整學習率\n",
    "        if (lr_scheduler):\n",
    "            lr_scheduler.step(valid_loss)\n",
    "\n",
    "        # 計算訓練和驗證的平均損失和準確率\n",
    "        train_loss = train_loss / len(dataloaders['train'].sampler)\n",
    "        valid_loss = valid_loss / len(dataloaders['valid'].sampler)\n",
    "        train_top1_acc = train_top1 / len(dataloaders['train'].sampler)\n",
    "        valid_top1_acc = valid_top1 / len(dataloaders['valid'].sampler)\n",
    "\n",
    "        # 將這一輪的訓練和驗證損失和準確率添加到歷史記錄中\n",
    "        ckpt['history']['train_loss'].append(train_loss)\n",
    "        ckpt['history']['valid_loss'].append(valid_loss)\n",
    "        ckpt['history']['train_top1_accuracy'].append(train_top1_acc)\n",
    "        ckpt['history']['valid_top1_accuracy'].append(valid_top1_acc)\n",
    "\n",
    "        # 打印這一輪的訓練和驗證損失和準確率\n",
    "        print(\n",
    "            f'Train loss     -> {train_loss:.6f}      \\\n",
    "                Validation loss     -> {valid_loss:.6f}')\n",
    "        print(\n",
    "            f'Train top1 acc -> {train_top1_acc:.6f}      \\\n",
    "                Validation top1 acc -> {valid_top1_acc:.6f}')\n",
    "\n",
    "        # 更新和保存檢查點信息\n",
    "        ckpt['epoch'] += 1\n",
    "        ckpt['model_state_dict'] = model.state_dict()\n",
    "        ckpt['optimizer_state_dict'] = optimizer.state_dict()\n",
    "        if (lr_scheduler):\n",
    "            ckpt['lr_scheduler_state_dict'] = lr_scheduler.state_dict()\n",
    "        ckpt['date'] = datetime.now().isoformat()\n",
    "\n",
    "        # 如果驗證損失降低，則保存模型\n",
    "        if valid_loss <= ckpt['history']['valid_loss_min']:\n",
    "            print(\n",
    "                f\"Validation loss decreased ({ckpt['history']['valid_loss_min']:.6f} \\\n",
    "                    --> {valid_loss:.6f}).  Saving model ...\")\n",
    "            ckpt['history']['valid_loss_min'] = valid_loss\n",
    "            torch.save(ckpt, str(Path(save_dir) / Path('valid_best.pth')))\n",
    "\n",
    "        # 每10輪保存一次檢查點\n",
    "        if (epoch) % 10 == 0:\n",
    "            torch.save(ckpt, str(Path(save_dir) / Path(f'ckpt_{epoch}.pth')))\n",
    "        torch.save(ckpt, str(Path(save_dir) / Path(f'last.pth')))"
   ]
  },
  {
   "cell_type": "code",
   "execution_count": 68,
   "metadata": {},
   "outputs": [
    {
     "name": "stdout",
     "output_type": "stream",
     "text": [
      "running epoch: 1\n"
     ]
    },
    {
     "data": {
      "application/vnd.jupyter.widget-view+json": {
       "model_id": "a4a2edeb59b3464aa80b73fae8ad2fea",
       "version_major": 2,
       "version_minor": 0
      },
      "text/plain": [
       "  0%|          | 0/375 [00:00<?, ?it/s]"
      ]
     },
     "metadata": {},
     "output_type": "display_data"
    },
    {
     "data": {
      "application/vnd.jupyter.widget-view+json": {
       "model_id": "7544de65802b4f00861cf94994af64a8",
       "version_major": 2,
       "version_minor": 0
      },
      "text/plain": [
       "  0%|          | 0/94 [00:00<?, ?it/s]"
      ]
     },
     "metadata": {},
     "output_type": "display_data"
    },
    {
     "name": "stdout",
     "output_type": "stream",
     "text": [
      "Train loss     -> 1.978738                      Validation loss     -> 1.476231\n",
      "Train top1 acc -> 0.329108                      Validation top1 acc -> 0.525684\n",
      "Validation loss decreased (inf                     --> 1.476231).  Saving model ...\n",
      "running epoch: 2\n"
     ]
    },
    {
     "data": {
      "application/vnd.jupyter.widget-view+json": {
       "model_id": "2fda5fb1472942b8a4d405356b28b758",
       "version_major": 2,
       "version_minor": 0
      },
      "text/plain": [
       "  0%|          | 0/375 [00:00<?, ?it/s]"
      ]
     },
     "metadata": {},
     "output_type": "display_data"
    },
    {
     "data": {
      "application/vnd.jupyter.widget-view+json": {
       "model_id": "4c24d96f0462491db5d80aeed6f12915",
       "version_major": 2,
       "version_minor": 0
      },
      "text/plain": [
       "  0%|          | 0/94 [00:00<?, ?it/s]"
      ]
     },
     "metadata": {},
     "output_type": "display_data"
    },
    {
     "name": "stdout",
     "output_type": "stream",
     "text": [
      "Train loss     -> 1.114403                      Validation loss     -> 0.885188\n",
      "Train top1 acc -> 0.678065                      Validation top1 acc -> 0.753169\n",
      "Validation loss decreased (1.476231                     --> 0.885188).  Saving model ...\n",
      "running epoch: 3\n"
     ]
    },
    {
     "data": {
      "application/vnd.jupyter.widget-view+json": {
       "model_id": "2dde88930fb642cfb020d323890a7d53",
       "version_major": 2,
       "version_minor": 0
      },
      "text/plain": [
       "  0%|          | 0/375 [00:00<?, ?it/s]"
      ]
     },
     "metadata": {},
     "output_type": "display_data"
    },
    {
     "data": {
      "application/vnd.jupyter.widget-view+json": {
       "model_id": "7844328db27f4305a55e6f7d1274c4d4",
       "version_major": 2,
       "version_minor": 0
      },
      "text/plain": [
       "  0%|          | 0/94 [00:00<?, ?it/s]"
      ]
     },
     "metadata": {},
     "output_type": "display_data"
    },
    {
     "name": "stdout",
     "output_type": "stream",
     "text": [
      "Train loss     -> 0.723967                      Validation loss     -> 0.652791\n",
      "Train top1 acc -> 0.802002                      Validation top1 acc -> 0.828552\n",
      "Validation loss decreased (0.885188                     --> 0.652791).  Saving model ...\n",
      "running epoch: 4\n"
     ]
    },
    {
     "data": {
      "application/vnd.jupyter.widget-view+json": {
       "model_id": "78a1430c81004fd281233b91ce216a19",
       "version_major": 2,
       "version_minor": 0
      },
      "text/plain": [
       "  0%|          | 0/375 [00:00<?, ?it/s]"
      ]
     },
     "metadata": {},
     "output_type": "display_data"
    },
    {
     "data": {
      "application/vnd.jupyter.widget-view+json": {
       "model_id": "08bbccdbde2e4af98d18c7e5159e59e9",
       "version_major": 2,
       "version_minor": 0
      },
      "text/plain": [
       "  0%|          | 0/94 [00:00<?, ?it/s]"
      ]
     },
     "metadata": {},
     "output_type": "display_data"
    },
    {
     "name": "stdout",
     "output_type": "stream",
     "text": [
      "Train loss     -> 0.542493                      Validation loss     -> 0.500258\n",
      "Train top1 acc -> 0.859049                      Validation top1 acc -> 0.866578\n",
      "Validation loss decreased (0.652791                     --> 0.500258).  Saving model ...\n",
      "running epoch: 5\n"
     ]
    },
    {
     "data": {
      "application/vnd.jupyter.widget-view+json": {
       "model_id": "f778ca3b090a43498c5a7f0ca64fc0eb",
       "version_major": 2,
       "version_minor": 0
      },
      "text/plain": [
       "  0%|          | 0/375 [00:00<?, ?it/s]"
      ]
     },
     "metadata": {},
     "output_type": "display_data"
    },
    {
     "data": {
      "application/vnd.jupyter.widget-view+json": {
       "model_id": "7079c0c240e846ad9f7c746fef3d3c0c",
       "version_major": 2,
       "version_minor": 0
      },
      "text/plain": [
       "  0%|          | 0/94 [00:00<?, ?it/s]"
      ]
     },
     "metadata": {},
     "output_type": "display_data"
    },
    {
     "name": "stdout",
     "output_type": "stream",
     "text": [
      "Train loss     -> 0.418970                      Validation loss     -> 0.410343\n",
      "Train top1 acc -> 0.891576                      Validation top1 acc -> 0.891261\n",
      "Validation loss decreased (0.500258                     --> 0.410343).  Saving model ...\n",
      "running epoch: 6\n"
     ]
    },
    {
     "data": {
      "application/vnd.jupyter.widget-view+json": {
       "model_id": "6c42083468084a57820150e7eb54e735",
       "version_major": 2,
       "version_minor": 0
      },
      "text/plain": [
       "  0%|          | 0/375 [00:00<?, ?it/s]"
      ]
     },
     "metadata": {},
     "output_type": "display_data"
    },
    {
     "data": {
      "application/vnd.jupyter.widget-view+json": {
       "model_id": "d3908fb891b047c9995c41afaa98015a",
       "version_major": 2,
       "version_minor": 0
      },
      "text/plain": [
       "  0%|          | 0/94 [00:00<?, ?it/s]"
      ]
     },
     "metadata": {},
     "output_type": "display_data"
    },
    {
     "name": "stdout",
     "output_type": "stream",
     "text": [
      "Train loss     -> 0.339558                      Validation loss     -> 0.340809\n",
      "Train top1 acc -> 0.915930                      Validation top1 acc -> 0.909273\n",
      "Validation loss decreased (0.410343                     --> 0.340809).  Saving model ...\n",
      "running epoch: 7\n"
     ]
    },
    {
     "data": {
      "application/vnd.jupyter.widget-view+json": {
       "model_id": "bc232f9c06f440f0a78832a2da4964da",
       "version_major": 2,
       "version_minor": 0
      },
      "text/plain": [
       "  0%|          | 0/375 [00:00<?, ?it/s]"
      ]
     },
     "metadata": {},
     "output_type": "display_data"
    },
    {
     "data": {
      "application/vnd.jupyter.widget-view+json": {
       "model_id": "8ab90c4c85b84a9ca7dad6a5ab9d7759",
       "version_major": 2,
       "version_minor": 0
      },
      "text/plain": [
       "  0%|          | 0/94 [00:00<?, ?it/s]"
      ]
     },
     "metadata": {},
     "output_type": "display_data"
    },
    {
     "name": "stdout",
     "output_type": "stream",
     "text": [
      "Train loss     -> 0.279991                      Validation loss     -> 0.282888\n",
      "Train top1 acc -> 0.927273                      Validation top1 acc -> 0.925951\n",
      "Validation loss decreased (0.340809                     --> 0.282888).  Saving model ...\n",
      "running epoch: 8\n"
     ]
    },
    {
     "data": {
      "application/vnd.jupyter.widget-view+json": {
       "model_id": "f6424250ce394642ad7a6f30acea7cbf",
       "version_major": 2,
       "version_minor": 0
      },
      "text/plain": [
       "  0%|          | 0/375 [00:00<?, ?it/s]"
      ]
     },
     "metadata": {},
     "output_type": "display_data"
    },
    {
     "data": {
      "application/vnd.jupyter.widget-view+json": {
       "model_id": "39a9b22c45ee475a81b676395642779c",
       "version_major": 2,
       "version_minor": 0
      },
      "text/plain": [
       "  0%|          | 0/94 [00:00<?, ?it/s]"
      ]
     },
     "metadata": {},
     "output_type": "display_data"
    },
    {
     "name": "stdout",
     "output_type": "stream",
     "text": [
      "Train loss     -> 0.233129                      Validation loss     -> 0.251254\n",
      "Train top1 acc -> 0.939450                      Validation top1 acc -> 0.933289\n",
      "Validation loss decreased (0.282888                     --> 0.251254).  Saving model ...\n",
      "running epoch: 9\n"
     ]
    },
    {
     "data": {
      "application/vnd.jupyter.widget-view+json": {
       "model_id": "c72639a6df914749987a3a0ba95bfdf6",
       "version_major": 2,
       "version_minor": 0
      },
      "text/plain": [
       "  0%|          | 0/375 [00:00<?, ?it/s]"
      ]
     },
     "metadata": {},
     "output_type": "display_data"
    },
    {
     "data": {
      "application/vnd.jupyter.widget-view+json": {
       "model_id": "0544774d5dac494691f1d91cf6dad147",
       "version_major": 2,
       "version_minor": 0
      },
      "text/plain": [
       "  0%|          | 0/94 [00:00<?, ?it/s]"
      ]
     },
     "metadata": {},
     "output_type": "display_data"
    },
    {
     "name": "stdout",
     "output_type": "stream",
     "text": [
      "Train loss     -> 0.201114                      Validation loss     -> 0.219104\n",
      "Train top1 acc -> 0.946622                      Validation top1 acc -> 0.939293\n",
      "Validation loss decreased (0.251254                     --> 0.219104).  Saving model ...\n",
      "running epoch: 10\n"
     ]
    },
    {
     "data": {
      "application/vnd.jupyter.widget-view+json": {
       "model_id": "f3ec862fdd404ad8b2956bf264cd8a16",
       "version_major": 2,
       "version_minor": 0
      },
      "text/plain": [
       "  0%|          | 0/375 [00:00<?, ?it/s]"
      ]
     },
     "metadata": {},
     "output_type": "display_data"
    },
    {
     "data": {
      "application/vnd.jupyter.widget-view+json": {
       "model_id": "9f37b72fd586402d83c64b95053b15d4",
       "version_major": 2,
       "version_minor": 0
      },
      "text/plain": [
       "  0%|          | 0/94 [00:00<?, ?it/s]"
      ]
     },
     "metadata": {},
     "output_type": "display_data"
    },
    {
     "name": "stdout",
     "output_type": "stream",
     "text": [
      "Train loss     -> 0.172364                      Validation loss     -> 0.212048\n",
      "Train top1 acc -> 0.954962                      Validation top1 acc -> 0.937959\n",
      "Validation loss decreased (0.219104                     --> 0.212048).  Saving model ...\n",
      "running epoch: 11\n"
     ]
    },
    {
     "data": {
      "application/vnd.jupyter.widget-view+json": {
       "model_id": "378c180a186f4bacb1c78c33b17ed960",
       "version_major": 2,
       "version_minor": 0
      },
      "text/plain": [
       "  0%|          | 0/375 [00:00<?, ?it/s]"
      ]
     },
     "metadata": {},
     "output_type": "display_data"
    },
    {
     "data": {
      "application/vnd.jupyter.widget-view+json": {
       "model_id": "719087810d554e55a2da28e197ff857c",
       "version_major": 2,
       "version_minor": 0
      },
      "text/plain": [
       "  0%|          | 0/94 [00:00<?, ?it/s]"
      ]
     },
     "metadata": {},
     "output_type": "display_data"
    },
    {
     "name": "stdout",
     "output_type": "stream",
     "text": [
      "Train loss     -> 0.149763                      Validation loss     -> 0.183815\n",
      "Train top1 acc -> 0.961635                      Validation top1 acc -> 0.946631\n",
      "Validation loss decreased (0.212048                     --> 0.183815).  Saving model ...\n",
      "running epoch: 12\n"
     ]
    },
    {
     "data": {
      "application/vnd.jupyter.widget-view+json": {
       "model_id": "0b31537f06fd4a26a5c077623ffd2395",
       "version_major": 2,
       "version_minor": 0
      },
      "text/plain": [
       "  0%|          | 0/375 [00:00<?, ?it/s]"
      ]
     },
     "metadata": {},
     "output_type": "display_data"
    },
    {
     "data": {
      "application/vnd.jupyter.widget-view+json": {
       "model_id": "51a4e4f9feb5428d8257f7a646e1ab5b",
       "version_major": 2,
       "version_minor": 0
      },
      "text/plain": [
       "  0%|          | 0/94 [00:00<?, ?it/s]"
      ]
     },
     "metadata": {},
     "output_type": "display_data"
    },
    {
     "name": "stdout",
     "output_type": "stream",
     "text": [
      "Train loss     -> 0.133641                      Validation loss     -> 0.178338\n",
      "Train top1 acc -> 0.964971                      Validation top1 acc -> 0.945964\n",
      "Validation loss decreased (0.183815                     --> 0.178338).  Saving model ...\n",
      "running epoch: 13\n"
     ]
    },
    {
     "data": {
      "application/vnd.jupyter.widget-view+json": {
       "model_id": "98bf466aa9854392a220cbb97d215f30",
       "version_major": 2,
       "version_minor": 0
      },
      "text/plain": [
       "  0%|          | 0/375 [00:00<?, ?it/s]"
      ]
     },
     "metadata": {},
     "output_type": "display_data"
    },
    {
     "data": {
      "application/vnd.jupyter.widget-view+json": {
       "model_id": "539acbe9a8be469097bbd3b5193e5ee4",
       "version_major": 2,
       "version_minor": 0
      },
      "text/plain": [
       "  0%|          | 0/94 [00:00<?, ?it/s]"
      ]
     },
     "metadata": {},
     "output_type": "display_data"
    },
    {
     "name": "stdout",
     "output_type": "stream",
     "text": [
      "Train loss     -> 0.118389                      Validation loss     -> 0.166991\n",
      "Train top1 acc -> 0.968641                      Validation top1 acc -> 0.953969\n",
      "Validation loss decreased (0.178338                     --> 0.166991).  Saving model ...\n",
      "running epoch: 14\n"
     ]
    },
    {
     "data": {
      "application/vnd.jupyter.widget-view+json": {
       "model_id": "45727121a6fd44bbb854bfdaa4d6dd8d",
       "version_major": 2,
       "version_minor": 0
      },
      "text/plain": [
       "  0%|          | 0/375 [00:00<?, ?it/s]"
      ]
     },
     "metadata": {},
     "output_type": "display_data"
    },
    {
     "data": {
      "application/vnd.jupyter.widget-view+json": {
       "model_id": "d38a1b405d214a6fa2eaea9754a1c9e5",
       "version_major": 2,
       "version_minor": 0
      },
      "text/plain": [
       "  0%|          | 0/94 [00:00<?, ?it/s]"
      ]
     },
     "metadata": {},
     "output_type": "display_data"
    },
    {
     "name": "stdout",
     "output_type": "stream",
     "text": [
      "Train loss     -> 0.109256                      Validation loss     -> 0.138994\n",
      "Train top1 acc -> 0.970809                      Validation top1 acc -> 0.962642\n",
      "Validation loss decreased (0.166991                     --> 0.138994).  Saving model ...\n",
      "running epoch: 15\n"
     ]
    },
    {
     "data": {
      "application/vnd.jupyter.widget-view+json": {
       "model_id": "2899edbe380041188b494a706ab1acf1",
       "version_major": 2,
       "version_minor": 0
      },
      "text/plain": [
       "  0%|          | 0/375 [00:00<?, ?it/s]"
      ]
     },
     "metadata": {},
     "output_type": "display_data"
    },
    {
     "data": {
      "application/vnd.jupyter.widget-view+json": {
       "model_id": "953b7c08d60d4c668b37d9110bd7cb4e",
       "version_major": 2,
       "version_minor": 0
      },
      "text/plain": [
       "  0%|          | 0/94 [00:00<?, ?it/s]"
      ]
     },
     "metadata": {},
     "output_type": "display_data"
    },
    {
     "name": "stdout",
     "output_type": "stream",
     "text": [
      "Train loss     -> 0.099564                      Validation loss     -> 0.135532\n",
      "Train top1 acc -> 0.972477                      Validation top1 acc -> 0.957305\n",
      "Validation loss decreased (0.138994                     --> 0.135532).  Saving model ...\n",
      "running epoch: 16\n"
     ]
    },
    {
     "data": {
      "application/vnd.jupyter.widget-view+json": {
       "model_id": "0139712c383f4371b1ce8ae3b7a88f8a",
       "version_major": 2,
       "version_minor": 0
      },
      "text/plain": [
       "  0%|          | 0/375 [00:00<?, ?it/s]"
      ]
     },
     "metadata": {},
     "output_type": "display_data"
    },
    {
     "data": {
      "application/vnd.jupyter.widget-view+json": {
       "model_id": "26c26ad08da34ac89eab1cb96dbf26b4",
       "version_major": 2,
       "version_minor": 0
      },
      "text/plain": [
       "  0%|          | 0/94 [00:00<?, ?it/s]"
      ]
     },
     "metadata": {},
     "output_type": "display_data"
    },
    {
     "name": "stdout",
     "output_type": "stream",
     "text": [
      "Train loss     -> 0.087740                      Validation loss     -> 0.124501\n",
      "Train top1 acc -> 0.977982                      Validation top1 acc -> 0.965977\n",
      "Validation loss decreased (0.135532                     --> 0.124501).  Saving model ...\n",
      "running epoch: 17\n"
     ]
    },
    {
     "data": {
      "application/vnd.jupyter.widget-view+json": {
       "model_id": "fb90fa37b5f34c2c91b5907d59c9f351",
       "version_major": 2,
       "version_minor": 0
      },
      "text/plain": [
       "  0%|          | 0/375 [00:00<?, ?it/s]"
      ]
     },
     "metadata": {},
     "output_type": "display_data"
    },
    {
     "data": {
      "application/vnd.jupyter.widget-view+json": {
       "model_id": "35df7fa5f8b94b4d9c7ea69e57430567",
       "version_major": 2,
       "version_minor": 0
      },
      "text/plain": [
       "  0%|          | 0/94 [00:00<?, ?it/s]"
      ]
     },
     "metadata": {},
     "output_type": "display_data"
    },
    {
     "name": "stdout",
     "output_type": "stream",
     "text": [
      "Train loss     -> 0.081263                      Validation loss     -> 0.112892\n",
      "Train top1 acc -> 0.978315                      Validation top1 acc -> 0.969313\n",
      "Validation loss decreased (0.124501                     --> 0.112892).  Saving model ...\n",
      "running epoch: 18\n"
     ]
    },
    {
     "data": {
      "application/vnd.jupyter.widget-view+json": {
       "model_id": "12fb2d8da51d47f1b4b45f607615f839",
       "version_major": 2,
       "version_minor": 0
      },
      "text/plain": [
       "  0%|          | 0/375 [00:00<?, ?it/s]"
      ]
     },
     "metadata": {},
     "output_type": "display_data"
    },
    {
     "data": {
      "application/vnd.jupyter.widget-view+json": {
       "model_id": "afeb58d4e0b64fa9bcc0ddab6f3180ba",
       "version_major": 2,
       "version_minor": 0
      },
      "text/plain": [
       "  0%|          | 0/94 [00:00<?, ?it/s]"
      ]
     },
     "metadata": {},
     "output_type": "display_data"
    },
    {
     "name": "stdout",
     "output_type": "stream",
     "text": [
      "Train loss     -> 0.071395                      Validation loss     -> 0.122909\n",
      "Train top1 acc -> 0.981985                      Validation top1 acc -> 0.966644\n",
      "running epoch: 19\n"
     ]
    },
    {
     "data": {
      "application/vnd.jupyter.widget-view+json": {
       "model_id": "c1ba1ce801904af4b6aec8b5056efdde",
       "version_major": 2,
       "version_minor": 0
      },
      "text/plain": [
       "  0%|          | 0/375 [00:00<?, ?it/s]"
      ]
     },
     "metadata": {},
     "output_type": "display_data"
    },
    {
     "data": {
      "application/vnd.jupyter.widget-view+json": {
       "model_id": "f390c4ed1c494e17bcd4dd0db18a72d6",
       "version_major": 2,
       "version_minor": 0
      },
      "text/plain": [
       "  0%|          | 0/94 [00:00<?, ?it/s]"
      ]
     },
     "metadata": {},
     "output_type": "display_data"
    },
    {
     "name": "stdout",
     "output_type": "stream",
     "text": [
      "Train loss     -> 0.069977                      Validation loss     -> 0.105064\n",
      "Train top1 acc -> 0.980651                      Validation top1 acc -> 0.972648\n",
      "Validation loss decreased (0.112892                     --> 0.105064).  Saving model ...\n",
      "running epoch: 20\n"
     ]
    },
    {
     "data": {
      "application/vnd.jupyter.widget-view+json": {
       "model_id": "6d21e94dcd4c4d18a36ed947b20214e1",
       "version_major": 2,
       "version_minor": 0
      },
      "text/plain": [
       "  0%|          | 0/375 [00:00<?, ?it/s]"
      ]
     },
     "metadata": {},
     "output_type": "display_data"
    },
    {
     "data": {
      "application/vnd.jupyter.widget-view+json": {
       "model_id": "c6e310bc569e4bd293621d3b61d87b19",
       "version_major": 2,
       "version_minor": 0
      },
      "text/plain": [
       "  0%|          | 0/94 [00:00<?, ?it/s]"
      ]
     },
     "metadata": {},
     "output_type": "display_data"
    },
    {
     "name": "stdout",
     "output_type": "stream",
     "text": [
      "Train loss     -> 0.059848                      Validation loss     -> 0.099101\n",
      "Train top1 acc -> 0.984987                      Validation top1 acc -> 0.972648\n",
      "Validation loss decreased (0.105064                     --> 0.099101).  Saving model ...\n",
      "running epoch: 21\n"
     ]
    },
    {
     "data": {
      "application/vnd.jupyter.widget-view+json": {
       "model_id": "f20d8e996f494fe7948ffe73309d838f",
       "version_major": 2,
       "version_minor": 0
      },
      "text/plain": [
       "  0%|          | 0/375 [00:00<?, ?it/s]"
      ]
     },
     "metadata": {},
     "output_type": "display_data"
    },
    {
     "data": {
      "application/vnd.jupyter.widget-view+json": {
       "model_id": "bc956f640cc543e198f0e44970696681",
       "version_major": 2,
       "version_minor": 0
      },
      "text/plain": [
       "  0%|          | 0/94 [00:00<?, ?it/s]"
      ]
     },
     "metadata": {},
     "output_type": "display_data"
    },
    {
     "name": "stdout",
     "output_type": "stream",
     "text": [
      "Train loss     -> 0.056366                      Validation loss     -> 0.097398\n",
      "Train top1 acc -> 0.984654                      Validation top1 acc -> 0.971981\n",
      "Validation loss decreased (0.099101                     --> 0.097398).  Saving model ...\n",
      "running epoch: 22\n"
     ]
    },
    {
     "data": {
      "application/vnd.jupyter.widget-view+json": {
       "model_id": "f2f5e21b282643fe9fa53985bd58184f",
       "version_major": 2,
       "version_minor": 0
      },
      "text/plain": [
       "  0%|          | 0/375 [00:00<?, ?it/s]"
      ]
     },
     "metadata": {},
     "output_type": "display_data"
    },
    {
     "data": {
      "application/vnd.jupyter.widget-view+json": {
       "model_id": "764f3aa39c5e405cabe1409c066ca703",
       "version_major": 2,
       "version_minor": 0
      },
      "text/plain": [
       "  0%|          | 0/94 [00:00<?, ?it/s]"
      ]
     },
     "metadata": {},
     "output_type": "display_data"
    },
    {
     "name": "stdout",
     "output_type": "stream",
     "text": [
      "Train loss     -> 0.056792                      Validation loss     -> 0.082353\n",
      "Train top1 acc -> 0.984320                      Validation top1 acc -> 0.979987\n",
      "Validation loss decreased (0.097398                     --> 0.082353).  Saving model ...\n",
      "running epoch: 23\n"
     ]
    },
    {
     "data": {
      "application/vnd.jupyter.widget-view+json": {
       "model_id": "1807a7134b3d4aca9f326c7c9dad258c",
       "version_major": 2,
       "version_minor": 0
      },
      "text/plain": [
       "  0%|          | 0/375 [00:00<?, ?it/s]"
      ]
     },
     "metadata": {},
     "output_type": "display_data"
    },
    {
     "data": {
      "application/vnd.jupyter.widget-view+json": {
       "model_id": "30b260bc4a4146b2b7181ba456c4130f",
       "version_major": 2,
       "version_minor": 0
      },
      "text/plain": [
       "  0%|          | 0/94 [00:00<?, ?it/s]"
      ]
     },
     "metadata": {},
     "output_type": "display_data"
    },
    {
     "name": "stdout",
     "output_type": "stream",
     "text": [
      "Train loss     -> 0.045735                      Validation loss     -> 0.092792\n",
      "Train top1 acc -> 0.989658                      Validation top1 acc -> 0.971314\n",
      "running epoch: 24\n"
     ]
    },
    {
     "data": {
      "application/vnd.jupyter.widget-view+json": {
       "model_id": "9698c9fa735d4b0490fd61260c7e09fc",
       "version_major": 2,
       "version_minor": 0
      },
      "text/plain": [
       "  0%|          | 0/375 [00:00<?, ?it/s]"
      ]
     },
     "metadata": {},
     "output_type": "display_data"
    },
    {
     "data": {
      "application/vnd.jupyter.widget-view+json": {
       "model_id": "e4ef49823a9d4f41bf4efa9b548453df",
       "version_major": 2,
       "version_minor": 0
      },
      "text/plain": [
       "  0%|          | 0/94 [00:00<?, ?it/s]"
      ]
     },
     "metadata": {},
     "output_type": "display_data"
    },
    {
     "name": "stdout",
     "output_type": "stream",
     "text": [
      "Train loss     -> 0.053309                      Validation loss     -> 0.079434\n",
      "Train top1 acc -> 0.985154                      Validation top1 acc -> 0.978652\n",
      "Validation loss decreased (0.082353                     --> 0.079434).  Saving model ...\n",
      "running epoch: 25\n"
     ]
    },
    {
     "data": {
      "application/vnd.jupyter.widget-view+json": {
       "model_id": "457588eddc3c47c6aa0c8441db1c74cc",
       "version_major": 2,
       "version_minor": 0
      },
      "text/plain": [
       "  0%|          | 0/375 [00:00<?, ?it/s]"
      ]
     },
     "metadata": {},
     "output_type": "display_data"
    },
    {
     "data": {
      "application/vnd.jupyter.widget-view+json": {
       "model_id": "e4c90e6eb0b348448e5e2e39169b5256",
       "version_major": 2,
       "version_minor": 0
      },
      "text/plain": [
       "  0%|          | 0/94 [00:00<?, ?it/s]"
      ]
     },
     "metadata": {},
     "output_type": "display_data"
    },
    {
     "name": "stdout",
     "output_type": "stream",
     "text": [
      "Train loss     -> 0.042532                      Validation loss     -> 0.081907\n",
      "Train top1 acc -> 0.989158                      Validation top1 acc -> 0.977318\n",
      "running epoch: 26\n"
     ]
    },
    {
     "data": {
      "application/vnd.jupyter.widget-view+json": {
       "model_id": "a327e44d7a9a4b8eb25ccd1fd0a2ce16",
       "version_major": 2,
       "version_minor": 0
      },
      "text/plain": [
       "  0%|          | 0/375 [00:00<?, ?it/s]"
      ]
     },
     "metadata": {},
     "output_type": "display_data"
    },
    {
     "data": {
      "application/vnd.jupyter.widget-view+json": {
       "model_id": "3d0831ab675046779d0b7a6cb76bece5",
       "version_major": 2,
       "version_minor": 0
      },
      "text/plain": [
       "  0%|          | 0/94 [00:00<?, ?it/s]"
      ]
     },
     "metadata": {},
     "output_type": "display_data"
    },
    {
     "name": "stdout",
     "output_type": "stream",
     "text": [
      "Train loss     -> 0.038756                      Validation loss     -> 0.079851\n",
      "Train top1 acc -> 0.989158                      Validation top1 acc -> 0.976651\n",
      "running epoch: 27\n"
     ]
    },
    {
     "data": {
      "application/vnd.jupyter.widget-view+json": {
       "model_id": "9d7919715c494e96ba15b9db9c6fd24a",
       "version_major": 2,
       "version_minor": 0
      },
      "text/plain": [
       "  0%|          | 0/375 [00:00<?, ?it/s]"
      ]
     },
     "metadata": {},
     "output_type": "display_data"
    },
    {
     "data": {
      "application/vnd.jupyter.widget-view+json": {
       "model_id": "e9093167ca624dca9dcc1a7b8bf6cf72",
       "version_major": 2,
       "version_minor": 0
      },
      "text/plain": [
       "  0%|          | 0/94 [00:00<?, ?it/s]"
      ]
     },
     "metadata": {},
     "output_type": "display_data"
    },
    {
     "name": "stdout",
     "output_type": "stream",
     "text": [
      "Train loss     -> 0.039451                      Validation loss     -> 0.076850\n",
      "Train top1 acc -> 0.989491                      Validation top1 acc -> 0.977985\n",
      "Validation loss decreased (0.079434                     --> 0.076850).  Saving model ...\n",
      "running epoch: 28\n"
     ]
    },
    {
     "data": {
      "application/vnd.jupyter.widget-view+json": {
       "model_id": "7b9f877d44444fc9920903ad6c08f01a",
       "version_major": 2,
       "version_minor": 0
      },
      "text/plain": [
       "  0%|          | 0/375 [00:00<?, ?it/s]"
      ]
     },
     "metadata": {},
     "output_type": "display_data"
    },
    {
     "data": {
      "application/vnd.jupyter.widget-view+json": {
       "model_id": "288980ecde4b40a19a23d7a2bdc244b2",
       "version_major": 2,
       "version_minor": 0
      },
      "text/plain": [
       "  0%|          | 0/94 [00:00<?, ?it/s]"
      ]
     },
     "metadata": {},
     "output_type": "display_data"
    },
    {
     "name": "stdout",
     "output_type": "stream",
     "text": [
      "Train loss     -> 0.036942                      Validation loss     -> 0.077953\n",
      "Train top1 acc -> 0.990325                      Validation top1 acc -> 0.979320\n",
      "running epoch: 29\n"
     ]
    },
    {
     "data": {
      "application/vnd.jupyter.widget-view+json": {
       "model_id": "61d7e7c04eba41c7b0d6fc37cc4d552d",
       "version_major": 2,
       "version_minor": 0
      },
      "text/plain": [
       "  0%|          | 0/375 [00:00<?, ?it/s]"
      ]
     },
     "metadata": {},
     "output_type": "display_data"
    },
    {
     "data": {
      "application/vnd.jupyter.widget-view+json": {
       "model_id": "3dba6065e02345598d071ad1368185af",
       "version_major": 2,
       "version_minor": 0
      },
      "text/plain": [
       "  0%|          | 0/94 [00:00<?, ?it/s]"
      ]
     },
     "metadata": {},
     "output_type": "display_data"
    },
    {
     "name": "stdout",
     "output_type": "stream",
     "text": [
      "Train loss     -> 0.034548                      Validation loss     -> 0.074421\n",
      "Train top1 acc -> 0.992160                      Validation top1 acc -> 0.981321\n",
      "Validation loss decreased (0.076850                     --> 0.074421).  Saving model ...\n",
      "running epoch: 30\n"
     ]
    },
    {
     "data": {
      "application/vnd.jupyter.widget-view+json": {
       "model_id": "ff6a708aac0e4f16bf2be8f02a9ba91a",
       "version_major": 2,
       "version_minor": 0
      },
      "text/plain": [
       "  0%|          | 0/375 [00:00<?, ?it/s]"
      ]
     },
     "metadata": {},
     "output_type": "display_data"
    },
    {
     "data": {
      "application/vnd.jupyter.widget-view+json": {
       "model_id": "ffd99fd1bf8e49759ae6c31bb1a2927f",
       "version_major": 2,
       "version_minor": 0
      },
      "text/plain": [
       "  0%|          | 0/94 [00:00<?, ?it/s]"
      ]
     },
     "metadata": {},
     "output_type": "display_data"
    },
    {
     "name": "stdout",
     "output_type": "stream",
     "text": [
      "Train loss     -> 0.031432                      Validation loss     -> 0.078494\n",
      "Train top1 acc -> 0.992661                      Validation top1 acc -> 0.979320\n",
      "running epoch: 31\n"
     ]
    },
    {
     "data": {
      "application/vnd.jupyter.widget-view+json": {
       "model_id": "56905aecbb2545d288d8058af26a6158",
       "version_major": 2,
       "version_minor": 0
      },
      "text/plain": [
       "  0%|          | 0/375 [00:00<?, ?it/s]"
      ]
     },
     "metadata": {},
     "output_type": "display_data"
    },
    {
     "data": {
      "application/vnd.jupyter.widget-view+json": {
       "model_id": "da9dc5f0b5ec4af6a8bcd91ef036faeb",
       "version_major": 2,
       "version_minor": 0
      },
      "text/plain": [
       "  0%|          | 0/94 [00:00<?, ?it/s]"
      ]
     },
     "metadata": {},
     "output_type": "display_data"
    },
    {
     "name": "stdout",
     "output_type": "stream",
     "text": [
      "Train loss     -> 0.030167                      Validation loss     -> 0.086549\n",
      "Train top1 acc -> 0.992661                      Validation top1 acc -> 0.975984\n",
      "running epoch: 32\n"
     ]
    },
    {
     "data": {
      "application/vnd.jupyter.widget-view+json": {
       "model_id": "4a00687b441b464aa3d75f87553e7287",
       "version_major": 2,
       "version_minor": 0
      },
      "text/plain": [
       "  0%|          | 0/375 [00:00<?, ?it/s]"
      ]
     },
     "metadata": {},
     "output_type": "display_data"
    },
    {
     "data": {
      "application/vnd.jupyter.widget-view+json": {
       "model_id": "7c11618b0ee94bacaa0193998559bf8c",
       "version_major": 2,
       "version_minor": 0
      },
      "text/plain": [
       "  0%|          | 0/94 [00:00<?, ?it/s]"
      ]
     },
     "metadata": {},
     "output_type": "display_data"
    },
    {
     "name": "stdout",
     "output_type": "stream",
     "text": [
      "Train loss     -> 0.027497                      Validation loss     -> 0.076210\n",
      "Train top1 acc -> 0.993828                      Validation top1 acc -> 0.980654\n",
      "running epoch: 33\n"
     ]
    },
    {
     "data": {
      "application/vnd.jupyter.widget-view+json": {
       "model_id": "1f33ba43eb904746bc793eb3bef7318a",
       "version_major": 2,
       "version_minor": 0
      },
      "text/plain": [
       "  0%|          | 0/375 [00:00<?, ?it/s]"
      ]
     },
     "metadata": {},
     "output_type": "display_data"
    },
    {
     "data": {
      "application/vnd.jupyter.widget-view+json": {
       "model_id": "43f31b9a3a1e45b0ae525446bfd6b417",
       "version_major": 2,
       "version_minor": 0
      },
      "text/plain": [
       "  0%|          | 0/94 [00:00<?, ?it/s]"
      ]
     },
     "metadata": {},
     "output_type": "display_data"
    },
    {
     "name": "stdout",
     "output_type": "stream",
     "text": [
      "Train loss     -> 0.027434                      Validation loss     -> 0.064879\n",
      "Train top1 acc -> 0.992661                      Validation top1 acc -> 0.982655\n",
      "Validation loss decreased (0.074421                     --> 0.064879).  Saving model ...\n",
      "running epoch: 34\n"
     ]
    },
    {
     "data": {
      "application/vnd.jupyter.widget-view+json": {
       "model_id": "1d61148a18e04c03a7f29f03503e55a5",
       "version_major": 2,
       "version_minor": 0
      },
      "text/plain": [
       "  0%|          | 0/375 [00:00<?, ?it/s]"
      ]
     },
     "metadata": {},
     "output_type": "display_data"
    },
    {
     "data": {
      "application/vnd.jupyter.widget-view+json": {
       "model_id": "a7ad2240fc3843a88f2884c72d5006bb",
       "version_major": 2,
       "version_minor": 0
      },
      "text/plain": [
       "  0%|          | 0/94 [00:00<?, ?it/s]"
      ]
     },
     "metadata": {},
     "output_type": "display_data"
    },
    {
     "name": "stdout",
     "output_type": "stream",
     "text": [
      "Train loss     -> 0.024668                      Validation loss     -> 0.064070\n",
      "Train top1 acc -> 0.994162                      Validation top1 acc -> 0.981988\n",
      "Validation loss decreased (0.064879                     --> 0.064070).  Saving model ...\n",
      "running epoch: 35\n"
     ]
    },
    {
     "data": {
      "application/vnd.jupyter.widget-view+json": {
       "model_id": "c7a1ec134e314d11a1821e48214a5a6f",
       "version_major": 2,
       "version_minor": 0
      },
      "text/plain": [
       "  0%|          | 0/375 [00:00<?, ?it/s]"
      ]
     },
     "metadata": {},
     "output_type": "display_data"
    },
    {
     "data": {
      "application/vnd.jupyter.widget-view+json": {
       "model_id": "e0157c48b5864aa08a43f93e72f05550",
       "version_major": 2,
       "version_minor": 0
      },
      "text/plain": [
       "  0%|          | 0/94 [00:00<?, ?it/s]"
      ]
     },
     "metadata": {},
     "output_type": "display_data"
    },
    {
     "name": "stdout",
     "output_type": "stream",
     "text": [
      "Train loss     -> 0.025367                      Validation loss     -> 0.066204\n",
      "Train top1 acc -> 0.993995                      Validation top1 acc -> 0.981988\n",
      "running epoch: 36\n"
     ]
    },
    {
     "data": {
      "application/vnd.jupyter.widget-view+json": {
       "model_id": "47c25bbb02054d60a295fff87e471b12",
       "version_major": 2,
       "version_minor": 0
      },
      "text/plain": [
       "  0%|          | 0/375 [00:00<?, ?it/s]"
      ]
     },
     "metadata": {},
     "output_type": "display_data"
    },
    {
     "data": {
      "application/vnd.jupyter.widget-view+json": {
       "model_id": "ce985ee618ba47cbad69ae95f36d4704",
       "version_major": 2,
       "version_minor": 0
      },
      "text/plain": [
       "  0%|          | 0/94 [00:00<?, ?it/s]"
      ]
     },
     "metadata": {},
     "output_type": "display_data"
    },
    {
     "name": "stdout",
     "output_type": "stream",
     "text": [
      "Train loss     -> 0.024933                      Validation loss     -> 0.061190\n",
      "Train top1 acc -> 0.994162                      Validation top1 acc -> 0.981988\n",
      "Validation loss decreased (0.064070                     --> 0.061190).  Saving model ...\n",
      "running epoch: 37\n"
     ]
    },
    {
     "data": {
      "application/vnd.jupyter.widget-view+json": {
       "model_id": "fe0a53d7abb445568e07ed90531bcdee",
       "version_major": 2,
       "version_minor": 0
      },
      "text/plain": [
       "  0%|          | 0/375 [00:00<?, ?it/s]"
      ]
     },
     "metadata": {},
     "output_type": "display_data"
    },
    {
     "data": {
      "application/vnd.jupyter.widget-view+json": {
       "model_id": "7854fdc4520c4ea18a821f298a766807",
       "version_major": 2,
       "version_minor": 0
      },
      "text/plain": [
       "  0%|          | 0/94 [00:00<?, ?it/s]"
      ]
     },
     "metadata": {},
     "output_type": "display_data"
    },
    {
     "name": "stdout",
     "output_type": "stream",
     "text": [
      "Train loss     -> 0.021613                      Validation loss     -> 0.063926\n",
      "Train top1 acc -> 0.995329                      Validation top1 acc -> 0.985991\n",
      "running epoch: 38\n"
     ]
    },
    {
     "data": {
      "application/vnd.jupyter.widget-view+json": {
       "model_id": "8e775adfb9f749ef92696327fa877e58",
       "version_major": 2,
       "version_minor": 0
      },
      "text/plain": [
       "  0%|          | 0/375 [00:00<?, ?it/s]"
      ]
     },
     "metadata": {},
     "output_type": "display_data"
    },
    {
     "data": {
      "application/vnd.jupyter.widget-view+json": {
       "model_id": "e4b6e35503c04eeb92de19d5046e7865",
       "version_major": 2,
       "version_minor": 0
      },
      "text/plain": [
       "  0%|          | 0/94 [00:00<?, ?it/s]"
      ]
     },
     "metadata": {},
     "output_type": "display_data"
    },
    {
     "name": "stdout",
     "output_type": "stream",
     "text": [
      "Train loss     -> 0.022297                      Validation loss     -> 0.067973\n",
      "Train top1 acc -> 0.994495                      Validation top1 acc -> 0.983322\n",
      "running epoch: 39\n"
     ]
    },
    {
     "data": {
      "application/vnd.jupyter.widget-view+json": {
       "model_id": "df4cb7321a414c06a8c36bcb8a00c2c3",
       "version_major": 2,
       "version_minor": 0
      },
      "text/plain": [
       "  0%|          | 0/375 [00:00<?, ?it/s]"
      ]
     },
     "metadata": {},
     "output_type": "display_data"
    },
    {
     "data": {
      "application/vnd.jupyter.widget-view+json": {
       "model_id": "84bc1f74c04b4560b8d63eb77ded4ef3",
       "version_major": 2,
       "version_minor": 0
      },
      "text/plain": [
       "  0%|          | 0/94 [00:00<?, ?it/s]"
      ]
     },
     "metadata": {},
     "output_type": "display_data"
    },
    {
     "name": "stdout",
     "output_type": "stream",
     "text": [
      "Train loss     -> 0.019771                      Validation loss     -> 0.071838\n",
      "Train top1 acc -> 0.995663                      Validation top1 acc -> 0.981988\n",
      "running epoch: 40\n"
     ]
    },
    {
     "data": {
      "application/vnd.jupyter.widget-view+json": {
       "model_id": "3e817d40f53046c783a24de914d06db9",
       "version_major": 2,
       "version_minor": 0
      },
      "text/plain": [
       "  0%|          | 0/375 [00:00<?, ?it/s]"
      ]
     },
     "metadata": {},
     "output_type": "display_data"
    },
    {
     "data": {
      "application/vnd.jupyter.widget-view+json": {
       "model_id": "6486100a320a43df9b67435d8caa98e6",
       "version_major": 2,
       "version_minor": 0
      },
      "text/plain": [
       "  0%|          | 0/94 [00:00<?, ?it/s]"
      ]
     },
     "metadata": {},
     "output_type": "display_data"
    },
    {
     "name": "stdout",
     "output_type": "stream",
     "text": [
      "Train loss     -> 0.019385                      Validation loss     -> 0.063505\n",
      "Train top1 acc -> 0.996163                      Validation top1 acc -> 0.983322\n",
      "running epoch: 41\n"
     ]
    },
    {
     "data": {
      "application/vnd.jupyter.widget-view+json": {
       "model_id": "d1feb0d2c6124b5fb163b87f1c3675bf",
       "version_major": 2,
       "version_minor": 0
      },
      "text/plain": [
       "  0%|          | 0/375 [00:00<?, ?it/s]"
      ]
     },
     "metadata": {},
     "output_type": "display_data"
    },
    {
     "data": {
      "application/vnd.jupyter.widget-view+json": {
       "model_id": "93915ace0667458391214617f8c44561",
       "version_major": 2,
       "version_minor": 0
      },
      "text/plain": [
       "  0%|          | 0/94 [00:00<?, ?it/s]"
      ]
     },
     "metadata": {},
     "output_type": "display_data"
    },
    {
     "name": "stdout",
     "output_type": "stream",
     "text": [
      "Train loss     -> 0.019052                      Validation loss     -> 0.063417\n",
      "Train top1 acc -> 0.996163                      Validation top1 acc -> 0.983322\n",
      "running epoch: 42\n"
     ]
    },
    {
     "data": {
      "application/vnd.jupyter.widget-view+json": {
       "model_id": "a2ab18eaced7442e874c6ce1b7352759",
       "version_major": 2,
       "version_minor": 0
      },
      "text/plain": [
       "  0%|          | 0/375 [00:00<?, ?it/s]"
      ]
     },
     "metadata": {},
     "output_type": "display_data"
    },
    {
     "data": {
      "application/vnd.jupyter.widget-view+json": {
       "model_id": "5b6b89ff127c43a198191c8d6624b7b2",
       "version_major": 2,
       "version_minor": 0
      },
      "text/plain": [
       "  0%|          | 0/94 [00:00<?, ?it/s]"
      ]
     },
     "metadata": {},
     "output_type": "display_data"
    },
    {
     "name": "stdout",
     "output_type": "stream",
     "text": [
      "Train loss     -> 0.017211                      Validation loss     -> 0.066540\n",
      "Train top1 acc -> 0.995997                      Validation top1 acc -> 0.981988\n",
      "running epoch: 43\n"
     ]
    },
    {
     "data": {
      "application/vnd.jupyter.widget-view+json": {
       "model_id": "a845616d22a64752a42c1f3c1257724a",
       "version_major": 2,
       "version_minor": 0
      },
      "text/plain": [
       "  0%|          | 0/375 [00:00<?, ?it/s]"
      ]
     },
     "metadata": {},
     "output_type": "display_data"
    },
    {
     "data": {
      "application/vnd.jupyter.widget-view+json": {
       "model_id": "0020e18ba48c4d2eb8650edf87777094",
       "version_major": 2,
       "version_minor": 0
      },
      "text/plain": [
       "  0%|          | 0/94 [00:00<?, ?it/s]"
      ]
     },
     "metadata": {},
     "output_type": "display_data"
    },
    {
     "name": "stdout",
     "output_type": "stream",
     "text": [
      "Train loss     -> 0.018080                      Validation loss     -> 0.062973\n",
      "Train top1 acc -> 0.995329                      Validation top1 acc -> 0.983322\n",
      "running epoch: 44\n"
     ]
    },
    {
     "data": {
      "application/vnd.jupyter.widget-view+json": {
       "model_id": "e68932c66f7a480d908ff3006f095ab1",
       "version_major": 2,
       "version_minor": 0
      },
      "text/plain": [
       "  0%|          | 0/375 [00:00<?, ?it/s]"
      ]
     },
     "metadata": {},
     "output_type": "display_data"
    },
    {
     "data": {
      "application/vnd.jupyter.widget-view+json": {
       "model_id": "81a4258a28b541bb9b62001920dee51b",
       "version_major": 2,
       "version_minor": 0
      },
      "text/plain": [
       "  0%|          | 0/94 [00:00<?, ?it/s]"
      ]
     },
     "metadata": {},
     "output_type": "display_data"
    },
    {
     "name": "stdout",
     "output_type": "stream",
     "text": [
      "Train loss     -> 0.018914                      Validation loss     -> 0.061009\n",
      "Train top1 acc -> 0.995329                      Validation top1 acc -> 0.984656\n",
      "Validation loss decreased (0.061190                     --> 0.061009).  Saving model ...\n",
      "running epoch: 45\n"
     ]
    },
    {
     "data": {
      "application/vnd.jupyter.widget-view+json": {
       "model_id": "7b7223efea874ca7bad80ef50c86899c",
       "version_major": 2,
       "version_minor": 0
      },
      "text/plain": [
       "  0%|          | 0/375 [00:00<?, ?it/s]"
      ]
     },
     "metadata": {},
     "output_type": "display_data"
    },
    {
     "data": {
      "application/vnd.jupyter.widget-view+json": {
       "model_id": "6ec8c1b076134236b9c33fb52f36872a",
       "version_major": 2,
       "version_minor": 0
      },
      "text/plain": [
       "  0%|          | 0/94 [00:00<?, ?it/s]"
      ]
     },
     "metadata": {},
     "output_type": "display_data"
    },
    {
     "name": "stdout",
     "output_type": "stream",
     "text": [
      "Train loss     -> 0.018120                      Validation loss     -> 0.074860\n",
      "Train top1 acc -> 0.995496                      Validation top1 acc -> 0.981321\n",
      "running epoch: 46\n"
     ]
    },
    {
     "data": {
      "application/vnd.jupyter.widget-view+json": {
       "model_id": "f2081ca5b6a9405e9cd407cc31766845",
       "version_major": 2,
       "version_minor": 0
      },
      "text/plain": [
       "  0%|          | 0/375 [00:00<?, ?it/s]"
      ]
     },
     "metadata": {},
     "output_type": "display_data"
    },
    {
     "data": {
      "application/vnd.jupyter.widget-view+json": {
       "model_id": "02dbc90a2c6145d68618fbd5de4c4c88",
       "version_major": 2,
       "version_minor": 0
      },
      "text/plain": [
       "  0%|          | 0/94 [00:00<?, ?it/s]"
      ]
     },
     "metadata": {},
     "output_type": "display_data"
    },
    {
     "name": "stdout",
     "output_type": "stream",
     "text": [
      "Train loss     -> 0.013966                      Validation loss     -> 0.055920\n",
      "Train top1 acc -> 0.997665                      Validation top1 acc -> 0.985324\n",
      "Validation loss decreased (0.061009                     --> 0.055920).  Saving model ...\n",
      "running epoch: 47\n"
     ]
    },
    {
     "data": {
      "application/vnd.jupyter.widget-view+json": {
       "model_id": "456c78ccc3f24404a4d998bade48b133",
       "version_major": 2,
       "version_minor": 0
      },
      "text/plain": [
       "  0%|          | 0/375 [00:00<?, ?it/s]"
      ]
     },
     "metadata": {},
     "output_type": "display_data"
    },
    {
     "data": {
      "application/vnd.jupyter.widget-view+json": {
       "model_id": "871a11d508914800b41166e4d8165560",
       "version_major": 2,
       "version_minor": 0
      },
      "text/plain": [
       "  0%|          | 0/94 [00:00<?, ?it/s]"
      ]
     },
     "metadata": {},
     "output_type": "display_data"
    },
    {
     "name": "stdout",
     "output_type": "stream",
     "text": [
      "Train loss     -> 0.012891                      Validation loss     -> 0.059273\n",
      "Train top1 acc -> 0.997331                      Validation top1 acc -> 0.984656\n",
      "running epoch: 48\n"
     ]
    },
    {
     "data": {
      "application/vnd.jupyter.widget-view+json": {
       "model_id": "3abf241f87b74b0488832cf642696898",
       "version_major": 2,
       "version_minor": 0
      },
      "text/plain": [
       "  0%|          | 0/375 [00:00<?, ?it/s]"
      ]
     },
     "metadata": {},
     "output_type": "display_data"
    },
    {
     "data": {
      "application/vnd.jupyter.widget-view+json": {
       "model_id": "b318c0730018411ba9f127391de2dcb9",
       "version_major": 2,
       "version_minor": 0
      },
      "text/plain": [
       "  0%|          | 0/94 [00:00<?, ?it/s]"
      ]
     },
     "metadata": {},
     "output_type": "display_data"
    },
    {
     "name": "stdout",
     "output_type": "stream",
     "text": [
      "Train loss     -> 0.012969                      Validation loss     -> 0.058909\n",
      "Train top1 acc -> 0.997998                      Validation top1 acc -> 0.985991\n",
      "running epoch: 49\n"
     ]
    },
    {
     "data": {
      "application/vnd.jupyter.widget-view+json": {
       "model_id": "fe0ecefb0c054eabbf7b5585dd1c0c7d",
       "version_major": 2,
       "version_minor": 0
      },
      "text/plain": [
       "  0%|          | 0/375 [00:00<?, ?it/s]"
      ]
     },
     "metadata": {},
     "output_type": "display_data"
    },
    {
     "data": {
      "application/vnd.jupyter.widget-view+json": {
       "model_id": "9dc9b4269ed041e8acea78d1bb2a2b47",
       "version_major": 2,
       "version_minor": 0
      },
      "text/plain": [
       "  0%|          | 0/94 [00:00<?, ?it/s]"
      ]
     },
     "metadata": {},
     "output_type": "display_data"
    },
    {
     "name": "stdout",
     "output_type": "stream",
     "text": [
      "Train loss     -> 0.018537                      Validation loss     -> 0.064240\n",
      "Train top1 acc -> 0.995997                      Validation top1 acc -> 0.985991\n",
      "running epoch: 50\n"
     ]
    },
    {
     "data": {
      "application/vnd.jupyter.widget-view+json": {
       "model_id": "6b2a0eb0f99e4bbc9fb99fe366214937",
       "version_major": 2,
       "version_minor": 0
      },
      "text/plain": [
       "  0%|          | 0/375 [00:00<?, ?it/s]"
      ]
     },
     "metadata": {},
     "output_type": "display_data"
    },
    {
     "data": {
      "application/vnd.jupyter.widget-view+json": {
       "model_id": "d02369b0072248e3a141952c2cb1930c",
       "version_major": 2,
       "version_minor": 0
      },
      "text/plain": [
       "  0%|          | 0/94 [00:00<?, ?it/s]"
      ]
     },
     "metadata": {},
     "output_type": "display_data"
    },
    {
     "name": "stdout",
     "output_type": "stream",
     "text": [
      "Train loss     -> 0.012926                      Validation loss     -> 0.062215\n",
      "Train top1 acc -> 0.996997                      Validation top1 acc -> 0.985991\n"
     ]
    }
   ],
   "source": [
    "ckpt = train(ckpt, save_dir, model, dataloaders, optimizer, lr_scheduler=lr_scheduler, num_epochs=50, device=device)"
   ]
  },
  {
   "cell_type": "code",
   "execution_count": 10,
   "metadata": {},
   "outputs": [
    {
     "data": {
      "text/plain": [
       "<All keys matched successfully>"
      ]
     },
     "execution_count": 10,
     "metadata": {},
     "output_type": "execute_result"
    }
   ],
   "source": [
    "ckpt = torch.load(str(Path(fr\"./runs/exp4\") / Path('valid_best.pth')))\n",
    "model.load_state_dict(ckpt['model_state_dict'])"
   ]
  },
  {
   "cell_type": "code",
   "execution_count": 18,
   "metadata": {},
   "outputs": [
    {
     "data": {
      "text/plain": [
       "Text(0, 0.5, 'acc')"
      ]
     },
     "execution_count": 18,
     "metadata": {},
     "output_type": "execute_result"
    },
    {
     "data": {
      "image/png": "[encoded data removed]",
      "text/plain": [
       "<Figure size 640x480 with 1 Axes>"
      ]
     },
     "metadata": {},
     "output_type": "display_data"
    }
   ],
   "source": [
    "# 畫圖，只會畫前十個\n",
    "# n = len(ckpt['history']['train_top1_accuracy'])\n",
    "n = 10\n",
    "epochs = range(1, n + 1)\n",
    "plt.plot(epochs, ckpt['history']['train_top1_accuracy'][:n],label='train')\n",
    "plt.plot(epochs, ckpt['history']['valid_top1_accuracy'][:n],label='valid')\n",
    "# plt.xlim(50,)\n",
    "# plt.ylim(0,0.1)\n",
    "plt.legend()\n",
    "plt.title('mobilenet v2 top 1 accuracy')\n",
    "plt.xlabel('epoch')\n",
    "plt.ylabel('acc')\n"
   ]
  },
  {
   "cell_type": "code",
   "execution_count": 23,
   "metadata": {},
   "outputs": [],
   "source": [
    "import os\n",
    "import pandas as pd\n",
    "import torch\n",
    "from torchvision.transforms import ToTensor\n",
    "from PIL import Image\n",
    "\n",
    "def predict_and_save(model, folder_path, output_csv):\n",
    "    # 創建一個將 PIL 圖片轉換為張量的轉換器\n",
    "    transform = ToTensor()\n",
    "    # 創建一個空的列表來保存結果\n",
    "    results = []\n",
    "\n",
    "    # 遍歷指定目錄下的所有文件\n",
    "    for filename in os.listdir(folder_path):\n",
    "        # 如果文件是 PNG 圖片\n",
    "        if filename.endswith(\".png\"): \n",
    "            # 獲取圖片的完整路徑\n",
    "            image_path = os.path.join(folder_path, filename)\n",
    "            # 打開並將圖片轉換為 RGB\n",
    "            image = Image.open(image_path).convert('RGB')\n",
    "            # 將圖片轉換為張量並增加一個維度以匹配模型的輸入\n",
    "            image_tensor = transform(image).unsqueeze(0)\n",
    "\n",
    "            # 如果 CUDA 可用，則將模型和圖片張量移至 GPU\n",
    "            if torch.cuda.is_available():  \n",
    "                model = model.cuda()\n",
    "                image_tensor = image_tensor.cuda()\n",
    "\n",
    "            # 將模型設為評估模式\n",
    "            model.eval()\n",
    "            # 不計算梯度，因為這是推論，不需要反向傳播\n",
    "            with torch.no_grad():\n",
    "                # 進行預測\n",
    "                prediction = model(image_tensor)\n",
    "                # 從預測結果中獲取最大概率類別的索引\n",
    "                category = prediction.argmax().item()\n",
    "                # 將文件名和預測類別添加到結果列表中\n",
    "                results.append((filename, category))\n",
    "\n",
    "    # 將結果列表轉換為 DataFrame\n",
    "    results_df = pd.DataFrame(results, columns=[\"filename\", \"category\"])\n",
    "    # 將結果 DataFrame 寫入 CSV 文件\n",
    "    results_df.to_csv(output_csv, index=False)\n",
    "\n",
    "\n",
    "# 使用方法\n",
    "predict_and_save(model, \"data/music_test\", \"output.csv\")\n"
   ]
  },
  {
   "cell_type": "code",
   "execution_count": 11,
   "metadata": {},
   "outputs": [],
   "source": [
    "import pandas as pd\n",
    "import torch\n",
    "from torch.utils.data import DataLoader\n",
    "\n",
    "class TestDataset(Dataset):\n",
    "    def __init__(self):\n",
    "        self.data = pd.read_csv('data/test_in.csv')  # 從csv文件中讀取數據\n",
    "        self.reshaped_data = torch.from_numpy(self.data.drop(['Serial No.'], axis=1).values.reshape(-1, 8, 2)).to(torch.float32)\n",
    "\n",
    "    def __len__(self):\n",
    "        return len(self.data)  # 返回數據集的大小\n",
    "\n",
    "    def __getitem__(self, idx):\n",
    "        data = self.reshaped_data[idx]\n",
    "        serial_no = self.data.iloc[idx, 0]  # 讀取 Serial No.\n",
    "        return data, serial_no\n",
    "\n",
    "# 建立測試資料集與 DataLoader\n",
    "test_dataset = TestDataset()\n",
    "test_dataloader = DataLoader(test_dataset, batch_size=1, shuffle=False)\n",
    "\n",
    "model.eval()  # 將模型設為評估模式\n",
    "result = []  # 用來儲存結果的list\n",
    "\n",
    "with torch.no_grad():  # 不需要計算梯度，可以節省記憶體\n",
    "    for data, serial_no in test_dataloader:\n",
    "        outputs = model(data)\n",
    "        _, predicted = torch.max(outputs.data, 1)  # 預測出最大機率的類別\n",
    "        result.append([serial_no.item(), predicted.item()])  # 將 Serial No. 與預測的類別加入 result list\n",
    "\n",
    "# 將結果寫入 csv 文件\n",
    "result_df = pd.DataFrame(result, columns=['Serial No.', 'Label'])\n",
    "result_df.to_csv('runs/exp4/result.csv', index=False)\n"
   ]
  },
  {
   "cell_type": "code",
   "execution_count": 22,
   "metadata": {},
   "outputs": [
    {
     "data": {
      "text/html": [
       "<div>\n",
       "<style scoped>\n",
       "    .dataframe tbody tr th:only-of-type {\n",
       "        vertical-align: middle;\n",
       "    }\n",
       "\n",
       "    .dataframe tbody tr th {\n",
       "        vertical-align: top;\n",
       "    }\n",
       "\n",
       "    .dataframe thead th {\n",
       "        text-align: right;\n",
       "    }\n",
       "</style>\n",
       "<table border=\"1\" class=\"dataframe\">\n",
       "  <thead>\n",
       "    <tr style=\"text-align: right;\">\n",
       "      <th></th>\n",
       "      <th>Serial No.</th>\n",
       "      <th>Label_df1</th>\n",
       "      <th>Label_df2</th>\n",
       "    </tr>\n",
       "  </thead>\n",
       "  <tbody>\n",
       "    <tr>\n",
       "      <th>52</th>\n",
       "      <td>53</td>\n",
       "      <td>5</td>\n",
       "      <td>9</td>\n",
       "    </tr>\n",
       "    <tr>\n",
       "      <th>130</th>\n",
       "      <td>131</td>\n",
       "      <td>6</td>\n",
       "      <td>4</td>\n",
       "    </tr>\n",
       "    <tr>\n",
       "      <th>135</th>\n",
       "      <td>136</td>\n",
       "      <td>1</td>\n",
       "      <td>7</td>\n",
       "    </tr>\n",
       "    <tr>\n",
       "      <th>167</th>\n",
       "      <td>168</td>\n",
       "      <td>1</td>\n",
       "      <td>3</td>\n",
       "    </tr>\n",
       "    <tr>\n",
       "      <th>191</th>\n",
       "      <td>192</td>\n",
       "      <td>9</td>\n",
       "      <td>5</td>\n",
       "    </tr>\n",
       "    <tr>\n",
       "      <th>...</th>\n",
       "      <td>...</td>\n",
       "      <td>...</td>\n",
       "      <td>...</td>\n",
       "    </tr>\n",
       "    <tr>\n",
       "      <th>3344</th>\n",
       "      <td>3345</td>\n",
       "      <td>3</td>\n",
       "      <td>9</td>\n",
       "    </tr>\n",
       "    <tr>\n",
       "      <th>3352</th>\n",
       "      <td>3353</td>\n",
       "      <td>1</td>\n",
       "      <td>7</td>\n",
       "    </tr>\n",
       "    <tr>\n",
       "      <th>3353</th>\n",
       "      <td>3354</td>\n",
       "      <td>9</td>\n",
       "      <td>3</td>\n",
       "    </tr>\n",
       "    <tr>\n",
       "      <th>3368</th>\n",
       "      <td>3369</td>\n",
       "      <td>1</td>\n",
       "      <td>5</td>\n",
       "    </tr>\n",
       "    <tr>\n",
       "      <th>3489</th>\n",
       "      <td>3490</td>\n",
       "      <td>3</td>\n",
       "      <td>7</td>\n",
       "    </tr>\n",
       "  </tbody>\n",
       "</table>\n",
       "<p>116 rows × 3 columns</p>\n",
       "</div>"
      ],
      "text/plain": [
       "      Serial No.  Label_df1  Label_df2\n",
       "52            53          5          9\n",
       "130          131          6          4\n",
       "135          136          1          7\n",
       "167          168          1          3\n",
       "191          192          9          5\n",
       "...          ...        ...        ...\n",
       "3344        3345          3          9\n",
       "3352        3353          1          7\n",
       "3353        3354          9          3\n",
       "3368        3369          1          5\n",
       "3489        3490          3          7\n",
       "\n",
       "[116 rows x 3 columns]"
      ]
     },
     "execution_count": 22,
     "metadata": {},
     "output_type": "execute_result"
    }
   ],
   "source": [
    "import pandas as pd\n",
    "\n",
    "# 讀取兩個csv檔\n",
    "df1 = pd.read_csv('data/result.csv')\n",
    "df2 = pd.read_csv('runs/exp4/result.csv')\n",
    "\n",
    "# 依照ID欄位合併兩個資料表\n",
    "df = df1.merge(df2, on='Serial No.', suffixes=('_df1', '_df2'))\n",
    "# print(df)\n",
    "# 找出兩者欄位內容不同的地方\n",
    "differences = df.compare(other=df)\n",
    "\n",
    "column = 'Label'\n",
    "# 建立一個空的 DataFrame 來儲存不同的欄位\n",
    "df_diff = pd.DataFrame()\n",
    "df_diff[column] = df[column + '_df1'] != df[column + '_df2']\n",
    "\n",
    "# 列出所有存在不同的行\n",
    "df[df_diff.any(axis=1)]"
   ]
  },
  {
   "cell_type": "code",
   "execution_count": 50,
   "metadata": {},
   "outputs": [
    {
     "name": "stdout",
     "output_type": "stream",
     "text": [
      "[[ 88  92]\n",
      " [  2  99]\n",
      " [ 16  66]\n",
      " [ 94  37]\n",
      " [ 70   0]\n",
      " [  0  24]\n",
      " [ 42  65]\n",
      " [100 100]]\n"
     ]
    }
   ],
   "source": [
    "data = pd.read_csv('data/test_in.csv')  # 從csv文件中讀取數據\n",
    "reshaped_data = data.drop(['Serial No.'], axis=1).values.reshape(-1, 8, 2)\n",
    "print(reshaped_data[0])"
   ]
  },
  {
   "cell_type": "code",
   "execution_count": 53,
   "metadata": {},
   "outputs": [
    {
     "data": {
      "image/png": "[encoded data removed]",
      "text/plain": [
       "<Figure size 640x480 with 1 Axes>"
      ]
     },
     "metadata": {},
     "output_type": "display_data"
    }
   ],
   "source": [
    "import matplotlib.pyplot as plt\n",
    "\n",
    "# 假設你有8個座標點，每個點都有x和y兩個座標\n",
    "points = reshaped_data[53]\n",
    "\n",
    "# 分解為x座標和y座標\n",
    "x = [point[0] for point in points]\n",
    "y = [point[1] for point in points]\n",
    "\n",
    "# 繪製座標點\n",
    "plt.scatter(x, y, s=300)\n",
    "\n",
    "# 繪製連接座標點的線\n",
    "plt.plot(x, y, color='red', linewidth=3)\n",
    "\n",
    "# 設定x軸和y軸的範圍\n",
    "plt.xlim(0, 100)\n",
    "plt.ylim(0, 100)\n",
    "\n",
    "# 顯示圖表\n",
    "plt.show()\n"
   ]
  },
  {
   "cell_type": "code",
   "execution_count": null,
   "metadata": {},
   "outputs": [],
   "source": []
  }
 ],
 "metadata": {
  "kernelspec": {
   "display_name": "base",
   "language": "python",
   "name": "python3"
  },
  "language_info": {
   "codemirror_mode": {
    "name": "ipython",
    "version": 3
   },
   "file_extension": ".py",
   "mimetype": "text/x-python",
   "name": "python",
   "nbconvert_exporter": "python",
   "pygments_lexer": "ipython3",
   "version": "3.9.16"
  },
  "orig_nbformat": 4
 },
 "nbformat": 4,
 "nbformat_minor": 2
}
