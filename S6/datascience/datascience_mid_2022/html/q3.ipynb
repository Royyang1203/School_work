{
 "cells": [
  {
   "attachments": {},
   "cell_type": "markdown",
   "metadata": {},
   "source": [
    "English:\n",
    "\n",
    "Please upload the results as a Zip archive using the \"link\" function in the answer area.\n",
    "\n",
    "Template & resource pack\n",
    "\n",
    "　　Please using the attached template and resource pack, design a multi-page website that introduces the three domains (Python, Numpy, and Pandas) introduced so far in the Data Science course, one page for each domain. The requirements for the pages are as follows:\n",
    "\n",
    "　　1. 　The NDHU logo must be in the top left corner of the page, click on the logo to link to the NDHU website.\n",
    "\n",
    "　　2. 　The navigation bar in the upper right corner of the page must be linked to each page (Python is the default home page).\n",
    "\n",
    "　　3. 　An h6 heading for \"Data Science\" and an h2 heading for the domain's name.\n",
    "\n",
    "　　4. 　Please include the text of the field description and a picture of the field logo, line breaks for the field description should follow the pattern in the txt file.\n",
    "\n",
    "　　5. 　The footer should have a CSIE logo in the center of the footer, click on the logo to link to the CSIE website.\n",
    "\n",
    "　　6. 　Student number, department, and name should be added on the right side of the footer.\n",
    "\n",
    "Note: The required images and text are already in the res folder in the zip file, please use them yourself.\n",
    "\n",
    "Example screenshot：\n",
    "\n",
    "<img src=\"HTML.png\">"
   ]
  },
  {
   "attachments": {},
   "cell_type": "markdown",
   "metadata": {},
   "source": [
    "中文：\n",
    "\n",
    "請將成果含各項資源打包成Zip壓縮檔以回答區「連結」功能上傳\n",
    "\n",
    "模板及資源包\n",
    "\n",
    "　　請利用附件模板以及資源包，設計一個多頁式網站，介紹資料科學導論課程到目前為止介紹過的Python、Numpy、Pandas三個領域，每個領域一頁。頁面中需具備的條件如下：\n",
    "\n",
    "　　1.　頁面左上角須為學校Logo，點擊Logo可以連至學校網站\n",
    "\n",
    "　　2.　頁面右上角導航列須可以連結到各頁面(Python為預設首頁)\n",
    "\n",
    "　　3.　須具有一h6標題寫Data Science，另有一h2標題寫領域名稱\n",
    "\n",
    "　　4.　須附有領域介紹文字以及領域Logo圖片，文字請依照txt檔案中的樣式換行\n",
    "\n",
    "　　5.　footer中央需有東華資工Logo，點擊Logo可以連至東華資工的網站\n",
    "\n",
    "　　6.　footer右側需加上學號、系級、姓名\n",
    "\n",
    "注意：所需的圖片及文字都已經在壓縮檔中的res資料夾，請自行利用\n",
    "\n",
    "範例圖片：\n",
    "\n",
    "<img src=\"HTML.png\">"
   ]
  },
  {
   "cell_type": "code",
   "execution_count": null,
   "metadata": {
    "vscode": {
     "languageId": "plaintext"
    }
   },
   "outputs": [],
   "source": []
  }
 ],
 "metadata": {
  "language_info": {
   "name": "python"
  },
  "orig_nbformat": 4
 },
 "nbformat": 4,
 "nbformat_minor": 2
}
