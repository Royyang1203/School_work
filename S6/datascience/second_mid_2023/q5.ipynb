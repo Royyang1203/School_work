{
 "cells": [
  {
   "cell_type": "code",
   "execution_count": null,
   "metadata": {},
   "outputs": [],
   "source": [
    "English:\n",
    "\n",
    "Please use the Add code function to paste your source code and upload your image, you can also upload your .py file or .ipynb file. This question will be corrected by TA.\n",
    "\n",
    "Data site https://worldpopulationreview.com/countries/cities/malaysia\n",
    "\n",
    "The following file shows the number of city population in malaysia, from the data please use crawl and matplotlib to create:\n",
    "\n",
    "1. Develop data for high population city (more than 100000) and  low population city (below and than 100000). Use Dataframe to show the data on screen for 10 first data.\n",
    "\n",
    "2. According the data than create two charts. Use subplot function to form the two charts into a 2*1 total graph with the figure size (20, 25).\n",
    "\n",
    "3. The first chart show low population city using line style, the horizontal axis is the City and the vertical axis is the population. The second chart using horizontal bar style show high population city, the vertical axis is the City and the horizontal axis is the population. Every graph needs a title and the scale of each figure is not limited.\n",
    "\n",
    "4. Save the generated graphs and upload them to the file name [StuID]_mid-2Crawplot.jpg\n",
    "\n",
    "Sample Output:\n",
    "\n",
    "\n",
    "\n",
    "中文：\n",
    "\n",
    "PIPLS 環境沒有 Matplotlib，請用 Add code功能貼上你的原始碼和上傳你的圖片，也可以上傳你的 .py檔或 .ipynb檔，助教會手動批改。 \n",
    "\n",
    "Data 網站\n",
    "\n",
    "上網站為馬來西亞各城市的人口數量，請使用爬蟲爬取網站中數據並用 matplotlib 來繪圖。\n",
    "\n",
    "1.  大於十萬人口數的為高人口城市，反之低於十萬的為低人口城市。將前 10 筆 data(城市名字及人口數量)用 Dataframe 印出。\n",
    "\n",
    "2.  將會有兩張子圖，請利用 subplot 函式將兩張子圖組成一 2*1 figsize 為 (20, 25) 的總圖。\n",
    "\n",
    "3.  第一張子圖顯示低人口城市的折線圖，橫軸為城市，縱軸為人口數；第二張圖顯示高人口城市的水平長條圖，橫軸為人口數，縱軸為城市，且每個圖皆要有標題。\n",
    "\n",
    "4.  將生成的圖儲存下來並上傳，檔名為[學號]_mid-2Crawplot.jpg"
   ]
  }
 ],
 "metadata": {
  "language_info": {
   "name": "python"
  },
  "orig_nbformat": 4
 },
 "nbformat": 4,
 "nbformat_minor": 2
}
