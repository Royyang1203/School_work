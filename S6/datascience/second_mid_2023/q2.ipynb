{
 "cells": [
  {
   "attachments": {},
   "cell_type": "markdown",
   "metadata": {},
   "source": [
    "English：\n",
    "\n",
    "Given a dataframe containing age, male percentage, and female percentage, write a Python program using pandas to calculate the population proportions of each age group (regardless of gender) for children, youth, adults, and seniors. The age classifications are as follows:\n",
    "\n",
    "data : US_Population_2021.csv\n",
    "\n",
    "* Children: 0-14 years old\n",
    "* Youth: 15-24 years old\n",
    "* Adults: 25-64 years old\n",
    "* Seniors: 65 years old and above\n",
    "\n",
    "sample output:\n",
    "(Round to 2 decimal places)\n",
    "\n",
    "<img src=\"img/q2.png\">\n",
    "\n",
    "Note : this output just example was not the real output\n",
    "\n",
    "中文：\n",
    "考題敘述：已知一個包含年齡、男性占比、女性占比的dataframe，請撰寫一個Python程式，使用pandas計算少年、青年、青壯年、老年各年齡段的人口比例（不分性別）。年齡分類如下：\n",
    "\n",
    "* 少年：0-14歲\n",
    "* 青年：15-24歲\n",
    "* 青壯年：25-64歲\n",
    "* 老年：65歲以上\n",
    "\n",
    "sample output:\n",
    "\n",
    "（四捨五入至小數後兩位）\n",
    "\n",
    "註：這個輸出只是一個示例，不是真實輸出。"
   ]
  },
  {
   "cell_type": "code",
   "execution_count": 39,
   "metadata": {},
   "outputs": [
    {
     "name": "stdout",
     "output_type": "stream",
     "text": [
      "Child population ratio (regardless of gender): 17.83\n",
      "Youth population ratio (regardless of gender): 13.3\n",
      "Adult population ratio (regardless of gender): 51.55\n",
      "Elderly population ratio (regardless of gender): 17.36\n"
     ]
    }
   ],
   "source": [
    "import pandas as pd\n",
    "\n",
    "df = pd.read_csv(\"US_Population_2022.csv\")\n",
    "\n",
    "df.iloc[-1, 0] = 100\n",
    "df['Age'] = df['Age'].astype(int)\n",
    "df[r'Male % of Population'] = df[r'Male % of Population'].str.rstrip('%').astype(float)\n",
    "df[r'Female % of Population'] = df[r'Female % of Population'].str.rstrip('%').astype(float)\n",
    "\n",
    "df['total_percentage'] = df[r'Male % of Population'] + df[r'Female % of Population']\n",
    "\n",
    "\n",
    "child_ratio = df.loc[(df['Age'] >= 0) & (df['Age'] <= 14), 'total_percentage'].sum()\n",
    "youth_ratio = df.loc[(df['Age'] >= 15) & (df['Age'] <= 24), 'total_percentage'].sum()\n",
    "adult_ratio = df.loc[(df['Age'] >= 25) & (df['Age'] <= 64), 'total_percentage'].sum()\n",
    "elderly_ratio = df.loc[df['Age'] >= 65, 'total_percentage'].sum()\n",
    "\n",
    "print(\"Child population ratio (regardless of gender):\", round(child_ratio, 2))\n",
    "print(\"Youth population ratio (regardless of gender):\", round(youth_ratio, 2))\n",
    "print(\"Adult population ratio (regardless of gender):\", round(adult_ratio, 2))\n",
    "print(\"Elderly population ratio (regardless of gender):\", round(elderly_ratio, 2))"
   ]
  },
  {
   "cell_type": "code",
   "execution_count": null,
   "metadata": {},
   "outputs": [],
   "source": []
  }
 ],
 "metadata": {
  "kernelspec": {
   "display_name": "base",
   "language": "python",
   "name": "python3"
  },
  "language_info": {
   "codemirror_mode": {
    "name": "ipython",
    "version": 3
   },
   "file_extension": ".py",
   "mimetype": "text/x-python",
   "name": "python",
   "nbconvert_exporter": "python",
   "pygments_lexer": "ipython3",
   "version": "3.9.16"
  },
  "orig_nbformat": 4
 },
 "nbformat": 4,
 "nbformat_minor": 2
}
