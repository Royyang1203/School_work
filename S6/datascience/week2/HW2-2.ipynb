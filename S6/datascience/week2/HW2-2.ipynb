{
 "cells": [
  {
   "cell_type": "code",
   "execution_count": 1,
   "metadata": {},
   "outputs": [
    {
     "name": "stdout",
     "output_type": "stream",
     "text": [
      "[0, 0, 0, 0, 0, 0, 0, 0, 0, 0]\n"
     ]
    }
   ],
   "source": [
    "res = [0 for x in range(10)]\n",
    "print(res)"
   ]
  },
  {
   "cell_type": "code",
   "execution_count": 6,
   "metadata": {},
   "outputs": [
    {
     "name": "stdout",
     "output_type": "stream",
     "text": [
      "0 1 0 0 0 0 0 0 0 0 \n",
      "1 2 1 1 1 1 1 1 1 1 \n",
      "11 21 20 20 20 20 20 20 20 20 \n"
     ]
    }
   ],
   "source": [
    "a = int(input())\n",
    "for i in range(a):\n",
    "    b = int(input())\n",
    "    res = [0 for x in range(10)]\n",
    "    c = ''\n",
    "    for j in range(1, b + 1):\n",
    "        c += str(j)\n",
    "    # print(c)\n",
    "    for i in c:\n",
    "        res[int(i)] += 1\n",
    "    for i in res:\n",
    "      print(i, end=' ')\n",
    "    print()"
   ]
  }
 ],
 "metadata": {
  "kernelspec": {
   "display_name": "base",
   "language": "python",
   "name": "python3"
  },
  "language_info": {
   "codemirror_mode": {
    "name": "ipython",
    "version": 3
   },
   "file_extension": ".py",
   "mimetype": "text/x-python",
   "name": "python",
   "nbconvert_exporter": "python",
   "pygments_lexer": "ipython3",
   "version": "3.9.12 (main, Apr  4 2022, 05:22:27) [MSC v.1916 64 bit (AMD64)]"
  },
  "orig_nbformat": 4,
  "vscode": {
   "interpreter": {
    "hash": "00f40881bfd9fac35ebb27334d1d6974eb10bf07dbdca39662739a73bc9960cf"
   }
  }
 },
 "nbformat": 4,
 "nbformat_minor": 2
}
